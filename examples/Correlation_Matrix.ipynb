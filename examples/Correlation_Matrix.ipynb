{
 "cells": [
  {
   "cell_type": "markdown",
   "metadata": {
    "papermill": {
     "duration": 0.012409,
     "end_time": "2020-08-20T00:37:50.155738",
     "exception": false,
     "start_time": "2020-08-20T00:37:50.143329",
     "status": "completed"
    },
    "tags": []
   },
   "source": [
    "# Correlation Matrix"
   ]
  },
  {
   "cell_type": "code",
   "execution_count": 1,
   "metadata": {
    "execution": {
     "iopub.execute_input": "2020-08-20T00:37:50.175022Z",
     "iopub.status.busy": "2020-08-20T00:37:50.174328Z",
     "iopub.status.idle": "2020-08-20T00:37:55.311006Z",
     "shell.execute_reply": "2020-08-20T00:37:55.311602Z"
    },
    "papermill": {
     "duration": 5.148487,
     "end_time": "2020-08-20T00:37:55.311798",
     "exception": false,
     "start_time": "2020-08-20T00:37:50.163311",
     "status": "completed"
    },
    "tags": []
   },
   "outputs": [],
   "source": [
    "import pandas as pd\n",
    "import data_describe as dd"
   ]
  },
  {
   "cell_type": "code",
   "execution_count": 2,
   "metadata": {
    "execution": {
     "iopub.execute_input": "2020-08-20T00:37:55.347421Z",
     "iopub.status.busy": "2020-08-20T00:37:55.346768Z",
     "iopub.status.idle": "2020-08-20T00:37:55.538209Z",
     "shell.execute_reply": "2020-08-20T00:37:55.538770Z"
    },
    "papermill": {
     "duration": 0.217003,
     "end_time": "2020-08-20T00:37:55.539030",
     "exception": false,
     "start_time": "2020-08-20T00:37:55.322027",
     "status": "completed"
    },
    "tags": []
   },
   "outputs": [],
   "source": [
    "from sklearn.datasets import load_boston\n",
    "data = load_boston()\n",
    "df = pd.DataFrame(data.data, columns=list(data.feature_names))\n",
    "df['target'] = data.target\n",
    "\n",
    "#Bin values\n",
    "df['AGE'] = df['AGE'].map(lambda x: \"young\" if x < 29 else \"old\")\n",
    "df['CRIM'] = df['CRIM'].map(lambda x: \"low\" if x < df.CRIM.median() else \"high\")\n",
    "#Convert to integer\n",
    "df['ZN'] = df['ZN'].astype(int)"
   ]
  },
  {
   "cell_type": "code",
   "execution_count": 3,
   "metadata": {
    "execution": {
     "iopub.execute_input": "2020-08-20T00:37:55.590558Z",
     "iopub.status.busy": "2020-08-20T00:37:55.588735Z",
     "iopub.status.idle": "2020-08-20T00:37:55.603006Z",
     "shell.execute_reply": "2020-08-20T00:37:55.603482Z"
    },
    "papermill": {
     "duration": 0.056286,
     "end_time": "2020-08-20T00:37:55.603637",
     "exception": false,
     "start_time": "2020-08-20T00:37:55.547351",
     "status": "completed"
    },
    "tags": []
   },
   "outputs": [
    {
     "data": {
      "text/html": [
       "<div>\n",
       "<style scoped>\n",
       "    .dataframe tbody tr th:only-of-type {\n",
       "        vertical-align: middle;\n",
       "    }\n",
       "\n",
       "    .dataframe tbody tr th {\n",
       "        vertical-align: top;\n",
       "    }\n",
       "\n",
       "    .dataframe thead th {\n",
       "        text-align: right;\n",
       "    }\n",
       "</style>\n",
       "<table border=\"1\" class=\"dataframe\">\n",
       "  <thead>\n",
       "    <tr style=\"text-align: right;\">\n",
       "      <th></th>\n",
       "      <th>CRIM</th>\n",
       "      <th>ZN</th>\n",
       "      <th>INDUS</th>\n",
       "      <th>CHAS</th>\n",
       "      <th>NOX</th>\n",
       "      <th>RM</th>\n",
       "      <th>AGE</th>\n",
       "      <th>DIS</th>\n",
       "      <th>RAD</th>\n",
       "      <th>TAX</th>\n",
       "      <th>PTRATIO</th>\n",
       "      <th>B</th>\n",
       "      <th>LSTAT</th>\n",
       "      <th>target</th>\n",
       "    </tr>\n",
       "  </thead>\n",
       "  <tbody>\n",
       "    <tr>\n",
       "      <th>0</th>\n",
       "      <td>low</td>\n",
       "      <td>18</td>\n",
       "      <td>2.31</td>\n",
       "      <td>0.0</td>\n",
       "      <td>0.538</td>\n",
       "      <td>6.575</td>\n",
       "      <td>old</td>\n",
       "      <td>4.0900</td>\n",
       "      <td>1.0</td>\n",
       "      <td>296.0</td>\n",
       "      <td>15.3</td>\n",
       "      <td>396.9</td>\n",
       "      <td>4.98</td>\n",
       "      <td>24.0</td>\n",
       "    </tr>\n",
       "    <tr>\n",
       "      <th>1</th>\n",
       "      <td>low</td>\n",
       "      <td>0</td>\n",
       "      <td>7.07</td>\n",
       "      <td>0.0</td>\n",
       "      <td>0.469</td>\n",
       "      <td>6.421</td>\n",
       "      <td>old</td>\n",
       "      <td>4.9671</td>\n",
       "      <td>2.0</td>\n",
       "      <td>242.0</td>\n",
       "      <td>17.8</td>\n",
       "      <td>396.9</td>\n",
       "      <td>9.14</td>\n",
       "      <td>21.6</td>\n",
       "    </tr>\n",
       "  </tbody>\n",
       "</table>\n",
       "</div>"
      ],
      "text/plain": [
       "  CRIM  ZN  INDUS  CHAS    NOX     RM  AGE     DIS  RAD    TAX  PTRATIO  \\\n",
       "0  low  18   2.31   0.0  0.538  6.575  old  4.0900  1.0  296.0     15.3   \n",
       "1  low   0   7.07   0.0  0.469  6.421  old  4.9671  2.0  242.0     17.8   \n",
       "\n",
       "       B  LSTAT  target  \n",
       "0  396.9   4.98    24.0  \n",
       "1  396.9   9.14    21.6  "
      ]
     },
     "execution_count": 3,
     "metadata": {},
     "output_type": "execute_result"
    }
   ],
   "source": [
    "df.head(2)"
   ]
  },
  {
   "cell_type": "markdown",
   "metadata": {
    "papermill": {
     "duration": 0.012035,
     "end_time": "2020-08-20T00:37:55.625585",
     "exception": false,
     "start_time": "2020-08-20T00:37:55.613550",
     "status": "completed"
    },
    "tags": []
   },
   "source": [
    "## Default"
   ]
  },
  {
   "cell_type": "code",
   "execution_count": 4,
   "metadata": {
    "execution": {
     "iopub.execute_input": "2020-08-20T00:37:55.647876Z",
     "iopub.status.busy": "2020-08-20T00:37:55.647037Z",
     "iopub.status.idle": "2020-08-20T00:38:07.825497Z",
     "shell.execute_reply": "2020-08-20T00:38:07.825913Z"
    },
    "papermill": {
     "duration": 12.189683,
     "end_time": "2020-08-20T00:38:07.826101",
     "exception": false,
     "start_time": "2020-08-20T00:37:55.636418",
     "status": "completed"
    },
    "tags": []
   },
   "outputs": [
    {
     "data": {
      "text/plain": [
       "<matplotlib.axes._subplots.AxesSubplot at 0x1a0a38c66c8>"
      ]
     },
     "metadata": {},
     "output_type": "display_data"
    },
    {
     "data": {
      "text/plain": [
       "<data_describe.core.correlations.CorrelationMatrixWidget at 0x1a0a2ea5548>"
      ]
     },
     "execution_count": 4,
     "metadata": {},
     "output_type": "execute_result"
    },
    {
     "data": {
      "image/png": "[encoded data removed]",
      "text/plain": [
       "<Figure size 720x720 with 2 Axes>"
      ]
     },
     "metadata": {
      "needs_background": "light"
     },
     "output_type": "display_data"
    }
   ],
   "source": [
    "dd.correlation_matrix(df)"
   ]
  },
  {
   "cell_type": "markdown",
   "metadata": {
    "papermill": {
     "duration": 0.009317,
     "end_time": "2020-08-20T00:38:07.845428",
     "exception": false,
     "start_time": "2020-08-20T00:38:07.836111",
     "status": "completed"
    },
    "tags": []
   },
   "source": [
    "## Enable clustering"
   ]
  },
  {
   "cell_type": "code",
   "execution_count": 5,
   "metadata": {
    "execution": {
     "iopub.execute_input": "2020-08-20T00:38:07.874555Z",
     "iopub.status.busy": "2020-08-20T00:38:07.869372Z",
     "iopub.status.idle": "2020-08-20T00:38:08.489518Z",
     "shell.execute_reply": "2020-08-20T00:38:08.490115Z"
    },
    "papermill": {
     "duration": 0.636519,
     "end_time": "2020-08-20T00:38:08.490342",
     "exception": false,
     "start_time": "2020-08-20T00:38:07.853823",
     "status": "completed"
    },
    "tags": []
   },
   "outputs": [
    {
     "data": {
      "text/html": [
       "        <script type=\"text/javascript\">\n",
       "        window.PlotlyConfig = {MathJaxConfig: 'local'};\n",
       "        if (window.MathJax) {MathJax.Hub.Config({SVG: {font: \"STIX-Web\"}});}\n",
       "        if (typeof require !== 'undefined') {\n",
       "        require.undef(\"plotly\");\n",
       "        requirejs.config({\n",
       "            paths: {\n",
       "                'plotly': ['https://cdn.plot.ly/plotly-latest.min']\n",
       "            }\n",
       "        });\n",
       "        require(['plotly'], function(Plotly) {\n",
       "            window._Plotly = Plotly;\n",
       "        });\n",
       "        }\n",
       "        </script>\n",
       "        "
      ]
     },
     "metadata": {},
     "output_type": "display_data"
    },
    {
     "data": {
      "application/vnd.plotly.v1+json": {
       "config": {
        "displayModeBar": false,
        "linkText": "Export to plot.ly",
        "plotlyServerURL": "https://plot.ly",
        "showLink": false
       },
       "data": [
        {
         "colorbar": {
          "title": {
           "text": "Strength"
          }
         },
         "colorscale": [
          [
           0,
           "rgb(216, 57, 69)"
          ],
          [
           0.003937007874015748,
           "rgb(216, 59, 71)"
          ],
          [
           0.007874015748031496,
           "rgb(216, 60, 72)"
          ],
          [
           0.011811023622047244,
           "rgb(216, 62, 73)"
          ],
          [
           0.015748031496062992,
           "rgb(216, 63, 75)"
          ],
          [
           0.01968503937007874,
           "rgb(217, 64, 76)"
          ],
          [
           0.023622047244094488,
           "rgb(217, 66, 77)"
          ],
          [
           0.027559055118110236,
           "rgb(217, 67, 79)"
          ],
          [
           0.031496062992125984,
           "rgb(217, 69, 80)"
          ],
          [
           0.03543307086614173,
           "rgb(217, 70, 81)"
          ],
          [
           0.03937007874015748,
           "rgb(218, 72, 83)"
          ],
          [
           0.04330708661417323,
           "rgb(218, 73, 84)"
          ],
          [
           0.047244094488188976,
           "rgb(218, 75, 85)"
          ],
          [
           0.051181102362204724,
           "rgb(218, 76, 87)"
          ],
          [
           0.05511811023622047,
           "rgb(218, 77, 88)"
          ],
          [
           0.05905511811023622,
           "rgb(219, 79, 89)"
          ],
          [
           0.06299212598425197,
           "rgb(219, 80, 91)"
          ],
          [
           0.06692913385826771,
           "rgb(219, 82, 92)"
          ],
          [
           0.07086614173228346,
           "rgb(219, 83, 93)"
          ],
          [
           0.07480314960629922,
           "rgb(219, 85, 95)"
          ],
          [
           0.07874015748031496,
           "rgb(220, 86, 96)"
          ],
          [
           0.0826771653543307,
           "rgb(220, 87, 97)"
          ],
          [
           0.08661417322834646,
           "rgb(220, 89, 99)"
          ],
          [
           0.09055118110236221,
           "rgb(220, 90, 100)"
          ],
          [
           0.09448818897637795,
           "rgb(220, 92, 101)"
          ],
          [
           0.09842519685039369,
           "rgb(221, 93, 103)"
          ],
          [
           0.10236220472440945,
           "rgb(221, 95, 104)"
          ],
          [
           0.1062992125984252,
           "rgb(221, 96, 106)"
          ],
          [
           0.11023622047244094,
           "rgb(221, 98, 107)"
          ],
          [
           0.11417322834645668,
           "rgb(221, 99, 108)"
          ],
          [
           0.11811023622047244,
           "rgb(222, 100, 110)"
          ],
          [
           0.1220472440944882,
           "rgb(222, 102, 111)"
          ],
          [
           0.12598425196850394,
           "rgb(222, 103, 112)"
          ],
          [
           0.12992125984251968,
           "rgb(222, 105, 114)"
          ],
          [
           0.13385826771653542,
           "rgb(222, 106, 115)"
          ],
          [
           0.1377952755905512,
           "rgb(222, 108, 116)"
          ],
          [
           0.14173228346456693,
           "rgb(223, 109, 118)"
          ],
          [
           0.14566929133858267,
           "rgb(223, 110, 119)"
          ],
          [
           0.14960629921259844,
           "rgb(223, 112, 120)"
          ],
          [
           0.15354330708661418,
           "rgb(223, 113, 122)"
          ],
          [
           0.15748031496062992,
           "rgb(223, 115, 123)"
          ],
          [
           0.16141732283464566,
           "rgb(224, 116, 124)"
          ],
          [
           0.1653543307086614,
           "rgb(224, 118, 126)"
          ],
          [
           0.16929133858267717,
           "rgb(224, 119, 127)"
          ],
          [
           0.1732283464566929,
           "rgb(224, 121, 128)"
          ],
          [
           0.17716535433070865,
           "rgb(224, 122, 130)"
          ],
          [
           0.18110236220472442,
           "rgb(225, 123, 131)"
          ],
          [
           0.18503937007874016,
           "rgb(225, 125, 132)"
          ],
          [
           0.1889763779527559,
           "rgb(225, 126, 134)"
          ],
          [
           0.19291338582677164,
           "rgb(225, 128, 135)"
          ],
          [
           0.19685039370078738,
           "rgb(225, 129, 136)"
          ],
          [
           0.20078740157480315,
           "rgb(226, 131, 138)"
          ],
          [
           0.2047244094488189,
           "rgb(226, 132, 139)"
          ],
          [
           0.20866141732283464,
           "rgb(226, 133, 140)"
          ],
          [
           0.2125984251968504,
           "rgb(226, 135, 142)"
          ],
          [
           0.21653543307086615,
           "rgb(226, 136, 143)"
          ],
          [
           0.2204724409448819,
           "rgb(227, 138, 144)"
          ],
          [
           0.22440944881889763,
           "rgb(227, 139, 146)"
          ],
          [
           0.22834645669291337,
           "rgb(227, 141, 147)"
          ],
          [
           0.23228346456692914,
           "rgb(227, 142, 149)"
          ],
          [
           0.23622047244094488,
           "rgb(227, 144, 150)"
          ],
          [
           0.24015748031496062,
           "rgb(228, 145, 151)"
          ],
          [
           0.2440944881889764,
           "rgb(228, 146, 153)"
          ],
          [
           0.24803149606299213,
           "rgb(228, 148, 154)"
          ],
          [
           0.25196850393700787,
           "rgb(228, 149, 155)"
          ],
          [
           0.2559055118110236,
           "rgb(228, 151, 157)"
          ],
          [
           0.25984251968503935,
           "rgb(229, 152, 158)"
          ],
          [
           0.2637795275590551,
           "rgb(229, 154, 159)"
          ],
          [
           0.26771653543307083,
           "rgb(229, 155, 161)"
          ],
          [
           0.27165354330708663,
           "rgb(229, 156, 162)"
          ],
          [
           0.2755905511811024,
           "rgb(229, 158, 163)"
          ],
          [
           0.2795275590551181,
           "rgb(230, 159, 165)"
          ],
          [
           0.28346456692913385,
           "rgb(230, 161, 166)"
          ],
          [
           0.2874015748031496,
           "rgb(230, 162, 167)"
          ],
          [
           0.29133858267716534,
           "rgb(230, 164, 169)"
          ],
          [
           0.2952755905511811,
           "rgb(230, 165, 170)"
          ],
          [
           0.2992125984251969,
           "rgb(230, 167, 171)"
          ],
          [
           0.3031496062992126,
           "rgb(231, 168, 173)"
          ],
          [
           0.30708661417322836,
           "rgb(231, 169, 174)"
          ],
          [
           0.3110236220472441,
           "rgb(231, 171, 175)"
          ],
          [
           0.31496062992125984,
           "rgb(231, 172, 177)"
          ],
          [
           0.3188976377952756,
           "rgb(231, 174, 178)"
          ],
          [
           0.3228346456692913,
           "rgb(232, 175, 179)"
          ],
          [
           0.32677165354330706,
           "rgb(232, 177, 181)"
          ],
          [
           0.3307086614173228,
           "rgb(232, 178, 182)"
          ],
          [
           0.3346456692913386,
           "rgb(232, 179, 183)"
          ],
          [
           0.33858267716535434,
           "rgb(232, 181, 185)"
          ],
          [
           0.3425196850393701,
           "rgb(233, 182, 186)"
          ],
          [
           0.3464566929133858,
           "rgb(233, 184, 187)"
          ],
          [
           0.35039370078740156,
           "rgb(233, 185, 189)"
          ],
          [
           0.3543307086614173,
           "rgb(233, 187, 190)"
          ],
          [
           0.35826771653543305,
           "rgb(233, 188, 192)"
          ],
          [
           0.36220472440944884,
           "rgb(234, 190, 193)"
          ],
          [
           0.3661417322834646,
           "rgb(234, 191, 194)"
          ],
          [
           0.3700787401574803,
           "rgb(234, 192, 196)"
          ],
          [
           0.37401574803149606,
           "rgb(234, 194, 197)"
          ],
          [
           0.3779527559055118,
           "rgb(234, 195, 198)"
          ],
          [
           0.38188976377952755,
           "rgb(235, 197, 200)"
          ],
          [
           0.3858267716535433,
           "rgb(235, 198, 201)"
          ],
          [
           0.38976377952755903,
           "rgb(235, 200, 202)"
          ],
          [
           0.39370078740157477,
           "rgb(235, 201, 204)"
          ],
          [
           0.39763779527559057,
           "rgb(235, 202, 205)"
          ],
          [
           0.4015748031496063,
           "rgb(236, 204, 206)"
          ],
          [
           0.40551181102362205,
           "rgb(236, 205, 208)"
          ],
          [
           0.4094488188976378,
           "rgb(236, 207, 209)"
          ],
          [
           0.41338582677165353,
           "rgb(236, 208, 210)"
          ],
          [
           0.41732283464566927,
           "rgb(236, 210, 212)"
          ],
          [
           0.421259842519685,
           "rgb(237, 211, 213)"
          ],
          [
           0.4251968503937008,
           "rgb(237, 213, 214)"
          ],
          [
           0.42913385826771655,
           "rgb(237, 214, 216)"
          ],
          [
           0.4330708661417323,
           "rgb(237, 215, 217)"
          ],
          [
           0.43700787401574803,
           "rgb(237, 217, 218)"
          ],
          [
           0.4409448818897638,
           "rgb(238, 218, 220)"
          ],
          [
           0.4448818897637795,
           "rgb(238, 220, 221)"
          ],
          [
           0.44881889763779526,
           "rgb(238, 221, 222)"
          ],
          [
           0.452755905511811,
           "rgb(238, 223, 224)"
          ],
          [
           0.45669291338582674,
           "rgb(238, 224, 225)"
          ],
          [
           0.46062992125984253,
           "rgb(239, 225, 226)"
          ],
          [
           0.4645669291338583,
           "rgb(239, 227, 228)"
          ],
          [
           0.468503937007874,
           "rgb(239, 228, 229)"
          ],
          [
           0.47244094488188976,
           "rgb(239, 230, 230)"
          ],
          [
           0.4763779527559055,
           "rgb(239, 231, 232)"
          ],
          [
           0.48031496062992124,
           "rgb(239, 233, 233)"
          ],
          [
           0.484251968503937,
           "rgb(240, 234, 235)"
          ],
          [
           0.4881889763779528,
           "rgb(240, 236, 236)"
          ],
          [
           0.4921259842519685,
           "rgb(240, 237, 237)"
          ],
          [
           0.49606299212598426,
           "rgb(240, 238, 239)"
          ],
          [
           0.5,
           "rgb(240, 240, 240)"
          ],
          [
           0.5039370078740157,
           "rgb(238, 239, 240)"
          ],
          [
           0.5078740157480315,
           "rgb(237, 238, 239)"
          ],
          [
           0.5118110236220472,
           "rgb(236, 237, 239)"
          ],
          [
           0.515748031496063,
           "rgb(234, 236, 238)"
          ],
          [
           0.5196850393700787,
           "rgb(233, 235, 237)"
          ],
          [
           0.5236220472440944,
           "rgb(232, 235, 237)"
          ],
          [
           0.5275590551181102,
           "rgb(230, 234, 236)"
          ],
          [
           0.5314960629921259,
           "rgb(229, 233, 236)"
          ],
          [
           0.5354330708661417,
           "rgb(227, 232, 235)"
          ],
          [
           0.5393700787401575,
           "rgb(226, 231, 234)"
          ],
          [
           0.5433070866141733,
           "rgb(225, 230, 234)"
          ],
          [
           0.547244094488189,
           "rgb(223, 229, 233)"
          ],
          [
           0.5511811023622047,
           "rgb(222, 228, 233)"
          ],
          [
           0.5551181102362205,
           "rgb(221, 227, 232)"
          ],
          [
           0.5590551181102362,
           "rgb(219, 226, 231)"
          ],
          [
           0.562992125984252,
           "rgb(218, 225, 231)"
          ],
          [
           0.5669291338582677,
           "rgb(216, 224, 230)"
          ],
          [
           0.5708661417322834,
           "rgb(215, 224, 230)"
          ],
          [
           0.5748031496062992,
           "rgb(214, 223, 229)"
          ],
          [
           0.5787401574803149,
           "rgb(212, 222, 229)"
          ],
          [
           0.5826771653543307,
           "rgb(211, 221, 228)"
          ],
          [
           0.5866141732283464,
           "rgb(209, 220, 227)"
          ],
          [
           0.5905511811023622,
           "rgb(208, 219, 227)"
          ],
          [
           0.5944881889763779,
           "rgb(207, 218, 226)"
          ],
          [
           0.5984251968503937,
           "rgb(205, 217, 226)"
          ],
          [
           0.6023622047244095,
           "rgb(204, 216, 225)"
          ],
          [
           0.6062992125984252,
           "rgb(203, 215, 224)"
          ],
          [
           0.610236220472441,
           "rgb(201, 214, 224)"
          ],
          [
           0.6141732283464567,
           "rgb(200, 213, 223)"
          ],
          [
           0.6181102362204725,
           "rgb(198, 212, 223)"
          ],
          [
           0.6220472440944882,
           "rgb(197, 212, 222)"
          ],
          [
           0.6259842519685039,
           "rgb(196, 211, 222)"
          ],
          [
           0.6299212598425197,
           "rgb(194, 210, 221)"
          ],
          [
           0.6338582677165354,
           "rgb(193, 209, 220)"
          ],
          [
           0.6377952755905512,
           "rgb(191, 208, 220)"
          ],
          [
           0.6417322834645669,
           "rgb(190, 207, 219)"
          ],
          [
           0.6456692913385826,
           "rgb(189, 206, 219)"
          ],
          [
           0.6496062992125984,
           "rgb(187, 205, 218)"
          ],
          [
           0.6535433070866141,
           "rgb(186, 204, 217)"
          ],
          [
           0.6574803149606299,
           "rgb(185, 203, 217)"
          ],
          [
           0.6614173228346456,
           "rgb(183, 202, 216)"
          ],
          [
           0.6653543307086615,
           "rgb(182, 201, 216)"
          ],
          [
           0.6692913385826772,
           "rgb(180, 200, 215)"
          ],
          [
           0.6732283464566929,
           "rgb(179, 200, 214)"
          ],
          [
           0.6771653543307087,
           "rgb(178, 199, 214)"
          ],
          [
           0.6811023622047244,
           "rgb(176, 198, 213)"
          ],
          [
           0.6850393700787402,
           "rgb(175, 197, 213)"
          ],
          [
           0.6889763779527559,
           "rgb(173, 196, 212)"
          ],
          [
           0.6929133858267716,
           "rgb(172, 195, 212)"
          ],
          [
           0.6968503937007874,
           "rgb(171, 194, 211)"
          ],
          [
           0.7007874015748031,
           "rgb(169, 193, 210)"
          ],
          [
           0.7047244094488189,
           "rgb(168, 192, 210)"
          ],
          [
           0.7086614173228346,
           "rgb(167, 191, 209)"
          ],
          [
           0.7125984251968503,
           "rgb(165, 190, 209)"
          ],
          [
           0.7165354330708661,
           "rgb(164, 189, 208)"
          ],
          [
           0.7204724409448818,
           "rgb(162, 188, 207)"
          ],
          [
           0.7244094488188977,
           "rgb(161, 188, 207)"
          ],
          [
           0.7283464566929134,
           "rgb(160, 187, 206)"
          ],
          [
           0.7322834645669292,
           "rgb(158, 186, 206)"
          ],
          [
           0.7362204724409449,
           "rgb(157, 185, 205)"
          ],
          [
           0.7401574803149606,
           "rgb(156, 184, 205)"
          ],
          [
           0.7440944881889764,
           "rgb(154, 183, 204)"
          ],
          [
           0.7480314960629921,
           "rgb(153, 182, 203)"
          ],
          [
           0.7519685039370079,
           "rgb(151, 181, 203)"
          ],
          [
           0.7559055118110236,
           "rgb(150, 180, 202)"
          ],
          [
           0.7598425196850394,
           "rgb(149, 179, 202)"
          ],
          [
           0.7637795275590551,
           "rgb(147, 178, 201)"
          ],
          [
           0.7677165354330708,
           "rgb(146, 177, 200)"
          ],
          [
           0.7716535433070866,
           "rgb(144, 176, 200)"
          ],
          [
           0.7755905511811023,
           "rgb(143, 176, 199)"
          ],
          [
           0.7795275590551181,
           "rgb(142, 175, 199)"
          ],
          [
           0.7834645669291338,
           "rgb(140, 174, 198)"
          ],
          [
           0.7874015748031495,
           "rgb(139, 173, 197)"
          ],
          [
           0.7913385826771654,
           "rgb(138, 172, 197)"
          ],
          [
           0.7952755905511811,
           "rgb(136, 171, 196)"
          ],
          [
           0.7992125984251969,
           "rgb(135, 170, 196)"
          ],
          [
           0.8031496062992126,
           "rgb(133, 169, 195)"
          ],
          [
           0.8070866141732284,
           "rgb(132, 168, 195)"
          ],
          [
           0.8110236220472441,
           "rgb(131, 167, 194)"
          ],
          [
           0.8149606299212598,
           "rgb(129, 166, 193)"
          ],
          [
           0.8188976377952756,
           "rgb(128, 165, 193)"
          ],
          [
           0.8228346456692913,
           "rgb(126, 164, 192)"
          ],
          [
           0.8267716535433071,
           "rgb(125, 164, 192)"
          ],
          [
           0.8307086614173228,
           "rgb(124, 163, 191)"
          ],
          [
           0.8346456692913385,
           "rgb(122, 162, 190)"
          ],
          [
           0.8385826771653543,
           "rgb(121, 161, 190)"
          ],
          [
           0.84251968503937,
           "rgb(120, 160, 189)"
          ],
          [
           0.8464566929133858,
           "rgb(118, 159, 189)"
          ],
          [
           0.8503937007874016,
           "rgb(117, 158, 188)"
          ],
          [
           0.8543307086614174,
           "rgb(115, 157, 188)"
          ],
          [
           0.8582677165354331,
           "rgb(114, 156, 187)"
          ],
          [
           0.8622047244094488,
           "rgb(113, 155, 186)"
          ],
          [
           0.8661417322834646,
           "rgb(111, 154, 186)"
          ],
          [
           0.8700787401574803,
           "rgb(110, 153, 185)"
          ],
          [
           0.8740157480314961,
           "rgb(108, 153, 185)"
          ],
          [
           0.8779527559055118,
           "rgb(107, 152, 184)"
          ],
          [
           0.8818897637795275,
           "rgb(106, 151, 183)"
          ],
          [
           0.8858267716535433,
           "rgb(104, 150, 183)"
          ],
          [
           0.889763779527559,
           "rgb(103, 149, 182)"
          ],
          [
           0.8937007874015748,
           "rgb(102, 148, 182)"
          ],
          [
           0.8976377952755905,
           "rgb(100, 147, 181)"
          ],
          [
           0.9015748031496063,
           "rgb(99, 146, 180)"
          ],
          [
           0.905511811023622,
           "rgb(97, 145, 180)"
          ],
          [
           0.9094488188976377,
           "rgb(96, 144, 179)"
          ],
          [
           0.9133858267716535,
           "rgb(95, 143, 179)"
          ],
          [
           0.9173228346456693,
           "rgb(93, 142, 178)"
          ],
          [
           0.9212598425196851,
           "rgb(92, 141, 178)"
          ],
          [
           0.9251968503937008,
           "rgb(91, 141, 177)"
          ],
          [
           0.9291338582677166,
           "rgb(89, 140, 176)"
          ],
          [
           0.9330708661417323,
           "rgb(88, 139, 176)"
          ],
          [
           0.937007874015748,
           "rgb(86, 138, 175)"
          ],
          [
           0.9409448818897638,
           "rgb(85, 137, 175)"
          ],
          [
           0.9448818897637795,
           "rgb(84, 136, 174)"
          ],
          [
           0.9488188976377953,
           "rgb(82, 135, 173)"
          ],
          [
           0.952755905511811,
           "rgb(81, 134, 173)"
          ],
          [
           0.9566929133858267,
           "rgb(79, 133, 172)"
          ],
          [
           0.9606299212598425,
           "rgb(78, 132, 172)"
          ],
          [
           0.9645669291338582,
           "rgb(77, 131, 171)"
          ],
          [
           0.968503937007874,
           "rgb(75, 130, 171)"
          ],
          [
           0.9724409448818897,
           "rgb(74, 129, 170)"
          ],
          [
           0.9763779527559056,
           "rgb(73, 129, 169)"
          ],
          [
           0.9803149606299213,
           "rgb(71, 128, 169)"
          ],
          [
           0.984251968503937,
           "rgb(70, 127, 168)"
          ],
          [
           0.9881889763779528,
           "rgb(68, 126, 168)"
          ],
          [
           0.9921259842519685,
           "rgb(67, 125, 167)"
          ],
          [
           0.9960629921259843,
           "rgb(66, 124, 166)"
          ],
          [
           1,
           "rgb(64, 123, 166)"
          ]
         ],
         "connectgaps": false,
         "type": "heatmap",
         "x": [
          "PTRATIO",
          "LSTAT",
          "RAD",
          "TAX",
          "INDUS",
          "NOX",
          "CHAS",
          "B",
          "RM",
          "target",
          "ZN",
          "DIS"
         ],
         "xgap": 2,
         "y": [
          "DIS",
          "ZN",
          "target",
          "RM",
          "B",
          "CHAS",
          "NOX",
          "INDUS",
          "TAX",
          "RAD",
          "LSTAT",
          "PTRATIO"
         ],
         "ygap": 2,
         "z": [
          [
           -0.23247054240825624,
           -0.4969958308636852,
           -0.49458792967207543,
           -0.5344315844084561,
           -0.7080269887427683,
           -0.7692301132258261,
           -0.09917578017472706,
           0.2915116731330401,
           0.20524621293005516,
           0.24992873408590394,
           0.6638446841957253,
           null
          ],
          [
           -0.39120316218140827,
           -0.41319525406862845,
           -0.31171244646699464,
           -0.3143380917377908,
           -0.5335828984741289,
           -0.5163097674725308,
           -0.04253337190728173,
           0.17534122571961053,
           0.31221813035696344,
           0.36058036004339816,
           null,
           null
          ],
          [
           -0.507786685537561,
           -0.7376627261740143,
           -0.3816262306397776,
           -0.46853593356776646,
           -0.483725160028373,
           -0.4273207723732817,
           0.1752601771902975,
           0.33346081965706653,
           0.6953599470715389,
           null,
           null,
           null
          ],
          [
           -0.3555014945590849,
           -0.6138082718663957,
           -0.20984666776610877,
           -0.29204783262321915,
           -0.39167585265684357,
           -0.3021881878495933,
           0.09125122504345595,
           0.1280686350925431,
           null,
           null,
           null,
           null
          ],
          [
           -0.17738330230523142,
           -0.3660869016915971,
           -0.44441281557512574,
           -0.44180800672281384,
           -0.3569765351041929,
           -0.3800506377924003,
           0.04878848495516622,
           null,
           null,
           null,
           null,
           null
          ],
          [
           -0.121515173658062,
           -0.05392929837569404,
           -0.007368240886077726,
           -0.03558651758591118,
           0.0629380274896654,
           0.09120280684249406,
           null,
           null,
           null,
           null,
           null,
           null
          ],
          [
           0.18893267711276665,
           0.5908789208808449,
           0.6114405634855754,
           0.6680232004030201,
           0.7636514469209145,
           null,
           null,
           null,
           null,
           null,
           null,
           null
          ],
          [
           0.38324755642888675,
           0.6037997164766213,
           0.5951292746038486,
           0.7207601799515441,
           null,
           null,
           null,
           null,
           null,
           null,
           null,
           null
          ],
          [
           0.4608530350656657,
           0.543993412001569,
           0.9102281885331822,
           null,
           null,
           null,
           null,
           null,
           null,
           null,
           null,
           null
          ],
          [
           0.46474117850305435,
           0.4886763349750664,
           null,
           null,
           null,
           null,
           null,
           null,
           null,
           null,
           null,
           null
          ],
          [
           0.3740443167146754,
           null,
           null,
           null,
           null,
           null,
           null,
           null,
           null,
           null,
           null,
           null
          ],
          [
           null,
           null,
           null,
           null,
           null,
           null,
           null,
           null,
           null,
           null,
           null,
           null
          ]
         ]
        }
       ],
       "layout": {
        "autosize": false,
        "height": 750,
        "paper_bgcolor": "rgb(0,0,0,0)",
        "plot_bgcolor": "rgb(0,0,0,0)",
        "template": {
         "data": {
          "bar": [
           {
            "error_x": {
             "color": "#2a3f5f"
            },
            "error_y": {
             "color": "#2a3f5f"
            },
            "marker": {
             "line": {
              "color": "#E5ECF6",
              "width": 0.5
             }
            },
            "type": "bar"
           }
          ],
          "barpolar": [
           {
            "marker": {
             "line": {
              "color": "#E5ECF6",
              "width": 0.5
             }
            },
            "type": "barpolar"
           }
          ],
          "carpet": [
           {
            "aaxis": {
             "endlinecolor": "#2a3f5f",
             "gridcolor": "white",
             "linecolor": "white",
             "minorgridcolor": "white",
             "startlinecolor": "#2a3f5f"
            },
            "baxis": {
             "endlinecolor": "#2a3f5f",
             "gridcolor": "white",
             "linecolor": "white",
             "minorgridcolor": "white",
             "startlinecolor": "#2a3f5f"
            },
            "type": "carpet"
           }
          ],
          "choropleth": [
           {
            "colorbar": {
             "outlinewidth": 0,
             "ticks": ""
            },
            "type": "choropleth"
           }
          ],
          "contour": [
           {
            "colorbar": {
             "outlinewidth": 0,
             "ticks": ""
            },
            "colorscale": [
             [
              0,
              "#0d0887"
             ],
             [
              0.1111111111111111,
              "#46039f"
             ],
             [
              0.2222222222222222,
              "#7201a8"
             ],
             [
              0.3333333333333333,
              "#9c179e"
             ],
             [
              0.4444444444444444,
              "#bd3786"
             ],
             [
              0.5555555555555556,
              "#d8576b"
             ],
             [
              0.6666666666666666,
              "#ed7953"
             ],
             [
              0.7777777777777778,
              "#fb9f3a"
             ],
             [
              0.8888888888888888,
              "#fdca26"
             ],
             [
              1,
              "#f0f921"
             ]
            ],
            "type": "contour"
           }
          ],
          "contourcarpet": [
           {
            "colorbar": {
             "outlinewidth": 0,
             "ticks": ""
            },
            "type": "contourcarpet"
           }
          ],
          "heatmap": [
           {
            "colorbar": {
             "outlinewidth": 0,
             "ticks": ""
            },
            "colorscale": [
             [
              0,
              "#0d0887"
             ],
             [
              0.1111111111111111,
              "#46039f"
             ],
             [
              0.2222222222222222,
              "#7201a8"
             ],
             [
              0.3333333333333333,
              "#9c179e"
             ],
             [
              0.4444444444444444,
              "#bd3786"
             ],
             [
              0.5555555555555556,
              "#d8576b"
             ],
             [
              0.6666666666666666,
              "#ed7953"
             ],
             [
              0.7777777777777778,
              "#fb9f3a"
             ],
             [
              0.8888888888888888,
              "#fdca26"
             ],
             [
              1,
              "#f0f921"
             ]
            ],
            "type": "heatmap"
           }
          ],
          "heatmapgl": [
           {
            "colorbar": {
             "outlinewidth": 0,
             "ticks": ""
            },
            "colorscale": [
             [
              0,
              "#0d0887"
             ],
             [
              0.1111111111111111,
              "#46039f"
             ],
             [
              0.2222222222222222,
              "#7201a8"
             ],
             [
              0.3333333333333333,
              "#9c179e"
             ],
             [
              0.4444444444444444,
              "#bd3786"
             ],
             [
              0.5555555555555556,
              "#d8576b"
             ],
             [
              0.6666666666666666,
              "#ed7953"
             ],
             [
              0.7777777777777778,
              "#fb9f3a"
             ],
             [
              0.8888888888888888,
              "#fdca26"
             ],
             [
              1,
              "#f0f921"
             ]
            ],
            "type": "heatmapgl"
           }
          ],
          "histogram": [
           {
            "marker": {
             "colorbar": {
              "outlinewidth": 0,
              "ticks": ""
             }
            },
            "type": "histogram"
           }
          ],
          "histogram2d": [
           {
            "colorbar": {
             "outlinewidth": 0,
             "ticks": ""
            },
            "colorscale": [
             [
              0,
              "#0d0887"
             ],
             [
              0.1111111111111111,
              "#46039f"
             ],
             [
              0.2222222222222222,
              "#7201a8"
             ],
             [
              0.3333333333333333,
              "#9c179e"
             ],
             [
              0.4444444444444444,
              "#bd3786"
             ],
             [
              0.5555555555555556,
              "#d8576b"
             ],
             [
              0.6666666666666666,
              "#ed7953"
             ],
             [
              0.7777777777777778,
              "#fb9f3a"
             ],
             [
              0.8888888888888888,
              "#fdca26"
             ],
             [
              1,
              "#f0f921"
             ]
            ],
            "type": "histogram2d"
           }
          ],
          "histogram2dcontour": [
           {
            "colorbar": {
             "outlinewidth": 0,
             "ticks": ""
            },
            "colorscale": [
             [
              0,
              "#0d0887"
             ],
             [
              0.1111111111111111,
              "#46039f"
             ],
             [
              0.2222222222222222,
              "#7201a8"
             ],
             [
              0.3333333333333333,
              "#9c179e"
             ],
             [
              0.4444444444444444,
              "#bd3786"
             ],
             [
              0.5555555555555556,
              "#d8576b"
             ],
             [
              0.6666666666666666,
              "#ed7953"
             ],
             [
              0.7777777777777778,
              "#fb9f3a"
             ],
             [
              0.8888888888888888,
              "#fdca26"
             ],
             [
              1,
              "#f0f921"
             ]
            ],
            "type": "histogram2dcontour"
           }
          ],
          "mesh3d": [
           {
            "colorbar": {
             "outlinewidth": 0,
             "ticks": ""
            },
            "type": "mesh3d"
           }
          ],
          "parcoords": [
           {
            "line": {
             "colorbar": {
              "outlinewidth": 0,
              "ticks": ""
             }
            },
            "type": "parcoords"
           }
          ],
          "pie": [
           {
            "automargin": true,
            "type": "pie"
           }
          ],
          "scatter": [
           {
            "marker": {
             "colorbar": {
              "outlinewidth": 0,
              "ticks": ""
             }
            },
            "type": "scatter"
           }
          ],
          "scatter3d": [
           {
            "line": {
             "colorbar": {
              "outlinewidth": 0,
              "ticks": ""
             }
            },
            "marker": {
             "colorbar": {
              "outlinewidth": 0,
              "ticks": ""
             }
            },
            "type": "scatter3d"
           }
          ],
          "scattercarpet": [
           {
            "marker": {
             "colorbar": {
              "outlinewidth": 0,
              "ticks": ""
             }
            },
            "type": "scattercarpet"
           }
          ],
          "scattergeo": [
           {
            "marker": {
             "colorbar": {
              "outlinewidth": 0,
              "ticks": ""
             }
            },
            "type": "scattergeo"
           }
          ],
          "scattergl": [
           {
            "marker": {
             "colorbar": {
              "outlinewidth": 0,
              "ticks": ""
             }
            },
            "type": "scattergl"
           }
          ],
          "scattermapbox": [
           {
            "marker": {
             "colorbar": {
              "outlinewidth": 0,
              "ticks": ""
             }
            },
            "type": "scattermapbox"
           }
          ],
          "scatterpolar": [
           {
            "marker": {
             "colorbar": {
              "outlinewidth": 0,
              "ticks": ""
             }
            },
            "type": "scatterpolar"
           }
          ],
          "scatterpolargl": [
           {
            "marker": {
             "colorbar": {
              "outlinewidth": 0,
              "ticks": ""
             }
            },
            "type": "scatterpolargl"
           }
          ],
          "scatterternary": [
           {
            "marker": {
             "colorbar": {
              "outlinewidth": 0,
              "ticks": ""
             }
            },
            "type": "scatterternary"
           }
          ],
          "surface": [
           {
            "colorbar": {
             "outlinewidth": 0,
             "ticks": ""
            },
            "colorscale": [
             [
              0,
              "#0d0887"
             ],
             [
              0.1111111111111111,
              "#46039f"
             ],
             [
              0.2222222222222222,
              "#7201a8"
             ],
             [
              0.3333333333333333,
              "#9c179e"
             ],
             [
              0.4444444444444444,
              "#bd3786"
             ],
             [
              0.5555555555555556,
              "#d8576b"
             ],
             [
              0.6666666666666666,
              "#ed7953"
             ],
             [
              0.7777777777777778,
              "#fb9f3a"
             ],
             [
              0.8888888888888888,
              "#fdca26"
             ],
             [
              1,
              "#f0f921"
             ]
            ],
            "type": "surface"
           }
          ],
          "table": [
           {
            "cells": {
             "fill": {
              "color": "#EBF0F8"
             },
             "line": {
              "color": "white"
             }
            },
            "header": {
             "fill": {
              "color": "#C8D4E3"
             },
             "line": {
              "color": "white"
             }
            },
            "type": "table"
           }
          ]
         },
         "layout": {
          "annotationdefaults": {
           "arrowcolor": "#2a3f5f",
           "arrowhead": 0,
           "arrowwidth": 1
          },
          "coloraxis": {
           "colorbar": {
            "outlinewidth": 0,
            "ticks": ""
           }
          },
          "colorscale": {
           "diverging": [
            [
             0,
             "#8e0152"
            ],
            [
             0.1,
             "#c51b7d"
            ],
            [
             0.2,
             "#de77ae"
            ],
            [
             0.3,
             "#f1b6da"
            ],
            [
             0.4,
             "#fde0ef"
            ],
            [
             0.5,
             "#f7f7f7"
            ],
            [
             0.6,
             "#e6f5d0"
            ],
            [
             0.7,
             "#b8e186"
            ],
            [
             0.8,
             "#7fbc41"
            ],
            [
             0.9,
             "#4d9221"
            ],
            [
             1,
             "#276419"
            ]
           ],
           "sequential": [
            [
             0,
             "#0d0887"
            ],
            [
             0.1111111111111111,
             "#46039f"
            ],
            [
             0.2222222222222222,
             "#7201a8"
            ],
            [
             0.3333333333333333,
             "#9c179e"
            ],
            [
             0.4444444444444444,
             "#bd3786"
            ],
            [
             0.5555555555555556,
             "#d8576b"
            ],
            [
             0.6666666666666666,
             "#ed7953"
            ],
            [
             0.7777777777777778,
             "#fb9f3a"
            ],
            [
             0.8888888888888888,
             "#fdca26"
            ],
            [
             1,
             "#f0f921"
            ]
           ],
           "sequentialminus": [
            [
             0,
             "#0d0887"
            ],
            [
             0.1111111111111111,
             "#46039f"
            ],
            [
             0.2222222222222222,
             "#7201a8"
            ],
            [
             0.3333333333333333,
             "#9c179e"
            ],
            [
             0.4444444444444444,
             "#bd3786"
            ],
            [
             0.5555555555555556,
             "#d8576b"
            ],
            [
             0.6666666666666666,
             "#ed7953"
            ],
            [
             0.7777777777777778,
             "#fb9f3a"
            ],
            [
             0.8888888888888888,
             "#fdca26"
            ],
            [
             1,
             "#f0f921"
            ]
           ]
          },
          "colorway": [
           "#636efa",
           "#EF553B",
           "#00cc96",
           "#ab63fa",
           "#FFA15A",
           "#19d3f3",
           "#FF6692",
           "#B6E880",
           "#FF97FF",
           "#FECB52"
          ],
          "font": {
           "color": "#2a3f5f"
          },
          "geo": {
           "bgcolor": "white",
           "lakecolor": "white",
           "landcolor": "#E5ECF6",
           "showlakes": true,
           "showland": true,
           "subunitcolor": "white"
          },
          "hoverlabel": {
           "align": "left"
          },
          "hovermode": "closest",
          "mapbox": {
           "style": "light"
          },
          "paper_bgcolor": "white",
          "plot_bgcolor": "#E5ECF6",
          "polar": {
           "angularaxis": {
            "gridcolor": "white",
            "linecolor": "white",
            "ticks": ""
           },
           "bgcolor": "#E5ECF6",
           "radialaxis": {
            "gridcolor": "white",
            "linecolor": "white",
            "ticks": ""
           }
          },
          "scene": {
           "xaxis": {
            "backgroundcolor": "#E5ECF6",
            "gridcolor": "white",
            "gridwidth": 2,
            "linecolor": "white",
            "showbackground": true,
            "ticks": "",
            "zerolinecolor": "white"
           },
           "yaxis": {
            "backgroundcolor": "#E5ECF6",
            "gridcolor": "white",
            "gridwidth": 2,
            "linecolor": "white",
            "showbackground": true,
            "ticks": "",
            "zerolinecolor": "white"
           },
           "zaxis": {
            "backgroundcolor": "#E5ECF6",
            "gridcolor": "white",
            "gridwidth": 2,
            "linecolor": "white",
            "showbackground": true,
            "ticks": "",
            "zerolinecolor": "white"
           }
          },
          "shapedefaults": {
           "line": {
            "color": "#2a3f5f"
           }
          },
          "ternary": {
           "aaxis": {
            "gridcolor": "white",
            "linecolor": "white",
            "ticks": ""
           },
           "baxis": {
            "gridcolor": "white",
            "linecolor": "white",
            "ticks": ""
           },
           "bgcolor": "#E5ECF6",
           "caxis": {
            "gridcolor": "white",
            "linecolor": "white",
            "ticks": ""
           }
          },
          "title": {
           "x": 0.05
          },
          "xaxis": {
           "automargin": true,
           "gridcolor": "white",
           "linecolor": "white",
           "ticks": "",
           "title": {
            "standoff": 15
           },
           "zerolinecolor": "white",
           "zerolinewidth": 2
          },
          "yaxis": {
           "automargin": true,
           "gridcolor": "white",
           "linecolor": "white",
           "ticks": "",
           "title": {
            "standoff": 15
           },
           "zerolinecolor": "white",
           "zerolinewidth": 2
          }
         }
        },
        "title": {
         "font": {
          "size": 25
         },
         "text": "Correlation Matrix"
        },
        "width": 750,
        "xaxis": {
         "automargin": true,
         "autorange": true,
         "range": [
          -0.5,
          11.5
         ],
         "showgrid": false,
         "tickangle": -90,
         "ticks": "",
         "type": "category"
        },
        "yaxis": {
         "automargin": true,
         "autorange": true,
         "range": [
          -0.5,
          11.5
         ],
         "showgrid": false,
         "ticks": "",
         "type": "category"
        }
       }
      },
      "image/png": "[encoded data removed]",
      "text/html": [
       "<div>\n",
       "        \n",
       "        \n",
       "            <div id=\"d2e0101f-8972-4883-a007-26a3114073aa\" class=\"plotly-graph-div\" style=\"height:750px; width:750px;\"></div>\n",
       "            <script type=\"text/javascript\">\n",
       "                require([\"plotly\"], function(Plotly) {\n",
       "                    window.PLOTLYENV=window.PLOTLYENV || {};\n",
       "                    \n",
       "                if (document.getElementById(\"d2e0101f-8972-4883-a007-26a3114073aa\")) {\n",
       "                    Plotly.newPlot(\n",
       "                        'd2e0101f-8972-4883-a007-26a3114073aa',\n",
       "                        [{\"colorbar\": {\"title\": {\"text\": \"Strength\"}}, \"colorscale\": [[0.0, \"rgb(216, 57, 69)\"], [0.003937007874015748, \"rgb(216, 59, 71)\"], [0.007874015748031496, \"rgb(216, 60, 72)\"], [0.011811023622047244, \"rgb(216, 62, 73)\"], [0.015748031496062992, \"rgb(216, 63, 75)\"], [0.01968503937007874, \"rgb(217, 64, 76)\"], [0.023622047244094488, \"rgb(217, 66, 77)\"], [0.027559055118110236, \"rgb(217, 67, 79)\"], [0.031496062992125984, \"rgb(217, 69, 80)\"], [0.03543307086614173, \"rgb(217, 70, 81)\"], [0.03937007874015748, \"rgb(218, 72, 83)\"], [0.04330708661417323, \"rgb(218, 73, 84)\"], [0.047244094488188976, \"rgb(218, 75, 85)\"], [0.051181102362204724, \"rgb(218, 76, 87)\"], [0.05511811023622047, \"rgb(218, 77, 88)\"], [0.05905511811023622, \"rgb(219, 79, 89)\"], [0.06299212598425197, \"rgb(219, 80, 91)\"], [0.06692913385826771, \"rgb(219, 82, 92)\"], [0.07086614173228346, \"rgb(219, 83, 93)\"], [0.07480314960629922, \"rgb(219, 85, 95)\"], [0.07874015748031496, \"rgb(220, 86, 96)\"], [0.0826771653543307, \"rgb(220, 87, 97)\"], [0.08661417322834646, \"rgb(220, 89, 99)\"], [0.09055118110236221, \"rgb(220, 90, 100)\"], [0.09448818897637795, \"rgb(220, 92, 101)\"], [0.09842519685039369, \"rgb(221, 93, 103)\"], [0.10236220472440945, \"rgb(221, 95, 104)\"], [0.1062992125984252, \"rgb(221, 96, 106)\"], [0.11023622047244094, \"rgb(221, 98, 107)\"], [0.11417322834645668, \"rgb(221, 99, 108)\"], [0.11811023622047244, \"rgb(222, 100, 110)\"], [0.1220472440944882, \"rgb(222, 102, 111)\"], [0.12598425196850394, \"rgb(222, 103, 112)\"], [0.12992125984251968, \"rgb(222, 105, 114)\"], [0.13385826771653542, \"rgb(222, 106, 115)\"], [0.1377952755905512, \"rgb(222, 108, 116)\"], [0.14173228346456693, \"rgb(223, 109, 118)\"], [0.14566929133858267, \"rgb(223, 110, 119)\"], [0.14960629921259844, \"rgb(223, 112, 120)\"], [0.15354330708661418, \"rgb(223, 113, 122)\"], [0.15748031496062992, \"rgb(223, 115, 123)\"], [0.16141732283464566, \"rgb(224, 116, 124)\"], [0.1653543307086614, \"rgb(224, 118, 126)\"], [0.16929133858267717, \"rgb(224, 119, 127)\"], [0.1732283464566929, \"rgb(224, 121, 128)\"], [0.17716535433070865, \"rgb(224, 122, 130)\"], [0.18110236220472442, \"rgb(225, 123, 131)\"], [0.18503937007874016, \"rgb(225, 125, 132)\"], [0.1889763779527559, \"rgb(225, 126, 134)\"], [0.19291338582677164, \"rgb(225, 128, 135)\"], [0.19685039370078738, \"rgb(225, 129, 136)\"], [0.20078740157480315, \"rgb(226, 131, 138)\"], [0.2047244094488189, \"rgb(226, 132, 139)\"], [0.20866141732283464, \"rgb(226, 133, 140)\"], [0.2125984251968504, \"rgb(226, 135, 142)\"], [0.21653543307086615, \"rgb(226, 136, 143)\"], [0.2204724409448819, \"rgb(227, 138, 144)\"], [0.22440944881889763, \"rgb(227, 139, 146)\"], [0.22834645669291337, \"rgb(227, 141, 147)\"], [0.23228346456692914, \"rgb(227, 142, 149)\"], [0.23622047244094488, \"rgb(227, 144, 150)\"], [0.24015748031496062, \"rgb(228, 145, 151)\"], [0.2440944881889764, \"rgb(228, 146, 153)\"], [0.24803149606299213, \"rgb(228, 148, 154)\"], [0.25196850393700787, \"rgb(228, 149, 155)\"], [0.2559055118110236, \"rgb(228, 151, 157)\"], [0.25984251968503935, \"rgb(229, 152, 158)\"], [0.2637795275590551, \"rgb(229, 154, 159)\"], [0.26771653543307083, \"rgb(229, 155, 161)\"], [0.27165354330708663, \"rgb(229, 156, 162)\"], [0.2755905511811024, \"rgb(229, 158, 163)\"], [0.2795275590551181, \"rgb(230, 159, 165)\"], [0.28346456692913385, \"rgb(230, 161, 166)\"], [0.2874015748031496, \"rgb(230, 162, 167)\"], [0.29133858267716534, \"rgb(230, 164, 169)\"], [0.2952755905511811, \"rgb(230, 165, 170)\"], [0.2992125984251969, \"rgb(230, 167, 171)\"], [0.3031496062992126, \"rgb(231, 168, 173)\"], [0.30708661417322836, \"rgb(231, 169, 174)\"], [0.3110236220472441, \"rgb(231, 171, 175)\"], [0.31496062992125984, \"rgb(231, 172, 177)\"], [0.3188976377952756, \"rgb(231, 174, 178)\"], [0.3228346456692913, \"rgb(232, 175, 179)\"], [0.32677165354330706, \"rgb(232, 177, 181)\"], [0.3307086614173228, \"rgb(232, 178, 182)\"], [0.3346456692913386, \"rgb(232, 179, 183)\"], [0.33858267716535434, \"rgb(232, 181, 185)\"], [0.3425196850393701, \"rgb(233, 182, 186)\"], [0.3464566929133858, \"rgb(233, 184, 187)\"], [0.35039370078740156, \"rgb(233, 185, 189)\"], [0.3543307086614173, \"rgb(233, 187, 190)\"], [0.35826771653543305, \"rgb(233, 188, 192)\"], [0.36220472440944884, \"rgb(234, 190, 193)\"], [0.3661417322834646, \"rgb(234, 191, 194)\"], [0.3700787401574803, \"rgb(234, 192, 196)\"], [0.37401574803149606, \"rgb(234, 194, 197)\"], [0.3779527559055118, \"rgb(234, 195, 198)\"], [0.38188976377952755, \"rgb(235, 197, 200)\"], [0.3858267716535433, \"rgb(235, 198, 201)\"], [0.38976377952755903, \"rgb(235, 200, 202)\"], [0.39370078740157477, \"rgb(235, 201, 204)\"], [0.39763779527559057, \"rgb(235, 202, 205)\"], [0.4015748031496063, \"rgb(236, 204, 206)\"], [0.40551181102362205, \"rgb(236, 205, 208)\"], [0.4094488188976378, \"rgb(236, 207, 209)\"], [0.41338582677165353, \"rgb(236, 208, 210)\"], [0.41732283464566927, \"rgb(236, 210, 212)\"], [0.421259842519685, \"rgb(237, 211, 213)\"], [0.4251968503937008, \"rgb(237, 213, 214)\"], [0.42913385826771655, \"rgb(237, 214, 216)\"], [0.4330708661417323, \"rgb(237, 215, 217)\"], [0.43700787401574803, \"rgb(237, 217, 218)\"], [0.4409448818897638, \"rgb(238, 218, 220)\"], [0.4448818897637795, \"rgb(238, 220, 221)\"], [0.44881889763779526, \"rgb(238, 221, 222)\"], [0.452755905511811, \"rgb(238, 223, 224)\"], [0.45669291338582674, \"rgb(238, 224, 225)\"], [0.46062992125984253, \"rgb(239, 225, 226)\"], [0.4645669291338583, \"rgb(239, 227, 228)\"], [0.468503937007874, \"rgb(239, 228, 229)\"], [0.47244094488188976, \"rgb(239, 230, 230)\"], [0.4763779527559055, \"rgb(239, 231, 232)\"], [0.48031496062992124, \"rgb(239, 233, 233)\"], [0.484251968503937, \"rgb(240, 234, 235)\"], [0.4881889763779528, \"rgb(240, 236, 236)\"], [0.4921259842519685, \"rgb(240, 237, 237)\"], [0.49606299212598426, \"rgb(240, 238, 239)\"], [0.5, \"rgb(240, 240, 240)\"], [0.5039370078740157, \"rgb(238, 239, 240)\"], [0.5078740157480315, \"rgb(237, 238, 239)\"], [0.5118110236220472, \"rgb(236, 237, 239)\"], [0.515748031496063, \"rgb(234, 236, 238)\"], [0.5196850393700787, \"rgb(233, 235, 237)\"], [0.5236220472440944, \"rgb(232, 235, 237)\"], [0.5275590551181102, \"rgb(230, 234, 236)\"], [0.5314960629921259, \"rgb(229, 233, 236)\"], [0.5354330708661417, \"rgb(227, 232, 235)\"], [0.5393700787401575, \"rgb(226, 231, 234)\"], [0.5433070866141733, \"rgb(225, 230, 234)\"], [0.547244094488189, \"rgb(223, 229, 233)\"], [0.5511811023622047, \"rgb(222, 228, 233)\"], [0.5551181102362205, \"rgb(221, 227, 232)\"], [0.5590551181102362, \"rgb(219, 226, 231)\"], [0.562992125984252, \"rgb(218, 225, 231)\"], [0.5669291338582677, \"rgb(216, 224, 230)\"], [0.5708661417322834, \"rgb(215, 224, 230)\"], [0.5748031496062992, \"rgb(214, 223, 229)\"], [0.5787401574803149, \"rgb(212, 222, 229)\"], [0.5826771653543307, \"rgb(211, 221, 228)\"], [0.5866141732283464, \"rgb(209, 220, 227)\"], [0.5905511811023622, \"rgb(208, 219, 227)\"], [0.5944881889763779, \"rgb(207, 218, 226)\"], [0.5984251968503937, \"rgb(205, 217, 226)\"], [0.6023622047244095, \"rgb(204, 216, 225)\"], [0.6062992125984252, \"rgb(203, 215, 224)\"], [0.610236220472441, \"rgb(201, 214, 224)\"], [0.6141732283464567, \"rgb(200, 213, 223)\"], [0.6181102362204725, \"rgb(198, 212, 223)\"], [0.6220472440944882, \"rgb(197, 212, 222)\"], [0.6259842519685039, \"rgb(196, 211, 222)\"], [0.6299212598425197, \"rgb(194, 210, 221)\"], [0.6338582677165354, \"rgb(193, 209, 220)\"], [0.6377952755905512, \"rgb(191, 208, 220)\"], [0.6417322834645669, \"rgb(190, 207, 219)\"], [0.6456692913385826, \"rgb(189, 206, 219)\"], [0.6496062992125984, \"rgb(187, 205, 218)\"], [0.6535433070866141, \"rgb(186, 204, 217)\"], [0.6574803149606299, \"rgb(185, 203, 217)\"], [0.6614173228346456, \"rgb(183, 202, 216)\"], [0.6653543307086615, \"rgb(182, 201, 216)\"], [0.6692913385826772, \"rgb(180, 200, 215)\"], [0.6732283464566929, \"rgb(179, 200, 214)\"], [0.6771653543307087, \"rgb(178, 199, 214)\"], [0.6811023622047244, \"rgb(176, 198, 213)\"], [0.6850393700787402, \"rgb(175, 197, 213)\"], [0.6889763779527559, \"rgb(173, 196, 212)\"], [0.6929133858267716, \"rgb(172, 195, 212)\"], [0.6968503937007874, \"rgb(171, 194, 211)\"], [0.7007874015748031, \"rgb(169, 193, 210)\"], [0.7047244094488189, \"rgb(168, 192, 210)\"], [0.7086614173228346, \"rgb(167, 191, 209)\"], [0.7125984251968503, \"rgb(165, 190, 209)\"], [0.7165354330708661, \"rgb(164, 189, 208)\"], [0.7204724409448818, \"rgb(162, 188, 207)\"], [0.7244094488188977, \"rgb(161, 188, 207)\"], [0.7283464566929134, \"rgb(160, 187, 206)\"], [0.7322834645669292, \"rgb(158, 186, 206)\"], [0.7362204724409449, \"rgb(157, 185, 205)\"], [0.7401574803149606, \"rgb(156, 184, 205)\"], [0.7440944881889764, \"rgb(154, 183, 204)\"], [0.7480314960629921, \"rgb(153, 182, 203)\"], [0.7519685039370079, \"rgb(151, 181, 203)\"], [0.7559055118110236, \"rgb(150, 180, 202)\"], [0.7598425196850394, \"rgb(149, 179, 202)\"], [0.7637795275590551, \"rgb(147, 178, 201)\"], [0.7677165354330708, \"rgb(146, 177, 200)\"], [0.7716535433070866, \"rgb(144, 176, 200)\"], [0.7755905511811023, \"rgb(143, 176, 199)\"], [0.7795275590551181, \"rgb(142, 175, 199)\"], [0.7834645669291338, \"rgb(140, 174, 198)\"], [0.7874015748031495, \"rgb(139, 173, 197)\"], [0.7913385826771654, \"rgb(138, 172, 197)\"], [0.7952755905511811, \"rgb(136, 171, 196)\"], [0.7992125984251969, \"rgb(135, 170, 196)\"], [0.8031496062992126, \"rgb(133, 169, 195)\"], [0.8070866141732284, \"rgb(132, 168, 195)\"], [0.8110236220472441, \"rgb(131, 167, 194)\"], [0.8149606299212598, \"rgb(129, 166, 193)\"], [0.8188976377952756, \"rgb(128, 165, 193)\"], [0.8228346456692913, \"rgb(126, 164, 192)\"], [0.8267716535433071, \"rgb(125, 164, 192)\"], [0.8307086614173228, \"rgb(124, 163, 191)\"], [0.8346456692913385, \"rgb(122, 162, 190)\"], [0.8385826771653543, \"rgb(121, 161, 190)\"], [0.84251968503937, \"rgb(120, 160, 189)\"], [0.8464566929133858, \"rgb(118, 159, 189)\"], [0.8503937007874016, \"rgb(117, 158, 188)\"], [0.8543307086614174, \"rgb(115, 157, 188)\"], [0.8582677165354331, \"rgb(114, 156, 187)\"], [0.8622047244094488, \"rgb(113, 155, 186)\"], [0.8661417322834646, \"rgb(111, 154, 186)\"], [0.8700787401574803, \"rgb(110, 153, 185)\"], [0.8740157480314961, \"rgb(108, 153, 185)\"], [0.8779527559055118, \"rgb(107, 152, 184)\"], [0.8818897637795275, \"rgb(106, 151, 183)\"], [0.8858267716535433, \"rgb(104, 150, 183)\"], [0.889763779527559, \"rgb(103, 149, 182)\"], [0.8937007874015748, \"rgb(102, 148, 182)\"], [0.8976377952755905, \"rgb(100, 147, 181)\"], [0.9015748031496063, \"rgb(99, 146, 180)\"], [0.905511811023622, \"rgb(97, 145, 180)\"], [0.9094488188976377, \"rgb(96, 144, 179)\"], [0.9133858267716535, \"rgb(95, 143, 179)\"], [0.9173228346456693, \"rgb(93, 142, 178)\"], [0.9212598425196851, \"rgb(92, 141, 178)\"], [0.9251968503937008, \"rgb(91, 141, 177)\"], [0.9291338582677166, \"rgb(89, 140, 176)\"], [0.9330708661417323, \"rgb(88, 139, 176)\"], [0.937007874015748, \"rgb(86, 138, 175)\"], [0.9409448818897638, \"rgb(85, 137, 175)\"], [0.9448818897637795, \"rgb(84, 136, 174)\"], [0.9488188976377953, \"rgb(82, 135, 173)\"], [0.952755905511811, \"rgb(81, 134, 173)\"], [0.9566929133858267, \"rgb(79, 133, 172)\"], [0.9606299212598425, \"rgb(78, 132, 172)\"], [0.9645669291338582, \"rgb(77, 131, 171)\"], [0.968503937007874, \"rgb(75, 130, 171)\"], [0.9724409448818897, \"rgb(74, 129, 170)\"], [0.9763779527559056, \"rgb(73, 129, 169)\"], [0.9803149606299213, \"rgb(71, 128, 169)\"], [0.984251968503937, \"rgb(70, 127, 168)\"], [0.9881889763779528, \"rgb(68, 126, 168)\"], [0.9921259842519685, \"rgb(67, 125, 167)\"], [0.9960629921259843, \"rgb(66, 124, 166)\"], [1.0, \"rgb(64, 123, 166)\"]], \"connectgaps\": false, \"type\": \"heatmap\", \"x\": [\"PTRATIO\", \"LSTAT\", \"RAD\", \"TAX\", \"INDUS\", \"NOX\", \"CHAS\", \"B\", \"RM\", \"target\", \"ZN\", \"DIS\"], \"xgap\": 2, \"y\": [\"DIS\", \"ZN\", \"target\", \"RM\", \"B\", \"CHAS\", \"NOX\", \"INDUS\", \"TAX\", \"RAD\", \"LSTAT\", \"PTRATIO\"], \"ygap\": 2, \"z\": [[-0.23247054240825624, -0.4969958308636852, -0.49458792967207543, -0.5344315844084561, -0.7080269887427683, -0.7692301132258261, -0.09917578017472706, 0.2915116731330401, 0.20524621293005516, 0.24992873408590394, 0.6638446841957253, null], [-0.39120316218140827, -0.41319525406862845, -0.31171244646699464, -0.3143380917377908, -0.5335828984741289, -0.5163097674725308, -0.04253337190728173, 0.17534122571961053, 0.31221813035696344, 0.36058036004339816, null, null], [-0.507786685537561, -0.7376627261740143, -0.3816262306397776, -0.46853593356776646, -0.483725160028373, -0.4273207723732817, 0.1752601771902975, 0.33346081965706653, 0.6953599470715389, null, null, null], [-0.3555014945590849, -0.6138082718663957, -0.20984666776610877, -0.29204783262321915, -0.39167585265684357, -0.3021881878495933, 0.09125122504345595, 0.1280686350925431, null, null, null, null], [-0.17738330230523142, -0.3660869016915971, -0.44441281557512574, -0.44180800672281384, -0.3569765351041929, -0.3800506377924003, 0.04878848495516622, null, null, null, null, null], [-0.121515173658062, -0.05392929837569404, -0.007368240886077726, -0.03558651758591118, 0.0629380274896654, 0.09120280684249406, null, null, null, null, null, null], [0.18893267711276665, 0.5908789208808449, 0.6114405634855754, 0.6680232004030201, 0.7636514469209145, null, null, null, null, null, null, null], [0.38324755642888675, 0.6037997164766213, 0.5951292746038486, 0.7207601799515441, null, null, null, null, null, null, null, null], [0.4608530350656657, 0.543993412001569, 0.9102281885331822, null, null, null, null, null, null, null, null, null], [0.46474117850305435, 0.4886763349750664, null, null, null, null, null, null, null, null, null, null], [0.3740443167146754, null, null, null, null, null, null, null, null, null, null, null], [null, null, null, null, null, null, null, null, null, null, null, null]]}],\n",
       "                        {\"autosize\": false, \"height\": 750, \"paper_bgcolor\": \"rgb(0,0,0,0)\", \"plot_bgcolor\": \"rgb(0,0,0,0)\", \"template\": {\"data\": {\"bar\": [{\"error_x\": {\"color\": \"#2a3f5f\"}, \"error_y\": {\"color\": \"#2a3f5f\"}, \"marker\": {\"line\": {\"color\": \"#E5ECF6\", \"width\": 0.5}}, \"type\": \"bar\"}], \"barpolar\": [{\"marker\": {\"line\": {\"color\": \"#E5ECF6\", \"width\": 0.5}}, \"type\": \"barpolar\"}], \"carpet\": [{\"aaxis\": {\"endlinecolor\": \"#2a3f5f\", \"gridcolor\": \"white\", \"linecolor\": \"white\", \"minorgridcolor\": \"white\", \"startlinecolor\": \"#2a3f5f\"}, \"baxis\": {\"endlinecolor\": \"#2a3f5f\", \"gridcolor\": \"white\", \"linecolor\": \"white\", \"minorgridcolor\": \"white\", \"startlinecolor\": \"#2a3f5f\"}, \"type\": \"carpet\"}], \"choropleth\": [{\"colorbar\": {\"outlinewidth\": 0, \"ticks\": \"\"}, \"type\": \"choropleth\"}], \"contour\": [{\"colorbar\": {\"outlinewidth\": 0, \"ticks\": \"\"}, \"colorscale\": [[0.0, \"#0d0887\"], [0.1111111111111111, \"#46039f\"], [0.2222222222222222, \"#7201a8\"], [0.3333333333333333, \"#9c179e\"], [0.4444444444444444, \"#bd3786\"], [0.5555555555555556, \"#d8576b\"], [0.6666666666666666, \"#ed7953\"], [0.7777777777777778, \"#fb9f3a\"], [0.8888888888888888, \"#fdca26\"], [1.0, \"#f0f921\"]], \"type\": \"contour\"}], \"contourcarpet\": [{\"colorbar\": {\"outlinewidth\": 0, \"ticks\": \"\"}, \"type\": \"contourcarpet\"}], \"heatmap\": [{\"colorbar\": {\"outlinewidth\": 0, \"ticks\": \"\"}, \"colorscale\": [[0.0, \"#0d0887\"], [0.1111111111111111, \"#46039f\"], [0.2222222222222222, \"#7201a8\"], [0.3333333333333333, \"#9c179e\"], [0.4444444444444444, \"#bd3786\"], [0.5555555555555556, \"#d8576b\"], [0.6666666666666666, \"#ed7953\"], [0.7777777777777778, \"#fb9f3a\"], [0.8888888888888888, \"#fdca26\"], [1.0, \"#f0f921\"]], \"type\": \"heatmap\"}], \"heatmapgl\": [{\"colorbar\": {\"outlinewidth\": 0, \"ticks\": \"\"}, \"colorscale\": [[0.0, \"#0d0887\"], [0.1111111111111111, \"#46039f\"], [0.2222222222222222, \"#7201a8\"], [0.3333333333333333, \"#9c179e\"], [0.4444444444444444, \"#bd3786\"], [0.5555555555555556, \"#d8576b\"], [0.6666666666666666, \"#ed7953\"], [0.7777777777777778, \"#fb9f3a\"], [0.8888888888888888, \"#fdca26\"], [1.0, \"#f0f921\"]], \"type\": \"heatmapgl\"}], \"histogram\": [{\"marker\": {\"colorbar\": {\"outlinewidth\": 0, \"ticks\": \"\"}}, \"type\": \"histogram\"}], \"histogram2d\": [{\"colorbar\": {\"outlinewidth\": 0, \"ticks\": \"\"}, \"colorscale\": [[0.0, \"#0d0887\"], [0.1111111111111111, \"#46039f\"], [0.2222222222222222, \"#7201a8\"], [0.3333333333333333, \"#9c179e\"], [0.4444444444444444, \"#bd3786\"], [0.5555555555555556, \"#d8576b\"], [0.6666666666666666, \"#ed7953\"], [0.7777777777777778, \"#fb9f3a\"], [0.8888888888888888, \"#fdca26\"], [1.0, \"#f0f921\"]], \"type\": \"histogram2d\"}], \"histogram2dcontour\": [{\"colorbar\": {\"outlinewidth\": 0, \"ticks\": \"\"}, \"colorscale\": [[0.0, \"#0d0887\"], [0.1111111111111111, \"#46039f\"], [0.2222222222222222, \"#7201a8\"], [0.3333333333333333, \"#9c179e\"], [0.4444444444444444, \"#bd3786\"], [0.5555555555555556, \"#d8576b\"], [0.6666666666666666, \"#ed7953\"], [0.7777777777777778, \"#fb9f3a\"], [0.8888888888888888, \"#fdca26\"], [1.0, \"#f0f921\"]], \"type\": \"histogram2dcontour\"}], \"mesh3d\": [{\"colorbar\": {\"outlinewidth\": 0, \"ticks\": \"\"}, \"type\": \"mesh3d\"}], \"parcoords\": [{\"line\": {\"colorbar\": {\"outlinewidth\": 0, \"ticks\": \"\"}}, \"type\": \"parcoords\"}], \"pie\": [{\"automargin\": true, \"type\": \"pie\"}], \"scatter\": [{\"marker\": {\"colorbar\": {\"outlinewidth\": 0, \"ticks\": \"\"}}, \"type\": \"scatter\"}], \"scatter3d\": [{\"line\": {\"colorbar\": {\"outlinewidth\": 0, \"ticks\": \"\"}}, \"marker\": {\"colorbar\": {\"outlinewidth\": 0, \"ticks\": \"\"}}, \"type\": \"scatter3d\"}], \"scattercarpet\": [{\"marker\": {\"colorbar\": {\"outlinewidth\": 0, \"ticks\": \"\"}}, \"type\": \"scattercarpet\"}], \"scattergeo\": [{\"marker\": {\"colorbar\": {\"outlinewidth\": 0, \"ticks\": \"\"}}, \"type\": \"scattergeo\"}], \"scattergl\": [{\"marker\": {\"colorbar\": {\"outlinewidth\": 0, \"ticks\": \"\"}}, \"type\": \"scattergl\"}], \"scattermapbox\": [{\"marker\": {\"colorbar\": {\"outlinewidth\": 0, \"ticks\": \"\"}}, \"type\": \"scattermapbox\"}], \"scatterpolar\": [{\"marker\": {\"colorbar\": {\"outlinewidth\": 0, \"ticks\": \"\"}}, \"type\": \"scatterpolar\"}], \"scatterpolargl\": [{\"marker\": {\"colorbar\": {\"outlinewidth\": 0, \"ticks\": \"\"}}, \"type\": \"scatterpolargl\"}], \"scatterternary\": [{\"marker\": {\"colorbar\": {\"outlinewidth\": 0, \"ticks\": \"\"}}, \"type\": \"scatterternary\"}], \"surface\": [{\"colorbar\": {\"outlinewidth\": 0, \"ticks\": \"\"}, \"colorscale\": [[0.0, \"#0d0887\"], [0.1111111111111111, \"#46039f\"], [0.2222222222222222, \"#7201a8\"], [0.3333333333333333, \"#9c179e\"], [0.4444444444444444, \"#bd3786\"], [0.5555555555555556, \"#d8576b\"], [0.6666666666666666, \"#ed7953\"], [0.7777777777777778, \"#fb9f3a\"], [0.8888888888888888, \"#fdca26\"], [1.0, \"#f0f921\"]], \"type\": \"surface\"}], \"table\": [{\"cells\": {\"fill\": {\"color\": \"#EBF0F8\"}, \"line\": {\"color\": \"white\"}}, \"header\": {\"fill\": {\"color\": \"#C8D4E3\"}, \"line\": {\"color\": \"white\"}}, \"type\": \"table\"}]}, \"layout\": {\"annotationdefaults\": {\"arrowcolor\": \"#2a3f5f\", \"arrowhead\": 0, \"arrowwidth\": 1}, \"coloraxis\": {\"colorbar\": {\"outlinewidth\": 0, \"ticks\": \"\"}}, \"colorscale\": {\"diverging\": [[0, \"#8e0152\"], [0.1, \"#c51b7d\"], [0.2, \"#de77ae\"], [0.3, \"#f1b6da\"], [0.4, \"#fde0ef\"], [0.5, \"#f7f7f7\"], [0.6, \"#e6f5d0\"], [0.7, \"#b8e186\"], [0.8, \"#7fbc41\"], [0.9, \"#4d9221\"], [1, \"#276419\"]], \"sequential\": [[0.0, \"#0d0887\"], [0.1111111111111111, \"#46039f\"], [0.2222222222222222, \"#7201a8\"], [0.3333333333333333, \"#9c179e\"], [0.4444444444444444, \"#bd3786\"], [0.5555555555555556, \"#d8576b\"], [0.6666666666666666, \"#ed7953\"], [0.7777777777777778, \"#fb9f3a\"], [0.8888888888888888, \"#fdca26\"], [1.0, \"#f0f921\"]], \"sequentialminus\": [[0.0, \"#0d0887\"], [0.1111111111111111, \"#46039f\"], [0.2222222222222222, \"#7201a8\"], [0.3333333333333333, \"#9c179e\"], [0.4444444444444444, \"#bd3786\"], [0.5555555555555556, \"#d8576b\"], [0.6666666666666666, \"#ed7953\"], [0.7777777777777778, \"#fb9f3a\"], [0.8888888888888888, \"#fdca26\"], [1.0, \"#f0f921\"]]}, \"colorway\": [\"#636efa\", \"#EF553B\", \"#00cc96\", \"#ab63fa\", \"#FFA15A\", \"#19d3f3\", \"#FF6692\", \"#B6E880\", \"#FF97FF\", \"#FECB52\"], \"font\": {\"color\": \"#2a3f5f\"}, \"geo\": {\"bgcolor\": \"white\", \"lakecolor\": \"white\", \"landcolor\": \"#E5ECF6\", \"showlakes\": true, \"showland\": true, \"subunitcolor\": \"white\"}, \"hoverlabel\": {\"align\": \"left\"}, \"hovermode\": \"closest\", \"mapbox\": {\"style\": \"light\"}, \"paper_bgcolor\": \"white\", \"plot_bgcolor\": \"#E5ECF6\", \"polar\": {\"angularaxis\": {\"gridcolor\": \"white\", \"linecolor\": \"white\", \"ticks\": \"\"}, \"bgcolor\": \"#E5ECF6\", \"radialaxis\": {\"gridcolor\": \"white\", \"linecolor\": \"white\", \"ticks\": \"\"}}, \"scene\": {\"xaxis\": {\"backgroundcolor\": \"#E5ECF6\", \"gridcolor\": \"white\", \"gridwidth\": 2, \"linecolor\": \"white\", \"showbackground\": true, \"ticks\": \"\", \"zerolinecolor\": \"white\"}, \"yaxis\": {\"backgroundcolor\": \"#E5ECF6\", \"gridcolor\": \"white\", \"gridwidth\": 2, \"linecolor\": \"white\", \"showbackground\": true, \"ticks\": \"\", \"zerolinecolor\": \"white\"}, \"zaxis\": {\"backgroundcolor\": \"#E5ECF6\", \"gridcolor\": \"white\", \"gridwidth\": 2, \"linecolor\": \"white\", \"showbackground\": true, \"ticks\": \"\", \"zerolinecolor\": \"white\"}}, \"shapedefaults\": {\"line\": {\"color\": \"#2a3f5f\"}}, \"ternary\": {\"aaxis\": {\"gridcolor\": \"white\", \"linecolor\": \"white\", \"ticks\": \"\"}, \"baxis\": {\"gridcolor\": \"white\", \"linecolor\": \"white\", \"ticks\": \"\"}, \"bgcolor\": \"#E5ECF6\", \"caxis\": {\"gridcolor\": \"white\", \"linecolor\": \"white\", \"ticks\": \"\"}}, \"title\": {\"x\": 0.05}, \"xaxis\": {\"automargin\": true, \"gridcolor\": \"white\", \"linecolor\": \"white\", \"ticks\": \"\", \"title\": {\"standoff\": 15}, \"zerolinecolor\": \"white\", \"zerolinewidth\": 2}, \"yaxis\": {\"automargin\": true, \"gridcolor\": \"white\", \"linecolor\": \"white\", \"ticks\": \"\", \"title\": {\"standoff\": 15}, \"zerolinecolor\": \"white\", \"zerolinewidth\": 2}}}, \"title\": {\"font\": {\"size\": 25}, \"text\": \"Correlation Matrix\"}, \"width\": 750, \"xaxis\": {\"automargin\": true, \"showgrid\": false, \"tickangle\": -90, \"ticks\": \"\"}, \"yaxis\": {\"automargin\": true, \"showgrid\": false, \"ticks\": \"\"}},\n",
       "                        {\"displayModeBar\": false, \"responsive\": true}\n",
       "                    ).then(function(){\n",
       "                            \n",
       "var gd = document.getElementById('d2e0101f-8972-4883-a007-26a3114073aa');\n",
       "var x = new MutationObserver(function (mutations, observer) {{\n",
       "        var display = window.getComputedStyle(gd).display;\n",
       "        if (!display || display === 'none') {{\n",
       "            console.log([gd, 'removed!']);\n",
       "            Plotly.purge(gd);\n",
       "            observer.disconnect();\n",
       "        }}\n",
       "}});\n",
       "\n",
       "// Listen for the removal of the full notebook cells\n",
       "var notebookContainer = gd.closest('#notebook-container');\n",
       "if (notebookContainer) {{\n",
       "    x.observe(notebookContainer, {childList: true});\n",
       "}}\n",
       "\n",
       "// Listen for the clearing of the current output cell\n",
       "var outputEl = gd.closest('.output');\n",
       "if (outputEl) {{\n",
       "    x.observe(outputEl, {childList: true});\n",
       "}}\n",
       "\n",
       "                        })\n",
       "                };\n",
       "                });\n",
       "            </script>\n",
       "        </div>"
      ]
     },
     "metadata": {},
     "output_type": "display_data"
    },
    {
     "data": {
      "text/plain": [
       "None"
      ]
     },
     "metadata": {},
     "output_type": "display_data"
    },
    {
     "data": {
      "text/plain": [
       "<data_describe.core.correlations.CorrelationMatrixWidget at 0x1a0a5b59e88>"
      ]
     },
     "execution_count": 5,
     "metadata": {},
     "output_type": "execute_result"
    }
   ],
   "source": [
    "dd.correlation_matrix(df, cluster=True, viz_backend=\"plotly\")"
   ]
  },
  {
   "cell_type": "markdown",
   "metadata": {
    "papermill": {
     "duration": 0.022381,
     "end_time": "2020-08-20T00:38:08.528786",
     "exception": false,
     "start_time": "2020-08-20T00:38:08.506405",
     "status": "completed"
    },
    "tags": []
   },
   "source": [
    "## Show categorical features\n",
    "**WARNING**: When using categorical features, the matrix represents strength of association (i.e. in the scale [0, 1]). This is because it is hard to define the meaning of a *negative association* involving a categorical feature."
   ]
  },
  {
   "cell_type": "code",
   "execution_count": 6,
   "metadata": {
    "execution": {
     "iopub.execute_input": "2020-08-20T00:38:08.572997Z",
     "iopub.status.busy": "2020-08-20T00:38:08.571494Z",
     "iopub.status.idle": "2020-08-20T00:38:08.836429Z",
     "shell.execute_reply": "2020-08-20T00:38:08.836952Z"
    },
    "papermill": {
     "duration": 0.284619,
     "end_time": "2020-08-20T00:38:08.837170",
     "exception": false,
     "start_time": "2020-08-20T00:38:08.552551",
     "status": "completed"
    },
    "tags": []
   },
   "outputs": [
    {
     "data": {
      "text/html": [
       "        <script type=\"text/javascript\">\n",
       "        window.PlotlyConfig = {MathJaxConfig: 'local'};\n",
       "        if (window.MathJax) {MathJax.Hub.Config({SVG: {font: \"STIX-Web\"}});}\n",
       "        if (typeof require !== 'undefined') {\n",
       "        require.undef(\"plotly\");\n",
       "        requirejs.config({\n",
       "            paths: {\n",
       "                'plotly': ['https://cdn.plot.ly/plotly-latest.min']\n",
       "            }\n",
       "        });\n",
       "        require(['plotly'], function(Plotly) {\n",
       "            window._Plotly = Plotly;\n",
       "        });\n",
       "        }\n",
       "        </script>\n",
       "        "
      ]
     },
     "metadata": {},
     "output_type": "display_data"
    },
    {
     "data": {
      "application/vnd.plotly.v1+json": {
       "config": {
        "displayModeBar": false,
        "linkText": "Export to plot.ly",
        "plotlyServerURL": "https://plot.ly",
        "showLink": false
       },
       "data": [
        {
         "colorbar": {
          "title": {
           "text": "Strength"
          }
         },
         "colorscale": [
          [
           0,
           "rgb(216, 57, 69)"
          ],
          [
           0.003937007874015748,
           "rgb(216, 59, 71)"
          ],
          [
           0.007874015748031496,
           "rgb(216, 60, 72)"
          ],
          [
           0.011811023622047244,
           "rgb(216, 62, 73)"
          ],
          [
           0.015748031496062992,
           "rgb(216, 63, 75)"
          ],
          [
           0.01968503937007874,
           "rgb(217, 64, 76)"
          ],
          [
           0.023622047244094488,
           "rgb(217, 66, 77)"
          ],
          [
           0.027559055118110236,
           "rgb(217, 67, 79)"
          ],
          [
           0.031496062992125984,
           "rgb(217, 69, 80)"
          ],
          [
           0.03543307086614173,
           "rgb(217, 70, 81)"
          ],
          [
           0.03937007874015748,
           "rgb(218, 72, 83)"
          ],
          [
           0.04330708661417323,
           "rgb(218, 73, 84)"
          ],
          [
           0.047244094488188976,
           "rgb(218, 75, 85)"
          ],
          [
           0.051181102362204724,
           "rgb(218, 76, 87)"
          ],
          [
           0.05511811023622047,
           "rgb(218, 77, 88)"
          ],
          [
           0.05905511811023622,
           "rgb(219, 79, 89)"
          ],
          [
           0.06299212598425197,
           "rgb(219, 80, 91)"
          ],
          [
           0.06692913385826771,
           "rgb(219, 82, 92)"
          ],
          [
           0.07086614173228346,
           "rgb(219, 83, 93)"
          ],
          [
           0.07480314960629922,
           "rgb(219, 85, 95)"
          ],
          [
           0.07874015748031496,
           "rgb(220, 86, 96)"
          ],
          [
           0.0826771653543307,
           "rgb(220, 87, 97)"
          ],
          [
           0.08661417322834646,
           "rgb(220, 89, 99)"
          ],
          [
           0.09055118110236221,
           "rgb(220, 90, 100)"
          ],
          [
           0.09448818897637795,
           "rgb(220, 92, 101)"
          ],
          [
           0.09842519685039369,
           "rgb(221, 93, 103)"
          ],
          [
           0.10236220472440945,
           "rgb(221, 95, 104)"
          ],
          [
           0.1062992125984252,
           "rgb(221, 96, 106)"
          ],
          [
           0.11023622047244094,
           "rgb(221, 98, 107)"
          ],
          [
           0.11417322834645668,
           "rgb(221, 99, 108)"
          ],
          [
           0.11811023622047244,
           "rgb(222, 100, 110)"
          ],
          [
           0.1220472440944882,
           "rgb(222, 102, 111)"
          ],
          [
           0.12598425196850394,
           "rgb(222, 103, 112)"
          ],
          [
           0.12992125984251968,
           "rgb(222, 105, 114)"
          ],
          [
           0.13385826771653542,
           "rgb(222, 106, 115)"
          ],
          [
           0.1377952755905512,
           "rgb(222, 108, 116)"
          ],
          [
           0.14173228346456693,
           "rgb(223, 109, 118)"
          ],
          [
           0.14566929133858267,
           "rgb(223, 110, 119)"
          ],
          [
           0.14960629921259844,
           "rgb(223, 112, 120)"
          ],
          [
           0.15354330708661418,
           "rgb(223, 113, 122)"
          ],
          [
           0.15748031496062992,
           "rgb(223, 115, 123)"
          ],
          [
           0.16141732283464566,
           "rgb(224, 116, 124)"
          ],
          [
           0.1653543307086614,
           "rgb(224, 118, 126)"
          ],
          [
           0.16929133858267717,
           "rgb(224, 119, 127)"
          ],
          [
           0.1732283464566929,
           "rgb(224, 121, 128)"
          ],
          [
           0.17716535433070865,
           "rgb(224, 122, 130)"
          ],
          [
           0.18110236220472442,
           "rgb(225, 123, 131)"
          ],
          [
           0.18503937007874016,
           "rgb(225, 125, 132)"
          ],
          [
           0.1889763779527559,
           "rgb(225, 126, 134)"
          ],
          [
           0.19291338582677164,
           "rgb(225, 128, 135)"
          ],
          [
           0.19685039370078738,
           "rgb(225, 129, 136)"
          ],
          [
           0.20078740157480315,
           "rgb(226, 131, 138)"
          ],
          [
           0.2047244094488189,
           "rgb(226, 132, 139)"
          ],
          [
           0.20866141732283464,
           "rgb(226, 133, 140)"
          ],
          [
           0.2125984251968504,
           "rgb(226, 135, 142)"
          ],
          [
           0.21653543307086615,
           "rgb(226, 136, 143)"
          ],
          [
           0.2204724409448819,
           "rgb(227, 138, 144)"
          ],
          [
           0.22440944881889763,
           "rgb(227, 139, 146)"
          ],
          [
           0.22834645669291337,
           "rgb(227, 141, 147)"
          ],
          [
           0.23228346456692914,
           "rgb(227, 142, 149)"
          ],
          [
           0.23622047244094488,
           "rgb(227, 144, 150)"
          ],
          [
           0.24015748031496062,
           "rgb(228, 145, 151)"
          ],
          [
           0.2440944881889764,
           "rgb(228, 146, 153)"
          ],
          [
           0.24803149606299213,
           "rgb(228, 148, 154)"
          ],
          [
           0.25196850393700787,
           "rgb(228, 149, 155)"
          ],
          [
           0.2559055118110236,
           "rgb(228, 151, 157)"
          ],
          [
           0.25984251968503935,
           "rgb(229, 152, 158)"
          ],
          [
           0.2637795275590551,
           "rgb(229, 154, 159)"
          ],
          [
           0.26771653543307083,
           "rgb(229, 155, 161)"
          ],
          [
           0.27165354330708663,
           "rgb(229, 156, 162)"
          ],
          [
           0.2755905511811024,
           "rgb(229, 158, 163)"
          ],
          [
           0.2795275590551181,
           "rgb(230, 159, 165)"
          ],
          [
           0.28346456692913385,
           "rgb(230, 161, 166)"
          ],
          [
           0.2874015748031496,
           "rgb(230, 162, 167)"
          ],
          [
           0.29133858267716534,
           "rgb(230, 164, 169)"
          ],
          [
           0.2952755905511811,
           "rgb(230, 165, 170)"
          ],
          [
           0.2992125984251969,
           "rgb(230, 167, 171)"
          ],
          [
           0.3031496062992126,
           "rgb(231, 168, 173)"
          ],
          [
           0.30708661417322836,
           "rgb(231, 169, 174)"
          ],
          [
           0.3110236220472441,
           "rgb(231, 171, 175)"
          ],
          [
           0.31496062992125984,
           "rgb(231, 172, 177)"
          ],
          [
           0.3188976377952756,
           "rgb(231, 174, 178)"
          ],
          [
           0.3228346456692913,
           "rgb(232, 175, 179)"
          ],
          [
           0.32677165354330706,
           "rgb(232, 177, 181)"
          ],
          [
           0.3307086614173228,
           "rgb(232, 178, 182)"
          ],
          [
           0.3346456692913386,
           "rgb(232, 179, 183)"
          ],
          [
           0.33858267716535434,
           "rgb(232, 181, 185)"
          ],
          [
           0.3425196850393701,
           "rgb(233, 182, 186)"
          ],
          [
           0.3464566929133858,
           "rgb(233, 184, 187)"
          ],
          [
           0.35039370078740156,
           "rgb(233, 185, 189)"
          ],
          [
           0.3543307086614173,
           "rgb(233, 187, 190)"
          ],
          [
           0.35826771653543305,
           "rgb(233, 188, 192)"
          ],
          [
           0.36220472440944884,
           "rgb(234, 190, 193)"
          ],
          [
           0.3661417322834646,
           "rgb(234, 191, 194)"
          ],
          [
           0.3700787401574803,
           "rgb(234, 192, 196)"
          ],
          [
           0.37401574803149606,
           "rgb(234, 194, 197)"
          ],
          [
           0.3779527559055118,
           "rgb(234, 195, 198)"
          ],
          [
           0.38188976377952755,
           "rgb(235, 197, 200)"
          ],
          [
           0.3858267716535433,
           "rgb(235, 198, 201)"
          ],
          [
           0.38976377952755903,
           "rgb(235, 200, 202)"
          ],
          [
           0.39370078740157477,
           "rgb(235, 201, 204)"
          ],
          [
           0.39763779527559057,
           "rgb(235, 202, 205)"
          ],
          [
           0.4015748031496063,
           "rgb(236, 204, 206)"
          ],
          [
           0.40551181102362205,
           "rgb(236, 205, 208)"
          ],
          [
           0.4094488188976378,
           "rgb(236, 207, 209)"
          ],
          [
           0.41338582677165353,
           "rgb(236, 208, 210)"
          ],
          [
           0.41732283464566927,
           "rgb(236, 210, 212)"
          ],
          [
           0.421259842519685,
           "rgb(237, 211, 213)"
          ],
          [
           0.4251968503937008,
           "rgb(237, 213, 214)"
          ],
          [
           0.42913385826771655,
           "rgb(237, 214, 216)"
          ],
          [
           0.4330708661417323,
           "rgb(237, 215, 217)"
          ],
          [
           0.43700787401574803,
           "rgb(237, 217, 218)"
          ],
          [
           0.4409448818897638,
           "rgb(238, 218, 220)"
          ],
          [
           0.4448818897637795,
           "rgb(238, 220, 221)"
          ],
          [
           0.44881889763779526,
           "rgb(238, 221, 222)"
          ],
          [
           0.452755905511811,
           "rgb(238, 223, 224)"
          ],
          [
           0.45669291338582674,
           "rgb(238, 224, 225)"
          ],
          [
           0.46062992125984253,
           "rgb(239, 225, 226)"
          ],
          [
           0.4645669291338583,
           "rgb(239, 227, 228)"
          ],
          [
           0.468503937007874,
           "rgb(239, 228, 229)"
          ],
          [
           0.47244094488188976,
           "rgb(239, 230, 230)"
          ],
          [
           0.4763779527559055,
           "rgb(239, 231, 232)"
          ],
          [
           0.48031496062992124,
           "rgb(239, 233, 233)"
          ],
          [
           0.484251968503937,
           "rgb(240, 234, 235)"
          ],
          [
           0.4881889763779528,
           "rgb(240, 236, 236)"
          ],
          [
           0.4921259842519685,
           "rgb(240, 237, 237)"
          ],
          [
           0.49606299212598426,
           "rgb(240, 238, 239)"
          ],
          [
           0.5,
           "rgb(240, 240, 240)"
          ],
          [
           0.5039370078740157,
           "rgb(238, 239, 240)"
          ],
          [
           0.5078740157480315,
           "rgb(237, 238, 239)"
          ],
          [
           0.5118110236220472,
           "rgb(236, 237, 239)"
          ],
          [
           0.515748031496063,
           "rgb(234, 236, 238)"
          ],
          [
           0.5196850393700787,
           "rgb(233, 235, 237)"
          ],
          [
           0.5236220472440944,
           "rgb(232, 235, 237)"
          ],
          [
           0.5275590551181102,
           "rgb(230, 234, 236)"
          ],
          [
           0.5314960629921259,
           "rgb(229, 233, 236)"
          ],
          [
           0.5354330708661417,
           "rgb(227, 232, 235)"
          ],
          [
           0.5393700787401575,
           "rgb(226, 231, 234)"
          ],
          [
           0.5433070866141733,
           "rgb(225, 230, 234)"
          ],
          [
           0.547244094488189,
           "rgb(223, 229, 233)"
          ],
          [
           0.5511811023622047,
           "rgb(222, 228, 233)"
          ],
          [
           0.5551181102362205,
           "rgb(221, 227, 232)"
          ],
          [
           0.5590551181102362,
           "rgb(219, 226, 231)"
          ],
          [
           0.562992125984252,
           "rgb(218, 225, 231)"
          ],
          [
           0.5669291338582677,
           "rgb(216, 224, 230)"
          ],
          [
           0.5708661417322834,
           "rgb(215, 224, 230)"
          ],
          [
           0.5748031496062992,
           "rgb(214, 223, 229)"
          ],
          [
           0.5787401574803149,
           "rgb(212, 222, 229)"
          ],
          [
           0.5826771653543307,
           "rgb(211, 221, 228)"
          ],
          [
           0.5866141732283464,
           "rgb(209, 220, 227)"
          ],
          [
           0.5905511811023622,
           "rgb(208, 219, 227)"
          ],
          [
           0.5944881889763779,
           "rgb(207, 218, 226)"
          ],
          [
           0.5984251968503937,
           "rgb(205, 217, 226)"
          ],
          [
           0.6023622047244095,
           "rgb(204, 216, 225)"
          ],
          [
           0.6062992125984252,
           "rgb(203, 215, 224)"
          ],
          [
           0.610236220472441,
           "rgb(201, 214, 224)"
          ],
          [
           0.6141732283464567,
           "rgb(200, 213, 223)"
          ],
          [
           0.6181102362204725,
           "rgb(198, 212, 223)"
          ],
          [
           0.6220472440944882,
           "rgb(197, 212, 222)"
          ],
          [
           0.6259842519685039,
           "rgb(196, 211, 222)"
          ],
          [
           0.6299212598425197,
           "rgb(194, 210, 221)"
          ],
          [
           0.6338582677165354,
           "rgb(193, 209, 220)"
          ],
          [
           0.6377952755905512,
           "rgb(191, 208, 220)"
          ],
          [
           0.6417322834645669,
           "rgb(190, 207, 219)"
          ],
          [
           0.6456692913385826,
           "rgb(189, 206, 219)"
          ],
          [
           0.6496062992125984,
           "rgb(187, 205, 218)"
          ],
          [
           0.6535433070866141,
           "rgb(186, 204, 217)"
          ],
          [
           0.6574803149606299,
           "rgb(185, 203, 217)"
          ],
          [
           0.6614173228346456,
           "rgb(183, 202, 216)"
          ],
          [
           0.6653543307086615,
           "rgb(182, 201, 216)"
          ],
          [
           0.6692913385826772,
           "rgb(180, 200, 215)"
          ],
          [
           0.6732283464566929,
           "rgb(179, 200, 214)"
          ],
          [
           0.6771653543307087,
           "rgb(178, 199, 214)"
          ],
          [
           0.6811023622047244,
           "rgb(176, 198, 213)"
          ],
          [
           0.6850393700787402,
           "rgb(175, 197, 213)"
          ],
          [
           0.6889763779527559,
           "rgb(173, 196, 212)"
          ],
          [
           0.6929133858267716,
           "rgb(172, 195, 212)"
          ],
          [
           0.6968503937007874,
           "rgb(171, 194, 211)"
          ],
          [
           0.7007874015748031,
           "rgb(169, 193, 210)"
          ],
          [
           0.7047244094488189,
           "rgb(168, 192, 210)"
          ],
          [
           0.7086614173228346,
           "rgb(167, 191, 209)"
          ],
          [
           0.7125984251968503,
           "rgb(165, 190, 209)"
          ],
          [
           0.7165354330708661,
           "rgb(164, 189, 208)"
          ],
          [
           0.7204724409448818,
           "rgb(162, 188, 207)"
          ],
          [
           0.7244094488188977,
           "rgb(161, 188, 207)"
          ],
          [
           0.7283464566929134,
           "rgb(160, 187, 206)"
          ],
          [
           0.7322834645669292,
           "rgb(158, 186, 206)"
          ],
          [
           0.7362204724409449,
           "rgb(157, 185, 205)"
          ],
          [
           0.7401574803149606,
           "rgb(156, 184, 205)"
          ],
          [
           0.7440944881889764,
           "rgb(154, 183, 204)"
          ],
          [
           0.7480314960629921,
           "rgb(153, 182, 203)"
          ],
          [
           0.7519685039370079,
           "rgb(151, 181, 203)"
          ],
          [
           0.7559055118110236,
           "rgb(150, 180, 202)"
          ],
          [
           0.7598425196850394,
           "rgb(149, 179, 202)"
          ],
          [
           0.7637795275590551,
           "rgb(147, 178, 201)"
          ],
          [
           0.7677165354330708,
           "rgb(146, 177, 200)"
          ],
          [
           0.7716535433070866,
           "rgb(144, 176, 200)"
          ],
          [
           0.7755905511811023,
           "rgb(143, 176, 199)"
          ],
          [
           0.7795275590551181,
           "rgb(142, 175, 199)"
          ],
          [
           0.7834645669291338,
           "rgb(140, 174, 198)"
          ],
          [
           0.7874015748031495,
           "rgb(139, 173, 197)"
          ],
          [
           0.7913385826771654,
           "rgb(138, 172, 197)"
          ],
          [
           0.7952755905511811,
           "rgb(136, 171, 196)"
          ],
          [
           0.7992125984251969,
           "rgb(135, 170, 196)"
          ],
          [
           0.8031496062992126,
           "rgb(133, 169, 195)"
          ],
          [
           0.8070866141732284,
           "rgb(132, 168, 195)"
          ],
          [
           0.8110236220472441,
           "rgb(131, 167, 194)"
          ],
          [
           0.8149606299212598,
           "rgb(129, 166, 193)"
          ],
          [
           0.8188976377952756,
           "rgb(128, 165, 193)"
          ],
          [
           0.8228346456692913,
           "rgb(126, 164, 192)"
          ],
          [
           0.8267716535433071,
           "rgb(125, 164, 192)"
          ],
          [
           0.8307086614173228,
           "rgb(124, 163, 191)"
          ],
          [
           0.8346456692913385,
           "rgb(122, 162, 190)"
          ],
          [
           0.8385826771653543,
           "rgb(121, 161, 190)"
          ],
          [
           0.84251968503937,
           "rgb(120, 160, 189)"
          ],
          [
           0.8464566929133858,
           "rgb(118, 159, 189)"
          ],
          [
           0.8503937007874016,
           "rgb(117, 158, 188)"
          ],
          [
           0.8543307086614174,
           "rgb(115, 157, 188)"
          ],
          [
           0.8582677165354331,
           "rgb(114, 156, 187)"
          ],
          [
           0.8622047244094488,
           "rgb(113, 155, 186)"
          ],
          [
           0.8661417322834646,
           "rgb(111, 154, 186)"
          ],
          [
           0.8700787401574803,
           "rgb(110, 153, 185)"
          ],
          [
           0.8740157480314961,
           "rgb(108, 153, 185)"
          ],
          [
           0.8779527559055118,
           "rgb(107, 152, 184)"
          ],
          [
           0.8818897637795275,
           "rgb(106, 151, 183)"
          ],
          [
           0.8858267716535433,
           "rgb(104, 150, 183)"
          ],
          [
           0.889763779527559,
           "rgb(103, 149, 182)"
          ],
          [
           0.8937007874015748,
           "rgb(102, 148, 182)"
          ],
          [
           0.8976377952755905,
           "rgb(100, 147, 181)"
          ],
          [
           0.9015748031496063,
           "rgb(99, 146, 180)"
          ],
          [
           0.905511811023622,
           "rgb(97, 145, 180)"
          ],
          [
           0.9094488188976377,
           "rgb(96, 144, 179)"
          ],
          [
           0.9133858267716535,
           "rgb(95, 143, 179)"
          ],
          [
           0.9173228346456693,
           "rgb(93, 142, 178)"
          ],
          [
           0.9212598425196851,
           "rgb(92, 141, 178)"
          ],
          [
           0.9251968503937008,
           "rgb(91, 141, 177)"
          ],
          [
           0.9291338582677166,
           "rgb(89, 140, 176)"
          ],
          [
           0.9330708661417323,
           "rgb(88, 139, 176)"
          ],
          [
           0.937007874015748,
           "rgb(86, 138, 175)"
          ],
          [
           0.9409448818897638,
           "rgb(85, 137, 175)"
          ],
          [
           0.9448818897637795,
           "rgb(84, 136, 174)"
          ],
          [
           0.9488188976377953,
           "rgb(82, 135, 173)"
          ],
          [
           0.952755905511811,
           "rgb(81, 134, 173)"
          ],
          [
           0.9566929133858267,
           "rgb(79, 133, 172)"
          ],
          [
           0.9606299212598425,
           "rgb(78, 132, 172)"
          ],
          [
           0.9645669291338582,
           "rgb(77, 131, 171)"
          ],
          [
           0.968503937007874,
           "rgb(75, 130, 171)"
          ],
          [
           0.9724409448818897,
           "rgb(74, 129, 170)"
          ],
          [
           0.9763779527559056,
           "rgb(73, 129, 169)"
          ],
          [
           0.9803149606299213,
           "rgb(71, 128, 169)"
          ],
          [
           0.984251968503937,
           "rgb(70, 127, 168)"
          ],
          [
           0.9881889763779528,
           "rgb(68, 126, 168)"
          ],
          [
           0.9921259842519685,
           "rgb(67, 125, 167)"
          ],
          [
           0.9960629921259843,
           "rgb(66, 124, 166)"
          ],
          [
           1,
           "rgb(64, 123, 166)"
          ]
         ],
         "connectgaps": false,
         "type": "heatmap",
         "x": [
          "CRIM",
          "ZN",
          "INDUS",
          "CHAS",
          "NOX",
          "RM",
          "AGE",
          "DIS",
          "RAD",
          "TAX",
          "PTRATIO",
          "B",
          "LSTAT",
          "target"
         ],
         "xgap": 2,
         "y": [
          "target",
          "LSTAT",
          "B",
          "PTRATIO",
          "TAX",
          "RAD",
          "DIS",
          "AGE",
          "RM",
          "NOX",
          "CHAS",
          "INDUS",
          "ZN",
          "CRIM"
         ],
         "ygap": 2,
         "z": [
          [
           0.26301673420901933,
           0.36058036004339816,
           0.483725160028373,
           0.1752601771902975,
           0.4273207723732817,
           0.6953599470715389,
           0.19948619436160797,
           0.24992873408590394,
           0.3816262306397776,
           0.46853593356776646,
           0.507786685537561,
           0.33346081965706653,
           0.7376627261740143,
           null
          ],
          [
           0.45326273244549253,
           0.41319525406862845,
           0.6037997164766213,
           0.05392929837569404,
           0.5908789208808449,
           0.6138082718663957,
           0.3135126328967585,
           0.4969958308636852,
           0.4886763349750664,
           0.543993412001569,
           0.3740443167146754,
           0.3660869016915971,
           null,
           null
          ],
          [
           0.3512109336446147,
           0.17534122571961053,
           0.3569765351041929,
           0.04878848495516622,
           0.3800506377924003,
           0.1280686350925431,
           0.12452657926463752,
           0.2915116731330401,
           0.44441281557512574,
           0.44180800672281384,
           0.17738330230523142,
           null,
           null,
           null
          ],
          [
           0.2535683632034179,
           0.39120316218140827,
           0.38324755642888675,
           0.121515173658062,
           0.18893267711276665,
           0.3555014945590849,
           0.1371727585788714,
           0.23247054240825624,
           0.46474117850305435,
           0.4608530350656657,
           null,
           null,
           null,
           null
          ],
          [
           0.6087412828611813,
           0.3143380917377908,
           0.7207601799515441,
           0.03558651758591118,
           0.6680232004030201,
           0.29204783262321915,
           0.21472821377013707,
           0.5344315844084561,
           0.9102281885331822,
           null,
           null,
           null,
           null,
           null
          ],
          [
           0.619786249019655,
           0.31171244646699464,
           0.5951292746038486,
           0.007368240886077726,
           0.6114405634855754,
           0.20984666776610877,
           0.22345165088404528,
           0.49458792967207543,
           null,
           null,
           null,
           null,
           null,
           null
          ],
          [
           0.6163416418258281,
           0.6638446841957253,
           0.7080269887427683,
           0.09917578017472706,
           0.7692301132258261,
           0.20524621293005516,
           0.43710883345830687,
           null,
           null,
           null,
           null,
           null,
           null,
           null
          ],
          [
           0,
           0.42607555802798625,
           0.29402808382378476,
           0.05180138423148976,
           0.37940904705482625,
           0.1279083797202358,
           null,
           null,
           null,
           null,
           null,
           null,
           null,
           null
          ],
          [
           0.1563717751228942,
           0.31221813035696344,
           0.39167585265684357,
           0.09125122504345595,
           0.3021881878495933,
           null,
           null,
           null,
           null,
           null,
           null,
           null,
           null,
           null
          ],
          [
           0.7232347950332824,
           0.5163097674725308,
           0.7636514469209145,
           0.09120280684249406,
           null,
           null,
           null,
           null,
           null,
           null,
           null,
           null,
           null,
           null
          ],
          [
           0.0700967743894098,
           0.04253337190728173,
           0.0629380274896654,
           null,
           null,
           null,
           null,
           null,
           null,
           null,
           null,
           null,
           null,
           null
          ],
          [
           0.6032601715706418,
           0.5335828984741289,
           null,
           null,
           null,
           null,
           null,
           null,
           null,
           null,
           null,
           null,
           null,
           null
          ],
          [
           0.4356940231909734,
           null,
           null,
           null,
           null,
           null,
           null,
           null,
           null,
           null,
           null,
           null,
           null,
           null
          ],
          [
           null,
           null,
           null,
           null,
           null,
           null,
           null,
           null,
           null,
           null,
           null,
           null,
           null,
           null
          ]
         ]
        }
       ],
       "layout": {
        "autosize": false,
        "height": 750,
        "paper_bgcolor": "rgb(0,0,0,0)",
        "plot_bgcolor": "rgb(0,0,0,0)",
        "template": {
         "data": {
          "bar": [
           {
            "error_x": {
             "color": "#2a3f5f"
            },
            "error_y": {
             "color": "#2a3f5f"
            },
            "marker": {
             "line": {
              "color": "#E5ECF6",
              "width": 0.5
             }
            },
            "type": "bar"
           }
          ],
          "barpolar": [
           {
            "marker": {
             "line": {
              "color": "#E5ECF6",
              "width": 0.5
             }
            },
            "type": "barpolar"
           }
          ],
          "carpet": [
           {
            "aaxis": {
             "endlinecolor": "#2a3f5f",
             "gridcolor": "white",
             "linecolor": "white",
             "minorgridcolor": "white",
             "startlinecolor": "#2a3f5f"
            },
            "baxis": {
             "endlinecolor": "#2a3f5f",
             "gridcolor": "white",
             "linecolor": "white",
             "minorgridcolor": "white",
             "startlinecolor": "#2a3f5f"
            },
            "type": "carpet"
           }
          ],
          "choropleth": [
           {
            "colorbar": {
             "outlinewidth": 0,
             "ticks": ""
            },
            "type": "choropleth"
           }
          ],
          "contour": [
           {
            "colorbar": {
             "outlinewidth": 0,
             "ticks": ""
            },
            "colorscale": [
             [
              0,
              "#0d0887"
             ],
             [
              0.1111111111111111,
              "#46039f"
             ],
             [
              0.2222222222222222,
              "#7201a8"
             ],
             [
              0.3333333333333333,
              "#9c179e"
             ],
             [
              0.4444444444444444,
              "#bd3786"
             ],
             [
              0.5555555555555556,
              "#d8576b"
             ],
             [
              0.6666666666666666,
              "#ed7953"
             ],
             [
              0.7777777777777778,
              "#fb9f3a"
             ],
             [
              0.8888888888888888,
              "#fdca26"
             ],
             [
              1,
              "#f0f921"
             ]
            ],
            "type": "contour"
           }
          ],
          "contourcarpet": [
           {
            "colorbar": {
             "outlinewidth": 0,
             "ticks": ""
            },
            "type": "contourcarpet"
           }
          ],
          "heatmap": [
           {
            "colorbar": {
             "outlinewidth": 0,
             "ticks": ""
            },
            "colorscale": [
             [
              0,
              "#0d0887"
             ],
             [
              0.1111111111111111,
              "#46039f"
             ],
             [
              0.2222222222222222,
              "#7201a8"
             ],
             [
              0.3333333333333333,
              "#9c179e"
             ],
             [
              0.4444444444444444,
              "#bd3786"
             ],
             [
              0.5555555555555556,
              "#d8576b"
             ],
             [
              0.6666666666666666,
              "#ed7953"
             ],
             [
              0.7777777777777778,
              "#fb9f3a"
             ],
             [
              0.8888888888888888,
              "#fdca26"
             ],
             [
              1,
              "#f0f921"
             ]
            ],
            "type": "heatmap"
           }
          ],
          "heatmapgl": [
           {
            "colorbar": {
             "outlinewidth": 0,
             "ticks": ""
            },
            "colorscale": [
             [
              0,
              "#0d0887"
             ],
             [
              0.1111111111111111,
              "#46039f"
             ],
             [
              0.2222222222222222,
              "#7201a8"
             ],
             [
              0.3333333333333333,
              "#9c179e"
             ],
             [
              0.4444444444444444,
              "#bd3786"
             ],
             [
              0.5555555555555556,
              "#d8576b"
             ],
             [
              0.6666666666666666,
              "#ed7953"
             ],
             [
              0.7777777777777778,
              "#fb9f3a"
             ],
             [
              0.8888888888888888,
              "#fdca26"
             ],
             [
              1,
              "#f0f921"
             ]
            ],
            "type": "heatmapgl"
           }
          ],
          "histogram": [
           {
            "marker": {
             "colorbar": {
              "outlinewidth": 0,
              "ticks": ""
             }
            },
            "type": "histogram"
           }
          ],
          "histogram2d": [
           {
            "colorbar": {
             "outlinewidth": 0,
             "ticks": ""
            },
            "colorscale": [
             [
              0,
              "#0d0887"
             ],
             [
              0.1111111111111111,
              "#46039f"
             ],
             [
              0.2222222222222222,
              "#7201a8"
             ],
             [
              0.3333333333333333,
              "#9c179e"
             ],
             [
              0.4444444444444444,
              "#bd3786"
             ],
             [
              0.5555555555555556,
              "#d8576b"
             ],
             [
              0.6666666666666666,
              "#ed7953"
             ],
             [
              0.7777777777777778,
              "#fb9f3a"
             ],
             [
              0.8888888888888888,
              "#fdca26"
             ],
             [
              1,
              "#f0f921"
             ]
            ],
            "type": "histogram2d"
           }
          ],
          "histogram2dcontour": [
           {
            "colorbar": {
             "outlinewidth": 0,
             "ticks": ""
            },
            "colorscale": [
             [
              0,
              "#0d0887"
             ],
             [
              0.1111111111111111,
              "#46039f"
             ],
             [
              0.2222222222222222,
              "#7201a8"
             ],
             [
              0.3333333333333333,
              "#9c179e"
             ],
             [
              0.4444444444444444,
              "#bd3786"
             ],
             [
              0.5555555555555556,
              "#d8576b"
             ],
             [
              0.6666666666666666,
              "#ed7953"
             ],
             [
              0.7777777777777778,
              "#fb9f3a"
             ],
             [
              0.8888888888888888,
              "#fdca26"
             ],
             [
              1,
              "#f0f921"
             ]
            ],
            "type": "histogram2dcontour"
           }
          ],
          "mesh3d": [
           {
            "colorbar": {
             "outlinewidth": 0,
             "ticks": ""
            },
            "type": "mesh3d"
           }
          ],
          "parcoords": [
           {
            "line": {
             "colorbar": {
              "outlinewidth": 0,
              "ticks": ""
             }
            },
            "type": "parcoords"
           }
          ],
          "pie": [
           {
            "automargin": true,
            "type": "pie"
           }
          ],
          "scatter": [
           {
            "marker": {
             "colorbar": {
              "outlinewidth": 0,
              "ticks": ""
             }
            },
            "type": "scatter"
           }
          ],
          "scatter3d": [
           {
            "line": {
             "colorbar": {
              "outlinewidth": 0,
              "ticks": ""
             }
            },
            "marker": {
             "colorbar": {
              "outlinewidth": 0,
              "ticks": ""
             }
            },
            "type": "scatter3d"
           }
          ],
          "scattercarpet": [
           {
            "marker": {
             "colorbar": {
              "outlinewidth": 0,
              "ticks": ""
             }
            },
            "type": "scattercarpet"
           }
          ],
          "scattergeo": [
           {
            "marker": {
             "colorbar": {
              "outlinewidth": 0,
              "ticks": ""
             }
            },
            "type": "scattergeo"
           }
          ],
          "scattergl": [
           {
            "marker": {
             "colorbar": {
              "outlinewidth": 0,
              "ticks": ""
             }
            },
            "type": "scattergl"
           }
          ],
          "scattermapbox": [
           {
            "marker": {
             "colorbar": {
              "outlinewidth": 0,
              "ticks": ""
             }
            },
            "type": "scattermapbox"
           }
          ],
          "scatterpolar": [
           {
            "marker": {
             "colorbar": {
              "outlinewidth": 0,
              "ticks": ""
             }
            },
            "type": "scatterpolar"
           }
          ],
          "scatterpolargl": [
           {
            "marker": {
             "colorbar": {
              "outlinewidth": 0,
              "ticks": ""
             }
            },
            "type": "scatterpolargl"
           }
          ],
          "scatterternary": [
           {
            "marker": {
             "colorbar": {
              "outlinewidth": 0,
              "ticks": ""
             }
            },
            "type": "scatterternary"
           }
          ],
          "surface": [
           {
            "colorbar": {
             "outlinewidth": 0,
             "ticks": ""
            },
            "colorscale": [
             [
              0,
              "#0d0887"
             ],
             [
              0.1111111111111111,
              "#46039f"
             ],
             [
              0.2222222222222222,
              "#7201a8"
             ],
             [
              0.3333333333333333,
              "#9c179e"
             ],
             [
              0.4444444444444444,
              "#bd3786"
             ],
             [
              0.5555555555555556,
              "#d8576b"
             ],
             [
              0.6666666666666666,
              "#ed7953"
             ],
             [
              0.7777777777777778,
              "#fb9f3a"
             ],
             [
              0.8888888888888888,
              "#fdca26"
             ],
             [
              1,
              "#f0f921"
             ]
            ],
            "type": "surface"
           }
          ],
          "table": [
           {
            "cells": {
             "fill": {
              "color": "#EBF0F8"
             },
             "line": {
              "color": "white"
             }
            },
            "header": {
             "fill": {
              "color": "#C8D4E3"
             },
             "line": {
              "color": "white"
             }
            },
            "type": "table"
           }
          ]
         },
         "layout": {
          "annotationdefaults": {
           "arrowcolor": "#2a3f5f",
           "arrowhead": 0,
           "arrowwidth": 1
          },
          "coloraxis": {
           "colorbar": {
            "outlinewidth": 0,
            "ticks": ""
           }
          },
          "colorscale": {
           "diverging": [
            [
             0,
             "#8e0152"
            ],
            [
             0.1,
             "#c51b7d"
            ],
            [
             0.2,
             "#de77ae"
            ],
            [
             0.3,
             "#f1b6da"
            ],
            [
             0.4,
             "#fde0ef"
            ],
            [
             0.5,
             "#f7f7f7"
            ],
            [
             0.6,
             "#e6f5d0"
            ],
            [
             0.7,
             "#b8e186"
            ],
            [
             0.8,
             "#7fbc41"
            ],
            [
             0.9,
             "#4d9221"
            ],
            [
             1,
             "#276419"
            ]
           ],
           "sequential": [
            [
             0,
             "#0d0887"
            ],
            [
             0.1111111111111111,
             "#46039f"
            ],
            [
             0.2222222222222222,
             "#7201a8"
            ],
            [
             0.3333333333333333,
             "#9c179e"
            ],
            [
             0.4444444444444444,
             "#bd3786"
            ],
            [
             0.5555555555555556,
             "#d8576b"
            ],
            [
             0.6666666666666666,
             "#ed7953"
            ],
            [
             0.7777777777777778,
             "#fb9f3a"
            ],
            [
             0.8888888888888888,
             "#fdca26"
            ],
            [
             1,
             "#f0f921"
            ]
           ],
           "sequentialminus": [
            [
             0,
             "#0d0887"
            ],
            [
             0.1111111111111111,
             "#46039f"
            ],
            [
             0.2222222222222222,
             "#7201a8"
            ],
            [
             0.3333333333333333,
             "#9c179e"
            ],
            [
             0.4444444444444444,
             "#bd3786"
            ],
            [
             0.5555555555555556,
             "#d8576b"
            ],
            [
             0.6666666666666666,
             "#ed7953"
            ],
            [
             0.7777777777777778,
             "#fb9f3a"
            ],
            [
             0.8888888888888888,
             "#fdca26"
            ],
            [
             1,
             "#f0f921"
            ]
           ]
          },
          "colorway": [
           "#636efa",
           "#EF553B",
           "#00cc96",
           "#ab63fa",
           "#FFA15A",
           "#19d3f3",
           "#FF6692",
           "#B6E880",
           "#FF97FF",
           "#FECB52"
          ],
          "font": {
           "color": "#2a3f5f"
          },
          "geo": {
           "bgcolor": "white",
           "lakecolor": "white",
           "landcolor": "#E5ECF6",
           "showlakes": true,
           "showland": true,
           "subunitcolor": "white"
          },
          "hoverlabel": {
           "align": "left"
          },
          "hovermode": "closest",
          "mapbox": {
           "style": "light"
          },
          "paper_bgcolor": "white",
          "plot_bgcolor": "#E5ECF6",
          "polar": {
           "angularaxis": {
            "gridcolor": "white",
            "linecolor": "white",
            "ticks": ""
           },
           "bgcolor": "#E5ECF6",
           "radialaxis": {
            "gridcolor": "white",
            "linecolor": "white",
            "ticks": ""
           }
          },
          "scene": {
           "xaxis": {
            "backgroundcolor": "#E5ECF6",
            "gridcolor": "white",
            "gridwidth": 2,
            "linecolor": "white",
            "showbackground": true,
            "ticks": "",
            "zerolinecolor": "white"
           },
           "yaxis": {
            "backgroundcolor": "#E5ECF6",
            "gridcolor": "white",
            "gridwidth": 2,
            "linecolor": "white",
            "showbackground": true,
            "ticks": "",
            "zerolinecolor": "white"
           },
           "zaxis": {
            "backgroundcolor": "#E5ECF6",
            "gridcolor": "white",
            "gridwidth": 2,
            "linecolor": "white",
            "showbackground": true,
            "ticks": "",
            "zerolinecolor": "white"
           }
          },
          "shapedefaults": {
           "line": {
            "color": "#2a3f5f"
           }
          },
          "ternary": {
           "aaxis": {
            "gridcolor": "white",
            "linecolor": "white",
            "ticks": ""
           },
           "baxis": {
            "gridcolor": "white",
            "linecolor": "white",
            "ticks": ""
           },
           "bgcolor": "#E5ECF6",
           "caxis": {
            "gridcolor": "white",
            "linecolor": "white",
            "ticks": ""
           }
          },
          "title": {
           "x": 0.05
          },
          "xaxis": {
           "automargin": true,
           "gridcolor": "white",
           "linecolor": "white",
           "ticks": "",
           "title": {
            "standoff": 15
           },
           "zerolinecolor": "white",
           "zerolinewidth": 2
          },
          "yaxis": {
           "automargin": true,
           "gridcolor": "white",
           "linecolor": "white",
           "ticks": "",
           "title": {
            "standoff": 15
           },
           "zerolinecolor": "white",
           "zerolinewidth": 2
          }
         }
        },
        "title": {
         "font": {
          "size": 25
         },
         "text": "Correlation Matrix"
        },
        "width": 750,
        "xaxis": {
         "automargin": true,
         "autorange": true,
         "range": [
          -0.5,
          13.5
         ],
         "showgrid": false,
         "tickangle": -90,
         "ticks": "",
         "type": "category"
        },
        "yaxis": {
         "automargin": true,
         "autorange": true,
         "range": [
          -0.5,
          13.5
         ],
         "showgrid": false,
         "ticks": "",
         "type": "category"
        }
       }
      },
      "image/png": "[encoded data removed]",
      "text/html": [
       "<div>\n",
       "        \n",
       "        \n",
       "            <div id=\"31c867d5-e7ea-4330-beba-736a434522fe\" class=\"plotly-graph-div\" style=\"height:750px; width:750px;\"></div>\n",
       "            <script type=\"text/javascript\">\n",
       "                require([\"plotly\"], function(Plotly) {\n",
       "                    window.PLOTLYENV=window.PLOTLYENV || {};\n",
       "                    \n",
       "                if (document.getElementById(\"31c867d5-e7ea-4330-beba-736a434522fe\")) {\n",
       "                    Plotly.newPlot(\n",
       "                        '31c867d5-e7ea-4330-beba-736a434522fe',\n",
       "                        [{\"colorbar\": {\"title\": {\"text\": \"Strength\"}}, \"colorscale\": [[0.0, \"rgb(216, 57, 69)\"], [0.003937007874015748, \"rgb(216, 59, 71)\"], [0.007874015748031496, \"rgb(216, 60, 72)\"], [0.011811023622047244, \"rgb(216, 62, 73)\"], [0.015748031496062992, \"rgb(216, 63, 75)\"], [0.01968503937007874, \"rgb(217, 64, 76)\"], [0.023622047244094488, \"rgb(217, 66, 77)\"], [0.027559055118110236, \"rgb(217, 67, 79)\"], [0.031496062992125984, \"rgb(217, 69, 80)\"], [0.03543307086614173, \"rgb(217, 70, 81)\"], [0.03937007874015748, \"rgb(218, 72, 83)\"], [0.04330708661417323, \"rgb(218, 73, 84)\"], [0.047244094488188976, \"rgb(218, 75, 85)\"], [0.051181102362204724, \"rgb(218, 76, 87)\"], [0.05511811023622047, \"rgb(218, 77, 88)\"], [0.05905511811023622, \"rgb(219, 79, 89)\"], [0.06299212598425197, \"rgb(219, 80, 91)\"], [0.06692913385826771, \"rgb(219, 82, 92)\"], [0.07086614173228346, \"rgb(219, 83, 93)\"], [0.07480314960629922, \"rgb(219, 85, 95)\"], [0.07874015748031496, \"rgb(220, 86, 96)\"], [0.0826771653543307, \"rgb(220, 87, 97)\"], [0.08661417322834646, \"rgb(220, 89, 99)\"], [0.09055118110236221, \"rgb(220, 90, 100)\"], [0.09448818897637795, \"rgb(220, 92, 101)\"], [0.09842519685039369, \"rgb(221, 93, 103)\"], [0.10236220472440945, \"rgb(221, 95, 104)\"], [0.1062992125984252, \"rgb(221, 96, 106)\"], [0.11023622047244094, \"rgb(221, 98, 107)\"], [0.11417322834645668, \"rgb(221, 99, 108)\"], [0.11811023622047244, \"rgb(222, 100, 110)\"], [0.1220472440944882, \"rgb(222, 102, 111)\"], [0.12598425196850394, \"rgb(222, 103, 112)\"], [0.12992125984251968, \"rgb(222, 105, 114)\"], [0.13385826771653542, \"rgb(222, 106, 115)\"], [0.1377952755905512, \"rgb(222, 108, 116)\"], [0.14173228346456693, \"rgb(223, 109, 118)\"], [0.14566929133858267, \"rgb(223, 110, 119)\"], [0.14960629921259844, \"rgb(223, 112, 120)\"], [0.15354330708661418, \"rgb(223, 113, 122)\"], [0.15748031496062992, \"rgb(223, 115, 123)\"], [0.16141732283464566, \"rgb(224, 116, 124)\"], [0.1653543307086614, \"rgb(224, 118, 126)\"], [0.16929133858267717, \"rgb(224, 119, 127)\"], [0.1732283464566929, \"rgb(224, 121, 128)\"], [0.17716535433070865, \"rgb(224, 122, 130)\"], [0.18110236220472442, \"rgb(225, 123, 131)\"], [0.18503937007874016, \"rgb(225, 125, 132)\"], [0.1889763779527559, \"rgb(225, 126, 134)\"], [0.19291338582677164, \"rgb(225, 128, 135)\"], [0.19685039370078738, \"rgb(225, 129, 136)\"], [0.20078740157480315, \"rgb(226, 131, 138)\"], [0.2047244094488189, \"rgb(226, 132, 139)\"], [0.20866141732283464, \"rgb(226, 133, 140)\"], [0.2125984251968504, \"rgb(226, 135, 142)\"], [0.21653543307086615, \"rgb(226, 136, 143)\"], [0.2204724409448819, \"rgb(227, 138, 144)\"], [0.22440944881889763, \"rgb(227, 139, 146)\"], [0.22834645669291337, \"rgb(227, 141, 147)\"], [0.23228346456692914, \"rgb(227, 142, 149)\"], [0.23622047244094488, \"rgb(227, 144, 150)\"], [0.24015748031496062, \"rgb(228, 145, 151)\"], [0.2440944881889764, \"rgb(228, 146, 153)\"], [0.24803149606299213, \"rgb(228, 148, 154)\"], [0.25196850393700787, \"rgb(228, 149, 155)\"], [0.2559055118110236, \"rgb(228, 151, 157)\"], [0.25984251968503935, \"rgb(229, 152, 158)\"], [0.2637795275590551, \"rgb(229, 154, 159)\"], [0.26771653543307083, \"rgb(229, 155, 161)\"], [0.27165354330708663, \"rgb(229, 156, 162)\"], [0.2755905511811024, \"rgb(229, 158, 163)\"], [0.2795275590551181, \"rgb(230, 159, 165)\"], [0.28346456692913385, \"rgb(230, 161, 166)\"], [0.2874015748031496, \"rgb(230, 162, 167)\"], [0.29133858267716534, \"rgb(230, 164, 169)\"], [0.2952755905511811, \"rgb(230, 165, 170)\"], [0.2992125984251969, \"rgb(230, 167, 171)\"], [0.3031496062992126, \"rgb(231, 168, 173)\"], [0.30708661417322836, \"rgb(231, 169, 174)\"], [0.3110236220472441, \"rgb(231, 171, 175)\"], [0.31496062992125984, \"rgb(231, 172, 177)\"], [0.3188976377952756, \"rgb(231, 174, 178)\"], [0.3228346456692913, \"rgb(232, 175, 179)\"], [0.32677165354330706, \"rgb(232, 177, 181)\"], [0.3307086614173228, \"rgb(232, 178, 182)\"], [0.3346456692913386, \"rgb(232, 179, 183)\"], [0.33858267716535434, \"rgb(232, 181, 185)\"], [0.3425196850393701, \"rgb(233, 182, 186)\"], [0.3464566929133858, \"rgb(233, 184, 187)\"], [0.35039370078740156, \"rgb(233, 185, 189)\"], [0.3543307086614173, \"rgb(233, 187, 190)\"], [0.35826771653543305, \"rgb(233, 188, 192)\"], [0.36220472440944884, \"rgb(234, 190, 193)\"], [0.3661417322834646, \"rgb(234, 191, 194)\"], [0.3700787401574803, \"rgb(234, 192, 196)\"], [0.37401574803149606, \"rgb(234, 194, 197)\"], [0.3779527559055118, \"rgb(234, 195, 198)\"], [0.38188976377952755, \"rgb(235, 197, 200)\"], [0.3858267716535433, \"rgb(235, 198, 201)\"], [0.38976377952755903, \"rgb(235, 200, 202)\"], [0.39370078740157477, \"rgb(235, 201, 204)\"], [0.39763779527559057, \"rgb(235, 202, 205)\"], [0.4015748031496063, \"rgb(236, 204, 206)\"], [0.40551181102362205, \"rgb(236, 205, 208)\"], [0.4094488188976378, \"rgb(236, 207, 209)\"], [0.41338582677165353, \"rgb(236, 208, 210)\"], [0.41732283464566927, \"rgb(236, 210, 212)\"], [0.421259842519685, \"rgb(237, 211, 213)\"], [0.4251968503937008, \"rgb(237, 213, 214)\"], [0.42913385826771655, \"rgb(237, 214, 216)\"], [0.4330708661417323, \"rgb(237, 215, 217)\"], [0.43700787401574803, \"rgb(237, 217, 218)\"], [0.4409448818897638, \"rgb(238, 218, 220)\"], [0.4448818897637795, \"rgb(238, 220, 221)\"], [0.44881889763779526, \"rgb(238, 221, 222)\"], [0.452755905511811, \"rgb(238, 223, 224)\"], [0.45669291338582674, \"rgb(238, 224, 225)\"], [0.46062992125984253, \"rgb(239, 225, 226)\"], [0.4645669291338583, \"rgb(239, 227, 228)\"], [0.468503937007874, \"rgb(239, 228, 229)\"], [0.47244094488188976, \"rgb(239, 230, 230)\"], [0.4763779527559055, \"rgb(239, 231, 232)\"], [0.48031496062992124, \"rgb(239, 233, 233)\"], [0.484251968503937, \"rgb(240, 234, 235)\"], [0.4881889763779528, \"rgb(240, 236, 236)\"], [0.4921259842519685, \"rgb(240, 237, 237)\"], [0.49606299212598426, \"rgb(240, 238, 239)\"], [0.5, \"rgb(240, 240, 240)\"], [0.5039370078740157, \"rgb(238, 239, 240)\"], [0.5078740157480315, \"rgb(237, 238, 239)\"], [0.5118110236220472, \"rgb(236, 237, 239)\"], [0.515748031496063, \"rgb(234, 236, 238)\"], [0.5196850393700787, \"rgb(233, 235, 237)\"], [0.5236220472440944, \"rgb(232, 235, 237)\"], [0.5275590551181102, \"rgb(230, 234, 236)\"], [0.5314960629921259, \"rgb(229, 233, 236)\"], [0.5354330708661417, \"rgb(227, 232, 235)\"], [0.5393700787401575, \"rgb(226, 231, 234)\"], [0.5433070866141733, \"rgb(225, 230, 234)\"], [0.547244094488189, \"rgb(223, 229, 233)\"], [0.5511811023622047, \"rgb(222, 228, 233)\"], [0.5551181102362205, \"rgb(221, 227, 232)\"], [0.5590551181102362, \"rgb(219, 226, 231)\"], [0.562992125984252, \"rgb(218, 225, 231)\"], [0.5669291338582677, \"rgb(216, 224, 230)\"], [0.5708661417322834, \"rgb(215, 224, 230)\"], [0.5748031496062992, \"rgb(214, 223, 229)\"], [0.5787401574803149, \"rgb(212, 222, 229)\"], [0.5826771653543307, \"rgb(211, 221, 228)\"], [0.5866141732283464, \"rgb(209, 220, 227)\"], [0.5905511811023622, \"rgb(208, 219, 227)\"], [0.5944881889763779, \"rgb(207, 218, 226)\"], [0.5984251968503937, \"rgb(205, 217, 226)\"], [0.6023622047244095, \"rgb(204, 216, 225)\"], [0.6062992125984252, \"rgb(203, 215, 224)\"], [0.610236220472441, \"rgb(201, 214, 224)\"], [0.6141732283464567, \"rgb(200, 213, 223)\"], [0.6181102362204725, \"rgb(198, 212, 223)\"], [0.6220472440944882, \"rgb(197, 212, 222)\"], [0.6259842519685039, \"rgb(196, 211, 222)\"], [0.6299212598425197, \"rgb(194, 210, 221)\"], [0.6338582677165354, \"rgb(193, 209, 220)\"], [0.6377952755905512, \"rgb(191, 208, 220)\"], [0.6417322834645669, \"rgb(190, 207, 219)\"], [0.6456692913385826, \"rgb(189, 206, 219)\"], [0.6496062992125984, \"rgb(187, 205, 218)\"], [0.6535433070866141, \"rgb(186, 204, 217)\"], [0.6574803149606299, \"rgb(185, 203, 217)\"], [0.6614173228346456, \"rgb(183, 202, 216)\"], [0.6653543307086615, \"rgb(182, 201, 216)\"], [0.6692913385826772, \"rgb(180, 200, 215)\"], [0.6732283464566929, \"rgb(179, 200, 214)\"], [0.6771653543307087, \"rgb(178, 199, 214)\"], [0.6811023622047244, \"rgb(176, 198, 213)\"], [0.6850393700787402, \"rgb(175, 197, 213)\"], [0.6889763779527559, \"rgb(173, 196, 212)\"], [0.6929133858267716, \"rgb(172, 195, 212)\"], [0.6968503937007874, \"rgb(171, 194, 211)\"], [0.7007874015748031, \"rgb(169, 193, 210)\"], [0.7047244094488189, \"rgb(168, 192, 210)\"], [0.7086614173228346, \"rgb(167, 191, 209)\"], [0.7125984251968503, \"rgb(165, 190, 209)\"], [0.7165354330708661, \"rgb(164, 189, 208)\"], [0.7204724409448818, \"rgb(162, 188, 207)\"], [0.7244094488188977, \"rgb(161, 188, 207)\"], [0.7283464566929134, \"rgb(160, 187, 206)\"], [0.7322834645669292, \"rgb(158, 186, 206)\"], [0.7362204724409449, \"rgb(157, 185, 205)\"], [0.7401574803149606, \"rgb(156, 184, 205)\"], [0.7440944881889764, \"rgb(154, 183, 204)\"], [0.7480314960629921, \"rgb(153, 182, 203)\"], [0.7519685039370079, \"rgb(151, 181, 203)\"], [0.7559055118110236, \"rgb(150, 180, 202)\"], [0.7598425196850394, \"rgb(149, 179, 202)\"], [0.7637795275590551, \"rgb(147, 178, 201)\"], [0.7677165354330708, \"rgb(146, 177, 200)\"], [0.7716535433070866, \"rgb(144, 176, 200)\"], [0.7755905511811023, \"rgb(143, 176, 199)\"], [0.7795275590551181, \"rgb(142, 175, 199)\"], [0.7834645669291338, \"rgb(140, 174, 198)\"], [0.7874015748031495, \"rgb(139, 173, 197)\"], [0.7913385826771654, \"rgb(138, 172, 197)\"], [0.7952755905511811, \"rgb(136, 171, 196)\"], [0.7992125984251969, \"rgb(135, 170, 196)\"], [0.8031496062992126, \"rgb(133, 169, 195)\"], [0.8070866141732284, \"rgb(132, 168, 195)\"], [0.8110236220472441, \"rgb(131, 167, 194)\"], [0.8149606299212598, \"rgb(129, 166, 193)\"], [0.8188976377952756, \"rgb(128, 165, 193)\"], [0.8228346456692913, \"rgb(126, 164, 192)\"], [0.8267716535433071, \"rgb(125, 164, 192)\"], [0.8307086614173228, \"rgb(124, 163, 191)\"], [0.8346456692913385, \"rgb(122, 162, 190)\"], [0.8385826771653543, \"rgb(121, 161, 190)\"], [0.84251968503937, \"rgb(120, 160, 189)\"], [0.8464566929133858, \"rgb(118, 159, 189)\"], [0.8503937007874016, \"rgb(117, 158, 188)\"], [0.8543307086614174, \"rgb(115, 157, 188)\"], [0.8582677165354331, \"rgb(114, 156, 187)\"], [0.8622047244094488, \"rgb(113, 155, 186)\"], [0.8661417322834646, \"rgb(111, 154, 186)\"], [0.8700787401574803, \"rgb(110, 153, 185)\"], [0.8740157480314961, \"rgb(108, 153, 185)\"], [0.8779527559055118, \"rgb(107, 152, 184)\"], [0.8818897637795275, \"rgb(106, 151, 183)\"], [0.8858267716535433, \"rgb(104, 150, 183)\"], [0.889763779527559, \"rgb(103, 149, 182)\"], [0.8937007874015748, \"rgb(102, 148, 182)\"], [0.8976377952755905, \"rgb(100, 147, 181)\"], [0.9015748031496063, \"rgb(99, 146, 180)\"], [0.905511811023622, \"rgb(97, 145, 180)\"], [0.9094488188976377, \"rgb(96, 144, 179)\"], [0.9133858267716535, \"rgb(95, 143, 179)\"], [0.9173228346456693, \"rgb(93, 142, 178)\"], [0.9212598425196851, \"rgb(92, 141, 178)\"], [0.9251968503937008, \"rgb(91, 141, 177)\"], [0.9291338582677166, \"rgb(89, 140, 176)\"], [0.9330708661417323, \"rgb(88, 139, 176)\"], [0.937007874015748, \"rgb(86, 138, 175)\"], [0.9409448818897638, \"rgb(85, 137, 175)\"], [0.9448818897637795, \"rgb(84, 136, 174)\"], [0.9488188976377953, \"rgb(82, 135, 173)\"], [0.952755905511811, \"rgb(81, 134, 173)\"], [0.9566929133858267, \"rgb(79, 133, 172)\"], [0.9606299212598425, \"rgb(78, 132, 172)\"], [0.9645669291338582, \"rgb(77, 131, 171)\"], [0.968503937007874, \"rgb(75, 130, 171)\"], [0.9724409448818897, \"rgb(74, 129, 170)\"], [0.9763779527559056, \"rgb(73, 129, 169)\"], [0.9803149606299213, \"rgb(71, 128, 169)\"], [0.984251968503937, \"rgb(70, 127, 168)\"], [0.9881889763779528, \"rgb(68, 126, 168)\"], [0.9921259842519685, \"rgb(67, 125, 167)\"], [0.9960629921259843, \"rgb(66, 124, 166)\"], [1.0, \"rgb(64, 123, 166)\"]], \"connectgaps\": false, \"type\": \"heatmap\", \"x\": [\"CRIM\", \"ZN\", \"INDUS\", \"CHAS\", \"NOX\", \"RM\", \"AGE\", \"DIS\", \"RAD\", \"TAX\", \"PTRATIO\", \"B\", \"LSTAT\", \"target\"], \"xgap\": 2, \"y\": [\"target\", \"LSTAT\", \"B\", \"PTRATIO\", \"TAX\", \"RAD\", \"DIS\", \"AGE\", \"RM\", \"NOX\", \"CHAS\", \"INDUS\", \"ZN\", \"CRIM\"], \"ygap\": 2, \"z\": [[0.26301673420901933, 0.36058036004339816, 0.483725160028373, 0.1752601771902975, 0.4273207723732817, 0.6953599470715389, 0.19948619436160797, 0.24992873408590394, 0.3816262306397776, 0.46853593356776646, 0.507786685537561, 0.33346081965706653, 0.7376627261740143, null], [0.45326273244549253, 0.41319525406862845, 0.6037997164766213, 0.05392929837569404, 0.5908789208808449, 0.6138082718663957, 0.3135126328967585, 0.4969958308636852, 0.4886763349750664, 0.543993412001569, 0.3740443167146754, 0.3660869016915971, null, null], [0.3512109336446147, 0.17534122571961053, 0.3569765351041929, 0.04878848495516622, 0.3800506377924003, 0.1280686350925431, 0.12452657926463752, 0.2915116731330401, 0.44441281557512574, 0.44180800672281384, 0.17738330230523142, null, null, null], [0.2535683632034179, 0.39120316218140827, 0.38324755642888675, 0.121515173658062, 0.18893267711276665, 0.3555014945590849, 0.1371727585788714, 0.23247054240825624, 0.46474117850305435, 0.4608530350656657, null, null, null, null], [0.6087412828611813, 0.3143380917377908, 0.7207601799515441, 0.03558651758591118, 0.6680232004030201, 0.29204783262321915, 0.21472821377013707, 0.5344315844084561, 0.9102281885331822, null, null, null, null, null], [0.619786249019655, 0.31171244646699464, 0.5951292746038486, 0.007368240886077726, 0.6114405634855754, 0.20984666776610877, 0.22345165088404528, 0.49458792967207543, null, null, null, null, null, null], [0.6163416418258281, 0.6638446841957253, 0.7080269887427683, 0.09917578017472706, 0.7692301132258261, 0.20524621293005516, 0.43710883345830687, null, null, null, null, null, null, null], [0.0, 0.42607555802798625, 0.29402808382378476, 0.05180138423148976, 0.37940904705482625, 0.1279083797202358, null, null, null, null, null, null, null, null], [0.1563717751228942, 0.31221813035696344, 0.39167585265684357, 0.09125122504345595, 0.3021881878495933, null, null, null, null, null, null, null, null, null], [0.7232347950332824, 0.5163097674725308, 0.7636514469209145, 0.09120280684249406, null, null, null, null, null, null, null, null, null, null], [0.0700967743894098, 0.04253337190728173, 0.0629380274896654, null, null, null, null, null, null, null, null, null, null, null], [0.6032601715706418, 0.5335828984741289, null, null, null, null, null, null, null, null, null, null, null, null], [0.4356940231909734, null, null, null, null, null, null, null, null, null, null, null, null, null], [null, null, null, null, null, null, null, null, null, null, null, null, null, null]]}],\n",
       "                        {\"autosize\": false, \"height\": 750, \"paper_bgcolor\": \"rgb(0,0,0,0)\", \"plot_bgcolor\": \"rgb(0,0,0,0)\", \"template\": {\"data\": {\"bar\": [{\"error_x\": {\"color\": \"#2a3f5f\"}, \"error_y\": {\"color\": \"#2a3f5f\"}, \"marker\": {\"line\": {\"color\": \"#E5ECF6\", \"width\": 0.5}}, \"type\": \"bar\"}], \"barpolar\": [{\"marker\": {\"line\": {\"color\": \"#E5ECF6\", \"width\": 0.5}}, \"type\": \"barpolar\"}], \"carpet\": [{\"aaxis\": {\"endlinecolor\": \"#2a3f5f\", \"gridcolor\": \"white\", \"linecolor\": \"white\", \"minorgridcolor\": \"white\", \"startlinecolor\": \"#2a3f5f\"}, \"baxis\": {\"endlinecolor\": \"#2a3f5f\", \"gridcolor\": \"white\", \"linecolor\": \"white\", \"minorgridcolor\": \"white\", \"startlinecolor\": \"#2a3f5f\"}, \"type\": \"carpet\"}], \"choropleth\": [{\"colorbar\": {\"outlinewidth\": 0, \"ticks\": \"\"}, \"type\": \"choropleth\"}], \"contour\": [{\"colorbar\": {\"outlinewidth\": 0, \"ticks\": \"\"}, \"colorscale\": [[0.0, \"#0d0887\"], [0.1111111111111111, \"#46039f\"], [0.2222222222222222, \"#7201a8\"], [0.3333333333333333, \"#9c179e\"], [0.4444444444444444, \"#bd3786\"], [0.5555555555555556, \"#d8576b\"], [0.6666666666666666, \"#ed7953\"], [0.7777777777777778, \"#fb9f3a\"], [0.8888888888888888, \"#fdca26\"], [1.0, \"#f0f921\"]], \"type\": \"contour\"}], \"contourcarpet\": [{\"colorbar\": {\"outlinewidth\": 0, \"ticks\": \"\"}, \"type\": \"contourcarpet\"}], \"heatmap\": [{\"colorbar\": {\"outlinewidth\": 0, \"ticks\": \"\"}, \"colorscale\": [[0.0, \"#0d0887\"], [0.1111111111111111, \"#46039f\"], [0.2222222222222222, \"#7201a8\"], [0.3333333333333333, \"#9c179e\"], [0.4444444444444444, \"#bd3786\"], [0.5555555555555556, \"#d8576b\"], [0.6666666666666666, \"#ed7953\"], [0.7777777777777778, \"#fb9f3a\"], [0.8888888888888888, \"#fdca26\"], [1.0, \"#f0f921\"]], \"type\": \"heatmap\"}], \"heatmapgl\": [{\"colorbar\": {\"outlinewidth\": 0, \"ticks\": \"\"}, \"colorscale\": [[0.0, \"#0d0887\"], [0.1111111111111111, \"#46039f\"], [0.2222222222222222, \"#7201a8\"], [0.3333333333333333, \"#9c179e\"], [0.4444444444444444, \"#bd3786\"], [0.5555555555555556, \"#d8576b\"], [0.6666666666666666, \"#ed7953\"], [0.7777777777777778, \"#fb9f3a\"], [0.8888888888888888, \"#fdca26\"], [1.0, \"#f0f921\"]], \"type\": \"heatmapgl\"}], \"histogram\": [{\"marker\": {\"colorbar\": {\"outlinewidth\": 0, \"ticks\": \"\"}}, \"type\": \"histogram\"}], \"histogram2d\": [{\"colorbar\": {\"outlinewidth\": 0, \"ticks\": \"\"}, \"colorscale\": [[0.0, \"#0d0887\"], [0.1111111111111111, \"#46039f\"], [0.2222222222222222, \"#7201a8\"], [0.3333333333333333, \"#9c179e\"], [0.4444444444444444, \"#bd3786\"], [0.5555555555555556, \"#d8576b\"], [0.6666666666666666, \"#ed7953\"], [0.7777777777777778, \"#fb9f3a\"], [0.8888888888888888, \"#fdca26\"], [1.0, \"#f0f921\"]], \"type\": \"histogram2d\"}], \"histogram2dcontour\": [{\"colorbar\": {\"outlinewidth\": 0, \"ticks\": \"\"}, \"colorscale\": [[0.0, \"#0d0887\"], [0.1111111111111111, \"#46039f\"], [0.2222222222222222, \"#7201a8\"], [0.3333333333333333, \"#9c179e\"], [0.4444444444444444, \"#bd3786\"], [0.5555555555555556, \"#d8576b\"], [0.6666666666666666, \"#ed7953\"], [0.7777777777777778, \"#fb9f3a\"], [0.8888888888888888, \"#fdca26\"], [1.0, \"#f0f921\"]], \"type\": \"histogram2dcontour\"}], \"mesh3d\": [{\"colorbar\": {\"outlinewidth\": 0, \"ticks\": \"\"}, \"type\": \"mesh3d\"}], \"parcoords\": [{\"line\": {\"colorbar\": {\"outlinewidth\": 0, \"ticks\": \"\"}}, \"type\": \"parcoords\"}], \"pie\": [{\"automargin\": true, \"type\": \"pie\"}], \"scatter\": [{\"marker\": {\"colorbar\": {\"outlinewidth\": 0, \"ticks\": \"\"}}, \"type\": \"scatter\"}], \"scatter3d\": [{\"line\": {\"colorbar\": {\"outlinewidth\": 0, \"ticks\": \"\"}}, \"marker\": {\"colorbar\": {\"outlinewidth\": 0, \"ticks\": \"\"}}, \"type\": \"scatter3d\"}], \"scattercarpet\": [{\"marker\": {\"colorbar\": {\"outlinewidth\": 0, \"ticks\": \"\"}}, \"type\": \"scattercarpet\"}], \"scattergeo\": [{\"marker\": {\"colorbar\": {\"outlinewidth\": 0, \"ticks\": \"\"}}, \"type\": \"scattergeo\"}], \"scattergl\": [{\"marker\": {\"colorbar\": {\"outlinewidth\": 0, \"ticks\": \"\"}}, \"type\": \"scattergl\"}], \"scattermapbox\": [{\"marker\": {\"colorbar\": {\"outlinewidth\": 0, \"ticks\": \"\"}}, \"type\": \"scattermapbox\"}], \"scatterpolar\": [{\"marker\": {\"colorbar\": {\"outlinewidth\": 0, \"ticks\": \"\"}}, \"type\": \"scatterpolar\"}], \"scatterpolargl\": [{\"marker\": {\"colorbar\": {\"outlinewidth\": 0, \"ticks\": \"\"}}, \"type\": \"scatterpolargl\"}], \"scatterternary\": [{\"marker\": {\"colorbar\": {\"outlinewidth\": 0, \"ticks\": \"\"}}, \"type\": \"scatterternary\"}], \"surface\": [{\"colorbar\": {\"outlinewidth\": 0, \"ticks\": \"\"}, \"colorscale\": [[0.0, \"#0d0887\"], [0.1111111111111111, \"#46039f\"], [0.2222222222222222, \"#7201a8\"], [0.3333333333333333, \"#9c179e\"], [0.4444444444444444, \"#bd3786\"], [0.5555555555555556, \"#d8576b\"], [0.6666666666666666, \"#ed7953\"], [0.7777777777777778, \"#fb9f3a\"], [0.8888888888888888, \"#fdca26\"], [1.0, \"#f0f921\"]], \"type\": \"surface\"}], \"table\": [{\"cells\": {\"fill\": {\"color\": \"#EBF0F8\"}, \"line\": {\"color\": \"white\"}}, \"header\": {\"fill\": {\"color\": \"#C8D4E3\"}, \"line\": {\"color\": \"white\"}}, \"type\": \"table\"}]}, \"layout\": {\"annotationdefaults\": {\"arrowcolor\": \"#2a3f5f\", \"arrowhead\": 0, \"arrowwidth\": 1}, \"coloraxis\": {\"colorbar\": {\"outlinewidth\": 0, \"ticks\": \"\"}}, \"colorscale\": {\"diverging\": [[0, \"#8e0152\"], [0.1, \"#c51b7d\"], [0.2, \"#de77ae\"], [0.3, \"#f1b6da\"], [0.4, \"#fde0ef\"], [0.5, \"#f7f7f7\"], [0.6, \"#e6f5d0\"], [0.7, \"#b8e186\"], [0.8, \"#7fbc41\"], [0.9, \"#4d9221\"], [1, \"#276419\"]], \"sequential\": [[0.0, \"#0d0887\"], [0.1111111111111111, \"#46039f\"], [0.2222222222222222, \"#7201a8\"], [0.3333333333333333, \"#9c179e\"], [0.4444444444444444, \"#bd3786\"], [0.5555555555555556, \"#d8576b\"], [0.6666666666666666, \"#ed7953\"], [0.7777777777777778, \"#fb9f3a\"], [0.8888888888888888, \"#fdca26\"], [1.0, \"#f0f921\"]], \"sequentialminus\": [[0.0, \"#0d0887\"], [0.1111111111111111, \"#46039f\"], [0.2222222222222222, \"#7201a8\"], [0.3333333333333333, \"#9c179e\"], [0.4444444444444444, \"#bd3786\"], [0.5555555555555556, \"#d8576b\"], [0.6666666666666666, \"#ed7953\"], [0.7777777777777778, \"#fb9f3a\"], [0.8888888888888888, \"#fdca26\"], [1.0, \"#f0f921\"]]}, \"colorway\": [\"#636efa\", \"#EF553B\", \"#00cc96\", \"#ab63fa\", \"#FFA15A\", \"#19d3f3\", \"#FF6692\", \"#B6E880\", \"#FF97FF\", \"#FECB52\"], \"font\": {\"color\": \"#2a3f5f\"}, \"geo\": {\"bgcolor\": \"white\", \"lakecolor\": \"white\", \"landcolor\": \"#E5ECF6\", \"showlakes\": true, \"showland\": true, \"subunitcolor\": \"white\"}, \"hoverlabel\": {\"align\": \"left\"}, \"hovermode\": \"closest\", \"mapbox\": {\"style\": \"light\"}, \"paper_bgcolor\": \"white\", \"plot_bgcolor\": \"#E5ECF6\", \"polar\": {\"angularaxis\": {\"gridcolor\": \"white\", \"linecolor\": \"white\", \"ticks\": \"\"}, \"bgcolor\": \"#E5ECF6\", \"radialaxis\": {\"gridcolor\": \"white\", \"linecolor\": \"white\", \"ticks\": \"\"}}, \"scene\": {\"xaxis\": {\"backgroundcolor\": \"#E5ECF6\", \"gridcolor\": \"white\", \"gridwidth\": 2, \"linecolor\": \"white\", \"showbackground\": true, \"ticks\": \"\", \"zerolinecolor\": \"white\"}, \"yaxis\": {\"backgroundcolor\": \"#E5ECF6\", \"gridcolor\": \"white\", \"gridwidth\": 2, \"linecolor\": \"white\", \"showbackground\": true, \"ticks\": \"\", \"zerolinecolor\": \"white\"}, \"zaxis\": {\"backgroundcolor\": \"#E5ECF6\", \"gridcolor\": \"white\", \"gridwidth\": 2, \"linecolor\": \"white\", \"showbackground\": true, \"ticks\": \"\", \"zerolinecolor\": \"white\"}}, \"shapedefaults\": {\"line\": {\"color\": \"#2a3f5f\"}}, \"ternary\": {\"aaxis\": {\"gridcolor\": \"white\", \"linecolor\": \"white\", \"ticks\": \"\"}, \"baxis\": {\"gridcolor\": \"white\", \"linecolor\": \"white\", \"ticks\": \"\"}, \"bgcolor\": \"#E5ECF6\", \"caxis\": {\"gridcolor\": \"white\", \"linecolor\": \"white\", \"ticks\": \"\"}}, \"title\": {\"x\": 0.05}, \"xaxis\": {\"automargin\": true, \"gridcolor\": \"white\", \"linecolor\": \"white\", \"ticks\": \"\", \"title\": {\"standoff\": 15}, \"zerolinecolor\": \"white\", \"zerolinewidth\": 2}, \"yaxis\": {\"automargin\": true, \"gridcolor\": \"white\", \"linecolor\": \"white\", \"ticks\": \"\", \"title\": {\"standoff\": 15}, \"zerolinecolor\": \"white\", \"zerolinewidth\": 2}}}, \"title\": {\"font\": {\"size\": 25}, \"text\": \"Correlation Matrix\"}, \"width\": 750, \"xaxis\": {\"automargin\": true, \"showgrid\": false, \"tickangle\": -90, \"ticks\": \"\"}, \"yaxis\": {\"automargin\": true, \"showgrid\": false, \"ticks\": \"\"}},\n",
       "                        {\"displayModeBar\": false, \"responsive\": true}\n",
       "                    ).then(function(){\n",
       "                            \n",
       "var gd = document.getElementById('31c867d5-e7ea-4330-beba-736a434522fe');\n",
       "var x = new MutationObserver(function (mutations, observer) {{\n",
       "        var display = window.getComputedStyle(gd).display;\n",
       "        if (!display || display === 'none') {{\n",
       "            console.log([gd, 'removed!']);\n",
       "            Plotly.purge(gd);\n",
       "            observer.disconnect();\n",
       "        }}\n",
       "}});\n",
       "\n",
       "// Listen for the removal of the full notebook cells\n",
       "var notebookContainer = gd.closest('#notebook-container');\n",
       "if (notebookContainer) {{\n",
       "    x.observe(notebookContainer, {childList: true});\n",
       "}}\n",
       "\n",
       "// Listen for the clearing of the current output cell\n",
       "var outputEl = gd.closest('.output');\n",
       "if (outputEl) {{\n",
       "    x.observe(outputEl, {childList: true});\n",
       "}}\n",
       "\n",
       "                        })\n",
       "                };\n",
       "                });\n",
       "            </script>\n",
       "        </div>"
      ]
     },
     "metadata": {},
     "output_type": "display_data"
    },
    {
     "data": {
      "text/plain": [
       "None"
      ]
     },
     "metadata": {},
     "output_type": "display_data"
    },
    {
     "data": {
      "text/plain": [
       "<data_describe.core.correlations.CorrelationMatrixWidget at 0x1a0a5d585c8>"
      ]
     },
     "execution_count": 6,
     "metadata": {},
     "output_type": "execute_result"
    }
   ],
   "source": [
    "dd.correlation_matrix(df, categorical=True, viz_backend=\"plotly\")"
   ]
  },
  {
   "cell_type": "markdown",
   "metadata": {
    "papermill": {
     "duration": 0.026783,
     "end_time": "2020-08-20T00:38:08.887570",
     "exception": false,
     "start_time": "2020-08-20T00:38:08.860787",
     "status": "completed"
    },
    "tags": []
   },
   "source": [
    "## Return values only"
   ]
  },
  {
   "cell_type": "code",
   "execution_count": 7,
   "metadata": {
    "execution": {
     "iopub.execute_input": "2020-08-20T00:38:08.937069Z",
     "iopub.status.busy": "2020-08-20T00:38:08.936075Z",
     "iopub.status.idle": "2020-08-20T00:38:08.952895Z",
     "shell.execute_reply": "2020-08-20T00:38:08.953308Z"
    },
    "papermill": {
     "duration": 0.044451,
     "end_time": "2020-08-20T00:38:08.953459",
     "exception": false,
     "start_time": "2020-08-20T00:38:08.909008",
     "status": "completed"
    },
    "tags": []
   },
   "outputs": [
    {
     "data": {
      "text/html": [
       "<div>\n",
       "<style scoped>\n",
       "    .dataframe tbody tr th:only-of-type {\n",
       "        vertical-align: middle;\n",
       "    }\n",
       "\n",
       "    .dataframe tbody tr th {\n",
       "        vertical-align: top;\n",
       "    }\n",
       "\n",
       "    .dataframe thead th {\n",
       "        text-align: right;\n",
       "    }\n",
       "</style>\n",
       "<table border=\"1\" class=\"dataframe\">\n",
       "  <thead>\n",
       "    <tr style=\"text-align: right;\">\n",
       "      <th></th>\n",
       "      <th>ZN</th>\n",
       "      <th>INDUS</th>\n",
       "      <th>CHAS</th>\n",
       "      <th>NOX</th>\n",
       "      <th>RM</th>\n",
       "      <th>DIS</th>\n",
       "      <th>RAD</th>\n",
       "      <th>TAX</th>\n",
       "      <th>PTRATIO</th>\n",
       "      <th>B</th>\n",
       "      <th>LSTAT</th>\n",
       "      <th>target</th>\n",
       "    </tr>\n",
       "  </thead>\n",
       "  <tbody>\n",
       "    <tr>\n",
       "      <th>ZN</th>\n",
       "      <td>1.000000</td>\n",
       "      <td>-0.533583</td>\n",
       "      <td>-0.042533</td>\n",
       "      <td>-0.516310</td>\n",
       "      <td>0.312218</td>\n",
       "      <td>0.663845</td>\n",
       "      <td>-0.311712</td>\n",
       "      <td>-0.314338</td>\n",
       "      <td>-0.391203</td>\n",
       "      <td>0.175341</td>\n",
       "      <td>-0.413195</td>\n",
       "      <td>0.360580</td>\n",
       "    </tr>\n",
       "    <tr>\n",
       "      <th>INDUS</th>\n",
       "      <td>-0.533583</td>\n",
       "      <td>1.000000</td>\n",
       "      <td>0.062938</td>\n",
       "      <td>0.763651</td>\n",
       "      <td>-0.391676</td>\n",
       "      <td>-0.708027</td>\n",
       "      <td>0.595129</td>\n",
       "      <td>0.720760</td>\n",
       "      <td>0.383248</td>\n",
       "      <td>-0.356977</td>\n",
       "      <td>0.603800</td>\n",
       "      <td>-0.483725</td>\n",
       "    </tr>\n",
       "    <tr>\n",
       "      <th>CHAS</th>\n",
       "      <td>-0.042533</td>\n",
       "      <td>0.062938</td>\n",
       "      <td>1.000000</td>\n",
       "      <td>0.091203</td>\n",
       "      <td>0.091251</td>\n",
       "      <td>-0.099176</td>\n",
       "      <td>-0.007368</td>\n",
       "      <td>-0.035587</td>\n",
       "      <td>-0.121515</td>\n",
       "      <td>0.048788</td>\n",
       "      <td>-0.053929</td>\n",
       "      <td>0.175260</td>\n",
       "    </tr>\n",
       "    <tr>\n",
       "      <th>NOX</th>\n",
       "      <td>-0.516310</td>\n",
       "      <td>0.763651</td>\n",
       "      <td>0.091203</td>\n",
       "      <td>1.000000</td>\n",
       "      <td>-0.302188</td>\n",
       "      <td>-0.769230</td>\n",
       "      <td>0.611441</td>\n",
       "      <td>0.668023</td>\n",
       "      <td>0.188933</td>\n",
       "      <td>-0.380051</td>\n",
       "      <td>0.590879</td>\n",
       "      <td>-0.427321</td>\n",
       "    </tr>\n",
       "    <tr>\n",
       "      <th>RM</th>\n",
       "      <td>0.312218</td>\n",
       "      <td>-0.391676</td>\n",
       "      <td>0.091251</td>\n",
       "      <td>-0.302188</td>\n",
       "      <td>1.000000</td>\n",
       "      <td>0.205246</td>\n",
       "      <td>-0.209847</td>\n",
       "      <td>-0.292048</td>\n",
       "      <td>-0.355501</td>\n",
       "      <td>0.128069</td>\n",
       "      <td>-0.613808</td>\n",
       "      <td>0.695360</td>\n",
       "    </tr>\n",
       "    <tr>\n",
       "      <th>DIS</th>\n",
       "      <td>0.663845</td>\n",
       "      <td>-0.708027</td>\n",
       "      <td>-0.099176</td>\n",
       "      <td>-0.769230</td>\n",
       "      <td>0.205246</td>\n",
       "      <td>1.000000</td>\n",
       "      <td>-0.494588</td>\n",
       "      <td>-0.534432</td>\n",
       "      <td>-0.232471</td>\n",
       "      <td>0.291512</td>\n",
       "      <td>-0.496996</td>\n",
       "      <td>0.249929</td>\n",
       "    </tr>\n",
       "    <tr>\n",
       "      <th>RAD</th>\n",
       "      <td>-0.311712</td>\n",
       "      <td>0.595129</td>\n",
       "      <td>-0.007368</td>\n",
       "      <td>0.611441</td>\n",
       "      <td>-0.209847</td>\n",
       "      <td>-0.494588</td>\n",
       "      <td>1.000000</td>\n",
       "      <td>0.910228</td>\n",
       "      <td>0.464741</td>\n",
       "      <td>-0.444413</td>\n",
       "      <td>0.488676</td>\n",
       "      <td>-0.381626</td>\n",
       "    </tr>\n",
       "    <tr>\n",
       "      <th>TAX</th>\n",
       "      <td>-0.314338</td>\n",
       "      <td>0.720760</td>\n",
       "      <td>-0.035587</td>\n",
       "      <td>0.668023</td>\n",
       "      <td>-0.292048</td>\n",
       "      <td>-0.534432</td>\n",
       "      <td>0.910228</td>\n",
       "      <td>1.000000</td>\n",
       "      <td>0.460853</td>\n",
       "      <td>-0.441808</td>\n",
       "      <td>0.543993</td>\n",
       "      <td>-0.468536</td>\n",
       "    </tr>\n",
       "    <tr>\n",
       "      <th>PTRATIO</th>\n",
       "      <td>-0.391203</td>\n",
       "      <td>0.383248</td>\n",
       "      <td>-0.121515</td>\n",
       "      <td>0.188933</td>\n",
       "      <td>-0.355501</td>\n",
       "      <td>-0.232471</td>\n",
       "      <td>0.464741</td>\n",
       "      <td>0.460853</td>\n",
       "      <td>1.000000</td>\n",
       "      <td>-0.177383</td>\n",
       "      <td>0.374044</td>\n",
       "      <td>-0.507787</td>\n",
       "    </tr>\n",
       "    <tr>\n",
       "      <th>B</th>\n",
       "      <td>0.175341</td>\n",
       "      <td>-0.356977</td>\n",
       "      <td>0.048788</td>\n",
       "      <td>-0.380051</td>\n",
       "      <td>0.128069</td>\n",
       "      <td>0.291512</td>\n",
       "      <td>-0.444413</td>\n",
       "      <td>-0.441808</td>\n",
       "      <td>-0.177383</td>\n",
       "      <td>1.000000</td>\n",
       "      <td>-0.366087</td>\n",
       "      <td>0.333461</td>\n",
       "    </tr>\n",
       "    <tr>\n",
       "      <th>LSTAT</th>\n",
       "      <td>-0.413195</td>\n",
       "      <td>0.603800</td>\n",
       "      <td>-0.053929</td>\n",
       "      <td>0.590879</td>\n",
       "      <td>-0.613808</td>\n",
       "      <td>-0.496996</td>\n",
       "      <td>0.488676</td>\n",
       "      <td>0.543993</td>\n",
       "      <td>0.374044</td>\n",
       "      <td>-0.366087</td>\n",
       "      <td>1.000000</td>\n",
       "      <td>-0.737663</td>\n",
       "    </tr>\n",
       "    <tr>\n",
       "      <th>target</th>\n",
       "      <td>0.360580</td>\n",
       "      <td>-0.483725</td>\n",
       "      <td>0.175260</td>\n",
       "      <td>-0.427321</td>\n",
       "      <td>0.695360</td>\n",
       "      <td>0.249929</td>\n",
       "      <td>-0.381626</td>\n",
       "      <td>-0.468536</td>\n",
       "      <td>-0.507787</td>\n",
       "      <td>0.333461</td>\n",
       "      <td>-0.737663</td>\n",
       "      <td>1.000000</td>\n",
       "    </tr>\n",
       "  </tbody>\n",
       "</table>\n",
       "</div>"
      ],
      "text/plain": [
       "               ZN     INDUS      CHAS       NOX        RM       DIS       RAD  \\\n",
       "ZN       1.000000 -0.533583 -0.042533 -0.516310  0.312218  0.663845 -0.311712   \n",
       "INDUS   -0.533583  1.000000  0.062938  0.763651 -0.391676 -0.708027  0.595129   \n",
       "CHAS    -0.042533  0.062938  1.000000  0.091203  0.091251 -0.099176 -0.007368   \n",
       "NOX     -0.516310  0.763651  0.091203  1.000000 -0.302188 -0.769230  0.611441   \n",
       "RM       0.312218 -0.391676  0.091251 -0.302188  1.000000  0.205246 -0.209847   \n",
       "DIS      0.663845 -0.708027 -0.099176 -0.769230  0.205246  1.000000 -0.494588   \n",
       "RAD     -0.311712  0.595129 -0.007368  0.611441 -0.209847 -0.494588  1.000000   \n",
       "TAX     -0.314338  0.720760 -0.035587  0.668023 -0.292048 -0.534432  0.910228   \n",
       "PTRATIO -0.391203  0.383248 -0.121515  0.188933 -0.355501 -0.232471  0.464741   \n",
       "B        0.175341 -0.356977  0.048788 -0.380051  0.128069  0.291512 -0.444413   \n",
       "LSTAT   -0.413195  0.603800 -0.053929  0.590879 -0.613808 -0.496996  0.488676   \n",
       "target   0.360580 -0.483725  0.175260 -0.427321  0.695360  0.249929 -0.381626   \n",
       "\n",
       "              TAX   PTRATIO         B     LSTAT    target  \n",
       "ZN      -0.314338 -0.391203  0.175341 -0.413195  0.360580  \n",
       "INDUS    0.720760  0.383248 -0.356977  0.603800 -0.483725  \n",
       "CHAS    -0.035587 -0.121515  0.048788 -0.053929  0.175260  \n",
       "NOX      0.668023  0.188933 -0.380051  0.590879 -0.427321  \n",
       "RM      -0.292048 -0.355501  0.128069 -0.613808  0.695360  \n",
       "DIS     -0.534432 -0.232471  0.291512 -0.496996  0.249929  \n",
       "RAD      0.910228  0.464741 -0.444413  0.488676 -0.381626  \n",
       "TAX      1.000000  0.460853 -0.441808  0.543993 -0.468536  \n",
       "PTRATIO  0.460853  1.000000 -0.177383  0.374044 -0.507787  \n",
       "B       -0.441808 -0.177383  1.000000 -0.366087  0.333461  \n",
       "LSTAT    0.543993  0.374044 -0.366087  1.000000 -0.737663  \n",
       "target  -0.468536 -0.507787  0.333461 -0.737663  1.000000  "
      ]
     },
     "execution_count": 7,
     "metadata": {},
     "output_type": "execute_result"
    }
   ],
   "source": [
    "correlation_widget = dd.correlation_matrix(df)\n",
    "correlation_widget.viz_data"
   ]
  }
 ],
 "metadata": {
  "kernelspec": {
   "display_name": "Python 3",
   "language": "python",
   "name": "python3"
  },
  "language_info": {
   "codemirror_mode": {
    "name": "ipython",
    "version": 3
   },
   "file_extension": ".py",
   "mimetype": "text/x-python",
   "name": "python",
   "nbconvert_exporter": "python",
   "pygments_lexer": "ipython3",
   "version": "3.7.7"
  },
  "papermill": {
   "duration": 22.387532,
   "end_time": "2020-08-20T00:38:11.531648",
   "environment_variables": {},
   "exception": null,
   "input_path": "../examples/Correlation_Matrix.ipynb",
   "output_path": "../examples/Correlation_Matrix.ipynb",
   "parameters": {},
   "start_time": "2020-08-20T00:37:49.144116",
   "version": "2.1.2"
  },
  "widgets": {
   "application/vnd.jupyter.widget-state+json": {
    "state": {},
    "version_major": 2,
    "version_minor": 0
   }
  }
 },
 "nbformat": 4,
 "nbformat_minor": 4
}
