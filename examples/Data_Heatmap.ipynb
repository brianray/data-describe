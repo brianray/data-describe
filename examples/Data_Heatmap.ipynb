{
 "cells": [
  {
   "cell_type": "markdown",
   "metadata": {
    "papermill": {
     "duration": 0.011011,
     "end_time": "2020-08-06T21:11:27.273890",
     "exception": false,
     "start_time": "2020-08-06T21:11:27.262879",
     "status": "completed"
    },
    "tags": []
   },
   "source": [
    "# Data Heatmap"
   ]
  },
  {
   "cell_type": "code",
   "execution_count": 1,
   "metadata": {
    "execution": {
     "iopub.execute_input": "2020-08-06T21:11:27.290032Z",
     "iopub.status.busy": "2020-08-06T21:11:27.289442Z",
     "iopub.status.idle": "2020-08-06T21:11:31.958165Z",
     "shell.execute_reply": "2020-08-06T21:11:31.958613Z"
    },
    "papermill": {
     "duration": 4.678384,
     "end_time": "2020-08-06T21:11:31.958802",
     "exception": false,
     "start_time": "2020-08-06T21:11:27.280418",
     "status": "completed"
    },
    "tags": []
   },
   "outputs": [
    {
     "name": "stderr",
     "output_type": "stream",
     "text": [
      "/Users/richardtruong-chau/miniconda3/envs/test-env/lib/python3.7/site-packages/google/protobuf/descriptor.py:47: DeprecationWarning: Using or importing the ABCs from 'collections' instead of from 'collections.abc' is deprecated since Python 3.3,and in 3.9 it will stop working\n",
      "  from google.protobuf.pyext import _message\n",
      "/Users/richardtruong-chau/miniconda3/envs/test-env/lib/python3.7/site-packages/gensim/corpora/dictionary.py:11: DeprecationWarning: Using or importing the ABCs from 'collections' instead of from 'collections.abc' is deprecated since Python 3.3,and in 3.9 it will stop working\n",
      "  from collections import Mapping, defaultdict\n",
      "/Users/richardtruong-chau/miniconda3/envs/test-env/lib/python3.7/site-packages/scipy/sparse/sparsetools.py:21: DeprecationWarning: `scipy.sparse.sparsetools` is deprecated!\n",
      "scipy.sparse.sparsetools is a private module for scipy.sparse, and should not be used.\n",
      "  _deprecated()\n"
     ]
    },
    {
     "name": "stderr",
     "output_type": "stream",
     "text": [
      "DeprecationWarning: Using or importing the ABCs from 'collections' instead of from 'collections.abc' is deprecated since Python 3.3,and in 3.9 it will stop working\n"
     ]
    },
    {
     "name": "stderr",
     "output_type": "stream",
     "text": [
      "DeprecationWarning: Redis.hmset() is deprecated. Use Redis.hset() instead.\n",
      "DeprecationWarning: Redis.hmset() is deprecated. Use Redis.hset() instead.\n",
      "DeprecationWarning: Redis.hmset() is deprecated. Use Redis.hset() instead.\n",
      "DeprecationWarning: Redis.hmset() is deprecated. Use Redis.hset() instead.\n",
      "DeprecationWarning: Redis.hmset() is deprecated. Use Redis.hset() instead.\n"
     ]
    },
    {
     "name": "stderr",
     "output_type": "stream",
     "text": [
      "WARNING:root:The extension \"@jupyter-widgets/jupyterlab-manager\" was not found and is required for Plotly-based visualizations.\n"
     ]
    }
   ],
   "source": [
    "import pandas as pd\n",
    "from data_describe import data_heatmap"
   ]
  },
  {
   "cell_type": "code",
   "execution_count": 2,
   "metadata": {
    "execution": {
     "iopub.execute_input": "2020-08-06T21:11:31.982657Z",
     "iopub.status.busy": "2020-08-06T21:11:31.981999Z",
     "iopub.status.idle": "2020-08-06T21:11:31.986548Z",
     "shell.execute_reply": "2020-08-06T21:11:31.987207Z"
    },
    "papermill": {
     "duration": 0.021812,
     "end_time": "2020-08-06T21:11:31.987702",
     "exception": false,
     "start_time": "2020-08-06T21:11:31.965890",
     "status": "completed"
    },
    "tags": []
   },
   "outputs": [],
   "source": [
    "from sklearn.datasets import load_wine\n",
    "data = load_wine()\n",
    "df = pd.DataFrame(data.data, columns=list(data.feature_names))\n",
    "df['target'] = data.target"
   ]
  },
  {
   "cell_type": "markdown",
   "metadata": {
    "papermill": {
     "duration": 0.005887,
     "end_time": "2020-08-06T21:11:31.999166",
     "exception": false,
     "start_time": "2020-08-06T21:11:31.993279",
     "status": "completed"
    },
    "tags": []
   },
   "source": [
    "## Basic heatmap"
   ]
  },
  {
   "cell_type": "code",
   "execution_count": 3,
   "metadata": {
    "execution": {
     "iopub.execute_input": "2020-08-06T21:11:32.016753Z",
     "iopub.status.busy": "2020-08-06T21:11:32.015960Z",
     "iopub.status.idle": "2020-08-06T21:11:43.133215Z",
     "shell.execute_reply": "2020-08-06T21:11:43.133831Z"
    },
    "papermill": {
     "duration": 11.128457,
     "end_time": "2020-08-06T21:11:43.134304",
     "exception": false,
     "start_time": "2020-08-06T21:11:32.005847",
     "status": "completed"
    },
    "tags": []
   },
   "outputs": [
    {
     "name": "stdout",
     "output_type": "stream",
     "text": [
      "final root:{'score_threshold': 0.2, 'enable_trace_pii': None, 'sample_size': None}\n",
      "final root:{'score_threshold': 0.2, 'enable_trace_pii': True, 'sample_size': None}\n",
      "final root:{'score_threshold': 0.2, 'enable_trace_pii': True, 'sample_size': 100}\n",
      "[2020-08-06 16:11:32,237][presidio][INFO]nlp_engine not provided. Creating new SpacyNlpEngine instance\n"
     ]
    },
    {
     "name": "stderr",
     "output_type": "stream",
     "text": [
      "INFO:presidio:nlp_engine not provided. Creating new SpacyNlpEngine instance\n"
     ]
    },
    {
     "name": "stdout",
     "output_type": "stream",
     "text": [
      "[2020-08-06 16:11:32,242][presidio][INFO]Loading NLP model: spaCy en_core_web_lg\n"
     ]
    },
    {
     "name": "stderr",
     "output_type": "stream",
     "text": [
      "INFO:presidio:Loading NLP model: spaCy en_core_web_lg\n"
     ]
    },
    {
     "name": "stdout",
     "output_type": "stream",
     "text": [
      "\u001b[1m\n",
      "===================== Info about model 'en_core_web_lg' =====================\u001b[0m\n",
      "\n",
      "lang             en                            \n",
      "name             core_web_lg                   \n",
      "license          MIT                           \n",
      "author           Explosion                     \n",
      "url              https://explosion.ai          \n",
      "email            contact@explosion.ai          \n",
      "description      English multi-task CNN trained on OntoNotes, with GloVe vectors trained on Common Crawl. Assigns word vectors, context-specific token vectors, POS tags, dependency parse and named entities.\n",
      "sources          [{'name': 'OntoNotes 5', 'url': 'https://catalog.ldc.upenn.edu/LDC2013T19', 'license': 'commercial (licensed by Explosion)'}, {'name': 'Common Crawl'}]\n",
      "pipeline         ['tagger', 'parser', 'ner']   \n",
      "version          2.2.5                         \n",
      "spacy_version    >=2.2.2                       \n",
      "parent_package   spacy                         \n",
      "labels           {'tagger': ['$', \"''\", ',', '-LRB-', '-RRB-', '.', ':', 'ADD', 'AFX', 'CC', 'CD', 'DT', 'EX', 'FW', 'HYPH', 'IN', 'JJ', 'JJR', 'JJS', 'LS', 'MD', 'NFP', 'NN', 'NNP', 'NNPS', 'NNS', 'PDT', 'POS', 'PRP', 'PRP$', 'RB', 'RBR', 'RBS', 'RP', 'SYM', 'TO', 'UH', 'VB', 'VBD', 'VBG', 'VBN', 'VBP', 'VBZ', 'WDT', 'WP', 'WP$', 'WRB', 'XX', '_SP', '``'], 'parser': ['ROOT', 'acl', 'acomp', 'advcl', 'advmod', 'agent', 'amod', 'appos', 'attr', 'aux', 'auxpass', 'case', 'cc', 'ccomp', 'compound', 'conj', 'csubj', 'csubjpass', 'dative', 'dep', 'det', 'dobj', 'expl', 'intj', 'mark', 'meta', 'neg', 'nmod', 'npadvmod', 'nsubj', 'nsubjpass', 'nummod', 'oprd', 'parataxis', 'pcomp', 'pobj', 'poss', 'preconj', 'predet', 'prep', 'prt', 'punct', 'quantmod', 'relcl', 'xcomp'], 'ner': ['CARDINAL', 'DATE', 'EVENT', 'FAC', 'GPE', 'LANGUAGE', 'LAW', 'LOC', 'MONEY', 'NORP', 'ORDINAL', 'ORG', 'PERCENT', 'PERSON', 'PRODUCT', 'QUANTITY', 'TIME', 'WORK_OF_ART']}\n",
      "vectors          {'width': 300, 'vectors': 684831, 'keys': 684830, 'name': 'en_core_web_lg.vectors'}\n",
      "source           /Users/richardtruong-chau/miniconda3/envs/test-env/lib/python3.7/site-packages/en_core_web_lg\n",
      "\n",
      "[2020-08-06 16:11:42,496][presidio][INFO]Printing spaCy model and package details:\n",
      "\n",
      " {'lang': 'en', 'name': 'core_web_lg', 'license': 'MIT', 'author': 'Explosion', 'url': 'https://explosion.ai', 'email': 'contact@explosion.ai', 'description': 'English multi-task CNN trained on OntoNotes, with GloVe vectors trained on Common Crawl. Assigns word vectors, context-specific token vectors, POS tags, dependency parse and named entities.', 'sources': [{'name': 'OntoNotes 5', 'url': 'https://catalog.ldc.upenn.edu/LDC2013T19', 'license': 'commercial (licensed by Explosion)'}, {'name': 'Common Crawl'}], 'pipeline': ['tagger', 'parser', 'ner'], 'version': '2.2.5', 'spacy_version': '>=2.2.2', 'parent_package': 'spacy', 'accuracy': {'las': 90.1734441725, 'uas': 92.0132337105, 'token_acc': 99.7579930934, 'tags_acc': 97.2200800054, 'ents_f': 86.5464321721, 'ents_p': 86.7358967163, 'ents_r': 86.3577935506}, 'speed': {'cpu': 6257.754029418, 'gpu': None, 'nwords': 291314}, 'labels': {'tagger': ['$', \"''\", ',', '-LRB-', '-RRB-', '.', ':', 'ADD', 'AFX', 'CC', 'CD', 'DT', 'EX', 'FW', 'HYPH', 'IN', 'JJ', 'JJR', 'JJS', 'LS', 'MD', 'NFP', 'NN', 'NNP', 'NNPS', 'NNS', 'PDT', 'POS', 'PRP', 'PRP$', 'RB', 'RBR', 'RBS', 'RP', 'SYM', 'TO', 'UH', 'VB', 'VBD', 'VBG', 'VBN', 'VBP', 'VBZ', 'WDT', 'WP', 'WP$', 'WRB', 'XX', '_SP', '``'], 'parser': ['ROOT', 'acl', 'acomp', 'advcl', 'advmod', 'agent', 'amod', 'appos', 'attr', 'aux', 'auxpass', 'case', 'cc', 'ccomp', 'compound', 'conj', 'csubj', 'csubjpass', 'dative', 'dep', 'det', 'dobj', 'expl', 'intj', 'mark', 'meta', 'neg', 'nmod', 'npadvmod', 'nsubj', 'nsubjpass', 'nummod', 'oprd', 'parataxis', 'pcomp', 'pobj', 'poss', 'preconj', 'predet', 'prep', 'prt', 'punct', 'quantmod', 'relcl', 'xcomp'], 'ner': ['CARDINAL', 'DATE', 'EVENT', 'FAC', 'GPE', 'LANGUAGE', 'LAW', 'LOC', 'MONEY', 'NORP', 'ORDINAL', 'ORG', 'PERCENT', 'PERSON', 'PRODUCT', 'QUANTITY', 'TIME', 'WORK_OF_ART']}, 'vectors': {'width': 300, 'vectors': 684831, 'keys': 684830, 'name': 'en_core_web_lg.vectors'}, 'source': '/Users/richardtruong-chau/miniconda3/envs/test-env/lib/python3.7/site-packages/en_core_web_lg'}\n",
      "\n",
      "\n"
     ]
    },
    {
     "name": "stderr",
     "output_type": "stream",
     "text": [
      "INFO:presidio:Printing spaCy model and package details:\n",
      "\n",
      " {'lang': 'en', 'name': 'core_web_lg', 'license': 'MIT', 'author': 'Explosion', 'url': 'https://explosion.ai', 'email': 'contact@explosion.ai', 'description': 'English multi-task CNN trained on OntoNotes, with GloVe vectors trained on Common Crawl. Assigns word vectors, context-specific token vectors, POS tags, dependency parse and named entities.', 'sources': [{'name': 'OntoNotes 5', 'url': 'https://catalog.ldc.upenn.edu/LDC2013T19', 'license': 'commercial (licensed by Explosion)'}, {'name': 'Common Crawl'}], 'pipeline': ['tagger', 'parser', 'ner'], 'version': '2.2.5', 'spacy_version': '>=2.2.2', 'parent_package': 'spacy', 'accuracy': {'las': 90.1734441725, 'uas': 92.0132337105, 'token_acc': 99.7579930934, 'tags_acc': 97.2200800054, 'ents_f': 86.5464321721, 'ents_p': 86.7358967163, 'ents_r': 86.3577935506}, 'speed': {'cpu': 6257.754029418, 'gpu': None, 'nwords': 291314}, 'labels': {'tagger': ['$', \"''\", ',', '-LRB-', '-RRB-', '.', ':', 'ADD', 'AFX', 'CC', 'CD', 'DT', 'EX', 'FW', 'HYPH', 'IN', 'JJ', 'JJR', 'JJS', 'LS', 'MD', 'NFP', 'NN', 'NNP', 'NNPS', 'NNS', 'PDT', 'POS', 'PRP', 'PRP$', 'RB', 'RBR', 'RBS', 'RP', 'SYM', 'TO', 'UH', 'VB', 'VBD', 'VBG', 'VBN', 'VBP', 'VBZ', 'WDT', 'WP', 'WP$', 'WRB', 'XX', '_SP', '``'], 'parser': ['ROOT', 'acl', 'acomp', 'advcl', 'advmod', 'agent', 'amod', 'appos', 'attr', 'aux', 'auxpass', 'case', 'cc', 'ccomp', 'compound', 'conj', 'csubj', 'csubjpass', 'dative', 'dep', 'det', 'dobj', 'expl', 'intj', 'mark', 'meta', 'neg', 'nmod', 'npadvmod', 'nsubj', 'nsubjpass', 'nummod', 'oprd', 'parataxis', 'pcomp', 'pobj', 'poss', 'preconj', 'predet', 'prep', 'prt', 'punct', 'quantmod', 'relcl', 'xcomp'], 'ner': ['CARDINAL', 'DATE', 'EVENT', 'FAC', 'GPE', 'LANGUAGE', 'LAW', 'LOC', 'MONEY', 'NORP', 'ORDINAL', 'ORG', 'PERCENT', 'PERSON', 'PRODUCT', 'QUANTITY', 'TIME', 'WORK_OF_ART']}, 'vectors': {'width': 300, 'vectors': 684831, 'keys': 684830, 'name': 'en_core_web_lg.vectors'}, 'source': '/Users/richardtruong-chau/miniconda3/envs/test-env/lib/python3.7/site-packages/en_core_web_lg'}\n",
      "\n",
      "\n"
     ]
    },
    {
     "name": "stdout",
     "output_type": "stream",
     "text": [
      "[2020-08-06 16:11:42,498][presidio][INFO]Recognizer registry not provided. Creating default RecognizerRegistry instance\n"
     ]
    },
    {
     "name": "stderr",
     "output_type": "stream",
     "text": [
      "INFO:presidio:Recognizer registry not provided. Creating default RecognizerRegistry instance\n"
     ]
    },
    {
     "name": "stdout",
     "output_type": "stream",
     "text": [
      "[2020-08-06 16:11:42,500][presidio][INFO]Loaded recognizer: CreditCardRecognizer\n"
     ]
    },
    {
     "name": "stderr",
     "output_type": "stream",
     "text": [
      "INFO:presidio:Loaded recognizer: CreditCardRecognizer\n"
     ]
    },
    {
     "name": "stdout",
     "output_type": "stream",
     "text": [
      "[2020-08-06 16:11:42,501][presidio][INFO]Loaded recognizer: CryptoRecognizer\n"
     ]
    },
    {
     "name": "stderr",
     "output_type": "stream",
     "text": [
      "INFO:presidio:Loaded recognizer: CryptoRecognizer\n"
     ]
    },
    {
     "name": "stdout",
     "output_type": "stream",
     "text": [
      "[2020-08-06 16:11:42,502][presidio][INFO]Loaded recognizer: DomainRecognizer\n"
     ]
    },
    {
     "name": "stderr",
     "output_type": "stream",
     "text": [
      "INFO:presidio:Loaded recognizer: DomainRecognizer\n"
     ]
    },
    {
     "name": "stdout",
     "output_type": "stream",
     "text": [
      "[2020-08-06 16:11:42,503][presidio][INFO]Loaded recognizer: EmailRecognizer\n"
     ]
    },
    {
     "name": "stderr",
     "output_type": "stream",
     "text": [
      "INFO:presidio:Loaded recognizer: EmailRecognizer\n"
     ]
    },
    {
     "name": "stdout",
     "output_type": "stream",
     "text": [
      "[2020-08-06 16:11:42,504][presidio][INFO]Loaded recognizer: IbanRecognizer\n"
     ]
    },
    {
     "name": "stderr",
     "output_type": "stream",
     "text": [
      "INFO:presidio:Loaded recognizer: IbanRecognizer\n"
     ]
    },
    {
     "name": "stdout",
     "output_type": "stream",
     "text": [
      "[2020-08-06 16:11:42,505][presidio][INFO]Loaded recognizer: IpRecognizer\n"
     ]
    },
    {
     "name": "stderr",
     "output_type": "stream",
     "text": [
      "INFO:presidio:Loaded recognizer: IpRecognizer\n"
     ]
    },
    {
     "name": "stdout",
     "output_type": "stream",
     "text": [
      "[2020-08-06 16:11:42,506][presidio][INFO]Loaded recognizer: NhsRecognizer\n"
     ]
    },
    {
     "name": "stderr",
     "output_type": "stream",
     "text": [
      "INFO:presidio:Loaded recognizer: NhsRecognizer\n"
     ]
    },
    {
     "name": "stdout",
     "output_type": "stream",
     "text": [
      "[2020-08-06 16:11:42,507][presidio][INFO]Loaded recognizer: UsBankRecognizer\n"
     ]
    },
    {
     "name": "stderr",
     "output_type": "stream",
     "text": [
      "INFO:presidio:Loaded recognizer: UsBankRecognizer\n"
     ]
    },
    {
     "name": "stdout",
     "output_type": "stream",
     "text": [
      "[2020-08-06 16:11:42,508][presidio][INFO]Loaded recognizer: UsLicenseRecognizer\n"
     ]
    },
    {
     "name": "stderr",
     "output_type": "stream",
     "text": [
      "INFO:presidio:Loaded recognizer: UsLicenseRecognizer\n"
     ]
    },
    {
     "name": "stdout",
     "output_type": "stream",
     "text": [
      "[2020-08-06 16:11:42,510][presidio][INFO]Loaded recognizer: UsItinRecognizer\n"
     ]
    },
    {
     "name": "stderr",
     "output_type": "stream",
     "text": [
      "INFO:presidio:Loaded recognizer: UsItinRecognizer\n"
     ]
    },
    {
     "name": "stdout",
     "output_type": "stream",
     "text": [
      "[2020-08-06 16:11:42,510][presidio][INFO]Loaded recognizer: UsPassportRecognizer\n"
     ]
    },
    {
     "name": "stderr",
     "output_type": "stream",
     "text": [
      "INFO:presidio:Loaded recognizer: UsPassportRecognizer\n"
     ]
    },
    {
     "name": "stdout",
     "output_type": "stream",
     "text": [
      "[2020-08-06 16:11:42,511][presidio][INFO]Loaded recognizer: UsPhoneRecognizer\n"
     ]
    },
    {
     "name": "stderr",
     "output_type": "stream",
     "text": [
      "INFO:presidio:Loaded recognizer: UsPhoneRecognizer\n"
     ]
    },
    {
     "name": "stdout",
     "output_type": "stream",
     "text": [
      "[2020-08-06 16:11:42,512][presidio][INFO]Loaded recognizer: UsSsnRecognizer\n"
     ]
    },
    {
     "name": "stderr",
     "output_type": "stream",
     "text": [
      "INFO:presidio:Loaded recognizer: UsSsnRecognizer\n"
     ]
    },
    {
     "name": "stdout",
     "output_type": "stream",
     "text": [
      "[2020-08-06 16:11:42,513][presidio][INFO]Loaded recognizer: SpacyRecognizer\n"
     ]
    },
    {
     "name": "stderr",
     "output_type": "stream",
     "text": [
      "INFO:presidio:Loaded recognizer: SpacyRecognizer\n"
     ]
    },
    {
     "name": "stdout",
     "output_type": "stream",
     "text": [
      "[2020-08-06 16:11:42,513][presidio][INFO]Loaded recognizer: SgFinRecognizer\n"
     ]
    },
    {
     "name": "stderr",
     "output_type": "stream",
     "text": [
      "INFO:presidio:Loaded recognizer: SgFinRecognizer\n"
     ]
    },
    {
     "data": {
      "text/plain": [
       "<matplotlib.axes._subplots.AxesSubplot at 0x7fa20708f9d0>"
      ]
     },
     "execution_count": 3,
     "metadata": {},
     "output_type": "execute_result"
    },
    {
     "data": {
      "image/png": "[encoded data removed]",
      "text/plain": [
       "<Figure size 720x720 with 2 Axes>"
      ]
     },
     "metadata": {
      "needs_background": "light"
     },
     "output_type": "display_data"
    }
   ],
   "source": [
    "data_heatmap(df)"
   ]
  },
  {
   "cell_type": "markdown",
   "metadata": {
    "papermill": {
     "duration": 0.015698,
     "end_time": "2020-08-06T21:11:43.166000",
     "exception": false,
     "start_time": "2020-08-06T21:11:43.150302",
     "status": "completed"
    },
    "tags": []
   },
   "source": [
    "## Missing values only"
   ]
  },
  {
   "cell_type": "code",
   "execution_count": 4,
   "metadata": {
    "execution": {
     "iopub.execute_input": "2020-08-06T21:11:43.203280Z",
     "iopub.status.busy": "2020-08-06T21:11:43.202324Z",
     "iopub.status.idle": "2020-08-06T21:11:43.205605Z",
     "shell.execute_reply": "2020-08-06T21:11:43.205988Z"
    },
    "papermill": {
     "duration": 0.024783,
     "end_time": "2020-08-06T21:11:43.206126",
     "exception": false,
     "start_time": "2020-08-06T21:11:43.181343",
     "status": "completed"
    },
    "tags": []
   },
   "outputs": [],
   "source": [
    "# Create missing values\n",
    "df['hue'] = df['hue'].map(lambda x: None if x < 1.05 else x)\n",
    "df['magnesium'] = df['magnesium'].map(lambda x: None if x%2 ==0 else x)"
   ]
  },
  {
   "cell_type": "code",
   "execution_count": 5,
   "metadata": {
    "execution": {
     "iopub.execute_input": "2020-08-06T21:11:43.247502Z",
     "iopub.status.busy": "2020-08-06T21:11:43.246810Z",
     "iopub.status.idle": "2020-08-06T21:11:43.536060Z",
     "shell.execute_reply": "2020-08-06T21:11:43.536500Z"
    },
    "papermill": {
     "duration": 0.314436,
     "end_time": "2020-08-06T21:11:43.536648",
     "exception": false,
     "start_time": "2020-08-06T21:11:43.222212",
     "status": "completed"
    },
    "tags": []
   },
   "outputs": [
    {
     "data": {
      "text/plain": [
       "<matplotlib.axes._subplots.AxesSubplot at 0x7fa1b34a4f90>"
      ]
     },
     "execution_count": 5,
     "metadata": {},
     "output_type": "execute_result"
    },
    {
     "data": {
      "image/png": "[encoded data removed]",
      "text/plain": [
       "<Figure size 720x720 with 2 Axes>"
      ]
     },
     "metadata": {
      "needs_background": "light"
     },
     "output_type": "display_data"
    }
   ],
   "source": [
    "data_heatmap(df, missing=True)"
   ]
  },
  {
   "cell_type": "markdown",
   "metadata": {
    "papermill": {
     "duration": 0.017256,
     "end_time": "2020-08-06T21:11:43.570903",
     "exception": false,
     "start_time": "2020-08-06T21:11:43.553647",
     "status": "completed"
    },
    "tags": []
   },
   "source": [
    "## Interactive (Plotly)"
   ]
  },
  {
   "cell_type": "code",
   "execution_count": 6,
   "metadata": {
    "execution": {
     "iopub.execute_input": "2020-08-06T21:11:43.611025Z",
     "iopub.status.busy": "2020-08-06T21:11:43.610467Z",
     "iopub.status.idle": "2020-08-06T21:11:44.162321Z",
     "shell.execute_reply": "2020-08-06T21:11:44.162728Z"
    },
    "papermill": {
     "duration": 0.575138,
     "end_time": "2020-08-06T21:11:44.162879",
     "exception": false,
     "start_time": "2020-08-06T21:11:43.587741",
     "status": "completed"
    },
    "tags": []
   },
   "outputs": [
    {
     "data": {
      "text/html": [
       "        <script type=\"text/javascript\">\n",
       "        window.PlotlyConfig = {MathJaxConfig: 'local'};\n",
       "        if (window.MathJax) {MathJax.Hub.Config({SVG: {font: \"STIX-Web\"}});}\n",
       "        if (typeof require !== 'undefined') {\n",
       "        require.undef(\"plotly\");\n",
       "        requirejs.config({\n",
       "            paths: {\n",
       "                'plotly': ['https://cdn.plot.ly/plotly-latest.min']\n",
       "            }\n",
       "        });\n",
       "        require(['plotly'], function(Plotly) {\n",
       "            window._Plotly = Plotly;\n",
       "        });\n",
       "        }\n",
       "        </script>\n",
       "        "
      ]
     },
     "metadata": {},
     "output_type": "display_data"
    },
    {
     "data": {
      "application/vnd.plotly.v1+json": {
       "config": {
        "displayModeBar": false,
        "linkText": "Export to plot.ly",
        "plotlyServerURL": "https://plot.ly",
        "showLink": false
       },
       "data": [
        {
         "colorbar": {
          "title": {
           "text": "z-score (bounded)"
          }
         },
         "colorscale": [
          [
           0.0,
           "#440154"
          ],
          [
           0.1111111111111111,
           "#482878"
          ],
          [
           0.2222222222222222,
           "#3e4989"
          ],
          [
           0.3333333333333333,
           "#31688e"
          ],
          [
           0.4444444444444444,
           "#26828e"
          ],
          [
           0.5555555555555556,
           "#1f9e89"
          ],
          [
           0.6666666666666666,
           "#35b779"
          ],
          [
           0.7777777777777778,
           "#6ece58"
          ],
          [
           0.8888888888888888,
           "#b5de2b"
          ],
          [
           1.0,
           "#fde725"
          ]
         ],
         "type": "heatmap",
         "x": [
          0,
          1,
          2,
          3,
          4,
          5,
          6,
          7,
          8,
          9,
          10,
          11,
          12,
          13
         ],
         "y": [
          "target",
          "proline",
          "od280/od315_of_diluted_wines",
          "hue",
          "color_intensity",
          "proanthocyanins",
          "nonflavanoid_phenols",
          "flavanoids",
          "total_phenols",
          "magnesium",
          "alcalinity_of_ash",
          "ash",
          "malic_acid",
          "alcohol"
         ],
         "ygap": 1,
         "z": [
          [
           1.518612540989146,
           0.24628962701505472,
           0.19687902841412025,
           1.6915496360924187,
           0.2957002256159914,
           1.481554592038443,
           1.7162549353928882,
           1.30861749693517,
           2.2597715200031785,
           1.061564503930491,
           1.3580280955361046,
           1.3827333948365716,
           0.925685357777919,
           2.160950322801307,
           1.7039022857426547,
           0.7774535619751135,
           1.6050810885407834,
           1.0245065549797903,
           1.4692019423882092,
           0.7898062116253471,
           1.30861749693517,
           -0.08723191354125955,
           0.8762747591769846,
           -0.1860531107431307,
           0.6168691165220721,
           0.060999882261548254,
           0.48098997036950003,
           0.3698161235173953,
           1.0739171535807246,
           1.2592068983342333,
           0.9009800584774519,
           0.7156903137239432,
           0.8392168102262816,
           0.9380380074281527,
           0.6292217661723056,
           0.5921638172216048,
           0.34511082421692585,
           0.060999882261548254,
           0.0857051815620155,
           1.5062598913389122,
           0.6909850144234759,
           0.5056952696699673,
           1.0862698032309606,
           0.2957002256159914,
           0.060999882261548254,
           1.4939072416886787,
           1.7039022857426547,
           1.1109751025314278,
           1.3580280955361046,
           1.1603857011323622,
           0.060999882261548254,
           1.0245065549797903,
           1.0121539053295565,
           0.9503906570783863,
           0.9133327081276855,
           0.6909850144234759,
           1.5062598913389122,
           0.3574634738671595,
           0.8886274088272182,
           -0.7789802939543575,
           -0.828390892555292,
           -0.4454587533980411,
           0.826864160576048,
           -0.7789802939543575,
           -1.0260332869590343,
           -0.7789802939543575,
           0.13511578016294998,
           -0.7789802939543575,
           0.4192267221183298,
           -0.9766226883580976,
           -0.8778014911562286,
           1.061564503930491,
           0.6045164668718385,
           -0.013116015639855648,
           -1.2854389296139446,
           -1.656018419120962,
           0.036294582961078826,
           -1.4336707254167524,
           -0.828390892555292,
           -0.37134285549663937,
           -1.2360283310130102,
           -0.3466375561961699,
           -1.1372071338111391,
           0.060999882261548254,
           -1.4336707254167524,
           -0.4084008044473402,
           -1.0383859366092678,
           -1.6683710687711957,
           -1.6807237184214292,
           -1.1372071338111391,
           -1.1372071338111391,
           -1.2360283310130102,
           -0.38369550514687295,
           -0.8778014911562286,
           -1.7054290177218987,
           -0.6554537974520169,
           -1.4707286743674532,
           -0.8778014911562286,
           -0.7789802939543575,
           -0.8778014911562286,
           -1.1372071338111391,
           -0.49486935199897775,
           -0.8160382429050584,
           -1.4583760247172197,
           -0.6060431988510825,
           -0.7172170457031872,
           -0.9272120897571632,
           -0.3466375561961699,
           -0.964270038707864,
           -1.7177816673721322,
           -1.9030714121256387,
           -0.5936905492008488,
           -1.5324919226186235,
           -1.964834660376809,
           -1.1372071338111391,
           -2.4342353470856977,
           -1.4583760247172197,
           -0.7172170457031872,
           -0.28487430794500185,
           -1.2360283310130102,
           -1.9154240617758747,
           -1.7795449156233003,
           -0.7172170457031872,
           0.060999882261548254,
           -1.3966127764660516,
           -1.1495597834613727,
           -0.7048643960529536,
           -1.4954339736679227,
           -0.7789802939543575,
           -1.1866177324120757,
           -0.17370046109289708,
           -0.14899516179242764,
           -0.23546370934406516,
           -0.37134285549663937,
           -0.6060431988510825,
           -0.49486935199897775,
           -0.9272120897571632,
           -0.5813378995506152,
           0.6045164668718385,
           -0.1984057603933643,
           -0.08723191354125955,
           0.443932021418797,
           0.6415744158225393,
           0.7651009123248776,
           -0.9272120897571632,
           0.19687902841412025,
           1.0862698032309606,
           -0.16134781144266347,
           0.3945214228178625,
           0.0980578312122491,
           0.6168691165220721,
           -0.26016900864453457,
           0.13511578016294998,
           0.28334757596575777,
           -0.519574651299445,
           0.20923167806435386,
           1.0368592046300238,
           -0.6801590967524864,
           1.654491687141718,
           0.5921638172216048,
           -0.7913329436045912,
           0.8515694598765152,
           -0.1860531107431307,
           -0.0501739645905565,
           0.96274330672862,
           0.9009800584774519,
           0.5551058682709018,
           -0.22311105969383155,
           0.7156903137239432,
           0.49334262001973367,
           -0.9889753380083335,
           -0.28487430794500185,
           1.4321439934375084,
           0.8762747591769846,
           0.49334262001973367,
           0.33275817456669227,
           0.20923167806435386,
           1.3950860444868076
          ],
          [
           -0.5622497983286235,
           -0.4994133781369054,
           0.021231246308758504,
           -0.34681064338559014,
           0.22769376979583217,
           -0.5173666410488249,
           -0.4186236950332678,
           -0.16727801426639569,
           -0.6250862185203416,
           -0.8854085307431735,
           -0.15830138281043576,
           -0.7687123218156972,
           -0.5442965354167041,
           -0.5442965354167041,
           -0.4186236950332678,
           -0.4724834837690262,
           -0.3737405377534693,
           -0.6879226387120596,
           -0.6699693758001402,
           0.6855019740497783,
           -0.6340628499763014,
           1.3138661759669588,
           -0.4276003264892275,
           -0.6609927443441804,
           -0.4724834837690262,
           -0.25704432882599304,
           -0.5083900095928652,
           -0.5532731668726638,
           -0.3916938006653888,
           -0.5891796926965027,
           -0.7507590589037777,
           -0.6071329556084222,
           -0.45453022085710676,
           -0.7238291645358985,
           -0.48146011522498594,
           -0.4724834837690262,
           -0.6250862185203416,
           -0.6161095870643819,
           -0.7507590589037777,
           1.484422173630194,
           -0.5622497983286235,
           1.3497727017907977,
           -0.40067043212134856,
           1.475445542174234,
           -0.5083900095928652,
           1.5293053309099924,
           1.1253569153918046,
           -0.5891796926965027,
           -0.283974223193872,
           -0.5442965354167041,
           -0.5442965354167041,
           -0.6161095870643819,
           -0.5263432725047846,
           -0.3916938006653888,
           -0.5981563241524624,
           -0.5442965354167041,
           -0.5712264297845833,
           -0.3288573804736707,
           -0.8135954790954959,
           -1.2534504204375223,
           -1.1098243171421667,
           -0.8764318992872138,
           -0.9751748453027709,
           -1.0828944227742876,
           -0.7956422161835763,
           -1.0110813711266098,
           -1.1906140002458043,
           -1.0469878969504487,
           -1.2534504204375223,
           -1.0290346340385292,
           -0.6520161128882207,
           -0.741782427447818,
           -0.6071329556084222,
           -0.5981563241524624,
           -1.1188009485981263,
           -0.4096470635773083,
           -1.2893569462613612,
           0.49699271347462415,
           -1.2085672631577238,
           1.3767025961586772,
           -1.2714036833494418,
           -0.4724834837690262,
           -1.0828944227742876,
           1.3677259647027171,
           -1.2983335777173208,
           -1.2175438946136834,
           -0.6520161128882207,
           -0.5981563241524624,
           -0.2480676973700331,
           -0.903361793655093,
           -0.45453022085710676,
           -0.741782427447818,
           -0.7238291645358985,
           0.44313292473886573,
           -0.31090411756175124,
           -0.7328057959918582,
           -0.19420790863427467,
           -0.8315487420074154,
           -1.1367542115100457,
           0.7483383942414963,
           -0.2301144344581136,
           -0.8943851621991332,
           0.1020209294123963,
           -0.5532731668726638,
           -0.5442965354167041,
           0.19178724397199323,
           -0.5442965354167041,
           -0.5263432725047846,
           -0.9392683194789319,
           -0.8854085307431735,
           1.2600063872312008,
           0.08406766650047684,
           0.30848345289946993,
           -1.4329830495567168,
           -0.8495020049193348,
           -0.741782427447818,
           -0.7776889532716569,
           -0.6520161128882207,
           0.9817308120964493,
           0.9817308120964493,
           0.057137772132597436,
           -0.25704432882599304,
           1.8793939576924215,
           3.1091924671589037,
           1.7716743802209045,
           -0.15830138281043576,
           -0.7238291645358985,
           -0.18523127717831514,
           -0.6340628499763014,
           1.7626977487649451,
           -0.8854085307431735,
           0.5867590280342214,
           -0.02365191097103996,
           1.0894503895679657,
           -0.9841514767587306,
           0.11099756086835583,
           2.1397162699152537,
           2.8488701549360718,
           1.1253569153918046,
           0.5598291336663421,
           0.4251796618269463,
           0.20076387542795315,
           0.7483383942414963,
           2.3461787934023275,
           1.3856792276146368,
           1.1074036524798851,
           2.426968476505965,
           2.040973323899697,
           0.8111748144332146,
           1.4036324905265563,
           0.7034552369616978,
           0.29950682144351004,
           -0.3916938006653888,
           0.8650346031689726,
           -0.9392683194789319,
           2.561617948345361,
           1.6011183825576702,
           0.62266555385806,
           -0.5891796926965027,
           -0.5981563241524624,
           1.3407960703348383,
           0.8291280773451336,
           0.8381047088010936,
           0.9996840750083688,
           0.3802965045471474,
           1.816557537500704,
           1.224099861407362,
           0.9278710233606909,
           0.21871713833987264,
           2.0319966924437365,
           0.62266555385806,
           0.048161140676637904,
           0.1558807181481543,
           2.9745429953195086,
           1.412609121982516,
           1.744744485853026,
           0.22769376979583217,
           1.5831651196457504
          ],
          [
           0.23205254099474312,
           -0.8279963232661995,
           1.1093343596934533,
           0.4879264047818666,
           1.84040254194238,
           0.3051593592196358,
           0.3051593592196358,
           0.8900139050187754,
           -0.7183360959288614,
           -0.3528020048043981,
           -0.24314177746705992,
           -0.17003495924216727,
           0.15894572276985047,
           0.08583890454495782,
           0.04928549543251068,
           1.2189945870307932,
           1.2921014052556858,
           0.9265673141312225,
           0.41481958655697393,
           0.7072468594565445,
           -0.31624859569195257,
           1.0362275414685607,
           -0.023821322792381975,
           0.5610332230067593,
           0.8900139050187754,
           3.1197718608780005,
           0.9265673141312225,
           -0.8279963232661995,
           1.5845286781552548,
           -0.572122459479076,
           1.2189945870307932,
           -0.023821322792381975,
           -0.023821322792381975,
           1.2189945870307932,
           1.0362275414685607,
           0.15894572276985047,
           1.73074231460504,
           0.6706934503440974,
           -0.9742099597159848,
           0.5244798138943121,
           -0.2065883683546128,
           -0.9011031414910922,
           0.8169070867938827,
           -0.27969518657950543,
           -0.9742099597159848,
           0.26860595010718863,
           -0.31624859569195257,
           -0.9011031414910922,
           0.12239231365740333,
           -0.3528020048043981,
           -1.1935304143906629,
           0.8534604959063299,
           0.19549913188229598,
           1.1458877688059004,
           -0.42590882302929073,
           0.3417127683320813,
           -0.24314177746705992,
           1.1458877688059004,
           0.4879264047818666,
           -3.6791622340370105,
           -0.31624859569195257,
           -1.2666372326155555,
           -1.6321713237400186,
           -0.7548895050413069,
           0.5975866321192047,
           0.7072468594565445,
           -2.436346324213837,
           -1.6321713237400186,
           -0.023821322792381975,
           -2.2535792786516056,
           -0.572122459479076,
           1.1093343596934533,
           -0.46246223214173626,
           0.8534604959063299,
           -0.24314177746705992,
           -1.6321713237400186,
           -2.399792915101391,
           -0.4990156412541834,
           -1.5225110964026798,
           0.12239231365740333,
           -1.3397440508404481,
           -0.6086758685915216,
           0.5244798138943121,
           -0.17003495924216727,
           0.7803536776814372,
           -0.46246223214173626,
           -0.2065883683546128,
           0.9265673141312225,
           0.3417127683320813,
           -0.24314177746705992,
           -0.17003495924216727,
           0.19549913188229598,
           -0.38935541391684525,
           -0.5355690503666289,
           -0.31624859569195257,
           -0.6086758685915216,
           1.3652082234805785,
           -1.4128508690653407,
           -0.9742099597159848,
           -0.572122459479076,
           -2.436346324213837,
           -1.7052781419649115,
           0.3417127683320813,
           -1.778384960189804,
           -1.4128508690653407,
           -0.3528020048043981,
           -0.9011031414910922,
           -0.31624859569195257,
           -1.559064505515126,
           1.2189945870307932,
           -1.997705414864481,
           -0.7183360959288614,
           2.0231695875046105,
           0.4879264047818666,
           0.4879264047818666,
           -0.6086758685915216,
           -1.3762974599528943,
           -0.6452292777039688,
           -1.4128508690653407,
           -1.3397440508404481,
           0.19549913188229598,
           3.156325269990446,
           1.3286548143681314,
           -0.8645497323786466,
           0.08583890454495782,
           -0.7183360959288614,
           -0.27969518657950543,
           1.5114218599303622,
           -0.24314177746705992,
           0.04928549543251068,
           -0.17003495924216727,
           0.12239231365740333,
           0.12239231365740333,
           -0.023821322792381975,
           -0.42590882302929073,
           -0.6086758685915216,
           0.6341400412316519,
           0.9996741323561151,
           -0.6452292777039688,
           0.8900139050187754,
           1.2189945870307932,
           -0.06037473190482749,
           1.2921014052556858,
           -0.06037473190482749,
           -0.6086758685915216,
           -0.791442914153754,
           -0.4990156412541834,
           0.41481958655697393,
           0.04928549543251068,
           -0.023821322792381975,
           0.9265673141312225,
           0.41481958655697393,
           1.401761632593024,
           -0.31624859569195257,
           -0.9742099597159848,
           -0.17003495924216727,
           0.04928549543251068,
           0.9996741323561151,
           1.2189945870307932,
           0.9996741323561151,
           0.04928549543251068,
           0.6341400412316519,
           0.7803536776814372,
           -0.06037473190482749,
           -0.24314177746705992,
           -0.38935541391684525,
           0.8534604959063299,
           -0.24314177746705992,
           1.182441177918346,
           1.8038491328299326,
           -0.17003495924216727,
           -0.31624859569195257,
           0.41481958655697393,
           0.3051593592196358,
           0.41481958655697393,
           -0.38935541391684525,
           0.012732086320065164,
           1.3652082234805785
          ],
          [
           -1.1695931750229027,
           -2.4908471410952195,
           -0.26873819815541344,
           -0.8092511842759069,
           0.45194578333857716,
           -1.289707171938568,
           -1.4698781673120658,
           -0.5690231904445764,
           -1.6500491626855633,
           -1.0494791781072375,
           -0.4489091935289116,
           -0.8092511842759069,
           -1.0494791781072375,
           -2.430790142637387,
           -2.250619147263889,
           -0.6891371873602422,
           0.1516607910494142,
           0.1516607910494142,
           -0.899336681962656,
           -1.289707171938568,
           -1.0494791781072375,
           -0.26873819815541344,
           -0.8693081827337393,
           -0.508966191986744,
           0.1516607910494142,
           1.653085752495229,
           -1.0194506788783209,
           -0.7491941858180745,
           -0.02851020432408396,
           -1.0494791781072375,
           0.9023732717723215,
           -0.11859570201083199,
           -0.6891371873602422,
           0.00151829490483276,
           -0.1486242012397487,
           0.3018032871939957,
           -1.1996216742518189,
           -0.4489091935289116,
           -1.1996216742518189,
           -1.8902771565168939,
           -0.9894221796494052,
           -0.2086811996975811,
           -1.3497641703964005,
           -0.5990516896734931,
           -0.7491941858180745,
           -0.17865270046866544,
           -1.0494791781072375,
           -1.0494791781072375,
           -0.2086811996975811,
           -0.6290801889024098,
           -2.130505150348224,
           -0.6891371873602422,
           -1.6500491626855633,
           -0.7191656865891578,
           -0.9293651811915727,
           0.3018032871939957,
           -0.9593936804204884,
           -0.8092511842759069,
           -0.8392796835048236,
           -2.6710181364687173,
           -1.0494791781072375,
           -0.8092511842759069,
           -0.4489091935289116,
           -0.1486242012397487,
           -0.1486242012397487,
           -0.4188806942999949,
           -1.3497641703964005,
           0.03154679413374948,
           -0.7491941858180745,
           -0.8092511842759069,
           0.271774787965079,
           1.653085752495229,
           1.3528007602060659,
           3.1545107139410433,
           0.45194578333857716,
           -1.0494791781072375,
           -1.0494791781072375,
           -0.4489091935289116,
           -1.4098211688542328,
           1.052515767916903,
           -0.1486242012397487,
           -0.2086811996975811,
           1.3528007602060659,
           0.9023732717723215,
           -0.4489091935289116,
           -0.4489091935289116,
           0.9924587694590706,
           1.9533707447843918,
           0.6321167787120754,
           1.2326867632904013,
           -0.29876669738433015,
           0.7522307756277401,
           0.36186028565182804,
           -0.4489091935289116,
           -0.4489091935289116,
           -0.1486242012397487,
           0.6020882794831586,
           -1.0494791781072375,
           -0.29876669738433015,
           -0.4489091935289116,
           -0.5990516896734931,
           -0.29876669738433015,
           0.45194578333857716,
           0.00151829490483276,
           0.3018032871939957,
           0.7522307756277401,
           -0.1486242012397487,
           0.9023732717723215,
           -0.1486242012397487,
           0.1516607910494142,
           0.00151829490483276,
           0.45194578333857716,
           0.1516607910494142,
           0.45194578333857716,
           0.9023732717723215,
           0.6020882794831586,
           0.3918887848807448,
           0.9023732717723215,
           -1.0494791781072375,
           -0.1486242012397487,
           0.1516607910494142,
           2.7040832255072993,
           2.103513240928973,
           0.6020882794831586,
           0.45194578333857716,
           0.45194578333857716,
           0.6020882794831586,
           2.7040832255072993,
           1.5029432563506473,
           0.7522307756277401,
           -0.4489091935289116,
           0.1516607910494142,
           1.3528007602060659,
           0.6020882794831586,
           -0.5990516896734931,
           -0.29876669738433015,
           0.45194578333857716,
           1.653085752495229,
           0.00151829490483276,
           1.3528007602060659,
           0.45194578333857716,
           0.1516607910494142,
           1.2026582640614845,
           0.1516607910494142,
           -0.29876669738433015,
           0.45194578333857716,
           0.1516607910494142,
           0.6020882794831586,
           0.6020882794831586,
           0.6020882794831586,
           1.3528007602060659,
           0.7522307756277401,
           1.8032282486398103,
           -0.29876669738433015,
           0.1516607910494142,
           0.7522307756277401,
           0.00151829490483276,
           2.253655737073555,
           1.653085752495229,
           0.9023732717723215,
           0.45194578333857716,
           0.1516607910494142,
           0.7522307756277401,
           -0.29876669738433015,
           0.7522307756277401,
           0.9023732717723215,
           1.052515767916903,
           0.00151829490483276,
           1.5029432563506473,
           1.653085752495229,
           -0.1486242012397487,
           0.00151829490483276,
           0.1516607910494142,
           0.3018032871939957,
           1.052515767916903,
           0.1516607910494142,
           0.1516607910494142,
           1.5029432563506473
          ],
          [
           1.926214888550954,
           null,
           -0.024198679504409355,
           0.8759921980596046,
           null,
           null,
           null,
           1.4761194497689472,
           -0.3242623053590807,
           null,
           0.27586494635026193,
           -0.4742941182864163,
           -0.9243895570684233,
           -0.7743577441410876,
           null,
           null,
           null,
           1.0260240109869403,
           null,
           null,
           null,
           null,
           -0.024198679504409355,
           -0.4742941182864163,
           null,
           null,
           -0.6243259312137519,
           null,
           0.4258967592775976,
           null,
           -0.024198679504409355,
           null,
           null,
           null,
           null,
           null,
           null,
           null,
           null,
           null,
           1.1760558239142758,
           null,
           -0.024198679504409355,
           0.1258331334229263,
           0.4258967592775976,
           0.7259603851322689,
           null,
           -0.024198679504409355,
           0.1258331334229263,
           null,
           null,
           null,
           0.7259603851322689,
           1.0260240109869403,
           null,
           null,
           null,
           null,
           null,
           null,
           -0.024198679504409355,
           null,
           null,
           -1.074421369995759,
           null,
           null,
           null,
           null,
           null,
           3.726596643678982,
           0.1258331334229263,
           null,
           -1.074421369995759,
           2.826405766114968,
           -0.024198679504409355,
           -0.3242623053590807,
           null,
           null,
           null,
           -0.024198679504409355,
           null,
           null,
           null,
           -1.2244531829230945,
           null,
           -0.17423049243174502,
           null,
           null,
           null,
           null,
           -1.5245168087777659,
           null,
           null,
           null,
           null,
           null,
           null,
           -1.2244531829230945,
           null,
           null,
           -0.3242623053590807,
           null,
           null,
           null,
           -1.2244531829230945,
           null,
           null,
           null,
           null,
           null,
           0.4258967592775976,
           null,
           0.1258331334229263,
           null,
           null,
           -1.2244531829230945,
           null,
           null,
           null,
           -1.074421369995759,
           null,
           1.3260876368416115,
           null,
           null,
           null,
           -1.2244531829230945,
           null,
           null,
           null,
           null,
           null,
           null,
           null,
           null,
           -1.2244531829230945,
           null,
           -0.9243895570684233,
           null,
           null,
           -0.024198679504409355,
           null,
           -0.9243895570684233,
           -0.3242623053590807,
           null,
           null,
           null,
           null,
           null,
           null,
           0.8759921980596046,
           1.6261512626962829,
           null,
           null,
           null,
           0.1258331334229263,
           -0.6243259312137519,
           -0.9243895570684233,
           -0.3242623053590807,
           null,
           -0.9243895570684233,
           null,
           0.4258967592775976,
           null,
           null,
           null,
           null,
           0.7259603851322689,
           null,
           0.27586494635026193,
           null,
           null,
           null,
           -0.7743577441410876,
           -0.4742941182864163,
           null,
           null,
           null,
           null
          ],
          [
           0.8089973946320397,
           0.5686476623890726,
           0.8089973946320397,
           2.4914455203328107,
           0.8089973946320397,
           1.5620932223266708,
           0.3282979301461054,
           0.4885310849747504,
           0.8089973946320397,
           1.0974170733236006,
           1.0493471268750074,
           -0.15240153433982878,
           0.4885310849747504,
           1.2896968591179747,
           1.6101631687752638,
           0.8891139720463626,
           0.8089973946320397,
           1.0493471268750074,
           1.6101631687752638,
           0.6487642398033954,
           1.1294637042893296,
           0.18408809080032532,
           0.5045544004576146,
           0.29625129918037646,
           0.37636787659469856,
           0.5366010314233436,
           0.8891139720463626,
           0.16806477531746047,
           1.0493471268750074,
           0.5686476623890726,
           1.1294637042893296,
           0.9051372875292266,
           0.20011140628318946,
           1.0493471268750074,
           0.08794819790313833,
           0.6487642398033954,
           0.4885310849747504,
           0.2481813527317833,
           0.16806477531746047,
           1.1294637042893296,
           1.3698134365322967,
           0.2481813527317833,
           1.5300465913609418,
           0.5526243469062084,
           1.1294637042893296,
           0.8891139720463626,
           1.5300465913609418,
           1.2896968591179747,
           0.7288808172177176,
           0.9371839184949556,
           0.6808108707691244,
           0.2481813527317833,
           2.539515466781404,
           1.1294637042893296,
           0.4885310849747504,
           1.0653704423578716,
           1.4499300139466196,
           1.1294637042893296,
           1.7703963236039089,
           -0.5049144749628477,
           -0.39275126658279663,
           -0.44082121303138977,
           -0.31263468916847376,
           1.9306294784325537,
           -0.6491243143086283,
           0.20011140628318946,
           1.0974170733236006,
           -0.29661137368560964,
           0.37636787659469856,
           -0.7132175762400859,
           -1.9149662374549221,
           1.0493471268750074,
           -0.6651476297914927,
           1.6101631687752638,
           1.7383496926381798,
           -1.0977771478288334,
           -0.5529844214114412,
           -0.9215206775173244,
           -0.6331009988257638,
           0.8570673410806335,
           0.20011140628318946,
           -0.15240153433982878,
           -0.47286784399711873,
           -1.0336838858973758,
           -0.15240153433982878,
           -0.15240153433982878,
           -0.8253807846201373,
           -0.6010543678600347,
           -0.5529844214114412,
           -0.15240153433982878,
           -1.113800463311698,
           -1.3541501955546653,
           -1.466313403934717,
           0.2481813527317833,
           1.1615103352550586,
           0.3282979301461054,
           -1.113800463311698,
           0.4084145075604276,
           1.9626761093982827,
           0.8891139720463626,
           -0.10433158789123564,
           -1.3541501955546653,
           0.4244378230432924,
           0.3282979301461054,
           -0.15240153433982878,
           -0.9856139394487823,
           -1.0336838858973758,
           -1.466313403934717,
           0.10397151338600247,
           0.7128575017348534,
           1.4178833829808906,
           0.4084145075604276,
           -0.8734507310687308,
           0.29625129918037646,
           0.4244378230432924,
           0.26420466821464744,
           -0.5049144749628477,
           -0.47286784399711873,
           -1.0657305168631048,
           -0.47286784399711873,
           0.9692305494606847,
           1.4178833829808906,
           -0.15240153433982878,
           0.5205777159404794,
           0.9051372875292266,
           0.4885310849747504,
           0.7128575017348534,
           -0.2645647427198806,
           -0.12035490337409979,
           -0.31263468916847376,
           -1.2580103026574785,
           -1.5944999277976326,
           -1.8348496600406,
           -0.9535673084830533,
           -0.47286784399711873,
           -1.081753832345969,
           -1.466313403934717,
           -0.8093574691372728,
           -1.081753832345969,
           0.03987825145454448,
           -1.2099403562088848,
           -1.434266772968988,
           -1.1939170407260205,
           -0.47286784399711873,
           -1.466313403934717,
           -1.2740336181403429,
           -2.107246023249296,
           -0.9535673084830533,
           -0.5850310523771702,
           -1.4182434574861233,
           -1.434266772968988,
           -1.306080249106072,
           -0.15240153433982878,
           -0.7933341536544083,
           -1.306080249106072,
           -0.8894740465515953,
           -0.7933341536544083,
           -0.6331009988257638,
           0.8089973946320397,
           0.4885310849747504,
           0.007831620488815484,
           -0.7452642072058149,
           -1.0336838858973758,
           -1.4502900884518524,
           -1.51438335038331,
           -1.6265465587633616,
           -0.9535673084830533,
           -1.306080249106072,
           -1.1939170407260205,
           -0.5049144749628477,
           -1.674616505211955,
           -1.4502900884518524,
           -0.9856139394487823,
           -0.9856139394487823,
           -0.7933341536544083,
           -1.1298237787945624,
           -1.0336838858973758,
           -0.39275126658279663
          ],
          [
           1.0348189581307363,
           0.7336289414294697,
           1.2155329681514961,
           1.466524648735885,
           0.663351270865841,
           1.3661279765021292,
           0.49267692806845687,
           0.4826372608450811,
           0.9545016203437319,
           1.125175963141116,
           1.2958503059385003,
           0.40231992305807707,
           0.7336289414294697,
           1.6673179932033955,
           1.6171196570865178,
           0.8842239497801032,
           1.1151362959177407,
           1.3761676437255046,
           1.9082700065644087,
           1.0046999564606094,
           1.1452552975878671,
           0.382240588611326,
           0.8541049481099763,
           0.34208191971782376,
           0.5830339330788366,
           0.6533116036424657,
           0.9143429514502296,
           0.1613679096970638,
           0.9444619531203565,
           0.30192325082432153,
           1.2255726353748715,
           1.1653346320346183,
           0.663351270865841,
           0.713549606982719,
           0.5027165952918322,
           0.9545016203437319,
           0.6533116036424657,
           0.40231992305807707,
           0.6131529347489635,
           1.0147396236839852,
           1.2657313042683738,
           0.6533116036424657,
           1.5368023192995135,
           0.6031132675255877,
           0.974580954790483,
           0.6231926019723388,
           1.1452552975878671,
           1.3661279765021292,
           0.8942636170034786,
           1.5167229848527624,
           1.2456519698216226,
           0.9645412875671077,
           1.7175163293202735,
           0.7637479430995966,
           0.8741842825567274,
           0.7537082758762208,
           0.974580954790483,
           1.2054933009281206,
           1.6472386587566443,
           -1.4650581804897744,
           -0.942995484874246,
           -0.6217261337262288,
           -0.2402187792379579,
           1.0749776270242386,
           -0.2803774481314601,
           0.6231926019723388,
           1.155294964811243,
           -0.029385767547071496,
           -0.7321624731833596,
           -0.7522418076301107,
           -1.0132731554378749,
           0.8340256136632253,
           -0.19002044312108013,
           0.8641446153333521,
           0.11116957358018625,
           -0.46109145815221986,
           0.0007332341230549406,
           -0.7120831387366084,
           -0.1799807758977046,
           0.5227959297385832,
           0.23164558026069246,
           0.5027165952918322,
           -0.4510517909288443,
           -0.4410121237054688,
           0.1814472441438149,
           -0.08962377088732482,
           -0.34061545147171346,
           -0.42093278925871763,
           -0.34061545147171346,
           -0.4410121237054688,
           -0.5313691287158487,
           -0.7823608093002373,
           -0.5715277976093509,
           0.2216059130373171,
           0.23164558026069246,
           0.24168524748406822,
           -1.0433921571080016,
           0.4725975936217057,
           1.7275559965436489,
           0.9645412875671077,
           0.1412885752503127,
           -0.6719244698431063,
           0.08105057191005936,
           -0.3908137875885912,
           -0.10970310533407593,
           -0.19002044312108013,
           0.0007332341230549406,
           -0.2703377809080846,
           0.010772901346430717,
           0.8942636170034786,
           0.5529149314087102,
           0.24168524748406822,
           0.0007332341230549406,
           -0.019346100323696165,
           0.2617645819308193,
           0.1412885752503127,
           -0.4309724564820932,
           0.060971237463308264,
           -0.7823608093002373,
           -0.3908137875885912,
           0.7637479430995966,
           3.0628317372525964,
           0.10112990635681048,
           0.6231926019723388,
           1.0046999564606094,
           0.6231926019723388,
           1.125175963141116,
           0.2115662458139418,
           0.4223992575048282,
           -0.2803774481314601,
           -0.7823608093002373,
           -0.812479810970364,
           -0.942995484874246,
           -0.8325591454171151,
           -1.4550185132663989,
           -1.3747011754793943,
           -1.56545485272353,
           -1.4349391788196477,
           -1.5554151855001543,
           -1.4349391788196477,
           -1.5353358510534032,
           -1.5353358510534032,
           -1.515256516606652,
           -1.2341458343521368,
           -1.254225168798888,
           -1.4851375149365253,
           -1.6959705266274119,
           -1.38474084270277,
           -1.274304503245639,
           -0.6418054681729798,
           -0.46109145815221986,
           -0.6719244698431063,
           -0.7522418076301107,
           -1.20402683268201,
           -1.4550185132663989,
           -1.4048201771495212,
           -1.20402683268201,
           -1.4550185132663989,
           -0.722122805959984,
           -0.9329558176508704,
           -1.1136698276716304,
           -1.4750978477131498,
           -1.4349391788196477,
           -1.3345425065858922,
           -1.3546218410326432,
           -1.56545485272353,
           -1.1136698276716304,
           -1.3747011754793943,
           -1.1939871654586347,
           -1.073511158778128,
           -1.5453755182767788,
           -1.5252961838300276,
           -1.3345425065858922,
           -1.4248995115962724,
           -1.2843441704690146,
           -1.3445821738092678,
           -1.3546218410326432,
           -1.274304503245639
          ],
          [
           -0.6595631143050643,
           -0.8207192355765833,
           -0.4984069930335457,
           -0.9818753568481025,
           0.22679555268828971,
           -0.17609475049050752,
           -0.4984069930335457,
           -0.4178289323977861,
           -0.5789850536693052,
           -1.1430314781196214,
           -1.1430314781196214,
           -0.8207192355765833,
           -0.5789850536693052,
           0.5491077952313275,
           -0.5789850536693052,
           -0.4984069930335457,
           -0.25667281112626705,
           0.3073736133240493,
           -0.3372508717620266,
           -1.5459217812984185,
           -0.9818753568481025,
           -0.9012972962123429,
           -0.7401411749408239,
           -0.8207192355765833,
           -0.6595631143050643,
           0.8714200377743652,
           -0.17609475049050752,
           -0.7401411749408239,
           0.06563943141677064,
           -0.8207192355765833,
           -0.5789850536693052,
           -1.1430314781196214,
           0.4685297345955679,
           1.1131542196816437,
           -0.5789850536693052,
           -0.8207192355765833,
           -0.17609475049050752,
           -0.5789850536693052,
           -0.6595631143050643,
           -1.30418759939114,
           -0.17609475049050752,
           -0.7401411749408239,
           -1.5459217812984185,
           -0.3372508717620266,
           -0.6595631143050643,
           -0.4984069930335457,
           -0.7401411749408239,
           -1.223609538755381,
           -0.3372508717620266,
           -0.3372508717620266,
           -1.5459217812984185,
           -1.1430314781196214,
           -0.3372508717620266,
           0.22679555268828971,
           -1.223609538755381,
           -1.30418759939114,
           -0.8207192355765833,
           -0.4178289323977861,
           -1.3847656600268996,
           -0.6595631143050643,
           2.1606690079465167,
           1.3548884015889224,
           -0.3372508717620266,
           -1.3847656600268996,
           0.7102639165028465,
           0.06563943141677064,
           -0.8207192355765833,
           -0.7401411749408239,
           1.5160445228604413,
           -1.787655963205697,
           0.06563943141677064,
           -1.223609538755381,
           -0.7401411749408239,
           -1.223609538755381,
           -1.8682340238414565,
           -0.17609475049050752,
           -0.9818753568481025,
           0.5491077952313275,
           -0.09551668985474843,
           0.5491077952313275,
           -0.4984069930335457,
           -0.8207192355765833,
           0.3073736133240493,
           1.9995128866749978,
           -1.1430314781196214,
           -0.4984069930335457,
           0.5491077952313275,
           0.3073736133240493,
           0.9519980984101246,
           0.4685297345955679,
           1.2743103409531629,
           1.1131542196816437,
           1.7577787047677191,
           -0.9012972962123429,
           -1.5459217812984185,
           -0.3372508717620266,
           -1.787655963205697,
           -0.5789850536693052,
           -0.9818753568481025,
           0.7102639165028465,
           -0.8207192355765833,
           -0.5789850536693052,
           -0.17609475049050752,
           0.06563943141677064,
           -0.3372508717620266,
           2.4024031898537954,
           0.06563943141677064,
           0.9519980984101246,
           0.22679555268828971,
           -0.5789850536693052,
           -0.9818753568481025,
           -0.8207192355765833,
           1.9189348260392383,
           0.4685297345955679,
           0.5491077952313275,
           1.2743103409531629,
           -0.4984069930335457,
           -0.17609475049050752,
           0.5491077952313275,
           0.06563943141677064,
           -0.3372508717620266,
           0.8714200377743652,
           0.5491077952313275,
           -0.4984069930335457,
           -1.223609538755381,
           0.06563943141677064,
           0.22679555268828971,
           1.7577787047677191,
           0.3073736133240493,
           0.4685297345955679,
           -1.223609538755381,
           -0.9818753568481025,
           -0.7401411749408239,
           -1.5459217812984185,
           1.9189348260392383,
           2.1606690079465167,
           1.3548884015889224,
           2.1606690079465167,
           1.7577787047677191,
           1.3548884015889224,
           1.3548884015889224,
           0.06563943141677064,
           1.1131542196816437,
           0.8714200377743652,
           -0.5789850536693052,
           0.5491077952313275,
           0.3073736133240493,
           0.8714200377743652,
           0.7102639165028465,
           -0.17609475049050752,
           -1.1430314781196214,
           -0.9818753568481025,
           -0.8207192355765833,
           1.9995128866749978,
           1.3548884015889224,
           1.9995128866749978,
           0.9519980984101246,
           2.1606690079465167,
           1.3548884015889224,
           1.2743103409531629,
           1.1131542196816437,
           1.1131542196816437,
           1.9189348260392383,
           0.3073736133240493,
           0.38795167395980834,
           1.2743103409531629,
           0.5491077952313275,
           0.3073736133240493,
           0.22679555268828971,
           -0.7401411749408239,
           0.3073736133240493,
           0.9519980984101246,
           0.6296858558670869,
           1.2743103409531629,
           0.5491077952313275,
           0.5491077952313275,
           1.3548884015889224,
           1.596622583496201
          ],
          [
           1.2248839840604524,
           -0.5447209874470061,
           2.1359677317672627,
           1.0321547297378582,
           0.4014044428639123,
           0.6642170623947229,
           0.6817379036967769,
           -0.5972835113531684,
           0.6817379036967769,
           0.4539669667700745,
           1.3825715557789386,
           -0.03661658968743881,
           0.38388360156185825,
           2.1359677317672627,
           2.398780351298073,
           -0.22934584401003347,
           0.6642170623947229,
           0.2261960298433717,
           0.47148780807212853,
           0.12107098203104735,
           0.8919879993214256,
           0.6817379036967769,
           0.17363350593720953,
           -0.22934584401003347,
           0.12107098203104735,
           0.5766128558844525,
           -0.24686668531208752,
           -0.42207509833262774,
           0.29627939505158796,
           0.6817379036967769,
           1.3825715557789386,
           0.6291753797906147,
           0.6642170623947229,
           -0.42207509833262774,
           -0.08917911359360099,
           0.47148780807212853,
           -0.4045542570305737,
           -0.2643875266141416,
           -0.3870334157285196,
           0.8569463167173175,
           1.3124881905707224,
           -0.19430416140592535,
           0.19115434723926358,
           0.12107098203104735,
           0.7693421102070468,
           -0.5972835113531684,
           1.0496755710399117,
           0.9620713645296418,
           1.3825715557789386,
           0.8569463167173175,
           2.311176144787803,
           1.2248839840604524,
           0.48900864937418265,
           0.15611266463515547,
           0.05098761682283149,
           1.5052174448933173,
           0.7693421102070468,
           0.12107098203104735,
           0.7868629515091012,
           -2.0515133394236544,
           -2.0690341807257084,
           -1.7010965133825733,
           -1.5083672590599788,
           0.48900864937418265,
           -0.9827420199983573,
           0.8569463167173175,
           1.207363142758398,
           -0.9652211786963032,
           -2.0515133394236544,
           1.5928216514035873,
           -0.22934584401003347,
           0.48900864937418265,
           -0.9827420199983573,
           0.6466962210926688,
           0.10355014072899328,
           -0.772491924373709,
           -0.22934584401003347,
           -1.1229087504147899,
           2.0483635252569923,
           0.6291753797906147,
           -0.28190836791619567,
           0.313800236353642,
           -0.33447089182235784,
           0.05098761682283149,
           1.3300090318727769,
           -0.22934584401003347,
           -0.05413743098949287,
           -0.4395959396346818,
           -0.42207509833262774,
           -0.36951257442646596,
           0.08602929942693922,
           0.06850845812488517,
           0.05098761682283149,
           0.699258744998831,
           -0.42207509833262774,
           2.9594472729638026,
           -0.05413743098949287,
           0.313800236353642,
           0.6291753797906147,
           2.1359677317672627,
           -0.33447089182235784,
           -0.42207509833262774,
           -0.49215846354084397,
           -0.2994292092182497,
           -0.19430416140592535,
           -0.2994292092182497,
           0.06850845812488517,
           0.06850845812488517,
           0.8569463167173175,
           1.5753008101015336,
           3.4850725120254245,
           -0.6498460352593305,
           -0.9477003373942492,
           -0.2643875266141416,
           -0.9652211786963032,
           0.7343004276029387,
           -0.10669995489565505,
           0.03346677552077743,
           -1.3331588460394383,
           0.48900864937418265,
           0.41892528416596636,
           0.48900864937418265,
           0.20867518854131764,
           0.7343004276029387,
           2.311176144787803,
           -0.42207509833262774,
           0.313800236353642,
           0.29627939505158796,
           0.5415711732803444,
           -0.42207509833262774,
           -1.1404295917168439,
           -1.3331588460394383,
           -1.3331588460394383,
           -1.3156380047373843,
           -0.5972835113531684,
           -1.1404295917168439,
           -1.3857213699456004,
           -0.8600961308839788,
           -1.2455546395291681,
           -1.3682005286435464,
           -1.4733255764558706,
           -1.666054830778465,
           -1.8237424024969515,
           -1.0002628613004114,
           -0.7900127656757631,
           -0.509679304842898,
           -1.5959714655702488,
           -1.2805963221332761,
           -0.5972835113531684,
           -0.7900127656757631,
           -0.5972835113531684,
           -0.5797626700511143,
           -0.05413743098949287,
           0.48900864937418265,
           -0.33447089182235784,
           -0.07165827229154693,
           -0.05413743098949287,
           -0.7900127656757631,
           1.9432384774446685,
           1.2248839840604524,
           -0.9652211786963032,
           -1.3857213699456004,
           -1.1053879091127357,
           -1.1404295917168439,
           -0.9827420199983573,
           -0.772491924373709,
           -0.22934584401003347,
           -1.0878670678106817,
           -0.08917911359360099,
           -0.8425752895819248,
           -1.5083672590599788,
           -1.666054830778465,
           -0.6148043526552224,
           -0.9301794960921951,
           -0.3169500505203038,
           -0.42207509833262774,
           -0.22934584401003347,
           -0.42207509833262774
          ],
          [
           0.2517168498188536,
           -0.2933213287130475,
           0.2690196491373267,
           1.1860680130163985,
           -0.3192755276907569,
           0.731869530906481,
           0.08301455646374147,
           -0.003499440128623882,
           0.06138605731565023,
           0.9351774228985393,
           0.29929954794465463,
           -0.02512793927671512,
           0.23441405050038053,
           0.14790005390801558,
           1.0562970181278508,
           0.9697830215354855,
           0.4939560402774766,
           0.6669840334622069,
           1.575380997682042,
           0.01812905901946736,
           0.2560425496484722,
           -0.2414129307576283,
           -0.5442119188309068,
           -0.4879778210458693,
           -0.6653315140602182,
           -0.6393773150825085,
           -0.11164193586908047,
           -0.47932642138663273,
           -0.2414129307576283,
           -0.15489893416526296,
           0.2776710487965634,
           0.7967550283507551,
           -0.5269091195124338,
           0.14790005390801558,
           -0.37118392564617614,
           0.01812905901946736,
           -0.19815593246144583,
           -0.3495554264980849,
           -0.5874689171270893,
           0.01812905901946736,
           0.46367614147014863,
           -0.33657832700923,
           0.1608771533968701,
           -0.30197272837228384,
           -0.007825139958242053,
           0.0786888566341233,
           -0.06838493757289761,
           0.45069904198129374,
           0.4939560402774766,
           1.661894994274408,
           0.926526023239303,
           0.23441405050038053,
           0.8616405257950288,
           0.5372130385736591,
           0.34255654624083715,
           0.5155845394255678,
           0.5718186372106052,
           0.4074420436851112,
           0.7534980300545723,
           -1.3444663873102856,
           -0.7734740098006747,
           0.29929954794465463,
           -0.5442119188309068,
           -0.26304142990571955,
           -0.9118964043484591,
           -0.19815593246144583,
           0.10464305561183271,
           -0.16355033382449968,
           -0.8167310080968574,
           -0.9551534026446418,
           -0.8686394060522766,
           -0.7258913116748739,
           -0.5701661178086163,
           -0.7388684111637286,
           -0.7994282087783843,
           -0.5442119188309068,
           -0.19815593246144583,
           -1.0416673992370071,
           -0.7172399120156373,
           -1.0762729978739531,
           -1.106552896681281,
           -0.5009549205347241,
           -1.236323891569829,
           -0.11164193586908047,
           -0.8686394060522766,
           -1.0546444987258619,
           -1.1281813958293723,
           -1.0632958983850984,
           -0.9767819017927332,
           -1.4353060837322689,
           -1.1498098949774638,
           -0.6307259154232719,
           -0.8686394060522766,
           -1.2579523907179202,
           -0.7821254094599113,
           -1.0632958983850984,
           -1.106552896681281,
           -0.9335249034965505,
           -0.2414129307576283,
           -1.1930668932736463,
           -0.76049691031182,
           -1.1281813958293723,
           -0.9767819017927332,
           -1.2968836891844846,
           -0.9162221041780775,
           -1.0200389000889156,
           -0.7172399120156373,
           -0.76049691031182,
           -1.0200389000889156,
           -1.0416673992370071,
           -0.9335249034965505,
           -1.3228378881621943,
           -0.5442119188309068,
           -0.8556623065634217,
           -0.9335249034965505,
           -1.3660948864583768,
           -1.3444663873102856,
           -1.2968836891844846,
           -0.7172399120156373,
           -1.634288275894709,
           -0.7821254094599113,
           0.4074420436851112,
           -1.288232289525248,
           -1.0632958983850984,
           -0.9767819017927332,
           -0.9940847011112063,
           -0.48365212121625106,
           -0.8902679052003678,
           -1.270929490206775,
           -1.0632958983850984,
           -0.414440923942359,
           0.14790005390801558,
           0.2776710487965634,
           -0.02512793927671512,
           0.1695285530561068,
           0.8832690249431201,
           -0.5225834196828154,
           -0.02512793927671512,
           0.2776710487965634,
           -0.05973353791366126,
           -0.19815593246144583,
           0.23441405050038053,
           -0.3062984282019024,
           -0.2846699290538108,
           1.3634217060307479,
           -0.4576979222385415,
           -0.06838493757289761,
           1.121182515572125,
           1.454261402452731,
           1.878179985755321,
           1.5321239993858595,
           2.483777961901878,
           0.8832690249431201,
           2.3626583666725662,
           1.0995540164240332,
           1.2293250113125815,
           1.7094776924002084,
           1.0562970181278508,
           3.435431924417896,
           2.8947194457156127,
           1.121182515572125,
           0.35553364572969204,
           0.2257626508411442,
           0.09599165595259637,
           1.9560425826884495,
           0.6756354331214436,
           2.4318695639464587,
           2.2501901711024916,
           1.5580781983635694,
           1.4888670010896772,
           0.19115705220419807,
           2.0944645446662506,
           2.0079509806438685,
           1.1428110147202162,
           0.9697830215354855,
           2.2242359721247817,
           1.8349229874591386,
           1.7916659891629554
          ],
          [
           null,
           -1.169532610646746,
           null,
           null,
           null,
           -1.169532610646746,
           null,
           -1.0836129999961626,
           -0.9117737786949958,
           null,
           0.5488596023649213,
           -0.13849728283974644,
           -0.31033650414091335,
           0.5488596023649213,
           0.11926154911200394,
           0.8066184343166717,
           -0.9976933893455792,
           -0.4821757254420803,
           0.37702038106375435,
           null,
           -0.8258541680444123,
           null,
           -0.6540149467432453,
           -0.8258541680444123,
           -0.5680953360926618,
           -0.4821757254420803,
           null,
           null,
           0.5488596023649213,
           null,
           0.03334193846142048,
           -0.8258541680444123,
           0.37702038106375435,
           0.5488596023649213,
           -0.7399345573938287,
           null,
           -0.8258541680444123,
           -0.5680953360926618,
           -0.05257767218916299,
           null,
           null,
           null,
           null,
           null,
           null,
           null,
           null,
           null,
           -0.9976933893455792,
           -0.5680953360926618,
           -0.5680953360926618,
           0.4629399917143378,
           null,
           -0.4821757254420803,
           null,
           null,
           null,
           -0.9976933893455792,
           null,
           -1.169532610646746,
           0.5488596023649213,
           null,
           0.37702038106375435,
           0.2911007704131709,
           2.267251815376589,
           0.03334193846142048,
           -0.5680953360926618,
           -0.5680953360926618,
           null,
           0.8066184343166717,
           null,
           1.4939753195213394,
           null,
           1.064377266268422,
           null,
           0.37702038106375435,
           0.03334193846142048,
           null,
           -1.0836129999961626,
           0.03334193846142048,
           1.6658145408225045,
           -0.22441689349032992,
           1.064377266268422,
           null,
           null,
           0.37702038106375435,
           1.236216487569589,
           1.4939753195213394,
           null,
           -0.9976933893455792,
           -0.9117737786949958,
           -1.169532610646746,
           null,
           -0.31033650414091335,
           -0.22441689349032992,
           -0.22441689349032992,
           null,
           0.37702038106375435,
           null,
           2.0094929834248383,
           0.7206988236660882,
           null,
           null,
           null,
           null,
           null,
           null,
           null,
           null,
           null,
           null,
           null,
           0.37702038106375435,
           -0.7399345573938287,
           null,
           4.501161692291757,
           null,
           -1.0836129999961626,
           null,
           null,
           null,
           null,
           null,
           null,
           null,
           null,
           null,
           null,
           null,
           null,
           null,
           null,
           null,
           null,
           null,
           null,
           null,
           null,
           null,
           null,
           null,
           null,
           null,
           null,
           null,
           null,
           null,
           null,
           null,
           null,
           null,
           null,
           null,
           null,
           null,
           null,
           null,
           null,
           null,
           null,
           null,
           null,
           null,
           null,
           null,
           null,
           null,
           null,
           null,
           null,
           null,
           null,
           null,
           null,
           null,
           null,
           null,
           null
          ],
          [
           1.8479195665066517,
           1.1134493025258219,
           0.7885874549958394,
           1.1840714432932098,
           0.44960117931237975,
           0.33660575408455967,
           1.367689009288417,
           1.367689009288417,
           0.33660575408455967,
           1.325315724827984,
           0.7885874549958394,
           0.29423246962412686,
           0.40722789485194694,
           0.16711261624282955,
           0.5484721763867221,
           0.37897903854499193,
           0.054117191015009475,
           -0.05887823421281061,
           0.29423246962412686,
           1.0569515899119117,
           1.5513065752836244,
           1.282942440367552,
           1.960914991734472,
           1.4383111500558043,
           1.7066752849718767,
           0.8309607394562722,
           0.8592095957632273,
           0.2236103288567396,
           1.1134493025258219,
           1.3818134374418942,
           0.13886375993587455,
           0.37897903854499193,
           0.36485461039151473,
           0.5484721763867221,
           0.36485461039151473,
           1.2123202996001647,
           0.2377347570102168,
           -0.14362480313367568,
           0.11061490362891951,
           1.2970668685210291,
           1.085200446218867,
           0.5484721763867221,
           1.339440152981462,
           0.5484721763867221,
           1.0428271617584346,
           1.0145783054514796,
           1.169947015139732,
           1.0145783054514796,
           0.1953614725497846,
           0.6897164579214972,
           0.42135232300542474,
           1.0710760180653895,
           0.9157073083771367,
           0.44960117931237975,
           0.8309607394562722,
           0.5908454608471543,
           0.9863294491445246,
           0.32248132593108186,
           0.36485461039151473,
           -1.1182103457236228,
           -1.3300767680257852,
           -1.443072193253605,
           -0.21424694390106291,
           0.36485461039151473,
           -0.5391087914310454,
           -0.44023779435670307,
           0.8027118831493172,
           1.2264447277536419,
           -0.9628416360353703,
           0.6473431734610643,
           -1.1182103457236228,
           0.7744630268423622,
           0.2377347570102168,
           1.254693584060597,
           0.7320897423819294,
           -0.6662286448123427,
           -0.18599808759410788,
           -0.12950037498019784,
           -0.42611336620322526,
           0.7320897423819294,
           0.7179653142284521,
           0.7462141705354072,
           0.15298818808935236,
           -0.8498462108075506,
           0.6614676016145421,
           0.7744630268423622,
           -0.49673550697061314,
           0.8450851676097495,
           0.1953614725497846,
           0.8450851676097495,
           -0.48261107881713533,
           0.054117191015009475,
           -0.7792240700401627,
           0.9722050209910468,
           0.491974463772812,
           0.025868334708054455,
           -0.49673550697061314,
           0.1812370443963074,
           0.2236103288567396,
           0.30835689777760467,
           0.491974463772812,
           0.2236103288567396,
           1.085200446218867,
           -0.24249580020801795,
           1.3535645811349393,
           0.9722050209910468,
           0.7885874549958394,
           -0.270744656514973,
           0.576721032693677,
           0.9157073083771367,
           0.28010804147064966,
           0.2377347570102168,
           -0.15774923128715287,
           -0.42611336620322526,
           0.8168363113027944,
           0.36485461039151473,
           1.0145783054514796,
           0.491974463772812,
           -0.6944775011192976,
           0.6190943171541092,
           1.0993248743723447,
           1.5230577189766694,
           0.7179653142284521,
           0.6897164579214972,
           1.4524355782092822,
           0.9439561646840917,
           0.32248132593108186,
           -0.24249580020801795,
           0.2377347570102168,
           -0.05887823421281061,
           -1.8668050378579302,
           -1.6831874718627227,
           -1.7679340407835875,
           -1.8668050378579302,
           -1.5560676184814253,
           -1.4571966214070826,
           -1.8950538941648851,
           -1.3018279117188303,
           -1.1182103457236228,
           -0.6521042166588654,
           -0.42611336620322526,
           -0.20012251574758508,
           -0.7792240700401627,
           -0.7933484981936405,
           -0.8639706389610278,
           -1.3159523398723079,
           -1.81030732524402,
           -1.0617126331097126,
           -1.4006989087931725,
           -1.81030732524402,
           -1.8526806097044526,
           -1.6125653310953352,
           -1.81030732524402,
           -1.5560676184814253,
           -1.4995699058675152,
           -1.5984409029418578,
           -1.3724500524862178,
           -1.2453301991049202,
           -0.9204683515749378,
           -1.1747080583375327,
           -1.4571966214070826,
           -1.1182103457236228,
           -0.7086019292727754,
           -1.2170813427979652,
           -1.3159523398723079,
           -1.2170813427979652,
           -1.4854454777140376,
           -1.2170813427979652,
           -1.1464592020305777,
           -0.9769660641888479,
           -1.1040859175701452,
           -1.3865744806396954,
           -1.2735790554118753,
           -1.2312057709514428,
           -1.4854454777140376,
           -1.4854454777140376,
           -1.4006989087931725,
           -1.4289477651001277
          ],
          [
           1.0130089267476907,
           0.9652415206686003,
           1.3951481753804136,
           2.3345738282691912,
           -0.03787400699229761,
           2.2390390161110103,
           1.7295200179340462,
           1.7454424866270764,
           0.9493190519755701,
           0.9493190519755701,
           2.4301086404273717,
           1.697675080547986,
           1.825054830092227,
           1.2836908945292027,
           2.5479349087557948,
           1.7932098927061668,
           1.697675080547986,
           1.2200010197570823,
           2.971472575990396,
           0.3124203042543651,
           0.10542821124497352,
           0.07358327385891326,
           0.9174741145895099,
           0.8537842398173894,
           0.3124203042543651,
           0.26465289817527476,
           1.426993112766474,
           1.713597549241016,
           0.5353348659567869,
           0.9174741145895099,
           1.713597549241016,
           2.446031109120402,
           0.7741718963522388,
           1.554372862310715,
           1.1085437389058714,
           0.551257334649817,
           0.423877585105576,
           1.1403886762919317,
           0.8697067085104195,
           0.041738336472853015,
           0.1531956173240639,
           0.9174741145895099,
           1.1085437389058714,
           -0.21302116261562898,
           0.43980005379860615,
           1.060776332826781,
           1.0130089267476907,
           0.7582494276592087,
           0.9970864580546606,
           1.6339852057758655,
           1.2836908945292027,
           1.6499076744688956,
           1.4110706440734437,
           2.000201985715558,
           0.9970864580546606,
           1.188156082371022,
           0.7104820215801183,
           1.6658301431619258,
           1.713597549241016,
           -0.722540160792593,
           -0.21302116261562898,
           -0.9454547224950147,
           -0.37224584954593026,
           -1.0409895346531954,
           -1.247981627662587,
           -0.21939015009284105,
           -0.7798610480875015,
           -0.7543850981786533,
           0.009893399086792766,
           -0.09201040054860003,
           0.3920326477195158,
           -1.0728344720392557,
           -0.8753958602456822,
           0.7582494276592087,
           0.44298454753721217,
           -1.0155135847443473,
           -1.1301553593341642,
           -0.7862300355647135,
           0.009893399086792766,
           -0.9040563038931364,
           -1.493187645535251,
           -0.10474837550302414,
           -0.37224584954593026,
           -0.7384626294856231,
           -0.722540160792593,
           -0.9454547224950147,
           -0.8021525042577436,
           -0.5887914237711399,
           -0.21302116261562898,
           -0.38816831823896036,
           -0.849919910336834,
           -0.9454547224950147,
           -0.8021525042577436,
           -1.4549737206719788,
           -1.2798265650486473,
           0.6053937282061195,
           -0.38816831823896036,
           -1.0155135847443473,
           -0.2767110373877495,
           -1.0855724469936798,
           -0.11748635045744824,
           -0.5887914237711399,
           -0.9836686473582871,
           -1.0569120033462256,
           -0.2384971125244772,
           -1.375361377206828,
           -0.7543850981786533,
           -0.8244439604279857,
           -1.3849148584226463,
           -0.21302116261562898,
           -0.5887914237711399,
           -1.343516439820768,
           -0.44548920553386884,
           -0.9964066223127112,
           -1.1524468155044063,
           -1.0823879532550738,
           -0.8021525042577436,
           -1.2798265650486473,
           -1.1938452341062846,
           -0.5824224362939279,
           -0.38816831823896036,
           -0.8976873164159244,
           -1.216136690276527,
           -1.1683692841974365,
           -1.1683692841974365,
           -1.1747382716746486,
           -1.2575351088784053,
           -0.8945028226773183,
           -1.2893800462644653,
           -0.5314705364762314,
           -0.37224584954593026,
           -0.6906952234065328,
           -0.595160411248352,
           -0.467780661704111,
           -0.30855597477380975,
           -0.16525375653653862,
           -0.08564141307138798,
           -0.7384626294856231,
           -0.5314705364762314,
           -0.49962559909017124,
           -0.467780661704111,
           0.10542821124497352,
           -0.722540160792593,
           -0.6270053486344123,
           0.3442652416404254,
           0.26465289817527476,
           -1.0569120033462256,
           -0.38816831823896036,
           -0.30855597477380975,
           -0.6270053486344123,
           -0.7862300355647135,
           -0.849919910336834,
           -1.0250670659601653,
           -0.2289436313086591,
           -0.34040091215987,
           -0.06971894437835786,
           -0.849919910336834,
           0.423877585105576,
           -0.2767110373877495,
           -0.40409078693199046,
           -0.722540160792593,
           -0.21302116261562898,
           -0.5633154738622917,
           -0.2289436313086591,
           -0.4200132556250206,
           -0.722540160792593,
           -0.16525375653653862,
           -0.19709869392259885,
           0.009893399086792766,
           -0.37224584954593026,
           -0.7543850981786533,
           -0.8817648477228942,
           -0.2767110373877495,
           -0.021951538299267485,
           0.009893399086792766,
           0.28057536686830487,
           0.296497835561335,
           -0.595160411248352
          ],
          [
           -1.213943648188639,
           -1.213943648188639,
           -1.213943648188639,
           -1.213943648188639,
           -1.213943648188639,
           -1.213943648188639,
           -1.213943648188639,
           -1.213943648188639,
           -1.213943648188639,
           -1.213943648188639,
           -1.213943648188639,
           -1.213943648188639,
           -1.213943648188639,
           -1.213943648188639,
           -1.213943648188639,
           -1.213943648188639,
           -1.213943648188639,
           -1.213943648188639,
           -1.213943648188639,
           -1.213943648188639,
           -1.213943648188639,
           -1.213943648188639,
           -1.213943648188639,
           -1.213943648188639,
           -1.213943648188639,
           -1.213943648188639,
           -1.213943648188639,
           -1.213943648188639,
           -1.213943648188639,
           -1.213943648188639,
           -1.213943648188639,
           -1.213943648188639,
           -1.213943648188639,
           -1.213943648188639,
           -1.213943648188639,
           -1.213943648188639,
           -1.213943648188639,
           -1.213943648188639,
           -1.213943648188639,
           -1.213943648188639,
           -1.213943648188639,
           -1.213943648188639,
           -1.213943648188639,
           -1.213943648188639,
           -1.213943648188639,
           -1.213943648188639,
           -1.213943648188639,
           -1.213943648188639,
           -1.213943648188639,
           -1.213943648188639,
           -1.213943648188639,
           -1.213943648188639,
           -1.213943648188639,
           -1.213943648188639,
           -1.213943648188639,
           -1.213943648188639,
           -1.213943648188639,
           -1.213943648188639,
           -1.213943648188639,
           0.07996036006032957,
           0.07996036006032957,
           0.07996036006032957,
           0.07996036006032957,
           0.07996036006032957,
           0.07996036006032957,
           0.07996036006032957,
           0.07996036006032957,
           0.07996036006032957,
           0.07996036006032957,
           0.07996036006032957,
           0.07996036006032957,
           0.07996036006032957,
           0.07996036006032957,
           0.07996036006032957,
           0.07996036006032957,
           0.07996036006032957,
           0.07996036006032957,
           0.07996036006032957,
           0.07996036006032957,
           0.07996036006032957,
           0.07996036006032957,
           0.07996036006032957,
           0.07996036006032957,
           0.07996036006032957,
           0.07996036006032957,
           0.07996036006032957,
           0.07996036006032957,
           0.07996036006032957,
           0.07996036006032957,
           0.07996036006032957,
           0.07996036006032957,
           0.07996036006032957,
           0.07996036006032957,
           0.07996036006032957,
           0.07996036006032957,
           0.07996036006032957,
           0.07996036006032957,
           0.07996036006032957,
           0.07996036006032957,
           0.07996036006032957,
           0.07996036006032957,
           0.07996036006032957,
           0.07996036006032957,
           0.07996036006032957,
           0.07996036006032957,
           0.07996036006032957,
           0.07996036006032957,
           0.07996036006032957,
           0.07996036006032957,
           0.07996036006032957,
           0.07996036006032957,
           0.07996036006032957,
           0.07996036006032957,
           0.07996036006032957,
           0.07996036006032957,
           0.07996036006032957,
           0.07996036006032957,
           0.07996036006032957,
           0.07996036006032957,
           0.07996036006032957,
           0.07996036006032957,
           0.07996036006032957,
           0.07996036006032957,
           0.07996036006032957,
           0.07996036006032957,
           0.07996036006032957,
           0.07996036006032957,
           0.07996036006032957,
           0.07996036006032957,
           0.07996036006032957,
           1.3738643683092981,
           1.3738643683092981,
           1.3738643683092981,
           1.3738643683092981,
           1.3738643683092981,
           1.3738643683092981,
           1.3738643683092981,
           1.3738643683092981,
           1.3738643683092981,
           1.3738643683092981,
           1.3738643683092981,
           1.3738643683092981,
           1.3738643683092981,
           1.3738643683092981,
           1.3738643683092981,
           1.3738643683092981,
           1.3738643683092981,
           1.3738643683092981,
           1.3738643683092981,
           1.3738643683092981,
           1.3738643683092981,
           1.3738643683092981,
           1.3738643683092981,
           1.3738643683092981,
           1.3738643683092981,
           1.3738643683092981,
           1.3738643683092981,
           1.3738643683092981,
           1.3738643683092981,
           1.3738643683092981,
           1.3738643683092981,
           1.3738643683092981,
           1.3738643683092981,
           1.3738643683092981,
           1.3738643683092981,
           1.3738643683092981,
           1.3738643683092981,
           1.3738643683092981,
           1.3738643683092981,
           1.3738643683092981,
           1.3738643683092981,
           1.3738643683092981,
           1.3738643683092981,
           1.3738643683092981,
           1.3738643683092981,
           1.3738643683092981,
           1.3738643683092981,
           1.3738643683092981
          ]
         ],
         "zmax": 3,
         "zmin": -3
        }
       ],
       "layout": {
        "autosize": false,
        "height": 750,
        "paper_bgcolor": "rgb(0,0,0,0)",
        "plot_bgcolor": "rgb(0,0,0,0)",
        "template": {
         "data": {
          "bar": [
           {
            "error_x": {
             "color": "#2a3f5f"
            },
            "error_y": {
             "color": "#2a3f5f"
            },
            "marker": {
             "line": {
              "color": "#E5ECF6",
              "width": 0.5
             }
            },
            "type": "bar"
           }
          ],
          "barpolar": [
           {
            "marker": {
             "line": {
              "color": "#E5ECF6",
              "width": 0.5
             }
            },
            "type": "barpolar"
           }
          ],
          "carpet": [
           {
            "aaxis": {
             "endlinecolor": "#2a3f5f",
             "gridcolor": "white",
             "linecolor": "white",
             "minorgridcolor": "white",
             "startlinecolor": "#2a3f5f"
            },
            "baxis": {
             "endlinecolor": "#2a3f5f",
             "gridcolor": "white",
             "linecolor": "white",
             "minorgridcolor": "white",
             "startlinecolor": "#2a3f5f"
            },
            "type": "carpet"
           }
          ],
          "choropleth": [
           {
            "colorbar": {
             "outlinewidth": 0,
             "ticks": ""
            },
            "type": "choropleth"
           }
          ],
          "contour": [
           {
            "colorbar": {
             "outlinewidth": 0,
             "ticks": ""
            },
            "colorscale": [
             [
              0.0,
              "#0d0887"
             ],
             [
              0.1111111111111111,
              "#46039f"
             ],
             [
              0.2222222222222222,
              "#7201a8"
             ],
             [
              0.3333333333333333,
              "#9c179e"
             ],
             [
              0.4444444444444444,
              "#bd3786"
             ],
             [
              0.5555555555555556,
              "#d8576b"
             ],
             [
              0.6666666666666666,
              "#ed7953"
             ],
             [
              0.7777777777777778,
              "#fb9f3a"
             ],
             [
              0.8888888888888888,
              "#fdca26"
             ],
             [
              1.0,
              "#f0f921"
             ]
            ],
            "type": "contour"
           }
          ],
          "contourcarpet": [
           {
            "colorbar": {
             "outlinewidth": 0,
             "ticks": ""
            },
            "type": "contourcarpet"
           }
          ],
          "heatmap": [
           {
            "colorbar": {
             "outlinewidth": 0,
             "ticks": ""
            },
            "colorscale": [
             [
              0.0,
              "#0d0887"
             ],
             [
              0.1111111111111111,
              "#46039f"
             ],
             [
              0.2222222222222222,
              "#7201a8"
             ],
             [
              0.3333333333333333,
              "#9c179e"
             ],
             [
              0.4444444444444444,
              "#bd3786"
             ],
             [
              0.5555555555555556,
              "#d8576b"
             ],
             [
              0.6666666666666666,
              "#ed7953"
             ],
             [
              0.7777777777777778,
              "#fb9f3a"
             ],
             [
              0.8888888888888888,
              "#fdca26"
             ],
             [
              1.0,
              "#f0f921"
             ]
            ],
            "type": "heatmap"
           }
          ],
          "heatmapgl": [
           {
            "colorbar": {
             "outlinewidth": 0,
             "ticks": ""
            },
            "colorscale": [
             [
              0.0,
              "#0d0887"
             ],
             [
              0.1111111111111111,
              "#46039f"
             ],
             [
              0.2222222222222222,
              "#7201a8"
             ],
             [
              0.3333333333333333,
              "#9c179e"
             ],
             [
              0.4444444444444444,
              "#bd3786"
             ],
             [
              0.5555555555555556,
              "#d8576b"
             ],
             [
              0.6666666666666666,
              "#ed7953"
             ],
             [
              0.7777777777777778,
              "#fb9f3a"
             ],
             [
              0.8888888888888888,
              "#fdca26"
             ],
             [
              1.0,
              "#f0f921"
             ]
            ],
            "type": "heatmapgl"
           }
          ],
          "histogram": [
           {
            "marker": {
             "colorbar": {
              "outlinewidth": 0,
              "ticks": ""
             }
            },
            "type": "histogram"
           }
          ],
          "histogram2d": [
           {
            "colorbar": {
             "outlinewidth": 0,
             "ticks": ""
            },
            "colorscale": [
             [
              0.0,
              "#0d0887"
             ],
             [
              0.1111111111111111,
              "#46039f"
             ],
             [
              0.2222222222222222,
              "#7201a8"
             ],
             [
              0.3333333333333333,
              "#9c179e"
             ],
             [
              0.4444444444444444,
              "#bd3786"
             ],
             [
              0.5555555555555556,
              "#d8576b"
             ],
             [
              0.6666666666666666,
              "#ed7953"
             ],
             [
              0.7777777777777778,
              "#fb9f3a"
             ],
             [
              0.8888888888888888,
              "#fdca26"
             ],
             [
              1.0,
              "#f0f921"
             ]
            ],
            "type": "histogram2d"
           }
          ],
          "histogram2dcontour": [
           {
            "colorbar": {
             "outlinewidth": 0,
             "ticks": ""
            },
            "colorscale": [
             [
              0.0,
              "#0d0887"
             ],
             [
              0.1111111111111111,
              "#46039f"
             ],
             [
              0.2222222222222222,
              "#7201a8"
             ],
             [
              0.3333333333333333,
              "#9c179e"
             ],
             [
              0.4444444444444444,
              "#bd3786"
             ],
             [
              0.5555555555555556,
              "#d8576b"
             ],
             [
              0.6666666666666666,
              "#ed7953"
             ],
             [
              0.7777777777777778,
              "#fb9f3a"
             ],
             [
              0.8888888888888888,
              "#fdca26"
             ],
             [
              1.0,
              "#f0f921"
             ]
            ],
            "type": "histogram2dcontour"
           }
          ],
          "mesh3d": [
           {
            "colorbar": {
             "outlinewidth": 0,
             "ticks": ""
            },
            "type": "mesh3d"
           }
          ],
          "parcoords": [
           {
            "line": {
             "colorbar": {
              "outlinewidth": 0,
              "ticks": ""
             }
            },
            "type": "parcoords"
           }
          ],
          "pie": [
           {
            "automargin": true,
            "type": "pie"
           }
          ],
          "scatter": [
           {
            "marker": {
             "colorbar": {
              "outlinewidth": 0,
              "ticks": ""
             }
            },
            "type": "scatter"
           }
          ],
          "scatter3d": [
           {
            "line": {
             "colorbar": {
              "outlinewidth": 0,
              "ticks": ""
             }
            },
            "marker": {
             "colorbar": {
              "outlinewidth": 0,
              "ticks": ""
             }
            },
            "type": "scatter3d"
           }
          ],
          "scattercarpet": [
           {
            "marker": {
             "colorbar": {
              "outlinewidth": 0,
              "ticks": ""
             }
            },
            "type": "scattercarpet"
           }
          ],
          "scattergeo": [
           {
            "marker": {
             "colorbar": {
              "outlinewidth": 0,
              "ticks": ""
             }
            },
            "type": "scattergeo"
           }
          ],
          "scattergl": [
           {
            "marker": {
             "colorbar": {
              "outlinewidth": 0,
              "ticks": ""
             }
            },
            "type": "scattergl"
           }
          ],
          "scattermapbox": [
           {
            "marker": {
             "colorbar": {
              "outlinewidth": 0,
              "ticks": ""
             }
            },
            "type": "scattermapbox"
           }
          ],
          "scatterpolar": [
           {
            "marker": {
             "colorbar": {
              "outlinewidth": 0,
              "ticks": ""
             }
            },
            "type": "scatterpolar"
           }
          ],
          "scatterpolargl": [
           {
            "marker": {
             "colorbar": {
              "outlinewidth": 0,
              "ticks": ""
             }
            },
            "type": "scatterpolargl"
           }
          ],
          "scatterternary": [
           {
            "marker": {
             "colorbar": {
              "outlinewidth": 0,
              "ticks": ""
             }
            },
            "type": "scatterternary"
           }
          ],
          "surface": [
           {
            "colorbar": {
             "outlinewidth": 0,
             "ticks": ""
            },
            "colorscale": [
             [
              0.0,
              "#0d0887"
             ],
             [
              0.1111111111111111,
              "#46039f"
             ],
             [
              0.2222222222222222,
              "#7201a8"
             ],
             [
              0.3333333333333333,
              "#9c179e"
             ],
             [
              0.4444444444444444,
              "#bd3786"
             ],
             [
              0.5555555555555556,
              "#d8576b"
             ],
             [
              0.6666666666666666,
              "#ed7953"
             ],
             [
              0.7777777777777778,
              "#fb9f3a"
             ],
             [
              0.8888888888888888,
              "#fdca26"
             ],
             [
              1.0,
              "#f0f921"
             ]
            ],
            "type": "surface"
           }
          ],
          "table": [
           {
            "cells": {
             "fill": {
              "color": "#EBF0F8"
             },
             "line": {
              "color": "white"
             }
            },
            "header": {
             "fill": {
              "color": "#C8D4E3"
             },
             "line": {
              "color": "white"
             }
            },
            "type": "table"
           }
          ]
         },
         "layout": {
          "annotationdefaults": {
           "arrowcolor": "#2a3f5f",
           "arrowhead": 0,
           "arrowwidth": 1
          },
          "coloraxis": {
           "colorbar": {
            "outlinewidth": 0,
            "ticks": ""
           }
          },
          "colorscale": {
           "diverging": [
            [
             0,
             "#8e0152"
            ],
            [
             0.1,
             "#c51b7d"
            ],
            [
             0.2,
             "#de77ae"
            ],
            [
             0.3,
             "#f1b6da"
            ],
            [
             0.4,
             "#fde0ef"
            ],
            [
             0.5,
             "#f7f7f7"
            ],
            [
             0.6,
             "#e6f5d0"
            ],
            [
             0.7,
             "#b8e186"
            ],
            [
             0.8,
             "#7fbc41"
            ],
            [
             0.9,
             "#4d9221"
            ],
            [
             1,
             "#276419"
            ]
           ],
           "sequential": [
            [
             0.0,
             "#0d0887"
            ],
            [
             0.1111111111111111,
             "#46039f"
            ],
            [
             0.2222222222222222,
             "#7201a8"
            ],
            [
             0.3333333333333333,
             "#9c179e"
            ],
            [
             0.4444444444444444,
             "#bd3786"
            ],
            [
             0.5555555555555556,
             "#d8576b"
            ],
            [
             0.6666666666666666,
             "#ed7953"
            ],
            [
             0.7777777777777778,
             "#fb9f3a"
            ],
            [
             0.8888888888888888,
             "#fdca26"
            ],
            [
             1.0,
             "#f0f921"
            ]
           ],
           "sequentialminus": [
            [
             0.0,
             "#0d0887"
            ],
            [
             0.1111111111111111,
             "#46039f"
            ],
            [
             0.2222222222222222,
             "#7201a8"
            ],
            [
             0.3333333333333333,
             "#9c179e"
            ],
            [
             0.4444444444444444,
             "#bd3786"
            ],
            [
             0.5555555555555556,
             "#d8576b"
            ],
            [
             0.6666666666666666,
             "#ed7953"
            ],
            [
             0.7777777777777778,
             "#fb9f3a"
            ],
            [
             0.8888888888888888,
             "#fdca26"
            ],
            [
             1.0,
             "#f0f921"
            ]
           ]
          },
          "colorway": [
           "#636efa",
           "#EF553B",
           "#00cc96",
           "#ab63fa",
           "#FFA15A",
           "#19d3f3",
           "#FF6692",
           "#B6E880",
           "#FF97FF",
           "#FECB52"
          ],
          "font": {
           "color": "#2a3f5f"
          },
          "geo": {
           "bgcolor": "white",
           "lakecolor": "white",
           "landcolor": "#E5ECF6",
           "showlakes": true,
           "showland": true,
           "subunitcolor": "white"
          },
          "hoverlabel": {
           "align": "left"
          },
          "hovermode": "closest",
          "mapbox": {
           "style": "light"
          },
          "paper_bgcolor": "white",
          "plot_bgcolor": "#E5ECF6",
          "polar": {
           "angularaxis": {
            "gridcolor": "white",
            "linecolor": "white",
            "ticks": ""
           },
           "bgcolor": "#E5ECF6",
           "radialaxis": {
            "gridcolor": "white",
            "linecolor": "white",
            "ticks": ""
           }
          },
          "scene": {
           "xaxis": {
            "backgroundcolor": "#E5ECF6",
            "gridcolor": "white",
            "gridwidth": 2,
            "linecolor": "white",
            "showbackground": true,
            "ticks": "",
            "zerolinecolor": "white"
           },
           "yaxis": {
            "backgroundcolor": "#E5ECF6",
            "gridcolor": "white",
            "gridwidth": 2,
            "linecolor": "white",
            "showbackground": true,
            "ticks": "",
            "zerolinecolor": "white"
           },
           "zaxis": {
            "backgroundcolor": "#E5ECF6",
            "gridcolor": "white",
            "gridwidth": 2,
            "linecolor": "white",
            "showbackground": true,
            "ticks": "",
            "zerolinecolor": "white"
           }
          },
          "shapedefaults": {
           "line": {
            "color": "#2a3f5f"
           }
          },
          "ternary": {
           "aaxis": {
            "gridcolor": "white",
            "linecolor": "white",
            "ticks": ""
           },
           "baxis": {
            "gridcolor": "white",
            "linecolor": "white",
            "ticks": ""
           },
           "bgcolor": "#E5ECF6",
           "caxis": {
            "gridcolor": "white",
            "linecolor": "white",
            "ticks": ""
           }
          },
          "title": {
           "x": 0.05
          },
          "xaxis": {
           "automargin": true,
           "gridcolor": "white",
           "linecolor": "white",
           "ticks": "",
           "title": {
            "standoff": 15
           },
           "zerolinecolor": "white",
           "zerolinewidth": 2
          },
          "yaxis": {
           "automargin": true,
           "gridcolor": "white",
           "linecolor": "white",
           "ticks": "",
           "title": {
            "standoff": 15
           },
           "zerolinecolor": "white",
           "zerolinewidth": 2
          }
         }
        },
        "title": {
         "font": {
          "size": 25
         },
         "text": "Data Heatmap"
        },
        "width": 750,
        "xaxis": {
         "showgrid": false,
         "ticks": "",
         "title": {
          "text": "Record #"
         }
        },
        "yaxis": {
         "automargin": true,
         "showgrid": false,
         "ticks": "",
         "title": {
          "text": "Variable"
         }
        }
       }
      },
      "text/html": [
       "<div>\n",
       "        \n",
       "        \n",
       "            <div id=\"0ce6189a-0d3e-4f25-9b95-4ab4df035d8d\" class=\"plotly-graph-div\" style=\"height:750px; width:750px;\"></div>\n",
       "            <script type=\"text/javascript\">\n",
       "                require([\"plotly\"], function(Plotly) {\n",
       "                    window.PLOTLYENV=window.PLOTLYENV || {};\n",
       "                    \n",
       "                if (document.getElementById(\"0ce6189a-0d3e-4f25-9b95-4ab4df035d8d\")) {\n",
       "                    Plotly.newPlot(\n",
       "                        '0ce6189a-0d3e-4f25-9b95-4ab4df035d8d',\n",
       "                        [{\"colorbar\": {\"title\": {\"text\": \"z-score (bounded)\"}}, \"colorscale\": [[0.0, \"#440154\"], [0.1111111111111111, \"#482878\"], [0.2222222222222222, \"#3e4989\"], [0.3333333333333333, \"#31688e\"], [0.4444444444444444, \"#26828e\"], [0.5555555555555556, \"#1f9e89\"], [0.6666666666666666, \"#35b779\"], [0.7777777777777778, \"#6ece58\"], [0.8888888888888888, \"#b5de2b\"], [1.0, \"#fde725\"]], \"type\": \"heatmap\", \"x\": [0, 1, 2, 3, 4, 5, 6, 7, 8, 9, 10, 11, 12, 13], \"y\": [\"target\", \"proline\", \"od280/od315_of_diluted_wines\", \"hue\", \"color_intensity\", \"proanthocyanins\", \"nonflavanoid_phenols\", \"flavanoids\", \"total_phenols\", \"magnesium\", \"alcalinity_of_ash\", \"ash\", \"malic_acid\", \"alcohol\"], \"ygap\": 1, \"z\": [[1.518612540989146, 0.24628962701505472, 0.19687902841412025, 1.6915496360924187, 0.2957002256159914, 1.481554592038443, 1.7162549353928882, 1.30861749693517, 2.2597715200031785, 1.061564503930491, 1.3580280955361046, 1.3827333948365716, 0.925685357777919, 2.160950322801307, 1.7039022857426547, 0.7774535619751135, 1.6050810885407834, 1.0245065549797903, 1.4692019423882092, 0.7898062116253471, 1.30861749693517, -0.08723191354125955, 0.8762747591769846, -0.1860531107431307, 0.6168691165220721, 0.060999882261548254, 0.48098997036950003, 0.3698161235173953, 1.0739171535807246, 1.2592068983342333, 0.9009800584774519, 0.7156903137239432, 0.8392168102262816, 0.9380380074281527, 0.6292217661723056, 0.5921638172216048, 0.34511082421692585, 0.060999882261548254, 0.0857051815620155, 1.5062598913389122, 0.6909850144234759, 0.5056952696699673, 1.0862698032309606, 0.2957002256159914, 0.060999882261548254, 1.4939072416886787, 1.7039022857426547, 1.1109751025314278, 1.3580280955361046, 1.1603857011323622, 0.060999882261548254, 1.0245065549797903, 1.0121539053295565, 0.9503906570783863, 0.9133327081276855, 0.6909850144234759, 1.5062598913389122, 0.3574634738671595, 0.8886274088272182, -0.7789802939543575, -0.828390892555292, -0.4454587533980411, 0.826864160576048, -0.7789802939543575, -1.0260332869590343, -0.7789802939543575, 0.13511578016294998, -0.7789802939543575, 0.4192267221183298, -0.9766226883580976, -0.8778014911562286, 1.061564503930491, 0.6045164668718385, -0.013116015639855648, -1.2854389296139446, -1.656018419120962, 0.036294582961078826, -1.4336707254167524, -0.828390892555292, -0.37134285549663937, -1.2360283310130102, -0.3466375561961699, -1.1372071338111391, 0.060999882261548254, -1.4336707254167524, -0.4084008044473402, -1.0383859366092678, -1.6683710687711957, -1.6807237184214292, -1.1372071338111391, -1.1372071338111391, -1.2360283310130102, -0.38369550514687295, -0.8778014911562286, -1.7054290177218987, -0.6554537974520169, -1.4707286743674532, -0.8778014911562286, -0.7789802939543575, -0.8778014911562286, -1.1372071338111391, -0.49486935199897775, -0.8160382429050584, -1.4583760247172197, -0.6060431988510825, -0.7172170457031872, -0.9272120897571632, -0.3466375561961699, -0.964270038707864, -1.7177816673721322, -1.9030714121256387, -0.5936905492008488, -1.5324919226186235, -1.964834660376809, -1.1372071338111391, -2.4342353470856977, -1.4583760247172197, -0.7172170457031872, -0.28487430794500185, -1.2360283310130102, -1.9154240617758747, -1.7795449156233003, -0.7172170457031872, 0.060999882261548254, -1.3966127764660516, -1.1495597834613727, -0.7048643960529536, -1.4954339736679227, -0.7789802939543575, -1.1866177324120757, -0.17370046109289708, -0.14899516179242764, -0.23546370934406516, -0.37134285549663937, -0.6060431988510825, -0.49486935199897775, -0.9272120897571632, -0.5813378995506152, 0.6045164668718385, -0.1984057603933643, -0.08723191354125955, 0.443932021418797, 0.6415744158225393, 0.7651009123248776, -0.9272120897571632, 0.19687902841412025, 1.0862698032309606, -0.16134781144266347, 0.3945214228178625, 0.0980578312122491, 0.6168691165220721, -0.26016900864453457, 0.13511578016294998, 0.28334757596575777, -0.519574651299445, 0.20923167806435386, 1.0368592046300238, -0.6801590967524864, 1.654491687141718, 0.5921638172216048, -0.7913329436045912, 0.8515694598765152, -0.1860531107431307, -0.0501739645905565, 0.96274330672862, 0.9009800584774519, 0.5551058682709018, -0.22311105969383155, 0.7156903137239432, 0.49334262001973367, -0.9889753380083335, -0.28487430794500185, 1.4321439934375084, 0.8762747591769846, 0.49334262001973367, 0.33275817456669227, 0.20923167806435386, 1.3950860444868076], [-0.5622497983286235, -0.4994133781369054, 0.021231246308758504, -0.34681064338559014, 0.22769376979583217, -0.5173666410488249, -0.4186236950332678, -0.16727801426639569, -0.6250862185203416, -0.8854085307431735, -0.15830138281043576, -0.7687123218156972, -0.5442965354167041, -0.5442965354167041, -0.4186236950332678, -0.4724834837690262, -0.3737405377534693, -0.6879226387120596, -0.6699693758001402, 0.6855019740497783, -0.6340628499763014, 1.3138661759669588, -0.4276003264892275, -0.6609927443441804, -0.4724834837690262, -0.25704432882599304, -0.5083900095928652, -0.5532731668726638, -0.3916938006653888, -0.5891796926965027, -0.7507590589037777, -0.6071329556084222, -0.45453022085710676, -0.7238291645358985, -0.48146011522498594, -0.4724834837690262, -0.6250862185203416, -0.6161095870643819, -0.7507590589037777, 1.484422173630194, -0.5622497983286235, 1.3497727017907977, -0.40067043212134856, 1.475445542174234, -0.5083900095928652, 1.5293053309099924, 1.1253569153918046, -0.5891796926965027, -0.283974223193872, -0.5442965354167041, -0.5442965354167041, -0.6161095870643819, -0.5263432725047846, -0.3916938006653888, -0.5981563241524624, -0.5442965354167041, -0.5712264297845833, -0.3288573804736707, -0.8135954790954959, -1.2534504204375223, -1.1098243171421667, -0.8764318992872138, -0.9751748453027709, -1.0828944227742876, -0.7956422161835763, -1.0110813711266098, -1.1906140002458043, -1.0469878969504487, -1.2534504204375223, -1.0290346340385292, -0.6520161128882207, -0.741782427447818, -0.6071329556084222, -0.5981563241524624, -1.1188009485981263, -0.4096470635773083, -1.2893569462613612, 0.49699271347462415, -1.2085672631577238, 1.3767025961586772, -1.2714036833494418, -0.4724834837690262, -1.0828944227742876, 1.3677259647027171, -1.2983335777173208, -1.2175438946136834, -0.6520161128882207, -0.5981563241524624, -0.2480676973700331, -0.903361793655093, -0.45453022085710676, -0.741782427447818, -0.7238291645358985, 0.44313292473886573, -0.31090411756175124, -0.7328057959918582, -0.19420790863427467, -0.8315487420074154, -1.1367542115100457, 0.7483383942414963, -0.2301144344581136, -0.8943851621991332, 0.1020209294123963, -0.5532731668726638, -0.5442965354167041, 0.19178724397199323, -0.5442965354167041, -0.5263432725047846, -0.9392683194789319, -0.8854085307431735, 1.2600063872312008, 0.08406766650047684, 0.30848345289946993, -1.4329830495567168, -0.8495020049193348, -0.741782427447818, -0.7776889532716569, -0.6520161128882207, 0.9817308120964493, 0.9817308120964493, 0.057137772132597436, -0.25704432882599304, 1.8793939576924215, 3.1091924671589037, 1.7716743802209045, -0.15830138281043576, -0.7238291645358985, -0.18523127717831514, -0.6340628499763014, 1.7626977487649451, -0.8854085307431735, 0.5867590280342214, -0.02365191097103996, 1.0894503895679657, -0.9841514767587306, 0.11099756086835583, 2.1397162699152537, 2.8488701549360718, 1.1253569153918046, 0.5598291336663421, 0.4251796618269463, 0.20076387542795315, 0.7483383942414963, 2.3461787934023275, 1.3856792276146368, 1.1074036524798851, 2.426968476505965, 2.040973323899697, 0.8111748144332146, 1.4036324905265563, 0.7034552369616978, 0.29950682144351004, -0.3916938006653888, 0.8650346031689726, -0.9392683194789319, 2.561617948345361, 1.6011183825576702, 0.62266555385806, -0.5891796926965027, -0.5981563241524624, 1.3407960703348383, 0.8291280773451336, 0.8381047088010936, 0.9996840750083688, 0.3802965045471474, 1.816557537500704, 1.224099861407362, 0.9278710233606909, 0.21871713833987264, 2.0319966924437365, 0.62266555385806, 0.048161140676637904, 0.1558807181481543, 2.9745429953195086, 1.412609121982516, 1.744744485853026, 0.22769376979583217, 1.5831651196457504], [0.23205254099474312, -0.8279963232661995, 1.1093343596934533, 0.4879264047818666, 1.84040254194238, 0.3051593592196358, 0.3051593592196358, 0.8900139050187754, -0.7183360959288614, -0.3528020048043981, -0.24314177746705992, -0.17003495924216727, 0.15894572276985047, 0.08583890454495782, 0.04928549543251068, 1.2189945870307932, 1.2921014052556858, 0.9265673141312225, 0.41481958655697393, 0.7072468594565445, -0.31624859569195257, 1.0362275414685607, -0.023821322792381975, 0.5610332230067593, 0.8900139050187754, 3.1197718608780005, 0.9265673141312225, -0.8279963232661995, 1.5845286781552548, -0.572122459479076, 1.2189945870307932, -0.023821322792381975, -0.023821322792381975, 1.2189945870307932, 1.0362275414685607, 0.15894572276985047, 1.73074231460504, 0.6706934503440974, -0.9742099597159848, 0.5244798138943121, -0.2065883683546128, -0.9011031414910922, 0.8169070867938827, -0.27969518657950543, -0.9742099597159848, 0.26860595010718863, -0.31624859569195257, -0.9011031414910922, 0.12239231365740333, -0.3528020048043981, -1.1935304143906629, 0.8534604959063299, 0.19549913188229598, 1.1458877688059004, -0.42590882302929073, 0.3417127683320813, -0.24314177746705992, 1.1458877688059004, 0.4879264047818666, -3.6791622340370105, -0.31624859569195257, -1.2666372326155555, -1.6321713237400186, -0.7548895050413069, 0.5975866321192047, 0.7072468594565445, -2.436346324213837, -1.6321713237400186, -0.023821322792381975, -2.2535792786516056, -0.572122459479076, 1.1093343596934533, -0.46246223214173626, 0.8534604959063299, -0.24314177746705992, -1.6321713237400186, -2.399792915101391, -0.4990156412541834, -1.5225110964026798, 0.12239231365740333, -1.3397440508404481, -0.6086758685915216, 0.5244798138943121, -0.17003495924216727, 0.7803536776814372, -0.46246223214173626, -0.2065883683546128, 0.9265673141312225, 0.3417127683320813, -0.24314177746705992, -0.17003495924216727, 0.19549913188229598, -0.38935541391684525, -0.5355690503666289, -0.31624859569195257, -0.6086758685915216, 1.3652082234805785, -1.4128508690653407, -0.9742099597159848, -0.572122459479076, -2.436346324213837, -1.7052781419649115, 0.3417127683320813, -1.778384960189804, -1.4128508690653407, -0.3528020048043981, -0.9011031414910922, -0.31624859569195257, -1.559064505515126, 1.2189945870307932, -1.997705414864481, -0.7183360959288614, 2.0231695875046105, 0.4879264047818666, 0.4879264047818666, -0.6086758685915216, -1.3762974599528943, -0.6452292777039688, -1.4128508690653407, -1.3397440508404481, 0.19549913188229598, 3.156325269990446, 1.3286548143681314, -0.8645497323786466, 0.08583890454495782, -0.7183360959288614, -0.27969518657950543, 1.5114218599303622, -0.24314177746705992, 0.04928549543251068, -0.17003495924216727, 0.12239231365740333, 0.12239231365740333, -0.023821322792381975, -0.42590882302929073, -0.6086758685915216, 0.6341400412316519, 0.9996741323561151, -0.6452292777039688, 0.8900139050187754, 1.2189945870307932, -0.06037473190482749, 1.2921014052556858, -0.06037473190482749, -0.6086758685915216, -0.791442914153754, -0.4990156412541834, 0.41481958655697393, 0.04928549543251068, -0.023821322792381975, 0.9265673141312225, 0.41481958655697393, 1.401761632593024, -0.31624859569195257, -0.9742099597159848, -0.17003495924216727, 0.04928549543251068, 0.9996741323561151, 1.2189945870307932, 0.9996741323561151, 0.04928549543251068, 0.6341400412316519, 0.7803536776814372, -0.06037473190482749, -0.24314177746705992, -0.38935541391684525, 0.8534604959063299, -0.24314177746705992, 1.182441177918346, 1.8038491328299326, -0.17003495924216727, -0.31624859569195257, 0.41481958655697393, 0.3051593592196358, 0.41481958655697393, -0.38935541391684525, 0.012732086320065164, 1.3652082234805785], [-1.1695931750229027, -2.4908471410952195, -0.26873819815541344, -0.8092511842759069, 0.45194578333857716, -1.289707171938568, -1.4698781673120658, -0.5690231904445764, -1.6500491626855633, -1.0494791781072375, -0.4489091935289116, -0.8092511842759069, -1.0494791781072375, -2.430790142637387, -2.250619147263889, -0.6891371873602422, 0.1516607910494142, 0.1516607910494142, -0.899336681962656, -1.289707171938568, -1.0494791781072375, -0.26873819815541344, -0.8693081827337393, -0.508966191986744, 0.1516607910494142, 1.653085752495229, -1.0194506788783209, -0.7491941858180745, -0.02851020432408396, -1.0494791781072375, 0.9023732717723215, -0.11859570201083199, -0.6891371873602422, 0.00151829490483276, -0.1486242012397487, 0.3018032871939957, -1.1996216742518189, -0.4489091935289116, -1.1996216742518189, -1.8902771565168939, -0.9894221796494052, -0.2086811996975811, -1.3497641703964005, -0.5990516896734931, -0.7491941858180745, -0.17865270046866544, -1.0494791781072375, -1.0494791781072375, -0.2086811996975811, -0.6290801889024098, -2.130505150348224, -0.6891371873602422, -1.6500491626855633, -0.7191656865891578, -0.9293651811915727, 0.3018032871939957, -0.9593936804204884, -0.8092511842759069, -0.8392796835048236, -2.6710181364687173, -1.0494791781072375, -0.8092511842759069, -0.4489091935289116, -0.1486242012397487, -0.1486242012397487, -0.4188806942999949, -1.3497641703964005, 0.03154679413374948, -0.7491941858180745, -0.8092511842759069, 0.271774787965079, 1.653085752495229, 1.3528007602060659, 3.1545107139410433, 0.45194578333857716, -1.0494791781072375, -1.0494791781072375, -0.4489091935289116, -1.4098211688542328, 1.052515767916903, -0.1486242012397487, -0.2086811996975811, 1.3528007602060659, 0.9023732717723215, -0.4489091935289116, -0.4489091935289116, 0.9924587694590706, 1.9533707447843918, 0.6321167787120754, 1.2326867632904013, -0.29876669738433015, 0.7522307756277401, 0.36186028565182804, -0.4489091935289116, -0.4489091935289116, -0.1486242012397487, 0.6020882794831586, -1.0494791781072375, -0.29876669738433015, -0.4489091935289116, -0.5990516896734931, -0.29876669738433015, 0.45194578333857716, 0.00151829490483276, 0.3018032871939957, 0.7522307756277401, -0.1486242012397487, 0.9023732717723215, -0.1486242012397487, 0.1516607910494142, 0.00151829490483276, 0.45194578333857716, 0.1516607910494142, 0.45194578333857716, 0.9023732717723215, 0.6020882794831586, 0.3918887848807448, 0.9023732717723215, -1.0494791781072375, -0.1486242012397487, 0.1516607910494142, 2.7040832255072993, 2.103513240928973, 0.6020882794831586, 0.45194578333857716, 0.45194578333857716, 0.6020882794831586, 2.7040832255072993, 1.5029432563506473, 0.7522307756277401, -0.4489091935289116, 0.1516607910494142, 1.3528007602060659, 0.6020882794831586, -0.5990516896734931, -0.29876669738433015, 0.45194578333857716, 1.653085752495229, 0.00151829490483276, 1.3528007602060659, 0.45194578333857716, 0.1516607910494142, 1.2026582640614845, 0.1516607910494142, -0.29876669738433015, 0.45194578333857716, 0.1516607910494142, 0.6020882794831586, 0.6020882794831586, 0.6020882794831586, 1.3528007602060659, 0.7522307756277401, 1.8032282486398103, -0.29876669738433015, 0.1516607910494142, 0.7522307756277401, 0.00151829490483276, 2.253655737073555, 1.653085752495229, 0.9023732717723215, 0.45194578333857716, 0.1516607910494142, 0.7522307756277401, -0.29876669738433015, 0.7522307756277401, 0.9023732717723215, 1.052515767916903, 0.00151829490483276, 1.5029432563506473, 1.653085752495229, -0.1486242012397487, 0.00151829490483276, 0.1516607910494142, 0.3018032871939957, 1.052515767916903, 0.1516607910494142, 0.1516607910494142, 1.5029432563506473], [1.926214888550954, null, -0.024198679504409355, 0.8759921980596046, null, null, null, 1.4761194497689472, -0.3242623053590807, null, 0.27586494635026193, -0.4742941182864163, -0.9243895570684233, -0.7743577441410876, null, null, null, 1.0260240109869403, null, null, null, null, -0.024198679504409355, -0.4742941182864163, null, null, -0.6243259312137519, null, 0.4258967592775976, null, -0.024198679504409355, null, null, null, null, null, null, null, null, null, 1.1760558239142758, null, -0.024198679504409355, 0.1258331334229263, 0.4258967592775976, 0.7259603851322689, null, -0.024198679504409355, 0.1258331334229263, null, null, null, 0.7259603851322689, 1.0260240109869403, null, null, null, null, null, null, -0.024198679504409355, null, null, -1.074421369995759, null, null, null, null, null, 3.726596643678982, 0.1258331334229263, null, -1.074421369995759, 2.826405766114968, -0.024198679504409355, -0.3242623053590807, null, null, null, -0.024198679504409355, null, null, null, -1.2244531829230945, null, -0.17423049243174502, null, null, null, null, -1.5245168087777659, null, null, null, null, null, null, -1.2244531829230945, null, null, -0.3242623053590807, null, null, null, -1.2244531829230945, null, null, null, null, null, 0.4258967592775976, null, 0.1258331334229263, null, null, -1.2244531829230945, null, null, null, -1.074421369995759, null, 1.3260876368416115, null, null, null, -1.2244531829230945, null, null, null, null, null, null, null, null, -1.2244531829230945, null, -0.9243895570684233, null, null, -0.024198679504409355, null, -0.9243895570684233, -0.3242623053590807, null, null, null, null, null, null, 0.8759921980596046, 1.6261512626962829, null, null, null, 0.1258331334229263, -0.6243259312137519, -0.9243895570684233, -0.3242623053590807, null, -0.9243895570684233, null, 0.4258967592775976, null, null, null, null, 0.7259603851322689, null, 0.27586494635026193, null, null, null, -0.7743577441410876, -0.4742941182864163, null, null, null, null], [0.8089973946320397, 0.5686476623890726, 0.8089973946320397, 2.4914455203328107, 0.8089973946320397, 1.5620932223266708, 0.3282979301461054, 0.4885310849747504, 0.8089973946320397, 1.0974170733236006, 1.0493471268750074, -0.15240153433982878, 0.4885310849747504, 1.2896968591179747, 1.6101631687752638, 0.8891139720463626, 0.8089973946320397, 1.0493471268750074, 1.6101631687752638, 0.6487642398033954, 1.1294637042893296, 0.18408809080032532, 0.5045544004576146, 0.29625129918037646, 0.37636787659469856, 0.5366010314233436, 0.8891139720463626, 0.16806477531746047, 1.0493471268750074, 0.5686476623890726, 1.1294637042893296, 0.9051372875292266, 0.20011140628318946, 1.0493471268750074, 0.08794819790313833, 0.6487642398033954, 0.4885310849747504, 0.2481813527317833, 0.16806477531746047, 1.1294637042893296, 1.3698134365322967, 0.2481813527317833, 1.5300465913609418, 0.5526243469062084, 1.1294637042893296, 0.8891139720463626, 1.5300465913609418, 1.2896968591179747, 0.7288808172177176, 0.9371839184949556, 0.6808108707691244, 0.2481813527317833, 2.539515466781404, 1.1294637042893296, 0.4885310849747504, 1.0653704423578716, 1.4499300139466196, 1.1294637042893296, 1.7703963236039089, -0.5049144749628477, -0.39275126658279663, -0.44082121303138977, -0.31263468916847376, 1.9306294784325537, -0.6491243143086283, 0.20011140628318946, 1.0974170733236006, -0.29661137368560964, 0.37636787659469856, -0.7132175762400859, -1.9149662374549221, 1.0493471268750074, -0.6651476297914927, 1.6101631687752638, 1.7383496926381798, -1.0977771478288334, -0.5529844214114412, -0.9215206775173244, -0.6331009988257638, 0.8570673410806335, 0.20011140628318946, -0.15240153433982878, -0.47286784399711873, -1.0336838858973758, -0.15240153433982878, -0.15240153433982878, -0.8253807846201373, -0.6010543678600347, -0.5529844214114412, -0.15240153433982878, -1.113800463311698, -1.3541501955546653, -1.466313403934717, 0.2481813527317833, 1.1615103352550586, 0.3282979301461054, -1.113800463311698, 0.4084145075604276, 1.9626761093982827, 0.8891139720463626, -0.10433158789123564, -1.3541501955546653, 0.4244378230432924, 0.3282979301461054, -0.15240153433982878, -0.9856139394487823, -1.0336838858973758, -1.466313403934717, 0.10397151338600247, 0.7128575017348534, 1.4178833829808906, 0.4084145075604276, -0.8734507310687308, 0.29625129918037646, 0.4244378230432924, 0.26420466821464744, -0.5049144749628477, -0.47286784399711873, -1.0657305168631048, -0.47286784399711873, 0.9692305494606847, 1.4178833829808906, -0.15240153433982878, 0.5205777159404794, 0.9051372875292266, 0.4885310849747504, 0.7128575017348534, -0.2645647427198806, -0.12035490337409979, -0.31263468916847376, -1.2580103026574785, -1.5944999277976326, -1.8348496600406, -0.9535673084830533, -0.47286784399711873, -1.081753832345969, -1.466313403934717, -0.8093574691372728, -1.081753832345969, 0.03987825145454448, -1.2099403562088848, -1.434266772968988, -1.1939170407260205, -0.47286784399711873, -1.466313403934717, -1.2740336181403429, -2.107246023249296, -0.9535673084830533, -0.5850310523771702, -1.4182434574861233, -1.434266772968988, -1.306080249106072, -0.15240153433982878, -0.7933341536544083, -1.306080249106072, -0.8894740465515953, -0.7933341536544083, -0.6331009988257638, 0.8089973946320397, 0.4885310849747504, 0.007831620488815484, -0.7452642072058149, -1.0336838858973758, -1.4502900884518524, -1.51438335038331, -1.6265465587633616, -0.9535673084830533, -1.306080249106072, -1.1939170407260205, -0.5049144749628477, -1.674616505211955, -1.4502900884518524, -0.9856139394487823, -0.9856139394487823, -0.7933341536544083, -1.1298237787945624, -1.0336838858973758, -0.39275126658279663], [1.0348189581307363, 0.7336289414294697, 1.2155329681514961, 1.466524648735885, 0.663351270865841, 1.3661279765021292, 0.49267692806845687, 0.4826372608450811, 0.9545016203437319, 1.125175963141116, 1.2958503059385003, 0.40231992305807707, 0.7336289414294697, 1.6673179932033955, 1.6171196570865178, 0.8842239497801032, 1.1151362959177407, 1.3761676437255046, 1.9082700065644087, 1.0046999564606094, 1.1452552975878671, 0.382240588611326, 0.8541049481099763, 0.34208191971782376, 0.5830339330788366, 0.6533116036424657, 0.9143429514502296, 0.1613679096970638, 0.9444619531203565, 0.30192325082432153, 1.2255726353748715, 1.1653346320346183, 0.663351270865841, 0.713549606982719, 0.5027165952918322, 0.9545016203437319, 0.6533116036424657, 0.40231992305807707, 0.6131529347489635, 1.0147396236839852, 1.2657313042683738, 0.6533116036424657, 1.5368023192995135, 0.6031132675255877, 0.974580954790483, 0.6231926019723388, 1.1452552975878671, 1.3661279765021292, 0.8942636170034786, 1.5167229848527624, 1.2456519698216226, 0.9645412875671077, 1.7175163293202735, 0.7637479430995966, 0.8741842825567274, 0.7537082758762208, 0.974580954790483, 1.2054933009281206, 1.6472386587566443, -1.4650581804897744, -0.942995484874246, -0.6217261337262288, -0.2402187792379579, 1.0749776270242386, -0.2803774481314601, 0.6231926019723388, 1.155294964811243, -0.029385767547071496, -0.7321624731833596, -0.7522418076301107, -1.0132731554378749, 0.8340256136632253, -0.19002044312108013, 0.8641446153333521, 0.11116957358018625, -0.46109145815221986, 0.0007332341230549406, -0.7120831387366084, -0.1799807758977046, 0.5227959297385832, 0.23164558026069246, 0.5027165952918322, -0.4510517909288443, -0.4410121237054688, 0.1814472441438149, -0.08962377088732482, -0.34061545147171346, -0.42093278925871763, -0.34061545147171346, -0.4410121237054688, -0.5313691287158487, -0.7823608093002373, -0.5715277976093509, 0.2216059130373171, 0.23164558026069246, 0.24168524748406822, -1.0433921571080016, 0.4725975936217057, 1.7275559965436489, 0.9645412875671077, 0.1412885752503127, -0.6719244698431063, 0.08105057191005936, -0.3908137875885912, -0.10970310533407593, -0.19002044312108013, 0.0007332341230549406, -0.2703377809080846, 0.010772901346430717, 0.8942636170034786, 0.5529149314087102, 0.24168524748406822, 0.0007332341230549406, -0.019346100323696165, 0.2617645819308193, 0.1412885752503127, -0.4309724564820932, 0.060971237463308264, -0.7823608093002373, -0.3908137875885912, 0.7637479430995966, 3.0628317372525964, 0.10112990635681048, 0.6231926019723388, 1.0046999564606094, 0.6231926019723388, 1.125175963141116, 0.2115662458139418, 0.4223992575048282, -0.2803774481314601, -0.7823608093002373, -0.812479810970364, -0.942995484874246, -0.8325591454171151, -1.4550185132663989, -1.3747011754793943, -1.56545485272353, -1.4349391788196477, -1.5554151855001543, -1.4349391788196477, -1.5353358510534032, -1.5353358510534032, -1.515256516606652, -1.2341458343521368, -1.254225168798888, -1.4851375149365253, -1.6959705266274119, -1.38474084270277, -1.274304503245639, -0.6418054681729798, -0.46109145815221986, -0.6719244698431063, -0.7522418076301107, -1.20402683268201, -1.4550185132663989, -1.4048201771495212, -1.20402683268201, -1.4550185132663989, -0.722122805959984, -0.9329558176508704, -1.1136698276716304, -1.4750978477131498, -1.4349391788196477, -1.3345425065858922, -1.3546218410326432, -1.56545485272353, -1.1136698276716304, -1.3747011754793943, -1.1939871654586347, -1.073511158778128, -1.5453755182767788, -1.5252961838300276, -1.3345425065858922, -1.4248995115962724, -1.2843441704690146, -1.3445821738092678, -1.3546218410326432, -1.274304503245639], [-0.6595631143050643, -0.8207192355765833, -0.4984069930335457, -0.9818753568481025, 0.22679555268828971, -0.17609475049050752, -0.4984069930335457, -0.4178289323977861, -0.5789850536693052, -1.1430314781196214, -1.1430314781196214, -0.8207192355765833, -0.5789850536693052, 0.5491077952313275, -0.5789850536693052, -0.4984069930335457, -0.25667281112626705, 0.3073736133240493, -0.3372508717620266, -1.5459217812984185, -0.9818753568481025, -0.9012972962123429, -0.7401411749408239, -0.8207192355765833, -0.6595631143050643, 0.8714200377743652, -0.17609475049050752, -0.7401411749408239, 0.06563943141677064, -0.8207192355765833, -0.5789850536693052, -1.1430314781196214, 0.4685297345955679, 1.1131542196816437, -0.5789850536693052, -0.8207192355765833, -0.17609475049050752, -0.5789850536693052, -0.6595631143050643, -1.30418759939114, -0.17609475049050752, -0.7401411749408239, -1.5459217812984185, -0.3372508717620266, -0.6595631143050643, -0.4984069930335457, -0.7401411749408239, -1.223609538755381, -0.3372508717620266, -0.3372508717620266, -1.5459217812984185, -1.1430314781196214, -0.3372508717620266, 0.22679555268828971, -1.223609538755381, -1.30418759939114, -0.8207192355765833, -0.4178289323977861, -1.3847656600268996, -0.6595631143050643, 2.1606690079465167, 1.3548884015889224, -0.3372508717620266, -1.3847656600268996, 0.7102639165028465, 0.06563943141677064, -0.8207192355765833, -0.7401411749408239, 1.5160445228604413, -1.787655963205697, 0.06563943141677064, -1.223609538755381, -0.7401411749408239, -1.223609538755381, -1.8682340238414565, -0.17609475049050752, -0.9818753568481025, 0.5491077952313275, -0.09551668985474843, 0.5491077952313275, -0.4984069930335457, -0.8207192355765833, 0.3073736133240493, 1.9995128866749978, -1.1430314781196214, -0.4984069930335457, 0.5491077952313275, 0.3073736133240493, 0.9519980984101246, 0.4685297345955679, 1.2743103409531629, 1.1131542196816437, 1.7577787047677191, -0.9012972962123429, -1.5459217812984185, -0.3372508717620266, -1.787655963205697, -0.5789850536693052, -0.9818753568481025, 0.7102639165028465, -0.8207192355765833, -0.5789850536693052, -0.17609475049050752, 0.06563943141677064, -0.3372508717620266, 2.4024031898537954, 0.06563943141677064, 0.9519980984101246, 0.22679555268828971, -0.5789850536693052, -0.9818753568481025, -0.8207192355765833, 1.9189348260392383, 0.4685297345955679, 0.5491077952313275, 1.2743103409531629, -0.4984069930335457, -0.17609475049050752, 0.5491077952313275, 0.06563943141677064, -0.3372508717620266, 0.8714200377743652, 0.5491077952313275, -0.4984069930335457, -1.223609538755381, 0.06563943141677064, 0.22679555268828971, 1.7577787047677191, 0.3073736133240493, 0.4685297345955679, -1.223609538755381, -0.9818753568481025, -0.7401411749408239, -1.5459217812984185, 1.9189348260392383, 2.1606690079465167, 1.3548884015889224, 2.1606690079465167, 1.7577787047677191, 1.3548884015889224, 1.3548884015889224, 0.06563943141677064, 1.1131542196816437, 0.8714200377743652, -0.5789850536693052, 0.5491077952313275, 0.3073736133240493, 0.8714200377743652, 0.7102639165028465, -0.17609475049050752, -1.1430314781196214, -0.9818753568481025, -0.8207192355765833, 1.9995128866749978, 1.3548884015889224, 1.9995128866749978, 0.9519980984101246, 2.1606690079465167, 1.3548884015889224, 1.2743103409531629, 1.1131542196816437, 1.1131542196816437, 1.9189348260392383, 0.3073736133240493, 0.38795167395980834, 1.2743103409531629, 0.5491077952313275, 0.3073736133240493, 0.22679555268828971, -0.7401411749408239, 0.3073736133240493, 0.9519980984101246, 0.6296858558670869, 1.2743103409531629, 0.5491077952313275, 0.5491077952313275, 1.3548884015889224, 1.596622583496201], [1.2248839840604524, -0.5447209874470061, 2.1359677317672627, 1.0321547297378582, 0.4014044428639123, 0.6642170623947229, 0.6817379036967769, -0.5972835113531684, 0.6817379036967769, 0.4539669667700745, 1.3825715557789386, -0.03661658968743881, 0.38388360156185825, 2.1359677317672627, 2.398780351298073, -0.22934584401003347, 0.6642170623947229, 0.2261960298433717, 0.47148780807212853, 0.12107098203104735, 0.8919879993214256, 0.6817379036967769, 0.17363350593720953, -0.22934584401003347, 0.12107098203104735, 0.5766128558844525, -0.24686668531208752, -0.42207509833262774, 0.29627939505158796, 0.6817379036967769, 1.3825715557789386, 0.6291753797906147, 0.6642170623947229, -0.42207509833262774, -0.08917911359360099, 0.47148780807212853, -0.4045542570305737, -0.2643875266141416, -0.3870334157285196, 0.8569463167173175, 1.3124881905707224, -0.19430416140592535, 0.19115434723926358, 0.12107098203104735, 0.7693421102070468, -0.5972835113531684, 1.0496755710399117, 0.9620713645296418, 1.3825715557789386, 0.8569463167173175, 2.311176144787803, 1.2248839840604524, 0.48900864937418265, 0.15611266463515547, 0.05098761682283149, 1.5052174448933173, 0.7693421102070468, 0.12107098203104735, 0.7868629515091012, -2.0515133394236544, -2.0690341807257084, -1.7010965133825733, -1.5083672590599788, 0.48900864937418265, -0.9827420199983573, 0.8569463167173175, 1.207363142758398, -0.9652211786963032, -2.0515133394236544, 1.5928216514035873, -0.22934584401003347, 0.48900864937418265, -0.9827420199983573, 0.6466962210926688, 0.10355014072899328, -0.772491924373709, -0.22934584401003347, -1.1229087504147899, 2.0483635252569923, 0.6291753797906147, -0.28190836791619567, 0.313800236353642, -0.33447089182235784, 0.05098761682283149, 1.3300090318727769, -0.22934584401003347, -0.05413743098949287, -0.4395959396346818, -0.42207509833262774, -0.36951257442646596, 0.08602929942693922, 0.06850845812488517, 0.05098761682283149, 0.699258744998831, -0.42207509833262774, 2.9594472729638026, -0.05413743098949287, 0.313800236353642, 0.6291753797906147, 2.1359677317672627, -0.33447089182235784, -0.42207509833262774, -0.49215846354084397, -0.2994292092182497, -0.19430416140592535, -0.2994292092182497, 0.06850845812488517, 0.06850845812488517, 0.8569463167173175, 1.5753008101015336, 3.4850725120254245, -0.6498460352593305, -0.9477003373942492, -0.2643875266141416, -0.9652211786963032, 0.7343004276029387, -0.10669995489565505, 0.03346677552077743, -1.3331588460394383, 0.48900864937418265, 0.41892528416596636, 0.48900864937418265, 0.20867518854131764, 0.7343004276029387, 2.311176144787803, -0.42207509833262774, 0.313800236353642, 0.29627939505158796, 0.5415711732803444, -0.42207509833262774, -1.1404295917168439, -1.3331588460394383, -1.3331588460394383, -1.3156380047373843, -0.5972835113531684, -1.1404295917168439, -1.3857213699456004, -0.8600961308839788, -1.2455546395291681, -1.3682005286435464, -1.4733255764558706, -1.666054830778465, -1.8237424024969515, -1.0002628613004114, -0.7900127656757631, -0.509679304842898, -1.5959714655702488, -1.2805963221332761, -0.5972835113531684, -0.7900127656757631, -0.5972835113531684, -0.5797626700511143, -0.05413743098949287, 0.48900864937418265, -0.33447089182235784, -0.07165827229154693, -0.05413743098949287, -0.7900127656757631, 1.9432384774446685, 1.2248839840604524, -0.9652211786963032, -1.3857213699456004, -1.1053879091127357, -1.1404295917168439, -0.9827420199983573, -0.772491924373709, -0.22934584401003347, -1.0878670678106817, -0.08917911359360099, -0.8425752895819248, -1.5083672590599788, -1.666054830778465, -0.6148043526552224, -0.9301794960921951, -0.3169500505203038, -0.42207509833262774, -0.22934584401003347, -0.42207509833262774], [0.2517168498188536, -0.2933213287130475, 0.2690196491373267, 1.1860680130163985, -0.3192755276907569, 0.731869530906481, 0.08301455646374147, -0.003499440128623882, 0.06138605731565023, 0.9351774228985393, 0.29929954794465463, -0.02512793927671512, 0.23441405050038053, 0.14790005390801558, 1.0562970181278508, 0.9697830215354855, 0.4939560402774766, 0.6669840334622069, 1.575380997682042, 0.01812905901946736, 0.2560425496484722, -0.2414129307576283, -0.5442119188309068, -0.4879778210458693, -0.6653315140602182, -0.6393773150825085, -0.11164193586908047, -0.47932642138663273, -0.2414129307576283, -0.15489893416526296, 0.2776710487965634, 0.7967550283507551, -0.5269091195124338, 0.14790005390801558, -0.37118392564617614, 0.01812905901946736, -0.19815593246144583, -0.3495554264980849, -0.5874689171270893, 0.01812905901946736, 0.46367614147014863, -0.33657832700923, 0.1608771533968701, -0.30197272837228384, -0.007825139958242053, 0.0786888566341233, -0.06838493757289761, 0.45069904198129374, 0.4939560402774766, 1.661894994274408, 0.926526023239303, 0.23441405050038053, 0.8616405257950288, 0.5372130385736591, 0.34255654624083715, 0.5155845394255678, 0.5718186372106052, 0.4074420436851112, 0.7534980300545723, -1.3444663873102856, -0.7734740098006747, 0.29929954794465463, -0.5442119188309068, -0.26304142990571955, -0.9118964043484591, -0.19815593246144583, 0.10464305561183271, -0.16355033382449968, -0.8167310080968574, -0.9551534026446418, -0.8686394060522766, -0.7258913116748739, -0.5701661178086163, -0.7388684111637286, -0.7994282087783843, -0.5442119188309068, -0.19815593246144583, -1.0416673992370071, -0.7172399120156373, -1.0762729978739531, -1.106552896681281, -0.5009549205347241, -1.236323891569829, -0.11164193586908047, -0.8686394060522766, -1.0546444987258619, -1.1281813958293723, -1.0632958983850984, -0.9767819017927332, -1.4353060837322689, -1.1498098949774638, -0.6307259154232719, -0.8686394060522766, -1.2579523907179202, -0.7821254094599113, -1.0632958983850984, -1.106552896681281, -0.9335249034965505, -0.2414129307576283, -1.1930668932736463, -0.76049691031182, -1.1281813958293723, -0.9767819017927332, -1.2968836891844846, -0.9162221041780775, -1.0200389000889156, -0.7172399120156373, -0.76049691031182, -1.0200389000889156, -1.0416673992370071, -0.9335249034965505, -1.3228378881621943, -0.5442119188309068, -0.8556623065634217, -0.9335249034965505, -1.3660948864583768, -1.3444663873102856, -1.2968836891844846, -0.7172399120156373, -1.634288275894709, -0.7821254094599113, 0.4074420436851112, -1.288232289525248, -1.0632958983850984, -0.9767819017927332, -0.9940847011112063, -0.48365212121625106, -0.8902679052003678, -1.270929490206775, -1.0632958983850984, -0.414440923942359, 0.14790005390801558, 0.2776710487965634, -0.02512793927671512, 0.1695285530561068, 0.8832690249431201, -0.5225834196828154, -0.02512793927671512, 0.2776710487965634, -0.05973353791366126, -0.19815593246144583, 0.23441405050038053, -0.3062984282019024, -0.2846699290538108, 1.3634217060307479, -0.4576979222385415, -0.06838493757289761, 1.121182515572125, 1.454261402452731, 1.878179985755321, 1.5321239993858595, 2.483777961901878, 0.8832690249431201, 2.3626583666725662, 1.0995540164240332, 1.2293250113125815, 1.7094776924002084, 1.0562970181278508, 3.435431924417896, 2.8947194457156127, 1.121182515572125, 0.35553364572969204, 0.2257626508411442, 0.09599165595259637, 1.9560425826884495, 0.6756354331214436, 2.4318695639464587, 2.2501901711024916, 1.5580781983635694, 1.4888670010896772, 0.19115705220419807, 2.0944645446662506, 2.0079509806438685, 1.1428110147202162, 0.9697830215354855, 2.2242359721247817, 1.8349229874591386, 1.7916659891629554], [null, -1.169532610646746, null, null, null, -1.169532610646746, null, -1.0836129999961626, -0.9117737786949958, null, 0.5488596023649213, -0.13849728283974644, -0.31033650414091335, 0.5488596023649213, 0.11926154911200394, 0.8066184343166717, -0.9976933893455792, -0.4821757254420803, 0.37702038106375435, null, -0.8258541680444123, null, -0.6540149467432453, -0.8258541680444123, -0.5680953360926618, -0.4821757254420803, null, null, 0.5488596023649213, null, 0.03334193846142048, -0.8258541680444123, 0.37702038106375435, 0.5488596023649213, -0.7399345573938287, null, -0.8258541680444123, -0.5680953360926618, -0.05257767218916299, null, null, null, null, null, null, null, null, null, -0.9976933893455792, -0.5680953360926618, -0.5680953360926618, 0.4629399917143378, null, -0.4821757254420803, null, null, null, -0.9976933893455792, null, -1.169532610646746, 0.5488596023649213, null, 0.37702038106375435, 0.2911007704131709, 2.267251815376589, 0.03334193846142048, -0.5680953360926618, -0.5680953360926618, null, 0.8066184343166717, null, 1.4939753195213394, null, 1.064377266268422, null, 0.37702038106375435, 0.03334193846142048, null, -1.0836129999961626, 0.03334193846142048, 1.6658145408225045, -0.22441689349032992, 1.064377266268422, null, null, 0.37702038106375435, 1.236216487569589, 1.4939753195213394, null, -0.9976933893455792, -0.9117737786949958, -1.169532610646746, null, -0.31033650414091335, -0.22441689349032992, -0.22441689349032992, null, 0.37702038106375435, null, 2.0094929834248383, 0.7206988236660882, null, null, null, null, null, null, null, null, null, null, null, 0.37702038106375435, -0.7399345573938287, null, 4.501161692291757, null, -1.0836129999961626, null, null, null, null, null, null, null, null, null, null, null, null, null, null, null, null, null, null, null, null, null, null, null, null, null, null, null, null, null, null, null, null, null, null, null, null, null, null, null, null, null, null, null, null, null, null, null, null, null, null, null, null, null, null, null, null, null, null, null, null], [1.8479195665066517, 1.1134493025258219, 0.7885874549958394, 1.1840714432932098, 0.44960117931237975, 0.33660575408455967, 1.367689009288417, 1.367689009288417, 0.33660575408455967, 1.325315724827984, 0.7885874549958394, 0.29423246962412686, 0.40722789485194694, 0.16711261624282955, 0.5484721763867221, 0.37897903854499193, 0.054117191015009475, -0.05887823421281061, 0.29423246962412686, 1.0569515899119117, 1.5513065752836244, 1.282942440367552, 1.960914991734472, 1.4383111500558043, 1.7066752849718767, 0.8309607394562722, 0.8592095957632273, 0.2236103288567396, 1.1134493025258219, 1.3818134374418942, 0.13886375993587455, 0.37897903854499193, 0.36485461039151473, 0.5484721763867221, 0.36485461039151473, 1.2123202996001647, 0.2377347570102168, -0.14362480313367568, 0.11061490362891951, 1.2970668685210291, 1.085200446218867, 0.5484721763867221, 1.339440152981462, 0.5484721763867221, 1.0428271617584346, 1.0145783054514796, 1.169947015139732, 1.0145783054514796, 0.1953614725497846, 0.6897164579214972, 0.42135232300542474, 1.0710760180653895, 0.9157073083771367, 0.44960117931237975, 0.8309607394562722, 0.5908454608471543, 0.9863294491445246, 0.32248132593108186, 0.36485461039151473, -1.1182103457236228, -1.3300767680257852, -1.443072193253605, -0.21424694390106291, 0.36485461039151473, -0.5391087914310454, -0.44023779435670307, 0.8027118831493172, 1.2264447277536419, -0.9628416360353703, 0.6473431734610643, -1.1182103457236228, 0.7744630268423622, 0.2377347570102168, 1.254693584060597, 0.7320897423819294, -0.6662286448123427, -0.18599808759410788, -0.12950037498019784, -0.42611336620322526, 0.7320897423819294, 0.7179653142284521, 0.7462141705354072, 0.15298818808935236, -0.8498462108075506, 0.6614676016145421, 0.7744630268423622, -0.49673550697061314, 0.8450851676097495, 0.1953614725497846, 0.8450851676097495, -0.48261107881713533, 0.054117191015009475, -0.7792240700401627, 0.9722050209910468, 0.491974463772812, 0.025868334708054455, -0.49673550697061314, 0.1812370443963074, 0.2236103288567396, 0.30835689777760467, 0.491974463772812, 0.2236103288567396, 1.085200446218867, -0.24249580020801795, 1.3535645811349393, 0.9722050209910468, 0.7885874549958394, -0.270744656514973, 0.576721032693677, 0.9157073083771367, 0.28010804147064966, 0.2377347570102168, -0.15774923128715287, -0.42611336620322526, 0.8168363113027944, 0.36485461039151473, 1.0145783054514796, 0.491974463772812, -0.6944775011192976, 0.6190943171541092, 1.0993248743723447, 1.5230577189766694, 0.7179653142284521, 0.6897164579214972, 1.4524355782092822, 0.9439561646840917, 0.32248132593108186, -0.24249580020801795, 0.2377347570102168, -0.05887823421281061, -1.8668050378579302, -1.6831874718627227, -1.7679340407835875, -1.8668050378579302, -1.5560676184814253, -1.4571966214070826, -1.8950538941648851, -1.3018279117188303, -1.1182103457236228, -0.6521042166588654, -0.42611336620322526, -0.20012251574758508, -0.7792240700401627, -0.7933484981936405, -0.8639706389610278, -1.3159523398723079, -1.81030732524402, -1.0617126331097126, -1.4006989087931725, -1.81030732524402, -1.8526806097044526, -1.6125653310953352, -1.81030732524402, -1.5560676184814253, -1.4995699058675152, -1.5984409029418578, -1.3724500524862178, -1.2453301991049202, -0.9204683515749378, -1.1747080583375327, -1.4571966214070826, -1.1182103457236228, -0.7086019292727754, -1.2170813427979652, -1.3159523398723079, -1.2170813427979652, -1.4854454777140376, -1.2170813427979652, -1.1464592020305777, -0.9769660641888479, -1.1040859175701452, -1.3865744806396954, -1.2735790554118753, -1.2312057709514428, -1.4854454777140376, -1.4854454777140376, -1.4006989087931725, -1.4289477651001277], [1.0130089267476907, 0.9652415206686003, 1.3951481753804136, 2.3345738282691912, -0.03787400699229761, 2.2390390161110103, 1.7295200179340462, 1.7454424866270764, 0.9493190519755701, 0.9493190519755701, 2.4301086404273717, 1.697675080547986, 1.825054830092227, 1.2836908945292027, 2.5479349087557948, 1.7932098927061668, 1.697675080547986, 1.2200010197570823, 2.971472575990396, 0.3124203042543651, 0.10542821124497352, 0.07358327385891326, 0.9174741145895099, 0.8537842398173894, 0.3124203042543651, 0.26465289817527476, 1.426993112766474, 1.713597549241016, 0.5353348659567869, 0.9174741145895099, 1.713597549241016, 2.446031109120402, 0.7741718963522388, 1.554372862310715, 1.1085437389058714, 0.551257334649817, 0.423877585105576, 1.1403886762919317, 0.8697067085104195, 0.041738336472853015, 0.1531956173240639, 0.9174741145895099, 1.1085437389058714, -0.21302116261562898, 0.43980005379860615, 1.060776332826781, 1.0130089267476907, 0.7582494276592087, 0.9970864580546606, 1.6339852057758655, 1.2836908945292027, 1.6499076744688956, 1.4110706440734437, 2.000201985715558, 0.9970864580546606, 1.188156082371022, 0.7104820215801183, 1.6658301431619258, 1.713597549241016, -0.722540160792593, -0.21302116261562898, -0.9454547224950147, -0.37224584954593026, -1.0409895346531954, -1.247981627662587, -0.21939015009284105, -0.7798610480875015, -0.7543850981786533, 0.009893399086792766, -0.09201040054860003, 0.3920326477195158, -1.0728344720392557, -0.8753958602456822, 0.7582494276592087, 0.44298454753721217, -1.0155135847443473, -1.1301553593341642, -0.7862300355647135, 0.009893399086792766, -0.9040563038931364, -1.493187645535251, -0.10474837550302414, -0.37224584954593026, -0.7384626294856231, -0.722540160792593, -0.9454547224950147, -0.8021525042577436, -0.5887914237711399, -0.21302116261562898, -0.38816831823896036, -0.849919910336834, -0.9454547224950147, -0.8021525042577436, -1.4549737206719788, -1.2798265650486473, 0.6053937282061195, -0.38816831823896036, -1.0155135847443473, -0.2767110373877495, -1.0855724469936798, -0.11748635045744824, -0.5887914237711399, -0.9836686473582871, -1.0569120033462256, -0.2384971125244772, -1.375361377206828, -0.7543850981786533, -0.8244439604279857, -1.3849148584226463, -0.21302116261562898, -0.5887914237711399, -1.343516439820768, -0.44548920553386884, -0.9964066223127112, -1.1524468155044063, -1.0823879532550738, -0.8021525042577436, -1.2798265650486473, -1.1938452341062846, -0.5824224362939279, -0.38816831823896036, -0.8976873164159244, -1.216136690276527, -1.1683692841974365, -1.1683692841974365, -1.1747382716746486, -1.2575351088784053, -0.8945028226773183, -1.2893800462644653, -0.5314705364762314, -0.37224584954593026, -0.6906952234065328, -0.595160411248352, -0.467780661704111, -0.30855597477380975, -0.16525375653653862, -0.08564141307138798, -0.7384626294856231, -0.5314705364762314, -0.49962559909017124, -0.467780661704111, 0.10542821124497352, -0.722540160792593, -0.6270053486344123, 0.3442652416404254, 0.26465289817527476, -1.0569120033462256, -0.38816831823896036, -0.30855597477380975, -0.6270053486344123, -0.7862300355647135, -0.849919910336834, -1.0250670659601653, -0.2289436313086591, -0.34040091215987, -0.06971894437835786, -0.849919910336834, 0.423877585105576, -0.2767110373877495, -0.40409078693199046, -0.722540160792593, -0.21302116261562898, -0.5633154738622917, -0.2289436313086591, -0.4200132556250206, -0.722540160792593, -0.16525375653653862, -0.19709869392259885, 0.009893399086792766, -0.37224584954593026, -0.7543850981786533, -0.8817648477228942, -0.2767110373877495, -0.021951538299267485, 0.009893399086792766, 0.28057536686830487, 0.296497835561335, -0.595160411248352], [-1.213943648188639, -1.213943648188639, -1.213943648188639, -1.213943648188639, -1.213943648188639, -1.213943648188639, -1.213943648188639, -1.213943648188639, -1.213943648188639, -1.213943648188639, -1.213943648188639, -1.213943648188639, -1.213943648188639, -1.213943648188639, -1.213943648188639, -1.213943648188639, -1.213943648188639, -1.213943648188639, -1.213943648188639, -1.213943648188639, -1.213943648188639, -1.213943648188639, -1.213943648188639, -1.213943648188639, -1.213943648188639, -1.213943648188639, -1.213943648188639, -1.213943648188639, -1.213943648188639, -1.213943648188639, -1.213943648188639, -1.213943648188639, -1.213943648188639, -1.213943648188639, -1.213943648188639, -1.213943648188639, -1.213943648188639, -1.213943648188639, -1.213943648188639, -1.213943648188639, -1.213943648188639, -1.213943648188639, -1.213943648188639, -1.213943648188639, -1.213943648188639, -1.213943648188639, -1.213943648188639, -1.213943648188639, -1.213943648188639, -1.213943648188639, -1.213943648188639, -1.213943648188639, -1.213943648188639, -1.213943648188639, -1.213943648188639, -1.213943648188639, -1.213943648188639, -1.213943648188639, -1.213943648188639, 0.07996036006032957, 0.07996036006032957, 0.07996036006032957, 0.07996036006032957, 0.07996036006032957, 0.07996036006032957, 0.07996036006032957, 0.07996036006032957, 0.07996036006032957, 0.07996036006032957, 0.07996036006032957, 0.07996036006032957, 0.07996036006032957, 0.07996036006032957, 0.07996036006032957, 0.07996036006032957, 0.07996036006032957, 0.07996036006032957, 0.07996036006032957, 0.07996036006032957, 0.07996036006032957, 0.07996036006032957, 0.07996036006032957, 0.07996036006032957, 0.07996036006032957, 0.07996036006032957, 0.07996036006032957, 0.07996036006032957, 0.07996036006032957, 0.07996036006032957, 0.07996036006032957, 0.07996036006032957, 0.07996036006032957, 0.07996036006032957, 0.07996036006032957, 0.07996036006032957, 0.07996036006032957, 0.07996036006032957, 0.07996036006032957, 0.07996036006032957, 0.07996036006032957, 0.07996036006032957, 0.07996036006032957, 0.07996036006032957, 0.07996036006032957, 0.07996036006032957, 0.07996036006032957, 0.07996036006032957, 0.07996036006032957, 0.07996036006032957, 0.07996036006032957, 0.07996036006032957, 0.07996036006032957, 0.07996036006032957, 0.07996036006032957, 0.07996036006032957, 0.07996036006032957, 0.07996036006032957, 0.07996036006032957, 0.07996036006032957, 0.07996036006032957, 0.07996036006032957, 0.07996036006032957, 0.07996036006032957, 0.07996036006032957, 0.07996036006032957, 0.07996036006032957, 0.07996036006032957, 0.07996036006032957, 0.07996036006032957, 0.07996036006032957, 1.3738643683092981, 1.3738643683092981, 1.3738643683092981, 1.3738643683092981, 1.3738643683092981, 1.3738643683092981, 1.3738643683092981, 1.3738643683092981, 1.3738643683092981, 1.3738643683092981, 1.3738643683092981, 1.3738643683092981, 1.3738643683092981, 1.3738643683092981, 1.3738643683092981, 1.3738643683092981, 1.3738643683092981, 1.3738643683092981, 1.3738643683092981, 1.3738643683092981, 1.3738643683092981, 1.3738643683092981, 1.3738643683092981, 1.3738643683092981, 1.3738643683092981, 1.3738643683092981, 1.3738643683092981, 1.3738643683092981, 1.3738643683092981, 1.3738643683092981, 1.3738643683092981, 1.3738643683092981, 1.3738643683092981, 1.3738643683092981, 1.3738643683092981, 1.3738643683092981, 1.3738643683092981, 1.3738643683092981, 1.3738643683092981, 1.3738643683092981, 1.3738643683092981, 1.3738643683092981, 1.3738643683092981, 1.3738643683092981, 1.3738643683092981, 1.3738643683092981, 1.3738643683092981, 1.3738643683092981]], \"zmax\": 3, \"zmin\": -3}],\n",
       "                        {\"autosize\": false, \"height\": 750, \"paper_bgcolor\": \"rgb(0,0,0,0)\", \"plot_bgcolor\": \"rgb(0,0,0,0)\", \"template\": {\"data\": {\"bar\": [{\"error_x\": {\"color\": \"#2a3f5f\"}, \"error_y\": {\"color\": \"#2a3f5f\"}, \"marker\": {\"line\": {\"color\": \"#E5ECF6\", \"width\": 0.5}}, \"type\": \"bar\"}], \"barpolar\": [{\"marker\": {\"line\": {\"color\": \"#E5ECF6\", \"width\": 0.5}}, \"type\": \"barpolar\"}], \"carpet\": [{\"aaxis\": {\"endlinecolor\": \"#2a3f5f\", \"gridcolor\": \"white\", \"linecolor\": \"white\", \"minorgridcolor\": \"white\", \"startlinecolor\": \"#2a3f5f\"}, \"baxis\": {\"endlinecolor\": \"#2a3f5f\", \"gridcolor\": \"white\", \"linecolor\": \"white\", \"minorgridcolor\": \"white\", \"startlinecolor\": \"#2a3f5f\"}, \"type\": \"carpet\"}], \"choropleth\": [{\"colorbar\": {\"outlinewidth\": 0, \"ticks\": \"\"}, \"type\": \"choropleth\"}], \"contour\": [{\"colorbar\": {\"outlinewidth\": 0, \"ticks\": \"\"}, \"colorscale\": [[0.0, \"#0d0887\"], [0.1111111111111111, \"#46039f\"], [0.2222222222222222, \"#7201a8\"], [0.3333333333333333, \"#9c179e\"], [0.4444444444444444, \"#bd3786\"], [0.5555555555555556, \"#d8576b\"], [0.6666666666666666, \"#ed7953\"], [0.7777777777777778, \"#fb9f3a\"], [0.8888888888888888, \"#fdca26\"], [1.0, \"#f0f921\"]], \"type\": \"contour\"}], \"contourcarpet\": [{\"colorbar\": {\"outlinewidth\": 0, \"ticks\": \"\"}, \"type\": \"contourcarpet\"}], \"heatmap\": [{\"colorbar\": {\"outlinewidth\": 0, \"ticks\": \"\"}, \"colorscale\": [[0.0, \"#0d0887\"], [0.1111111111111111, \"#46039f\"], [0.2222222222222222, \"#7201a8\"], [0.3333333333333333, \"#9c179e\"], [0.4444444444444444, \"#bd3786\"], [0.5555555555555556, \"#d8576b\"], [0.6666666666666666, \"#ed7953\"], [0.7777777777777778, \"#fb9f3a\"], [0.8888888888888888, \"#fdca26\"], [1.0, \"#f0f921\"]], \"type\": \"heatmap\"}], \"heatmapgl\": [{\"colorbar\": {\"outlinewidth\": 0, \"ticks\": \"\"}, \"colorscale\": [[0.0, \"#0d0887\"], [0.1111111111111111, \"#46039f\"], [0.2222222222222222, \"#7201a8\"], [0.3333333333333333, \"#9c179e\"], [0.4444444444444444, \"#bd3786\"], [0.5555555555555556, \"#d8576b\"], [0.6666666666666666, \"#ed7953\"], [0.7777777777777778, \"#fb9f3a\"], [0.8888888888888888, \"#fdca26\"], [1.0, \"#f0f921\"]], \"type\": \"heatmapgl\"}], \"histogram\": [{\"marker\": {\"colorbar\": {\"outlinewidth\": 0, \"ticks\": \"\"}}, \"type\": \"histogram\"}], \"histogram2d\": [{\"colorbar\": {\"outlinewidth\": 0, \"ticks\": \"\"}, \"colorscale\": [[0.0, \"#0d0887\"], [0.1111111111111111, \"#46039f\"], [0.2222222222222222, \"#7201a8\"], [0.3333333333333333, \"#9c179e\"], [0.4444444444444444, \"#bd3786\"], [0.5555555555555556, \"#d8576b\"], [0.6666666666666666, \"#ed7953\"], [0.7777777777777778, \"#fb9f3a\"], [0.8888888888888888, \"#fdca26\"], [1.0, \"#f0f921\"]], \"type\": \"histogram2d\"}], \"histogram2dcontour\": [{\"colorbar\": {\"outlinewidth\": 0, \"ticks\": \"\"}, \"colorscale\": [[0.0, \"#0d0887\"], [0.1111111111111111, \"#46039f\"], [0.2222222222222222, \"#7201a8\"], [0.3333333333333333, \"#9c179e\"], [0.4444444444444444, \"#bd3786\"], [0.5555555555555556, \"#d8576b\"], [0.6666666666666666, \"#ed7953\"], [0.7777777777777778, \"#fb9f3a\"], [0.8888888888888888, \"#fdca26\"], [1.0, \"#f0f921\"]], \"type\": \"histogram2dcontour\"}], \"mesh3d\": [{\"colorbar\": {\"outlinewidth\": 0, \"ticks\": \"\"}, \"type\": \"mesh3d\"}], \"parcoords\": [{\"line\": {\"colorbar\": {\"outlinewidth\": 0, \"ticks\": \"\"}}, \"type\": \"parcoords\"}], \"pie\": [{\"automargin\": true, \"type\": \"pie\"}], \"scatter\": [{\"marker\": {\"colorbar\": {\"outlinewidth\": 0, \"ticks\": \"\"}}, \"type\": \"scatter\"}], \"scatter3d\": [{\"line\": {\"colorbar\": {\"outlinewidth\": 0, \"ticks\": \"\"}}, \"marker\": {\"colorbar\": {\"outlinewidth\": 0, \"ticks\": \"\"}}, \"type\": \"scatter3d\"}], \"scattercarpet\": [{\"marker\": {\"colorbar\": {\"outlinewidth\": 0, \"ticks\": \"\"}}, \"type\": \"scattercarpet\"}], \"scattergeo\": [{\"marker\": {\"colorbar\": {\"outlinewidth\": 0, \"ticks\": \"\"}}, \"type\": \"scattergeo\"}], \"scattergl\": [{\"marker\": {\"colorbar\": {\"outlinewidth\": 0, \"ticks\": \"\"}}, \"type\": \"scattergl\"}], \"scattermapbox\": [{\"marker\": {\"colorbar\": {\"outlinewidth\": 0, \"ticks\": \"\"}}, \"type\": \"scattermapbox\"}], \"scatterpolar\": [{\"marker\": {\"colorbar\": {\"outlinewidth\": 0, \"ticks\": \"\"}}, \"type\": \"scatterpolar\"}], \"scatterpolargl\": [{\"marker\": {\"colorbar\": {\"outlinewidth\": 0, \"ticks\": \"\"}}, \"type\": \"scatterpolargl\"}], \"scatterternary\": [{\"marker\": {\"colorbar\": {\"outlinewidth\": 0, \"ticks\": \"\"}}, \"type\": \"scatterternary\"}], \"surface\": [{\"colorbar\": {\"outlinewidth\": 0, \"ticks\": \"\"}, \"colorscale\": [[0.0, \"#0d0887\"], [0.1111111111111111, \"#46039f\"], [0.2222222222222222, \"#7201a8\"], [0.3333333333333333, \"#9c179e\"], [0.4444444444444444, \"#bd3786\"], [0.5555555555555556, \"#d8576b\"], [0.6666666666666666, \"#ed7953\"], [0.7777777777777778, \"#fb9f3a\"], [0.8888888888888888, \"#fdca26\"], [1.0, \"#f0f921\"]], \"type\": \"surface\"}], \"table\": [{\"cells\": {\"fill\": {\"color\": \"#EBF0F8\"}, \"line\": {\"color\": \"white\"}}, \"header\": {\"fill\": {\"color\": \"#C8D4E3\"}, \"line\": {\"color\": \"white\"}}, \"type\": \"table\"}]}, \"layout\": {\"annotationdefaults\": {\"arrowcolor\": \"#2a3f5f\", \"arrowhead\": 0, \"arrowwidth\": 1}, \"coloraxis\": {\"colorbar\": {\"outlinewidth\": 0, \"ticks\": \"\"}}, \"colorscale\": {\"diverging\": [[0, \"#8e0152\"], [0.1, \"#c51b7d\"], [0.2, \"#de77ae\"], [0.3, \"#f1b6da\"], [0.4, \"#fde0ef\"], [0.5, \"#f7f7f7\"], [0.6, \"#e6f5d0\"], [0.7, \"#b8e186\"], [0.8, \"#7fbc41\"], [0.9, \"#4d9221\"], [1, \"#276419\"]], \"sequential\": [[0.0, \"#0d0887\"], [0.1111111111111111, \"#46039f\"], [0.2222222222222222, \"#7201a8\"], [0.3333333333333333, \"#9c179e\"], [0.4444444444444444, \"#bd3786\"], [0.5555555555555556, \"#d8576b\"], [0.6666666666666666, \"#ed7953\"], [0.7777777777777778, \"#fb9f3a\"], [0.8888888888888888, \"#fdca26\"], [1.0, \"#f0f921\"]], \"sequentialminus\": [[0.0, \"#0d0887\"], [0.1111111111111111, \"#46039f\"], [0.2222222222222222, \"#7201a8\"], [0.3333333333333333, \"#9c179e\"], [0.4444444444444444, \"#bd3786\"], [0.5555555555555556, \"#d8576b\"], [0.6666666666666666, \"#ed7953\"], [0.7777777777777778, \"#fb9f3a\"], [0.8888888888888888, \"#fdca26\"], [1.0, \"#f0f921\"]]}, \"colorway\": [\"#636efa\", \"#EF553B\", \"#00cc96\", \"#ab63fa\", \"#FFA15A\", \"#19d3f3\", \"#FF6692\", \"#B6E880\", \"#FF97FF\", \"#FECB52\"], \"font\": {\"color\": \"#2a3f5f\"}, \"geo\": {\"bgcolor\": \"white\", \"lakecolor\": \"white\", \"landcolor\": \"#E5ECF6\", \"showlakes\": true, \"showland\": true, \"subunitcolor\": \"white\"}, \"hoverlabel\": {\"align\": \"left\"}, \"hovermode\": \"closest\", \"mapbox\": {\"style\": \"light\"}, \"paper_bgcolor\": \"white\", \"plot_bgcolor\": \"#E5ECF6\", \"polar\": {\"angularaxis\": {\"gridcolor\": \"white\", \"linecolor\": \"white\", \"ticks\": \"\"}, \"bgcolor\": \"#E5ECF6\", \"radialaxis\": {\"gridcolor\": \"white\", \"linecolor\": \"white\", \"ticks\": \"\"}}, \"scene\": {\"xaxis\": {\"backgroundcolor\": \"#E5ECF6\", \"gridcolor\": \"white\", \"gridwidth\": 2, \"linecolor\": \"white\", \"showbackground\": true, \"ticks\": \"\", \"zerolinecolor\": \"white\"}, \"yaxis\": {\"backgroundcolor\": \"#E5ECF6\", \"gridcolor\": \"white\", \"gridwidth\": 2, \"linecolor\": \"white\", \"showbackground\": true, \"ticks\": \"\", \"zerolinecolor\": \"white\"}, \"zaxis\": {\"backgroundcolor\": \"#E5ECF6\", \"gridcolor\": \"white\", \"gridwidth\": 2, \"linecolor\": \"white\", \"showbackground\": true, \"ticks\": \"\", \"zerolinecolor\": \"white\"}}, \"shapedefaults\": {\"line\": {\"color\": \"#2a3f5f\"}}, \"ternary\": {\"aaxis\": {\"gridcolor\": \"white\", \"linecolor\": \"white\", \"ticks\": \"\"}, \"baxis\": {\"gridcolor\": \"white\", \"linecolor\": \"white\", \"ticks\": \"\"}, \"bgcolor\": \"#E5ECF6\", \"caxis\": {\"gridcolor\": \"white\", \"linecolor\": \"white\", \"ticks\": \"\"}}, \"title\": {\"x\": 0.05}, \"xaxis\": {\"automargin\": true, \"gridcolor\": \"white\", \"linecolor\": \"white\", \"ticks\": \"\", \"title\": {\"standoff\": 15}, \"zerolinecolor\": \"white\", \"zerolinewidth\": 2}, \"yaxis\": {\"automargin\": true, \"gridcolor\": \"white\", \"linecolor\": \"white\", \"ticks\": \"\", \"title\": {\"standoff\": 15}, \"zerolinecolor\": \"white\", \"zerolinewidth\": 2}}}, \"title\": {\"font\": {\"size\": 25}, \"text\": \"Data Heatmap\"}, \"width\": 750, \"xaxis\": {\"showgrid\": false, \"ticks\": \"\", \"title\": {\"text\": \"Record #\"}}, \"yaxis\": {\"automargin\": true, \"showgrid\": false, \"ticks\": \"\", \"title\": {\"text\": \"Variable\"}}},\n",
       "                        {\"displayModeBar\": false, \"responsive\": true}\n",
       "                    ).then(function(){\n",
       "                            \n",
       "var gd = document.getElementById('0ce6189a-0d3e-4f25-9b95-4ab4df035d8d');\n",
       "var x = new MutationObserver(function (mutations, observer) {{\n",
       "        var display = window.getComputedStyle(gd).display;\n",
       "        if (!display || display === 'none') {{\n",
       "            console.log([gd, 'removed!']);\n",
       "            Plotly.purge(gd);\n",
       "            observer.disconnect();\n",
       "        }}\n",
       "}});\n",
       "\n",
       "// Listen for the removal of the full notebook cells\n",
       "var notebookContainer = gd.closest('#notebook-container');\n",
       "if (notebookContainer) {{\n",
       "    x.observe(notebookContainer, {childList: true});\n",
       "}}\n",
       "\n",
       "// Listen for the clearing of the current output cell\n",
       "var outputEl = gd.closest('.output');\n",
       "if (outputEl) {{\n",
       "    x.observe(outputEl, {childList: true});\n",
       "}}\n",
       "\n",
       "                        })\n",
       "                };\n",
       "                });\n",
       "            </script>\n",
       "        </div>"
      ]
     },
     "metadata": {},
     "output_type": "display_data"
    }
   ],
   "source": [
    "data_heatmap(df, viz_backend=\"plotly\")"
   ]
  }
 ],
 "metadata": {
  "kernelspec": {
   "display_name": "Python 3",
   "language": "python",
   "name": "python3"
  },
  "language_info": {
   "codemirror_mode": {
    "name": "ipython",
    "version": 3
   },
   "file_extension": ".py",
   "mimetype": "text/x-python",
   "name": "python",
   "nbconvert_exporter": "python",
   "pygments_lexer": "ipython3",
   "version": "3.7.7"
  },
  "papermill": {
   "duration": 20.093282,
   "end_time": "2020-08-06T21:11:46.652957",
   "environment_variables": {},
   "exception": null,
   "input_path": "/Users/richardtruong-chau/Projects/data-describe/examples/Data_Heatmap.ipynb",
   "output_path": "/Users/richardtruong-chau/Projects/data-describe/examples/Data_Heatmap.ipynb",
   "parameters": {},
   "start_time": "2020-08-06T21:11:26.559675",
   "version": "2.1.2"
  }
 },
 "nbformat": 4,
 "nbformat_minor": 4
}