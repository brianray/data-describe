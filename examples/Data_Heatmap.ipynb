{
 "cells": [
  {
   "cell_type": "markdown",
   "metadata": {
    "papermill": {
     "duration": 0.010897,
     "end_time": "2020-12-18T20:58:13.680812",
     "exception": false,
     "start_time": "2020-12-18T20:58:13.669915",
     "status": "completed"
    },
    "tags": []
   },
   "source": [
    "# Data Heatmap"
   ]
  },
  {
   "cell_type": "code",
   "execution_count": 1,
   "metadata": {
    "execution": {
     "iopub.execute_input": "2020-12-18T20:58:13.708699Z",
     "iopub.status.busy": "2020-12-18T20:58:13.707602Z",
     "iopub.status.idle": "2020-12-18T20:58:15.649092Z",
     "shell.execute_reply": "2020-12-18T20:58:15.649516Z"
    },
    "papermill": {
     "duration": 0.62957,
     "end_time": "2020-12-18T20:58:14.316835",
     "exception": false,
     "start_time": "2020-12-18T20:58:13.687265",
     "status": "completed"
    },
    "tags": []
   },
   "outputs": [],
   "source": [
    "import pandas as pd\n",
    "from data_describe import data_heatmap"
   ]
  },
  {
   "cell_type": "code",
   "execution_count": null,
   "metadata": {
    "execution": {
     "iopub.execute_input": "2020-10-29T02:54:57.949328Z",
     "iopub.status.busy": "2020-10-29T02:54:57.948330Z",
     "iopub.status.idle": "2020-10-29T02:54:58.013364Z",
     "shell.execute_reply": "2020-10-29T02:54:58.013364Z"
    },
    "papermill": {
     "duration": null,
     "end_time": null,
     "exception": null,
     "start_time": null,
     "status": "completed"
    },
    "tags": []
   },
   "outputs": [],
   "source": [
    "from sklearn.datasets import load_wine\n",
    "data = load_wine()\n",
    "df = pd.DataFrame(data.data, columns=list(data.feature_names))\n",
    "df['target'] = data.target"
   ]
  },
  {
   "cell_type": "markdown",
   "metadata": {
    "papermill": {
     "duration": null,
     "end_time": null,
     "exception": null,
     "start_time": null,
     "status": "completed"
    },
    "tags": []
   },
   "source": [
    "## Basic heatmap"
   ]
  },
  {
   "cell_type": "code",
   "execution_count": null,
   "metadata": {
    "execution": {
     "iopub.execute_input": "2020-10-29T02:54:58.056332Z",
     "iopub.status.busy": "2020-10-29T02:54:58.055331Z",
     "iopub.status.idle": "2020-10-29T02:54:58.651336Z",
     "shell.execute_reply": "2020-10-29T02:54:58.652333Z"
    },
    "papermill": {
     "duration": null,
     "end_time": null,
     "exception": null,
     "start_time": null,
     "status": "completed"
    },
    "tags": []
   },
   "outputs": [],
   "source": [
    "data_heatmap(df)"
   ]
  },
  {
   "cell_type": "markdown",
   "metadata": {
    "papermill": {
     "duration": null,
     "end_time": null,
     "exception": null,
     "start_time": null,
     "status": "completed"
    },
    "tags": []
   },
   "source": [
    "## Missing values only"
   ]
  },
  {
   "cell_type": "code",
   "execution_count": null,
   "metadata": {
    "execution": {
     "iopub.execute_input": "2020-10-29T02:54:58.705358Z",
     "iopub.status.busy": "2020-10-29T02:54:58.704334Z",
     "iopub.status.idle": "2020-10-29T02:54:58.708370Z",
     "shell.execute_reply": "2020-10-29T02:54:58.707337Z"
    },
    "papermill": {
     "duration": null,
     "end_time": null,
     "exception": null,
     "start_time": null,
     "status": "completed"
    },
    "tags": []
   },
   "outputs": [],
   "source": [
    "# Create missing values\n",
    "df['hue'] = df['hue'].map(lambda x: None if x < 1.05 else x)\n",
    "df['magnesium'] = df['magnesium'].map(lambda x: None if x%2 ==0 else x)"
   ]
  },
  {
   "cell_type": "code",
   "execution_count": null,
   "metadata": {
    "execution": {
     "iopub.execute_input": "2020-10-29T02:54:58.766334Z",
     "iopub.status.busy": "2020-10-29T02:54:58.764336Z",
     "iopub.status.idle": "2020-10-29T02:54:59.050333Z",
     "shell.execute_reply": "2020-10-29T02:54:59.049335Z"
    },
    "papermill": {
     "duration": null,
     "end_time": null,
     "exception": null,
     "start_time": null,
     "status": "completed"
    },
    "tags": []
   },
   "outputs": [],
   "source": [
    "data_heatmap(df, missing=True)"
   ]
  },
  {
   "cell_type": "markdown",
   "metadata": {
    "papermill": {
     "duration": null,
     "end_time": null,
     "exception": null,
     "start_time": null,
     "status": "completed"
    },
    "tags": []
   },
   "source": [
    "## Interactive (Plotly)"
   ]
  },
  {
   "cell_type": "code",
   "execution_count": null,
   "metadata": {
    "execution": {
     "iopub.execute_input": "2020-10-29T02:54:59.111336Z",
     "iopub.status.busy": "2020-10-29T02:54:59.110337Z",
     "iopub.status.idle": "2020-10-29T02:55:02.435331Z",
     "shell.execute_reply": "2020-10-29T02:55:02.433329Z"
    },
    "papermill": {
     "duration": null,
     "end_time": null,
     "exception": null,
     "start_time": null,
     "status": "completed"
    },
    "tags": []
   },
   "outputs": [],
   "source": [
    "data_heatmap(df, viz_backend=\"plotly\")"
   ]
  },
  {
   "cell_type": "code",
   "execution_count": null,
   "metadata": {
    "execution": {
     "iopub.execute_input": "2020-10-29T02:55:02.514335Z",
     "iopub.status.busy": "2020-10-29T02:55:02.513337Z",
     "iopub.status.idle": "2020-10-29T02:55:02.575336Z",
     "shell.execute_reply": "2020-10-29T02:55:02.576331Z"
    },
    "papermill": {
     "duration": null,
     "end_time": null,
     "exception": null,
     "start_time": null,
     "status": "completed"
    },
    "tags": []
   },
   "outputs": [],
   "source": [
    "data_heatmap(df, viz_backend=\"plotly\", missing=True)"
   ]
  }
 ],
 "metadata": {
  "kernelspec": {
   "display_name": "Python 3",
   "language": "python",
   "name": "python3"
  },
  "language_info": {
   "codemirror_mode": {
    "name": "ipython",
    "version": 3
   },
   "file_extension": ".py",
   "mimetype": "text/x-python",
   "name": "python",
   "nbconvert_exporter": "python",
   "pygments_lexer": "ipython3",
   "version": "3.7.9"
  },
  "papermill": {
   "default_parameters": {},
   "duration": 3.994286,
   "end_time": "2020-12-18T20:58:16.060865",
   "environment_variables": {},
   "exception": null,
   "input_path": "/Users/richardtruong-chau/Projects/data-describe/examples/Data_Heatmap.ipynb",
   "output_path": "/Users/richardtruong-chau/Projects/data-describe/examples/Data_Heatmap.ipynb",
   "parameters": {},
   "start_time": "2020-12-18T20:58:12.066579",
   "version": "2.2.0"
  },
  "widgets": {
   "application/vnd.jupyter.widget-state+json": {
    "state": {},
    "version_major": 2,
    "version_minor": 0
   }
  }
 },
 "nbformat": 4,
 "nbformat_minor": 4
}