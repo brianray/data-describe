{
 "cells": [
  {
   "cell_type": "markdown",
   "metadata": {
    "papermill": {
     "duration": 0.020577,
     "end_time": "2020-08-06T21:10:48.990416",
     "exception": false,
     "start_time": "2020-08-06T21:10:48.969839",
     "status": "completed"
    },
    "tags": []
   },
   "source": [
    "# Text Preprocessing"
   ]
  },
  {
   "cell_type": "code",
   "execution_count": 1,
   "metadata": {
    "execution": {
     "iopub.execute_input": "2020-08-06T21:10:49.022892Z",
     "iopub.status.busy": "2020-08-06T21:10:49.022287Z",
     "iopub.status.idle": "2020-08-06T21:10:53.814286Z",
     "shell.execute_reply": "2020-08-06T21:10:53.814750Z"
    },
    "papermill": {
     "duration": 4.810393,
     "end_time": "2020-08-06T21:10:53.815068",
     "exception": false,
     "start_time": "2020-08-06T21:10:49.004675",
     "status": "completed"
    },
    "tags": []
   },
   "outputs": [],
   "source": [
    "%%capture\n",
    "\n",
    "import pandas as pd\n",
    "from data_describe.text.text_preprocessing import *\n",
    "from data_describe.utilities.load_data import load_data"
   ]
  },
  {
   "cell_type": "markdown",
   "metadata": {
    "papermill": {
     "duration": 0.013132,
     "end_time": "2020-08-06T21:10:53.842652",
     "exception": false,
     "start_time": "2020-08-06T21:10:53.829520",
     "status": "completed"
    },
    "tags": []
   },
   "source": [
    "## Load Data"
   ]
  },
  {
   "cell_type": "code",
   "execution_count": 2,
   "metadata": {
    "execution": {
     "iopub.execute_input": "2020-08-06T21:10:53.878030Z",
     "iopub.status.busy": "2020-08-06T21:10:53.877465Z",
     "iopub.status.idle": "2020-08-06T21:10:54.147181Z",
     "shell.execute_reply": "2020-08-06T21:10:54.147625Z"
    },
    "papermill": {
     "duration": 0.291988,
     "end_time": "2020-08-06T21:10:54.147789",
     "exception": false,
     "start_time": "2020-08-06T21:10:53.855801",
     "status": "completed"
    },
    "tags": []
   },
   "outputs": [],
   "source": [
    "from sklearn.datasets import fetch_20newsgroups\n",
    "categories = ['alt.atheism']\n",
    "newsgroups = fetch_20newsgroups(subset='train', categories=categories)['data']"
   ]
  },
  {
   "cell_type": "code",
   "execution_count": 3,
   "metadata": {
    "execution": {
     "iopub.execute_input": "2020-08-06T21:10:54.180340Z",
     "iopub.status.busy": "2020-08-06T21:10:54.179361Z",
     "iopub.status.idle": "2020-08-06T21:10:54.182720Z",
     "shell.execute_reply": "2020-08-06T21:10:54.183097Z"
    },
    "papermill": {
     "duration": 0.021881,
     "end_time": "2020-08-06T21:10:54.183237",
     "exception": false,
     "start_time": "2020-08-06T21:10:54.161356",
     "status": "completed"
    },
    "tags": []
   },
   "outputs": [
    {
     "data": {
      "text/plain": [
       "'From: darice@yoyo.cc.monash.edu.au (Fred Rice)\\nSubject: Re: Islam & Dress Code for women\\nOrganizatio'"
      ]
     },
     "execution_count": 3,
     "metadata": {},
     "output_type": "execute_result"
    }
   ],
   "source": [
    "newsgroups[0][:100]"
   ]
  },
  {
   "cell_type": "markdown",
   "metadata": {
    "papermill": {
     "duration": 0.013846,
     "end_time": "2020-08-06T21:10:54.210744",
     "exception": false,
     "start_time": "2020-08-06T21:10:54.196898",
     "status": "completed"
    },
    "tags": []
   },
   "source": [
    "## Tokenize"
   ]
  },
  {
   "cell_type": "code",
   "execution_count": 4,
   "metadata": {
    "execution": {
     "iopub.execute_input": "2020-08-06T21:10:54.241711Z",
     "iopub.status.busy": "2020-08-06T21:10:54.241086Z",
     "iopub.status.idle": "2020-08-06T21:10:55.624319Z",
     "shell.execute_reply": "2020-08-06T21:10:55.624910Z"
    },
    "papermill": {
     "duration": 1.400703,
     "end_time": "2020-08-06T21:10:55.625078",
     "exception": false,
     "start_time": "2020-08-06T21:10:54.224375",
     "status": "completed"
    },
    "tags": []
   },
   "outputs": [],
   "source": [
    "newsgroups_tokens = tokenize(newsgroups)"
   ]
  },
  {
   "cell_type": "code",
   "execution_count": 5,
   "metadata": {
    "execution": {
     "iopub.execute_input": "2020-08-06T21:10:55.656982Z",
     "iopub.status.busy": "2020-08-06T21:10:55.656213Z",
     "iopub.status.idle": "2020-08-06T21:10:55.659156Z",
     "shell.execute_reply": "2020-08-06T21:10:55.659531Z"
    },
    "papermill": {
     "duration": 0.020909,
     "end_time": "2020-08-06T21:10:55.659673",
     "exception": false,
     "start_time": "2020-08-06T21:10:55.638764",
     "status": "completed"
    },
    "tags": []
   },
   "outputs": [
    {
     "data": {
      "text/plain": [
       "['From',\n",
       " ':',\n",
       " 'darice',\n",
       " '@',\n",
       " 'yoyo.cc.monash.edu.au',\n",
       " '(',\n",
       " 'Fred',\n",
       " 'Rice',\n",
       " ')',\n",
       " 'Subject']"
      ]
     },
     "execution_count": 5,
     "metadata": {},
     "output_type": "execute_result"
    }
   ],
   "source": [
    "newsgroups_tokens[0][:10]"
   ]
  },
  {
   "cell_type": "markdown",
   "metadata": {
    "papermill": {
     "duration": 0.013465,
     "end_time": "2020-08-06T21:10:55.686660",
     "exception": false,
     "start_time": "2020-08-06T21:10:55.673195",
     "status": "completed"
    },
    "tags": []
   },
   "source": [
    "## Change to all lowercase"
   ]
  },
  {
   "cell_type": "code",
   "execution_count": 6,
   "metadata": {
    "execution": {
     "iopub.execute_input": "2020-08-06T21:10:55.746041Z",
     "iopub.status.busy": "2020-08-06T21:10:55.745204Z",
     "iopub.status.idle": "2020-08-06T21:10:55.748560Z",
     "shell.execute_reply": "2020-08-06T21:10:55.749044Z"
    },
    "papermill": {
     "duration": 0.048751,
     "end_time": "2020-08-06T21:10:55.749186",
     "exception": false,
     "start_time": "2020-08-06T21:10:55.700435",
     "status": "completed"
    },
    "tags": []
   },
   "outputs": [
    {
     "data": {
      "text/plain": [
       "['from',\n",
       " ':',\n",
       " 'darice',\n",
       " '@',\n",
       " 'yoyo.cc.monash.edu.au',\n",
       " '(',\n",
       " 'fred',\n",
       " 'rice',\n",
       " ')',\n",
       " 'subject']"
      ]
     },
     "execution_count": 6,
     "metadata": {},
     "output_type": "execute_result"
    }
   ],
   "source": [
    "newsgroups_lower = to_lower(newsgroups_tokens)\n",
    "newsgroups_lower[0][:10]"
   ]
  },
  {
   "cell_type": "markdown",
   "metadata": {
    "papermill": {
     "duration": 0.017399,
     "end_time": "2020-08-06T21:10:55.780608",
     "exception": false,
     "start_time": "2020-08-06T21:10:55.763209",
     "status": "completed"
    },
    "tags": []
   },
   "source": [
    "## Remove punctuation"
   ]
  },
  {
   "cell_type": "code",
   "execution_count": 7,
   "metadata": {
    "execution": {
     "iopub.execute_input": "2020-08-06T21:10:55.939732Z",
     "iopub.status.busy": "2020-08-06T21:10:55.859738Z",
     "iopub.status.idle": "2020-08-06T21:10:56.559551Z",
     "shell.execute_reply": "2020-08-06T21:10:56.560202Z"
    },
    "papermill": {
     "duration": 0.765809,
     "end_time": "2020-08-06T21:10:56.560429",
     "exception": false,
     "start_time": "2020-08-06T21:10:55.794620",
     "status": "completed"
    },
    "tags": []
   },
   "outputs": [
    {
     "data": {
      "text/plain": [
       "['from',\n",
       " 'darice',\n",
       " 'yoyo.cc.monash.edu.au',\n",
       " 'fred',\n",
       " 'rice',\n",
       " 'subject',\n",
       " 're',\n",
       " 'islam',\n",
       " 'dress',\n",
       " 'code']"
      ]
     },
     "execution_count": 7,
     "metadata": {},
     "output_type": "execute_result"
    }
   ],
   "source": [
    "newsgroups_no_punct = remove_punct(newsgroups_lower)\n",
    "newsgroups_no_punct[0][:10]"
   ]
  },
  {
   "cell_type": "markdown",
   "metadata": {
    "papermill": {
     "duration": 0.017238,
     "end_time": "2020-08-06T21:10:56.593806",
     "exception": false,
     "start_time": "2020-08-06T21:10:56.576568",
     "status": "completed"
    },
    "tags": []
   },
   "source": [
    "## Remove digits"
   ]
  },
  {
   "cell_type": "code",
   "execution_count": 8,
   "metadata": {
    "execution": {
     "iopub.execute_input": "2020-08-06T21:10:56.629496Z",
     "iopub.status.busy": "2020-08-06T21:10:56.628664Z",
     "iopub.status.idle": "2020-08-06T21:10:56.631363Z",
     "shell.execute_reply": "2020-08-06T21:10:56.631780Z"
    },
    "papermill": {
     "duration": 0.022563,
     "end_time": "2020-08-06T21:10:56.631979",
     "exception": false,
     "start_time": "2020-08-06T21:10:56.609416",
     "status": "completed"
    },
    "tags": []
   },
   "outputs": [
    {
     "data": {
      "text/plain": [
       "[['this', 'is', '', 'a', 'test', '', 'if', 'it', 'works']]"
      ]
     },
     "execution_count": 8,
     "metadata": {},
     "output_type": "execute_result"
    }
   ],
   "source": [
    "remove_digits([['this', 'is', '3', 'a', 'test', '2c', 'if', 'it', 'works']])"
   ]
  },
  {
   "cell_type": "markdown",
   "metadata": {
    "papermill": {
     "duration": 0.014237,
     "end_time": "2020-08-06T21:10:56.661386",
     "exception": false,
     "start_time": "2020-08-06T21:10:56.647149",
     "status": "completed"
    },
    "tags": []
   },
   "source": [
    "## Remove single characters and spaces"
   ]
  },
  {
   "cell_type": "code",
   "execution_count": 9,
   "metadata": {
    "execution": {
     "iopub.execute_input": "2020-08-06T21:10:56.695545Z",
     "iopub.status.busy": "2020-08-06T21:10:56.694754Z",
     "iopub.status.idle": "2020-08-06T21:10:56.697761Z",
     "shell.execute_reply": "2020-08-06T21:10:56.698252Z"
    },
    "papermill": {
     "duration": 0.022262,
     "end_time": "2020-08-06T21:10:56.698393",
     "exception": false,
     "start_time": "2020-08-06T21:10:56.676131",
     "status": "completed"
    },
    "tags": []
   },
   "outputs": [
    {
     "data": {
      "text/plain": [
       "[['this', 'is', 'test']]"
      ]
     },
     "execution_count": 9,
     "metadata": {},
     "output_type": "execute_result"
    }
   ],
   "source": [
    "remove_single_char_and_spaces([['this', 'is', '   ', 'a', 'test', '   ', 'b']])"
   ]
  },
  {
   "cell_type": "markdown",
   "metadata": {
    "papermill": {
     "duration": 0.015312,
     "end_time": "2020-08-06T21:10:56.731047",
     "exception": false,
     "start_time": "2020-08-06T21:10:56.715735",
     "status": "completed"
    },
    "tags": []
   },
   "source": [
    "## Remove stopwords"
   ]
  },
  {
   "cell_type": "code",
   "execution_count": 10,
   "metadata": {
    "execution": {
     "iopub.execute_input": "2020-08-06T21:10:56.765729Z",
     "iopub.status.busy": "2020-08-06T21:10:56.764854Z",
     "iopub.status.idle": "2020-08-06T21:10:56.783241Z",
     "shell.execute_reply": "2020-08-06T21:10:56.783642Z"
    },
    "papermill": {
     "duration": 0.037638,
     "end_time": "2020-08-06T21:10:56.783796",
     "exception": false,
     "start_time": "2020-08-06T21:10:56.746158",
     "status": "completed"
    },
    "tags": []
   },
   "outputs": [
    {
     "data": {
      "text/plain": [
       "['darice',\n",
       " 'yoyo.cc.monash.edu.au',\n",
       " 'fred',\n",
       " 'rice',\n",
       " 'subject',\n",
       " 'islam',\n",
       " 'dress',\n",
       " 'code',\n",
       " 'women',\n",
       " 'organization']"
      ]
     },
     "execution_count": 10,
     "metadata": {},
     "output_type": "execute_result"
    }
   ],
   "source": [
    "newsgroups_no_stop = remove_stopwords(newsgroups_no_punct)\n",
    "newsgroups_no_stop[0][:10]"
   ]
  },
  {
   "cell_type": "markdown",
   "metadata": {
    "papermill": {
     "duration": 0.01615,
     "end_time": "2020-08-06T21:10:56.815119",
     "exception": false,
     "start_time": "2020-08-06T21:10:56.798969",
     "status": "completed"
    },
    "tags": []
   },
   "source": [
    "## Stem words"
   ]
  },
  {
   "cell_type": "code",
   "execution_count": 11,
   "metadata": {
    "execution": {
     "iopub.execute_input": "2020-08-06T21:10:56.884113Z",
     "iopub.status.busy": "2020-08-06T21:10:56.883568Z",
     "iopub.status.idle": "2020-08-06T21:10:58.253736Z",
     "shell.execute_reply": "2020-08-06T21:10:58.254190Z"
    },
    "papermill": {
     "duration": 1.424157,
     "end_time": "2020-08-06T21:10:58.254378",
     "exception": false,
     "start_time": "2020-08-06T21:10:56.830221",
     "status": "completed"
    },
    "tags": []
   },
   "outputs": [
    {
     "data": {
      "text/plain": [
       "['dar',\n",
       " 'yoyo.cc.monash.edu.au',\n",
       " 'fred',\n",
       " 'ric',\n",
       " 'subject',\n",
       " 'islam',\n",
       " 'dress',\n",
       " 'cod',\n",
       " 'wom',\n",
       " 'org']"
      ]
     },
     "execution_count": 11,
     "metadata": {},
     "output_type": "execute_result"
    }
   ],
   "source": [
    "newsgroups_stemmed = stem(newsgroups_no_stop)\n",
    "newsgroups_stemmed[0][:10]"
   ]
  },
  {
   "cell_type": "markdown",
   "metadata": {
    "papermill": {
     "duration": 0.015027,
     "end_time": "2020-08-06T21:10:58.284511",
     "exception": false,
     "start_time": "2020-08-06T21:10:58.269484",
     "status": "completed"
    },
    "tags": []
   },
   "source": [
    "## Lemmatize words"
   ]
  },
  {
   "cell_type": "code",
   "execution_count": 12,
   "metadata": {
    "execution": {
     "iopub.execute_input": "2020-08-06T21:10:58.319666Z",
     "iopub.status.busy": "2020-08-06T21:10:58.319108Z",
     "iopub.status.idle": "2020-08-06T21:11:00.261084Z",
     "shell.execute_reply": "2020-08-06T21:11:00.261468Z"
    },
    "papermill": {
     "duration": 1.961729,
     "end_time": "2020-08-06T21:11:00.261614",
     "exception": false,
     "start_time": "2020-08-06T21:10:58.299885",
     "status": "completed"
    },
    "tags": []
   },
   "outputs": [
    {
     "data": {
      "text/plain": [
       "['darice',\n",
       " 'yoyo.cc.monash.edu.au',\n",
       " 'fred',\n",
       " 'rice',\n",
       " 'subject',\n",
       " 'islam',\n",
       " 'dress',\n",
       " 'code',\n",
       " 'woman',\n",
       " 'organization']"
      ]
     },
     "execution_count": 12,
     "metadata": {},
     "output_type": "execute_result"
    }
   ],
   "source": [
    "newsgroups_lemmatized = lemmatize(newsgroups_no_stop)\n",
    "newsgroups_lemmatized[0][:10]"
   ]
  },
  {
   "cell_type": "markdown",
   "metadata": {
    "papermill": {
     "duration": 0.015649,
     "end_time": "2020-08-06T21:11:00.292324",
     "exception": false,
     "start_time": "2020-08-06T21:11:00.276675",
     "status": "completed"
    },
    "tags": []
   },
   "source": [
    "## Convert back to a single string"
   ]
  },
  {
   "cell_type": "code",
   "execution_count": 13,
   "metadata": {
    "execution": {
     "iopub.execute_input": "2020-08-06T21:11:00.339382Z",
     "iopub.status.busy": "2020-08-06T21:11:00.338646Z",
     "iopub.status.idle": "2020-08-06T21:11:00.499466Z",
     "shell.execute_reply": "2020-08-06T21:11:00.499910Z"
    },
    "papermill": {
     "duration": 0.192745,
     "end_time": "2020-08-06T21:11:00.500059",
     "exception": false,
     "start_time": "2020-08-06T21:11:00.307314",
     "status": "completed"
    },
    "tags": []
   },
   "outputs": [
    {
     "data": {
      "text/plain": [
       "\"darice yoyo.cc.monash.edu.au fred rice subject islam dress code woman organization monash university melb australia line 120 16ba7103c3.i3150101 dbstu1.rz.tu-bs.de i3150101 dbstu1.rz.tu-bs.de benedikt rosenau writes article 1993apr5.091258.11830 monu6.cc.monash.edu.au darice yoyo.cc.monash.edu.au fred rice writes deletion course people say think religion exactly coming different people within religion nothing existing different perspective within religion perhaps one say tend converge truth point lot harm way meantime converge counterfactual religion appear split diverge even might true religion core layer determine happens practise quite inhumane usually post supposed answer n't see got say repeat religion harm people religion converge split giving disagree upon lot disagreement one tolerant one tolerant ideology also split giving disagree upon may also lead intolerance also oppose ideology n't think argument argument religion point weakness human nature big deletion 2 woman soul isla\""
      ]
     },
     "execution_count": 13,
     "metadata": {},
     "output_type": "execute_result"
    }
   ],
   "source": [
    "newsgroups_docs = bag_of_words_to_docs(newsgroups_lemmatized)\n",
    "newsgroups_docs_no_digits = bag_of_words_to_docs(remove_digits(newsgroups_lemmatized))\n",
    "newsgroups_docs[0][:1000]"
   ]
  },
  {
   "cell_type": "markdown",
   "metadata": {
    "papermill": {
     "duration": 0.018026,
     "end_time": "2020-08-06T21:11:00.533704",
     "exception": false,
     "start_time": "2020-08-06T21:11:00.515678",
     "status": "completed"
    },
    "tags": []
   },
   "source": [
    "## Create a document-word frequency matrix"
   ]
  },
  {
   "cell_type": "code",
   "execution_count": 14,
   "metadata": {
    "execution": {
     "iopub.execute_input": "2020-08-06T21:11:00.602491Z",
     "iopub.status.busy": "2020-08-06T21:11:00.591056Z",
     "iopub.status.idle": "2020-08-06T21:11:00.701439Z",
     "shell.execute_reply": "2020-08-06T21:11:00.702089Z"
    },
    "papermill": {
     "duration": 0.153047,
     "end_time": "2020-08-06T21:11:00.702238",
     "exception": false,
     "start_time": "2020-08-06T21:11:00.549191",
     "status": "completed"
    },
    "tags": []
   },
   "outputs": [
    {
     "data": {
      "text/html": [
       "<div>\n",
       "<style scoped>\n",
       "    .dataframe tbody tr th:only-of-type {\n",
       "        vertical-align: middle;\n",
       "    }\n",
       "\n",
       "    .dataframe tbody tr th {\n",
       "        vertical-align: top;\n",
       "    }\n",
       "\n",
       "    .dataframe thead th {\n",
       "        text-align: right;\n",
       "    }\n",
       "</style>\n",
       "<table border=\"1\" class=\"dataframe\">\n",
       "  <thead>\n",
       "    <tr style=\"text-align: right;\">\n",
       "      <th></th>\n",
       "      <th>00</th>\n",
       "      <th>000</th>\n",
       "      <th>000406</th>\n",
       "      <th>001125</th>\n",
       "      <th>01</th>\n",
       "      <th>0100</th>\n",
       "      <th>010116</th>\n",
       "      <th>011255</th>\n",
       "      <th>012536</th>\n",
       "      <th>013034</th>\n",
       "      <th>...</th>\n",
       "      <th>zlumber</th>\n",
       "      <th>zombie</th>\n",
       "      <th>zoo</th>\n",
       "      <th>zues</th>\n",
       "      <th>zumder</th>\n",
       "      <th>zur</th>\n",
       "      <th>zurlo</th>\n",
       "      <th>zus</th>\n",
       "      <th>zvonko</th>\n",
       "      <th>zyklon</th>\n",
       "    </tr>\n",
       "  </thead>\n",
       "  <tbody>\n",
       "    <tr>\n",
       "      <th>0</th>\n",
       "      <td>0</td>\n",
       "      <td>0</td>\n",
       "      <td>0</td>\n",
       "      <td>0</td>\n",
       "      <td>0</td>\n",
       "      <td>0</td>\n",
       "      <td>0</td>\n",
       "      <td>0</td>\n",
       "      <td>0</td>\n",
       "      <td>0</td>\n",
       "      <td>...</td>\n",
       "      <td>0</td>\n",
       "      <td>0</td>\n",
       "      <td>0</td>\n",
       "      <td>0</td>\n",
       "      <td>0</td>\n",
       "      <td>0</td>\n",
       "      <td>0</td>\n",
       "      <td>0</td>\n",
       "      <td>0</td>\n",
       "      <td>0</td>\n",
       "    </tr>\n",
       "    <tr>\n",
       "      <th>1</th>\n",
       "      <td>0</td>\n",
       "      <td>0</td>\n",
       "      <td>0</td>\n",
       "      <td>0</td>\n",
       "      <td>0</td>\n",
       "      <td>0</td>\n",
       "      <td>0</td>\n",
       "      <td>0</td>\n",
       "      <td>0</td>\n",
       "      <td>0</td>\n",
       "      <td>...</td>\n",
       "      <td>0</td>\n",
       "      <td>0</td>\n",
       "      <td>0</td>\n",
       "      <td>0</td>\n",
       "      <td>0</td>\n",
       "      <td>0</td>\n",
       "      <td>0</td>\n",
       "      <td>0</td>\n",
       "      <td>0</td>\n",
       "      <td>0</td>\n",
       "    </tr>\n",
       "    <tr>\n",
       "      <th>2</th>\n",
       "      <td>0</td>\n",
       "      <td>0</td>\n",
       "      <td>0</td>\n",
       "      <td>0</td>\n",
       "      <td>0</td>\n",
       "      <td>0</td>\n",
       "      <td>0</td>\n",
       "      <td>0</td>\n",
       "      <td>0</td>\n",
       "      <td>0</td>\n",
       "      <td>...</td>\n",
       "      <td>0</td>\n",
       "      <td>0</td>\n",
       "      <td>0</td>\n",
       "      <td>0</td>\n",
       "      <td>0</td>\n",
       "      <td>0</td>\n",
       "      <td>0</td>\n",
       "      <td>0</td>\n",
       "      <td>0</td>\n",
       "      <td>0</td>\n",
       "    </tr>\n",
       "    <tr>\n",
       "      <th>3</th>\n",
       "      <td>0</td>\n",
       "      <td>0</td>\n",
       "      <td>0</td>\n",
       "      <td>0</td>\n",
       "      <td>0</td>\n",
       "      <td>0</td>\n",
       "      <td>0</td>\n",
       "      <td>0</td>\n",
       "      <td>0</td>\n",
       "      <td>0</td>\n",
       "      <td>...</td>\n",
       "      <td>0</td>\n",
       "      <td>0</td>\n",
       "      <td>0</td>\n",
       "      <td>0</td>\n",
       "      <td>0</td>\n",
       "      <td>0</td>\n",
       "      <td>0</td>\n",
       "      <td>0</td>\n",
       "      <td>0</td>\n",
       "      <td>0</td>\n",
       "    </tr>\n",
       "    <tr>\n",
       "      <th>4</th>\n",
       "      <td>0</td>\n",
       "      <td>0</td>\n",
       "      <td>0</td>\n",
       "      <td>0</td>\n",
       "      <td>0</td>\n",
       "      <td>0</td>\n",
       "      <td>0</td>\n",
       "      <td>0</td>\n",
       "      <td>0</td>\n",
       "      <td>0</td>\n",
       "      <td>...</td>\n",
       "      <td>0</td>\n",
       "      <td>0</td>\n",
       "      <td>0</td>\n",
       "      <td>0</td>\n",
       "      <td>0</td>\n",
       "      <td>0</td>\n",
       "      <td>0</td>\n",
       "      <td>0</td>\n",
       "      <td>0</td>\n",
       "      <td>0</td>\n",
       "    </tr>\n",
       "  </tbody>\n",
       "</table>\n",
       "<p>5 rows × 10810 columns</p>\n",
       "</div>"
      ],
      "text/plain": [
       "   00  000  000406  001125  01  0100  010116  011255  012536  013034  ...  \\\n",
       "0   0    0       0       0   0     0       0       0       0       0  ...   \n",
       "1   0    0       0       0   0     0       0       0       0       0  ...   \n",
       "2   0    0       0       0   0     0       0       0       0       0  ...   \n",
       "3   0    0       0       0   0     0       0       0       0       0  ...   \n",
       "4   0    0       0       0   0     0       0       0       0       0  ...   \n",
       "\n",
       "   zlumber  zombie  zoo  zues  zumder  zur  zurlo  zus  zvonko  zyklon  \n",
       "0        0       0    0     0       0    0      0    0       0       0  \n",
       "1        0       0    0     0       0    0      0    0       0       0  \n",
       "2        0       0    0     0       0    0      0    0       0       0  \n",
       "3        0       0    0     0       0    0      0    0       0       0  \n",
       "4        0       0    0     0       0    0      0    0       0       0  \n",
       "\n",
       "[5 rows x 10810 columns]"
      ]
     },
     "execution_count": 14,
     "metadata": {},
     "output_type": "execute_result"
    }
   ],
   "source": [
    "create_doc_term_matrix(newsgroups_docs).head()"
   ]
  },
  {
   "cell_type": "markdown",
   "metadata": {
    "papermill": {
     "duration": 0.017218,
     "end_time": "2020-08-06T21:11:00.736485",
     "exception": false,
     "start_time": "2020-08-06T21:11:00.719267",
     "status": "completed"
    },
    "tags": []
   },
   "source": [
    "## Create a TF-IDF matrix"
   ]
  },
  {
   "cell_type": "code",
   "execution_count": 15,
   "metadata": {
    "execution": {
     "iopub.execute_input": "2020-08-06T21:11:00.793020Z",
     "iopub.status.busy": "2020-08-06T21:11:00.792466Z",
     "iopub.status.idle": "2020-08-06T21:11:00.900467Z",
     "shell.execute_reply": "2020-08-06T21:11:00.900904Z"
    },
    "papermill": {
     "duration": 0.147267,
     "end_time": "2020-08-06T21:11:00.901112",
     "exception": false,
     "start_time": "2020-08-06T21:11:00.753845",
     "status": "completed"
    },
    "tags": []
   },
   "outputs": [
    {
     "data": {
      "text/html": [
       "<div>\n",
       "<style scoped>\n",
       "    .dataframe tbody tr th:only-of-type {\n",
       "        vertical-align: middle;\n",
       "    }\n",
       "\n",
       "    .dataframe tbody tr th {\n",
       "        vertical-align: top;\n",
       "    }\n",
       "\n",
       "    .dataframe thead th {\n",
       "        text-align: right;\n",
       "    }\n",
       "</style>\n",
       "<table border=\"1\" class=\"dataframe\">\n",
       "  <thead>\n",
       "    <tr style=\"text-align: right;\">\n",
       "      <th></th>\n",
       "      <th>_o</th>\n",
       "      <th>aa</th>\n",
       "      <th>aaa</th>\n",
       "      <th>aah</th>\n",
       "      <th>aap</th>\n",
       "      <th>aario</th>\n",
       "      <th>aaron</th>\n",
       "      <th>abandoned</th>\n",
       "      <th>abberation</th>\n",
       "      <th>abc</th>\n",
       "      <th>...</th>\n",
       "      <th>zlumber</th>\n",
       "      <th>zombie</th>\n",
       "      <th>zoo</th>\n",
       "      <th>zues</th>\n",
       "      <th>zumder</th>\n",
       "      <th>zur</th>\n",
       "      <th>zurlo</th>\n",
       "      <th>zus</th>\n",
       "      <th>zvonko</th>\n",
       "      <th>zyklon</th>\n",
       "    </tr>\n",
       "  </thead>\n",
       "  <tbody>\n",
       "    <tr>\n",
       "      <th>0</th>\n",
       "      <td>0.0</td>\n",
       "      <td>0.0</td>\n",
       "      <td>0.0</td>\n",
       "      <td>0.0</td>\n",
       "      <td>0.0</td>\n",
       "      <td>0.0</td>\n",
       "      <td>0.0</td>\n",
       "      <td>0.0</td>\n",
       "      <td>0.0</td>\n",
       "      <td>0.0</td>\n",
       "      <td>...</td>\n",
       "      <td>0.0</td>\n",
       "      <td>0.0</td>\n",
       "      <td>0.0</td>\n",
       "      <td>0.0</td>\n",
       "      <td>0.0</td>\n",
       "      <td>0.0</td>\n",
       "      <td>0.0</td>\n",
       "      <td>0.0</td>\n",
       "      <td>0.0</td>\n",
       "      <td>0.0</td>\n",
       "    </tr>\n",
       "    <tr>\n",
       "      <th>1</th>\n",
       "      <td>0.0</td>\n",
       "      <td>0.0</td>\n",
       "      <td>0.0</td>\n",
       "      <td>0.0</td>\n",
       "      <td>0.0</td>\n",
       "      <td>0.0</td>\n",
       "      <td>0.0</td>\n",
       "      <td>0.0</td>\n",
       "      <td>0.0</td>\n",
       "      <td>0.0</td>\n",
       "      <td>...</td>\n",
       "      <td>0.0</td>\n",
       "      <td>0.0</td>\n",
       "      <td>0.0</td>\n",
       "      <td>0.0</td>\n",
       "      <td>0.0</td>\n",
       "      <td>0.0</td>\n",
       "      <td>0.0</td>\n",
       "      <td>0.0</td>\n",
       "      <td>0.0</td>\n",
       "      <td>0.0</td>\n",
       "    </tr>\n",
       "    <tr>\n",
       "      <th>2</th>\n",
       "      <td>0.0</td>\n",
       "      <td>0.0</td>\n",
       "      <td>0.0</td>\n",
       "      <td>0.0</td>\n",
       "      <td>0.0</td>\n",
       "      <td>0.0</td>\n",
       "      <td>0.0</td>\n",
       "      <td>0.0</td>\n",
       "      <td>0.0</td>\n",
       "      <td>0.0</td>\n",
       "      <td>...</td>\n",
       "      <td>0.0</td>\n",
       "      <td>0.0</td>\n",
       "      <td>0.0</td>\n",
       "      <td>0.0</td>\n",
       "      <td>0.0</td>\n",
       "      <td>0.0</td>\n",
       "      <td>0.0</td>\n",
       "      <td>0.0</td>\n",
       "      <td>0.0</td>\n",
       "      <td>0.0</td>\n",
       "    </tr>\n",
       "    <tr>\n",
       "      <th>3</th>\n",
       "      <td>0.0</td>\n",
       "      <td>0.0</td>\n",
       "      <td>0.0</td>\n",
       "      <td>0.0</td>\n",
       "      <td>0.0</td>\n",
       "      <td>0.0</td>\n",
       "      <td>0.0</td>\n",
       "      <td>0.0</td>\n",
       "      <td>0.0</td>\n",
       "      <td>0.0</td>\n",
       "      <td>...</td>\n",
       "      <td>0.0</td>\n",
       "      <td>0.0</td>\n",
       "      <td>0.0</td>\n",
       "      <td>0.0</td>\n",
       "      <td>0.0</td>\n",
       "      <td>0.0</td>\n",
       "      <td>0.0</td>\n",
       "      <td>0.0</td>\n",
       "      <td>0.0</td>\n",
       "      <td>0.0</td>\n",
       "    </tr>\n",
       "    <tr>\n",
       "      <th>4</th>\n",
       "      <td>0.0</td>\n",
       "      <td>0.0</td>\n",
       "      <td>0.0</td>\n",
       "      <td>0.0</td>\n",
       "      <td>0.0</td>\n",
       "      <td>0.0</td>\n",
       "      <td>0.0</td>\n",
       "      <td>0.0</td>\n",
       "      <td>0.0</td>\n",
       "      <td>0.0</td>\n",
       "      <td>...</td>\n",
       "      <td>0.0</td>\n",
       "      <td>0.0</td>\n",
       "      <td>0.0</td>\n",
       "      <td>0.0</td>\n",
       "      <td>0.0</td>\n",
       "      <td>0.0</td>\n",
       "      <td>0.0</td>\n",
       "      <td>0.0</td>\n",
       "      <td>0.0</td>\n",
       "      <td>0.0</td>\n",
       "    </tr>\n",
       "  </tbody>\n",
       "</table>\n",
       "<p>5 rows × 9764 columns</p>\n",
       "</div>"
      ],
      "text/plain": [
       "    _o   aa  aaa  aah  aap  aario  aaron  abandoned  abberation  abc  ...  \\\n",
       "0  0.0  0.0  0.0  0.0  0.0    0.0    0.0        0.0         0.0  0.0  ...   \n",
       "1  0.0  0.0  0.0  0.0  0.0    0.0    0.0        0.0         0.0  0.0  ...   \n",
       "2  0.0  0.0  0.0  0.0  0.0    0.0    0.0        0.0         0.0  0.0  ...   \n",
       "3  0.0  0.0  0.0  0.0  0.0    0.0    0.0        0.0         0.0  0.0  ...   \n",
       "4  0.0  0.0  0.0  0.0  0.0    0.0    0.0        0.0         0.0  0.0  ...   \n",
       "\n",
       "   zlumber  zombie  zoo  zues  zumder  zur  zurlo  zus  zvonko  zyklon  \n",
       "0      0.0     0.0  0.0   0.0     0.0  0.0    0.0  0.0     0.0     0.0  \n",
       "1      0.0     0.0  0.0   0.0     0.0  0.0    0.0  0.0     0.0     0.0  \n",
       "2      0.0     0.0  0.0   0.0     0.0  0.0    0.0  0.0     0.0     0.0  \n",
       "3      0.0     0.0  0.0   0.0     0.0  0.0    0.0  0.0     0.0     0.0  \n",
       "4      0.0     0.0  0.0   0.0     0.0  0.0    0.0  0.0     0.0     0.0  \n",
       "\n",
       "[5 rows x 9764 columns]"
      ]
     },
     "execution_count": 15,
     "metadata": {},
     "output_type": "execute_result"
    }
   ],
   "source": [
    "create_tfidf_matrix(newsgroups_docs_no_digits).head().iloc[:,10:]"
   ]
  },
  {
   "cell_type": "markdown",
   "metadata": {
    "papermill": {
     "duration": 0.018085,
     "end_time": "2020-08-06T21:11:00.936115",
     "exception": false,
     "start_time": "2020-08-06T21:11:00.918030",
     "status": "completed"
    },
    "tags": []
   },
   "source": [
    "## Run a full preprocessing pipeline in one line"
   ]
  },
  {
   "cell_type": "code",
   "execution_count": 16,
   "metadata": {
    "execution": {
     "iopub.execute_input": "2020-08-06T21:11:01.032647Z",
     "iopub.status.busy": "2020-08-06T21:11:01.032099Z",
     "iopub.status.idle": "2020-08-06T21:11:03.745043Z",
     "shell.execute_reply": "2020-08-06T21:11:03.745405Z"
    },
    "papermill": {
     "duration": 2.79171,
     "end_time": "2020-08-06T21:11:03.745555",
     "exception": false,
     "start_time": "2020-08-06T21:11:00.953845",
     "status": "completed"
    },
    "tags": []
   },
   "outputs": [
    {
     "data": {
      "text/plain": [
       "\"darice yoyo.cc.monash.edu.au fred rice subject islam dress code woman organization monash university melb australia line .rz.tu-bs.de .rz.tu-bs.de benedikt rosenau writes article .. .cc.monash.edu.au darice yoyo.cc.monash.edu.au fred rice writes deletion course people say think religion exactly coming different people within religion nothing existing different perspective within religion perhaps one say tend converge truth point lot harm way meantime converge counterfactual religion appear split diverge even might true religion core layer determine happens practise quite inhumane usually post supposed answer n't see got say repeat religion harm people religion converge split giving disagree upon lot disagreement one tolerant one tolerant ideology also split giving disagree upon may also lead intolerance also oppose ideology n't think argument argument religion point weakness human nature big deletion woman soul islam people said muslim say woman soul must admit never heard view held mu\""
      ]
     },
     "execution_count": 16,
     "metadata": {},
     "output_type": "execute_result"
    }
   ],
   "source": [
    "bag_of_words_to_docs(preprocess_texts(newsgroups, lem=True))[0][:1000]"
   ]
  },
  {
   "cell_type": "markdown",
   "metadata": {
    "papermill": {
     "duration": 0.01824,
     "end_time": "2020-08-06T21:11:03.780189",
     "exception": false,
     "start_time": "2020-08-06T21:11:03.761949",
     "status": "completed"
    },
    "tags": []
   },
   "source": [
    "## Ngrams Frequency"
   ]
  },
  {
   "cell_type": "code",
   "execution_count": 17,
   "metadata": {
    "execution": {
     "iopub.execute_input": "2020-08-06T21:11:03.839001Z",
     "iopub.status.busy": "2020-08-06T21:11:03.838353Z",
     "iopub.status.idle": "2020-08-06T21:11:06.318661Z",
     "shell.execute_reply": "2020-08-06T21:11:06.319058Z"
    },
    "papermill": {
     "duration": 2.521164,
     "end_time": "2020-08-06T21:11:06.319210",
     "exception": false,
     "start_time": "2020-08-06T21:11:03.798046",
     "status": "completed"
    },
    "tags": []
   },
   "outputs": [
    {
     "data": {
      "text/plain": [
       "FreqDist({('Subject', 'Re'): 455, ('In', 'article'): 372, ('Lines', 'In'): 201, ('Lines', 'In', 'article'): 182, ('article', '..'): 128, ('In', 'article', '..'): 128, ('writes', 'In'): 101, ('Lines', 'NNTP-Posting-Host'): 99, ('ca', \"n't\"): 90, ('keith', 'cco.caltech.edu'): 90, ...})"
      ]
     },
     "execution_count": 17,
     "metadata": {},
     "output_type": "execute_result"
    }
   ],
   "source": [
    "n_grams = ngram_freq(text_docs=newsgroups)\n",
    "n_grams"
   ]
  }
 ],
 "metadata": {
  "kernelspec": {
   "display_name": "Python 3",
   "language": "python",
   "name": "python3"
  },
  "language_info": {
   "codemirror_mode": {
    "name": "ipython",
    "version": 3
   },
   "file_extension": ".py",
   "mimetype": "text/x-python",
   "name": "python",
   "nbconvert_exporter": "python",
   "pygments_lexer": "ipython3",
   "version": "3.7.7"
  },
  "papermill": {
   "duration": 19.768697,
   "end_time": "2020-08-06T21:11:07.904443",
   "environment_variables": {},
   "exception": null,
   "input_path": "/Users/richardtruong-chau/Projects/data-describe/examples/Text_Preprocessing.ipynb",
   "output_path": "/Users/richardtruong-chau/Projects/data-describe/examples/Text_Preprocessing.ipynb",
   "parameters": {},
   "start_time": "2020-08-06T21:10:48.135746",
   "version": "2.1.2"
  }
 },
 "nbformat": 4,
 "nbformat_minor": 4
}