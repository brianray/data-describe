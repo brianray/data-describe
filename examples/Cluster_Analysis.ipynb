{
 "cells": [
  {
   "cell_type": "markdown",
   "metadata": {
    "papermill": {
     "duration": 0.011973,
     "end_time": "2020-07-28T03:33:51.901347",
     "exception": false,
     "start_time": "2020-07-28T03:33:51.889374",
     "status": "completed"
    },
    "tags": []
   },
   "source": [
    "# Cluster Analysis"
   ]
  },
  {
   "cell_type": "code",
   "execution_count": 1,
   "metadata": {
    "papermill": {
     "duration": 68.0255,
     "end_time": "2020-07-28T03:34:59.934845",
     "exception": false,
     "start_time": "2020-07-28T03:33:51.909345",
     "status": "completed"
    },
    "tags": []
   },
   "outputs": [
    {
     "name": "stderr",
     "output_type": "stream",
     "text": [
      "C:\\Users\\David\\.conda\\envs\\test-env\\lib\\site-packages\\google\\protobuf\\descriptor.py:47: DeprecationWarning: Using or importing the ABCs from 'collections' instead of from 'collections.abc' is deprecated since Python 3.3,and in 3.9 it will stop working\n",
      "  from google.protobuf.pyext import _message\n",
      "C:\\Users\\David\\.conda\\envs\\test-env\\lib\\site-packages\\scipy\\sparse\\sparsetools.py:21: DeprecationWarning: `scipy.sparse.sparsetools` is deprecated!\n",
      "scipy.sparse.sparsetools is a private module for scipy.sparse, and should not be used.\n",
      "  _deprecated()\n",
      "DeprecationWarning: Using or importing the ABCs from 'collections' instead of from 'collections.abc' is deprecated since Python 3.3,and in 3.9 it will stop working\n",
      "WARNING:root:The extension \"@jupyter-widgets/jupyterlab-manager\" was not found and is required for Plotly-based visualizations.\n"
     ]
    }
   ],
   "source": [
    "import data_describe as dd"
   ]
  },
  {
   "cell_type": "markdown",
   "metadata": {
    "papermill": {
     "duration": 0.030997,
     "end_time": "2020-07-28T03:35:00.049843",
     "exception": false,
     "start_time": "2020-07-28T03:35:00.018846",
     "status": "completed"
    },
    "tags": []
   },
   "source": [
    "## Load dataset from scikit-learn"
   ]
  },
  {
   "cell_type": "code",
   "execution_count": 2,
   "metadata": {
    "papermill": {
     "duration": 0.151997,
     "end_time": "2020-07-28T03:35:00.223844",
     "exception": false,
     "start_time": "2020-07-28T03:35:00.071847",
     "status": "completed"
    },
    "tags": []
   },
   "outputs": [],
   "source": [
    "from sklearn.datasets import load_wine\n",
    "import pandas as pd\n",
    "df = load_wine(as_frame=True).data\n",
    "target = load_wine().target  # For supervised clustering"
   ]
  },
  {
   "cell_type": "markdown",
   "metadata": {
    "papermill": {
     "duration": 0.015997,
     "end_time": "2020-07-28T03:35:00.257843",
     "exception": false,
     "start_time": "2020-07-28T03:35:00.241846",
     "status": "completed"
    },
    "tags": []
   },
   "source": [
    "## Cluster Defaults"
   ]
  },
  {
   "cell_type": "code",
   "execution_count": 3,
   "metadata": {
    "papermill": {
     "duration": 5.540005,
     "end_time": "2020-07-28T03:35:05.823848",
     "exception": false,
     "start_time": "2020-07-28T03:35:00.283843",
     "status": "completed"
    },
    "tags": []
   },
   "outputs": [
    {
     "name": "stderr",
     "output_type": "stream",
     "text": [
      "C:\\Users\\David\\.conda\\envs\\test-env\\lib\\site-packages\\patsy\\constraint.py:13: DeprecationWarning:\n",
      "\n",
      "Using or importing the ABCs from 'collections' instead of from 'collections.abc' is deprecated since Python 3.3,and in 3.9 it will stop working\n",
      "\n"
     ]
    },
    {
     "name": "stdout",
     "output_type": "stream",
     "text": [
      "final root:{'score_threshold': 0.2, 'enable_trace_pii': None, 'sample_size': None}\n",
      "final root:{'score_threshold': 0.2, 'enable_trace_pii': True, 'sample_size': None}\n",
      "final root:{'score_threshold': 0.2, 'enable_trace_pii': True, 'sample_size': 100}\n",
      "[2020-08-15 14:09:34,566][presidio][INFO]nlp_engine not provided. Creating new SpacyNlpEngine instance\n"
     ]
    },
    {
     "name": "stderr",
     "output_type": "stream",
     "text": [
      "INFO:presidio:nlp_engine not provided. Creating new SpacyNlpEngine instance\n"
     ]
    },
    {
     "name": "stdout",
     "output_type": "stream",
     "text": [
      "[2020-08-15 14:09:34,577][presidio][INFO]Loading NLP model: spaCy en_core_web_lg\n"
     ]
    },
    {
     "name": "stderr",
     "output_type": "stream",
     "text": [
      "INFO:presidio:Loading NLP model: spaCy en_core_web_lg\n"
     ]
    },
    {
     "name": "stdout",
     "output_type": "stream",
     "text": [
      "\u001b[1m\n",
      "===================== Info about model 'en_core_web_lg' =====================\u001b[0m\n",
      "\n",
      "lang             en                            \n",
      "name             core_web_lg                   \n",
      "license          MIT                           \n",
      "author           Explosion                     \n",
      "url              https://explosion.ai          \n",
      "email            contact@explosion.ai          \n",
      "description      English multi-task CNN trained on OntoNotes, with GloVe vectors trained on Common Crawl. Assigns word vectors, context-specific token vectors, POS tags, dependency parse and named entities.\n",
      "sources          [{'name': 'OntoNotes 5', 'url': 'https://catalog.ldc.upenn.edu/LDC2013T19', 'license': 'commercial (licensed by Explosion)'}, {'name': 'Common Crawl'}]\n",
      "pipeline         ['tagger', 'parser', 'ner']   \n",
      "version          2.2.5                         \n",
      "spacy_version    >=2.2.2                       \n",
      "parent_package   spacy                         \n",
      "labels           {'tagger': ['$', \"''\", ',', '-LRB-', '-RRB-', '.', ':', 'ADD', 'AFX', 'CC', 'CD', 'DT', 'EX', 'FW', 'HYPH', 'IN', 'JJ', 'JJR', 'JJS', 'LS', 'MD', 'NFP', 'NN', 'NNP', 'NNPS', 'NNS', 'PDT', 'POS', 'PRP', 'PRP$', 'RB', 'RBR', 'RBS', 'RP', 'SYM', 'TO', 'UH', 'VB', 'VBD', 'VBG', 'VBN', 'VBP', 'VBZ', 'WDT', 'WP', 'WP$', 'WRB', 'XX', '_SP', '``'], 'parser': ['ROOT', 'acl', 'acomp', 'advcl', 'advmod', 'agent', 'amod', 'appos', 'attr', 'aux', 'auxpass', 'case', 'cc', 'ccomp', 'compound', 'conj', 'csubj', 'csubjpass', 'dative', 'dep', 'det', 'dobj', 'expl', 'intj', 'mark', 'meta', 'neg', 'nmod', 'npadvmod', 'nsubj', 'nsubjpass', 'nummod', 'oprd', 'parataxis', 'pcomp', 'pobj', 'poss', 'preconj', 'predet', 'prep', 'prt', 'punct', 'quantmod', 'relcl', 'xcomp'], 'ner': ['CARDINAL', 'DATE', 'EVENT', 'FAC', 'GPE', 'LANGUAGE', 'LAW', 'LOC', 'MONEY', 'NORP', 'ORDINAL', 'ORG', 'PERCENT', 'PERSON', 'PRODUCT', 'QUANTITY', 'TIME', 'WORK_OF_ART']}\n",
      "vectors          {'width': 300, 'vectors': 684831, 'keys': 684830, 'name': 'en_core_web_lg.vectors'}\n",
      "source           C:\\Users\\David\\.conda\\envs\\test-env\\lib\\site-packages\\en_core_web_lg\n",
      "\n",
      "[2020-08-15 14:10:09,004][presidio][INFO]Printing spaCy model and package details:\n",
      "\n",
      " {'lang': 'en', 'name': 'core_web_lg', 'license': 'MIT', 'author': 'Explosion', 'url': 'https://explosion.ai', 'email': 'contact@explosion.ai', 'description': 'English multi-task CNN trained on OntoNotes, with GloVe vectors trained on Common Crawl. Assigns word vectors, context-specific token vectors, POS tags, dependency parse and named entities.', 'sources': [{'name': 'OntoNotes 5', 'url': 'https://catalog.ldc.upenn.edu/LDC2013T19', 'license': 'commercial (licensed by Explosion)'}, {'name': 'Common Crawl'}], 'pipeline': ['tagger', 'parser', 'ner'], 'version': '2.2.5', 'spacy_version': '>=2.2.2', 'parent_package': 'spacy', 'accuracy': {'las': 90.1734441725, 'uas': 92.0132337105, 'token_acc': 99.7579930934, 'tags_acc': 97.2200800054, 'ents_f': 86.5464321721, 'ents_p': 86.7358967163, 'ents_r': 86.3577935506}, 'speed': {'cpu': 6257.754029418, 'gpu': None, 'nwords': 291314}, 'labels': {'tagger': ['$', \"''\", ',', '-LRB-', '-RRB-', '.', ':', 'ADD', 'AFX', 'CC', 'CD', 'DT', 'EX', 'FW', 'HYPH', 'IN', 'JJ', 'JJR', 'JJS', 'LS', 'MD', 'NFP', 'NN', 'NNP', 'NNPS', 'NNS', 'PDT', 'POS', 'PRP', 'PRP$', 'RB', 'RBR', 'RBS', 'RP', 'SYM', 'TO', 'UH', 'VB', 'VBD', 'VBG', 'VBN', 'VBP', 'VBZ', 'WDT', 'WP', 'WP$', 'WRB', 'XX', '_SP', '``'], 'parser': ['ROOT', 'acl', 'acomp', 'advcl', 'advmod', 'agent', 'amod', 'appos', 'attr', 'aux', 'auxpass', 'case', 'cc', 'ccomp', 'compound', 'conj', 'csubj', 'csubjpass', 'dative', 'dep', 'det', 'dobj', 'expl', 'intj', 'mark', 'meta', 'neg', 'nmod', 'npadvmod', 'nsubj', 'nsubjpass', 'nummod', 'oprd', 'parataxis', 'pcomp', 'pobj', 'poss', 'preconj', 'predet', 'prep', 'prt', 'punct', 'quantmod', 'relcl', 'xcomp'], 'ner': ['CARDINAL', 'DATE', 'EVENT', 'FAC', 'GPE', 'LANGUAGE', 'LAW', 'LOC', 'MONEY', 'NORP', 'ORDINAL', 'ORG', 'PERCENT', 'PERSON', 'PRODUCT', 'QUANTITY', 'TIME', 'WORK_OF_ART']}, 'vectors': {'width': 300, 'vectors': 684831, 'keys': 684830, 'name': 'en_core_web_lg.vectors'}, 'source': 'C:\\\\Users\\\\David\\\\.conda\\\\envs\\\\test-env\\\\lib\\\\site-packages\\\\en_core_web_lg'}\n",
      "\n",
      "\n"
     ]
    },
    {
     "name": "stderr",
     "output_type": "stream",
     "text": [
      "INFO:presidio:Printing spaCy model and package details:\n",
      "\n",
      " {'lang': 'en', 'name': 'core_web_lg', 'license': 'MIT', 'author': 'Explosion', 'url': 'https://explosion.ai', 'email': 'contact@explosion.ai', 'description': 'English multi-task CNN trained on OntoNotes, with GloVe vectors trained on Common Crawl. Assigns word vectors, context-specific token vectors, POS tags, dependency parse and named entities.', 'sources': [{'name': 'OntoNotes 5', 'url': 'https://catalog.ldc.upenn.edu/LDC2013T19', 'license': 'commercial (licensed by Explosion)'}, {'name': 'Common Crawl'}], 'pipeline': ['tagger', 'parser', 'ner'], 'version': '2.2.5', 'spacy_version': '>=2.2.2', 'parent_package': 'spacy', 'accuracy': {'las': 90.1734441725, 'uas': 92.0132337105, 'token_acc': 99.7579930934, 'tags_acc': 97.2200800054, 'ents_f': 86.5464321721, 'ents_p': 86.7358967163, 'ents_r': 86.3577935506}, 'speed': {'cpu': 6257.754029418, 'gpu': None, 'nwords': 291314}, 'labels': {'tagger': ['$', \"''\", ',', '-LRB-', '-RRB-', '.', ':', 'ADD', 'AFX', 'CC', 'CD', 'DT', 'EX', 'FW', 'HYPH', 'IN', 'JJ', 'JJR', 'JJS', 'LS', 'MD', 'NFP', 'NN', 'NNP', 'NNPS', 'NNS', 'PDT', 'POS', 'PRP', 'PRP$', 'RB', 'RBR', 'RBS', 'RP', 'SYM', 'TO', 'UH', 'VB', 'VBD', 'VBG', 'VBN', 'VBP', 'VBZ', 'WDT', 'WP', 'WP$', 'WRB', 'XX', '_SP', '``'], 'parser': ['ROOT', 'acl', 'acomp', 'advcl', 'advmod', 'agent', 'amod', 'appos', 'attr', 'aux', 'auxpass', 'case', 'cc', 'ccomp', 'compound', 'conj', 'csubj', 'csubjpass', 'dative', 'dep', 'det', 'dobj', 'expl', 'intj', 'mark', 'meta', 'neg', 'nmod', 'npadvmod', 'nsubj', 'nsubjpass', 'nummod', 'oprd', 'parataxis', 'pcomp', 'pobj', 'poss', 'preconj', 'predet', 'prep', 'prt', 'punct', 'quantmod', 'relcl', 'xcomp'], 'ner': ['CARDINAL', 'DATE', 'EVENT', 'FAC', 'GPE', 'LANGUAGE', 'LAW', 'LOC', 'MONEY', 'NORP', 'ORDINAL', 'ORG', 'PERCENT', 'PERSON', 'PRODUCT', 'QUANTITY', 'TIME', 'WORK_OF_ART']}, 'vectors': {'width': 300, 'vectors': 684831, 'keys': 684830, 'name': 'en_core_web_lg.vectors'}, 'source': 'C:\\\\Users\\\\David\\\\.conda\\\\envs\\\\test-env\\\\lib\\\\site-packages\\\\en_core_web_lg'}\n",
      "\n",
      "\n"
     ]
    },
    {
     "name": "stdout",
     "output_type": "stream",
     "text": [
      "[2020-08-15 14:10:09,165][presidio][INFO]Recognizer registry not provided. Creating default RecognizerRegistry instance\n"
     ]
    },
    {
     "name": "stderr",
     "output_type": "stream",
     "text": [
      "INFO:presidio:Recognizer registry not provided. Creating default RecognizerRegistry instance\n"
     ]
    },
    {
     "name": "stdout",
     "output_type": "stream",
     "text": [
      "[2020-08-15 14:10:09,247][presidio][INFO]Loaded recognizer: CreditCardRecognizer\n"
     ]
    },
    {
     "name": "stderr",
     "output_type": "stream",
     "text": [
      "INFO:presidio:Loaded recognizer: CreditCardRecognizer\n"
     ]
    },
    {
     "name": "stdout",
     "output_type": "stream",
     "text": [
      "[2020-08-15 14:10:09,309][presidio][INFO]Loaded recognizer: CryptoRecognizer\n"
     ]
    },
    {
     "name": "stderr",
     "output_type": "stream",
     "text": [
      "INFO:presidio:Loaded recognizer: CryptoRecognizer\n"
     ]
    },
    {
     "name": "stdout",
     "output_type": "stream",
     "text": [
      "[2020-08-15 14:10:09,314][presidio][INFO]Loaded recognizer: DomainRecognizer\n"
     ]
    },
    {
     "name": "stderr",
     "output_type": "stream",
     "text": [
      "INFO:presidio:Loaded recognizer: DomainRecognizer\n"
     ]
    },
    {
     "name": "stdout",
     "output_type": "stream",
     "text": [
      "[2020-08-15 14:10:09,319][presidio][INFO]Loaded recognizer: EmailRecognizer\n"
     ]
    },
    {
     "name": "stderr",
     "output_type": "stream",
     "text": [
      "INFO:presidio:Loaded recognizer: EmailRecognizer\n"
     ]
    },
    {
     "name": "stdout",
     "output_type": "stream",
     "text": [
      "[2020-08-15 14:10:09,324][presidio][INFO]Loaded recognizer: IbanRecognizer\n"
     ]
    },
    {
     "name": "stderr",
     "output_type": "stream",
     "text": [
      "INFO:presidio:Loaded recognizer: IbanRecognizer\n"
     ]
    },
    {
     "name": "stdout",
     "output_type": "stream",
     "text": [
      "[2020-08-15 14:10:09,328][presidio][INFO]Loaded recognizer: IpRecognizer\n"
     ]
    },
    {
     "name": "stderr",
     "output_type": "stream",
     "text": [
      "INFO:presidio:Loaded recognizer: IpRecognizer\n"
     ]
    },
    {
     "name": "stdout",
     "output_type": "stream",
     "text": [
      "[2020-08-15 14:10:09,333][presidio][INFO]Loaded recognizer: NhsRecognizer\n"
     ]
    },
    {
     "name": "stderr",
     "output_type": "stream",
     "text": [
      "INFO:presidio:Loaded recognizer: NhsRecognizer\n"
     ]
    },
    {
     "name": "stdout",
     "output_type": "stream",
     "text": [
      "[2020-08-15 14:10:09,336][presidio][INFO]Loaded recognizer: UsBankRecognizer\n"
     ]
    },
    {
     "name": "stderr",
     "output_type": "stream",
     "text": [
      "INFO:presidio:Loaded recognizer: UsBankRecognizer\n"
     ]
    },
    {
     "name": "stdout",
     "output_type": "stream",
     "text": [
      "[2020-08-15 14:10:09,346][presidio][INFO]Loaded recognizer: UsLicenseRecognizer\n"
     ]
    },
    {
     "name": "stderr",
     "output_type": "stream",
     "text": [
      "INFO:presidio:Loaded recognizer: UsLicenseRecognizer\n"
     ]
    },
    {
     "name": "stdout",
     "output_type": "stream",
     "text": [
      "[2020-08-15 14:10:09,352][presidio][INFO]Loaded recognizer: UsItinRecognizer\n"
     ]
    },
    {
     "name": "stderr",
     "output_type": "stream",
     "text": [
      "INFO:presidio:Loaded recognizer: UsItinRecognizer\n"
     ]
    },
    {
     "name": "stdout",
     "output_type": "stream",
     "text": [
      "[2020-08-15 14:10:09,357][presidio][INFO]Loaded recognizer: UsPassportRecognizer\n"
     ]
    },
    {
     "name": "stderr",
     "output_type": "stream",
     "text": [
      "INFO:presidio:Loaded recognizer: UsPassportRecognizer\n"
     ]
    },
    {
     "name": "stdout",
     "output_type": "stream",
     "text": [
      "[2020-08-15 14:10:09,369][presidio][INFO]Loaded recognizer: UsPhoneRecognizer\n"
     ]
    },
    {
     "name": "stderr",
     "output_type": "stream",
     "text": [
      "INFO:presidio:Loaded recognizer: UsPhoneRecognizer\n"
     ]
    },
    {
     "name": "stdout",
     "output_type": "stream",
     "text": [
      "[2020-08-15 14:10:09,376][presidio][INFO]Loaded recognizer: UsSsnRecognizer\n"
     ]
    },
    {
     "name": "stderr",
     "output_type": "stream",
     "text": [
      "INFO:presidio:Loaded recognizer: UsSsnRecognizer\n"
     ]
    },
    {
     "name": "stdout",
     "output_type": "stream",
     "text": [
      "[2020-08-15 14:10:09,381][presidio][INFO]Loaded recognizer: SpacyRecognizer\n"
     ]
    },
    {
     "name": "stderr",
     "output_type": "stream",
     "text": [
      "INFO:presidio:Loaded recognizer: SpacyRecognizer\n"
     ]
    },
    {
     "name": "stdout",
     "output_type": "stream",
     "text": [
      "[2020-08-15 14:10:09,388][presidio][INFO]Loaded recognizer: SgFinRecognizer\n"
     ]
    },
    {
     "name": "stderr",
     "output_type": "stream",
     "text": [
      "INFO:presidio:Loaded recognizer: SgFinRecognizer\n"
     ]
    },
    {
     "data": {
      "text/plain": [
       "<matplotlib.axes._subplots.AxesSubplot at 0x2ce795ed048>"
      ]
     },
     "metadata": {},
     "output_type": "display_data"
    },
    {
     "data": {
      "text/plain": [
       "<data_describe.core.clusters.KmeansClusterWidget at 0x2ce6e7a7188>"
      ]
     },
     "execution_count": 3,
     "metadata": {},
     "output_type": "execute_result"
    },
    {
     "data": {
      "image/png": "[encoded data removed]",
      "text/plain": [
       "<Figure size 720x720 with 1 Axes>"
      ]
     },
     "metadata": {
      "needs_background": "light"
     },
     "output_type": "display_data"
    }
   ],
   "source": [
    "dd.cluster(df)"
   ]
  },
  {
   "cell_type": "markdown",
   "metadata": {
    "papermill": {
     "duration": 0.021978,
     "end_time": "2020-07-28T03:35:05.861846",
     "exception": false,
     "start_time": "2020-07-28T03:35:05.839868",
     "status": "completed"
    },
    "tags": []
   },
   "source": [
    "## Using Plotly"
   ]
  },
  {
   "cell_type": "code",
   "execution_count": 4,
   "metadata": {
    "papermill": {
     "duration": 3.646998,
     "end_time": "2020-07-28T03:35:09.528843",
     "exception": false,
     "start_time": "2020-07-28T03:35:05.881845",
     "status": "completed"
    },
    "tags": []
   },
   "outputs": [
    {
     "data": {
      "text/html": [
       "        <script type=\"text/javascript\">\n",
       "        window.PlotlyConfig = {MathJaxConfig: 'local'};\n",
       "        if (window.MathJax) {MathJax.Hub.Config({SVG: {font: \"STIX-Web\"}});}\n",
       "        if (typeof require !== 'undefined') {\n",
       "        require.undef(\"plotly\");\n",
       "        requirejs.config({\n",
       "            paths: {\n",
       "                'plotly': ['https://cdn.plot.ly/plotly-latest.min']\n",
       "            }\n",
       "        });\n",
       "        require(['plotly'], function(Plotly) {\n",
       "            window._Plotly = Plotly;\n",
       "        });\n",
       "        }\n",
       "        </script>\n",
       "        "
      ]
     },
     "metadata": {},
     "output_type": "display_data"
    },
    {
     "data": {
      "application/vnd.plotly.v1+json": {
       "config": {
        "linkText": "Export to plot.ly",
        "plotlyServerURL": "https://plot.ly",
        "showLink": false
       },
       "data": [
        {
         "marker": {
          "colorscale": [
           [
            0,
            "rgb(161, 105, 40)"
           ],
           [
            0.16666666666666666,
            "rgb(189, 146, 90)"
           ],
           [
            0.3333333333333333,
            "rgb(214, 189, 141)"
           ],
           [
            0.5,
            "rgb(237, 234, 194)"
           ],
           [
            0.6666666666666666,
            "rgb(181, 200, 184)"
           ],
           [
            0.8333333333333334,
            "rgb(121, 167, 172)"
           ],
           [
            1,
            "rgb(40, 135, 161)"
           ]
          ],
          "opacity": 0.7,
          "size": 10
         },
         "mode": "markers",
         "name": "Cluster #0",
         "type": "scatter",
         "x": [
          3.3167508122147793,
          2.2094649169188503,
          2.5167401466103825,
          3.7570656097732025,
          1.0089084937957147,
          3.050253922418076,
          2.4490896695962325,
          2.059436871437915,
          2.5108742973989897,
          2.7536281876339097,
          3.4797366827312124,
          1.75475290129459,
          2.1134623403150967,
          3.458156819336722,
          4.312783906765562,
          2.3051882008279727,
          2.1719552737415126,
          1.898971176562761,
          3.541985081943469,
          2.084522204730313,
          3.124402535167201,
          1.086570068332239,
          2.5352240799037156,
          1.6449883412544708,
          1.7615758722693016,
          0.9900791016088568,
          1.7752776281133689,
          1.2354239643099068,
          2.188406334451963,
          2.2561089812837087,
          2.5002200257894267,
          2.677411047444015,
          1.6285791164309198,
          1.9026908622381489,
          1.4103885265954075,
          1.9038262321944877,
          1.3848622303748401,
          1.1222074104413111,
          1.502194500618193,
          2.5298010923718093,
          2.5880954258544033,
          0.6684819937541856,
          3.070806990412008,
          0.4622091375160059,
          2.101351930538016,
          1.1361661775610168,
          2.726600963640803,
          2.82133927419225,
          2.0098508509123585,
          2.707491304266394,
          3.214917474773823,
          2.858959826717295,
          3.5056043559232224,
          2.2247913805321735,
          2.146987823563867,
          2.4693294837977886,
          2.7415179142774537,
          2.1737409209653076,
          3.139380151828996,
          2.5622271731703625,
          2.543865184199553,
          1.3363217334183295
         ],
         "y": [
          -1.443462634318013,
          0.33339288708029924,
          -1.0311512962743195,
          -2.7563719137107143,
          -0.8698308214172044,
          -2.1224011146341946,
          -1.1748501316494764,
          -1.6089630683635103,
          -0.918070957333781,
          -0.789437673833609,
          -1.3023332371235974,
          -0.6119772287456334,
          -0.6757063391426205,
          -1.1306298761729412,
          -2.095975575341266,
          -1.662551729989058,
          -2.327305336191422,
          -1.6313688786428395,
          -2.5183436693066494,
          -1.0611379935838625,
          -0.7868971056508977,
          -0.24174355133283995,
          0.09184062072087927,
          0.5162789300672354,
          0.3171489326843805,
          -0.9406673381906333,
          -0.6861751342850242,
          0.08980704136063912,
          -0.6895696206616262,
          -0.1914619368866672,
          -1.240833834896944,
          -1.4718736461032502,
          -0.052704450575324385,
          -1.6330604347699849,
          -0.6979343246113575,
          -0.17671095109545715,
          -0.6586398536611494,
          -0.11410976029688823,
          0.7694320064310082,
          -1.8030019760618319,
          -0.7796163041925093,
          -0.16996094061987652,
          -1.1559189566098853,
          -0.3307421321922759,
          0.07100892095406615,
          -1.7771073929776402,
          -1.1913346919571877,
          -0.6462585991417057,
          -1.2470294606787622,
          -1.7519674072063396,
          -0.166991994996792,
          -0.7452788039895899,
          -1.6127338560350135,
          -1.8751679995630264,
          -1.0167515377576617,
          -1.3290083106496235,
          -1.4365487835125175,
          -1.212199840697795,
          -1.7315791159925145,
          -0.2601985506545964,
          -0.16927402279973985,
          -0.2533369311683021
         ]
        },
        {
         "marker": {
          "colorscale": [
           [
            0,
            "rgb(161, 105, 40)"
           ],
           [
            0.16666666666666666,
            "rgb(189, 146, 90)"
           ],
           [
            0.3333333333333333,
            "rgb(214, 189, 141)"
           ],
           [
            0.5,
            "rgb(237, 234, 194)"
           ],
           [
            0.6666666666666666,
            "rgb(181, 200, 184)"
           ],
           [
            0.8333333333333334,
            "rgb(121, 167, 172)"
           ],
           [
            1,
            "rgb(40, 135, 161)"
           ]
          ],
          "opacity": 0.7,
          "size": 10
         },
         "mode": "markers",
         "name": "Cluster #1",
         "type": "scatter",
         "x": [
          -0.9285819689218537,
          -1.5424801378968795,
          0.03060683408668104,
          2.050261607576317,
          -0.6096808271776213,
          0.9002278387071442,
          2.248507190798395,
          0.1833840266847567,
          -0.8128050273520703,
          1.9756204987985555,
          -1.5722162196262988,
          1.6576818088332903,
          -0.7253723880353555,
          1.8325675700495483,
          -0.8679929031954122,
          0.3700144042947841,
          -1.457377044906139,
          1.2629308497284988,
          0.3761503719342399,
          0.7620639041096002,
          1.0345779671651876,
          -0.49487675568032624,
          0.8353201453942988,
          0.7879046149897109,
          -0.8068321559655374,
          -0.5580426248756815,
          -1.115111041919446,
          -0.5557228299517003,
          -1.3492852824437302,
          -1.5644826057199048,
          -1.9325556106314632,
          0.7466659419884499,
          0.957455363803641,
          -0.5439525887762282,
          1.0310497503881495,
          2.2519094221481257,
          1.4102160153374597,
          0.7977197926930414,
          -0.5495317266494633,
          -0.16117373994854556,
          -0.6597949416843597,
          0.3923544081850837,
          -1.772499077960035,
          -0.36626735735206384,
          -1.620672572787479,
          0.08253578349332853,
          1.5782750709323825,
          1.4205692478240148,
          -0.2787027536488548,
          -1.3031449662482797,
          -0.4570718656526238,
          -0.49418584704437446,
          0.48207440977309407,
          -0.25288887765319895,
          -0.10722763772912279,
          -0.5510895391746504,
          0.739621928568221,
          -1.177086996247774,
          -0.46233500801968264,
          0.9784740793566468,
          -0.09680972631598556,
          0.03848714594902509,
          -1.5971585012074716,
          -0.47956491608312496,
          -1.792833473031145
         ],
         "y": [
          3.073486163188928,
          1.3814435080942304,
          1.2627861442114008,
          1.9250326046501014,
          1.90805880508519,
          0.7639114736096105,
          1.8845924845501323,
          2.4271461147035724,
          0.22051398690226928,
          1.4032832253096152,
          0.8849831369082242,
          0.9567121974591479,
          1.063645400706094,
          1.2878781978605265,
          2.444101185580866,
          2.1539069751569873,
          1.3833517690762616,
          0.7708495299701182,
          1.027043403355823,
          3.375053809963536,
          1.450709738244092,
          2.3812435267673724,
          1.4736705514008699,
          2.026626522462478,
          2.2338303908439134,
          2.372985428849459,
          1.802247191665457,
          2.6575400353922953,
          2.11800146978482,
          1.8522145217655537,
          1.559495456898623,
          2.3129317092207407,
          2.2235284346674624,
          0.3689265458773194,
          2.565569348733524,
          1.4327413803542552,
          2.166191769370385,
          2.3769488030818624,
          2.293128643245627,
          1.1644833215600174,
          2.679961185989637,
          2.0987317087655373,
          1.7172884693761445,
          2.1693532978292844,
          1.3555833880259585,
          2.3062345877483263,
          1.4620342902048193,
          1.4182066376337517,
          1.9305680886704686,
          0.7631723136577948,
          2.2694156075896776,
          1.939045049486834,
          3.871783848407242,
          2.8214923747015943,
          1.9289220425669602,
          2.2221615507766233,
          1.4089566673657148,
          0.6639668398015728,
          0.6182881794850409,
          1.4455704988958282,
          2.109997993135227,
          1.2667621091578862,
          1.2081435741284887,
          1.9388406603940498,
          1.1502881044421067
         ]
        },
        {
         "marker": {
          "colorscale": [
           [
            0,
            "rgb(161, 105, 40)"
           ],
           [
            0.16666666666666666,
            "rgb(189, 146, 90)"
           ],
           [
            0.3333333333333333,
            "rgb(214, 189, 141)"
           ],
           [
            0.5,
            "rgb(237, 234, 194)"
           ],
           [
            0.6666666666666666,
            "rgb(181, 200, 184)"
           ],
           [
            0.8333333333333334,
            "rgb(121, 167, 172)"
           ],
           [
            1,
            "rgb(40, 135, 161)"
           ]
          ],
          "opacity": 0.7,
          "size": 10
         },
         "mode": "markers",
         "name": "Cluster #2",
         "type": "scatter",
         "x": [
          -1.83624976346694,
          -2.5389770842951225,
          -2.433012602550219,
          -1.3271016561416014,
          -2.384500834743531,
          -2.9369401021466137,
          -2.1468111338160654,
          -2.369869488333043,
          -3.0638415687203557,
          -3.9157537837118914,
          -3.9364633907159656,
          -3.094276117762277,
          -2.374471628006924,
          -2.778812947632514,
          -2.2865612847384695,
          -2.9856334874494665,
          -2.3751946982271104,
          -2.2098655255958732,
          -2.6256210046927224,
          -4.280638778751089,
          -3.5826413720011074,
          -2.807063720081661,
          -2.8996593330239127,
          -2.320736976549206,
          -2.549830947226138,
          -1.8125412848422993,
          -2.7601446419239526,
          -2.7371505006679913,
          -3.6048688681834276,
          -2.8898259968735096,
          -3.3921560768357226,
          -1.0481818968536798,
          -1.6099122828479373,
          -3.1431309667439775,
          -2.2401568962695437,
          -2.847673776119522,
          -2.5974970566487654,
          -2.9492993731348456,
          -3.530032266349314,
          -2.406110540478555,
          -2.929084726967458,
          -2.1814127788126223,
          -2.3809277871356422,
          -3.211617215041249,
          -3.6779187209738184,
          -2.4655557980404508,
          -3.3705241454428645,
          -2.6019558512247394,
          -2.6778394608645053,
          -2.3870170912797204,
          -3.2087581641980245
         ],
         "y": [
          0.8299841230557182,
          0.08744335730498247,
          1.2571410404943932,
          -0.17038923204902734,
          -0.37458260552469297,
          -0.2638618300683794,
          -0.3682549518864607,
          0.4596348092311676,
          -0.353412835458402,
          -0.15458251944173051,
          -0.6596872334097811,
          -0.34884275927379665,
          -0.2919803515599933,
          -0.2868048728821731,
          -0.3725078446852991,
          -0.4892179083470122,
          -0.48233371724487933,
          -1.1600525041576424,
          -0.5631607642108345,
          -0.6496709640237073,
          -1.272702749727301,
          -1.5705337870411977,
          -2.041057007938464,
          -2.356366075556675,
          -2.0452830910195234,
          -1.5276459462687504,
          -2.138932347642612,
          -0.4098862708817896,
          -1.802384217583967,
          -1.9252186131303441,
          -1.311876388473594,
          -3.5150896912197327,
          -2.4066381595743285,
          -0.7381610441757964,
          -1.1754652881188652,
          -0.5560439658826731,
          -0.697965537200919,
          -1.5553089642839848,
          -0.8825267962042368,
          -2.5923561750423985,
          -1.2744469479044822,
          -2.0775373127345156,
          -2.5886674324185903,
          0.25124910442559306,
          -0.8477478441497627,
          -2.1937983036540953,
          -2.2162891398611375,
          -1.7572293509792754,
          -2.760899131674547,
          -2.297346679712819,
          -2.7689195660475767
         ]
        }
       ],
       "layout": {
        "autosize": false,
        "height": 750,
        "template": {
         "data": {
          "bar": [
           {
            "error_x": {
             "color": "#2a3f5f"
            },
            "error_y": {
             "color": "#2a3f5f"
            },
            "marker": {
             "line": {
              "color": "#E5ECF6",
              "width": 0.5
             }
            },
            "type": "bar"
           }
          ],
          "barpolar": [
           {
            "marker": {
             "line": {
              "color": "#E5ECF6",
              "width": 0.5
             }
            },
            "type": "barpolar"
           }
          ],
          "carpet": [
           {
            "aaxis": {
             "endlinecolor": "#2a3f5f",
             "gridcolor": "white",
             "linecolor": "white",
             "minorgridcolor": "white",
             "startlinecolor": "#2a3f5f"
            },
            "baxis": {
             "endlinecolor": "#2a3f5f",
             "gridcolor": "white",
             "linecolor": "white",
             "minorgridcolor": "white",
             "startlinecolor": "#2a3f5f"
            },
            "type": "carpet"
           }
          ],
          "choropleth": [
           {
            "colorbar": {
             "outlinewidth": 0,
             "ticks": ""
            },
            "type": "choropleth"
           }
          ],
          "contour": [
           {
            "colorbar": {
             "outlinewidth": 0,
             "ticks": ""
            },
            "colorscale": [
             [
              0,
              "#0d0887"
             ],
             [
              0.1111111111111111,
              "#46039f"
             ],
             [
              0.2222222222222222,
              "#7201a8"
             ],
             [
              0.3333333333333333,
              "#9c179e"
             ],
             [
              0.4444444444444444,
              "#bd3786"
             ],
             [
              0.5555555555555556,
              "#d8576b"
             ],
             [
              0.6666666666666666,
              "#ed7953"
             ],
             [
              0.7777777777777778,
              "#fb9f3a"
             ],
             [
              0.8888888888888888,
              "#fdca26"
             ],
             [
              1,
              "#f0f921"
             ]
            ],
            "type": "contour"
           }
          ],
          "contourcarpet": [
           {
            "colorbar": {
             "outlinewidth": 0,
             "ticks": ""
            },
            "type": "contourcarpet"
           }
          ],
          "heatmap": [
           {
            "colorbar": {
             "outlinewidth": 0,
             "ticks": ""
            },
            "colorscale": [
             [
              0,
              "#0d0887"
             ],
             [
              0.1111111111111111,
              "#46039f"
             ],
             [
              0.2222222222222222,
              "#7201a8"
             ],
             [
              0.3333333333333333,
              "#9c179e"
             ],
             [
              0.4444444444444444,
              "#bd3786"
             ],
             [
              0.5555555555555556,
              "#d8576b"
             ],
             [
              0.6666666666666666,
              "#ed7953"
             ],
             [
              0.7777777777777778,
              "#fb9f3a"
             ],
             [
              0.8888888888888888,
              "#fdca26"
             ],
             [
              1,
              "#f0f921"
             ]
            ],
            "type": "heatmap"
           }
          ],
          "heatmapgl": [
           {
            "colorbar": {
             "outlinewidth": 0,
             "ticks": ""
            },
            "colorscale": [
             [
              0,
              "#0d0887"
             ],
             [
              0.1111111111111111,
              "#46039f"
             ],
             [
              0.2222222222222222,
              "#7201a8"
             ],
             [
              0.3333333333333333,
              "#9c179e"
             ],
             [
              0.4444444444444444,
              "#bd3786"
             ],
             [
              0.5555555555555556,
              "#d8576b"
             ],
             [
              0.6666666666666666,
              "#ed7953"
             ],
             [
              0.7777777777777778,
              "#fb9f3a"
             ],
             [
              0.8888888888888888,
              "#fdca26"
             ],
             [
              1,
              "#f0f921"
             ]
            ],
            "type": "heatmapgl"
           }
          ],
          "histogram": [
           {
            "marker": {
             "colorbar": {
              "outlinewidth": 0,
              "ticks": ""
             }
            },
            "type": "histogram"
           }
          ],
          "histogram2d": [
           {
            "colorbar": {
             "outlinewidth": 0,
             "ticks": ""
            },
            "colorscale": [
             [
              0,
              "#0d0887"
             ],
             [
              0.1111111111111111,
              "#46039f"
             ],
             [
              0.2222222222222222,
              "#7201a8"
             ],
             [
              0.3333333333333333,
              "#9c179e"
             ],
             [
              0.4444444444444444,
              "#bd3786"
             ],
             [
              0.5555555555555556,
              "#d8576b"
             ],
             [
              0.6666666666666666,
              "#ed7953"
             ],
             [
              0.7777777777777778,
              "#fb9f3a"
             ],
             [
              0.8888888888888888,
              "#fdca26"
             ],
             [
              1,
              "#f0f921"
             ]
            ],
            "type": "histogram2d"
           }
          ],
          "histogram2dcontour": [
           {
            "colorbar": {
             "outlinewidth": 0,
             "ticks": ""
            },
            "colorscale": [
             [
              0,
              "#0d0887"
             ],
             [
              0.1111111111111111,
              "#46039f"
             ],
             [
              0.2222222222222222,
              "#7201a8"
             ],
             [
              0.3333333333333333,
              "#9c179e"
             ],
             [
              0.4444444444444444,
              "#bd3786"
             ],
             [
              0.5555555555555556,
              "#d8576b"
             ],
             [
              0.6666666666666666,
              "#ed7953"
             ],
             [
              0.7777777777777778,
              "#fb9f3a"
             ],
             [
              0.8888888888888888,
              "#fdca26"
             ],
             [
              1,
              "#f0f921"
             ]
            ],
            "type": "histogram2dcontour"
           }
          ],
          "mesh3d": [
           {
            "colorbar": {
             "outlinewidth": 0,
             "ticks": ""
            },
            "type": "mesh3d"
           }
          ],
          "parcoords": [
           {
            "line": {
             "colorbar": {
              "outlinewidth": 0,
              "ticks": ""
             }
            },
            "type": "parcoords"
           }
          ],
          "pie": [
           {
            "automargin": true,
            "type": "pie"
           }
          ],
          "scatter": [
           {
            "marker": {
             "colorbar": {
              "outlinewidth": 0,
              "ticks": ""
             }
            },
            "type": "scatter"
           }
          ],
          "scatter3d": [
           {
            "line": {
             "colorbar": {
              "outlinewidth": 0,
              "ticks": ""
             }
            },
            "marker": {
             "colorbar": {
              "outlinewidth": 0,
              "ticks": ""
             }
            },
            "type": "scatter3d"
           }
          ],
          "scattercarpet": [
           {
            "marker": {
             "colorbar": {
              "outlinewidth": 0,
              "ticks": ""
             }
            },
            "type": "scattercarpet"
           }
          ],
          "scattergeo": [
           {
            "marker": {
             "colorbar": {
              "outlinewidth": 0,
              "ticks": ""
             }
            },
            "type": "scattergeo"
           }
          ],
          "scattergl": [
           {
            "marker": {
             "colorbar": {
              "outlinewidth": 0,
              "ticks": ""
             }
            },
            "type": "scattergl"
           }
          ],
          "scattermapbox": [
           {
            "marker": {
             "colorbar": {
              "outlinewidth": 0,
              "ticks": ""
             }
            },
            "type": "scattermapbox"
           }
          ],
          "scatterpolar": [
           {
            "marker": {
             "colorbar": {
              "outlinewidth": 0,
              "ticks": ""
             }
            },
            "type": "scatterpolar"
           }
          ],
          "scatterpolargl": [
           {
            "marker": {
             "colorbar": {
              "outlinewidth": 0,
              "ticks": ""
             }
            },
            "type": "scatterpolargl"
           }
          ],
          "scatterternary": [
           {
            "marker": {
             "colorbar": {
              "outlinewidth": 0,
              "ticks": ""
             }
            },
            "type": "scatterternary"
           }
          ],
          "surface": [
           {
            "colorbar": {
             "outlinewidth": 0,
             "ticks": ""
            },
            "colorscale": [
             [
              0,
              "#0d0887"
             ],
             [
              0.1111111111111111,
              "#46039f"
             ],
             [
              0.2222222222222222,
              "#7201a8"
             ],
             [
              0.3333333333333333,
              "#9c179e"
             ],
             [
              0.4444444444444444,
              "#bd3786"
             ],
             [
              0.5555555555555556,
              "#d8576b"
             ],
             [
              0.6666666666666666,
              "#ed7953"
             ],
             [
              0.7777777777777778,
              "#fb9f3a"
             ],
             [
              0.8888888888888888,
              "#fdca26"
             ],
             [
              1,
              "#f0f921"
             ]
            ],
            "type": "surface"
           }
          ],
          "table": [
           {
            "cells": {
             "fill": {
              "color": "#EBF0F8"
             },
             "line": {
              "color": "white"
             }
            },
            "header": {
             "fill": {
              "color": "#C8D4E3"
             },
             "line": {
              "color": "white"
             }
            },
            "type": "table"
           }
          ]
         },
         "layout": {
          "annotationdefaults": {
           "arrowcolor": "#2a3f5f",
           "arrowhead": 0,
           "arrowwidth": 1
          },
          "coloraxis": {
           "colorbar": {
            "outlinewidth": 0,
            "ticks": ""
           }
          },
          "colorscale": {
           "diverging": [
            [
             0,
             "#8e0152"
            ],
            [
             0.1,
             "#c51b7d"
            ],
            [
             0.2,
             "#de77ae"
            ],
            [
             0.3,
             "#f1b6da"
            ],
            [
             0.4,
             "#fde0ef"
            ],
            [
             0.5,
             "#f7f7f7"
            ],
            [
             0.6,
             "#e6f5d0"
            ],
            [
             0.7,
             "#b8e186"
            ],
            [
             0.8,
             "#7fbc41"
            ],
            [
             0.9,
             "#4d9221"
            ],
            [
             1,
             "#276419"
            ]
           ],
           "sequential": [
            [
             0,
             "#0d0887"
            ],
            [
             0.1111111111111111,
             "#46039f"
            ],
            [
             0.2222222222222222,
             "#7201a8"
            ],
            [
             0.3333333333333333,
             "#9c179e"
            ],
            [
             0.4444444444444444,
             "#bd3786"
            ],
            [
             0.5555555555555556,
             "#d8576b"
            ],
            [
             0.6666666666666666,
             "#ed7953"
            ],
            [
             0.7777777777777778,
             "#fb9f3a"
            ],
            [
             0.8888888888888888,
             "#fdca26"
            ],
            [
             1,
             "#f0f921"
            ]
           ],
           "sequentialminus": [
            [
             0,
             "#0d0887"
            ],
            [
             0.1111111111111111,
             "#46039f"
            ],
            [
             0.2222222222222222,
             "#7201a8"
            ],
            [
             0.3333333333333333,
             "#9c179e"
            ],
            [
             0.4444444444444444,
             "#bd3786"
            ],
            [
             0.5555555555555556,
             "#d8576b"
            ],
            [
             0.6666666666666666,
             "#ed7953"
            ],
            [
             0.7777777777777778,
             "#fb9f3a"
            ],
            [
             0.8888888888888888,
             "#fdca26"
            ],
            [
             1,
             "#f0f921"
            ]
           ]
          },
          "colorway": [
           "#636efa",
           "#EF553B",
           "#00cc96",
           "#ab63fa",
           "#FFA15A",
           "#19d3f3",
           "#FF6692",
           "#B6E880",
           "#FF97FF",
           "#FECB52"
          ],
          "font": {
           "color": "#2a3f5f"
          },
          "geo": {
           "bgcolor": "white",
           "lakecolor": "white",
           "landcolor": "#E5ECF6",
           "showlakes": true,
           "showland": true,
           "subunitcolor": "white"
          },
          "hoverlabel": {
           "align": "left"
          },
          "hovermode": "closest",
          "mapbox": {
           "style": "light"
          },
          "paper_bgcolor": "white",
          "plot_bgcolor": "#E5ECF6",
          "polar": {
           "angularaxis": {
            "gridcolor": "white",
            "linecolor": "white",
            "ticks": ""
           },
           "bgcolor": "#E5ECF6",
           "radialaxis": {
            "gridcolor": "white",
            "linecolor": "white",
            "ticks": ""
           }
          },
          "scene": {
           "xaxis": {
            "backgroundcolor": "#E5ECF6",
            "gridcolor": "white",
            "gridwidth": 2,
            "linecolor": "white",
            "showbackground": true,
            "ticks": "",
            "zerolinecolor": "white"
           },
           "yaxis": {
            "backgroundcolor": "#E5ECF6",
            "gridcolor": "white",
            "gridwidth": 2,
            "linecolor": "white",
            "showbackground": true,
            "ticks": "",
            "zerolinecolor": "white"
           },
           "zaxis": {
            "backgroundcolor": "#E5ECF6",
            "gridcolor": "white",
            "gridwidth": 2,
            "linecolor": "white",
            "showbackground": true,
            "ticks": "",
            "zerolinecolor": "white"
           }
          },
          "shapedefaults": {
           "line": {
            "color": "#2a3f5f"
           }
          },
          "ternary": {
           "aaxis": {
            "gridcolor": "white",
            "linecolor": "white",
            "ticks": ""
           },
           "baxis": {
            "gridcolor": "white",
            "linecolor": "white",
            "ticks": ""
           },
           "bgcolor": "#E5ECF6",
           "caxis": {
            "gridcolor": "white",
            "linecolor": "white",
            "ticks": ""
           }
          },
          "title": {
           "x": 0.05
          },
          "xaxis": {
           "automargin": true,
           "gridcolor": "white",
           "linecolor": "white",
           "ticks": "",
           "title": {
            "standoff": 15
           },
           "zerolinecolor": "white",
           "zerolinewidth": 2
          },
          "yaxis": {
           "automargin": true,
           "gridcolor": "white",
           "linecolor": "white",
           "ticks": "",
           "title": {
            "standoff": 15
           },
           "zerolinecolor": "white",
           "zerolinewidth": 2
          }
         }
        },
        "title": {
         "font": {
          "size": 25
         },
         "text": "kmeans Cluster"
        },
        "width": 750,
        "xaxis": {
         "autorange": true,
         "range": [
          -4.885293253424969,
          4.917438381439441
         ],
         "title": {
          "text": "Reduced Dimension 1"
         },
         "type": "linear",
         "zeroline": false
        },
        "yaxis": {
         "autorange": true,
         "range": [
          -4.027964527387639,
          4.3846586845751485
         ],
         "title": {
          "text": "Reduced Dimension 2"
         },
         "type": "linear",
         "zeroline": false
        }
       }
      },
      "image/png": "[encoded data removed]",
      "text/html": [
       "<div>\n",
       "        \n",
       "        \n",
       "            <div id=\"6f356360-02eb-42c1-9d2d-a6ef382b1f0b\" class=\"plotly-graph-div\" style=\"height:750px; width:750px;\"></div>\n",
       "            <script type=\"text/javascript\">\n",
       "                require([\"plotly\"], function(Plotly) {\n",
       "                    window.PLOTLYENV=window.PLOTLYENV || {};\n",
       "                    \n",
       "                if (document.getElementById(\"6f356360-02eb-42c1-9d2d-a6ef382b1f0b\")) {\n",
       "                    Plotly.newPlot(\n",
       "                        '6f356360-02eb-42c1-9d2d-a6ef382b1f0b',\n",
       "                        [{\"marker\": {\"colorscale\": [[0.0, \"rgb(161, 105, 40)\"], [0.16666666666666666, \"rgb(189, 146, 90)\"], [0.3333333333333333, \"rgb(214, 189, 141)\"], [0.5, \"rgb(237, 234, 194)\"], [0.6666666666666666, \"rgb(181, 200, 184)\"], [0.8333333333333334, \"rgb(121, 167, 172)\"], [1.0, \"rgb(40, 135, 161)\"]], \"opacity\": 0.7, \"size\": 10}, \"mode\": \"markers\", \"name\": \"Cluster #0\", \"type\": \"scatter\", \"x\": [3.3167508122147793, 2.2094649169188503, 2.5167401466103825, 3.7570656097732025, 1.0089084937957147, 3.050253922418076, 2.4490896695962325, 2.059436871437915, 2.5108742973989897, 2.7536281876339097, 3.4797366827312124, 1.75475290129459, 2.1134623403150967, 3.458156819336722, 4.312783906765562, 2.3051882008279727, 2.1719552737415126, 1.898971176562761, 3.541985081943469, 2.084522204730313, 3.124402535167201, 1.086570068332239, 2.5352240799037156, 1.6449883412544708, 1.7615758722693016, 0.9900791016088568, 1.7752776281133689, 1.2354239643099068, 2.188406334451963, 2.2561089812837087, 2.5002200257894267, 2.677411047444015, 1.6285791164309198, 1.9026908622381489, 1.4103885265954075, 1.9038262321944877, 1.3848622303748401, 1.1222074104413111, 1.502194500618193, 2.5298010923718093, 2.5880954258544033, 0.6684819937541856, 3.070806990412008, 0.4622091375160059, 2.101351930538016, 1.1361661775610168, 2.726600963640803, 2.82133927419225, 2.0098508509123585, 2.707491304266394, 3.214917474773823, 2.858959826717295, 3.5056043559232224, 2.2247913805321735, 2.146987823563867, 2.4693294837977886, 2.7415179142774537, 2.1737409209653076, 3.139380151828996, 2.5622271731703625, 2.543865184199553, 1.3363217334183295], \"y\": [-1.443462634318013, 0.33339288708029924, -1.0311512962743195, -2.7563719137107143, -0.8698308214172044, -2.1224011146341946, -1.1748501316494764, -1.6089630683635103, -0.918070957333781, -0.789437673833609, -1.3023332371235974, -0.6119772287456334, -0.6757063391426205, -1.1306298761729412, -2.095975575341266, -1.662551729989058, -2.327305336191422, -1.6313688786428395, -2.5183436693066494, -1.0611379935838625, -0.7868971056508977, -0.24174355133283995, 0.09184062072087927, 0.5162789300672354, 0.3171489326843805, -0.9406673381906333, -0.6861751342850242, 0.08980704136063912, -0.6895696206616262, -0.1914619368866672, -1.240833834896944, -1.4718736461032502, -0.052704450575324385, -1.6330604347699849, -0.6979343246113575, -0.17671095109545715, -0.6586398536611494, -0.11410976029688823, 0.7694320064310082, -1.8030019760618319, -0.7796163041925093, -0.16996094061987652, -1.1559189566098853, -0.3307421321922759, 0.07100892095406615, -1.7771073929776402, -1.1913346919571877, -0.6462585991417057, -1.2470294606787622, -1.7519674072063396, -0.166991994996792, -0.7452788039895899, -1.6127338560350135, -1.8751679995630264, -1.0167515377576617, -1.3290083106496235, -1.4365487835125175, -1.212199840697795, -1.7315791159925145, -0.2601985506545964, -0.16927402279973985, -0.2533369311683021]}, {\"marker\": {\"colorscale\": [[0.0, \"rgb(161, 105, 40)\"], [0.16666666666666666, \"rgb(189, 146, 90)\"], [0.3333333333333333, \"rgb(214, 189, 141)\"], [0.5, \"rgb(237, 234, 194)\"], [0.6666666666666666, \"rgb(181, 200, 184)\"], [0.8333333333333334, \"rgb(121, 167, 172)\"], [1.0, \"rgb(40, 135, 161)\"]], \"opacity\": 0.7, \"size\": 10}, \"mode\": \"markers\", \"name\": \"Cluster #1\", \"type\": \"scatter\", \"x\": [-0.9285819689218537, -1.5424801378968795, 0.03060683408668104, 2.050261607576317, -0.6096808271776213, 0.9002278387071442, 2.248507190798395, 0.1833840266847567, -0.8128050273520703, 1.9756204987985555, -1.5722162196262988, 1.6576818088332903, -0.7253723880353555, 1.8325675700495483, -0.8679929031954122, 0.3700144042947841, -1.457377044906139, 1.2629308497284988, 0.3761503719342399, 0.7620639041096002, 1.0345779671651876, -0.49487675568032624, 0.8353201453942988, 0.7879046149897109, -0.8068321559655374, -0.5580426248756815, -1.115111041919446, -0.5557228299517003, -1.3492852824437302, -1.5644826057199048, -1.9325556106314632, 0.7466659419884499, 0.957455363803641, -0.5439525887762282, 1.0310497503881495, 2.2519094221481257, 1.4102160153374597, 0.7977197926930414, -0.5495317266494633, -0.16117373994854556, -0.6597949416843597, 0.3923544081850837, -1.772499077960035, -0.36626735735206384, -1.620672572787479, 0.08253578349332853, 1.5782750709323825, 1.4205692478240148, -0.2787027536488548, -1.3031449662482797, -0.4570718656526238, -0.49418584704437446, 0.48207440977309407, -0.25288887765319895, -0.10722763772912279, -0.5510895391746504, 0.739621928568221, -1.177086996247774, -0.46233500801968264, 0.9784740793566468, -0.09680972631598556, 0.03848714594902509, -1.5971585012074716, -0.47956491608312496, -1.792833473031145], \"y\": [3.073486163188928, 1.3814435080942304, 1.2627861442114008, 1.9250326046501014, 1.90805880508519, 0.7639114736096105, 1.8845924845501323, 2.4271461147035724, 0.22051398690226928, 1.4032832253096152, 0.8849831369082242, 0.9567121974591479, 1.063645400706094, 1.2878781978605265, 2.444101185580866, 2.1539069751569873, 1.3833517690762616, 0.7708495299701182, 1.027043403355823, 3.375053809963536, 1.450709738244092, 2.3812435267673724, 1.4736705514008699, 2.026626522462478, 2.2338303908439134, 2.372985428849459, 1.802247191665457, 2.6575400353922953, 2.11800146978482, 1.8522145217655537, 1.559495456898623, 2.3129317092207407, 2.2235284346674624, 0.3689265458773194, 2.565569348733524, 1.4327413803542552, 2.166191769370385, 2.3769488030818624, 2.293128643245627, 1.1644833215600174, 2.679961185989637, 2.0987317087655373, 1.7172884693761445, 2.1693532978292844, 1.3555833880259585, 2.3062345877483263, 1.4620342902048193, 1.4182066376337517, 1.9305680886704686, 0.7631723136577948, 2.2694156075896776, 1.939045049486834, 3.871783848407242, 2.8214923747015943, 1.9289220425669602, 2.2221615507766233, 1.4089566673657148, 0.6639668398015728, 0.6182881794850409, 1.4455704988958282, 2.109997993135227, 1.2667621091578862, 1.2081435741284887, 1.9388406603940498, 1.1502881044421067]}, {\"marker\": {\"colorscale\": [[0.0, \"rgb(161, 105, 40)\"], [0.16666666666666666, \"rgb(189, 146, 90)\"], [0.3333333333333333, \"rgb(214, 189, 141)\"], [0.5, \"rgb(237, 234, 194)\"], [0.6666666666666666, \"rgb(181, 200, 184)\"], [0.8333333333333334, \"rgb(121, 167, 172)\"], [1.0, \"rgb(40, 135, 161)\"]], \"opacity\": 0.7, \"size\": 10}, \"mode\": \"markers\", \"name\": \"Cluster #2\", \"type\": \"scatter\", \"x\": [-1.83624976346694, -2.5389770842951225, -2.433012602550219, -1.3271016561416014, -2.384500834743531, -2.9369401021466137, -2.1468111338160654, -2.369869488333043, -3.0638415687203557, -3.9157537837118914, -3.9364633907159656, -3.094276117762277, -2.374471628006924, -2.778812947632514, -2.2865612847384695, -2.9856334874494665, -2.3751946982271104, -2.2098655255958732, -2.6256210046927224, -4.280638778751089, -3.5826413720011074, -2.807063720081661, -2.8996593330239127, -2.320736976549206, -2.549830947226138, -1.8125412848422993, -2.7601446419239526, -2.7371505006679913, -3.6048688681834276, -2.8898259968735096, -3.3921560768357226, -1.0481818968536798, -1.6099122828479373, -3.1431309667439775, -2.2401568962695437, -2.847673776119522, -2.5974970566487654, -2.9492993731348456, -3.530032266349314, -2.406110540478555, -2.929084726967458, -2.1814127788126223, -2.3809277871356422, -3.211617215041249, -3.6779187209738184, -2.4655557980404508, -3.3705241454428645, -2.6019558512247394, -2.6778394608645053, -2.3870170912797204, -3.2087581641980245], \"y\": [0.8299841230557182, 0.08744335730498247, 1.2571410404943932, -0.17038923204902734, -0.37458260552469297, -0.2638618300683794, -0.3682549518864607, 0.4596348092311676, -0.353412835458402, -0.15458251944173051, -0.6596872334097811, -0.34884275927379665, -0.2919803515599933, -0.2868048728821731, -0.3725078446852991, -0.4892179083470122, -0.48233371724487933, -1.1600525041576424, -0.5631607642108345, -0.6496709640237073, -1.272702749727301, -1.5705337870411977, -2.041057007938464, -2.356366075556675, -2.0452830910195234, -1.5276459462687504, -2.138932347642612, -0.4098862708817896, -1.802384217583967, -1.9252186131303441, -1.311876388473594, -3.5150896912197327, -2.4066381595743285, -0.7381610441757964, -1.1754652881188652, -0.5560439658826731, -0.697965537200919, -1.5553089642839848, -0.8825267962042368, -2.5923561750423985, -1.2744469479044822, -2.0775373127345156, -2.5886674324185903, 0.25124910442559306, -0.8477478441497627, -2.1937983036540953, -2.2162891398611375, -1.7572293509792754, -2.760899131674547, -2.297346679712819, -2.7689195660475767]}],\n",
       "                        {\"autosize\": false, \"height\": 750, \"template\": {\"data\": {\"bar\": [{\"error_x\": {\"color\": \"#2a3f5f\"}, \"error_y\": {\"color\": \"#2a3f5f\"}, \"marker\": {\"line\": {\"color\": \"#E5ECF6\", \"width\": 0.5}}, \"type\": \"bar\"}], \"barpolar\": [{\"marker\": {\"line\": {\"color\": \"#E5ECF6\", \"width\": 0.5}}, \"type\": \"barpolar\"}], \"carpet\": [{\"aaxis\": {\"endlinecolor\": \"#2a3f5f\", \"gridcolor\": \"white\", \"linecolor\": \"white\", \"minorgridcolor\": \"white\", \"startlinecolor\": \"#2a3f5f\"}, \"baxis\": {\"endlinecolor\": \"#2a3f5f\", \"gridcolor\": \"white\", \"linecolor\": \"white\", \"minorgridcolor\": \"white\", \"startlinecolor\": \"#2a3f5f\"}, \"type\": \"carpet\"}], \"choropleth\": [{\"colorbar\": {\"outlinewidth\": 0, \"ticks\": \"\"}, \"type\": \"choropleth\"}], \"contour\": [{\"colorbar\": {\"outlinewidth\": 0, \"ticks\": \"\"}, \"colorscale\": [[0.0, \"#0d0887\"], [0.1111111111111111, \"#46039f\"], [0.2222222222222222, \"#7201a8\"], [0.3333333333333333, \"#9c179e\"], [0.4444444444444444, \"#bd3786\"], [0.5555555555555556, \"#d8576b\"], [0.6666666666666666, \"#ed7953\"], [0.7777777777777778, \"#fb9f3a\"], [0.8888888888888888, \"#fdca26\"], [1.0, \"#f0f921\"]], \"type\": \"contour\"}], \"contourcarpet\": [{\"colorbar\": {\"outlinewidth\": 0, \"ticks\": \"\"}, \"type\": \"contourcarpet\"}], \"heatmap\": [{\"colorbar\": {\"outlinewidth\": 0, \"ticks\": \"\"}, \"colorscale\": [[0.0, \"#0d0887\"], [0.1111111111111111, \"#46039f\"], [0.2222222222222222, \"#7201a8\"], [0.3333333333333333, \"#9c179e\"], [0.4444444444444444, \"#bd3786\"], [0.5555555555555556, \"#d8576b\"], [0.6666666666666666, \"#ed7953\"], [0.7777777777777778, \"#fb9f3a\"], [0.8888888888888888, \"#fdca26\"], [1.0, \"#f0f921\"]], \"type\": \"heatmap\"}], \"heatmapgl\": [{\"colorbar\": {\"outlinewidth\": 0, \"ticks\": \"\"}, \"colorscale\": [[0.0, \"#0d0887\"], [0.1111111111111111, \"#46039f\"], [0.2222222222222222, \"#7201a8\"], [0.3333333333333333, \"#9c179e\"], [0.4444444444444444, \"#bd3786\"], [0.5555555555555556, \"#d8576b\"], [0.6666666666666666, \"#ed7953\"], [0.7777777777777778, \"#fb9f3a\"], [0.8888888888888888, \"#fdca26\"], [1.0, \"#f0f921\"]], \"type\": \"heatmapgl\"}], \"histogram\": [{\"marker\": {\"colorbar\": {\"outlinewidth\": 0, \"ticks\": \"\"}}, \"type\": \"histogram\"}], \"histogram2d\": [{\"colorbar\": {\"outlinewidth\": 0, \"ticks\": \"\"}, \"colorscale\": [[0.0, \"#0d0887\"], [0.1111111111111111, \"#46039f\"], [0.2222222222222222, \"#7201a8\"], [0.3333333333333333, \"#9c179e\"], [0.4444444444444444, \"#bd3786\"], [0.5555555555555556, \"#d8576b\"], [0.6666666666666666, \"#ed7953\"], [0.7777777777777778, \"#fb9f3a\"], [0.8888888888888888, \"#fdca26\"], [1.0, \"#f0f921\"]], \"type\": \"histogram2d\"}], \"histogram2dcontour\": [{\"colorbar\": {\"outlinewidth\": 0, \"ticks\": \"\"}, \"colorscale\": [[0.0, \"#0d0887\"], [0.1111111111111111, \"#46039f\"], [0.2222222222222222, \"#7201a8\"], [0.3333333333333333, \"#9c179e\"], [0.4444444444444444, \"#bd3786\"], [0.5555555555555556, \"#d8576b\"], [0.6666666666666666, \"#ed7953\"], [0.7777777777777778, \"#fb9f3a\"], [0.8888888888888888, \"#fdca26\"], [1.0, \"#f0f921\"]], \"type\": \"histogram2dcontour\"}], \"mesh3d\": [{\"colorbar\": {\"outlinewidth\": 0, \"ticks\": \"\"}, \"type\": \"mesh3d\"}], \"parcoords\": [{\"line\": {\"colorbar\": {\"outlinewidth\": 0, \"ticks\": \"\"}}, \"type\": \"parcoords\"}], \"pie\": [{\"automargin\": true, \"type\": \"pie\"}], \"scatter\": [{\"marker\": {\"colorbar\": {\"outlinewidth\": 0, \"ticks\": \"\"}}, \"type\": \"scatter\"}], \"scatter3d\": [{\"line\": {\"colorbar\": {\"outlinewidth\": 0, \"ticks\": \"\"}}, \"marker\": {\"colorbar\": {\"outlinewidth\": 0, \"ticks\": \"\"}}, \"type\": \"scatter3d\"}], \"scattercarpet\": [{\"marker\": {\"colorbar\": {\"outlinewidth\": 0, \"ticks\": \"\"}}, \"type\": \"scattercarpet\"}], \"scattergeo\": [{\"marker\": {\"colorbar\": {\"outlinewidth\": 0, \"ticks\": \"\"}}, \"type\": \"scattergeo\"}], \"scattergl\": [{\"marker\": {\"colorbar\": {\"outlinewidth\": 0, \"ticks\": \"\"}}, \"type\": \"scattergl\"}], \"scattermapbox\": [{\"marker\": {\"colorbar\": {\"outlinewidth\": 0, \"ticks\": \"\"}}, \"type\": \"scattermapbox\"}], \"scatterpolar\": [{\"marker\": {\"colorbar\": {\"outlinewidth\": 0, \"ticks\": \"\"}}, \"type\": \"scatterpolar\"}], \"scatterpolargl\": [{\"marker\": {\"colorbar\": {\"outlinewidth\": 0, \"ticks\": \"\"}}, \"type\": \"scatterpolargl\"}], \"scatterternary\": [{\"marker\": {\"colorbar\": {\"outlinewidth\": 0, \"ticks\": \"\"}}, \"type\": \"scatterternary\"}], \"surface\": [{\"colorbar\": {\"outlinewidth\": 0, \"ticks\": \"\"}, \"colorscale\": [[0.0, \"#0d0887\"], [0.1111111111111111, \"#46039f\"], [0.2222222222222222, \"#7201a8\"], [0.3333333333333333, \"#9c179e\"], [0.4444444444444444, \"#bd3786\"], [0.5555555555555556, \"#d8576b\"], [0.6666666666666666, \"#ed7953\"], [0.7777777777777778, \"#fb9f3a\"], [0.8888888888888888, \"#fdca26\"], [1.0, \"#f0f921\"]], \"type\": \"surface\"}], \"table\": [{\"cells\": {\"fill\": {\"color\": \"#EBF0F8\"}, \"line\": {\"color\": \"white\"}}, \"header\": {\"fill\": {\"color\": \"#C8D4E3\"}, \"line\": {\"color\": \"white\"}}, \"type\": \"table\"}]}, \"layout\": {\"annotationdefaults\": {\"arrowcolor\": \"#2a3f5f\", \"arrowhead\": 0, \"arrowwidth\": 1}, \"coloraxis\": {\"colorbar\": {\"outlinewidth\": 0, \"ticks\": \"\"}}, \"colorscale\": {\"diverging\": [[0, \"#8e0152\"], [0.1, \"#c51b7d\"], [0.2, \"#de77ae\"], [0.3, \"#f1b6da\"], [0.4, \"#fde0ef\"], [0.5, \"#f7f7f7\"], [0.6, \"#e6f5d0\"], [0.7, \"#b8e186\"], [0.8, \"#7fbc41\"], [0.9, \"#4d9221\"], [1, \"#276419\"]], \"sequential\": [[0.0, \"#0d0887\"], [0.1111111111111111, \"#46039f\"], [0.2222222222222222, \"#7201a8\"], [0.3333333333333333, \"#9c179e\"], [0.4444444444444444, \"#bd3786\"], [0.5555555555555556, \"#d8576b\"], [0.6666666666666666, \"#ed7953\"], [0.7777777777777778, \"#fb9f3a\"], [0.8888888888888888, \"#fdca26\"], [1.0, \"#f0f921\"]], \"sequentialminus\": [[0.0, \"#0d0887\"], [0.1111111111111111, \"#46039f\"], [0.2222222222222222, \"#7201a8\"], [0.3333333333333333, \"#9c179e\"], [0.4444444444444444, \"#bd3786\"], [0.5555555555555556, \"#d8576b\"], [0.6666666666666666, \"#ed7953\"], [0.7777777777777778, \"#fb9f3a\"], [0.8888888888888888, \"#fdca26\"], [1.0, \"#f0f921\"]]}, \"colorway\": [\"#636efa\", \"#EF553B\", \"#00cc96\", \"#ab63fa\", \"#FFA15A\", \"#19d3f3\", \"#FF6692\", \"#B6E880\", \"#FF97FF\", \"#FECB52\"], \"font\": {\"color\": \"#2a3f5f\"}, \"geo\": {\"bgcolor\": \"white\", \"lakecolor\": \"white\", \"landcolor\": \"#E5ECF6\", \"showlakes\": true, \"showland\": true, \"subunitcolor\": \"white\"}, \"hoverlabel\": {\"align\": \"left\"}, \"hovermode\": \"closest\", \"mapbox\": {\"style\": \"light\"}, \"paper_bgcolor\": \"white\", \"plot_bgcolor\": \"#E5ECF6\", \"polar\": {\"angularaxis\": {\"gridcolor\": \"white\", \"linecolor\": \"white\", \"ticks\": \"\"}, \"bgcolor\": \"#E5ECF6\", \"radialaxis\": {\"gridcolor\": \"white\", \"linecolor\": \"white\", \"ticks\": \"\"}}, \"scene\": {\"xaxis\": {\"backgroundcolor\": \"#E5ECF6\", \"gridcolor\": \"white\", \"gridwidth\": 2, \"linecolor\": \"white\", \"showbackground\": true, \"ticks\": \"\", \"zerolinecolor\": \"white\"}, \"yaxis\": {\"backgroundcolor\": \"#E5ECF6\", \"gridcolor\": \"white\", \"gridwidth\": 2, \"linecolor\": \"white\", \"showbackground\": true, \"ticks\": \"\", \"zerolinecolor\": \"white\"}, \"zaxis\": {\"backgroundcolor\": \"#E5ECF6\", \"gridcolor\": \"white\", \"gridwidth\": 2, \"linecolor\": \"white\", \"showbackground\": true, \"ticks\": \"\", \"zerolinecolor\": \"white\"}}, \"shapedefaults\": {\"line\": {\"color\": \"#2a3f5f\"}}, \"ternary\": {\"aaxis\": {\"gridcolor\": \"white\", \"linecolor\": \"white\", \"ticks\": \"\"}, \"baxis\": {\"gridcolor\": \"white\", \"linecolor\": \"white\", \"ticks\": \"\"}, \"bgcolor\": \"#E5ECF6\", \"caxis\": {\"gridcolor\": \"white\", \"linecolor\": \"white\", \"ticks\": \"\"}}, \"title\": {\"x\": 0.05}, \"xaxis\": {\"automargin\": true, \"gridcolor\": \"white\", \"linecolor\": \"white\", \"ticks\": \"\", \"title\": {\"standoff\": 15}, \"zerolinecolor\": \"white\", \"zerolinewidth\": 2}, \"yaxis\": {\"automargin\": true, \"gridcolor\": \"white\", \"linecolor\": \"white\", \"ticks\": \"\", \"title\": {\"standoff\": 15}, \"zerolinecolor\": \"white\", \"zerolinewidth\": 2}}}, \"title\": {\"font\": {\"size\": 25}, \"text\": \"kmeans Cluster\"}, \"width\": 750, \"xaxis\": {\"title\": {\"text\": \"Reduced Dimension 1\"}, \"zeroline\": false}, \"yaxis\": {\"title\": {\"text\": \"Reduced Dimension 2\"}, \"zeroline\": false}},\n",
       "                        {\"responsive\": true}\n",
       "                    ).then(function(){\n",
       "                            \n",
       "var gd = document.getElementById('6f356360-02eb-42c1-9d2d-a6ef382b1f0b');\n",
       "var x = new MutationObserver(function (mutations, observer) {{\n",
       "        var display = window.getComputedStyle(gd).display;\n",
       "        if (!display || display === 'none') {{\n",
       "            console.log([gd, 'removed!']);\n",
       "            Plotly.purge(gd);\n",
       "            observer.disconnect();\n",
       "        }}\n",
       "}});\n",
       "\n",
       "// Listen for the removal of the full notebook cells\n",
       "var notebookContainer = gd.closest('#notebook-container');\n",
       "if (notebookContainer) {{\n",
       "    x.observe(notebookContainer, {childList: true});\n",
       "}}\n",
       "\n",
       "// Listen for the clearing of the current output cell\n",
       "var outputEl = gd.closest('.output');\n",
       "if (outputEl) {{\n",
       "    x.observe(outputEl, {childList: true});\n",
       "}}\n",
       "\n",
       "                        })\n",
       "                };\n",
       "                });\n",
       "            </script>\n",
       "        </div>"
      ]
     },
     "metadata": {},
     "output_type": "display_data"
    },
    {
     "data": {
      "text/plain": [
       "None"
      ]
     },
     "metadata": {},
     "output_type": "display_data"
    },
    {
     "data": {
      "text/plain": [
       "<data_describe.core.clusters.KmeansClusterWidget at 0x2ce52341888>"
      ]
     },
     "execution_count": 4,
     "metadata": {},
     "output_type": "execute_result"
    }
   ],
   "source": [
    "dd.cluster(df, target=target, viz_backend=\"plotly\")"
   ]
  },
  {
   "cell_type": "markdown",
   "metadata": {
    "papermill": {
     "duration": 0.030997,
     "end_time": "2020-07-28T03:35:09.617844",
     "exception": false,
     "start_time": "2020-07-28T03:35:09.586847",
     "status": "completed"
    },
    "tags": []
   },
   "source": [
    "## Show Cluster Search for K-Means"
   ]
  },
  {
   "cell_type": "code",
   "execution_count": 5,
   "metadata": {
    "papermill": {
     "duration": 1.459604,
     "end_time": "2020-07-28T03:35:11.105446",
     "exception": false,
     "start_time": "2020-07-28T03:35:09.645842",
     "status": "completed"
    },
    "tags": []
   },
   "outputs": [
    {
     "data": {
      "text/plain": [
       "<matplotlib.axes._subplots.AxesSubplot at 0x2ceb862d5c8>"
      ]
     },
     "execution_count": 5,
     "metadata": {},
     "output_type": "execute_result"
    },
    {
     "data": {
      "image/png": "[encoded data removed]",
      "text/plain": [
       "<Figure size 720x720 with 1 Axes>"
      ]
     },
     "metadata": {
      "needs_background": "light"
     },
     "output_type": "display_data"
    }
   ],
   "source": [
    "cl = dd.cluster(df, target=target)\n",
    "cl.cluster_search_plot()"
   ]
  },
  {
   "cell_type": "markdown",
   "metadata": {
    "papermill": {
     "duration": 0.023003,
     "end_time": "2020-07-28T03:35:11.168429",
     "exception": false,
     "start_time": "2020-07-28T03:35:11.145426",
     "status": "completed"
    },
    "tags": []
   },
   "source": [
    "## Visualize using t-SNE for Dimensionality Reduction"
   ]
  },
  {
   "cell_type": "code",
   "execution_count": 6,
   "metadata": {
    "papermill": {
     "duration": 3.252029,
     "end_time": "2020-07-28T03:35:14.446457",
     "exception": false,
     "start_time": "2020-07-28T03:35:11.194428",
     "status": "completed"
    },
    "tags": []
   },
   "outputs": [
    {
     "data": {
      "text/plain": [
       "<matplotlib.axes._subplots.AxesSubplot at 0x2ceb88b4a08>"
      ]
     },
     "metadata": {},
     "output_type": "display_data"
    },
    {
     "data": {
      "text/plain": [
       "<data_describe.core.clusters.KmeansClusterWidget at 0x2ceb8696fc8>"
      ]
     },
     "execution_count": 6,
     "metadata": {},
     "output_type": "execute_result"
    },
    {
     "data": {
      "image/png": "[encoded data removed]",
      "text/plain": [
       "<Figure size 720x720 with 1 Axes>"
      ]
     },
     "metadata": {
      "needs_background": "light"
     },
     "output_type": "display_data"
    }
   ],
   "source": [
    "dd.cluster(df, target=target, dim_method=\"tsne\")"
   ]
  },
  {
   "cell_type": "markdown",
   "metadata": {
    "papermill": {
     "duration": 0.051996,
     "end_time": "2020-07-28T03:35:14.650454",
     "exception": false,
     "start_time": "2020-07-28T03:35:14.598458",
     "status": "completed"
    },
    "tags": []
   },
   "source": [
    "## Return Reduced Data with Cluster Labels"
   ]
  },
  {
   "cell_type": "code",
   "execution_count": 7,
   "metadata": {
    "papermill": {
     "duration": 0.076996,
     "end_time": "2020-07-28T03:35:14.791458",
     "exception": false,
     "start_time": "2020-07-28T03:35:14.714462",
     "status": "completed"
    },
    "tags": []
   },
   "outputs": [
    {
     "data": {
      "text/html": [
       "<div>\n",
       "<style scoped>\n",
       "    .dataframe tbody tr th:only-of-type {\n",
       "        vertical-align: middle;\n",
       "    }\n",
       "\n",
       "    .dataframe tbody tr th {\n",
       "        vertical-align: top;\n",
       "    }\n",
       "\n",
       "    .dataframe thead th {\n",
       "        text-align: right;\n",
       "    }\n",
       "</style>\n",
       "<table border=\"1\" class=\"dataframe\">\n",
       "  <thead>\n",
       "    <tr style=\"text-align: right;\">\n",
       "      <th></th>\n",
       "      <th>x</th>\n",
       "      <th>y</th>\n",
       "      <th>clusters</th>\n",
       "    </tr>\n",
       "  </thead>\n",
       "  <tbody>\n",
       "    <tr>\n",
       "      <th>0</th>\n",
       "      <td>3.316751</td>\n",
       "      <td>-1.443463</td>\n",
       "      <td>0</td>\n",
       "    </tr>\n",
       "    <tr>\n",
       "      <th>1</th>\n",
       "      <td>2.209465</td>\n",
       "      <td>0.333393</td>\n",
       "      <td>0</td>\n",
       "    </tr>\n",
       "    <tr>\n",
       "      <th>2</th>\n",
       "      <td>2.516740</td>\n",
       "      <td>-1.031151</td>\n",
       "      <td>0</td>\n",
       "    </tr>\n",
       "    <tr>\n",
       "      <th>3</th>\n",
       "      <td>3.757066</td>\n",
       "      <td>-2.756372</td>\n",
       "      <td>0</td>\n",
       "    </tr>\n",
       "    <tr>\n",
       "      <th>4</th>\n",
       "      <td>1.008908</td>\n",
       "      <td>-0.869831</td>\n",
       "      <td>0</td>\n",
       "    </tr>\n",
       "  </tbody>\n",
       "</table>\n",
       "</div>"
      ],
      "text/plain": [
       "          x         y  clusters\n",
       "0  3.316751 -1.443463         0\n",
       "1  2.209465  0.333393         0\n",
       "2  2.516740 -1.031151         0\n",
       "3  3.757066 -2.756372         0\n",
       "4  1.008908 -0.869831         0"
      ]
     },
     "execution_count": 7,
     "metadata": {},
     "output_type": "execute_result"
    }
   ],
   "source": [
    "cl.viz_data.head()"
   ]
  },
  {
   "cell_type": "markdown",
   "metadata": {
    "papermill": {
     "duration": 0.049,
     "end_time": "2020-07-28T03:35:14.885458",
     "exception": false,
     "start_time": "2020-07-28T03:35:14.836458",
     "status": "completed"
    },
    "tags": []
   },
   "source": [
    "## Return Cluster Labels Only"
   ]
  },
  {
   "cell_type": "code",
   "execution_count": 8,
   "metadata": {
    "papermill": {
     "duration": 0.081994,
     "end_time": "2020-07-28T03:35:15.162453",
     "exception": false,
     "start_time": "2020-07-28T03:35:15.080459",
     "status": "completed"
    },
    "tags": []
   },
   "outputs": [
    {
     "data": {
      "text/plain": [
       "array([0, 0, 0, 0, 0, 0, 0, 0, 0, 0, 0, 0, 0, 0, 0, 0, 0, 0, 0, 0, 0, 0,\n",
       "       0, 0, 0, 0, 0, 0, 0, 0, 0, 0, 0, 0, 0, 0, 0, 0, 0, 0, 0, 0, 0, 0,\n",
       "       0, 0, 0, 0, 0, 0, 0, 0, 0, 0, 0, 0, 0, 0, 0, 1, 1, 2, 1, 1, 1, 1,\n",
       "       1, 1, 1, 1, 1, 1, 1, 0, 1, 1, 1, 1, 1, 1, 1, 1, 1, 2, 1, 1, 1, 1,\n",
       "       1, 1, 1, 1, 1, 1, 1, 0, 1, 1, 1, 1, 1, 1, 1, 1, 1, 1, 1, 1, 1, 1,\n",
       "       1, 1, 1, 1, 1, 1, 1, 1, 2, 1, 1, 0, 1, 1, 1, 1, 1, 1, 1, 1, 2, 2,\n",
       "       2, 2, 2, 2, 2, 2, 2, 2, 2, 2, 2, 2, 2, 2, 2, 2, 2, 2, 2, 2, 2, 2,\n",
       "       2, 2, 2, 2, 2, 2, 2, 2, 2, 2, 2, 2, 2, 2, 2, 2, 2, 2, 2, 2, 2, 2,\n",
       "       2, 2])"
      ]
     },
     "execution_count": 8,
     "metadata": {},
     "output_type": "execute_result"
    }
   ],
   "source": [
    "cl.clusters"
   ]
  },
  {
   "cell_type": "markdown",
   "metadata": {
    "papermill": {
     "duration": 0.060986,
     "end_time": "2020-07-28T03:35:15.278458",
     "exception": false,
     "start_time": "2020-07-28T03:35:15.217472",
     "status": "completed"
    },
    "tags": []
   },
   "source": [
    "## KMeans - Specifying number of clusters"
   ]
  },
  {
   "cell_type": "code",
   "execution_count": 9,
   "metadata": {
    "papermill": {
     "duration": 1.069996,
     "end_time": "2020-07-28T03:35:16.435451",
     "exception": false,
     "start_time": "2020-07-28T03:35:15.365455",
     "status": "completed"
    },
    "tags": []
   },
   "outputs": [
    {
     "data": {
      "text/plain": [
       "<matplotlib.axes._subplots.AxesSubplot at 0x2cd1f303988>"
      ]
     },
     "metadata": {},
     "output_type": "display_data"
    },
    {
     "data": {
      "text/plain": [
       "<data_describe.core.clusters.KmeansClusterWidget at 0x2ceb8aeaf88>"
      ]
     },
     "execution_count": 9,
     "metadata": {},
     "output_type": "execute_result"
    },
    {
     "data": {
      "image/png": "[encoded data removed]",
      "text/plain": [
       "<Figure size 720x720 with 1 Axes>"
      ]
     },
     "metadata": {
      "needs_background": "light"
     },
     "output_type": "display_data"
    }
   ],
   "source": [
    "dd.cluster(df, n_clusters=4)"
   ]
  },
  {
   "cell_type": "markdown",
   "metadata": {
    "papermill": {
     "duration": 0.176014,
     "end_time": "2020-07-28T03:35:16.670466",
     "exception": false,
     "start_time": "2020-07-28T03:35:16.494452",
     "status": "completed"
    },
    "tags": []
   },
   "source": [
    "## KMeans - Using Davies-Bouldin for finding optimal `n_clusters`"
   ]
  },
  {
   "cell_type": "code",
   "execution_count": 10,
   "metadata": {
    "papermill": {
     "duration": 1.926556,
     "end_time": "2020-07-28T03:35:18.772009",
     "exception": false,
     "start_time": "2020-07-28T03:35:16.845453",
     "status": "completed"
    },
    "tags": []
   },
   "outputs": [
    {
     "data": {
      "text/plain": [
       "<matplotlib.axes._subplots.AxesSubplot at 0x2ceb83eac48>"
      ]
     },
     "metadata": {},
     "output_type": "display_data"
    },
    {
     "data": {
      "text/plain": [
       "<data_describe.core.clusters.KmeansClusterWidget at 0x2ceb714d908>"
      ]
     },
     "execution_count": 10,
     "metadata": {},
     "output_type": "execute_result"
    },
    {
     "data": {
      "image/png": "[encoded data removed]",
      "text/plain": [
       "<Figure size 720x720 with 1 Axes>"
      ]
     },
     "metadata": {
      "needs_background": "light"
     },
     "output_type": "display_data"
    }
   ],
   "source": [
    "cl = dd.cluster(df, target=target, metric='davies_bouldin_score')\n",
    "cl"
   ]
  },
  {
   "cell_type": "code",
   "execution_count": 11,
   "metadata": {
    "papermill": {
     "duration": 0.241942,
     "end_time": "2020-07-28T03:35:19.051985",
     "exception": false,
     "start_time": "2020-07-28T03:35:18.810043",
     "status": "completed"
    },
    "tags": []
   },
   "outputs": [
    {
     "data": {
      "text/plain": [
       "<matplotlib.axes._subplots.AxesSubplot at 0x2ceb6932748>"
      ]
     },
     "execution_count": 11,
     "metadata": {},
     "output_type": "execute_result"
    },
    {
     "data": {
      "image/png": "[encoded data removed]",
      "text/plain": [
       "<Figure size 720x720 with 1 Axes>"
      ]
     },
     "metadata": {
      "needs_background": "light"
     },
     "output_type": "display_data"
    }
   ],
   "source": [
    "cl.cluster_search_plot()"
   ]
  },
  {
   "cell_type": "markdown",
   "metadata": {
    "papermill": {
     "duration": 0.037003,
     "end_time": "2020-07-28T03:35:19.125987",
     "exception": false,
     "start_time": "2020-07-28T03:35:19.088984",
     "status": "completed"
    },
    "tags": []
   },
   "source": [
    "## HDBSCAN\n"
   ]
  },
  {
   "cell_type": "code",
   "execution_count": 12,
   "metadata": {
    "papermill": {
     "duration": 0.154003,
     "end_time": "2020-07-28T03:35:19.312988",
     "exception": false,
     "start_time": "2020-07-28T03:35:19.158985",
     "status": "completed"
    },
    "tags": []
   },
   "outputs": [
    {
     "data": {
      "text/html": [
       "        <script type=\"text/javascript\">\n",
       "        window.PlotlyConfig = {MathJaxConfig: 'local'};\n",
       "        if (window.MathJax) {MathJax.Hub.Config({SVG: {font: \"STIX-Web\"}});}\n",
       "        if (typeof require !== 'undefined') {\n",
       "        require.undef(\"plotly\");\n",
       "        requirejs.config({\n",
       "            paths: {\n",
       "                'plotly': ['https://cdn.plot.ly/plotly-latest.min']\n",
       "            }\n",
       "        });\n",
       "        require(['plotly'], function(Plotly) {\n",
       "            window._Plotly = Plotly;\n",
       "        });\n",
       "        }\n",
       "        </script>\n",
       "        "
      ]
     },
     "metadata": {},
     "output_type": "display_data"
    },
    {
     "data": {
      "application/vnd.plotly.v1+json": {
       "config": {
        "linkText": "Export to plot.ly",
        "plotlyServerURL": "https://plot.ly",
        "showLink": false
       },
       "data": [
        {
         "marker": {
          "colorscale": [
           [
            0,
            "rgb(161, 105, 40)"
           ],
           [
            0.16666666666666666,
            "rgb(189, 146, 90)"
           ],
           [
            0.3333333333333333,
            "rgb(214, 189, 141)"
           ],
           [
            0.5,
            "rgb(237, 234, 194)"
           ],
           [
            0.6666666666666666,
            "rgb(181, 200, 184)"
           ],
           [
            0.8333333333333334,
            "rgb(121, 167, 172)"
           ],
           [
            1,
            "rgb(40, 135, 161)"
           ]
          ],
          "opacity": 0.7,
          "size": 10
         },
         "mode": "markers",
         "name": "Cluster #0",
         "type": "scatter",
         "x": [
          3.3167508122147793,
          2.5167401466103825,
          3.050253922418076,
          2.4490896695962325,
          2.059436871437915,
          2.5108742973989897,
          2.7536281876339097,
          3.4797366827312124,
          1.75475290129459,
          2.1134623403150967,
          2.3051882008279727,
          2.1719552737415126,
          1.898971176562761,
          2.084522204730313,
          3.124402535167201,
          2.5352240799037156,
          1.6449883412544708,
          1.7615758722693016,
          1.7752776281133689,
          1.2354239643099068,
          2.188406334451963,
          2.2561089812837087,
          2.5002200257894267,
          2.677411047444015,
          1.6285791164309198,
          1.4103885265954075,
          1.9038262321944877,
          1.3848622303748401,
          1.1222074104413111,
          1.502194500618193,
          2.5880954258544033,
          3.070806990412008,
          2.101351930538016,
          2.726600963640803,
          2.82133927419225,
          2.0098508509123585,
          2.707491304266394,
          2.858959826717295,
          3.5056043559232224,
          2.2247913805321735,
          2.146987823563867,
          2.4693294837977886,
          2.7415179142774537,
          2.1737409209653076,
          3.139380151828996,
          0.1833840266847567,
          0.7620639041096002,
          1.0345779671651876,
          -2.5389770842951225,
          0.7879046149897109,
          -0.8068321559655374,
          -1.115111041919446,
          -0.5557228299517003,
          -1.3492852824437302,
          -1.5644826057199048,
          0.7466659419884499,
          1.0310497503881495,
          -0.5495317266494633,
          -0.16117373994854556,
          -0.6597949416843597,
          0.3923544081850837,
          -0.36626735735206384,
          -1.620672572787479,
          0.08253578349332853,
          -0.2787027536488548,
          -0.4570718656526238,
          -0.49418584704437446,
          -0.25288887765319895,
          -0.10722763772912279,
          -0.5510895391746504,
          -0.09680972631598556,
          -0.47956491608312496
         ],
         "y": [
          -1.443462634318013,
          -1.0311512962743195,
          -2.1224011146341946,
          -1.1748501316494764,
          -1.6089630683635103,
          -0.918070957333781,
          -0.789437673833609,
          -1.3023332371235974,
          -0.6119772287456334,
          -0.6757063391426205,
          -1.662551729989058,
          -2.327305336191422,
          -1.6313688786428395,
          -1.0611379935838625,
          -0.7868971056508977,
          0.09184062072087927,
          0.5162789300672354,
          0.3171489326843805,
          -0.6861751342850242,
          0.08980704136063912,
          -0.6895696206616262,
          -0.1914619368866672,
          -1.240833834896944,
          -1.4718736461032502,
          -0.052704450575324385,
          -0.6979343246113575,
          -0.17671095109545715,
          -0.6586398536611494,
          -0.11410976029688823,
          0.7694320064310082,
          -0.7796163041925093,
          -1.1559189566098853,
          0.07100892095406615,
          -1.1913346919571877,
          -0.6462585991417057,
          -1.2470294606787622,
          -1.7519674072063396,
          -0.7452788039895899,
          -1.6127338560350135,
          -1.8751679995630264,
          -1.0167515377576617,
          -1.3290083106496235,
          -1.4365487835125175,
          -1.212199840697795,
          -1.7315791159925145,
          2.4271461147035724,
          3.375053809963536,
          1.450709738244092,
          0.08744335730498247,
          2.026626522462478,
          2.2338303908439134,
          1.802247191665457,
          2.6575400353922953,
          2.11800146978482,
          1.8522145217655537,
          2.3129317092207407,
          2.565569348733524,
          2.293128643245627,
          1.1644833215600174,
          2.679961185989637,
          2.0987317087655373,
          2.1693532978292844,
          1.3555833880259585,
          2.3062345877483263,
          1.9305680886704686,
          2.2694156075896776,
          1.939045049486834,
          2.8214923747015943,
          1.9289220425669602,
          2.2221615507766233,
          2.109997993135227,
          1.9388406603940498
         ]
        },
        {
         "marker": {
          "color": "grey",
          "opacity": 0.7,
          "size": 10
         },
         "mode": "markers",
         "name": "Noise",
         "type": "scatter",
         "x": [
          2.2094649169188503,
          3.7570656097732025,
          1.0089084937957147,
          3.458156819336722,
          4.312783906765562,
          3.541985081943469,
          1.086570068332239,
          0.9900791016088568,
          1.9026908622381489,
          2.5298010923718093,
          0.6684819937541856,
          0.4622091375160059,
          1.1361661775610168,
          3.214917474773823,
          -0.9285819689218537,
          -1.5424801378968795,
          -1.83624976346694,
          0.03060683408668104,
          2.050261607576317,
          -0.6096808271776213,
          0.9002278387071442,
          2.248507190798395,
          -0.8128050273520703,
          1.9756204987985555,
          -1.5722162196262988,
          1.6576818088332903,
          -0.7253723880353555,
          2.5622271731703625,
          1.8325675700495483,
          -0.8679929031954122,
          0.3700144042947841,
          -1.457377044906139,
          1.2629308497284988,
          0.3761503719342399,
          -0.49487675568032624,
          0.8353201453942988,
          -0.5580426248756815,
          -1.9325556106314632,
          0.957455363803641,
          2.543865184199553,
          -0.5439525887762282,
          2.2519094221481257,
          1.4102160153374597,
          0.7977197926930414,
          -1.772499077960035,
          1.5782750709323825,
          1.4205692478240148,
          -1.3031449662482797,
          0.48207440977309407,
          -2.433012602550219,
          0.739621928568221,
          1.3363217334183295,
          -1.177086996247774,
          -0.46233500801968264,
          0.9784740793566468,
          0.03848714594902509,
          -1.5971585012074716,
          -1.792833473031145,
          -1.3271016561416014,
          -2.384500834743531,
          -2.9369401021466137,
          -2.1468111338160654,
          -2.369869488333043,
          -3.9157537837118914,
          -3.9364633907159656,
          -2.374471628006924,
          -2.778812947632514,
          -2.9856334874494665,
          -2.2098655255958732,
          -4.280638778751089,
          -2.320736976549206,
          -2.549830947226138,
          -1.8125412848422993,
          -2.7601446419239526,
          -2.7371505006679913,
          -3.6048688681834276,
          -3.3921560768357226,
          -1.0481818968536798,
          -1.6099122828479373,
          -2.1814127788126223,
          -2.3809277871356422,
          -3.6779187209738184,
          -3.3705241454428645,
          -2.6778394608645053,
          -2.3870170912797204,
          -3.2087581641980245
         ],
         "y": [
          0.33339288708029924,
          -2.7563719137107143,
          -0.8698308214172044,
          -1.1306298761729412,
          -2.095975575341266,
          -2.5183436693066494,
          -0.24174355133283995,
          -0.9406673381906333,
          -1.6330604347699849,
          -1.8030019760618319,
          -0.16996094061987652,
          -0.3307421321922759,
          -1.7771073929776402,
          -0.166991994996792,
          3.073486163188928,
          1.3814435080942304,
          0.8299841230557182,
          1.2627861442114008,
          1.9250326046501014,
          1.90805880508519,
          0.7639114736096105,
          1.8845924845501323,
          0.22051398690226928,
          1.4032832253096152,
          0.8849831369082242,
          0.9567121974591479,
          1.063645400706094,
          -0.2601985506545964,
          1.2878781978605265,
          2.444101185580866,
          2.1539069751569873,
          1.3833517690762616,
          0.7708495299701182,
          1.027043403355823,
          2.3812435267673724,
          1.4736705514008699,
          2.372985428849459,
          1.559495456898623,
          2.2235284346674624,
          -0.16927402279973985,
          0.3689265458773194,
          1.4327413803542552,
          2.166191769370385,
          2.3769488030818624,
          1.7172884693761445,
          1.4620342902048193,
          1.4182066376337517,
          0.7631723136577948,
          3.871783848407242,
          1.2571410404943932,
          1.4089566673657148,
          -0.2533369311683021,
          0.6639668398015728,
          0.6182881794850409,
          1.4455704988958282,
          1.2667621091578862,
          1.2081435741284887,
          1.1502881044421067,
          -0.17038923204902734,
          -0.37458260552469297,
          -0.2638618300683794,
          -0.3682549518864607,
          0.4596348092311676,
          -0.15458251944173051,
          -0.6596872334097811,
          -0.2919803515599933,
          -0.2868048728821731,
          -0.4892179083470122,
          -1.1600525041576424,
          -0.6496709640237073,
          -2.356366075556675,
          -2.0452830910195234,
          -1.5276459462687504,
          -2.138932347642612,
          -0.4098862708817896,
          -1.802384217583967,
          -1.311876388473594,
          -3.5150896912197327,
          -2.4066381595743285,
          -2.0775373127345156,
          -2.5886674324185903,
          -0.8477478441497627,
          -2.2162891398611375,
          -2.760899131674547,
          -2.297346679712819,
          -2.7689195660475767
         ]
        },
        {
         "marker": {
          "colorscale": [
           [
            0,
            "rgb(161, 105, 40)"
           ],
           [
            0.16666666666666666,
            "rgb(189, 146, 90)"
           ],
           [
            0.3333333333333333,
            "rgb(214, 189, 141)"
           ],
           [
            0.5,
            "rgb(237, 234, 194)"
           ],
           [
            0.6666666666666666,
            "rgb(181, 200, 184)"
           ],
           [
            0.8333333333333334,
            "rgb(121, 167, 172)"
           ],
           [
            1,
            "rgb(40, 135, 161)"
           ]
          ],
          "opacity": 0.7,
          "size": 10
         },
         "mode": "markers",
         "name": "Cluster #1",
         "type": "scatter",
         "x": [
          -3.0638415687203557,
          -3.094276117762277,
          -2.2865612847384695,
          -2.3751946982271104,
          -2.6256210046927224,
          -3.5826413720011074,
          -2.807063720081661,
          -2.8996593330239127,
          -2.8898259968735096,
          -3.1431309667439775,
          -2.2401568962695437,
          -2.847673776119522,
          -2.5974970566487654,
          -2.9492993731348456,
          -3.530032266349314,
          -2.406110540478555,
          -2.929084726967458,
          -3.211617215041249,
          -2.4655557980404508,
          -2.6019558512247394
         ],
         "y": [
          -0.353412835458402,
          -0.34884275927379665,
          -0.3725078446852991,
          -0.48233371724487933,
          -0.5631607642108345,
          -1.272702749727301,
          -1.5705337870411977,
          -2.041057007938464,
          -1.9252186131303441,
          -0.7381610441757964,
          -1.1754652881188652,
          -0.5560439658826731,
          -0.697965537200919,
          -1.5553089642839848,
          -0.8825267962042368,
          -2.5923561750423985,
          -1.2744469479044822,
          0.25124910442559306,
          -2.1937983036540953,
          -1.7572293509792754
         ]
        }
       ],
       "layout": {
        "autosize": false,
        "height": 750,
        "template": {
         "data": {
          "bar": [
           {
            "error_x": {
             "color": "#2a3f5f"
            },
            "error_y": {
             "color": "#2a3f5f"
            },
            "marker": {
             "line": {
              "color": "#E5ECF6",
              "width": 0.5
             }
            },
            "type": "bar"
           }
          ],
          "barpolar": [
           {
            "marker": {
             "line": {
              "color": "#E5ECF6",
              "width": 0.5
             }
            },
            "type": "barpolar"
           }
          ],
          "carpet": [
           {
            "aaxis": {
             "endlinecolor": "#2a3f5f",
             "gridcolor": "white",
             "linecolor": "white",
             "minorgridcolor": "white",
             "startlinecolor": "#2a3f5f"
            },
            "baxis": {
             "endlinecolor": "#2a3f5f",
             "gridcolor": "white",
             "linecolor": "white",
             "minorgridcolor": "white",
             "startlinecolor": "#2a3f5f"
            },
            "type": "carpet"
           }
          ],
          "choropleth": [
           {
            "colorbar": {
             "outlinewidth": 0,
             "ticks": ""
            },
            "type": "choropleth"
           }
          ],
          "contour": [
           {
            "colorbar": {
             "outlinewidth": 0,
             "ticks": ""
            },
            "colorscale": [
             [
              0,
              "#0d0887"
             ],
             [
              0.1111111111111111,
              "#46039f"
             ],
             [
              0.2222222222222222,
              "#7201a8"
             ],
             [
              0.3333333333333333,
              "#9c179e"
             ],
             [
              0.4444444444444444,
              "#bd3786"
             ],
             [
              0.5555555555555556,
              "#d8576b"
             ],
             [
              0.6666666666666666,
              "#ed7953"
             ],
             [
              0.7777777777777778,
              "#fb9f3a"
             ],
             [
              0.8888888888888888,
              "#fdca26"
             ],
             [
              1,
              "#f0f921"
             ]
            ],
            "type": "contour"
           }
          ],
          "contourcarpet": [
           {
            "colorbar": {
             "outlinewidth": 0,
             "ticks": ""
            },
            "type": "contourcarpet"
           }
          ],
          "heatmap": [
           {
            "colorbar": {
             "outlinewidth": 0,
             "ticks": ""
            },
            "colorscale": [
             [
              0,
              "#0d0887"
             ],
             [
              0.1111111111111111,
              "#46039f"
             ],
             [
              0.2222222222222222,
              "#7201a8"
             ],
             [
              0.3333333333333333,
              "#9c179e"
             ],
             [
              0.4444444444444444,
              "#bd3786"
             ],
             [
              0.5555555555555556,
              "#d8576b"
             ],
             [
              0.6666666666666666,
              "#ed7953"
             ],
             [
              0.7777777777777778,
              "#fb9f3a"
             ],
             [
              0.8888888888888888,
              "#fdca26"
             ],
             [
              1,
              "#f0f921"
             ]
            ],
            "type": "heatmap"
           }
          ],
          "heatmapgl": [
           {
            "colorbar": {
             "outlinewidth": 0,
             "ticks": ""
            },
            "colorscale": [
             [
              0,
              "#0d0887"
             ],
             [
              0.1111111111111111,
              "#46039f"
             ],
             [
              0.2222222222222222,
              "#7201a8"
             ],
             [
              0.3333333333333333,
              "#9c179e"
             ],
             [
              0.4444444444444444,
              "#bd3786"
             ],
             [
              0.5555555555555556,
              "#d8576b"
             ],
             [
              0.6666666666666666,
              "#ed7953"
             ],
             [
              0.7777777777777778,
              "#fb9f3a"
             ],
             [
              0.8888888888888888,
              "#fdca26"
             ],
             [
              1,
              "#f0f921"
             ]
            ],
            "type": "heatmapgl"
           }
          ],
          "histogram": [
           {
            "marker": {
             "colorbar": {
              "outlinewidth": 0,
              "ticks": ""
             }
            },
            "type": "histogram"
           }
          ],
          "histogram2d": [
           {
            "colorbar": {
             "outlinewidth": 0,
             "ticks": ""
            },
            "colorscale": [
             [
              0,
              "#0d0887"
             ],
             [
              0.1111111111111111,
              "#46039f"
             ],
             [
              0.2222222222222222,
              "#7201a8"
             ],
             [
              0.3333333333333333,
              "#9c179e"
             ],
             [
              0.4444444444444444,
              "#bd3786"
             ],
             [
              0.5555555555555556,
              "#d8576b"
             ],
             [
              0.6666666666666666,
              "#ed7953"
             ],
             [
              0.7777777777777778,
              "#fb9f3a"
             ],
             [
              0.8888888888888888,
              "#fdca26"
             ],
             [
              1,
              "#f0f921"
             ]
            ],
            "type": "histogram2d"
           }
          ],
          "histogram2dcontour": [
           {
            "colorbar": {
             "outlinewidth": 0,
             "ticks": ""
            },
            "colorscale": [
             [
              0,
              "#0d0887"
             ],
             [
              0.1111111111111111,
              "#46039f"
             ],
             [
              0.2222222222222222,
              "#7201a8"
             ],
             [
              0.3333333333333333,
              "#9c179e"
             ],
             [
              0.4444444444444444,
              "#bd3786"
             ],
             [
              0.5555555555555556,
              "#d8576b"
             ],
             [
              0.6666666666666666,
              "#ed7953"
             ],
             [
              0.7777777777777778,
              "#fb9f3a"
             ],
             [
              0.8888888888888888,
              "#fdca26"
             ],
             [
              1,
              "#f0f921"
             ]
            ],
            "type": "histogram2dcontour"
           }
          ],
          "mesh3d": [
           {
            "colorbar": {
             "outlinewidth": 0,
             "ticks": ""
            },
            "type": "mesh3d"
           }
          ],
          "parcoords": [
           {
            "line": {
             "colorbar": {
              "outlinewidth": 0,
              "ticks": ""
             }
            },
            "type": "parcoords"
           }
          ],
          "pie": [
           {
            "automargin": true,
            "type": "pie"
           }
          ],
          "scatter": [
           {
            "marker": {
             "colorbar": {
              "outlinewidth": 0,
              "ticks": ""
             }
            },
            "type": "scatter"
           }
          ],
          "scatter3d": [
           {
            "line": {
             "colorbar": {
              "outlinewidth": 0,
              "ticks": ""
             }
            },
            "marker": {
             "colorbar": {
              "outlinewidth": 0,
              "ticks": ""
             }
            },
            "type": "scatter3d"
           }
          ],
          "scattercarpet": [
           {
            "marker": {
             "colorbar": {
              "outlinewidth": 0,
              "ticks": ""
             }
            },
            "type": "scattercarpet"
           }
          ],
          "scattergeo": [
           {
            "marker": {
             "colorbar": {
              "outlinewidth": 0,
              "ticks": ""
             }
            },
            "type": "scattergeo"
           }
          ],
          "scattergl": [
           {
            "marker": {
             "colorbar": {
              "outlinewidth": 0,
              "ticks": ""
             }
            },
            "type": "scattergl"
           }
          ],
          "scattermapbox": [
           {
            "marker": {
             "colorbar": {
              "outlinewidth": 0,
              "ticks": ""
             }
            },
            "type": "scattermapbox"
           }
          ],
          "scatterpolar": [
           {
            "marker": {
             "colorbar": {
              "outlinewidth": 0,
              "ticks": ""
             }
            },
            "type": "scatterpolar"
           }
          ],
          "scatterpolargl": [
           {
            "marker": {
             "colorbar": {
              "outlinewidth": 0,
              "ticks": ""
             }
            },
            "type": "scatterpolargl"
           }
          ],
          "scatterternary": [
           {
            "marker": {
             "colorbar": {
              "outlinewidth": 0,
              "ticks": ""
             }
            },
            "type": "scatterternary"
           }
          ],
          "surface": [
           {
            "colorbar": {
             "outlinewidth": 0,
             "ticks": ""
            },
            "colorscale": [
             [
              0,
              "#0d0887"
             ],
             [
              0.1111111111111111,
              "#46039f"
             ],
             [
              0.2222222222222222,
              "#7201a8"
             ],
             [
              0.3333333333333333,
              "#9c179e"
             ],
             [
              0.4444444444444444,
              "#bd3786"
             ],
             [
              0.5555555555555556,
              "#d8576b"
             ],
             [
              0.6666666666666666,
              "#ed7953"
             ],
             [
              0.7777777777777778,
              "#fb9f3a"
             ],
             [
              0.8888888888888888,
              "#fdca26"
             ],
             [
              1,
              "#f0f921"
             ]
            ],
            "type": "surface"
           }
          ],
          "table": [
           {
            "cells": {
             "fill": {
              "color": "#EBF0F8"
             },
             "line": {
              "color": "white"
             }
            },
            "header": {
             "fill": {
              "color": "#C8D4E3"
             },
             "line": {
              "color": "white"
             }
            },
            "type": "table"
           }
          ]
         },
         "layout": {
          "annotationdefaults": {
           "arrowcolor": "#2a3f5f",
           "arrowhead": 0,
           "arrowwidth": 1
          },
          "coloraxis": {
           "colorbar": {
            "outlinewidth": 0,
            "ticks": ""
           }
          },
          "colorscale": {
           "diverging": [
            [
             0,
             "#8e0152"
            ],
            [
             0.1,
             "#c51b7d"
            ],
            [
             0.2,
             "#de77ae"
            ],
            [
             0.3,
             "#f1b6da"
            ],
            [
             0.4,
             "#fde0ef"
            ],
            [
             0.5,
             "#f7f7f7"
            ],
            [
             0.6,
             "#e6f5d0"
            ],
            [
             0.7,
             "#b8e186"
            ],
            [
             0.8,
             "#7fbc41"
            ],
            [
             0.9,
             "#4d9221"
            ],
            [
             1,
             "#276419"
            ]
           ],
           "sequential": [
            [
             0,
             "#0d0887"
            ],
            [
             0.1111111111111111,
             "#46039f"
            ],
            [
             0.2222222222222222,
             "#7201a8"
            ],
            [
             0.3333333333333333,
             "#9c179e"
            ],
            [
             0.4444444444444444,
             "#bd3786"
            ],
            [
             0.5555555555555556,
             "#d8576b"
            ],
            [
             0.6666666666666666,
             "#ed7953"
            ],
            [
             0.7777777777777778,
             "#fb9f3a"
            ],
            [
             0.8888888888888888,
             "#fdca26"
            ],
            [
             1,
             "#f0f921"
            ]
           ],
           "sequentialminus": [
            [
             0,
             "#0d0887"
            ],
            [
             0.1111111111111111,
             "#46039f"
            ],
            [
             0.2222222222222222,
             "#7201a8"
            ],
            [
             0.3333333333333333,
             "#9c179e"
            ],
            [
             0.4444444444444444,
             "#bd3786"
            ],
            [
             0.5555555555555556,
             "#d8576b"
            ],
            [
             0.6666666666666666,
             "#ed7953"
            ],
            [
             0.7777777777777778,
             "#fb9f3a"
            ],
            [
             0.8888888888888888,
             "#fdca26"
            ],
            [
             1,
             "#f0f921"
            ]
           ]
          },
          "colorway": [
           "#636efa",
           "#EF553B",
           "#00cc96",
           "#ab63fa",
           "#FFA15A",
           "#19d3f3",
           "#FF6692",
           "#B6E880",
           "#FF97FF",
           "#FECB52"
          ],
          "font": {
           "color": "#2a3f5f"
          },
          "geo": {
           "bgcolor": "white",
           "lakecolor": "white",
           "landcolor": "#E5ECF6",
           "showlakes": true,
           "showland": true,
           "subunitcolor": "white"
          },
          "hoverlabel": {
           "align": "left"
          },
          "hovermode": "closest",
          "mapbox": {
           "style": "light"
          },
          "paper_bgcolor": "white",
          "plot_bgcolor": "#E5ECF6",
          "polar": {
           "angularaxis": {
            "gridcolor": "white",
            "linecolor": "white",
            "ticks": ""
           },
           "bgcolor": "#E5ECF6",
           "radialaxis": {
            "gridcolor": "white",
            "linecolor": "white",
            "ticks": ""
           }
          },
          "scene": {
           "xaxis": {
            "backgroundcolor": "#E5ECF6",
            "gridcolor": "white",
            "gridwidth": 2,
            "linecolor": "white",
            "showbackground": true,
            "ticks": "",
            "zerolinecolor": "white"
           },
           "yaxis": {
            "backgroundcolor": "#E5ECF6",
            "gridcolor": "white",
            "gridwidth": 2,
            "linecolor": "white",
            "showbackground": true,
            "ticks": "",
            "zerolinecolor": "white"
           },
           "zaxis": {
            "backgroundcolor": "#E5ECF6",
            "gridcolor": "white",
            "gridwidth": 2,
            "linecolor": "white",
            "showbackground": true,
            "ticks": "",
            "zerolinecolor": "white"
           }
          },
          "shapedefaults": {
           "line": {
            "color": "#2a3f5f"
           }
          },
          "ternary": {
           "aaxis": {
            "gridcolor": "white",
            "linecolor": "white",
            "ticks": ""
           },
           "baxis": {
            "gridcolor": "white",
            "linecolor": "white",
            "ticks": ""
           },
           "bgcolor": "#E5ECF6",
           "caxis": {
            "gridcolor": "white",
            "linecolor": "white",
            "ticks": ""
           }
          },
          "title": {
           "x": 0.05
          },
          "xaxis": {
           "automargin": true,
           "gridcolor": "white",
           "linecolor": "white",
           "ticks": "",
           "title": {
            "standoff": 15
           },
           "zerolinecolor": "white",
           "zerolinewidth": 2
          },
          "yaxis": {
           "automargin": true,
           "gridcolor": "white",
           "linecolor": "white",
           "ticks": "",
           "title": {
            "standoff": 15
           },
           "zerolinecolor": "white",
           "zerolinewidth": 2
          }
         }
        },
        "title": {
         "font": {
          "size": 25
         },
         "text": "hdbscan Cluster"
        },
        "width": 750,
        "xaxis": {
         "autorange": true,
         "range": [
          -4.885293253424969,
          4.917438381439441
         ],
         "title": {
          "text": "Reduced Dimension 1"
         },
         "type": "linear",
         "zeroline": false
        },
        "yaxis": {
         "autorange": true,
         "range": [
          -4.027964527387639,
          4.3846586845751485
         ],
         "title": {
          "text": "Reduced Dimension 2"
         },
         "type": "linear",
         "zeroline": false
        }
       }
      },
      "image/png": "[encoded data removed]",
      "text/html": [
       "<div>\n",
       "        \n",
       "        \n",
       "            <div id=\"8a315f0c-63be-4895-aa9c-83b7f27382dc\" class=\"plotly-graph-div\" style=\"height:750px; width:750px;\"></div>\n",
       "            <script type=\"text/javascript\">\n",
       "                require([\"plotly\"], function(Plotly) {\n",
       "                    window.PLOTLYENV=window.PLOTLYENV || {};\n",
       "                    \n",
       "                if (document.getElementById(\"8a315f0c-63be-4895-aa9c-83b7f27382dc\")) {\n",
       "                    Plotly.newPlot(\n",
       "                        '8a315f0c-63be-4895-aa9c-83b7f27382dc',\n",
       "                        [{\"marker\": {\"colorscale\": [[0.0, \"rgb(161, 105, 40)\"], [0.16666666666666666, \"rgb(189, 146, 90)\"], [0.3333333333333333, \"rgb(214, 189, 141)\"], [0.5, \"rgb(237, 234, 194)\"], [0.6666666666666666, \"rgb(181, 200, 184)\"], [0.8333333333333334, \"rgb(121, 167, 172)\"], [1.0, \"rgb(40, 135, 161)\"]], \"opacity\": 0.7, \"size\": 10}, \"mode\": \"markers\", \"name\": \"Cluster #0\", \"type\": \"scatter\", \"x\": [3.3167508122147793, 2.5167401466103825, 3.050253922418076, 2.4490896695962325, 2.059436871437915, 2.5108742973989897, 2.7536281876339097, 3.4797366827312124, 1.75475290129459, 2.1134623403150967, 2.3051882008279727, 2.1719552737415126, 1.898971176562761, 2.084522204730313, 3.124402535167201, 2.5352240799037156, 1.6449883412544708, 1.7615758722693016, 1.7752776281133689, 1.2354239643099068, 2.188406334451963, 2.2561089812837087, 2.5002200257894267, 2.677411047444015, 1.6285791164309198, 1.4103885265954075, 1.9038262321944877, 1.3848622303748401, 1.1222074104413111, 1.502194500618193, 2.5880954258544033, 3.070806990412008, 2.101351930538016, 2.726600963640803, 2.82133927419225, 2.0098508509123585, 2.707491304266394, 2.858959826717295, 3.5056043559232224, 2.2247913805321735, 2.146987823563867, 2.4693294837977886, 2.7415179142774537, 2.1737409209653076, 3.139380151828996, 0.1833840266847567, 0.7620639041096002, 1.0345779671651876, -2.5389770842951225, 0.7879046149897109, -0.8068321559655374, -1.115111041919446, -0.5557228299517003, -1.3492852824437302, -1.5644826057199048, 0.7466659419884499, 1.0310497503881495, -0.5495317266494633, -0.16117373994854556, -0.6597949416843597, 0.3923544081850837, -0.36626735735206384, -1.620672572787479, 0.08253578349332853, -0.2787027536488548, -0.4570718656526238, -0.49418584704437446, -0.25288887765319895, -0.10722763772912279, -0.5510895391746504, -0.09680972631598556, -0.47956491608312496], \"y\": [-1.443462634318013, -1.0311512962743195, -2.1224011146341946, -1.1748501316494764, -1.6089630683635103, -0.918070957333781, -0.789437673833609, -1.3023332371235974, -0.6119772287456334, -0.6757063391426205, -1.662551729989058, -2.327305336191422, -1.6313688786428395, -1.0611379935838625, -0.7868971056508977, 0.09184062072087927, 0.5162789300672354, 0.3171489326843805, -0.6861751342850242, 0.08980704136063912, -0.6895696206616262, -0.1914619368866672, -1.240833834896944, -1.4718736461032502, -0.052704450575324385, -0.6979343246113575, -0.17671095109545715, -0.6586398536611494, -0.11410976029688823, 0.7694320064310082, -0.7796163041925093, -1.1559189566098853, 0.07100892095406615, -1.1913346919571877, -0.6462585991417057, -1.2470294606787622, -1.7519674072063396, -0.7452788039895899, -1.6127338560350135, -1.8751679995630264, -1.0167515377576617, -1.3290083106496235, -1.4365487835125175, -1.212199840697795, -1.7315791159925145, 2.4271461147035724, 3.375053809963536, 1.450709738244092, 0.08744335730498247, 2.026626522462478, 2.2338303908439134, 1.802247191665457, 2.6575400353922953, 2.11800146978482, 1.8522145217655537, 2.3129317092207407, 2.565569348733524, 2.293128643245627, 1.1644833215600174, 2.679961185989637, 2.0987317087655373, 2.1693532978292844, 1.3555833880259585, 2.3062345877483263, 1.9305680886704686, 2.2694156075896776, 1.939045049486834, 2.8214923747015943, 1.9289220425669602, 2.2221615507766233, 2.109997993135227, 1.9388406603940498]}, {\"marker\": {\"color\": \"grey\", \"opacity\": 0.7, \"size\": 10}, \"mode\": \"markers\", \"name\": \"Noise\", \"type\": \"scatter\", \"x\": [2.2094649169188503, 3.7570656097732025, 1.0089084937957147, 3.458156819336722, 4.312783906765562, 3.541985081943469, 1.086570068332239, 0.9900791016088568, 1.9026908622381489, 2.5298010923718093, 0.6684819937541856, 0.4622091375160059, 1.1361661775610168, 3.214917474773823, -0.9285819689218537, -1.5424801378968795, -1.83624976346694, 0.03060683408668104, 2.050261607576317, -0.6096808271776213, 0.9002278387071442, 2.248507190798395, -0.8128050273520703, 1.9756204987985555, -1.5722162196262988, 1.6576818088332903, -0.7253723880353555, 2.5622271731703625, 1.8325675700495483, -0.8679929031954122, 0.3700144042947841, -1.457377044906139, 1.2629308497284988, 0.3761503719342399, -0.49487675568032624, 0.8353201453942988, -0.5580426248756815, -1.9325556106314632, 0.957455363803641, 2.543865184199553, -0.5439525887762282, 2.2519094221481257, 1.4102160153374597, 0.7977197926930414, -1.772499077960035, 1.5782750709323825, 1.4205692478240148, -1.3031449662482797, 0.48207440977309407, -2.433012602550219, 0.739621928568221, 1.3363217334183295, -1.177086996247774, -0.46233500801968264, 0.9784740793566468, 0.03848714594902509, -1.5971585012074716, -1.792833473031145, -1.3271016561416014, -2.384500834743531, -2.9369401021466137, -2.1468111338160654, -2.369869488333043, -3.9157537837118914, -3.9364633907159656, -2.374471628006924, -2.778812947632514, -2.9856334874494665, -2.2098655255958732, -4.280638778751089, -2.320736976549206, -2.549830947226138, -1.8125412848422993, -2.7601446419239526, -2.7371505006679913, -3.6048688681834276, -3.3921560768357226, -1.0481818968536798, -1.6099122828479373, -2.1814127788126223, -2.3809277871356422, -3.6779187209738184, -3.3705241454428645, -2.6778394608645053, -2.3870170912797204, -3.2087581641980245], \"y\": [0.33339288708029924, -2.7563719137107143, -0.8698308214172044, -1.1306298761729412, -2.095975575341266, -2.5183436693066494, -0.24174355133283995, -0.9406673381906333, -1.6330604347699849, -1.8030019760618319, -0.16996094061987652, -0.3307421321922759, -1.7771073929776402, -0.166991994996792, 3.073486163188928, 1.3814435080942304, 0.8299841230557182, 1.2627861442114008, 1.9250326046501014, 1.90805880508519, 0.7639114736096105, 1.8845924845501323, 0.22051398690226928, 1.4032832253096152, 0.8849831369082242, 0.9567121974591479, 1.063645400706094, -0.2601985506545964, 1.2878781978605265, 2.444101185580866, 2.1539069751569873, 1.3833517690762616, 0.7708495299701182, 1.027043403355823, 2.3812435267673724, 1.4736705514008699, 2.372985428849459, 1.559495456898623, 2.2235284346674624, -0.16927402279973985, 0.3689265458773194, 1.4327413803542552, 2.166191769370385, 2.3769488030818624, 1.7172884693761445, 1.4620342902048193, 1.4182066376337517, 0.7631723136577948, 3.871783848407242, 1.2571410404943932, 1.4089566673657148, -0.2533369311683021, 0.6639668398015728, 0.6182881794850409, 1.4455704988958282, 1.2667621091578862, 1.2081435741284887, 1.1502881044421067, -0.17038923204902734, -0.37458260552469297, -0.2638618300683794, -0.3682549518864607, 0.4596348092311676, -0.15458251944173051, -0.6596872334097811, -0.2919803515599933, -0.2868048728821731, -0.4892179083470122, -1.1600525041576424, -0.6496709640237073, -2.356366075556675, -2.0452830910195234, -1.5276459462687504, -2.138932347642612, -0.4098862708817896, -1.802384217583967, -1.311876388473594, -3.5150896912197327, -2.4066381595743285, -2.0775373127345156, -2.5886674324185903, -0.8477478441497627, -2.2162891398611375, -2.760899131674547, -2.297346679712819, -2.7689195660475767]}, {\"marker\": {\"colorscale\": [[0.0, \"rgb(161, 105, 40)\"], [0.16666666666666666, \"rgb(189, 146, 90)\"], [0.3333333333333333, \"rgb(214, 189, 141)\"], [0.5, \"rgb(237, 234, 194)\"], [0.6666666666666666, \"rgb(181, 200, 184)\"], [0.8333333333333334, \"rgb(121, 167, 172)\"], [1.0, \"rgb(40, 135, 161)\"]], \"opacity\": 0.7, \"size\": 10}, \"mode\": \"markers\", \"name\": \"Cluster #1\", \"type\": \"scatter\", \"x\": [-3.0638415687203557, -3.094276117762277, -2.2865612847384695, -2.3751946982271104, -2.6256210046927224, -3.5826413720011074, -2.807063720081661, -2.8996593330239127, -2.8898259968735096, -3.1431309667439775, -2.2401568962695437, -2.847673776119522, -2.5974970566487654, -2.9492993731348456, -3.530032266349314, -2.406110540478555, -2.929084726967458, -3.211617215041249, -2.4655557980404508, -2.6019558512247394], \"y\": [-0.353412835458402, -0.34884275927379665, -0.3725078446852991, -0.48233371724487933, -0.5631607642108345, -1.272702749727301, -1.5705337870411977, -2.041057007938464, -1.9252186131303441, -0.7381610441757964, -1.1754652881188652, -0.5560439658826731, -0.697965537200919, -1.5553089642839848, -0.8825267962042368, -2.5923561750423985, -1.2744469479044822, 0.25124910442559306, -2.1937983036540953, -1.7572293509792754]}],\n",
       "                        {\"autosize\": false, \"height\": 750, \"template\": {\"data\": {\"bar\": [{\"error_x\": {\"color\": \"#2a3f5f\"}, \"error_y\": {\"color\": \"#2a3f5f\"}, \"marker\": {\"line\": {\"color\": \"#E5ECF6\", \"width\": 0.5}}, \"type\": \"bar\"}], \"barpolar\": [{\"marker\": {\"line\": {\"color\": \"#E5ECF6\", \"width\": 0.5}}, \"type\": \"barpolar\"}], \"carpet\": [{\"aaxis\": {\"endlinecolor\": \"#2a3f5f\", \"gridcolor\": \"white\", \"linecolor\": \"white\", \"minorgridcolor\": \"white\", \"startlinecolor\": \"#2a3f5f\"}, \"baxis\": {\"endlinecolor\": \"#2a3f5f\", \"gridcolor\": \"white\", \"linecolor\": \"white\", \"minorgridcolor\": \"white\", \"startlinecolor\": \"#2a3f5f\"}, \"type\": \"carpet\"}], \"choropleth\": [{\"colorbar\": {\"outlinewidth\": 0, \"ticks\": \"\"}, \"type\": \"choropleth\"}], \"contour\": [{\"colorbar\": {\"outlinewidth\": 0, \"ticks\": \"\"}, \"colorscale\": [[0.0, \"#0d0887\"], [0.1111111111111111, \"#46039f\"], [0.2222222222222222, \"#7201a8\"], [0.3333333333333333, \"#9c179e\"], [0.4444444444444444, \"#bd3786\"], [0.5555555555555556, \"#d8576b\"], [0.6666666666666666, \"#ed7953\"], [0.7777777777777778, \"#fb9f3a\"], [0.8888888888888888, \"#fdca26\"], [1.0, \"#f0f921\"]], \"type\": \"contour\"}], \"contourcarpet\": [{\"colorbar\": {\"outlinewidth\": 0, \"ticks\": \"\"}, \"type\": \"contourcarpet\"}], \"heatmap\": [{\"colorbar\": {\"outlinewidth\": 0, \"ticks\": \"\"}, \"colorscale\": [[0.0, \"#0d0887\"], [0.1111111111111111, \"#46039f\"], [0.2222222222222222, \"#7201a8\"], [0.3333333333333333, \"#9c179e\"], [0.4444444444444444, \"#bd3786\"], [0.5555555555555556, \"#d8576b\"], [0.6666666666666666, \"#ed7953\"], [0.7777777777777778, \"#fb9f3a\"], [0.8888888888888888, \"#fdca26\"], [1.0, \"#f0f921\"]], \"type\": \"heatmap\"}], \"heatmapgl\": [{\"colorbar\": {\"outlinewidth\": 0, \"ticks\": \"\"}, \"colorscale\": [[0.0, \"#0d0887\"], [0.1111111111111111, \"#46039f\"], [0.2222222222222222, \"#7201a8\"], [0.3333333333333333, \"#9c179e\"], [0.4444444444444444, \"#bd3786\"], [0.5555555555555556, \"#d8576b\"], [0.6666666666666666, \"#ed7953\"], [0.7777777777777778, \"#fb9f3a\"], [0.8888888888888888, \"#fdca26\"], [1.0, \"#f0f921\"]], \"type\": \"heatmapgl\"}], \"histogram\": [{\"marker\": {\"colorbar\": {\"outlinewidth\": 0, \"ticks\": \"\"}}, \"type\": \"histogram\"}], \"histogram2d\": [{\"colorbar\": {\"outlinewidth\": 0, \"ticks\": \"\"}, \"colorscale\": [[0.0, \"#0d0887\"], [0.1111111111111111, \"#46039f\"], [0.2222222222222222, \"#7201a8\"], [0.3333333333333333, \"#9c179e\"], [0.4444444444444444, \"#bd3786\"], [0.5555555555555556, \"#d8576b\"], [0.6666666666666666, \"#ed7953\"], [0.7777777777777778, \"#fb9f3a\"], [0.8888888888888888, \"#fdca26\"], [1.0, \"#f0f921\"]], \"type\": \"histogram2d\"}], \"histogram2dcontour\": [{\"colorbar\": {\"outlinewidth\": 0, \"ticks\": \"\"}, \"colorscale\": [[0.0, \"#0d0887\"], [0.1111111111111111, \"#46039f\"], [0.2222222222222222, \"#7201a8\"], [0.3333333333333333, \"#9c179e\"], [0.4444444444444444, \"#bd3786\"], [0.5555555555555556, \"#d8576b\"], [0.6666666666666666, \"#ed7953\"], [0.7777777777777778, \"#fb9f3a\"], [0.8888888888888888, \"#fdca26\"], [1.0, \"#f0f921\"]], \"type\": \"histogram2dcontour\"}], \"mesh3d\": [{\"colorbar\": {\"outlinewidth\": 0, \"ticks\": \"\"}, \"type\": \"mesh3d\"}], \"parcoords\": [{\"line\": {\"colorbar\": {\"outlinewidth\": 0, \"ticks\": \"\"}}, \"type\": \"parcoords\"}], \"pie\": [{\"automargin\": true, \"type\": \"pie\"}], \"scatter\": [{\"marker\": {\"colorbar\": {\"outlinewidth\": 0, \"ticks\": \"\"}}, \"type\": \"scatter\"}], \"scatter3d\": [{\"line\": {\"colorbar\": {\"outlinewidth\": 0, \"ticks\": \"\"}}, \"marker\": {\"colorbar\": {\"outlinewidth\": 0, \"ticks\": \"\"}}, \"type\": \"scatter3d\"}], \"scattercarpet\": [{\"marker\": {\"colorbar\": {\"outlinewidth\": 0, \"ticks\": \"\"}}, \"type\": \"scattercarpet\"}], \"scattergeo\": [{\"marker\": {\"colorbar\": {\"outlinewidth\": 0, \"ticks\": \"\"}}, \"type\": \"scattergeo\"}], \"scattergl\": [{\"marker\": {\"colorbar\": {\"outlinewidth\": 0, \"ticks\": \"\"}}, \"type\": \"scattergl\"}], \"scattermapbox\": [{\"marker\": {\"colorbar\": {\"outlinewidth\": 0, \"ticks\": \"\"}}, \"type\": \"scattermapbox\"}], \"scatterpolar\": [{\"marker\": {\"colorbar\": {\"outlinewidth\": 0, \"ticks\": \"\"}}, \"type\": \"scatterpolar\"}], \"scatterpolargl\": [{\"marker\": {\"colorbar\": {\"outlinewidth\": 0, \"ticks\": \"\"}}, \"type\": \"scatterpolargl\"}], \"scatterternary\": [{\"marker\": {\"colorbar\": {\"outlinewidth\": 0, \"ticks\": \"\"}}, \"type\": \"scatterternary\"}], \"surface\": [{\"colorbar\": {\"outlinewidth\": 0, \"ticks\": \"\"}, \"colorscale\": [[0.0, \"#0d0887\"], [0.1111111111111111, \"#46039f\"], [0.2222222222222222, \"#7201a8\"], [0.3333333333333333, \"#9c179e\"], [0.4444444444444444, \"#bd3786\"], [0.5555555555555556, \"#d8576b\"], [0.6666666666666666, \"#ed7953\"], [0.7777777777777778, \"#fb9f3a\"], [0.8888888888888888, \"#fdca26\"], [1.0, \"#f0f921\"]], \"type\": \"surface\"}], \"table\": [{\"cells\": {\"fill\": {\"color\": \"#EBF0F8\"}, \"line\": {\"color\": \"white\"}}, \"header\": {\"fill\": {\"color\": \"#C8D4E3\"}, \"line\": {\"color\": \"white\"}}, \"type\": \"table\"}]}, \"layout\": {\"annotationdefaults\": {\"arrowcolor\": \"#2a3f5f\", \"arrowhead\": 0, \"arrowwidth\": 1}, \"coloraxis\": {\"colorbar\": {\"outlinewidth\": 0, \"ticks\": \"\"}}, \"colorscale\": {\"diverging\": [[0, \"#8e0152\"], [0.1, \"#c51b7d\"], [0.2, \"#de77ae\"], [0.3, \"#f1b6da\"], [0.4, \"#fde0ef\"], [0.5, \"#f7f7f7\"], [0.6, \"#e6f5d0\"], [0.7, \"#b8e186\"], [0.8, \"#7fbc41\"], [0.9, \"#4d9221\"], [1, \"#276419\"]], \"sequential\": [[0.0, \"#0d0887\"], [0.1111111111111111, \"#46039f\"], [0.2222222222222222, \"#7201a8\"], [0.3333333333333333, \"#9c179e\"], [0.4444444444444444, \"#bd3786\"], [0.5555555555555556, \"#d8576b\"], [0.6666666666666666, \"#ed7953\"], [0.7777777777777778, \"#fb9f3a\"], [0.8888888888888888, \"#fdca26\"], [1.0, \"#f0f921\"]], \"sequentialminus\": [[0.0, \"#0d0887\"], [0.1111111111111111, \"#46039f\"], [0.2222222222222222, \"#7201a8\"], [0.3333333333333333, \"#9c179e\"], [0.4444444444444444, \"#bd3786\"], [0.5555555555555556, \"#d8576b\"], [0.6666666666666666, \"#ed7953\"], [0.7777777777777778, \"#fb9f3a\"], [0.8888888888888888, \"#fdca26\"], [1.0, \"#f0f921\"]]}, \"colorway\": [\"#636efa\", \"#EF553B\", \"#00cc96\", \"#ab63fa\", \"#FFA15A\", \"#19d3f3\", \"#FF6692\", \"#B6E880\", \"#FF97FF\", \"#FECB52\"], \"font\": {\"color\": \"#2a3f5f\"}, \"geo\": {\"bgcolor\": \"white\", \"lakecolor\": \"white\", \"landcolor\": \"#E5ECF6\", \"showlakes\": true, \"showland\": true, \"subunitcolor\": \"white\"}, \"hoverlabel\": {\"align\": \"left\"}, \"hovermode\": \"closest\", \"mapbox\": {\"style\": \"light\"}, \"paper_bgcolor\": \"white\", \"plot_bgcolor\": \"#E5ECF6\", \"polar\": {\"angularaxis\": {\"gridcolor\": \"white\", \"linecolor\": \"white\", \"ticks\": \"\"}, \"bgcolor\": \"#E5ECF6\", \"radialaxis\": {\"gridcolor\": \"white\", \"linecolor\": \"white\", \"ticks\": \"\"}}, \"scene\": {\"xaxis\": {\"backgroundcolor\": \"#E5ECF6\", \"gridcolor\": \"white\", \"gridwidth\": 2, \"linecolor\": \"white\", \"showbackground\": true, \"ticks\": \"\", \"zerolinecolor\": \"white\"}, \"yaxis\": {\"backgroundcolor\": \"#E5ECF6\", \"gridcolor\": \"white\", \"gridwidth\": 2, \"linecolor\": \"white\", \"showbackground\": true, \"ticks\": \"\", \"zerolinecolor\": \"white\"}, \"zaxis\": {\"backgroundcolor\": \"#E5ECF6\", \"gridcolor\": \"white\", \"gridwidth\": 2, \"linecolor\": \"white\", \"showbackground\": true, \"ticks\": \"\", \"zerolinecolor\": \"white\"}}, \"shapedefaults\": {\"line\": {\"color\": \"#2a3f5f\"}}, \"ternary\": {\"aaxis\": {\"gridcolor\": \"white\", \"linecolor\": \"white\", \"ticks\": \"\"}, \"baxis\": {\"gridcolor\": \"white\", \"linecolor\": \"white\", \"ticks\": \"\"}, \"bgcolor\": \"#E5ECF6\", \"caxis\": {\"gridcolor\": \"white\", \"linecolor\": \"white\", \"ticks\": \"\"}}, \"title\": {\"x\": 0.05}, \"xaxis\": {\"automargin\": true, \"gridcolor\": \"white\", \"linecolor\": \"white\", \"ticks\": \"\", \"title\": {\"standoff\": 15}, \"zerolinecolor\": \"white\", \"zerolinewidth\": 2}, \"yaxis\": {\"automargin\": true, \"gridcolor\": \"white\", \"linecolor\": \"white\", \"ticks\": \"\", \"title\": {\"standoff\": 15}, \"zerolinecolor\": \"white\", \"zerolinewidth\": 2}}}, \"title\": {\"font\": {\"size\": 25}, \"text\": \"hdbscan Cluster\"}, \"width\": 750, \"xaxis\": {\"title\": {\"text\": \"Reduced Dimension 1\"}, \"zeroline\": false}, \"yaxis\": {\"title\": {\"text\": \"Reduced Dimension 2\"}, \"zeroline\": false}},\n",
       "                        {\"responsive\": true}\n",
       "                    ).then(function(){\n",
       "                            \n",
       "var gd = document.getElementById('8a315f0c-63be-4895-aa9c-83b7f27382dc');\n",
       "var x = new MutationObserver(function (mutations, observer) {{\n",
       "        var display = window.getComputedStyle(gd).display;\n",
       "        if (!display || display === 'none') {{\n",
       "            console.log([gd, 'removed!']);\n",
       "            Plotly.purge(gd);\n",
       "            observer.disconnect();\n",
       "        }}\n",
       "}});\n",
       "\n",
       "// Listen for the removal of the full notebook cells\n",
       "var notebookContainer = gd.closest('#notebook-container');\n",
       "if (notebookContainer) {{\n",
       "    x.observe(notebookContainer, {childList: true});\n",
       "}}\n",
       "\n",
       "// Listen for the clearing of the current output cell\n",
       "var outputEl = gd.closest('.output');\n",
       "if (outputEl) {{\n",
       "    x.observe(outputEl, {childList: true});\n",
       "}}\n",
       "\n",
       "                        })\n",
       "                };\n",
       "                });\n",
       "            </script>\n",
       "        </div>"
      ]
     },
     "metadata": {},
     "output_type": "display_data"
    },
    {
     "data": {
      "text/plain": [
       "None"
      ]
     },
     "metadata": {},
     "output_type": "display_data"
    },
    {
     "data": {
      "text/plain": [
       "<data_describe.core.clusters.HDBSCANClusterWidget at 0x2ceb6cce0c8>"
      ]
     },
     "execution_count": 12,
     "metadata": {},
     "output_type": "execute_result"
    }
   ],
   "source": [
    "dd.cluster(df, method=\"hdbscan\", viz_backend=\"plotly\")"
   ]
  }
 ],
 "metadata": {
  "kernelspec": {
   "display_name": "Python 3",
   "language": "python",
   "name": "python3"
  },
  "language_info": {
   "codemirror_mode": {
    "name": "ipython",
    "version": 3
   },
   "file_extension": ".py",
   "mimetype": "text/x-python",
   "name": "python",
   "nbconvert_exporter": "python",
   "pygments_lexer": "ipython3",
   "version": "3.7.7"
  },
  "papermill": {
   "duration": 95.000305,
   "end_time": "2020-07-28T03:35:25.582651",
   "environment_variables": {},
   "exception": null,
   "input_path": "C:\\workspace\\data-describe\\examples\\Cluster_Analysis.ipynb",
   "output_path": "C:\\workspace\\data-describe\\examples\\Cluster_Analysis.ipynb",
   "parameters": {},
   "start_time": "2020-07-28T03:33:50.582346",
   "version": "2.1.2"
  }
 },
 "nbformat": 4,
 "nbformat_minor": 4
}
