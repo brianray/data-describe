{
 "cells": [
  {
   "cell_type": "markdown",
   "metadata": {},
   "source": [
    "# Data Summary"
   ]
  },
  {
   "cell_type": "code",
   "execution_count": 1,
   "metadata": {},
   "outputs": [],
   "source": [
    "%%capture\n",
    "import pandas as pd\n",
    "from datetime import datetime\n",
    "\n",
    "from data_describe import data_summary"
   ]
  },
  {
   "cell_type": "code",
   "execution_count": 2,
   "metadata": {},
   "outputs": [],
   "source": [
    "# from sklearn.datasets import load_boston\n",
    "# data = load_boston()\n",
    "# df = pd.DataFrame(data.data, columns=list(data.feature_names))\n",
    "# df['target'] = data.target\n",
    "# df.head(1)"
   ]
  },
  {
   "cell_type": "code",
   "execution_count": 3,
   "metadata": {},
   "outputs": [],
   "source": [
    "# # Change data types to demonstrate data summary\n",
    "# df['AGE'] = df['AGE'].map(lambda x: \"young\" if x < 29 else \"old\")\n",
    "# df[\"AgeFlag\"] = df['AGE'].astype(bool)\n",
    "# df['ZN'] = df['ZN'].astype(int)\n",
    "# df['Date'] = datetime.strptime('1/1/2008 1:30 PM', '%m/%d/%Y %I:%M %p')"
   ]
  },
  {
   "cell_type": "code",
   "execution_count": 4,
   "metadata": {},
   "outputs": [],
   "source": [
    "# data_summary(df)"
   ]
  }
 ],
 "metadata": {
  "kernelspec": {
   "display_name": "datadescribe",
   "language": "python",
   "name": "datadescribe"
  },
  "language_info": {
   "codemirror_mode": {
    "name": "ipython",
    "version": 3
   },
   "file_extension": ".py",
   "mimetype": "text/x-python",
   "name": "python",
   "nbconvert_exporter": "python",
   "pygments_lexer": "ipython3",
   "version": "3.7.7"
  }
 },
 "nbformat": 4,
 "nbformat_minor": 4
}
