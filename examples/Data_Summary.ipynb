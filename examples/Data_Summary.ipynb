{
 "cells": [
  {
   "cell_type": "markdown",
   "metadata": {
    "papermill": {
     "duration": 0.004914,
     "end_time": "2020-08-06T21:24:00.038695",
     "exception": false,
     "start_time": "2020-08-06T21:24:00.033781",
     "status": "completed"
    },
    "tags": []
   },
   "source": [
    "# Data Summary"
   ]
  },
  {
   "cell_type": "code",
   "execution_count": 1,
   "metadata": {
    "execution": {
     "iopub.execute_input": "2020-08-06T21:24:00.052904Z",
     "iopub.status.busy": "2020-08-06T21:24:00.051832Z",
     "iopub.status.idle": "2020-08-06T21:24:07.704729Z",
     "shell.execute_reply": "2020-08-06T21:24:07.705789Z"
    },
    "papermill": {
     "duration": 7.662246,
     "end_time": "2020-08-06T21:24:07.706466",
     "exception": false,
     "start_time": "2020-08-06T21:24:00.044220",
     "status": "completed"
    },
    "tags": []
   },
   "outputs": [
    {
     "name": "stderr",
     "output_type": "stream",
     "text": [
      "/Users/richardtruong-chau/miniconda3/envs/test-env/lib/python3.7/site-packages/google/protobuf/descriptor.py:47: DeprecationWarning: Using or importing the ABCs from 'collections' instead of from 'collections.abc' is deprecated since Python 3.3,and in 3.9 it will stop working\n",
      "  from google.protobuf.pyext import _message\n",
      "/Users/richardtruong-chau/miniconda3/envs/test-env/lib/python3.7/site-packages/gensim/corpora/dictionary.py:11: DeprecationWarning: Using or importing the ABCs from 'collections' instead of from 'collections.abc' is deprecated since Python 3.3,and in 3.9 it will stop working\n",
      "  from collections import Mapping, defaultdict\n",
      "/Users/richardtruong-chau/miniconda3/envs/test-env/lib/python3.7/site-packages/scipy/sparse/sparsetools.py:21: DeprecationWarning: `scipy.sparse.sparsetools` is deprecated!\n",
      "scipy.sparse.sparsetools is a private module for scipy.sparse, and should not be used.\n",
      "  _deprecated()\n"
     ]
    },
    {
     "name": "stderr",
     "output_type": "stream",
     "text": [
      "DeprecationWarning: Using or importing the ABCs from 'collections' instead of from 'collections.abc' is deprecated since Python 3.3,and in 3.9 it will stop working\n"
     ]
    },
    {
     "name": "stderr",
     "output_type": "stream",
     "text": [
      "DeprecationWarning: Redis.hmset() is deprecated. Use Redis.hset() instead.\n",
      "DeprecationWarning: Redis.hmset() is deprecated. Use Redis.hset() instead.\n",
      "DeprecationWarning: Redis.hmset() is deprecated. Use Redis.hset() instead.\n",
      "DeprecationWarning: Redis.hmset() is deprecated. Use Redis.hset() instead.\n",
      "DeprecationWarning: Redis.hmset() is deprecated. Use Redis.hset() instead.\n"
     ]
    },
    {
     "name": "stderr",
     "output_type": "stream",
     "text": [
      "WARNING:root:The extension \"@jupyter-widgets/jupyterlab-manager\" was not found and is required for Plotly-based visualizations.\n"
     ]
    }
   ],
   "source": [
    "import pandas as pd\n",
    "import datetime\n",
    "from data_describe import data_summary\n",
    "from datetime import datetime"
   ]
  },
  {
   "cell_type": "code",
   "execution_count": 2,
   "metadata": {
    "execution": {
     "iopub.execute_input": "2020-08-06T21:24:07.731727Z",
     "iopub.status.busy": "2020-08-06T21:24:07.730756Z",
     "iopub.status.idle": "2020-08-06T21:24:07.767712Z",
     "shell.execute_reply": "2020-08-06T21:24:07.768154Z"
    },
    "papermill": {
     "duration": 0.055405,
     "end_time": "2020-08-06T21:24:07.768445",
     "exception": false,
     "start_time": "2020-08-06T21:24:07.713040",
     "status": "completed"
    },
    "tags": []
   },
   "outputs": [
    {
     "data": {
      "text/html": [
       "<div>\n",
       "<style scoped>\n",
       "    .dataframe tbody tr th:only-of-type {\n",
       "        vertical-align: middle;\n",
       "    }\n",
       "\n",
       "    .dataframe tbody tr th {\n",
       "        vertical-align: top;\n",
       "    }\n",
       "\n",
       "    .dataframe thead th {\n",
       "        text-align: right;\n",
       "    }\n",
       "</style>\n",
       "<table border=\"1\" class=\"dataframe\">\n",
       "  <thead>\n",
       "    <tr style=\"text-align: right;\">\n",
       "      <th></th>\n",
       "      <th>CRIM</th>\n",
       "      <th>ZN</th>\n",
       "      <th>INDUS</th>\n",
       "      <th>CHAS</th>\n",
       "      <th>NOX</th>\n",
       "      <th>RM</th>\n",
       "      <th>AGE</th>\n",
       "      <th>DIS</th>\n",
       "      <th>RAD</th>\n",
       "      <th>TAX</th>\n",
       "      <th>PTRATIO</th>\n",
       "      <th>B</th>\n",
       "      <th>LSTAT</th>\n",
       "      <th>target</th>\n",
       "    </tr>\n",
       "  </thead>\n",
       "  <tbody>\n",
       "    <tr>\n",
       "      <th>0</th>\n",
       "      <td>0.00632</td>\n",
       "      <td>18.0</td>\n",
       "      <td>2.31</td>\n",
       "      <td>0.0</td>\n",
       "      <td>0.538</td>\n",
       "      <td>6.575</td>\n",
       "      <td>65.2</td>\n",
       "      <td>4.09</td>\n",
       "      <td>1.0</td>\n",
       "      <td>296.0</td>\n",
       "      <td>15.3</td>\n",
       "      <td>396.9</td>\n",
       "      <td>4.98</td>\n",
       "      <td>24.0</td>\n",
       "    </tr>\n",
       "  </tbody>\n",
       "</table>\n",
       "</div>"
      ],
      "text/plain": [
       "      CRIM    ZN  INDUS  CHAS    NOX     RM   AGE   DIS  RAD    TAX  PTRATIO  \\\n",
       "0  0.00632  18.0   2.31   0.0  0.538  6.575  65.2  4.09  1.0  296.0     15.3   \n",
       "\n",
       "       B  LSTAT  target  \n",
       "0  396.9   4.98    24.0  "
      ]
     },
     "execution_count": 2,
     "metadata": {},
     "output_type": "execute_result"
    }
   ],
   "source": [
    "from sklearn.datasets import load_boston\n",
    "data = load_boston()\n",
    "df = pd.DataFrame(data.data, columns=list(data.feature_names))\n",
    "df['target'] = data.target\n",
    "df.head(1)"
   ]
  },
  {
   "cell_type": "code",
   "execution_count": 3,
   "metadata": {
    "execution": {
     "iopub.execute_input": "2020-08-06T21:24:07.790625Z",
     "iopub.status.busy": "2020-08-06T21:24:07.788851Z",
     "iopub.status.idle": "2020-08-06T21:24:07.797783Z",
     "shell.execute_reply": "2020-08-06T21:24:07.798515Z"
    },
    "papermill": {
     "duration": 0.023193,
     "end_time": "2020-08-06T21:24:07.798752",
     "exception": false,
     "start_time": "2020-08-06T21:24:07.775559",
     "status": "completed"
    },
    "tags": []
   },
   "outputs": [],
   "source": [
    "# Change data types to demonstrate data summary\n",
    "df['AGE'] = df['AGE'].map(lambda x: \"young\" if x < 29 else \"old\")\n",
    "df[\"AgeFlag\"] = df['AGE'].astype(bool)\n",
    "df['ZN'] = df['ZN'].astype(int)\n",
    "df['Date'] = datetime.strptime('1/1/2008 1:30 PM', '%m/%d/%Y %I:%M %p')"
   ]
  },
  {
   "cell_type": "code",
   "execution_count": 4,
   "metadata": {
    "execution": {
     "iopub.execute_input": "2020-08-06T21:24:08.079413Z",
     "iopub.status.busy": "2020-08-06T21:24:08.078297Z",
     "iopub.status.idle": "2020-08-06T21:24:20.664385Z",
     "shell.execute_reply": "2020-08-06T21:24:20.665051Z"
    },
    "papermill": {
     "duration": 12.860389,
     "end_time": "2020-08-06T21:24:20.665977",
     "exception": false,
     "start_time": "2020-08-06T21:24:07.805588",
     "status": "completed"
    },
    "tags": []
   },
   "outputs": [
    {
     "name": "stdout",
     "output_type": "stream",
     "text": [
      "final root:{'score_threshold': 0.2, 'enable_trace_pii': None, 'sample_size': None}\n",
      "final root:{'score_threshold': 0.2, 'enable_trace_pii': True, 'sample_size': None}\n",
      "final root:{'score_threshold': 0.2, 'enable_trace_pii': True, 'sample_size': 100}\n",
      "[2020-08-06 16:24:08,449][presidio][INFO]nlp_engine not provided. Creating new SpacyNlpEngine instance\n"
     ]
    },
    {
     "name": "stderr",
     "output_type": "stream",
     "text": [
      "INFO:presidio:nlp_engine not provided. Creating new SpacyNlpEngine instance\n"
     ]
    },
    {
     "name": "stdout",
     "output_type": "stream",
     "text": [
      "[2020-08-06 16:24:08,454][presidio][INFO]Loading NLP model: spaCy en_core_web_lg\n"
     ]
    },
    {
     "name": "stderr",
     "output_type": "stream",
     "text": [
      "INFO:presidio:Loading NLP model: spaCy en_core_web_lg\n"
     ]
    },
    {
     "name": "stdout",
     "output_type": "stream",
     "text": [
      "\u001b[1m\n",
      "===================== Info about model 'en_core_web_lg' =====================\u001b[0m\n",
      "\n",
      "lang             en                            \n",
      "name             core_web_lg                   \n",
      "license          MIT                           \n",
      "author           Explosion                     \n",
      "url              https://explosion.ai          \n",
      "email            contact@explosion.ai          \n",
      "description      English multi-task CNN trained on OntoNotes, with GloVe vectors trained on Common Crawl. Assigns word vectors, context-specific token vectors, POS tags, dependency parse and named entities.\n",
      "sources          [{'name': 'OntoNotes 5', 'url': 'https://catalog.ldc.upenn.edu/LDC2013T19', 'license': 'commercial (licensed by Explosion)'}, {'name': 'Common Crawl'}]\n",
      "pipeline         ['tagger', 'parser', 'ner']   \n",
      "version          2.2.5                         \n",
      "spacy_version    >=2.2.2                       \n",
      "parent_package   spacy                         \n",
      "labels           {'tagger': ['$', \"''\", ',', '-LRB-', '-RRB-', '.', ':', 'ADD', 'AFX', 'CC', 'CD', 'DT', 'EX', 'FW', 'HYPH', 'IN', 'JJ', 'JJR', 'JJS', 'LS', 'MD', 'NFP', 'NN', 'NNP', 'NNPS', 'NNS', 'PDT', 'POS', 'PRP', 'PRP$', 'RB', 'RBR', 'RBS', 'RP', 'SYM', 'TO', 'UH', 'VB', 'VBD', 'VBG', 'VBN', 'VBP', 'VBZ', 'WDT', 'WP', 'WP$', 'WRB', 'XX', '_SP', '``'], 'parser': ['ROOT', 'acl', 'acomp', 'advcl', 'advmod', 'agent', 'amod', 'appos', 'attr', 'aux', 'auxpass', 'case', 'cc', 'ccomp', 'compound', 'conj', 'csubj', 'csubjpass', 'dative', 'dep', 'det', 'dobj', 'expl', 'intj', 'mark', 'meta', 'neg', 'nmod', 'npadvmod', 'nsubj', 'nsubjpass', 'nummod', 'oprd', 'parataxis', 'pcomp', 'pobj', 'poss', 'preconj', 'predet', 'prep', 'prt', 'punct', 'quantmod', 'relcl', 'xcomp'], 'ner': ['CARDINAL', 'DATE', 'EVENT', 'FAC', 'GPE', 'LANGUAGE', 'LAW', 'LOC', 'MONEY', 'NORP', 'ORDINAL', 'ORG', 'PERCENT', 'PERSON', 'PRODUCT', 'QUANTITY', 'TIME', 'WORK_OF_ART']}\n",
      "vectors          {'width': 300, 'vectors': 684831, 'keys': 684830, 'name': 'en_core_web_lg.vectors'}\n",
      "source           /Users/richardtruong-chau/miniconda3/envs/test-env/lib/python3.7/site-packages/en_core_web_lg\n",
      "\n",
      "[2020-08-06 16:24:20,449][presidio][INFO]Printing spaCy model and package details:\n",
      "\n",
      " {'lang': 'en', 'name': 'core_web_lg', 'license': 'MIT', 'author': 'Explosion', 'url': 'https://explosion.ai', 'email': 'contact@explosion.ai', 'description': 'English multi-task CNN trained on OntoNotes, with GloVe vectors trained on Common Crawl. Assigns word vectors, context-specific token vectors, POS tags, dependency parse and named entities.', 'sources': [{'name': 'OntoNotes 5', 'url': 'https://catalog.ldc.upenn.edu/LDC2013T19', 'license': 'commercial (licensed by Explosion)'}, {'name': 'Common Crawl'}], 'pipeline': ['tagger', 'parser', 'ner'], 'version': '2.2.5', 'spacy_version': '>=2.2.2', 'parent_package': 'spacy', 'accuracy': {'las': 90.1734441725, 'uas': 92.0132337105, 'token_acc': 99.7579930934, 'tags_acc': 97.2200800054, 'ents_f': 86.5464321721, 'ents_p': 86.7358967163, 'ents_r': 86.3577935506}, 'speed': {'cpu': 6257.754029418, 'gpu': None, 'nwords': 291314}, 'labels': {'tagger': ['$', \"''\", ',', '-LRB-', '-RRB-', '.', ':', 'ADD', 'AFX', 'CC', 'CD', 'DT', 'EX', 'FW', 'HYPH', 'IN', 'JJ', 'JJR', 'JJS', 'LS', 'MD', 'NFP', 'NN', 'NNP', 'NNPS', 'NNS', 'PDT', 'POS', 'PRP', 'PRP$', 'RB', 'RBR', 'RBS', 'RP', 'SYM', 'TO', 'UH', 'VB', 'VBD', 'VBG', 'VBN', 'VBP', 'VBZ', 'WDT', 'WP', 'WP$', 'WRB', 'XX', '_SP', '``'], 'parser': ['ROOT', 'acl', 'acomp', 'advcl', 'advmod', 'agent', 'amod', 'appos', 'attr', 'aux', 'auxpass', 'case', 'cc', 'ccomp', 'compound', 'conj', 'csubj', 'csubjpass', 'dative', 'dep', 'det', 'dobj', 'expl', 'intj', 'mark', 'meta', 'neg', 'nmod', 'npadvmod', 'nsubj', 'nsubjpass', 'nummod', 'oprd', 'parataxis', 'pcomp', 'pobj', 'poss', 'preconj', 'predet', 'prep', 'prt', 'punct', 'quantmod', 'relcl', 'xcomp'], 'ner': ['CARDINAL', 'DATE', 'EVENT', 'FAC', 'GPE', 'LANGUAGE', 'LAW', 'LOC', 'MONEY', 'NORP', 'ORDINAL', 'ORG', 'PERCENT', 'PERSON', 'PRODUCT', 'QUANTITY', 'TIME', 'WORK_OF_ART']}, 'vectors': {'width': 300, 'vectors': 684831, 'keys': 684830, 'name': 'en_core_web_lg.vectors'}, 'source': '/Users/richardtruong-chau/miniconda3/envs/test-env/lib/python3.7/site-packages/en_core_web_lg'}\n",
      "\n",
      "\n"
     ]
    },
    {
     "name": "stderr",
     "output_type": "stream",
     "text": [
      "INFO:presidio:Printing spaCy model and package details:\n",
      "\n",
      " {'lang': 'en', 'name': 'core_web_lg', 'license': 'MIT', 'author': 'Explosion', 'url': 'https://explosion.ai', 'email': 'contact@explosion.ai', 'description': 'English multi-task CNN trained on OntoNotes, with GloVe vectors trained on Common Crawl. Assigns word vectors, context-specific token vectors, POS tags, dependency parse and named entities.', 'sources': [{'name': 'OntoNotes 5', 'url': 'https://catalog.ldc.upenn.edu/LDC2013T19', 'license': 'commercial (licensed by Explosion)'}, {'name': 'Common Crawl'}], 'pipeline': ['tagger', 'parser', 'ner'], 'version': '2.2.5', 'spacy_version': '>=2.2.2', 'parent_package': 'spacy', 'accuracy': {'las': 90.1734441725, 'uas': 92.0132337105, 'token_acc': 99.7579930934, 'tags_acc': 97.2200800054, 'ents_f': 86.5464321721, 'ents_p': 86.7358967163, 'ents_r': 86.3577935506}, 'speed': {'cpu': 6257.754029418, 'gpu': None, 'nwords': 291314}, 'labels': {'tagger': ['$', \"''\", ',', '-LRB-', '-RRB-', '.', ':', 'ADD', 'AFX', 'CC', 'CD', 'DT', 'EX', 'FW', 'HYPH', 'IN', 'JJ', 'JJR', 'JJS', 'LS', 'MD', 'NFP', 'NN', 'NNP', 'NNPS', 'NNS', 'PDT', 'POS', 'PRP', 'PRP$', 'RB', 'RBR', 'RBS', 'RP', 'SYM', 'TO', 'UH', 'VB', 'VBD', 'VBG', 'VBN', 'VBP', 'VBZ', 'WDT', 'WP', 'WP$', 'WRB', 'XX', '_SP', '``'], 'parser': ['ROOT', 'acl', 'acomp', 'advcl', 'advmod', 'agent', 'amod', 'appos', 'attr', 'aux', 'auxpass', 'case', 'cc', 'ccomp', 'compound', 'conj', 'csubj', 'csubjpass', 'dative', 'dep', 'det', 'dobj', 'expl', 'intj', 'mark', 'meta', 'neg', 'nmod', 'npadvmod', 'nsubj', 'nsubjpass', 'nummod', 'oprd', 'parataxis', 'pcomp', 'pobj', 'poss', 'preconj', 'predet', 'prep', 'prt', 'punct', 'quantmod', 'relcl', 'xcomp'], 'ner': ['CARDINAL', 'DATE', 'EVENT', 'FAC', 'GPE', 'LANGUAGE', 'LAW', 'LOC', 'MONEY', 'NORP', 'ORDINAL', 'ORG', 'PERCENT', 'PERSON', 'PRODUCT', 'QUANTITY', 'TIME', 'WORK_OF_ART']}, 'vectors': {'width': 300, 'vectors': 684831, 'keys': 684830, 'name': 'en_core_web_lg.vectors'}, 'source': '/Users/richardtruong-chau/miniconda3/envs/test-env/lib/python3.7/site-packages/en_core_web_lg'}\n",
      "\n",
      "\n"
     ]
    },
    {
     "name": "stdout",
     "output_type": "stream",
     "text": [
      "[2020-08-06 16:24:20,452][presidio][INFO]Recognizer registry not provided. Creating default RecognizerRegistry instance\n"
     ]
    },
    {
     "name": "stderr",
     "output_type": "stream",
     "text": [
      "INFO:presidio:Recognizer registry not provided. Creating default RecognizerRegistry instance\n"
     ]
    },
    {
     "name": "stdout",
     "output_type": "stream",
     "text": [
      "[2020-08-06 16:24:20,454][presidio][INFO]Loaded recognizer: CreditCardRecognizer\n"
     ]
    },
    {
     "name": "stderr",
     "output_type": "stream",
     "text": [
      "INFO:presidio:Loaded recognizer: CreditCardRecognizer\n"
     ]
    },
    {
     "name": "stdout",
     "output_type": "stream",
     "text": [
      "[2020-08-06 16:24:20,455][presidio][INFO]Loaded recognizer: CryptoRecognizer\n"
     ]
    },
    {
     "name": "stderr",
     "output_type": "stream",
     "text": [
      "INFO:presidio:Loaded recognizer: CryptoRecognizer\n"
     ]
    },
    {
     "name": "stdout",
     "output_type": "stream",
     "text": [
      "[2020-08-06 16:24:20,456][presidio][INFO]Loaded recognizer: DomainRecognizer\n"
     ]
    },
    {
     "name": "stderr",
     "output_type": "stream",
     "text": [
      "INFO:presidio:Loaded recognizer: DomainRecognizer\n"
     ]
    },
    {
     "name": "stdout",
     "output_type": "stream",
     "text": [
      "[2020-08-06 16:24:20,457][presidio][INFO]Loaded recognizer: EmailRecognizer\n"
     ]
    },
    {
     "name": "stderr",
     "output_type": "stream",
     "text": [
      "INFO:presidio:Loaded recognizer: EmailRecognizer\n"
     ]
    },
    {
     "name": "stdout",
     "output_type": "stream",
     "text": [
      "[2020-08-06 16:24:20,458][presidio][INFO]Loaded recognizer: IbanRecognizer\n"
     ]
    },
    {
     "name": "stderr",
     "output_type": "stream",
     "text": [
      "INFO:presidio:Loaded recognizer: IbanRecognizer\n"
     ]
    },
    {
     "name": "stdout",
     "output_type": "stream",
     "text": [
      "[2020-08-06 16:24:20,459][presidio][INFO]Loaded recognizer: IpRecognizer\n"
     ]
    },
    {
     "name": "stderr",
     "output_type": "stream",
     "text": [
      "INFO:presidio:Loaded recognizer: IpRecognizer\n"
     ]
    },
    {
     "name": "stdout",
     "output_type": "stream",
     "text": [
      "[2020-08-06 16:24:20,461][presidio][INFO]Loaded recognizer: NhsRecognizer\n"
     ]
    },
    {
     "name": "stderr",
     "output_type": "stream",
     "text": [
      "INFO:presidio:Loaded recognizer: NhsRecognizer\n"
     ]
    },
    {
     "name": "stdout",
     "output_type": "stream",
     "text": [
      "[2020-08-06 16:24:20,463][presidio][INFO]Loaded recognizer: UsBankRecognizer\n"
     ]
    },
    {
     "name": "stderr",
     "output_type": "stream",
     "text": [
      "INFO:presidio:Loaded recognizer: UsBankRecognizer\n"
     ]
    },
    {
     "name": "stdout",
     "output_type": "stream",
     "text": [
      "[2020-08-06 16:24:20,464][presidio][INFO]Loaded recognizer: UsLicenseRecognizer\n"
     ]
    },
    {
     "name": "stderr",
     "output_type": "stream",
     "text": [
      "INFO:presidio:Loaded recognizer: UsLicenseRecognizer\n"
     ]
    },
    {
     "name": "stdout",
     "output_type": "stream",
     "text": [
      "[2020-08-06 16:24:20,465][presidio][INFO]Loaded recognizer: UsItinRecognizer\n"
     ]
    },
    {
     "name": "stderr",
     "output_type": "stream",
     "text": [
      "INFO:presidio:Loaded recognizer: UsItinRecognizer\n"
     ]
    },
    {
     "name": "stdout",
     "output_type": "stream",
     "text": [
      "[2020-08-06 16:24:20,466][presidio][INFO]Loaded recognizer: UsPassportRecognizer\n"
     ]
    },
    {
     "name": "stderr",
     "output_type": "stream",
     "text": [
      "INFO:presidio:Loaded recognizer: UsPassportRecognizer\n"
     ]
    },
    {
     "name": "stdout",
     "output_type": "stream",
     "text": [
      "[2020-08-06 16:24:20,467][presidio][INFO]Loaded recognizer: UsPhoneRecognizer\n"
     ]
    },
    {
     "name": "stderr",
     "output_type": "stream",
     "text": [
      "INFO:presidio:Loaded recognizer: UsPhoneRecognizer\n"
     ]
    },
    {
     "name": "stdout",
     "output_type": "stream",
     "text": [
      "[2020-08-06 16:24:20,467][presidio][INFO]Loaded recognizer: UsSsnRecognizer\n"
     ]
    },
    {
     "name": "stderr",
     "output_type": "stream",
     "text": [
      "INFO:presidio:Loaded recognizer: UsSsnRecognizer\n"
     ]
    },
    {
     "name": "stdout",
     "output_type": "stream",
     "text": [
      "[2020-08-06 16:24:20,469][presidio][INFO]Loaded recognizer: SpacyRecognizer\n"
     ]
    },
    {
     "name": "stderr",
     "output_type": "stream",
     "text": [
      "INFO:presidio:Loaded recognizer: SpacyRecognizer\n"
     ]
    },
    {
     "name": "stdout",
     "output_type": "stream",
     "text": [
      "[2020-08-06 16:24:20,469][presidio][INFO]Loaded recognizer: SgFinRecognizer\n"
     ]
    },
    {
     "name": "stderr",
     "output_type": "stream",
     "text": [
      "INFO:presidio:Loaded recognizer: SgFinRecognizer\n"
     ]
    },
    {
     "name": "stdout",
     "output_type": "stream",
     "text": [
      "CPU times: user 9.34 s, sys: 1.96 s, total: 11.3 s\n",
      "Wall time: 12.6 s\n"
     ]
    },
    {
     "data": {
      "text/html": [
       "<div>\n",
       "<style scoped>\n",
       "    .dataframe tbody tr th:only-of-type {\n",
       "        vertical-align: middle;\n",
       "    }\n",
       "\n",
       "    .dataframe tbody tr th {\n",
       "        vertical-align: top;\n",
       "    }\n",
       "\n",
       "    .dataframe thead th {\n",
       "        text-align: right;\n",
       "    }\n",
       "</style>\n",
       "<table border=\"1\" class=\"dataframe\">\n",
       "  <thead>\n",
       "    <tr style=\"text-align: right;\">\n",
       "      <th></th>\n",
       "      <th>CRIM</th>\n",
       "      <th>ZN</th>\n",
       "      <th>INDUS</th>\n",
       "      <th>CHAS</th>\n",
       "      <th>NOX</th>\n",
       "      <th>RM</th>\n",
       "      <th>AGE</th>\n",
       "      <th>DIS</th>\n",
       "      <th>RAD</th>\n",
       "      <th>TAX</th>\n",
       "      <th>PTRATIO</th>\n",
       "      <th>B</th>\n",
       "      <th>LSTAT</th>\n",
       "      <th>target</th>\n",
       "      <th>AgeFlag</th>\n",
       "      <th>Date</th>\n",
       "    </tr>\n",
       "  </thead>\n",
       "  <tbody>\n",
       "    <tr>\n",
       "      <th>Data Type</th>\n",
       "      <td>float64</td>\n",
       "      <td>int32</td>\n",
       "      <td>float64</td>\n",
       "      <td>float64</td>\n",
       "      <td>float64</td>\n",
       "      <td>float64</td>\n",
       "      <td>object</td>\n",
       "      <td>float64</td>\n",
       "      <td>float64</td>\n",
       "      <td>float64</td>\n",
       "      <td>float64</td>\n",
       "      <td>float64</td>\n",
       "      <td>float64</td>\n",
       "      <td>float64</td>\n",
       "      <td>bool</td>\n",
       "      <td>datetime64[ns]</td>\n",
       "    </tr>\n",
       "    <tr>\n",
       "      <th>Mean</th>\n",
       "      <td>3.61352</td>\n",
       "      <td>11.3478</td>\n",
       "      <td>11.1368</td>\n",
       "      <td>0.06917</td>\n",
       "      <td>0.554695</td>\n",
       "      <td>6.28463</td>\n",
       "      <td></td>\n",
       "      <td>3.79504</td>\n",
       "      <td>9.54941</td>\n",
       "      <td>408.237</td>\n",
       "      <td>18.4555</td>\n",
       "      <td>356.674</td>\n",
       "      <td>12.6531</td>\n",
       "      <td>22.5328</td>\n",
       "      <td>1</td>\n",
       "      <td>2008-01-01 13:30:00</td>\n",
       "    </tr>\n",
       "    <tr>\n",
       "      <th>Standard Deviation</th>\n",
       "      <td>8.60155</td>\n",
       "      <td>23.3106</td>\n",
       "      <td>6.86035</td>\n",
       "      <td>0.253994</td>\n",
       "      <td>0.115878</td>\n",
       "      <td>0.702617</td>\n",
       "      <td></td>\n",
       "      <td>2.10571</td>\n",
       "      <td>8.70726</td>\n",
       "      <td>168.537</td>\n",
       "      <td>2.16495</td>\n",
       "      <td>91.2949</td>\n",
       "      <td>7.14106</td>\n",
       "      <td>9.1971</td>\n",
       "      <td>0</td>\n",
       "      <td></td>\n",
       "    </tr>\n",
       "    <tr>\n",
       "      <th>Median</th>\n",
       "      <td>0.25651</td>\n",
       "      <td>0</td>\n",
       "      <td>9.69</td>\n",
       "      <td>0</td>\n",
       "      <td>0.538</td>\n",
       "      <td>6.2085</td>\n",
       "      <td></td>\n",
       "      <td>3.20745</td>\n",
       "      <td>5</td>\n",
       "      <td>330</td>\n",
       "      <td>19.05</td>\n",
       "      <td>391.44</td>\n",
       "      <td>11.36</td>\n",
       "      <td>21.2</td>\n",
       "      <td>1</td>\n",
       "      <td></td>\n",
       "    </tr>\n",
       "    <tr>\n",
       "      <th>Min</th>\n",
       "      <td>0.00632</td>\n",
       "      <td>0</td>\n",
       "      <td>0.46</td>\n",
       "      <td>0</td>\n",
       "      <td>0.385</td>\n",
       "      <td>3.561</td>\n",
       "      <td></td>\n",
       "      <td>1.1296</td>\n",
       "      <td>1</td>\n",
       "      <td>187</td>\n",
       "      <td>12.6</td>\n",
       "      <td>0.32</td>\n",
       "      <td>1.73</td>\n",
       "      <td>5</td>\n",
       "      <td></td>\n",
       "      <td></td>\n",
       "    </tr>\n",
       "    <tr>\n",
       "      <th>Max</th>\n",
       "      <td>88.9762</td>\n",
       "      <td>100</td>\n",
       "      <td>27.74</td>\n",
       "      <td>1</td>\n",
       "      <td>0.871</td>\n",
       "      <td>8.78</td>\n",
       "      <td></td>\n",
       "      <td>12.1265</td>\n",
       "      <td>24</td>\n",
       "      <td>711</td>\n",
       "      <td>22</td>\n",
       "      <td>396.9</td>\n",
       "      <td>37.97</td>\n",
       "      <td>50</td>\n",
       "      <td></td>\n",
       "      <td></td>\n",
       "    </tr>\n",
       "    <tr>\n",
       "      <th># Zeros</th>\n",
       "      <td>0</td>\n",
       "      <td>372</td>\n",
       "      <td>0</td>\n",
       "      <td>471</td>\n",
       "      <td>0</td>\n",
       "      <td>0</td>\n",
       "      <td></td>\n",
       "      <td>0</td>\n",
       "      <td>0</td>\n",
       "      <td>0</td>\n",
       "      <td>0</td>\n",
       "      <td>0</td>\n",
       "      <td>0</td>\n",
       "      <td>0</td>\n",
       "      <td></td>\n",
       "      <td></td>\n",
       "    </tr>\n",
       "    <tr>\n",
       "      <th># Nulls</th>\n",
       "      <td>0</td>\n",
       "      <td>0</td>\n",
       "      <td>0</td>\n",
       "      <td>0</td>\n",
       "      <td>0</td>\n",
       "      <td>0</td>\n",
       "      <td>0</td>\n",
       "      <td>0</td>\n",
       "      <td>0</td>\n",
       "      <td>0</td>\n",
       "      <td>0</td>\n",
       "      <td>0</td>\n",
       "      <td>0</td>\n",
       "      <td>0</td>\n",
       "      <td>0</td>\n",
       "      <td>0</td>\n",
       "    </tr>\n",
       "    <tr>\n",
       "      <th>% Most Frequent Value</th>\n",
       "      <td>0.4</td>\n",
       "      <td>73.52</td>\n",
       "      <td>26.09</td>\n",
       "      <td>93.08</td>\n",
       "      <td>4.55</td>\n",
       "      <td>0.59</td>\n",
       "      <td>88.14</td>\n",
       "      <td>0.99</td>\n",
       "      <td>26.09</td>\n",
       "      <td>26.09</td>\n",
       "      <td>27.67</td>\n",
       "      <td>23.91</td>\n",
       "      <td>0.59</td>\n",
       "      <td>3.16</td>\n",
       "      <td>100</td>\n",
       "      <td>100</td>\n",
       "    </tr>\n",
       "  </tbody>\n",
       "</table>\n",
       "</div>"
      ],
      "text/plain": [
       "                          CRIM       ZN    INDUS      CHAS       NOX  \\\n",
       "Data Type              float64    int32  float64   float64   float64   \n",
       "Mean                   3.61352  11.3478  11.1368   0.06917  0.554695   \n",
       "Standard Deviation     8.60155  23.3106  6.86035  0.253994  0.115878   \n",
       "Median                 0.25651        0     9.69         0     0.538   \n",
       "Min                    0.00632        0     0.46         0     0.385   \n",
       "Max                    88.9762      100    27.74         1     0.871   \n",
       "# Zeros                      0      372        0       471         0   \n",
       "# Nulls                      0        0        0         0         0   \n",
       "% Most Frequent Value      0.4    73.52    26.09     93.08      4.55   \n",
       "\n",
       "                             RM     AGE      DIS      RAD      TAX  PTRATIO  \\\n",
       "Data Type               float64  object  float64  float64  float64  float64   \n",
       "Mean                    6.28463          3.79504  9.54941  408.237  18.4555   \n",
       "Standard Deviation     0.702617          2.10571  8.70726  168.537  2.16495   \n",
       "Median                   6.2085          3.20745        5      330    19.05   \n",
       "Min                       3.561           1.1296        1      187     12.6   \n",
       "Max                        8.78          12.1265       24      711       22   \n",
       "# Zeros                       0                0        0        0        0   \n",
       "# Nulls                       0       0        0        0        0        0   \n",
       "% Most Frequent Value      0.59   88.14     0.99    26.09    26.09    27.67   \n",
       "\n",
       "                             B    LSTAT   target AgeFlag                 Date  \n",
       "Data Type              float64  float64  float64    bool       datetime64[ns]  \n",
       "Mean                   356.674  12.6531  22.5328       1  2008-01-01 13:30:00  \n",
       "Standard Deviation     91.2949  7.14106   9.1971       0                       \n",
       "Median                  391.44    11.36     21.2       1                       \n",
       "Min                       0.32     1.73        5                               \n",
       "Max                      396.9    37.97       50                               \n",
       "# Zeros                      0        0        0                               \n",
       "# Nulls                      0        0        0       0                    0  \n",
       "% Most Frequent Value    23.91     0.59     3.16     100                  100  "
      ]
     },
     "execution_count": 4,
     "metadata": {},
     "output_type": "execute_result"
    }
   ],
   "source": [
    "data_summary(df)"
   ]
  }
 ],
 "metadata": {
  "kernelspec": {
   "display_name": "Python 3",
   "language": "python",
   "name": "python3"
  },
  "language_info": {
   "codemirror_mode": {
    "name": "ipython",
    "version": 3
   },
   "file_extension": ".py",
   "mimetype": "text/x-python",
   "name": "python",
   "nbconvert_exporter": "python",
   "pygments_lexer": "ipython3",
   "version": "3.7.7"
  },
  "papermill": {
   "duration": 25.194778,
   "end_time": "2020-08-06T21:24:24.202960",
   "environment_variables": {},
   "exception": null,
   "input_path": "/Users/richardtruong-chau/Projects/data-describe/examples/Data_Summary.ipynb",
   "output_path": "/Users/richardtruong-chau/Projects/data-describe/examples/Data_Summary.ipynb",
   "parameters": {},
   "start_time": "2020-08-06T21:23:59.008182",
   "version": "2.1.2"
  }
 },
 "nbformat": 4,
 "nbformat_minor": 4
}