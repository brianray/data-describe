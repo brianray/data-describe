{
 "cells": [
  {
   "cell_type": "markdown",
   "metadata": {
    "papermill": {
     "duration": 0.022999,
     "end_time": "2020-10-29T03:00:41.336098",
     "exception": false,
     "start_time": "2020-10-29T03:00:41.313099",
     "status": "completed"
    },
    "tags": []
   },
   "source": [
    "# Text Preprocessing"
   ]
  },
  {
   "cell_type": "code",
   "execution_count": 1,
   "metadata": {
    "execution": {
     "iopub.execute_input": "2020-10-29T03:00:41.391098Z",
     "iopub.status.busy": "2020-10-29T03:00:41.390134Z",
     "iopub.status.idle": "2020-10-29T03:00:45.233099Z",
     "shell.execute_reply": "2020-10-29T03:00:45.233099Z"
    },
    "papermill": {
     "duration": 3.873999,
     "end_time": "2020-10-29T03:00:45.234098",
     "exception": false,
     "start_time": "2020-10-29T03:00:41.360099",
     "status": "completed"
    },
    "tags": []
   },
   "outputs": [],
   "source": [
    "import pandas as pd\n",
    "import itertools\n",
    "from data_describe.text.text_preprocessing import *\n",
    "from data_describe.misc.load_data import load_data"
   ]
  },
  {
   "cell_type": "markdown",
   "metadata": {
    "papermill": {
     "duration": 0.023,
     "end_time": "2020-10-29T03:00:45.280098",
     "exception": false,
     "start_time": "2020-10-29T03:00:45.257098",
     "status": "completed"
    },
    "tags": []
   },
   "source": [
    "## Load Data"
   ]
  },
  {
   "cell_type": "code",
   "execution_count": 2,
   "metadata": {
    "execution": {
     "iopub.execute_input": "2020-10-29T03:00:45.329125Z",
     "iopub.status.busy": "2020-10-29T03:00:45.328100Z",
     "iopub.status.idle": "2020-10-29T03:00:45.855143Z",
     "shell.execute_reply": "2020-10-29T03:00:45.855143Z"
    },
    "papermill": {
     "duration": 0.554044,
     "end_time": "2020-10-29T03:00:45.856143",
     "exception": false,
     "start_time": "2020-10-29T03:00:45.302099",
     "status": "completed"
    },
    "tags": []
   },
   "outputs": [],
   "source": [
    "from sklearn.datasets import fetch_20newsgroups\n",
    "categories = ['alt.atheism']\n",
    "newsgroups = fetch_20newsgroups(subset='train', categories=categories)['data']"
   ]
  },
  {
   "cell_type": "code",
   "execution_count": 3,
   "metadata": {
    "execution": {
     "iopub.execute_input": "2020-10-29T03:00:45.909143Z",
     "iopub.status.busy": "2020-10-29T03:00:45.908180Z",
     "iopub.status.idle": "2020-10-29T03:00:45.913168Z",
     "shell.execute_reply": "2020-10-29T03:00:45.913168Z"
    },
    "papermill": {
     "duration": 0.036,
     "end_time": "2020-10-29T03:00:45.913168",
     "exception": false,
     "start_time": "2020-10-29T03:00:45.877168",
     "status": "completed"
    },
    "tags": []
   },
   "outputs": [
    {
     "data": {
      "text/plain": [
       "'From: darice@yoyo.cc.monash.edu.au (Fred Rice)\\nSubject: Re: Islam & Dress Code for women\\nOrganizatio'"
      ]
     },
     "execution_count": 3,
     "metadata": {},
     "output_type": "execute_result"
    }
   ],
   "source": [
    "newsgroups[0][:100]"
   ]
  },
  {
   "cell_type": "markdown",
   "metadata": {
    "papermill": {
     "duration": 0.021968,
     "end_time": "2020-10-29T03:00:45.958141",
     "exception": false,
     "start_time": "2020-10-29T03:00:45.936173",
     "status": "completed"
    },
    "tags": []
   },
   "source": [
    "## Tokenize"
   ]
  },
  {
   "cell_type": "code",
   "execution_count": 4,
   "metadata": {
    "execution": {
     "iopub.execute_input": "2020-10-29T03:00:46.009143Z",
     "iopub.status.busy": "2020-10-29T03:00:46.008168Z",
     "iopub.status.idle": "2020-10-29T03:00:46.624174Z",
     "shell.execute_reply": "2020-10-29T03:00:46.624174Z"
    },
    "papermill": {
     "duration": 0.644031,
     "end_time": "2020-10-29T03:00:46.625174",
     "exception": false,
     "start_time": "2020-10-29T03:00:45.981143",
     "status": "completed"
    },
    "tags": []
   },
   "outputs": [],
   "source": [
    "newsgroups_tokens = tokenize(newsgroups)"
   ]
  },
  {
   "cell_type": "code",
   "execution_count": 5,
   "metadata": {
    "execution": {
     "iopub.execute_input": "2020-10-29T03:00:46.677168Z",
     "iopub.status.busy": "2020-10-29T03:00:46.677168Z",
     "iopub.status.idle": "2020-10-29T03:00:48.956979Z",
     "shell.execute_reply": "2020-10-29T03:00:48.955972Z"
    },
    "papermill": {
     "duration": 2.308837,
     "end_time": "2020-10-29T03:00:48.956979",
     "exception": false,
     "start_time": "2020-10-29T03:00:46.648142",
     "status": "completed"
    },
    "tags": []
   },
   "outputs": [
    {
     "data": {
      "text/plain": [
       "['From',\n",
       " ':',\n",
       " 'darice',\n",
       " '@',\n",
       " 'yoyo.cc.monash.edu.au',\n",
       " '(',\n",
       " 'Fred',\n",
       " 'Rice',\n",
       " ')',\n",
       " 'Subject']"
      ]
     },
     "execution_count": 5,
     "metadata": {},
     "output_type": "execute_result"
    }
   ],
   "source": [
    "to_list(newsgroups_tokens)[0][:10]"
   ]
  },
  {
   "cell_type": "markdown",
   "metadata": {
    "papermill": {
     "duration": 0.02401,
     "end_time": "2020-10-29T03:00:49.004988",
     "exception": false,
     "start_time": "2020-10-29T03:00:48.980978",
     "status": "completed"
    },
    "tags": []
   },
   "source": [
    "## Change to all lowercase"
   ]
  },
  {
   "cell_type": "code",
   "execution_count": 6,
   "metadata": {
    "execution": {
     "iopub.execute_input": "2020-10-29T03:00:49.107966Z",
     "iopub.status.busy": "2020-10-29T03:00:49.091973Z",
     "iopub.status.idle": "2020-10-29T03:00:51.416606Z",
     "shell.execute_reply": "2020-10-29T03:00:51.417571Z"
    },
    "papermill": {
     "duration": 2.389583,
     "end_time": "2020-10-29T03:00:51.417571",
     "exception": false,
     "start_time": "2020-10-29T03:00:49.027988",
     "status": "completed"
    },
    "tags": []
   },
   "outputs": [
    {
     "data": {
      "text/plain": [
       "['from',\n",
       " ':',\n",
       " 'darice',\n",
       " '@',\n",
       " 'yoyo.cc.monash.edu.au',\n",
       " '(',\n",
       " 'fred',\n",
       " 'rice',\n",
       " ')',\n",
       " 'subject']"
      ]
     },
     "execution_count": 6,
     "metadata": {},
     "output_type": "execute_result"
    }
   ],
   "source": [
    "newsgroups_tokens = tokenize(newsgroups)\n",
    "newsgroups_lower = to_lower(newsgroups_tokens)\n",
    "to_list(newsgroups_lower)[0][:10]"
   ]
  },
  {
   "cell_type": "markdown",
   "metadata": {
    "papermill": {
     "duration": 0.024997,
     "end_time": "2020-10-29T03:00:51.470567",
     "exception": false,
     "start_time": "2020-10-29T03:00:51.445570",
     "status": "completed"
    },
    "tags": []
   },
   "source": [
    "## Run a preprocessing pipeline in one line"
   ]
  },
  {
   "cell_type": "code",
   "execution_count": 7,
   "metadata": {
    "execution": {
     "iopub.execute_input": "2020-10-29T03:00:51.548604Z",
     "iopub.status.busy": "2020-10-29T03:00:51.542569Z",
     "iopub.status.idle": "2020-10-29T03:00:53.863233Z",
     "shell.execute_reply": "2020-10-29T03:00:53.862234Z"
    },
    "papermill": {
     "duration": 2.370663,
     "end_time": "2020-10-29T03:00:53.864232",
     "exception": false,
     "start_time": "2020-10-29T03:00:51.493569",
     "status": "completed"
    },
    "tags": []
   },
   "outputs": [
    {
     "data": {
      "text/plain": [
       "['from',\n",
       " ':',\n",
       " 'darice',\n",
       " '@',\n",
       " 'yoyo.cc.monash.edu.au',\n",
       " '(',\n",
       " 'fred',\n",
       " 'rice',\n",
       " ')',\n",
       " 'subject']"
      ]
     },
     "execution_count": 7,
     "metadata": {},
     "output_type": "execute_result"
    }
   ],
   "source": [
    "to_list(preprocess_texts(newsgroups, custom_pipeline=['tokenize', 'to_lower']))[0][:10]"
   ]
  },
  {
   "cell_type": "markdown",
   "metadata": {
    "papermill": {
     "duration": 0.024031,
     "end_time": "2020-10-29T03:00:53.912227",
     "exception": false,
     "start_time": "2020-10-29T03:00:53.888196",
     "status": "completed"
    },
    "tags": []
   },
   "source": [
    "## Remove punctuation"
   ]
  },
  {
   "cell_type": "code",
   "execution_count": 8,
   "metadata": {
    "execution": {
     "iopub.execute_input": "2020-10-29T03:00:53.989232Z",
     "iopub.status.busy": "2020-10-29T03:00:53.972202Z",
     "iopub.status.idle": "2020-10-29T03:00:57.505239Z",
     "shell.execute_reply": "2020-10-29T03:00:57.506240Z"
    },
    "papermill": {
     "duration": 3.571014,
     "end_time": "2020-10-29T03:00:57.506240",
     "exception": false,
     "start_time": "2020-10-29T03:00:53.935226",
     "status": "completed"
    },
    "tags": []
   },
   "outputs": [
    {
     "data": {
      "text/plain": [
       "['From',\n",
       " 'darice',\n",
       " 'yoyo.cc.monash.edu.au',\n",
       " 'Fred',\n",
       " 'Rice',\n",
       " 'Subject',\n",
       " 'Re',\n",
       " 'Islam',\n",
       " 'Dress',\n",
       " 'Code']"
      ]
     },
     "execution_count": 8,
     "metadata": {},
     "output_type": "execute_result"
    }
   ],
   "source": [
    "to_list(preprocess_texts(newsgroups, custom_pipeline=['tokenize', 'remove_punct']))[0][:10]"
   ]
  },
  {
   "cell_type": "markdown",
   "metadata": {
    "papermill": {
     "duration": 0.024973,
     "end_time": "2020-10-29T03:00:57.556239",
     "exception": false,
     "start_time": "2020-10-29T03:00:57.531266",
     "status": "completed"
    },
    "tags": []
   },
   "source": [
    "## Remove digits"
   ]
  },
  {
   "cell_type": "code",
   "execution_count": 9,
   "metadata": {
    "execution": {
     "iopub.execute_input": "2020-10-29T03:00:57.611268Z",
     "iopub.status.busy": "2020-10-29T03:00:57.610273Z",
     "iopub.status.idle": "2020-10-29T03:00:57.614242Z",
     "shell.execute_reply": "2020-10-29T03:00:57.615271Z"
    },
    "papermill": {
     "duration": 0.035031,
     "end_time": "2020-10-29T03:00:57.615271",
     "exception": false,
     "start_time": "2020-10-29T03:00:57.580240",
     "status": "completed"
    },
    "tags": []
   },
   "outputs": [
    {
     "data": {
      "text/plain": [
       "['this', 'is', '', 'a', 'test', '', 'if', 'it', 'works']"
      ]
     },
     "execution_count": 9,
     "metadata": {},
     "output_type": "execute_result"
    }
   ],
   "source": [
    "digits_test_list = [['this', 'is', '3', 'a', 'test', '2c', 'if', 'it', 'works']]\n",
    "to_list(preprocess_texts(digits_test_list, custom_pipeline=['remove_digits']))[0]"
   ]
  },
  {
   "cell_type": "markdown",
   "metadata": {
    "papermill": {
     "duration": 0.026969,
     "end_time": "2020-10-29T03:00:57.667245",
     "exception": false,
     "start_time": "2020-10-29T03:00:57.640276",
     "status": "completed"
    },
    "tags": []
   },
   "source": [
    "## Remove single characters and spaces"
   ]
  },
  {
   "cell_type": "code",
   "execution_count": 10,
   "metadata": {
    "execution": {
     "iopub.execute_input": "2020-10-29T03:00:57.728280Z",
     "iopub.status.busy": "2020-10-29T03:00:57.728280Z",
     "iopub.status.idle": "2020-10-29T03:00:57.732275Z",
     "shell.execute_reply": "2020-10-29T03:00:57.733268Z"
    },
    "papermill": {
     "duration": 0.035975,
     "end_time": "2020-10-29T03:00:57.733268",
     "exception": false,
     "start_time": "2020-10-29T03:00:57.697293",
     "status": "completed"
    },
    "tags": []
   },
   "outputs": [
    {
     "data": {
      "text/plain": [
       "['this', 'is', 'test']"
      ]
     },
     "execution_count": 10,
     "metadata": {},
     "output_type": "execute_result"
    }
   ],
   "source": [
    "single_char_spaces_test_list = [['this', 'is', '   ', 'a', 'test', '   ', 'b']]\n",
    "to_list(preprocess_texts(single_char_spaces_test_list, custom_pipeline=['remove_single_char_and_spaces']))[0]"
   ]
  },
  {
   "cell_type": "markdown",
   "metadata": {
    "papermill": {
     "duration": 0.027001,
     "end_time": "2020-10-29T03:00:57.785274",
     "exception": false,
     "start_time": "2020-10-29T03:00:57.758273",
     "status": "completed"
    },
    "tags": []
   },
   "source": [
    "## Remove stopwords"
   ]
  },
  {
   "cell_type": "code",
   "execution_count": 11,
   "metadata": {
    "execution": {
     "iopub.execute_input": "2020-10-29T03:00:57.842240Z",
     "iopub.status.busy": "2020-10-29T03:00:57.841240Z",
     "iopub.status.idle": "2020-10-29T03:01:01.482073Z",
     "shell.execute_reply": "2020-10-29T03:01:01.481073Z"
    },
    "papermill": {
     "duration": 3.672798,
     "end_time": "2020-10-29T03:01:01.483073",
     "exception": false,
     "start_time": "2020-10-29T03:00:57.810275",
     "status": "completed"
    },
    "tags": []
   },
   "outputs": [
    {
     "data": {
      "text/plain": [
       "['From',\n",
       " 'darice',\n",
       " 'yoyo.cc.monash.edu.au',\n",
       " 'Fred',\n",
       " 'Rice',\n",
       " 'Subject',\n",
       " 'Re',\n",
       " 'Islam',\n",
       " 'Dress',\n",
       " 'Code']"
      ]
     },
     "execution_count": 11,
     "metadata": {},
     "output_type": "execute_result"
    }
   ],
   "source": [
    "to_list(preprocess_texts(newsgroups, custom_pipeline=['tokenize', 'remove_punct', 'remove_stopwords']))[0][:10]"
   ]
  },
  {
   "cell_type": "markdown",
   "metadata": {
    "papermill": {
     "duration": 0.027003,
     "end_time": "2020-10-29T03:01:01.536075",
     "exception": false,
     "start_time": "2020-10-29T03:01:01.509072",
     "status": "completed"
    },
    "tags": []
   },
   "source": [
    "## Stem words"
   ]
  },
  {
   "cell_type": "code",
   "execution_count": 12,
   "metadata": {
    "execution": {
     "iopub.execute_input": "2020-10-29T03:01:01.600075Z",
     "iopub.status.busy": "2020-10-29T03:01:01.598073Z",
     "iopub.status.idle": "2020-10-29T03:01:08.163872Z",
     "shell.execute_reply": "2020-10-29T03:01:08.163872Z"
    },
    "papermill": {
     "duration": 6.599822,
     "end_time": "2020-10-29T03:01:08.164895",
     "exception": false,
     "start_time": "2020-10-29T03:01:01.565073",
     "status": "completed"
    },
    "tags": []
   },
   "outputs": [
    {
     "data": {
      "text/plain": [
       "['from',\n",
       " 'dar',\n",
       " 'yoyo.cc.monash.edu.au',\n",
       " 'fred',\n",
       " 'ric',\n",
       " 'subject',\n",
       " 're',\n",
       " 'islam',\n",
       " 'dress',\n",
       " 'cod']"
      ]
     },
     "execution_count": 12,
     "metadata": {},
     "output_type": "execute_result"
    }
   ],
   "source": [
    "to_list(preprocess_texts(newsgroups, custom_pipeline=['tokenize', 'remove_punct', 'remove_stopwords', 'stem']))[0][:10]"
   ]
  },
  {
   "cell_type": "markdown",
   "metadata": {
    "papermill": {
     "duration": 0.025996,
     "end_time": "2020-10-29T03:01:08.221866",
     "exception": false,
     "start_time": "2020-10-29T03:01:08.195870",
     "status": "completed"
    },
    "tags": []
   },
   "source": [
    "## Lemmatize words"
   ]
  },
  {
   "cell_type": "code",
   "execution_count": 13,
   "metadata": {
    "execution": {
     "iopub.execute_input": "2020-10-29T03:01:08.278865Z",
     "iopub.status.busy": "2020-10-29T03:01:08.277866Z",
     "iopub.status.idle": "2020-10-29T03:01:14.839973Z",
     "shell.execute_reply": "2020-10-29T03:01:14.840998Z"
    },
    "papermill": {
     "duration": 6.594104,
     "end_time": "2020-10-29T03:01:14.840998",
     "exception": false,
     "start_time": "2020-10-29T03:01:08.246894",
     "status": "completed"
    },
    "tags": []
   },
   "outputs": [
    {
     "data": {
      "text/plain": [
       "['From',\n",
       " 'darice',\n",
       " 'yoyo.cc.monash.edu.au',\n",
       " 'Fred',\n",
       " 'Rice',\n",
       " 'Subject',\n",
       " 'Re',\n",
       " 'Islam',\n",
       " 'Dress',\n",
       " 'Code']"
      ]
     },
     "execution_count": 13,
     "metadata": {},
     "output_type": "execute_result"
    }
   ],
   "source": [
    "to_list(preprocess_texts(newsgroups, custom_pipeline=['tokenize', 'remove_punct', 'remove_stopwords', 'lemmatize']))[0][:10]"
   ]
  },
  {
   "cell_type": "markdown",
   "metadata": {
    "papermill": {
     "duration": 0.026989,
     "end_time": "2020-10-29T03:01:14.894969",
     "exception": false,
     "start_time": "2020-10-29T03:01:14.867980",
     "status": "completed"
    },
    "tags": []
   },
   "source": [
    "## Custom Function"
   ]
  },
  {
   "cell_type": "code",
   "execution_count": 14,
   "metadata": {
    "execution": {
     "iopub.execute_input": "2020-10-29T03:01:14.977004Z",
     "iopub.status.busy": "2020-10-29T03:01:14.955004Z",
     "iopub.status.idle": "2020-10-29T03:01:17.439014Z",
     "shell.execute_reply": "2020-10-29T03:01:17.440015Z"
    },
    "papermill": {
     "duration": 2.520045,
     "end_time": "2020-10-29T03:01:17.440015",
     "exception": false,
     "start_time": "2020-10-29T03:01:14.919970",
     "status": "completed"
    },
    "tags": []
   },
   "outputs": [
    {
     "data": {
      "text/plain": [
       "['FROM',\n",
       " ':',\n",
       " 'DARICE',\n",
       " '@',\n",
       " 'YOYO.CC.MONASH.EDU.AU',\n",
       " '(',\n",
       " 'FRED',\n",
       " 'RICE',\n",
       " ')',\n",
       " 'SUBJECT']"
      ]
     },
     "execution_count": 14,
     "metadata": {},
     "output_type": "execute_result"
    }
   ],
   "source": [
    "def shout(text_docs_bow):\n",
    "    return ((word.upper() for word in doc) for doc in text_docs_bow)\n",
    "\n",
    "to_list(preprocess_texts(newsgroups, custom_pipeline=['tokenize', shout]))[0][:10]"
   ]
  },
  {
   "cell_type": "markdown",
   "metadata": {
    "papermill": {
     "duration": 0.032,
     "end_time": "2020-10-29T03:01:17.508015",
     "exception": false,
     "start_time": "2020-10-29T03:01:17.476015",
     "status": "completed"
    },
    "tags": []
   },
   "source": [
    "## Convert back to a single string"
   ]
  },
  {
   "cell_type": "code",
   "execution_count": 15,
   "metadata": {
    "execution": {
     "iopub.execute_input": "2020-10-29T03:01:17.577041Z",
     "iopub.status.busy": "2020-10-29T03:01:17.575049Z",
     "iopub.status.idle": "2020-10-29T03:01:22.116117Z",
     "shell.execute_reply": "2020-10-29T03:01:22.115123Z"
    },
    "papermill": {
     "duration": 4.576102,
     "end_time": "2020-10-29T03:01:22.116117",
     "exception": false,
     "start_time": "2020-10-29T03:01:17.540015",
     "status": "completed"
    },
    "tags": []
   },
   "outputs": [
    {
     "data": {
      "text/plain": [
       "\"From darice yoyo.cc.monash.edu.au Fred Rice Subject Re Islam Dress Code woman Organization Monash University Melb Australia Lines  In . .rz.tu-bs.de  .rz.tu-bs.de Benedikt Rosenau writes In article .. .cc.monash.edu.au darice yoyo.cc.monash.edu.au Fred Rice writes Deletion Of course people say think religion exactly coming different people within religion There nothing existing different perspective within religion perhaps one say tend converge truth My point lot harm way meantime And converge counterfactual religion appear split diverge Even might True Religion core layer determine happens practise quite inhumane usually What post supposed answer I n't see got I say I repeat Religions harm people And religion converge split Giving disagree upon And lot disagreement one tolerant one tolerant Ideologies also split giving disagree upon may also lead intolerance So also oppose ideology I n't think argument argument religion point weakness human nature Big deletion  Do woman soul Islam Peo\""
      ]
     },
     "execution_count": 15,
     "metadata": {},
     "output_type": "execute_result"
    }
   ],
   "source": [
    "to_list(preprocess_texts(newsgroups, custom_pipeline=[\n",
    "    'tokenize', \n",
    "    'remove_punct', \n",
    "    'remove_stopwords', \n",
    "    'lemmatize',\n",
    "    'remove_digits',\n",
    "    'bag_of_words_to_docs'\n",
    "]))[0][:1000]"
   ]
  },
  {
   "cell_type": "markdown",
   "metadata": {
    "papermill": {
     "duration": 0.029035,
     "end_time": "2020-10-29T03:01:22.173127",
     "exception": false,
     "start_time": "2020-10-29T03:01:22.144092",
     "status": "completed"
    },
    "tags": []
   },
   "source": [
    "## Create a document-word frequency matrix"
   ]
  },
  {
   "cell_type": "code",
   "execution_count": 16,
   "metadata": {
    "execution": {
     "iopub.execute_input": "2020-10-29T03:01:22.231090Z",
     "iopub.status.busy": "2020-10-29T03:01:22.230090Z",
     "iopub.status.idle": "2020-10-29T03:01:26.927102Z",
     "shell.execute_reply": "2020-10-29T03:01:26.927102Z"
    },
    "papermill": {
     "duration": 4.727976,
     "end_time": "2020-10-29T03:01:26.927102",
     "exception": false,
     "start_time": "2020-10-29T03:01:22.199126",
     "status": "completed"
    },
    "tags": []
   },
   "outputs": [
    {
     "data": {
      "text/html": [
       "<div>\n",
       "<style scoped>\n",
       "    .dataframe tbody tr th:only-of-type {\n",
       "        vertical-align: middle;\n",
       "    }\n",
       "\n",
       "    .dataframe tbody tr th {\n",
       "        vertical-align: top;\n",
       "    }\n",
       "\n",
       "    .dataframe thead th {\n",
       "        text-align: right;\n",
       "    }\n",
       "</style>\n",
       "<table border=\"1\" class=\"dataframe\">\n",
       "  <thead>\n",
       "    <tr style=\"text-align: right;\">\n",
       "      <th></th>\n",
       "      <th>_o</th>\n",
       "      <th>aa</th>\n",
       "      <th>aaa</th>\n",
       "      <th>aah</th>\n",
       "      <th>aap</th>\n",
       "      <th>aario</th>\n",
       "      <th>aaron</th>\n",
       "      <th>abandoned</th>\n",
       "      <th>abberation</th>\n",
       "      <th>abc</th>\n",
       "      <th>...</th>\n",
       "      <th>zlumber</th>\n",
       "      <th>zombie</th>\n",
       "      <th>zoo</th>\n",
       "      <th>zues</th>\n",
       "      <th>zumder</th>\n",
       "      <th>zur</th>\n",
       "      <th>zurlo</th>\n",
       "      <th>zus</th>\n",
       "      <th>zvonko</th>\n",
       "      <th>zyklon</th>\n",
       "    </tr>\n",
       "  </thead>\n",
       "  <tbody>\n",
       "    <tr>\n",
       "      <th>0</th>\n",
       "      <td>0</td>\n",
       "      <td>0</td>\n",
       "      <td>0</td>\n",
       "      <td>0</td>\n",
       "      <td>0</td>\n",
       "      <td>0</td>\n",
       "      <td>0</td>\n",
       "      <td>0</td>\n",
       "      <td>0</td>\n",
       "      <td>0</td>\n",
       "      <td>...</td>\n",
       "      <td>0</td>\n",
       "      <td>0</td>\n",
       "      <td>0</td>\n",
       "      <td>0</td>\n",
       "      <td>0</td>\n",
       "      <td>0</td>\n",
       "      <td>0</td>\n",
       "      <td>0</td>\n",
       "      <td>0</td>\n",
       "      <td>0</td>\n",
       "    </tr>\n",
       "    <tr>\n",
       "      <th>1</th>\n",
       "      <td>0</td>\n",
       "      <td>0</td>\n",
       "      <td>0</td>\n",
       "      <td>0</td>\n",
       "      <td>0</td>\n",
       "      <td>0</td>\n",
       "      <td>0</td>\n",
       "      <td>0</td>\n",
       "      <td>0</td>\n",
       "      <td>0</td>\n",
       "      <td>...</td>\n",
       "      <td>0</td>\n",
       "      <td>0</td>\n",
       "      <td>0</td>\n",
       "      <td>0</td>\n",
       "      <td>0</td>\n",
       "      <td>0</td>\n",
       "      <td>0</td>\n",
       "      <td>0</td>\n",
       "      <td>0</td>\n",
       "      <td>0</td>\n",
       "    </tr>\n",
       "    <tr>\n",
       "      <th>2</th>\n",
       "      <td>0</td>\n",
       "      <td>0</td>\n",
       "      <td>0</td>\n",
       "      <td>0</td>\n",
       "      <td>0</td>\n",
       "      <td>0</td>\n",
       "      <td>0</td>\n",
       "      <td>0</td>\n",
       "      <td>0</td>\n",
       "      <td>0</td>\n",
       "      <td>...</td>\n",
       "      <td>0</td>\n",
       "      <td>0</td>\n",
       "      <td>0</td>\n",
       "      <td>0</td>\n",
       "      <td>0</td>\n",
       "      <td>0</td>\n",
       "      <td>0</td>\n",
       "      <td>0</td>\n",
       "      <td>0</td>\n",
       "      <td>0</td>\n",
       "    </tr>\n",
       "    <tr>\n",
       "      <th>3</th>\n",
       "      <td>0</td>\n",
       "      <td>0</td>\n",
       "      <td>0</td>\n",
       "      <td>0</td>\n",
       "      <td>0</td>\n",
       "      <td>0</td>\n",
       "      <td>0</td>\n",
       "      <td>0</td>\n",
       "      <td>0</td>\n",
       "      <td>0</td>\n",
       "      <td>...</td>\n",
       "      <td>0</td>\n",
       "      <td>0</td>\n",
       "      <td>0</td>\n",
       "      <td>0</td>\n",
       "      <td>0</td>\n",
       "      <td>0</td>\n",
       "      <td>0</td>\n",
       "      <td>0</td>\n",
       "      <td>0</td>\n",
       "      <td>0</td>\n",
       "    </tr>\n",
       "    <tr>\n",
       "      <th>4</th>\n",
       "      <td>0</td>\n",
       "      <td>0</td>\n",
       "      <td>0</td>\n",
       "      <td>0</td>\n",
       "      <td>0</td>\n",
       "      <td>0</td>\n",
       "      <td>0</td>\n",
       "      <td>0</td>\n",
       "      <td>0</td>\n",
       "      <td>0</td>\n",
       "      <td>...</td>\n",
       "      <td>0</td>\n",
       "      <td>0</td>\n",
       "      <td>0</td>\n",
       "      <td>0</td>\n",
       "      <td>0</td>\n",
       "      <td>0</td>\n",
       "      <td>0</td>\n",
       "      <td>0</td>\n",
       "      <td>0</td>\n",
       "      <td>0</td>\n",
       "    </tr>\n",
       "  </tbody>\n",
       "</table>\n",
       "<p>5 rows × 10039 columns</p>\n",
       "</div>"
      ],
      "text/plain": [
       "   _o  aa  aaa  aah  aap  aario  aaron  abandoned  abberation  abc  ...  \\\n",
       "0   0   0    0    0    0      0      0          0           0    0  ...   \n",
       "1   0   0    0    0    0      0      0          0           0    0  ...   \n",
       "2   0   0    0    0    0      0      0          0           0    0  ...   \n",
       "3   0   0    0    0    0      0      0          0           0    0  ...   \n",
       "4   0   0    0    0    0      0      0          0           0    0  ...   \n",
       "\n",
       "   zlumber  zombie  zoo  zues  zumder  zur  zurlo  zus  zvonko  zyklon  \n",
       "0        0       0    0     0       0    0      0    0       0       0  \n",
       "1        0       0    0     0       0    0      0    0       0       0  \n",
       "2        0       0    0     0       0    0      0    0       0       0  \n",
       "3        0       0    0     0       0    0      0    0       0       0  \n",
       "4        0       0    0     0       0    0      0    0       0       0  \n",
       "\n",
       "[5 rows x 10039 columns]"
      ]
     },
     "execution_count": 16,
     "metadata": {},
     "output_type": "execute_result"
    }
   ],
   "source": [
    "newsgroups_docs = preprocess_texts(newsgroups, custom_pipeline=[\n",
    "    'tokenize', \n",
    "    'remove_punct', \n",
    "    'remove_stopwords', \n",
    "    'lemmatize',\n",
    "    'remove_digits',\n",
    "    'bag_of_words_to_docs'\n",
    "])\n",
    "create_doc_term_matrix(newsgroups_docs).iloc[:5, 10:]"
   ]
  },
  {
   "cell_type": "markdown",
   "metadata": {
    "papermill": {
     "duration": 0.028028,
     "end_time": "2020-10-29T03:01:26.983102",
     "exception": false,
     "start_time": "2020-10-29T03:01:26.955074",
     "status": "completed"
    },
    "tags": []
   },
   "source": [
    "## Create a TF-IDF matrix"
   ]
  },
  {
   "cell_type": "code",
   "execution_count": 17,
   "metadata": {
    "execution": {
     "iopub.execute_input": "2020-10-29T03:01:27.044111Z",
     "iopub.status.busy": "2020-10-29T03:01:27.044111Z",
     "iopub.status.idle": "2020-10-29T03:01:32.965454Z",
     "shell.execute_reply": "2020-10-29T03:01:32.964456Z"
    },
    "papermill": {
     "duration": 5.95435,
     "end_time": "2020-10-29T03:01:32.965454",
     "exception": false,
     "start_time": "2020-10-29T03:01:27.011104",
     "status": "completed"
    },
    "tags": []
   },
   "outputs": [
    {
     "data": {
      "text/html": [
       "<div>\n",
       "<style scoped>\n",
       "    .dataframe tbody tr th:only-of-type {\n",
       "        vertical-align: middle;\n",
       "    }\n",
       "\n",
       "    .dataframe tbody tr th {\n",
       "        vertical-align: top;\n",
       "    }\n",
       "\n",
       "    .dataframe thead th {\n",
       "        text-align: right;\n",
       "    }\n",
       "</style>\n",
       "<table border=\"1\" class=\"dataframe\">\n",
       "  <thead>\n",
       "    <tr style=\"text-align: right;\">\n",
       "      <th></th>\n",
       "      <th>_o</th>\n",
       "      <th>aa</th>\n",
       "      <th>aaa</th>\n",
       "      <th>aah</th>\n",
       "      <th>aap</th>\n",
       "      <th>aario</th>\n",
       "      <th>aaron</th>\n",
       "      <th>abandoned</th>\n",
       "      <th>abberation</th>\n",
       "      <th>abc</th>\n",
       "      <th>...</th>\n",
       "      <th>zlumber</th>\n",
       "      <th>zombie</th>\n",
       "      <th>zoo</th>\n",
       "      <th>zues</th>\n",
       "      <th>zumder</th>\n",
       "      <th>zur</th>\n",
       "      <th>zurlo</th>\n",
       "      <th>zus</th>\n",
       "      <th>zvonko</th>\n",
       "      <th>zyklon</th>\n",
       "    </tr>\n",
       "  </thead>\n",
       "  <tbody>\n",
       "    <tr>\n",
       "      <th>0</th>\n",
       "      <td>0.0</td>\n",
       "      <td>0.0</td>\n",
       "      <td>0.0</td>\n",
       "      <td>0.0</td>\n",
       "      <td>0.0</td>\n",
       "      <td>0.0</td>\n",
       "      <td>0.0</td>\n",
       "      <td>0.0</td>\n",
       "      <td>0.0</td>\n",
       "      <td>0.0</td>\n",
       "      <td>...</td>\n",
       "      <td>0.0</td>\n",
       "      <td>0.0</td>\n",
       "      <td>0.0</td>\n",
       "      <td>0.0</td>\n",
       "      <td>0.0</td>\n",
       "      <td>0.0</td>\n",
       "      <td>0.0</td>\n",
       "      <td>0.0</td>\n",
       "      <td>0.0</td>\n",
       "      <td>0.0</td>\n",
       "    </tr>\n",
       "    <tr>\n",
       "      <th>1</th>\n",
       "      <td>0.0</td>\n",
       "      <td>0.0</td>\n",
       "      <td>0.0</td>\n",
       "      <td>0.0</td>\n",
       "      <td>0.0</td>\n",
       "      <td>0.0</td>\n",
       "      <td>0.0</td>\n",
       "      <td>0.0</td>\n",
       "      <td>0.0</td>\n",
       "      <td>0.0</td>\n",
       "      <td>...</td>\n",
       "      <td>0.0</td>\n",
       "      <td>0.0</td>\n",
       "      <td>0.0</td>\n",
       "      <td>0.0</td>\n",
       "      <td>0.0</td>\n",
       "      <td>0.0</td>\n",
       "      <td>0.0</td>\n",
       "      <td>0.0</td>\n",
       "      <td>0.0</td>\n",
       "      <td>0.0</td>\n",
       "    </tr>\n",
       "    <tr>\n",
       "      <th>2</th>\n",
       "      <td>0.0</td>\n",
       "      <td>0.0</td>\n",
       "      <td>0.0</td>\n",
       "      <td>0.0</td>\n",
       "      <td>0.0</td>\n",
       "      <td>0.0</td>\n",
       "      <td>0.0</td>\n",
       "      <td>0.0</td>\n",
       "      <td>0.0</td>\n",
       "      <td>0.0</td>\n",
       "      <td>...</td>\n",
       "      <td>0.0</td>\n",
       "      <td>0.0</td>\n",
       "      <td>0.0</td>\n",
       "      <td>0.0</td>\n",
       "      <td>0.0</td>\n",
       "      <td>0.0</td>\n",
       "      <td>0.0</td>\n",
       "      <td>0.0</td>\n",
       "      <td>0.0</td>\n",
       "      <td>0.0</td>\n",
       "    </tr>\n",
       "    <tr>\n",
       "      <th>3</th>\n",
       "      <td>0.0</td>\n",
       "      <td>0.0</td>\n",
       "      <td>0.0</td>\n",
       "      <td>0.0</td>\n",
       "      <td>0.0</td>\n",
       "      <td>0.0</td>\n",
       "      <td>0.0</td>\n",
       "      <td>0.0</td>\n",
       "      <td>0.0</td>\n",
       "      <td>0.0</td>\n",
       "      <td>...</td>\n",
       "      <td>0.0</td>\n",
       "      <td>0.0</td>\n",
       "      <td>0.0</td>\n",
       "      <td>0.0</td>\n",
       "      <td>0.0</td>\n",
       "      <td>0.0</td>\n",
       "      <td>0.0</td>\n",
       "      <td>0.0</td>\n",
       "      <td>0.0</td>\n",
       "      <td>0.0</td>\n",
       "    </tr>\n",
       "    <tr>\n",
       "      <th>4</th>\n",
       "      <td>0.0</td>\n",
       "      <td>0.0</td>\n",
       "      <td>0.0</td>\n",
       "      <td>0.0</td>\n",
       "      <td>0.0</td>\n",
       "      <td>0.0</td>\n",
       "      <td>0.0</td>\n",
       "      <td>0.0</td>\n",
       "      <td>0.0</td>\n",
       "      <td>0.0</td>\n",
       "      <td>...</td>\n",
       "      <td>0.0</td>\n",
       "      <td>0.0</td>\n",
       "      <td>0.0</td>\n",
       "      <td>0.0</td>\n",
       "      <td>0.0</td>\n",
       "      <td>0.0</td>\n",
       "      <td>0.0</td>\n",
       "      <td>0.0</td>\n",
       "      <td>0.0</td>\n",
       "      <td>0.0</td>\n",
       "    </tr>\n",
       "  </tbody>\n",
       "</table>\n",
       "<p>5 rows × 10039 columns</p>\n",
       "</div>"
      ],
      "text/plain": [
       "    _o   aa  aaa  aah  aap  aario  aaron  abandoned  abberation  abc  ...  \\\n",
       "0  0.0  0.0  0.0  0.0  0.0    0.0    0.0        0.0         0.0  0.0  ...   \n",
       "1  0.0  0.0  0.0  0.0  0.0    0.0    0.0        0.0         0.0  0.0  ...   \n",
       "2  0.0  0.0  0.0  0.0  0.0    0.0    0.0        0.0         0.0  0.0  ...   \n",
       "3  0.0  0.0  0.0  0.0  0.0    0.0    0.0        0.0         0.0  0.0  ...   \n",
       "4  0.0  0.0  0.0  0.0  0.0    0.0    0.0        0.0         0.0  0.0  ...   \n",
       "\n",
       "   zlumber  zombie  zoo  zues  zumder  zur  zurlo  zus  zvonko  zyklon  \n",
       "0      0.0     0.0  0.0   0.0     0.0  0.0    0.0  0.0     0.0     0.0  \n",
       "1      0.0     0.0  0.0   0.0     0.0  0.0    0.0  0.0     0.0     0.0  \n",
       "2      0.0     0.0  0.0   0.0     0.0  0.0    0.0  0.0     0.0     0.0  \n",
       "3      0.0     0.0  0.0   0.0     0.0  0.0    0.0  0.0     0.0     0.0  \n",
       "4      0.0     0.0  0.0   0.0     0.0  0.0    0.0  0.0     0.0     0.0  \n",
       "\n",
       "[5 rows x 10039 columns]"
      ]
     },
     "execution_count": 17,
     "metadata": {},
     "output_type": "execute_result"
    }
   ],
   "source": [
    "newsgroups_docs = preprocess_texts(newsgroups, custom_pipeline=[\n",
    "    'tokenize', \n",
    "    'remove_punct', \n",
    "    'remove_stopwords', \n",
    "    'lemmatize',\n",
    "    'remove_digits',\n",
    "    'bag_of_words_to_docs'\n",
    "])\n",
    "create_tfidf_matrix(newsgroups_docs).iloc[:5, 10:]"
   ]
  },
  {
   "cell_type": "markdown",
   "metadata": {
    "papermill": {
     "duration": 0.029029,
     "end_time": "2020-10-29T03:01:33.023451",
     "exception": false,
     "start_time": "2020-10-29T03:01:32.994422",
     "status": "completed"
    },
    "tags": []
   },
   "source": [
    "## Ngrams Frequency"
   ]
  },
  {
   "cell_type": "code",
   "execution_count": 18,
   "metadata": {
    "execution": {
     "iopub.execute_input": "2020-10-29T03:01:33.083456Z",
     "iopub.status.busy": "2020-10-29T03:01:33.083456Z",
     "iopub.status.idle": "2020-10-29T03:01:37.303811Z",
     "shell.execute_reply": "2020-10-29T03:01:37.304836Z"
    },
    "papermill": {
     "duration": 4.255076,
     "end_time": "2020-10-29T03:01:37.305524",
     "exception": false,
     "start_time": "2020-10-29T03:01:33.050448",
     "status": "completed"
    },
    "tags": []
   },
   "outputs": [
    {
     "data": {
      "text/plain": [
       "FreqDist({('Lines', ''): 492, ('Subject', 'Re'): 455, ('In', 'article'): 372, ('I', \"n't\"): 227, ('', 'In'): 204, ('I', 'think'): 169, ('article', ''): 151, ('article', '..'): 128, ('', ''): 126, ('writes', 'In'): 101, ...})"
      ]
     },
     "execution_count": 18,
     "metadata": {},
     "output_type": "execute_result"
    }
   ],
   "source": [
    "newsgroups_ngrams = preprocess_texts(newsgroups, custom_pipeline=[\n",
    "    'tokenize', \n",
    "    'remove_punct',\n",
    "    'remove_digits',\n",
    "    'remove_stopwords',\n",
    "    'ngram_freq'\n",
    "])\n",
    "newsgroups_ngrams"
   ]
  }
 ],
 "metadata": {
  "kernelspec": {
   "display_name": "Python 3",
   "language": "python",
   "name": "python3"
  },
  "language_info": {
   "codemirror_mode": {
    "name": "ipython",
    "version": 3
   },
   "file_extension": ".py",
   "mimetype": "text/x-python",
   "name": "python",
   "nbconvert_exporter": "python",
   "pygments_lexer": "ipython3",
   "version": "3.7.9"
  },
  "papermill": {
   "default_parameters": {},
   "duration": 59.060682,
   "end_time": "2020-10-29T03:01:38.052812",
   "environment_variables": {},
   "exception": null,
   "input_path": "C:\\workspace\\data-describe\\examples\\Text_Preprocessing.ipynb",
   "output_path": "C:\\workspace\\data-describe\\examples\\Text_Preprocessing.ipynb",
   "parameters": {},
   "start_time": "2020-10-29T03:00:38.992130",
   "version": "2.2.0"
  }
 },
 "nbformat": 4,
 "nbformat_minor": 4
}
