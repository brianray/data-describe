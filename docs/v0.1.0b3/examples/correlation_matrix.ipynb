{
 "cells": [
  {
   "cell_type": "markdown",
   "metadata": {
    "papermill": {
     "duration": 0.011,
     "end_time": "2020-10-29T02:54:45.272570",
     "exception": false,
     "start_time": "2020-10-29T02:54:45.261570",
     "status": "completed"
    },
    "tags": []
   },
   "source": [
    "# Correlation Matrix"
   ]
  },
  {
   "cell_type": "code",
   "execution_count": 1,
   "metadata": {
    "execution": {
     "iopub.execute_input": "2020-10-29T02:54:45.304572Z",
     "iopub.status.busy": "2020-10-29T02:54:45.303575Z",
     "iopub.status.idle": "2020-10-29T02:54:47.711888Z",
     "shell.execute_reply": "2020-10-29T02:54:47.711888Z"
    },
    "papermill": {
     "duration": 2.425316,
     "end_time": "2020-10-29T02:54:47.712888",
     "exception": false,
     "start_time": "2020-10-29T02:54:45.287572",
     "status": "completed"
    },
    "tags": []
   },
   "outputs": [],
   "source": [
    "import pandas as pd\n",
    "import data_describe as dd"
   ]
  },
  {
   "cell_type": "code",
   "execution_count": 2,
   "metadata": {
    "execution": {
     "iopub.execute_input": "2020-10-29T02:54:47.743868Z",
     "iopub.status.busy": "2020-10-29T02:54:47.743868Z",
     "iopub.status.idle": "2020-10-29T02:54:47.948889Z",
     "shell.execute_reply": "2020-10-29T02:54:47.948889Z"
    },
    "papermill": {
     "duration": 0.225884,
     "end_time": "2020-10-29T02:54:47.949889",
     "exception": false,
     "start_time": "2020-10-29T02:54:47.724005",
     "status": "completed"
    },
    "tags": []
   },
   "outputs": [],
   "source": [
    "from sklearn.datasets import load_boston\n",
    "data = load_boston()\n",
    "df = pd.DataFrame(data.data, columns=list(data.feature_names))\n",
    "df['target'] = data.target\n",
    "\n",
    "#Bin values\n",
    "df['AGE'] = df['AGE'].map(lambda x: \"young\" if x < 29 else \"old\")\n",
    "df['CRIM'] = df['CRIM'].map(lambda x: \"low\" if x < df.CRIM.median() else \"high\")\n",
    "#Convert to integer\n",
    "df['ZN'] = df['ZN'].astype(int)"
   ]
  },
  {
   "cell_type": "code",
   "execution_count": 3,
   "metadata": {
    "execution": {
     "iopub.execute_input": "2020-10-29T02:54:47.986888Z",
     "iopub.status.busy": "2020-10-29T02:54:47.985860Z",
     "iopub.status.idle": "2020-10-29T02:54:47.999867Z",
     "shell.execute_reply": "2020-10-29T02:54:48.000889Z"
    },
    "papermill": {
     "duration": 0.042025,
     "end_time": "2020-10-29T02:54:48.000889",
     "exception": false,
     "start_time": "2020-10-29T02:54:47.958864",
     "status": "completed"
    },
    "tags": []
   },
   "outputs": [
    {
     "data": {
      "text/html": [
       "<div>\n",
       "<style scoped>\n",
       "    .dataframe tbody tr th:only-of-type {\n",
       "        vertical-align: middle;\n",
       "    }\n",
       "\n",
       "    .dataframe tbody tr th {\n",
       "        vertical-align: top;\n",
       "    }\n",
       "\n",
       "    .dataframe thead th {\n",
       "        text-align: right;\n",
       "    }\n",
       "</style>\n",
       "<table border=\"1\" class=\"dataframe\">\n",
       "  <thead>\n",
       "    <tr style=\"text-align: right;\">\n",
       "      <th></th>\n",
       "      <th>CRIM</th>\n",
       "      <th>ZN</th>\n",
       "      <th>INDUS</th>\n",
       "      <th>CHAS</th>\n",
       "      <th>NOX</th>\n",
       "      <th>RM</th>\n",
       "      <th>AGE</th>\n",
       "      <th>DIS</th>\n",
       "      <th>RAD</th>\n",
       "      <th>TAX</th>\n",
       "      <th>PTRATIO</th>\n",
       "      <th>B</th>\n",
       "      <th>LSTAT</th>\n",
       "      <th>target</th>\n",
       "    </tr>\n",
       "  </thead>\n",
       "  <tbody>\n",
       "    <tr>\n",
       "      <th>0</th>\n",
       "      <td>low</td>\n",
       "      <td>18</td>\n",
       "      <td>2.31</td>\n",
       "      <td>0.0</td>\n",
       "      <td>0.538</td>\n",
       "      <td>6.575</td>\n",
       "      <td>old</td>\n",
       "      <td>4.0900</td>\n",
       "      <td>1.0</td>\n",
       "      <td>296.0</td>\n",
       "      <td>15.3</td>\n",
       "      <td>396.9</td>\n",
       "      <td>4.98</td>\n",
       "      <td>24.0</td>\n",
       "    </tr>\n",
       "    <tr>\n",
       "      <th>1</th>\n",
       "      <td>low</td>\n",
       "      <td>0</td>\n",
       "      <td>7.07</td>\n",
       "      <td>0.0</td>\n",
       "      <td>0.469</td>\n",
       "      <td>6.421</td>\n",
       "      <td>old</td>\n",
       "      <td>4.9671</td>\n",
       "      <td>2.0</td>\n",
       "      <td>242.0</td>\n",
       "      <td>17.8</td>\n",
       "      <td>396.9</td>\n",
       "      <td>9.14</td>\n",
       "      <td>21.6</td>\n",
       "    </tr>\n",
       "  </tbody>\n",
       "</table>\n",
       "</div>"
      ],
      "text/plain": [
       "  CRIM  ZN  INDUS  CHAS    NOX     RM  AGE     DIS  RAD    TAX  PTRATIO  \\\n",
       "0  low  18   2.31   0.0  0.538  6.575  old  4.0900  1.0  296.0     15.3   \n",
       "1  low   0   7.07   0.0  0.469  6.421  old  4.9671  2.0  242.0     17.8   \n",
       "\n",
       "       B  LSTAT  target  \n",
       "0  396.9   4.98    24.0  \n",
       "1  396.9   9.14    21.6  "
      ]
     },
     "execution_count": 3,
     "metadata": {},
     "output_type": "execute_result"
    }
   ],
   "source": [
    "df.head(2)"
   ]
  },
  {
   "cell_type": "markdown",
   "metadata": {
    "papermill": {
     "duration": 0.009988,
     "end_time": "2020-10-29T02:54:48.021863",
     "exception": false,
     "start_time": "2020-10-29T02:54:48.011875",
     "status": "completed"
    },
    "tags": []
   },
   "source": [
    "## Default"
   ]
  },
  {
   "cell_type": "code",
   "execution_count": 4,
   "metadata": {
    "execution": {
     "iopub.execute_input": "2020-10-29T02:54:48.044889Z",
     "iopub.status.busy": "2020-10-29T02:54:48.044889Z",
     "iopub.status.idle": "2020-10-29T02:54:48.705914Z",
     "shell.execute_reply": "2020-10-29T02:54:48.705914Z"
    },
    "papermill": {
     "duration": 0.675025,
     "end_time": "2020-10-29T02:54:48.705914",
     "exception": false,
     "start_time": "2020-10-29T02:54:48.030889",
     "status": "completed"
    },
    "tags": []
   },
   "outputs": [
    {
     "data": {
      "text/plain": [
       "<AxesSubplot:title={'center':'Correlation Matrix'}>"
      ]
     },
     "metadata": {},
     "output_type": "display_data"
    },
    {
     "data": {
      "text/plain": [
       "<data_describe.core.correlation.CorrelationWidget at 0x1d7d4bbe448>"
      ]
     },
     "execution_count": 4,
     "metadata": {},
     "output_type": "execute_result"
    },
    {
     "data": {
      "image/png": "[encoded data removed]",
      "text/plain": [
       "<Figure size 720x720 with 2 Axes>"
      ]
     },
     "metadata": {
      "needs_background": "light"
     },
     "output_type": "display_data"
    }
   ],
   "source": [
    "dd.correlation_matrix(df)"
   ]
  },
  {
   "cell_type": "markdown",
   "metadata": {
    "papermill": {
     "duration": 0.016004,
     "end_time": "2020-10-29T02:54:48.734893",
     "exception": false,
     "start_time": "2020-10-29T02:54:48.718889",
     "status": "completed"
    },
    "tags": []
   },
   "source": [
    "## Enable clustering"
   ]
  },
  {
   "cell_type": "code",
   "execution_count": 5,
   "metadata": {
    "execution": {
     "iopub.execute_input": "2020-10-29T02:54:48.775911Z",
     "iopub.status.busy": "2020-10-29T02:54:48.774911Z",
     "iopub.status.idle": "2020-10-29T02:54:52.217979Z",
     "shell.execute_reply": "2020-10-29T02:54:52.216982Z"
    },
    "papermill": {
     "duration": 3.467087,
     "end_time": "2020-10-29T02:54:52.217979",
     "exception": false,
     "start_time": "2020-10-29T02:54:48.750892",
     "status": "completed"
    },
    "tags": []
   },
   "outputs": [
    {
     "name": "stderr",
     "output_type": "stream",
     "text": [
      "C:\\workspace\\data-describe\\data_describe\\compat\\_notebook.py:32: JupyterPlotlyWarning:\n",
      "\n",
      "Are you running in Jupyter Lab? The extension \"jupyterlab-plotly\" was not found and is required for Plotly visualizations in Jupyter Lab.\n",
      "\n"
     ]
    },
    {
     "data": {
      "text/html": [
       "        <script type=\"text/javascript\">\n",
       "        window.PlotlyConfig = {MathJaxConfig: 'local'};\n",
       "        if (window.MathJax) {MathJax.Hub.Config({SVG: {font: \"STIX-Web\"}});}\n",
       "        if (typeof require !== 'undefined') {\n",
       "        require.undef(\"plotly\");\n",
       "        requirejs.config({\n",
       "            paths: {\n",
       "                'plotly': ['https://cdn.plot.ly/plotly-latest.min']\n",
       "            }\n",
       "        });\n",
       "        require(['plotly'], function(Plotly) {\n",
       "            window._Plotly = Plotly;\n",
       "        });\n",
       "        }\n",
       "        </script>\n",
       "        "
      ]
     },
     "metadata": {},
     "output_type": "display_data"
    },
    {
     "data": {
      "application/vnd.plotly.v1+json": {
       "config": {
        "displayModeBar": false,
        "linkText": "Export to plot.ly",
        "plotlyServerURL": "https://plot.ly",
        "showLink": false
       },
       "data": [
        {
         "colorbar": {
          "title": {
           "text": "Strength"
          }
         },
         "colorscale": [
          [
           0.0,
           "rgb(217, 58, 70)"
          ],
          [
           0.003937007874015748,
           "rgb(217, 59, 71)"
          ],
          [
           0.007874015748031496,
           "rgb(217, 60, 72)"
          ],
          [
           0.011811023622047244,
           "rgb(217, 62, 74)"
          ],
          [
           0.015748031496062992,
           "rgb(217, 63, 75)"
          ],
          [
           0.01968503937007874,
           "rgb(217, 65, 76)"
          ],
          [
           0.023622047244094488,
           "rgb(218, 66, 78)"
          ],
          [
           0.027559055118110236,
           "rgb(218, 68, 79)"
          ],
          [
           0.031496062992125984,
           "rgb(218, 69, 80)"
          ],
          [
           0.03543307086614173,
           "rgb(218, 70, 82)"
          ],
          [
           0.03937007874015748,
           "rgb(218, 72, 83)"
          ],
          [
           0.04330708661417323,
           "rgb(219, 73, 84)"
          ],
          [
           0.047244094488188976,
           "rgb(219, 75, 86)"
          ],
          [
           0.051181102362204724,
           "rgb(219, 76, 87)"
          ],
          [
           0.05511811023622047,
           "rgb(219, 78, 88)"
          ],
          [
           0.05905511811023622,
           "rgb(219, 79, 90)"
          ],
          [
           0.06299212598425197,
           "rgb(220, 81, 91)"
          ],
          [
           0.06692913385826771,
           "rgb(220, 82, 92)"
          ],
          [
           0.07086614173228346,
           "rgb(220, 83, 94)"
          ],
          [
           0.07480314960629922,
           "rgb(220, 85, 95)"
          ],
          [
           0.07874015748031496,
           "rgb(220, 86, 96)"
          ],
          [
           0.0826771653543307,
           "rgb(221, 88, 98)"
          ],
          [
           0.08661417322834646,
           "rgb(221, 89, 99)"
          ],
          [
           0.09055118110236221,
           "rgb(221, 91, 101)"
          ],
          [
           0.09448818897637795,
           "rgb(221, 92, 102)"
          ],
          [
           0.09842519685039369,
           "rgb(221, 94, 103)"
          ],
          [
           0.10236220472440945,
           "rgb(222, 95, 105)"
          ],
          [
           0.1062992125984252,
           "rgb(222, 96, 106)"
          ],
          [
           0.11023622047244094,
           "rgb(222, 98, 107)"
          ],
          [
           0.11417322834645668,
           "rgb(222, 99, 109)"
          ],
          [
           0.11811023622047244,
           "rgb(222, 101, 110)"
          ],
          [
           0.1220472440944882,
           "rgb(223, 102, 111)"
          ],
          [
           0.12598425196850394,
           "rgb(223, 104, 113)"
          ],
          [
           0.12992125984251968,
           "rgb(223, 105, 114)"
          ],
          [
           0.13385826771653542,
           "rgb(223, 107, 115)"
          ],
          [
           0.1377952755905512,
           "rgb(223, 108, 117)"
          ],
          [
           0.14173228346456693,
           "rgb(224, 109, 118)"
          ],
          [
           0.14566929133858267,
           "rgb(224, 111, 119)"
          ],
          [
           0.14960629921259844,
           "rgb(224, 112, 121)"
          ],
          [
           0.15354330708661418,
           "rgb(224, 114, 122)"
          ],
          [
           0.15748031496062992,
           "rgb(224, 115, 123)"
          ],
          [
           0.16141732283464566,
           "rgb(225, 117, 125)"
          ],
          [
           0.1653543307086614,
           "rgb(225, 118, 126)"
          ],
          [
           0.16929133858267717,
           "rgb(225, 120, 128)"
          ],
          [
           0.1732283464566929,
           "rgb(225, 121, 129)"
          ],
          [
           0.17716535433070865,
           "rgb(225, 122, 130)"
          ],
          [
           0.18110236220472442,
           "rgb(226, 124, 132)"
          ],
          [
           0.18503937007874016,
           "rgb(226, 125, 133)"
          ],
          [
           0.1889763779527559,
           "rgb(226, 127, 134)"
          ],
          [
           0.19291338582677164,
           "rgb(226, 128, 136)"
          ],
          [
           0.19685039370078738,
           "rgb(226, 130, 137)"
          ],
          [
           0.20078740157480315,
           "rgb(227, 131, 138)"
          ],
          [
           0.2047244094488189,
           "rgb(227, 133, 140)"
          ],
          [
           0.20866141732283464,
           "rgb(227, 134, 141)"
          ],
          [
           0.2125984251968504,
           "rgb(227, 135, 142)"
          ],
          [
           0.21653543307086615,
           "rgb(227, 137, 144)"
          ],
          [
           0.2204724409448819,
           "rgb(227, 138, 145)"
          ],
          [
           0.22440944881889763,
           "rgb(228, 140, 146)"
          ],
          [
           0.22834645669291337,
           "rgb(228, 141, 148)"
          ],
          [
           0.23228346456692914,
           "rgb(228, 143, 149)"
          ],
          [
           0.23622047244094488,
           "rgb(228, 144, 150)"
          ],
          [
           0.24015748031496062,
           "rgb(228, 146, 152)"
          ],
          [
           0.2440944881889764,
           "rgb(229, 147, 153)"
          ],
          [
           0.24803149606299213,
           "rgb(229, 148, 154)"
          ],
          [
           0.25196850393700787,
           "rgb(229, 150, 156)"
          ],
          [
           0.2559055118110236,
           "rgb(229, 151, 157)"
          ],
          [
           0.25984251968503935,
           "rgb(229, 153, 159)"
          ],
          [
           0.2637795275590551,
           "rgb(230, 154, 160)"
          ],
          [
           0.26771653543307083,
           "rgb(230, 156, 161)"
          ],
          [
           0.27165354330708663,
           "rgb(230, 157, 163)"
          ],
          [
           0.2755905511811024,
           "rgb(230, 159, 164)"
          ],
          [
           0.2795275590551181,
           "rgb(230, 160, 165)"
          ],
          [
           0.28346456692913385,
           "rgb(231, 161, 167)"
          ],
          [
           0.2874015748031496,
           "rgb(231, 163, 168)"
          ],
          [
           0.29133858267716534,
           "rgb(231, 164, 169)"
          ],
          [
           0.2952755905511811,
           "rgb(231, 166, 171)"
          ],
          [
           0.2992125984251969,
           "rgb(231, 167, 172)"
          ],
          [
           0.3031496062992126,
           "rgb(232, 169, 173)"
          ],
          [
           0.30708661417322836,
           "rgb(232, 170, 175)"
          ],
          [
           0.3110236220472441,
           "rgb(232, 172, 176)"
          ],
          [
           0.31496062992125984,
           "rgb(232, 173, 177)"
          ],
          [
           0.3188976377952756,
           "rgb(232, 174, 179)"
          ],
          [
           0.3228346456692913,
           "rgb(233, 176, 180)"
          ],
          [
           0.32677165354330706,
           "rgb(233, 177, 181)"
          ],
          [
           0.3307086614173228,
           "rgb(233, 179, 183)"
          ],
          [
           0.3346456692913386,
           "rgb(233, 180, 184)"
          ],
          [
           0.33858267716535434,
           "rgb(233, 182, 186)"
          ],
          [
           0.3425196850393701,
           "rgb(234, 183, 187)"
          ],
          [
           0.3464566929133858,
           "rgb(234, 184, 188)"
          ],
          [
           0.35039370078740156,
           "rgb(234, 186, 190)"
          ],
          [
           0.3543307086614173,
           "rgb(234, 187, 191)"
          ],
          [
           0.35826771653543305,
           "rgb(234, 189, 192)"
          ],
          [
           0.36220472440944884,
           "rgb(235, 190, 194)"
          ],
          [
           0.3661417322834646,
           "rgb(235, 192, 195)"
          ],
          [
           0.3700787401574803,
           "rgb(235, 193, 196)"
          ],
          [
           0.37401574803149606,
           "rgb(235, 195, 198)"
          ],
          [
           0.3779527559055118,
           "rgb(235, 196, 199)"
          ],
          [
           0.38188976377952755,
           "rgb(236, 197, 200)"
          ],
          [
           0.3858267716535433,
           "rgb(236, 199, 202)"
          ],
          [
           0.38976377952755903,
           "rgb(236, 200, 203)"
          ],
          [
           0.39370078740157477,
           "rgb(236, 202, 204)"
          ],
          [
           0.39763779527559057,
           "rgb(236, 203, 206)"
          ],
          [
           0.4015748031496063,
           "rgb(237, 205, 207)"
          ],
          [
           0.40551181102362205,
           "rgb(237, 206, 208)"
          ],
          [
           0.4094488188976378,
           "rgb(237, 208, 210)"
          ],
          [
           0.41338582677165353,
           "rgb(237, 209, 211)"
          ],
          [
           0.41732283464566927,
           "rgb(237, 210, 212)"
          ],
          [
           0.421259842519685,
           "rgb(237, 212, 214)"
          ],
          [
           0.4251968503937008,
           "rgb(238, 213, 215)"
          ],
          [
           0.42913385826771655,
           "rgb(238, 215, 217)"
          ],
          [
           0.4330708661417323,
           "rgb(238, 216, 218)"
          ],
          [
           0.43700787401574803,
           "rgb(238, 218, 219)"
          ],
          [
           0.4409448818897638,
           "rgb(238, 219, 221)"
          ],
          [
           0.4448818897637795,
           "rgb(239, 221, 222)"
          ],
          [
           0.44881889763779526,
           "rgb(239, 222, 223)"
          ],
          [
           0.452755905511811,
           "rgb(239, 223, 225)"
          ],
          [
           0.45669291338582674,
           "rgb(239, 225, 226)"
          ],
          [
           0.46062992125984253,
           "rgb(239, 226, 227)"
          ],
          [
           0.4645669291338583,
           "rgb(240, 228, 229)"
          ],
          [
           0.468503937007874,
           "rgb(240, 229, 230)"
          ],
          [
           0.47244094488188976,
           "rgb(240, 231, 231)"
          ],
          [
           0.4763779527559055,
           "rgb(240, 232, 233)"
          ],
          [
           0.48031496062992124,
           "rgb(240, 234, 234)"
          ],
          [
           0.484251968503937,
           "rgb(241, 235, 235)"
          ],
          [
           0.4881889763779528,
           "rgb(241, 236, 237)"
          ],
          [
           0.4921259842519685,
           "rgb(241, 238, 238)"
          ],
          [
           0.49606299212598426,
           "rgb(241, 239, 239)"
          ],
          [
           0.5,
           "rgb(241, 241, 241)"
          ],
          [
           0.5039370078740157,
           "rgb(239, 240, 241)"
          ],
          [
           0.5078740157480315,
           "rgb(238, 239, 240)"
          ],
          [
           0.5118110236220472,
           "rgb(237, 238, 239)"
          ],
          [
           0.515748031496063,
           "rgb(235, 237, 239)"
          ],
          [
           0.5196850393700787,
           "rgb(234, 236, 238)"
          ],
          [
           0.5236220472440944,
           "rgb(232, 235, 238)"
          ],
          [
           0.5275590551181102,
           "rgb(231, 235, 237)"
          ],
          [
           0.5314960629921259,
           "rgb(230, 234, 236)"
          ],
          [
           0.5354330708661417,
           "rgb(228, 233, 236)"
          ],
          [
           0.5393700787401575,
           "rgb(227, 232, 235)"
          ],
          [
           0.5433070866141733,
           "rgb(226, 231, 235)"
          ],
          [
           0.547244094488189,
           "rgb(224, 230, 234)"
          ],
          [
           0.5511811023622047,
           "rgb(223, 229, 234)"
          ],
          [
           0.5551181102362205,
           "rgb(221, 228, 233)"
          ],
          [
           0.5590551181102362,
           "rgb(220, 227, 232)"
          ],
          [
           0.562992125984252,
           "rgb(219, 226, 232)"
          ],
          [
           0.5669291338582677,
           "rgb(217, 225, 231)"
          ],
          [
           0.5708661417322834,
           "rgb(216, 224, 231)"
          ],
          [
           0.5748031496062992,
           "rgb(214, 223, 230)"
          ],
          [
           0.5787401574803149,
           "rgb(213, 223, 229)"
          ],
          [
           0.5826771653543307,
           "rgb(212, 222, 229)"
          ],
          [
           0.5866141732283464,
           "rgb(210, 221, 228)"
          ],
          [
           0.5905511811023622,
           "rgb(209, 220, 228)"
          ],
          [
           0.5944881889763779,
           "rgb(207, 219, 227)"
          ],
          [
           0.5984251968503937,
           "rgb(206, 218, 227)"
          ],
          [
           0.6023622047244095,
           "rgb(205, 217, 226)"
          ],
          [
           0.6062992125984252,
           "rgb(203, 216, 225)"
          ],
          [
           0.610236220472441,
           "rgb(202, 215, 225)"
          ],
          [
           0.6141732283464567,
           "rgb(201, 214, 224)"
          ],
          [
           0.6181102362204725,
           "rgb(199, 213, 224)"
          ],
          [
           0.6220472440944882,
           "rgb(198, 212, 223)"
          ],
          [
           0.6259842519685039,
           "rgb(196, 211, 222)"
          ],
          [
           0.6299212598425197,
           "rgb(195, 210, 222)"
          ],
          [
           0.6338582677165354,
           "rgb(194, 210, 221)"
          ],
          [
           0.6377952755905512,
           "rgb(192, 209, 221)"
          ],
          [
           0.6417322834645669,
           "rgb(191, 208, 220)"
          ],
          [
           0.6456692913385826,
           "rgb(189, 207, 219)"
          ],
          [
           0.6496062992125984,
           "rgb(188, 206, 219)"
          ],
          [
           0.6535433070866141,
           "rgb(187, 205, 218)"
          ],
          [
           0.6574803149606299,
           "rgb(185, 204, 218)"
          ],
          [
           0.6614173228346456,
           "rgb(184, 203, 217)"
          ],
          [
           0.6653543307086615,
           "rgb(183, 202, 217)"
          ],
          [
           0.6692913385826772,
           "rgb(181, 201, 216)"
          ],
          [
           0.6732283464566929,
           "rgb(180, 200, 215)"
          ],
          [
           0.6771653543307087,
           "rgb(178, 199, 215)"
          ],
          [
           0.6811023622047244,
           "rgb(177, 198, 214)"
          ],
          [
           0.6850393700787402,
           "rgb(176, 198, 214)"
          ],
          [
           0.6889763779527559,
           "rgb(174, 197, 213)"
          ],
          [
           0.6929133858267716,
           "rgb(173, 196, 212)"
          ],
          [
           0.6968503937007874,
           "rgb(171, 195, 212)"
          ],
          [
           0.7007874015748031,
           "rgb(170, 194, 211)"
          ],
          [
           0.7047244094488189,
           "rgb(169, 193, 211)"
          ],
          [
           0.7086614173228346,
           "rgb(167, 192, 210)"
          ],
          [
           0.7125984251968503,
           "rgb(166, 191, 209)"
          ],
          [
           0.7165354330708661,
           "rgb(164, 190, 209)"
          ],
          [
           0.7204724409448818,
           "rgb(163, 189, 208)"
          ],
          [
           0.7244094488188977,
           "rgb(162, 188, 208)"
          ],
          [
           0.7283464566929134,
           "rgb(160, 187, 207)"
          ],
          [
           0.7322834645669292,
           "rgb(159, 186, 207)"
          ],
          [
           0.7362204724409449,
           "rgb(158, 186, 206)"
          ],
          [
           0.7401574803149606,
           "rgb(156, 185, 205)"
          ],
          [
           0.7440944881889764,
           "rgb(155, 184, 205)"
          ],
          [
           0.7480314960629921,
           "rgb(153, 183, 204)"
          ],
          [
           0.7519685039370079,
           "rgb(152, 182, 204)"
          ],
          [
           0.7559055118110236,
           "rgb(151, 181, 203)"
          ],
          [
           0.7598425196850394,
           "rgb(149, 180, 202)"
          ],
          [
           0.7637795275590551,
           "rgb(148, 179, 202)"
          ],
          [
           0.7677165354330708,
           "rgb(146, 178, 201)"
          ],
          [
           0.7716535433070866,
           "rgb(145, 177, 201)"
          ],
          [
           0.7755905511811023,
           "rgb(144, 176, 200)"
          ],
          [
           0.7795275590551181,
           "rgb(142, 175, 199)"
          ],
          [
           0.7834645669291338,
           "rgb(141, 174, 199)"
          ],
          [
           0.7874015748031495,
           "rgb(139, 173, 198)"
          ],
          [
           0.7913385826771654,
           "rgb(138, 173, 198)"
          ],
          [
           0.7952755905511811,
           "rgb(137, 172, 197)"
          ],
          [
           0.7992125984251969,
           "rgb(135, 171, 197)"
          ],
          [
           0.8031496062992126,
           "rgb(134, 170, 196)"
          ],
          [
           0.8070866141732284,
           "rgb(133, 169, 195)"
          ],
          [
           0.8110236220472441,
           "rgb(131, 168, 195)"
          ],
          [
           0.8149606299212598,
           "rgb(130, 167, 194)"
          ],
          [
           0.8188976377952756,
           "rgb(128, 166, 194)"
          ],
          [
           0.8228346456692913,
           "rgb(127, 165, 193)"
          ],
          [
           0.8267716535433071,
           "rgb(126, 164, 192)"
          ],
          [
           0.8307086614173228,
           "rgb(124, 163, 192)"
          ],
          [
           0.8346456692913385,
           "rgb(123, 162, 191)"
          ],
          [
           0.8385826771653543,
           "rgb(121, 161, 191)"
          ],
          [
           0.84251968503937,
           "rgb(120, 161, 190)"
          ],
          [
           0.8464566929133858,
           "rgb(119, 160, 189)"
          ],
          [
           0.8503937007874016,
           "rgb(117, 159, 189)"
          ],
          [
           0.8543307086614174,
           "rgb(116, 158, 188)"
          ],
          [
           0.8582677165354331,
           "rgb(114, 157, 188)"
          ],
          [
           0.8622047244094488,
           "rgb(113, 156, 187)"
          ],
          [
           0.8661417322834646,
           "rgb(112, 155, 187)"
          ],
          [
           0.8700787401574803,
           "rgb(110, 154, 186)"
          ],
          [
           0.8740157480314961,
           "rgb(109, 153, 185)"
          ],
          [
           0.8779527559055118,
           "rgb(108, 152, 185)"
          ],
          [
           0.8818897637795275,
           "rgb(106, 151, 184)"
          ],
          [
           0.8858267716535433,
           "rgb(105, 150, 184)"
          ],
          [
           0.889763779527559,
           "rgb(103, 149, 183)"
          ],
          [
           0.8937007874015748,
           "rgb(102, 148, 182)"
          ],
          [
           0.8976377952755905,
           "rgb(101, 148, 182)"
          ],
          [
           0.9015748031496063,
           "rgb(99, 147, 181)"
          ],
          [
           0.905511811023622,
           "rgb(98, 146, 181)"
          ],
          [
           0.9094488188976377,
           "rgb(96, 145, 180)"
          ],
          [
           0.9133858267716535,
           "rgb(95, 144, 179)"
          ],
          [
           0.9173228346456693,
           "rgb(94, 143, 179)"
          ],
          [
           0.9212598425196851,
           "rgb(92, 142, 178)"
          ],
          [
           0.9251968503937008,
           "rgb(91, 141, 178)"
          ],
          [
           0.9291338582677166,
           "rgb(89, 140, 177)"
          ],
          [
           0.9330708661417323,
           "rgb(88, 139, 177)"
          ],
          [
           0.937007874015748,
           "rgb(87, 138, 176)"
          ],
          [
           0.9409448818897638,
           "rgb(85, 137, 175)"
          ],
          [
           0.9448818897637795,
           "rgb(84, 136, 175)"
          ],
          [
           0.9488188976377953,
           "rgb(83, 136, 174)"
          ],
          [
           0.952755905511811,
           "rgb(81, 135, 174)"
          ],
          [
           0.9566929133858267,
           "rgb(80, 134, 173)"
          ],
          [
           0.9606299212598425,
           "rgb(78, 133, 172)"
          ],
          [
           0.9645669291338582,
           "rgb(77, 132, 172)"
          ],
          [
           0.968503937007874,
           "rgb(76, 131, 171)"
          ],
          [
           0.9724409448818897,
           "rgb(74, 130, 171)"
          ],
          [
           0.9763779527559056,
           "rgb(73, 129, 170)"
          ],
          [
           0.9803149606299213,
           "rgb(71, 128, 169)"
          ],
          [
           0.984251968503937,
           "rgb(70, 127, 169)"
          ],
          [
           0.9881889763779528,
           "rgb(69, 126, 168)"
          ],
          [
           0.9921259842519685,
           "rgb(67, 125, 168)"
          ],
          [
           0.9960629921259843,
           "rgb(66, 124, 167)"
          ],
          [
           1.0,
           "rgb(65, 124, 167)"
          ]
         ],
         "connectgaps": false,
         "type": "heatmap",
         "x": [
          "PTRATIO",
          "LSTAT",
          "RAD",
          "TAX",
          "INDUS",
          "NOX",
          "CHAS",
          "B",
          "RM",
          "target",
          "ZN",
          "DIS"
         ],
         "xgap": 2,
         "y": [
          "DIS",
          "ZN",
          "target",
          "RM",
          "B",
          "CHAS",
          "NOX",
          "INDUS",
          "TAX",
          "RAD",
          "LSTAT",
          "PTRATIO"
         ],
         "ygap": 2,
         "z": [
          [
           -0.23247054240825624,
           -0.4969958308636852,
           -0.49458792967207543,
           -0.5344315844084561,
           -0.7080269887427683,
           -0.7692301132258261,
           -0.09917578017472706,
           0.2915116731330401,
           0.20524621293005516,
           0.24992873408590394,
           0.6638446841957253,
           null
          ],
          [
           -0.39120316218140827,
           -0.41319525406862845,
           -0.31171244646699464,
           -0.3143380917377908,
           -0.5335828984741289,
           -0.5163097674725308,
           -0.04253337190728173,
           0.17534122571961053,
           0.31221813035696344,
           0.36058036004339816,
           null,
           null
          ],
          [
           -0.507786685537561,
           -0.7376627261740143,
           -0.3816262306397776,
           -0.46853593356776646,
           -0.483725160028373,
           -0.4273207723732817,
           0.1752601771902975,
           0.33346081965706653,
           0.6953599470715389,
           null,
           null,
           null
          ],
          [
           -0.3555014945590849,
           -0.6138082718663957,
           -0.20984666776610877,
           -0.29204783262321915,
           -0.39167585265684357,
           -0.3021881878495933,
           0.09125122504345595,
           0.1280686350925431,
           null,
           null,
           null,
           null
          ],
          [
           -0.17738330230523142,
           -0.3660869016915971,
           -0.44441281557512574,
           -0.44180800672281384,
           -0.3569765351041929,
           -0.3800506377924003,
           0.04878848495516622,
           null,
           null,
           null,
           null,
           null
          ],
          [
           -0.121515173658062,
           -0.05392929837569404,
           -0.007368240886077726,
           -0.03558651758591118,
           0.0629380274896654,
           0.09120280684249406,
           null,
           null,
           null,
           null,
           null,
           null
          ],
          [
           0.18893267711276665,
           0.5908789208808449,
           0.6114405634855754,
           0.6680232004030201,
           0.7636514469209145,
           null,
           null,
           null,
           null,
           null,
           null,
           null
          ],
          [
           0.38324755642888675,
           0.6037997164766213,
           0.5951292746038486,
           0.7207601799515441,
           null,
           null,
           null,
           null,
           null,
           null,
           null,
           null
          ],
          [
           0.4608530350656657,
           0.543993412001569,
           0.9102281885331822,
           null,
           null,
           null,
           null,
           null,
           null,
           null,
           null,
           null
          ],
          [
           0.46474117850305435,
           0.4886763349750664,
           null,
           null,
           null,
           null,
           null,
           null,
           null,
           null,
           null,
           null
          ],
          [
           0.3740443167146754,
           null,
           null,
           null,
           null,
           null,
           null,
           null,
           null,
           null,
           null,
           null
          ],
          [
           null,
           null,
           null,
           null,
           null,
           null,
           null,
           null,
           null,
           null,
           null,
           null
          ]
         ]
        }
       ],
       "layout": {
        "autosize": false,
        "height": 750,
        "paper_bgcolor": "rgb(0,0,0,0)",
        "plot_bgcolor": "rgb(0,0,0,0)",
        "template": {
         "data": {
          "bar": [
           {
            "error_x": {
             "color": "#2a3f5f"
            },
            "error_y": {
             "color": "#2a3f5f"
            },
            "marker": {
             "line": {
              "color": "#E5ECF6",
              "width": 0.5
             }
            },
            "type": "bar"
           }
          ],
          "barpolar": [
           {
            "marker": {
             "line": {
              "color": "#E5ECF6",
              "width": 0.5
             }
            },
            "type": "barpolar"
           }
          ],
          "carpet": [
           {
            "aaxis": {
             "endlinecolor": "#2a3f5f",
             "gridcolor": "white",
             "linecolor": "white",
             "minorgridcolor": "white",
             "startlinecolor": "#2a3f5f"
            },
            "baxis": {
             "endlinecolor": "#2a3f5f",
             "gridcolor": "white",
             "linecolor": "white",
             "minorgridcolor": "white",
             "startlinecolor": "#2a3f5f"
            },
            "type": "carpet"
           }
          ],
          "choropleth": [
           {
            "colorbar": {
             "outlinewidth": 0,
             "ticks": ""
            },
            "type": "choropleth"
           }
          ],
          "contour": [
           {
            "colorbar": {
             "outlinewidth": 0,
             "ticks": ""
            },
            "colorscale": [
             [
              0.0,
              "#0d0887"
             ],
             [
              0.1111111111111111,
              "#46039f"
             ],
             [
              0.2222222222222222,
              "#7201a8"
             ],
             [
              0.3333333333333333,
              "#9c179e"
             ],
             [
              0.4444444444444444,
              "#bd3786"
             ],
             [
              0.5555555555555556,
              "#d8576b"
             ],
             [
              0.6666666666666666,
              "#ed7953"
             ],
             [
              0.7777777777777778,
              "#fb9f3a"
             ],
             [
              0.8888888888888888,
              "#fdca26"
             ],
             [
              1.0,
              "#f0f921"
             ]
            ],
            "type": "contour"
           }
          ],
          "contourcarpet": [
           {
            "colorbar": {
             "outlinewidth": 0,
             "ticks": ""
            },
            "type": "contourcarpet"
           }
          ],
          "heatmap": [
           {
            "colorbar": {
             "outlinewidth": 0,
             "ticks": ""
            },
            "colorscale": [
             [
              0.0,
              "#0d0887"
             ],
             [
              0.1111111111111111,
              "#46039f"
             ],
             [
              0.2222222222222222,
              "#7201a8"
             ],
             [
              0.3333333333333333,
              "#9c179e"
             ],
             [
              0.4444444444444444,
              "#bd3786"
             ],
             [
              0.5555555555555556,
              "#d8576b"
             ],
             [
              0.6666666666666666,
              "#ed7953"
             ],
             [
              0.7777777777777778,
              "#fb9f3a"
             ],
             [
              0.8888888888888888,
              "#fdca26"
             ],
             [
              1.0,
              "#f0f921"
             ]
            ],
            "type": "heatmap"
           }
          ],
          "heatmapgl": [
           {
            "colorbar": {
             "outlinewidth": 0,
             "ticks": ""
            },
            "colorscale": [
             [
              0.0,
              "#0d0887"
             ],
             [
              0.1111111111111111,
              "#46039f"
             ],
             [
              0.2222222222222222,
              "#7201a8"
             ],
             [
              0.3333333333333333,
              "#9c179e"
             ],
             [
              0.4444444444444444,
              "#bd3786"
             ],
             [
              0.5555555555555556,
              "#d8576b"
             ],
             [
              0.6666666666666666,
              "#ed7953"
             ],
             [
              0.7777777777777778,
              "#fb9f3a"
             ],
             [
              0.8888888888888888,
              "#fdca26"
             ],
             [
              1.0,
              "#f0f921"
             ]
            ],
            "type": "heatmapgl"
           }
          ],
          "histogram": [
           {
            "marker": {
             "colorbar": {
              "outlinewidth": 0,
              "ticks": ""
             }
            },
            "type": "histogram"
           }
          ],
          "histogram2d": [
           {
            "colorbar": {
             "outlinewidth": 0,
             "ticks": ""
            },
            "colorscale": [
             [
              0.0,
              "#0d0887"
             ],
             [
              0.1111111111111111,
              "#46039f"
             ],
             [
              0.2222222222222222,
              "#7201a8"
             ],
             [
              0.3333333333333333,
              "#9c179e"
             ],
             [
              0.4444444444444444,
              "#bd3786"
             ],
             [
              0.5555555555555556,
              "#d8576b"
             ],
             [
              0.6666666666666666,
              "#ed7953"
             ],
             [
              0.7777777777777778,
              "#fb9f3a"
             ],
             [
              0.8888888888888888,
              "#fdca26"
             ],
             [
              1.0,
              "#f0f921"
             ]
            ],
            "type": "histogram2d"
           }
          ],
          "histogram2dcontour": [
           {
            "colorbar": {
             "outlinewidth": 0,
             "ticks": ""
            },
            "colorscale": [
             [
              0.0,
              "#0d0887"
             ],
             [
              0.1111111111111111,
              "#46039f"
             ],
             [
              0.2222222222222222,
              "#7201a8"
             ],
             [
              0.3333333333333333,
              "#9c179e"
             ],
             [
              0.4444444444444444,
              "#bd3786"
             ],
             [
              0.5555555555555556,
              "#d8576b"
             ],
             [
              0.6666666666666666,
              "#ed7953"
             ],
             [
              0.7777777777777778,
              "#fb9f3a"
             ],
             [
              0.8888888888888888,
              "#fdca26"
             ],
             [
              1.0,
              "#f0f921"
             ]
            ],
            "type": "histogram2dcontour"
           }
          ],
          "mesh3d": [
           {
            "colorbar": {
             "outlinewidth": 0,
             "ticks": ""
            },
            "type": "mesh3d"
           }
          ],
          "parcoords": [
           {
            "line": {
             "colorbar": {
              "outlinewidth": 0,
              "ticks": ""
             }
            },
            "type": "parcoords"
           }
          ],
          "pie": [
           {
            "automargin": true,
            "type": "pie"
           }
          ],
          "scatter": [
           {
            "marker": {
             "colorbar": {
              "outlinewidth": 0,
              "ticks": ""
             }
            },
            "type": "scatter"
           }
          ],
          "scatter3d": [
           {
            "line": {
             "colorbar": {
              "outlinewidth": 0,
              "ticks": ""
             }
            },
            "marker": {
             "colorbar": {
              "outlinewidth": 0,
              "ticks": ""
             }
            },
            "type": "scatter3d"
           }
          ],
          "scattercarpet": [
           {
            "marker": {
             "colorbar": {
              "outlinewidth": 0,
              "ticks": ""
             }
            },
            "type": "scattercarpet"
           }
          ],
          "scattergeo": [
           {
            "marker": {
             "colorbar": {
              "outlinewidth": 0,
              "ticks": ""
             }
            },
            "type": "scattergeo"
           }
          ],
          "scattergl": [
           {
            "marker": {
             "colorbar": {
              "outlinewidth": 0,
              "ticks": ""
             }
            },
            "type": "scattergl"
           }
          ],
          "scattermapbox": [
           {
            "marker": {
             "colorbar": {
              "outlinewidth": 0,
              "ticks": ""
             }
            },
            "type": "scattermapbox"
           }
          ],
          "scatterpolar": [
           {
            "marker": {
             "colorbar": {
              "outlinewidth": 0,
              "ticks": ""
             }
            },
            "type": "scatterpolar"
           }
          ],
          "scatterpolargl": [
           {
            "marker": {
             "colorbar": {
              "outlinewidth": 0,
              "ticks": ""
             }
            },
            "type": "scatterpolargl"
           }
          ],
          "scatterternary": [
           {
            "marker": {
             "colorbar": {
              "outlinewidth": 0,
              "ticks": ""
             }
            },
            "type": "scatterternary"
           }
          ],
          "surface": [
           {
            "colorbar": {
             "outlinewidth": 0,
             "ticks": ""
            },
            "colorscale": [
             [
              0.0,
              "#0d0887"
             ],
             [
              0.1111111111111111,
              "#46039f"
             ],
             [
              0.2222222222222222,
              "#7201a8"
             ],
             [
              0.3333333333333333,
              "#9c179e"
             ],
             [
              0.4444444444444444,
              "#bd3786"
             ],
             [
              0.5555555555555556,
              "#d8576b"
             ],
             [
              0.6666666666666666,
              "#ed7953"
             ],
             [
              0.7777777777777778,
              "#fb9f3a"
             ],
             [
              0.8888888888888888,
              "#fdca26"
             ],
             [
              1.0,
              "#f0f921"
             ]
            ],
            "type": "surface"
           }
          ],
          "table": [
           {
            "cells": {
             "fill": {
              "color": "#EBF0F8"
             },
             "line": {
              "color": "white"
             }
            },
            "header": {
             "fill": {
              "color": "#C8D4E3"
             },
             "line": {
              "color": "white"
             }
            },
            "type": "table"
           }
          ]
         },
         "layout": {
          "annotationdefaults": {
           "arrowcolor": "#2a3f5f",
           "arrowhead": 0,
           "arrowwidth": 1
          },
          "coloraxis": {
           "colorbar": {
            "outlinewidth": 0,
            "ticks": ""
           }
          },
          "colorscale": {
           "diverging": [
            [
             0,
             "#8e0152"
            ],
            [
             0.1,
             "#c51b7d"
            ],
            [
             0.2,
             "#de77ae"
            ],
            [
             0.3,
             "#f1b6da"
            ],
            [
             0.4,
             "#fde0ef"
            ],
            [
             0.5,
             "#f7f7f7"
            ],
            [
             0.6,
             "#e6f5d0"
            ],
            [
             0.7,
             "#b8e186"
            ],
            [
             0.8,
             "#7fbc41"
            ],
            [
             0.9,
             "#4d9221"
            ],
            [
             1,
             "#276419"
            ]
           ],
           "sequential": [
            [
             0.0,
             "#0d0887"
            ],
            [
             0.1111111111111111,
             "#46039f"
            ],
            [
             0.2222222222222222,
             "#7201a8"
            ],
            [
             0.3333333333333333,
             "#9c179e"
            ],
            [
             0.4444444444444444,
             "#bd3786"
            ],
            [
             0.5555555555555556,
             "#d8576b"
            ],
            [
             0.6666666666666666,
             "#ed7953"
            ],
            [
             0.7777777777777778,
             "#fb9f3a"
            ],
            [
             0.8888888888888888,
             "#fdca26"
            ],
            [
             1.0,
             "#f0f921"
            ]
           ],
           "sequentialminus": [
            [
             0.0,
             "#0d0887"
            ],
            [
             0.1111111111111111,
             "#46039f"
            ],
            [
             0.2222222222222222,
             "#7201a8"
            ],
            [
             0.3333333333333333,
             "#9c179e"
            ],
            [
             0.4444444444444444,
             "#bd3786"
            ],
            [
             0.5555555555555556,
             "#d8576b"
            ],
            [
             0.6666666666666666,
             "#ed7953"
            ],
            [
             0.7777777777777778,
             "#fb9f3a"
            ],
            [
             0.8888888888888888,
             "#fdca26"
            ],
            [
             1.0,
             "#f0f921"
            ]
           ]
          },
          "colorway": [
           "#636efa",
           "#EF553B",
           "#00cc96",
           "#ab63fa",
           "#FFA15A",
           "#19d3f3",
           "#FF6692",
           "#B6E880",
           "#FF97FF",
           "#FECB52"
          ],
          "font": {
           "color": "#2a3f5f"
          },
          "geo": {
           "bgcolor": "white",
           "lakecolor": "white",
           "landcolor": "#E5ECF6",
           "showlakes": true,
           "showland": true,
           "subunitcolor": "white"
          },
          "hoverlabel": {
           "align": "left"
          },
          "hovermode": "closest",
          "mapbox": {
           "style": "light"
          },
          "paper_bgcolor": "white",
          "plot_bgcolor": "#E5ECF6",
          "polar": {
           "angularaxis": {
            "gridcolor": "white",
            "linecolor": "white",
            "ticks": ""
           },
           "bgcolor": "#E5ECF6",
           "radialaxis": {
            "gridcolor": "white",
            "linecolor": "white",
            "ticks": ""
           }
          },
          "scene": {
           "xaxis": {
            "backgroundcolor": "#E5ECF6",
            "gridcolor": "white",
            "gridwidth": 2,
            "linecolor": "white",
            "showbackground": true,
            "ticks": "",
            "zerolinecolor": "white"
           },
           "yaxis": {
            "backgroundcolor": "#E5ECF6",
            "gridcolor": "white",
            "gridwidth": 2,
            "linecolor": "white",
            "showbackground": true,
            "ticks": "",
            "zerolinecolor": "white"
           },
           "zaxis": {
            "backgroundcolor": "#E5ECF6",
            "gridcolor": "white",
            "gridwidth": 2,
            "linecolor": "white",
            "showbackground": true,
            "ticks": "",
            "zerolinecolor": "white"
           }
          },
          "shapedefaults": {
           "line": {
            "color": "#2a3f5f"
           }
          },
          "ternary": {
           "aaxis": {
            "gridcolor": "white",
            "linecolor": "white",
            "ticks": ""
           },
           "baxis": {
            "gridcolor": "white",
            "linecolor": "white",
            "ticks": ""
           },
           "bgcolor": "#E5ECF6",
           "caxis": {
            "gridcolor": "white",
            "linecolor": "white",
            "ticks": ""
           }
          },
          "title": {
           "x": 0.05
          },
          "xaxis": {
           "automargin": true,
           "gridcolor": "white",
           "linecolor": "white",
           "ticks": "",
           "title": {
            "standoff": 15
           },
           "zerolinecolor": "white",
           "zerolinewidth": 2
          },
          "yaxis": {
           "automargin": true,
           "gridcolor": "white",
           "linecolor": "white",
           "ticks": "",
           "title": {
            "standoff": 15
           },
           "zerolinecolor": "white",
           "zerolinewidth": 2
          }
         }
        },
        "title": {
         "font": {
          "size": 25
         },
         "text": "Correlation Matrix"
        },
        "width": 750,
        "xaxis": {
         "automargin": true,
         "showgrid": false,
         "tickangle": -90,
         "ticks": ""
        },
        "yaxis": {
         "automargin": true,
         "showgrid": false,
         "ticks": ""
        }
       }
      },
      "text/html": [
       "<div>                            <div id=\"1348aedd-6c8d-4201-b80e-ac703df66481\" class=\"plotly-graph-div\" style=\"height:750px; width:750px;\"></div>            <script type=\"text/javascript\">                require([\"plotly\"], function(Plotly) {                    window.PLOTLYENV=window.PLOTLYENV || {};                                    if (document.getElementById(\"1348aedd-6c8d-4201-b80e-ac703df66481\")) {                    Plotly.newPlot(                        \"1348aedd-6c8d-4201-b80e-ac703df66481\",                        [{\"colorbar\": {\"title\": {\"text\": \"Strength\"}}, \"colorscale\": [[0.0, \"rgb(217, 58, 70)\"], [0.003937007874015748, \"rgb(217, 59, 71)\"], [0.007874015748031496, \"rgb(217, 60, 72)\"], [0.011811023622047244, \"rgb(217, 62, 74)\"], [0.015748031496062992, \"rgb(217, 63, 75)\"], [0.01968503937007874, \"rgb(217, 65, 76)\"], [0.023622047244094488, \"rgb(218, 66, 78)\"], [0.027559055118110236, \"rgb(218, 68, 79)\"], [0.031496062992125984, \"rgb(218, 69, 80)\"], [0.03543307086614173, \"rgb(218, 70, 82)\"], [0.03937007874015748, \"rgb(218, 72, 83)\"], [0.04330708661417323, \"rgb(219, 73, 84)\"], [0.047244094488188976, \"rgb(219, 75, 86)\"], [0.051181102362204724, \"rgb(219, 76, 87)\"], [0.05511811023622047, \"rgb(219, 78, 88)\"], [0.05905511811023622, \"rgb(219, 79, 90)\"], [0.06299212598425197, \"rgb(220, 81, 91)\"], [0.06692913385826771, \"rgb(220, 82, 92)\"], [0.07086614173228346, \"rgb(220, 83, 94)\"], [0.07480314960629922, \"rgb(220, 85, 95)\"], [0.07874015748031496, \"rgb(220, 86, 96)\"], [0.0826771653543307, \"rgb(221, 88, 98)\"], [0.08661417322834646, \"rgb(221, 89, 99)\"], [0.09055118110236221, \"rgb(221, 91, 101)\"], [0.09448818897637795, \"rgb(221, 92, 102)\"], [0.09842519685039369, \"rgb(221, 94, 103)\"], [0.10236220472440945, \"rgb(222, 95, 105)\"], [0.1062992125984252, \"rgb(222, 96, 106)\"], [0.11023622047244094, \"rgb(222, 98, 107)\"], [0.11417322834645668, \"rgb(222, 99, 109)\"], [0.11811023622047244, \"rgb(222, 101, 110)\"], [0.1220472440944882, \"rgb(223, 102, 111)\"], [0.12598425196850394, \"rgb(223, 104, 113)\"], [0.12992125984251968, \"rgb(223, 105, 114)\"], [0.13385826771653542, \"rgb(223, 107, 115)\"], [0.1377952755905512, \"rgb(223, 108, 117)\"], [0.14173228346456693, \"rgb(224, 109, 118)\"], [0.14566929133858267, \"rgb(224, 111, 119)\"], [0.14960629921259844, \"rgb(224, 112, 121)\"], [0.15354330708661418, \"rgb(224, 114, 122)\"], [0.15748031496062992, \"rgb(224, 115, 123)\"], [0.16141732283464566, \"rgb(225, 117, 125)\"], [0.1653543307086614, \"rgb(225, 118, 126)\"], [0.16929133858267717, \"rgb(225, 120, 128)\"], [0.1732283464566929, \"rgb(225, 121, 129)\"], [0.17716535433070865, \"rgb(225, 122, 130)\"], [0.18110236220472442, \"rgb(226, 124, 132)\"], [0.18503937007874016, \"rgb(226, 125, 133)\"], [0.1889763779527559, \"rgb(226, 127, 134)\"], [0.19291338582677164, \"rgb(226, 128, 136)\"], [0.19685039370078738, \"rgb(226, 130, 137)\"], [0.20078740157480315, \"rgb(227, 131, 138)\"], [0.2047244094488189, \"rgb(227, 133, 140)\"], [0.20866141732283464, \"rgb(227, 134, 141)\"], [0.2125984251968504, \"rgb(227, 135, 142)\"], [0.21653543307086615, \"rgb(227, 137, 144)\"], [0.2204724409448819, \"rgb(227, 138, 145)\"], [0.22440944881889763, \"rgb(228, 140, 146)\"], [0.22834645669291337, \"rgb(228, 141, 148)\"], [0.23228346456692914, \"rgb(228, 143, 149)\"], [0.23622047244094488, \"rgb(228, 144, 150)\"], [0.24015748031496062, \"rgb(228, 146, 152)\"], [0.2440944881889764, \"rgb(229, 147, 153)\"], [0.24803149606299213, \"rgb(229, 148, 154)\"], [0.25196850393700787, \"rgb(229, 150, 156)\"], [0.2559055118110236, \"rgb(229, 151, 157)\"], [0.25984251968503935, \"rgb(229, 153, 159)\"], [0.2637795275590551, \"rgb(230, 154, 160)\"], [0.26771653543307083, \"rgb(230, 156, 161)\"], [0.27165354330708663, \"rgb(230, 157, 163)\"], [0.2755905511811024, \"rgb(230, 159, 164)\"], [0.2795275590551181, \"rgb(230, 160, 165)\"], [0.28346456692913385, \"rgb(231, 161, 167)\"], [0.2874015748031496, \"rgb(231, 163, 168)\"], [0.29133858267716534, \"rgb(231, 164, 169)\"], [0.2952755905511811, \"rgb(231, 166, 171)\"], [0.2992125984251969, \"rgb(231, 167, 172)\"], [0.3031496062992126, \"rgb(232, 169, 173)\"], [0.30708661417322836, \"rgb(232, 170, 175)\"], [0.3110236220472441, \"rgb(232, 172, 176)\"], [0.31496062992125984, \"rgb(232, 173, 177)\"], [0.3188976377952756, \"rgb(232, 174, 179)\"], [0.3228346456692913, \"rgb(233, 176, 180)\"], [0.32677165354330706, \"rgb(233, 177, 181)\"], [0.3307086614173228, \"rgb(233, 179, 183)\"], [0.3346456692913386, \"rgb(233, 180, 184)\"], [0.33858267716535434, \"rgb(233, 182, 186)\"], [0.3425196850393701, \"rgb(234, 183, 187)\"], [0.3464566929133858, \"rgb(234, 184, 188)\"], [0.35039370078740156, \"rgb(234, 186, 190)\"], [0.3543307086614173, \"rgb(234, 187, 191)\"], [0.35826771653543305, \"rgb(234, 189, 192)\"], [0.36220472440944884, \"rgb(235, 190, 194)\"], [0.3661417322834646, \"rgb(235, 192, 195)\"], [0.3700787401574803, \"rgb(235, 193, 196)\"], [0.37401574803149606, \"rgb(235, 195, 198)\"], [0.3779527559055118, \"rgb(235, 196, 199)\"], [0.38188976377952755, \"rgb(236, 197, 200)\"], [0.3858267716535433, \"rgb(236, 199, 202)\"], [0.38976377952755903, \"rgb(236, 200, 203)\"], [0.39370078740157477, \"rgb(236, 202, 204)\"], [0.39763779527559057, \"rgb(236, 203, 206)\"], [0.4015748031496063, \"rgb(237, 205, 207)\"], [0.40551181102362205, \"rgb(237, 206, 208)\"], [0.4094488188976378, \"rgb(237, 208, 210)\"], [0.41338582677165353, \"rgb(237, 209, 211)\"], [0.41732283464566927, \"rgb(237, 210, 212)\"], [0.421259842519685, \"rgb(237, 212, 214)\"], [0.4251968503937008, \"rgb(238, 213, 215)\"], [0.42913385826771655, \"rgb(238, 215, 217)\"], [0.4330708661417323, \"rgb(238, 216, 218)\"], [0.43700787401574803, \"rgb(238, 218, 219)\"], [0.4409448818897638, \"rgb(238, 219, 221)\"], [0.4448818897637795, \"rgb(239, 221, 222)\"], [0.44881889763779526, \"rgb(239, 222, 223)\"], [0.452755905511811, \"rgb(239, 223, 225)\"], [0.45669291338582674, \"rgb(239, 225, 226)\"], [0.46062992125984253, \"rgb(239, 226, 227)\"], [0.4645669291338583, \"rgb(240, 228, 229)\"], [0.468503937007874, \"rgb(240, 229, 230)\"], [0.47244094488188976, \"rgb(240, 231, 231)\"], [0.4763779527559055, \"rgb(240, 232, 233)\"], [0.48031496062992124, \"rgb(240, 234, 234)\"], [0.484251968503937, \"rgb(241, 235, 235)\"], [0.4881889763779528, \"rgb(241, 236, 237)\"], [0.4921259842519685, \"rgb(241, 238, 238)\"], [0.49606299212598426, \"rgb(241, 239, 239)\"], [0.5, \"rgb(241, 241, 241)\"], [0.5039370078740157, \"rgb(239, 240, 241)\"], [0.5078740157480315, \"rgb(238, 239, 240)\"], [0.5118110236220472, \"rgb(237, 238, 239)\"], [0.515748031496063, \"rgb(235, 237, 239)\"], [0.5196850393700787, \"rgb(234, 236, 238)\"], [0.5236220472440944, \"rgb(232, 235, 238)\"], [0.5275590551181102, \"rgb(231, 235, 237)\"], [0.5314960629921259, \"rgb(230, 234, 236)\"], [0.5354330708661417, \"rgb(228, 233, 236)\"], [0.5393700787401575, \"rgb(227, 232, 235)\"], [0.5433070866141733, \"rgb(226, 231, 235)\"], [0.547244094488189, \"rgb(224, 230, 234)\"], [0.5511811023622047, \"rgb(223, 229, 234)\"], [0.5551181102362205, \"rgb(221, 228, 233)\"], [0.5590551181102362, \"rgb(220, 227, 232)\"], [0.562992125984252, \"rgb(219, 226, 232)\"], [0.5669291338582677, \"rgb(217, 225, 231)\"], [0.5708661417322834, \"rgb(216, 224, 231)\"], [0.5748031496062992, \"rgb(214, 223, 230)\"], [0.5787401574803149, \"rgb(213, 223, 229)\"], [0.5826771653543307, \"rgb(212, 222, 229)\"], [0.5866141732283464, \"rgb(210, 221, 228)\"], [0.5905511811023622, \"rgb(209, 220, 228)\"], [0.5944881889763779, \"rgb(207, 219, 227)\"], [0.5984251968503937, \"rgb(206, 218, 227)\"], [0.6023622047244095, \"rgb(205, 217, 226)\"], [0.6062992125984252, \"rgb(203, 216, 225)\"], [0.610236220472441, \"rgb(202, 215, 225)\"], [0.6141732283464567, \"rgb(201, 214, 224)\"], [0.6181102362204725, \"rgb(199, 213, 224)\"], [0.6220472440944882, \"rgb(198, 212, 223)\"], [0.6259842519685039, \"rgb(196, 211, 222)\"], [0.6299212598425197, \"rgb(195, 210, 222)\"], [0.6338582677165354, \"rgb(194, 210, 221)\"], [0.6377952755905512, \"rgb(192, 209, 221)\"], [0.6417322834645669, \"rgb(191, 208, 220)\"], [0.6456692913385826, \"rgb(189, 207, 219)\"], [0.6496062992125984, \"rgb(188, 206, 219)\"], [0.6535433070866141, \"rgb(187, 205, 218)\"], [0.6574803149606299, \"rgb(185, 204, 218)\"], [0.6614173228346456, \"rgb(184, 203, 217)\"], [0.6653543307086615, \"rgb(183, 202, 217)\"], [0.6692913385826772, \"rgb(181, 201, 216)\"], [0.6732283464566929, \"rgb(180, 200, 215)\"], [0.6771653543307087, \"rgb(178, 199, 215)\"], [0.6811023622047244, \"rgb(177, 198, 214)\"], [0.6850393700787402, \"rgb(176, 198, 214)\"], [0.6889763779527559, \"rgb(174, 197, 213)\"], [0.6929133858267716, \"rgb(173, 196, 212)\"], [0.6968503937007874, \"rgb(171, 195, 212)\"], [0.7007874015748031, \"rgb(170, 194, 211)\"], [0.7047244094488189, \"rgb(169, 193, 211)\"], [0.7086614173228346, \"rgb(167, 192, 210)\"], [0.7125984251968503, \"rgb(166, 191, 209)\"], [0.7165354330708661, \"rgb(164, 190, 209)\"], [0.7204724409448818, \"rgb(163, 189, 208)\"], [0.7244094488188977, \"rgb(162, 188, 208)\"], [0.7283464566929134, \"rgb(160, 187, 207)\"], [0.7322834645669292, \"rgb(159, 186, 207)\"], [0.7362204724409449, \"rgb(158, 186, 206)\"], [0.7401574803149606, \"rgb(156, 185, 205)\"], [0.7440944881889764, \"rgb(155, 184, 205)\"], [0.7480314960629921, \"rgb(153, 183, 204)\"], [0.7519685039370079, \"rgb(152, 182, 204)\"], [0.7559055118110236, \"rgb(151, 181, 203)\"], [0.7598425196850394, \"rgb(149, 180, 202)\"], [0.7637795275590551, \"rgb(148, 179, 202)\"], [0.7677165354330708, \"rgb(146, 178, 201)\"], [0.7716535433070866, \"rgb(145, 177, 201)\"], [0.7755905511811023, \"rgb(144, 176, 200)\"], [0.7795275590551181, \"rgb(142, 175, 199)\"], [0.7834645669291338, \"rgb(141, 174, 199)\"], [0.7874015748031495, \"rgb(139, 173, 198)\"], [0.7913385826771654, \"rgb(138, 173, 198)\"], [0.7952755905511811, \"rgb(137, 172, 197)\"], [0.7992125984251969, \"rgb(135, 171, 197)\"], [0.8031496062992126, \"rgb(134, 170, 196)\"], [0.8070866141732284, \"rgb(133, 169, 195)\"], [0.8110236220472441, \"rgb(131, 168, 195)\"], [0.8149606299212598, \"rgb(130, 167, 194)\"], [0.8188976377952756, \"rgb(128, 166, 194)\"], [0.8228346456692913, \"rgb(127, 165, 193)\"], [0.8267716535433071, \"rgb(126, 164, 192)\"], [0.8307086614173228, \"rgb(124, 163, 192)\"], [0.8346456692913385, \"rgb(123, 162, 191)\"], [0.8385826771653543, \"rgb(121, 161, 191)\"], [0.84251968503937, \"rgb(120, 161, 190)\"], [0.8464566929133858, \"rgb(119, 160, 189)\"], [0.8503937007874016, \"rgb(117, 159, 189)\"], [0.8543307086614174, \"rgb(116, 158, 188)\"], [0.8582677165354331, \"rgb(114, 157, 188)\"], [0.8622047244094488, \"rgb(113, 156, 187)\"], [0.8661417322834646, \"rgb(112, 155, 187)\"], [0.8700787401574803, \"rgb(110, 154, 186)\"], [0.8740157480314961, \"rgb(109, 153, 185)\"], [0.8779527559055118, \"rgb(108, 152, 185)\"], [0.8818897637795275, \"rgb(106, 151, 184)\"], [0.8858267716535433, \"rgb(105, 150, 184)\"], [0.889763779527559, \"rgb(103, 149, 183)\"], [0.8937007874015748, \"rgb(102, 148, 182)\"], [0.8976377952755905, \"rgb(101, 148, 182)\"], [0.9015748031496063, \"rgb(99, 147, 181)\"], [0.905511811023622, \"rgb(98, 146, 181)\"], [0.9094488188976377, \"rgb(96, 145, 180)\"], [0.9133858267716535, \"rgb(95, 144, 179)\"], [0.9173228346456693, \"rgb(94, 143, 179)\"], [0.9212598425196851, \"rgb(92, 142, 178)\"], [0.9251968503937008, \"rgb(91, 141, 178)\"], [0.9291338582677166, \"rgb(89, 140, 177)\"], [0.9330708661417323, \"rgb(88, 139, 177)\"], [0.937007874015748, \"rgb(87, 138, 176)\"], [0.9409448818897638, \"rgb(85, 137, 175)\"], [0.9448818897637795, \"rgb(84, 136, 175)\"], [0.9488188976377953, \"rgb(83, 136, 174)\"], [0.952755905511811, \"rgb(81, 135, 174)\"], [0.9566929133858267, \"rgb(80, 134, 173)\"], [0.9606299212598425, \"rgb(78, 133, 172)\"], [0.9645669291338582, \"rgb(77, 132, 172)\"], [0.968503937007874, \"rgb(76, 131, 171)\"], [0.9724409448818897, \"rgb(74, 130, 171)\"], [0.9763779527559056, \"rgb(73, 129, 170)\"], [0.9803149606299213, \"rgb(71, 128, 169)\"], [0.984251968503937, \"rgb(70, 127, 169)\"], [0.9881889763779528, \"rgb(69, 126, 168)\"], [0.9921259842519685, \"rgb(67, 125, 168)\"], [0.9960629921259843, \"rgb(66, 124, 167)\"], [1.0, \"rgb(65, 124, 167)\"]], \"connectgaps\": false, \"type\": \"heatmap\", \"x\": [\"PTRATIO\", \"LSTAT\", \"RAD\", \"TAX\", \"INDUS\", \"NOX\", \"CHAS\", \"B\", \"RM\", \"target\", \"ZN\", \"DIS\"], \"xgap\": 2, \"y\": [\"DIS\", \"ZN\", \"target\", \"RM\", \"B\", \"CHAS\", \"NOX\", \"INDUS\", \"TAX\", \"RAD\", \"LSTAT\", \"PTRATIO\"], \"ygap\": 2, \"z\": [[-0.23247054240825624, -0.4969958308636852, -0.49458792967207543, -0.5344315844084561, -0.7080269887427683, -0.7692301132258261, -0.09917578017472706, 0.2915116731330401, 0.20524621293005516, 0.24992873408590394, 0.6638446841957253, null], [-0.39120316218140827, -0.41319525406862845, -0.31171244646699464, -0.3143380917377908, -0.5335828984741289, -0.5163097674725308, -0.04253337190728173, 0.17534122571961053, 0.31221813035696344, 0.36058036004339816, null, null], [-0.507786685537561, -0.7376627261740143, -0.3816262306397776, -0.46853593356776646, -0.483725160028373, -0.4273207723732817, 0.1752601771902975, 0.33346081965706653, 0.6953599470715389, null, null, null], [-0.3555014945590849, -0.6138082718663957, -0.20984666776610877, -0.29204783262321915, -0.39167585265684357, -0.3021881878495933, 0.09125122504345595, 0.1280686350925431, null, null, null, null], [-0.17738330230523142, -0.3660869016915971, -0.44441281557512574, -0.44180800672281384, -0.3569765351041929, -0.3800506377924003, 0.04878848495516622, null, null, null, null, null], [-0.121515173658062, -0.05392929837569404, -0.007368240886077726, -0.03558651758591118, 0.0629380274896654, 0.09120280684249406, null, null, null, null, null, null], [0.18893267711276665, 0.5908789208808449, 0.6114405634855754, 0.6680232004030201, 0.7636514469209145, null, null, null, null, null, null, null], [0.38324755642888675, 0.6037997164766213, 0.5951292746038486, 0.7207601799515441, null, null, null, null, null, null, null, null], [0.4608530350656657, 0.543993412001569, 0.9102281885331822, null, null, null, null, null, null, null, null, null], [0.46474117850305435, 0.4886763349750664, null, null, null, null, null, null, null, null, null, null], [0.3740443167146754, null, null, null, null, null, null, null, null, null, null, null], [null, null, null, null, null, null, null, null, null, null, null, null]]}],                        {\"autosize\": false, \"height\": 750, \"paper_bgcolor\": \"rgb(0,0,0,0)\", \"plot_bgcolor\": \"rgb(0,0,0,0)\", \"template\": {\"data\": {\"bar\": [{\"error_x\": {\"color\": \"#2a3f5f\"}, \"error_y\": {\"color\": \"#2a3f5f\"}, \"marker\": {\"line\": {\"color\": \"#E5ECF6\", \"width\": 0.5}}, \"type\": \"bar\"}], \"barpolar\": [{\"marker\": {\"line\": {\"color\": \"#E5ECF6\", \"width\": 0.5}}, \"type\": \"barpolar\"}], \"carpet\": [{\"aaxis\": {\"endlinecolor\": \"#2a3f5f\", \"gridcolor\": \"white\", \"linecolor\": \"white\", \"minorgridcolor\": \"white\", \"startlinecolor\": \"#2a3f5f\"}, \"baxis\": {\"endlinecolor\": \"#2a3f5f\", \"gridcolor\": \"white\", \"linecolor\": \"white\", \"minorgridcolor\": \"white\", \"startlinecolor\": \"#2a3f5f\"}, \"type\": \"carpet\"}], \"choropleth\": [{\"colorbar\": {\"outlinewidth\": 0, \"ticks\": \"\"}, \"type\": \"choropleth\"}], \"contour\": [{\"colorbar\": {\"outlinewidth\": 0, \"ticks\": \"\"}, \"colorscale\": [[0.0, \"#0d0887\"], [0.1111111111111111, \"#46039f\"], [0.2222222222222222, \"#7201a8\"], [0.3333333333333333, \"#9c179e\"], [0.4444444444444444, \"#bd3786\"], [0.5555555555555556, \"#d8576b\"], [0.6666666666666666, \"#ed7953\"], [0.7777777777777778, \"#fb9f3a\"], [0.8888888888888888, \"#fdca26\"], [1.0, \"#f0f921\"]], \"type\": \"contour\"}], \"contourcarpet\": [{\"colorbar\": {\"outlinewidth\": 0, \"ticks\": \"\"}, \"type\": \"contourcarpet\"}], \"heatmap\": [{\"colorbar\": {\"outlinewidth\": 0, \"ticks\": \"\"}, \"colorscale\": [[0.0, \"#0d0887\"], [0.1111111111111111, \"#46039f\"], [0.2222222222222222, \"#7201a8\"], [0.3333333333333333, \"#9c179e\"], [0.4444444444444444, \"#bd3786\"], [0.5555555555555556, \"#d8576b\"], [0.6666666666666666, \"#ed7953\"], [0.7777777777777778, \"#fb9f3a\"], [0.8888888888888888, \"#fdca26\"], [1.0, \"#f0f921\"]], \"type\": \"heatmap\"}], \"heatmapgl\": [{\"colorbar\": {\"outlinewidth\": 0, \"ticks\": \"\"}, \"colorscale\": [[0.0, \"#0d0887\"], [0.1111111111111111, \"#46039f\"], [0.2222222222222222, \"#7201a8\"], [0.3333333333333333, \"#9c179e\"], [0.4444444444444444, \"#bd3786\"], [0.5555555555555556, \"#d8576b\"], [0.6666666666666666, \"#ed7953\"], [0.7777777777777778, \"#fb9f3a\"], [0.8888888888888888, \"#fdca26\"], [1.0, \"#f0f921\"]], \"type\": \"heatmapgl\"}], \"histogram\": [{\"marker\": {\"colorbar\": {\"outlinewidth\": 0, \"ticks\": \"\"}}, \"type\": \"histogram\"}], \"histogram2d\": [{\"colorbar\": {\"outlinewidth\": 0, \"ticks\": \"\"}, \"colorscale\": [[0.0, \"#0d0887\"], [0.1111111111111111, \"#46039f\"], [0.2222222222222222, \"#7201a8\"], [0.3333333333333333, \"#9c179e\"], [0.4444444444444444, \"#bd3786\"], [0.5555555555555556, \"#d8576b\"], [0.6666666666666666, \"#ed7953\"], [0.7777777777777778, \"#fb9f3a\"], [0.8888888888888888, \"#fdca26\"], [1.0, \"#f0f921\"]], \"type\": \"histogram2d\"}], \"histogram2dcontour\": [{\"colorbar\": {\"outlinewidth\": 0, \"ticks\": \"\"}, \"colorscale\": [[0.0, \"#0d0887\"], [0.1111111111111111, \"#46039f\"], [0.2222222222222222, \"#7201a8\"], [0.3333333333333333, \"#9c179e\"], [0.4444444444444444, \"#bd3786\"], [0.5555555555555556, \"#d8576b\"], [0.6666666666666666, \"#ed7953\"], [0.7777777777777778, \"#fb9f3a\"], [0.8888888888888888, \"#fdca26\"], [1.0, \"#f0f921\"]], \"type\": \"histogram2dcontour\"}], \"mesh3d\": [{\"colorbar\": {\"outlinewidth\": 0, \"ticks\": \"\"}, \"type\": \"mesh3d\"}], \"parcoords\": [{\"line\": {\"colorbar\": {\"outlinewidth\": 0, \"ticks\": \"\"}}, \"type\": \"parcoords\"}], \"pie\": [{\"automargin\": true, \"type\": \"pie\"}], \"scatter\": [{\"marker\": {\"colorbar\": {\"outlinewidth\": 0, \"ticks\": \"\"}}, \"type\": \"scatter\"}], \"scatter3d\": [{\"line\": {\"colorbar\": {\"outlinewidth\": 0, \"ticks\": \"\"}}, \"marker\": {\"colorbar\": {\"outlinewidth\": 0, \"ticks\": \"\"}}, \"type\": \"scatter3d\"}], \"scattercarpet\": [{\"marker\": {\"colorbar\": {\"outlinewidth\": 0, \"ticks\": \"\"}}, \"type\": \"scattercarpet\"}], \"scattergeo\": [{\"marker\": {\"colorbar\": {\"outlinewidth\": 0, \"ticks\": \"\"}}, \"type\": \"scattergeo\"}], \"scattergl\": [{\"marker\": {\"colorbar\": {\"outlinewidth\": 0, \"ticks\": \"\"}}, \"type\": \"scattergl\"}], \"scattermapbox\": [{\"marker\": {\"colorbar\": {\"outlinewidth\": 0, \"ticks\": \"\"}}, \"type\": \"scattermapbox\"}], \"scatterpolar\": [{\"marker\": {\"colorbar\": {\"outlinewidth\": 0, \"ticks\": \"\"}}, \"type\": \"scatterpolar\"}], \"scatterpolargl\": [{\"marker\": {\"colorbar\": {\"outlinewidth\": 0, \"ticks\": \"\"}}, \"type\": \"scatterpolargl\"}], \"scatterternary\": [{\"marker\": {\"colorbar\": {\"outlinewidth\": 0, \"ticks\": \"\"}}, \"type\": \"scatterternary\"}], \"surface\": [{\"colorbar\": {\"outlinewidth\": 0, \"ticks\": \"\"}, \"colorscale\": [[0.0, \"#0d0887\"], [0.1111111111111111, \"#46039f\"], [0.2222222222222222, \"#7201a8\"], [0.3333333333333333, \"#9c179e\"], [0.4444444444444444, \"#bd3786\"], [0.5555555555555556, \"#d8576b\"], [0.6666666666666666, \"#ed7953\"], [0.7777777777777778, \"#fb9f3a\"], [0.8888888888888888, \"#fdca26\"], [1.0, \"#f0f921\"]], \"type\": \"surface\"}], \"table\": [{\"cells\": {\"fill\": {\"color\": \"#EBF0F8\"}, \"line\": {\"color\": \"white\"}}, \"header\": {\"fill\": {\"color\": \"#C8D4E3\"}, \"line\": {\"color\": \"white\"}}, \"type\": \"table\"}]}, \"layout\": {\"annotationdefaults\": {\"arrowcolor\": \"#2a3f5f\", \"arrowhead\": 0, \"arrowwidth\": 1}, \"coloraxis\": {\"colorbar\": {\"outlinewidth\": 0, \"ticks\": \"\"}}, \"colorscale\": {\"diverging\": [[0, \"#8e0152\"], [0.1, \"#c51b7d\"], [0.2, \"#de77ae\"], [0.3, \"#f1b6da\"], [0.4, \"#fde0ef\"], [0.5, \"#f7f7f7\"], [0.6, \"#e6f5d0\"], [0.7, \"#b8e186\"], [0.8, \"#7fbc41\"], [0.9, \"#4d9221\"], [1, \"#276419\"]], \"sequential\": [[0.0, \"#0d0887\"], [0.1111111111111111, \"#46039f\"], [0.2222222222222222, \"#7201a8\"], [0.3333333333333333, \"#9c179e\"], [0.4444444444444444, \"#bd3786\"], [0.5555555555555556, \"#d8576b\"], [0.6666666666666666, \"#ed7953\"], [0.7777777777777778, \"#fb9f3a\"], [0.8888888888888888, \"#fdca26\"], [1.0, \"#f0f921\"]], \"sequentialminus\": [[0.0, \"#0d0887\"], [0.1111111111111111, \"#46039f\"], [0.2222222222222222, \"#7201a8\"], [0.3333333333333333, \"#9c179e\"], [0.4444444444444444, \"#bd3786\"], [0.5555555555555556, \"#d8576b\"], [0.6666666666666666, \"#ed7953\"], [0.7777777777777778, \"#fb9f3a\"], [0.8888888888888888, \"#fdca26\"], [1.0, \"#f0f921\"]]}, \"colorway\": [\"#636efa\", \"#EF553B\", \"#00cc96\", \"#ab63fa\", \"#FFA15A\", \"#19d3f3\", \"#FF6692\", \"#B6E880\", \"#FF97FF\", \"#FECB52\"], \"font\": {\"color\": \"#2a3f5f\"}, \"geo\": {\"bgcolor\": \"white\", \"lakecolor\": \"white\", \"landcolor\": \"#E5ECF6\", \"showlakes\": true, \"showland\": true, \"subunitcolor\": \"white\"}, \"hoverlabel\": {\"align\": \"left\"}, \"hovermode\": \"closest\", \"mapbox\": {\"style\": \"light\"}, \"paper_bgcolor\": \"white\", \"plot_bgcolor\": \"#E5ECF6\", \"polar\": {\"angularaxis\": {\"gridcolor\": \"white\", \"linecolor\": \"white\", \"ticks\": \"\"}, \"bgcolor\": \"#E5ECF6\", \"radialaxis\": {\"gridcolor\": \"white\", \"linecolor\": \"white\", \"ticks\": \"\"}}, \"scene\": {\"xaxis\": {\"backgroundcolor\": \"#E5ECF6\", \"gridcolor\": \"white\", \"gridwidth\": 2, \"linecolor\": \"white\", \"showbackground\": true, \"ticks\": \"\", \"zerolinecolor\": \"white\"}, \"yaxis\": {\"backgroundcolor\": \"#E5ECF6\", \"gridcolor\": \"white\", \"gridwidth\": 2, \"linecolor\": \"white\", \"showbackground\": true, \"ticks\": \"\", \"zerolinecolor\": \"white\"}, \"zaxis\": {\"backgroundcolor\": \"#E5ECF6\", \"gridcolor\": \"white\", \"gridwidth\": 2, \"linecolor\": \"white\", \"showbackground\": true, \"ticks\": \"\", \"zerolinecolor\": \"white\"}}, \"shapedefaults\": {\"line\": {\"color\": \"#2a3f5f\"}}, \"ternary\": {\"aaxis\": {\"gridcolor\": \"white\", \"linecolor\": \"white\", \"ticks\": \"\"}, \"baxis\": {\"gridcolor\": \"white\", \"linecolor\": \"white\", \"ticks\": \"\"}, \"bgcolor\": \"#E5ECF6\", \"caxis\": {\"gridcolor\": \"white\", \"linecolor\": \"white\", \"ticks\": \"\"}}, \"title\": {\"x\": 0.05}, \"xaxis\": {\"automargin\": true, \"gridcolor\": \"white\", \"linecolor\": \"white\", \"ticks\": \"\", \"title\": {\"standoff\": 15}, \"zerolinecolor\": \"white\", \"zerolinewidth\": 2}, \"yaxis\": {\"automargin\": true, \"gridcolor\": \"white\", \"linecolor\": \"white\", \"ticks\": \"\", \"title\": {\"standoff\": 15}, \"zerolinecolor\": \"white\", \"zerolinewidth\": 2}}}, \"title\": {\"font\": {\"size\": 25}, \"text\": \"Correlation Matrix\"}, \"width\": 750, \"xaxis\": {\"automargin\": true, \"showgrid\": false, \"tickangle\": -90, \"ticks\": \"\"}, \"yaxis\": {\"automargin\": true, \"showgrid\": false, \"ticks\": \"\"}},                        {\"displayModeBar\": false, \"responsive\": true}                    ).then(function(){\n",
       "                            \n",
       "var gd = document.getElementById('1348aedd-6c8d-4201-b80e-ac703df66481');\n",
       "var x = new MutationObserver(function (mutations, observer) {{\n",
       "        var display = window.getComputedStyle(gd).display;\n",
       "        if (!display || display === 'none') {{\n",
       "            console.log([gd, 'removed!']);\n",
       "            Plotly.purge(gd);\n",
       "            observer.disconnect();\n",
       "        }}\n",
       "}});\n",
       "\n",
       "// Listen for the removal of the full notebook cells\n",
       "var notebookContainer = gd.closest('#notebook-container');\n",
       "if (notebookContainer) {{\n",
       "    x.observe(notebookContainer, {childList: true});\n",
       "}}\n",
       "\n",
       "// Listen for the clearing of the current output cell\n",
       "var outputEl = gd.closest('.output');\n",
       "if (outputEl) {{\n",
       "    x.observe(outputEl, {childList: true});\n",
       "}}\n",
       "\n",
       "                        })                };                });            </script>        </div>"
      ]
     },
     "metadata": {},
     "output_type": "display_data"
    },
    {
     "data": {
      "text/plain": [
       "None"
      ]
     },
     "metadata": {},
     "output_type": "display_data"
    },
    {
     "data": {
      "text/plain": [
       "<data_describe.core.correlation.CorrelationWidget at 0x1d7d555dcc8>"
      ]
     },
     "execution_count": 5,
     "metadata": {},
     "output_type": "execute_result"
    }
   ],
   "source": [
    "dd.correlation_matrix(df, cluster=True, viz_backend=\"plotly\")"
   ]
  },
  {
   "cell_type": "markdown",
   "metadata": {
    "papermill": {
     "duration": 0.024004,
     "end_time": "2020-10-29T02:54:52.268979",
     "exception": false,
     "start_time": "2020-10-29T02:54:52.244975",
     "status": "completed"
    },
    "tags": []
   },
   "source": [
    "## Show categorical features\n",
    "**WARNING**: When using categorical features, the matrix represents strength of association (i.e. in the scale [0, 1]). This is because it is hard to define the meaning of a *negative association* involving a categorical feature."
   ]
  },
  {
   "cell_type": "code",
   "execution_count": 6,
   "metadata": {
    "execution": {
     "iopub.execute_input": "2020-10-29T02:54:52.328982Z",
     "iopub.status.busy": "2020-10-29T02:54:52.327984Z",
     "iopub.status.idle": "2020-10-29T02:54:52.809982Z",
     "shell.execute_reply": "2020-10-29T02:54:52.810979Z"
    },
    "papermill": {
     "duration": 0.51594,
     "end_time": "2020-10-29T02:54:52.810979",
     "exception": false,
     "start_time": "2020-10-29T02:54:52.295039",
     "status": "completed"
    },
    "tags": []
   },
   "outputs": [
    {
     "data": {
      "text/html": [
       "        <script type=\"text/javascript\">\n",
       "        window.PlotlyConfig = {MathJaxConfig: 'local'};\n",
       "        if (window.MathJax) {MathJax.Hub.Config({SVG: {font: \"STIX-Web\"}});}\n",
       "        if (typeof require !== 'undefined') {\n",
       "        require.undef(\"plotly\");\n",
       "        requirejs.config({\n",
       "            paths: {\n",
       "                'plotly': ['https://cdn.plot.ly/plotly-latest.min']\n",
       "            }\n",
       "        });\n",
       "        require(['plotly'], function(Plotly) {\n",
       "            window._Plotly = Plotly;\n",
       "        });\n",
       "        }\n",
       "        </script>\n",
       "        "
      ]
     },
     "metadata": {},
     "output_type": "display_data"
    },
    {
     "data": {
      "application/vnd.plotly.v1+json": {
       "config": {
        "displayModeBar": false,
        "linkText": "Export to plot.ly",
        "plotlyServerURL": "https://plot.ly",
        "showLink": false
       },
       "data": [
        {
         "colorbar": {
          "title": {
           "text": "Strength"
          }
         },
         "colorscale": [
          [
           0.0,
           "rgb(217, 58, 70)"
          ],
          [
           0.003937007874015748,
           "rgb(217, 59, 71)"
          ],
          [
           0.007874015748031496,
           "rgb(217, 60, 72)"
          ],
          [
           0.011811023622047244,
           "rgb(217, 62, 74)"
          ],
          [
           0.015748031496062992,
           "rgb(217, 63, 75)"
          ],
          [
           0.01968503937007874,
           "rgb(217, 65, 76)"
          ],
          [
           0.023622047244094488,
           "rgb(218, 66, 78)"
          ],
          [
           0.027559055118110236,
           "rgb(218, 68, 79)"
          ],
          [
           0.031496062992125984,
           "rgb(218, 69, 80)"
          ],
          [
           0.03543307086614173,
           "rgb(218, 70, 82)"
          ],
          [
           0.03937007874015748,
           "rgb(218, 72, 83)"
          ],
          [
           0.04330708661417323,
           "rgb(219, 73, 84)"
          ],
          [
           0.047244094488188976,
           "rgb(219, 75, 86)"
          ],
          [
           0.051181102362204724,
           "rgb(219, 76, 87)"
          ],
          [
           0.05511811023622047,
           "rgb(219, 78, 88)"
          ],
          [
           0.05905511811023622,
           "rgb(219, 79, 90)"
          ],
          [
           0.06299212598425197,
           "rgb(220, 81, 91)"
          ],
          [
           0.06692913385826771,
           "rgb(220, 82, 92)"
          ],
          [
           0.07086614173228346,
           "rgb(220, 83, 94)"
          ],
          [
           0.07480314960629922,
           "rgb(220, 85, 95)"
          ],
          [
           0.07874015748031496,
           "rgb(220, 86, 96)"
          ],
          [
           0.0826771653543307,
           "rgb(221, 88, 98)"
          ],
          [
           0.08661417322834646,
           "rgb(221, 89, 99)"
          ],
          [
           0.09055118110236221,
           "rgb(221, 91, 101)"
          ],
          [
           0.09448818897637795,
           "rgb(221, 92, 102)"
          ],
          [
           0.09842519685039369,
           "rgb(221, 94, 103)"
          ],
          [
           0.10236220472440945,
           "rgb(222, 95, 105)"
          ],
          [
           0.1062992125984252,
           "rgb(222, 96, 106)"
          ],
          [
           0.11023622047244094,
           "rgb(222, 98, 107)"
          ],
          [
           0.11417322834645668,
           "rgb(222, 99, 109)"
          ],
          [
           0.11811023622047244,
           "rgb(222, 101, 110)"
          ],
          [
           0.1220472440944882,
           "rgb(223, 102, 111)"
          ],
          [
           0.12598425196850394,
           "rgb(223, 104, 113)"
          ],
          [
           0.12992125984251968,
           "rgb(223, 105, 114)"
          ],
          [
           0.13385826771653542,
           "rgb(223, 107, 115)"
          ],
          [
           0.1377952755905512,
           "rgb(223, 108, 117)"
          ],
          [
           0.14173228346456693,
           "rgb(224, 109, 118)"
          ],
          [
           0.14566929133858267,
           "rgb(224, 111, 119)"
          ],
          [
           0.14960629921259844,
           "rgb(224, 112, 121)"
          ],
          [
           0.15354330708661418,
           "rgb(224, 114, 122)"
          ],
          [
           0.15748031496062992,
           "rgb(224, 115, 123)"
          ],
          [
           0.16141732283464566,
           "rgb(225, 117, 125)"
          ],
          [
           0.1653543307086614,
           "rgb(225, 118, 126)"
          ],
          [
           0.16929133858267717,
           "rgb(225, 120, 128)"
          ],
          [
           0.1732283464566929,
           "rgb(225, 121, 129)"
          ],
          [
           0.17716535433070865,
           "rgb(225, 122, 130)"
          ],
          [
           0.18110236220472442,
           "rgb(226, 124, 132)"
          ],
          [
           0.18503937007874016,
           "rgb(226, 125, 133)"
          ],
          [
           0.1889763779527559,
           "rgb(226, 127, 134)"
          ],
          [
           0.19291338582677164,
           "rgb(226, 128, 136)"
          ],
          [
           0.19685039370078738,
           "rgb(226, 130, 137)"
          ],
          [
           0.20078740157480315,
           "rgb(227, 131, 138)"
          ],
          [
           0.2047244094488189,
           "rgb(227, 133, 140)"
          ],
          [
           0.20866141732283464,
           "rgb(227, 134, 141)"
          ],
          [
           0.2125984251968504,
           "rgb(227, 135, 142)"
          ],
          [
           0.21653543307086615,
           "rgb(227, 137, 144)"
          ],
          [
           0.2204724409448819,
           "rgb(227, 138, 145)"
          ],
          [
           0.22440944881889763,
           "rgb(228, 140, 146)"
          ],
          [
           0.22834645669291337,
           "rgb(228, 141, 148)"
          ],
          [
           0.23228346456692914,
           "rgb(228, 143, 149)"
          ],
          [
           0.23622047244094488,
           "rgb(228, 144, 150)"
          ],
          [
           0.24015748031496062,
           "rgb(228, 146, 152)"
          ],
          [
           0.2440944881889764,
           "rgb(229, 147, 153)"
          ],
          [
           0.24803149606299213,
           "rgb(229, 148, 154)"
          ],
          [
           0.25196850393700787,
           "rgb(229, 150, 156)"
          ],
          [
           0.2559055118110236,
           "rgb(229, 151, 157)"
          ],
          [
           0.25984251968503935,
           "rgb(229, 153, 159)"
          ],
          [
           0.2637795275590551,
           "rgb(230, 154, 160)"
          ],
          [
           0.26771653543307083,
           "rgb(230, 156, 161)"
          ],
          [
           0.27165354330708663,
           "rgb(230, 157, 163)"
          ],
          [
           0.2755905511811024,
           "rgb(230, 159, 164)"
          ],
          [
           0.2795275590551181,
           "rgb(230, 160, 165)"
          ],
          [
           0.28346456692913385,
           "rgb(231, 161, 167)"
          ],
          [
           0.2874015748031496,
           "rgb(231, 163, 168)"
          ],
          [
           0.29133858267716534,
           "rgb(231, 164, 169)"
          ],
          [
           0.2952755905511811,
           "rgb(231, 166, 171)"
          ],
          [
           0.2992125984251969,
           "rgb(231, 167, 172)"
          ],
          [
           0.3031496062992126,
           "rgb(232, 169, 173)"
          ],
          [
           0.30708661417322836,
           "rgb(232, 170, 175)"
          ],
          [
           0.3110236220472441,
           "rgb(232, 172, 176)"
          ],
          [
           0.31496062992125984,
           "rgb(232, 173, 177)"
          ],
          [
           0.3188976377952756,
           "rgb(232, 174, 179)"
          ],
          [
           0.3228346456692913,
           "rgb(233, 176, 180)"
          ],
          [
           0.32677165354330706,
           "rgb(233, 177, 181)"
          ],
          [
           0.3307086614173228,
           "rgb(233, 179, 183)"
          ],
          [
           0.3346456692913386,
           "rgb(233, 180, 184)"
          ],
          [
           0.33858267716535434,
           "rgb(233, 182, 186)"
          ],
          [
           0.3425196850393701,
           "rgb(234, 183, 187)"
          ],
          [
           0.3464566929133858,
           "rgb(234, 184, 188)"
          ],
          [
           0.35039370078740156,
           "rgb(234, 186, 190)"
          ],
          [
           0.3543307086614173,
           "rgb(234, 187, 191)"
          ],
          [
           0.35826771653543305,
           "rgb(234, 189, 192)"
          ],
          [
           0.36220472440944884,
           "rgb(235, 190, 194)"
          ],
          [
           0.3661417322834646,
           "rgb(235, 192, 195)"
          ],
          [
           0.3700787401574803,
           "rgb(235, 193, 196)"
          ],
          [
           0.37401574803149606,
           "rgb(235, 195, 198)"
          ],
          [
           0.3779527559055118,
           "rgb(235, 196, 199)"
          ],
          [
           0.38188976377952755,
           "rgb(236, 197, 200)"
          ],
          [
           0.3858267716535433,
           "rgb(236, 199, 202)"
          ],
          [
           0.38976377952755903,
           "rgb(236, 200, 203)"
          ],
          [
           0.39370078740157477,
           "rgb(236, 202, 204)"
          ],
          [
           0.39763779527559057,
           "rgb(236, 203, 206)"
          ],
          [
           0.4015748031496063,
           "rgb(237, 205, 207)"
          ],
          [
           0.40551181102362205,
           "rgb(237, 206, 208)"
          ],
          [
           0.4094488188976378,
           "rgb(237, 208, 210)"
          ],
          [
           0.41338582677165353,
           "rgb(237, 209, 211)"
          ],
          [
           0.41732283464566927,
           "rgb(237, 210, 212)"
          ],
          [
           0.421259842519685,
           "rgb(237, 212, 214)"
          ],
          [
           0.4251968503937008,
           "rgb(238, 213, 215)"
          ],
          [
           0.42913385826771655,
           "rgb(238, 215, 217)"
          ],
          [
           0.4330708661417323,
           "rgb(238, 216, 218)"
          ],
          [
           0.43700787401574803,
           "rgb(238, 218, 219)"
          ],
          [
           0.4409448818897638,
           "rgb(238, 219, 221)"
          ],
          [
           0.4448818897637795,
           "rgb(239, 221, 222)"
          ],
          [
           0.44881889763779526,
           "rgb(239, 222, 223)"
          ],
          [
           0.452755905511811,
           "rgb(239, 223, 225)"
          ],
          [
           0.45669291338582674,
           "rgb(239, 225, 226)"
          ],
          [
           0.46062992125984253,
           "rgb(239, 226, 227)"
          ],
          [
           0.4645669291338583,
           "rgb(240, 228, 229)"
          ],
          [
           0.468503937007874,
           "rgb(240, 229, 230)"
          ],
          [
           0.47244094488188976,
           "rgb(240, 231, 231)"
          ],
          [
           0.4763779527559055,
           "rgb(240, 232, 233)"
          ],
          [
           0.48031496062992124,
           "rgb(240, 234, 234)"
          ],
          [
           0.484251968503937,
           "rgb(241, 235, 235)"
          ],
          [
           0.4881889763779528,
           "rgb(241, 236, 237)"
          ],
          [
           0.4921259842519685,
           "rgb(241, 238, 238)"
          ],
          [
           0.49606299212598426,
           "rgb(241, 239, 239)"
          ],
          [
           0.5,
           "rgb(241, 241, 241)"
          ],
          [
           0.5039370078740157,
           "rgb(239, 240, 241)"
          ],
          [
           0.5078740157480315,
           "rgb(238, 239, 240)"
          ],
          [
           0.5118110236220472,
           "rgb(237, 238, 239)"
          ],
          [
           0.515748031496063,
           "rgb(235, 237, 239)"
          ],
          [
           0.5196850393700787,
           "rgb(234, 236, 238)"
          ],
          [
           0.5236220472440944,
           "rgb(232, 235, 238)"
          ],
          [
           0.5275590551181102,
           "rgb(231, 235, 237)"
          ],
          [
           0.5314960629921259,
           "rgb(230, 234, 236)"
          ],
          [
           0.5354330708661417,
           "rgb(228, 233, 236)"
          ],
          [
           0.5393700787401575,
           "rgb(227, 232, 235)"
          ],
          [
           0.5433070866141733,
           "rgb(226, 231, 235)"
          ],
          [
           0.547244094488189,
           "rgb(224, 230, 234)"
          ],
          [
           0.5511811023622047,
           "rgb(223, 229, 234)"
          ],
          [
           0.5551181102362205,
           "rgb(221, 228, 233)"
          ],
          [
           0.5590551181102362,
           "rgb(220, 227, 232)"
          ],
          [
           0.562992125984252,
           "rgb(219, 226, 232)"
          ],
          [
           0.5669291338582677,
           "rgb(217, 225, 231)"
          ],
          [
           0.5708661417322834,
           "rgb(216, 224, 231)"
          ],
          [
           0.5748031496062992,
           "rgb(214, 223, 230)"
          ],
          [
           0.5787401574803149,
           "rgb(213, 223, 229)"
          ],
          [
           0.5826771653543307,
           "rgb(212, 222, 229)"
          ],
          [
           0.5866141732283464,
           "rgb(210, 221, 228)"
          ],
          [
           0.5905511811023622,
           "rgb(209, 220, 228)"
          ],
          [
           0.5944881889763779,
           "rgb(207, 219, 227)"
          ],
          [
           0.5984251968503937,
           "rgb(206, 218, 227)"
          ],
          [
           0.6023622047244095,
           "rgb(205, 217, 226)"
          ],
          [
           0.6062992125984252,
           "rgb(203, 216, 225)"
          ],
          [
           0.610236220472441,
           "rgb(202, 215, 225)"
          ],
          [
           0.6141732283464567,
           "rgb(201, 214, 224)"
          ],
          [
           0.6181102362204725,
           "rgb(199, 213, 224)"
          ],
          [
           0.6220472440944882,
           "rgb(198, 212, 223)"
          ],
          [
           0.6259842519685039,
           "rgb(196, 211, 222)"
          ],
          [
           0.6299212598425197,
           "rgb(195, 210, 222)"
          ],
          [
           0.6338582677165354,
           "rgb(194, 210, 221)"
          ],
          [
           0.6377952755905512,
           "rgb(192, 209, 221)"
          ],
          [
           0.6417322834645669,
           "rgb(191, 208, 220)"
          ],
          [
           0.6456692913385826,
           "rgb(189, 207, 219)"
          ],
          [
           0.6496062992125984,
           "rgb(188, 206, 219)"
          ],
          [
           0.6535433070866141,
           "rgb(187, 205, 218)"
          ],
          [
           0.6574803149606299,
           "rgb(185, 204, 218)"
          ],
          [
           0.6614173228346456,
           "rgb(184, 203, 217)"
          ],
          [
           0.6653543307086615,
           "rgb(183, 202, 217)"
          ],
          [
           0.6692913385826772,
           "rgb(181, 201, 216)"
          ],
          [
           0.6732283464566929,
           "rgb(180, 200, 215)"
          ],
          [
           0.6771653543307087,
           "rgb(178, 199, 215)"
          ],
          [
           0.6811023622047244,
           "rgb(177, 198, 214)"
          ],
          [
           0.6850393700787402,
           "rgb(176, 198, 214)"
          ],
          [
           0.6889763779527559,
           "rgb(174, 197, 213)"
          ],
          [
           0.6929133858267716,
           "rgb(173, 196, 212)"
          ],
          [
           0.6968503937007874,
           "rgb(171, 195, 212)"
          ],
          [
           0.7007874015748031,
           "rgb(170, 194, 211)"
          ],
          [
           0.7047244094488189,
           "rgb(169, 193, 211)"
          ],
          [
           0.7086614173228346,
           "rgb(167, 192, 210)"
          ],
          [
           0.7125984251968503,
           "rgb(166, 191, 209)"
          ],
          [
           0.7165354330708661,
           "rgb(164, 190, 209)"
          ],
          [
           0.7204724409448818,
           "rgb(163, 189, 208)"
          ],
          [
           0.7244094488188977,
           "rgb(162, 188, 208)"
          ],
          [
           0.7283464566929134,
           "rgb(160, 187, 207)"
          ],
          [
           0.7322834645669292,
           "rgb(159, 186, 207)"
          ],
          [
           0.7362204724409449,
           "rgb(158, 186, 206)"
          ],
          [
           0.7401574803149606,
           "rgb(156, 185, 205)"
          ],
          [
           0.7440944881889764,
           "rgb(155, 184, 205)"
          ],
          [
           0.7480314960629921,
           "rgb(153, 183, 204)"
          ],
          [
           0.7519685039370079,
           "rgb(152, 182, 204)"
          ],
          [
           0.7559055118110236,
           "rgb(151, 181, 203)"
          ],
          [
           0.7598425196850394,
           "rgb(149, 180, 202)"
          ],
          [
           0.7637795275590551,
           "rgb(148, 179, 202)"
          ],
          [
           0.7677165354330708,
           "rgb(146, 178, 201)"
          ],
          [
           0.7716535433070866,
           "rgb(145, 177, 201)"
          ],
          [
           0.7755905511811023,
           "rgb(144, 176, 200)"
          ],
          [
           0.7795275590551181,
           "rgb(142, 175, 199)"
          ],
          [
           0.7834645669291338,
           "rgb(141, 174, 199)"
          ],
          [
           0.7874015748031495,
           "rgb(139, 173, 198)"
          ],
          [
           0.7913385826771654,
           "rgb(138, 173, 198)"
          ],
          [
           0.7952755905511811,
           "rgb(137, 172, 197)"
          ],
          [
           0.7992125984251969,
           "rgb(135, 171, 197)"
          ],
          [
           0.8031496062992126,
           "rgb(134, 170, 196)"
          ],
          [
           0.8070866141732284,
           "rgb(133, 169, 195)"
          ],
          [
           0.8110236220472441,
           "rgb(131, 168, 195)"
          ],
          [
           0.8149606299212598,
           "rgb(130, 167, 194)"
          ],
          [
           0.8188976377952756,
           "rgb(128, 166, 194)"
          ],
          [
           0.8228346456692913,
           "rgb(127, 165, 193)"
          ],
          [
           0.8267716535433071,
           "rgb(126, 164, 192)"
          ],
          [
           0.8307086614173228,
           "rgb(124, 163, 192)"
          ],
          [
           0.8346456692913385,
           "rgb(123, 162, 191)"
          ],
          [
           0.8385826771653543,
           "rgb(121, 161, 191)"
          ],
          [
           0.84251968503937,
           "rgb(120, 161, 190)"
          ],
          [
           0.8464566929133858,
           "rgb(119, 160, 189)"
          ],
          [
           0.8503937007874016,
           "rgb(117, 159, 189)"
          ],
          [
           0.8543307086614174,
           "rgb(116, 158, 188)"
          ],
          [
           0.8582677165354331,
           "rgb(114, 157, 188)"
          ],
          [
           0.8622047244094488,
           "rgb(113, 156, 187)"
          ],
          [
           0.8661417322834646,
           "rgb(112, 155, 187)"
          ],
          [
           0.8700787401574803,
           "rgb(110, 154, 186)"
          ],
          [
           0.8740157480314961,
           "rgb(109, 153, 185)"
          ],
          [
           0.8779527559055118,
           "rgb(108, 152, 185)"
          ],
          [
           0.8818897637795275,
           "rgb(106, 151, 184)"
          ],
          [
           0.8858267716535433,
           "rgb(105, 150, 184)"
          ],
          [
           0.889763779527559,
           "rgb(103, 149, 183)"
          ],
          [
           0.8937007874015748,
           "rgb(102, 148, 182)"
          ],
          [
           0.8976377952755905,
           "rgb(101, 148, 182)"
          ],
          [
           0.9015748031496063,
           "rgb(99, 147, 181)"
          ],
          [
           0.905511811023622,
           "rgb(98, 146, 181)"
          ],
          [
           0.9094488188976377,
           "rgb(96, 145, 180)"
          ],
          [
           0.9133858267716535,
           "rgb(95, 144, 179)"
          ],
          [
           0.9173228346456693,
           "rgb(94, 143, 179)"
          ],
          [
           0.9212598425196851,
           "rgb(92, 142, 178)"
          ],
          [
           0.9251968503937008,
           "rgb(91, 141, 178)"
          ],
          [
           0.9291338582677166,
           "rgb(89, 140, 177)"
          ],
          [
           0.9330708661417323,
           "rgb(88, 139, 177)"
          ],
          [
           0.937007874015748,
           "rgb(87, 138, 176)"
          ],
          [
           0.9409448818897638,
           "rgb(85, 137, 175)"
          ],
          [
           0.9448818897637795,
           "rgb(84, 136, 175)"
          ],
          [
           0.9488188976377953,
           "rgb(83, 136, 174)"
          ],
          [
           0.952755905511811,
           "rgb(81, 135, 174)"
          ],
          [
           0.9566929133858267,
           "rgb(80, 134, 173)"
          ],
          [
           0.9606299212598425,
           "rgb(78, 133, 172)"
          ],
          [
           0.9645669291338582,
           "rgb(77, 132, 172)"
          ],
          [
           0.968503937007874,
           "rgb(76, 131, 171)"
          ],
          [
           0.9724409448818897,
           "rgb(74, 130, 171)"
          ],
          [
           0.9763779527559056,
           "rgb(73, 129, 170)"
          ],
          [
           0.9803149606299213,
           "rgb(71, 128, 169)"
          ],
          [
           0.984251968503937,
           "rgb(70, 127, 169)"
          ],
          [
           0.9881889763779528,
           "rgb(69, 126, 168)"
          ],
          [
           0.9921259842519685,
           "rgb(67, 125, 168)"
          ],
          [
           0.9960629921259843,
           "rgb(66, 124, 167)"
          ],
          [
           1.0,
           "rgb(65, 124, 167)"
          ]
         ],
         "connectgaps": false,
         "type": "heatmap",
         "x": [
          "CRIM",
          "ZN",
          "INDUS",
          "CHAS",
          "NOX",
          "RM",
          "AGE",
          "DIS",
          "RAD",
          "TAX",
          "PTRATIO",
          "B",
          "LSTAT",
          "target"
         ],
         "xgap": 2,
         "y": [
          "target",
          "LSTAT",
          "B",
          "PTRATIO",
          "TAX",
          "RAD",
          "DIS",
          "AGE",
          "RM",
          "NOX",
          "CHAS",
          "INDUS",
          "ZN",
          "CRIM"
         ],
         "ygap": 2,
         "z": [
          [
           0.26301673420901933,
           0.36058036004339816,
           0.483725160028373,
           0.1752601771902975,
           0.4273207723732817,
           0.6953599470715389,
           0.19948619436160797,
           0.24992873408590394,
           0.3816262306397776,
           0.46853593356776646,
           0.507786685537561,
           0.33346081965706653,
           0.7376627261740143,
           null
          ],
          [
           0.45326273244549253,
           0.41319525406862845,
           0.6037997164766213,
           0.05392929837569404,
           0.5908789208808449,
           0.6138082718663957,
           0.3135126328967585,
           0.4969958308636852,
           0.4886763349750664,
           0.543993412001569,
           0.3740443167146754,
           0.3660869016915971,
           null,
           null
          ],
          [
           0.3512109336446147,
           0.17534122571961053,
           0.3569765351041929,
           0.04878848495516622,
           0.3800506377924003,
           0.1280686350925431,
           0.12452657926463752,
           0.2915116731330401,
           0.44441281557512574,
           0.44180800672281384,
           0.17738330230523142,
           null,
           null,
           null
          ],
          [
           0.2535683632034179,
           0.39120316218140827,
           0.38324755642888675,
           0.121515173658062,
           0.18893267711276665,
           0.3555014945590849,
           0.1371727585788714,
           0.23247054240825624,
           0.46474117850305435,
           0.4608530350656657,
           null,
           null,
           null,
           null
          ],
          [
           0.6087412828611813,
           0.3143380917377908,
           0.7207601799515441,
           0.03558651758591118,
           0.6680232004030201,
           0.29204783262321915,
           0.21472821377013707,
           0.5344315844084561,
           0.9102281885331822,
           null,
           null,
           null,
           null,
           null
          ],
          [
           0.619786249019655,
           0.31171244646699464,
           0.5951292746038486,
           0.007368240886077726,
           0.6114405634855754,
           0.20984666776610877,
           0.22345165088404528,
           0.49458792967207543,
           null,
           null,
           null,
           null,
           null,
           null
          ],
          [
           0.6163416418258281,
           0.6638446841957253,
           0.7080269887427683,
           0.09917578017472706,
           0.7692301132258261,
           0.20524621293005516,
           0.43710883345830687,
           null,
           null,
           null,
           null,
           null,
           null,
           null
          ],
          [
           0.0,
           0.42607555802798625,
           0.29402808382378476,
           0.05180138423148976,
           0.37940904705482625,
           0.1279083797202358,
           null,
           null,
           null,
           null,
           null,
           null,
           null,
           null
          ],
          [
           0.1563717751228942,
           0.31221813035696344,
           0.39167585265684357,
           0.09125122504345595,
           0.3021881878495933,
           null,
           null,
           null,
           null,
           null,
           null,
           null,
           null,
           null
          ],
          [
           0.7232347950332824,
           0.5163097674725308,
           0.7636514469209145,
           0.09120280684249406,
           null,
           null,
           null,
           null,
           null,
           null,
           null,
           null,
           null,
           null
          ],
          [
           0.0700967743894098,
           0.04253337190728173,
           0.0629380274896654,
           null,
           null,
           null,
           null,
           null,
           null,
           null,
           null,
           null,
           null,
           null
          ],
          [
           0.6032601715706418,
           0.5335828984741289,
           null,
           null,
           null,
           null,
           null,
           null,
           null,
           null,
           null,
           null,
           null,
           null
          ],
          [
           0.4356940231909734,
           null,
           null,
           null,
           null,
           null,
           null,
           null,
           null,
           null,
           null,
           null,
           null,
           null
          ],
          [
           null,
           null,
           null,
           null,
           null,
           null,
           null,
           null,
           null,
           null,
           null,
           null,
           null,
           null
          ]
         ]
        }
       ],
       "layout": {
        "autosize": false,
        "height": 750,
        "paper_bgcolor": "rgb(0,0,0,0)",
        "plot_bgcolor": "rgb(0,0,0,0)",
        "template": {
         "data": {
          "bar": [
           {
            "error_x": {
             "color": "#2a3f5f"
            },
            "error_y": {
             "color": "#2a3f5f"
            },
            "marker": {
             "line": {
              "color": "#E5ECF6",
              "width": 0.5
             }
            },
            "type": "bar"
           }
          ],
          "barpolar": [
           {
            "marker": {
             "line": {
              "color": "#E5ECF6",
              "width": 0.5
             }
            },
            "type": "barpolar"
           }
          ],
          "carpet": [
           {
            "aaxis": {
             "endlinecolor": "#2a3f5f",
             "gridcolor": "white",
             "linecolor": "white",
             "minorgridcolor": "white",
             "startlinecolor": "#2a3f5f"
            },
            "baxis": {
             "endlinecolor": "#2a3f5f",
             "gridcolor": "white",
             "linecolor": "white",
             "minorgridcolor": "white",
             "startlinecolor": "#2a3f5f"
            },
            "type": "carpet"
           }
          ],
          "choropleth": [
           {
            "colorbar": {
             "outlinewidth": 0,
             "ticks": ""
            },
            "type": "choropleth"
           }
          ],
          "contour": [
           {
            "colorbar": {
             "outlinewidth": 0,
             "ticks": ""
            },
            "colorscale": [
             [
              0.0,
              "#0d0887"
             ],
             [
              0.1111111111111111,
              "#46039f"
             ],
             [
              0.2222222222222222,
              "#7201a8"
             ],
             [
              0.3333333333333333,
              "#9c179e"
             ],
             [
              0.4444444444444444,
              "#bd3786"
             ],
             [
              0.5555555555555556,
              "#d8576b"
             ],
             [
              0.6666666666666666,
              "#ed7953"
             ],
             [
              0.7777777777777778,
              "#fb9f3a"
             ],
             [
              0.8888888888888888,
              "#fdca26"
             ],
             [
              1.0,
              "#f0f921"
             ]
            ],
            "type": "contour"
           }
          ],
          "contourcarpet": [
           {
            "colorbar": {
             "outlinewidth": 0,
             "ticks": ""
            },
            "type": "contourcarpet"
           }
          ],
          "heatmap": [
           {
            "colorbar": {
             "outlinewidth": 0,
             "ticks": ""
            },
            "colorscale": [
             [
              0.0,
              "#0d0887"
             ],
             [
              0.1111111111111111,
              "#46039f"
             ],
             [
              0.2222222222222222,
              "#7201a8"
             ],
             [
              0.3333333333333333,
              "#9c179e"
             ],
             [
              0.4444444444444444,
              "#bd3786"
             ],
             [
              0.5555555555555556,
              "#d8576b"
             ],
             [
              0.6666666666666666,
              "#ed7953"
             ],
             [
              0.7777777777777778,
              "#fb9f3a"
             ],
             [
              0.8888888888888888,
              "#fdca26"
             ],
             [
              1.0,
              "#f0f921"
             ]
            ],
            "type": "heatmap"
           }
          ],
          "heatmapgl": [
           {
            "colorbar": {
             "outlinewidth": 0,
             "ticks": ""
            },
            "colorscale": [
             [
              0.0,
              "#0d0887"
             ],
             [
              0.1111111111111111,
              "#46039f"
             ],
             [
              0.2222222222222222,
              "#7201a8"
             ],
             [
              0.3333333333333333,
              "#9c179e"
             ],
             [
              0.4444444444444444,
              "#bd3786"
             ],
             [
              0.5555555555555556,
              "#d8576b"
             ],
             [
              0.6666666666666666,
              "#ed7953"
             ],
             [
              0.7777777777777778,
              "#fb9f3a"
             ],
             [
              0.8888888888888888,
              "#fdca26"
             ],
             [
              1.0,
              "#f0f921"
             ]
            ],
            "type": "heatmapgl"
           }
          ],
          "histogram": [
           {
            "marker": {
             "colorbar": {
              "outlinewidth": 0,
              "ticks": ""
             }
            },
            "type": "histogram"
           }
          ],
          "histogram2d": [
           {
            "colorbar": {
             "outlinewidth": 0,
             "ticks": ""
            },
            "colorscale": [
             [
              0.0,
              "#0d0887"
             ],
             [
              0.1111111111111111,
              "#46039f"
             ],
             [
              0.2222222222222222,
              "#7201a8"
             ],
             [
              0.3333333333333333,
              "#9c179e"
             ],
             [
              0.4444444444444444,
              "#bd3786"
             ],
             [
              0.5555555555555556,
              "#d8576b"
             ],
             [
              0.6666666666666666,
              "#ed7953"
             ],
             [
              0.7777777777777778,
              "#fb9f3a"
             ],
             [
              0.8888888888888888,
              "#fdca26"
             ],
             [
              1.0,
              "#f0f921"
             ]
            ],
            "type": "histogram2d"
           }
          ],
          "histogram2dcontour": [
           {
            "colorbar": {
             "outlinewidth": 0,
             "ticks": ""
            },
            "colorscale": [
             [
              0.0,
              "#0d0887"
             ],
             [
              0.1111111111111111,
              "#46039f"
             ],
             [
              0.2222222222222222,
              "#7201a8"
             ],
             [
              0.3333333333333333,
              "#9c179e"
             ],
             [
              0.4444444444444444,
              "#bd3786"
             ],
             [
              0.5555555555555556,
              "#d8576b"
             ],
             [
              0.6666666666666666,
              "#ed7953"
             ],
             [
              0.7777777777777778,
              "#fb9f3a"
             ],
             [
              0.8888888888888888,
              "#fdca26"
             ],
             [
              1.0,
              "#f0f921"
             ]
            ],
            "type": "histogram2dcontour"
           }
          ],
          "mesh3d": [
           {
            "colorbar": {
             "outlinewidth": 0,
             "ticks": ""
            },
            "type": "mesh3d"
           }
          ],
          "parcoords": [
           {
            "line": {
             "colorbar": {
              "outlinewidth": 0,
              "ticks": ""
             }
            },
            "type": "parcoords"
           }
          ],
          "pie": [
           {
            "automargin": true,
            "type": "pie"
           }
          ],
          "scatter": [
           {
            "marker": {
             "colorbar": {
              "outlinewidth": 0,
              "ticks": ""
             }
            },
            "type": "scatter"
           }
          ],
          "scatter3d": [
           {
            "line": {
             "colorbar": {
              "outlinewidth": 0,
              "ticks": ""
             }
            },
            "marker": {
             "colorbar": {
              "outlinewidth": 0,
              "ticks": ""
             }
            },
            "type": "scatter3d"
           }
          ],
          "scattercarpet": [
           {
            "marker": {
             "colorbar": {
              "outlinewidth": 0,
              "ticks": ""
             }
            },
            "type": "scattercarpet"
           }
          ],
          "scattergeo": [
           {
            "marker": {
             "colorbar": {
              "outlinewidth": 0,
              "ticks": ""
             }
            },
            "type": "scattergeo"
           }
          ],
          "scattergl": [
           {
            "marker": {
             "colorbar": {
              "outlinewidth": 0,
              "ticks": ""
             }
            },
            "type": "scattergl"
           }
          ],
          "scattermapbox": [
           {
            "marker": {
             "colorbar": {
              "outlinewidth": 0,
              "ticks": ""
             }
            },
            "type": "scattermapbox"
           }
          ],
          "scatterpolar": [
           {
            "marker": {
             "colorbar": {
              "outlinewidth": 0,
              "ticks": ""
             }
            },
            "type": "scatterpolar"
           }
          ],
          "scatterpolargl": [
           {
            "marker": {
             "colorbar": {
              "outlinewidth": 0,
              "ticks": ""
             }
            },
            "type": "scatterpolargl"
           }
          ],
          "scatterternary": [
           {
            "marker": {
             "colorbar": {
              "outlinewidth": 0,
              "ticks": ""
             }
            },
            "type": "scatterternary"
           }
          ],
          "surface": [
           {
            "colorbar": {
             "outlinewidth": 0,
             "ticks": ""
            },
            "colorscale": [
             [
              0.0,
              "#0d0887"
             ],
             [
              0.1111111111111111,
              "#46039f"
             ],
             [
              0.2222222222222222,
              "#7201a8"
             ],
             [
              0.3333333333333333,
              "#9c179e"
             ],
             [
              0.4444444444444444,
              "#bd3786"
             ],
             [
              0.5555555555555556,
              "#d8576b"
             ],
             [
              0.6666666666666666,
              "#ed7953"
             ],
             [
              0.7777777777777778,
              "#fb9f3a"
             ],
             [
              0.8888888888888888,
              "#fdca26"
             ],
             [
              1.0,
              "#f0f921"
             ]
            ],
            "type": "surface"
           }
          ],
          "table": [
           {
            "cells": {
             "fill": {
              "color": "#EBF0F8"
             },
             "line": {
              "color": "white"
             }
            },
            "header": {
             "fill": {
              "color": "#C8D4E3"
             },
             "line": {
              "color": "white"
             }
            },
            "type": "table"
           }
          ]
         },
         "layout": {
          "annotationdefaults": {
           "arrowcolor": "#2a3f5f",
           "arrowhead": 0,
           "arrowwidth": 1
          },
          "coloraxis": {
           "colorbar": {
            "outlinewidth": 0,
            "ticks": ""
           }
          },
          "colorscale": {
           "diverging": [
            [
             0,
             "#8e0152"
            ],
            [
             0.1,
             "#c51b7d"
            ],
            [
             0.2,
             "#de77ae"
            ],
            [
             0.3,
             "#f1b6da"
            ],
            [
             0.4,
             "#fde0ef"
            ],
            [
             0.5,
             "#f7f7f7"
            ],
            [
             0.6,
             "#e6f5d0"
            ],
            [
             0.7,
             "#b8e186"
            ],
            [
             0.8,
             "#7fbc41"
            ],
            [
             0.9,
             "#4d9221"
            ],
            [
             1,
             "#276419"
            ]
           ],
           "sequential": [
            [
             0.0,
             "#0d0887"
            ],
            [
             0.1111111111111111,
             "#46039f"
            ],
            [
             0.2222222222222222,
             "#7201a8"
            ],
            [
             0.3333333333333333,
             "#9c179e"
            ],
            [
             0.4444444444444444,
             "#bd3786"
            ],
            [
             0.5555555555555556,
             "#d8576b"
            ],
            [
             0.6666666666666666,
             "#ed7953"
            ],
            [
             0.7777777777777778,
             "#fb9f3a"
            ],
            [
             0.8888888888888888,
             "#fdca26"
            ],
            [
             1.0,
             "#f0f921"
            ]
           ],
           "sequentialminus": [
            [
             0.0,
             "#0d0887"
            ],
            [
             0.1111111111111111,
             "#46039f"
            ],
            [
             0.2222222222222222,
             "#7201a8"
            ],
            [
             0.3333333333333333,
             "#9c179e"
            ],
            [
             0.4444444444444444,
             "#bd3786"
            ],
            [
             0.5555555555555556,
             "#d8576b"
            ],
            [
             0.6666666666666666,
             "#ed7953"
            ],
            [
             0.7777777777777778,
             "#fb9f3a"
            ],
            [
             0.8888888888888888,
             "#fdca26"
            ],
            [
             1.0,
             "#f0f921"
            ]
           ]
          },
          "colorway": [
           "#636efa",
           "#EF553B",
           "#00cc96",
           "#ab63fa",
           "#FFA15A",
           "#19d3f3",
           "#FF6692",
           "#B6E880",
           "#FF97FF",
           "#FECB52"
          ],
          "font": {
           "color": "#2a3f5f"
          },
          "geo": {
           "bgcolor": "white",
           "lakecolor": "white",
           "landcolor": "#E5ECF6",
           "showlakes": true,
           "showland": true,
           "subunitcolor": "white"
          },
          "hoverlabel": {
           "align": "left"
          },
          "hovermode": "closest",
          "mapbox": {
           "style": "light"
          },
          "paper_bgcolor": "white",
          "plot_bgcolor": "#E5ECF6",
          "polar": {
           "angularaxis": {
            "gridcolor": "white",
            "linecolor": "white",
            "ticks": ""
           },
           "bgcolor": "#E5ECF6",
           "radialaxis": {
            "gridcolor": "white",
            "linecolor": "white",
            "ticks": ""
           }
          },
          "scene": {
           "xaxis": {
            "backgroundcolor": "#E5ECF6",
            "gridcolor": "white",
            "gridwidth": 2,
            "linecolor": "white",
            "showbackground": true,
            "ticks": "",
            "zerolinecolor": "white"
           },
           "yaxis": {
            "backgroundcolor": "#E5ECF6",
            "gridcolor": "white",
            "gridwidth": 2,
            "linecolor": "white",
            "showbackground": true,
            "ticks": "",
            "zerolinecolor": "white"
           },
           "zaxis": {
            "backgroundcolor": "#E5ECF6",
            "gridcolor": "white",
            "gridwidth": 2,
            "linecolor": "white",
            "showbackground": true,
            "ticks": "",
            "zerolinecolor": "white"
           }
          },
          "shapedefaults": {
           "line": {
            "color": "#2a3f5f"
           }
          },
          "ternary": {
           "aaxis": {
            "gridcolor": "white",
            "linecolor": "white",
            "ticks": ""
           },
           "baxis": {
            "gridcolor": "white",
            "linecolor": "white",
            "ticks": ""
           },
           "bgcolor": "#E5ECF6",
           "caxis": {
            "gridcolor": "white",
            "linecolor": "white",
            "ticks": ""
           }
          },
          "title": {
           "x": 0.05
          },
          "xaxis": {
           "automargin": true,
           "gridcolor": "white",
           "linecolor": "white",
           "ticks": "",
           "title": {
            "standoff": 15
           },
           "zerolinecolor": "white",
           "zerolinewidth": 2
          },
          "yaxis": {
           "automargin": true,
           "gridcolor": "white",
           "linecolor": "white",
           "ticks": "",
           "title": {
            "standoff": 15
           },
           "zerolinecolor": "white",
           "zerolinewidth": 2
          }
         }
        },
        "title": {
         "font": {
          "size": 25
         },
         "text": "Correlation Matrix"
        },
        "width": 750,
        "xaxis": {
         "automargin": true,
         "showgrid": false,
         "tickangle": -90,
         "ticks": ""
        },
        "yaxis": {
         "automargin": true,
         "showgrid": false,
         "ticks": ""
        }
       }
      },
      "text/html": [
       "<div>                            <div id=\"4932e0d5-e9d6-43dd-9c3a-62c389b7669c\" class=\"plotly-graph-div\" style=\"height:750px; width:750px;\"></div>            <script type=\"text/javascript\">                require([\"plotly\"], function(Plotly) {                    window.PLOTLYENV=window.PLOTLYENV || {};                                    if (document.getElementById(\"4932e0d5-e9d6-43dd-9c3a-62c389b7669c\")) {                    Plotly.newPlot(                        \"4932e0d5-e9d6-43dd-9c3a-62c389b7669c\",                        [{\"colorbar\": {\"title\": {\"text\": \"Strength\"}}, \"colorscale\": [[0.0, \"rgb(217, 58, 70)\"], [0.003937007874015748, \"rgb(217, 59, 71)\"], [0.007874015748031496, \"rgb(217, 60, 72)\"], [0.011811023622047244, \"rgb(217, 62, 74)\"], [0.015748031496062992, \"rgb(217, 63, 75)\"], [0.01968503937007874, \"rgb(217, 65, 76)\"], [0.023622047244094488, \"rgb(218, 66, 78)\"], [0.027559055118110236, \"rgb(218, 68, 79)\"], [0.031496062992125984, \"rgb(218, 69, 80)\"], [0.03543307086614173, \"rgb(218, 70, 82)\"], [0.03937007874015748, \"rgb(218, 72, 83)\"], [0.04330708661417323, \"rgb(219, 73, 84)\"], [0.047244094488188976, \"rgb(219, 75, 86)\"], [0.051181102362204724, \"rgb(219, 76, 87)\"], [0.05511811023622047, \"rgb(219, 78, 88)\"], [0.05905511811023622, \"rgb(219, 79, 90)\"], [0.06299212598425197, \"rgb(220, 81, 91)\"], [0.06692913385826771, \"rgb(220, 82, 92)\"], [0.07086614173228346, \"rgb(220, 83, 94)\"], [0.07480314960629922, \"rgb(220, 85, 95)\"], [0.07874015748031496, \"rgb(220, 86, 96)\"], [0.0826771653543307, \"rgb(221, 88, 98)\"], [0.08661417322834646, \"rgb(221, 89, 99)\"], [0.09055118110236221, \"rgb(221, 91, 101)\"], [0.09448818897637795, \"rgb(221, 92, 102)\"], [0.09842519685039369, \"rgb(221, 94, 103)\"], [0.10236220472440945, \"rgb(222, 95, 105)\"], [0.1062992125984252, \"rgb(222, 96, 106)\"], [0.11023622047244094, \"rgb(222, 98, 107)\"], [0.11417322834645668, \"rgb(222, 99, 109)\"], [0.11811023622047244, \"rgb(222, 101, 110)\"], [0.1220472440944882, \"rgb(223, 102, 111)\"], [0.12598425196850394, \"rgb(223, 104, 113)\"], [0.12992125984251968, \"rgb(223, 105, 114)\"], [0.13385826771653542, \"rgb(223, 107, 115)\"], [0.1377952755905512, \"rgb(223, 108, 117)\"], [0.14173228346456693, \"rgb(224, 109, 118)\"], [0.14566929133858267, \"rgb(224, 111, 119)\"], [0.14960629921259844, \"rgb(224, 112, 121)\"], [0.15354330708661418, \"rgb(224, 114, 122)\"], [0.15748031496062992, \"rgb(224, 115, 123)\"], [0.16141732283464566, \"rgb(225, 117, 125)\"], [0.1653543307086614, \"rgb(225, 118, 126)\"], [0.16929133858267717, \"rgb(225, 120, 128)\"], [0.1732283464566929, \"rgb(225, 121, 129)\"], [0.17716535433070865, \"rgb(225, 122, 130)\"], [0.18110236220472442, \"rgb(226, 124, 132)\"], [0.18503937007874016, \"rgb(226, 125, 133)\"], [0.1889763779527559, \"rgb(226, 127, 134)\"], [0.19291338582677164, \"rgb(226, 128, 136)\"], [0.19685039370078738, \"rgb(226, 130, 137)\"], [0.20078740157480315, \"rgb(227, 131, 138)\"], [0.2047244094488189, \"rgb(227, 133, 140)\"], [0.20866141732283464, \"rgb(227, 134, 141)\"], [0.2125984251968504, \"rgb(227, 135, 142)\"], [0.21653543307086615, \"rgb(227, 137, 144)\"], [0.2204724409448819, \"rgb(227, 138, 145)\"], [0.22440944881889763, \"rgb(228, 140, 146)\"], [0.22834645669291337, \"rgb(228, 141, 148)\"], [0.23228346456692914, \"rgb(228, 143, 149)\"], [0.23622047244094488, \"rgb(228, 144, 150)\"], [0.24015748031496062, \"rgb(228, 146, 152)\"], [0.2440944881889764, \"rgb(229, 147, 153)\"], [0.24803149606299213, \"rgb(229, 148, 154)\"], [0.25196850393700787, \"rgb(229, 150, 156)\"], [0.2559055118110236, \"rgb(229, 151, 157)\"], [0.25984251968503935, \"rgb(229, 153, 159)\"], [0.2637795275590551, \"rgb(230, 154, 160)\"], [0.26771653543307083, \"rgb(230, 156, 161)\"], [0.27165354330708663, \"rgb(230, 157, 163)\"], [0.2755905511811024, \"rgb(230, 159, 164)\"], [0.2795275590551181, \"rgb(230, 160, 165)\"], [0.28346456692913385, \"rgb(231, 161, 167)\"], [0.2874015748031496, \"rgb(231, 163, 168)\"], [0.29133858267716534, \"rgb(231, 164, 169)\"], [0.2952755905511811, \"rgb(231, 166, 171)\"], [0.2992125984251969, \"rgb(231, 167, 172)\"], [0.3031496062992126, \"rgb(232, 169, 173)\"], [0.30708661417322836, \"rgb(232, 170, 175)\"], [0.3110236220472441, \"rgb(232, 172, 176)\"], [0.31496062992125984, \"rgb(232, 173, 177)\"], [0.3188976377952756, \"rgb(232, 174, 179)\"], [0.3228346456692913, \"rgb(233, 176, 180)\"], [0.32677165354330706, \"rgb(233, 177, 181)\"], [0.3307086614173228, \"rgb(233, 179, 183)\"], [0.3346456692913386, \"rgb(233, 180, 184)\"], [0.33858267716535434, \"rgb(233, 182, 186)\"], [0.3425196850393701, \"rgb(234, 183, 187)\"], [0.3464566929133858, \"rgb(234, 184, 188)\"], [0.35039370078740156, \"rgb(234, 186, 190)\"], [0.3543307086614173, \"rgb(234, 187, 191)\"], [0.35826771653543305, \"rgb(234, 189, 192)\"], [0.36220472440944884, \"rgb(235, 190, 194)\"], [0.3661417322834646, \"rgb(235, 192, 195)\"], [0.3700787401574803, \"rgb(235, 193, 196)\"], [0.37401574803149606, \"rgb(235, 195, 198)\"], [0.3779527559055118, \"rgb(235, 196, 199)\"], [0.38188976377952755, \"rgb(236, 197, 200)\"], [0.3858267716535433, \"rgb(236, 199, 202)\"], [0.38976377952755903, \"rgb(236, 200, 203)\"], [0.39370078740157477, \"rgb(236, 202, 204)\"], [0.39763779527559057, \"rgb(236, 203, 206)\"], [0.4015748031496063, \"rgb(237, 205, 207)\"], [0.40551181102362205, \"rgb(237, 206, 208)\"], [0.4094488188976378, \"rgb(237, 208, 210)\"], [0.41338582677165353, \"rgb(237, 209, 211)\"], [0.41732283464566927, \"rgb(237, 210, 212)\"], [0.421259842519685, \"rgb(237, 212, 214)\"], [0.4251968503937008, \"rgb(238, 213, 215)\"], [0.42913385826771655, \"rgb(238, 215, 217)\"], [0.4330708661417323, \"rgb(238, 216, 218)\"], [0.43700787401574803, \"rgb(238, 218, 219)\"], [0.4409448818897638, \"rgb(238, 219, 221)\"], [0.4448818897637795, \"rgb(239, 221, 222)\"], [0.44881889763779526, \"rgb(239, 222, 223)\"], [0.452755905511811, \"rgb(239, 223, 225)\"], [0.45669291338582674, \"rgb(239, 225, 226)\"], [0.46062992125984253, \"rgb(239, 226, 227)\"], [0.4645669291338583, \"rgb(240, 228, 229)\"], [0.468503937007874, \"rgb(240, 229, 230)\"], [0.47244094488188976, \"rgb(240, 231, 231)\"], [0.4763779527559055, \"rgb(240, 232, 233)\"], [0.48031496062992124, \"rgb(240, 234, 234)\"], [0.484251968503937, \"rgb(241, 235, 235)\"], [0.4881889763779528, \"rgb(241, 236, 237)\"], [0.4921259842519685, \"rgb(241, 238, 238)\"], [0.49606299212598426, \"rgb(241, 239, 239)\"], [0.5, \"rgb(241, 241, 241)\"], [0.5039370078740157, \"rgb(239, 240, 241)\"], [0.5078740157480315, \"rgb(238, 239, 240)\"], [0.5118110236220472, \"rgb(237, 238, 239)\"], [0.515748031496063, \"rgb(235, 237, 239)\"], [0.5196850393700787, \"rgb(234, 236, 238)\"], [0.5236220472440944, \"rgb(232, 235, 238)\"], [0.5275590551181102, \"rgb(231, 235, 237)\"], [0.5314960629921259, \"rgb(230, 234, 236)\"], [0.5354330708661417, \"rgb(228, 233, 236)\"], [0.5393700787401575, \"rgb(227, 232, 235)\"], [0.5433070866141733, \"rgb(226, 231, 235)\"], [0.547244094488189, \"rgb(224, 230, 234)\"], [0.5511811023622047, \"rgb(223, 229, 234)\"], [0.5551181102362205, \"rgb(221, 228, 233)\"], [0.5590551181102362, \"rgb(220, 227, 232)\"], [0.562992125984252, \"rgb(219, 226, 232)\"], [0.5669291338582677, \"rgb(217, 225, 231)\"], [0.5708661417322834, \"rgb(216, 224, 231)\"], [0.5748031496062992, \"rgb(214, 223, 230)\"], [0.5787401574803149, \"rgb(213, 223, 229)\"], [0.5826771653543307, \"rgb(212, 222, 229)\"], [0.5866141732283464, \"rgb(210, 221, 228)\"], [0.5905511811023622, \"rgb(209, 220, 228)\"], [0.5944881889763779, \"rgb(207, 219, 227)\"], [0.5984251968503937, \"rgb(206, 218, 227)\"], [0.6023622047244095, \"rgb(205, 217, 226)\"], [0.6062992125984252, \"rgb(203, 216, 225)\"], [0.610236220472441, \"rgb(202, 215, 225)\"], [0.6141732283464567, \"rgb(201, 214, 224)\"], [0.6181102362204725, \"rgb(199, 213, 224)\"], [0.6220472440944882, \"rgb(198, 212, 223)\"], [0.6259842519685039, \"rgb(196, 211, 222)\"], [0.6299212598425197, \"rgb(195, 210, 222)\"], [0.6338582677165354, \"rgb(194, 210, 221)\"], [0.6377952755905512, \"rgb(192, 209, 221)\"], [0.6417322834645669, \"rgb(191, 208, 220)\"], [0.6456692913385826, \"rgb(189, 207, 219)\"], [0.6496062992125984, \"rgb(188, 206, 219)\"], [0.6535433070866141, \"rgb(187, 205, 218)\"], [0.6574803149606299, \"rgb(185, 204, 218)\"], [0.6614173228346456, \"rgb(184, 203, 217)\"], [0.6653543307086615, \"rgb(183, 202, 217)\"], [0.6692913385826772, \"rgb(181, 201, 216)\"], [0.6732283464566929, \"rgb(180, 200, 215)\"], [0.6771653543307087, \"rgb(178, 199, 215)\"], [0.6811023622047244, \"rgb(177, 198, 214)\"], [0.6850393700787402, \"rgb(176, 198, 214)\"], [0.6889763779527559, \"rgb(174, 197, 213)\"], [0.6929133858267716, \"rgb(173, 196, 212)\"], [0.6968503937007874, \"rgb(171, 195, 212)\"], [0.7007874015748031, \"rgb(170, 194, 211)\"], [0.7047244094488189, \"rgb(169, 193, 211)\"], [0.7086614173228346, \"rgb(167, 192, 210)\"], [0.7125984251968503, \"rgb(166, 191, 209)\"], [0.7165354330708661, \"rgb(164, 190, 209)\"], [0.7204724409448818, \"rgb(163, 189, 208)\"], [0.7244094488188977, \"rgb(162, 188, 208)\"], [0.7283464566929134, \"rgb(160, 187, 207)\"], [0.7322834645669292, \"rgb(159, 186, 207)\"], [0.7362204724409449, \"rgb(158, 186, 206)\"], [0.7401574803149606, \"rgb(156, 185, 205)\"], [0.7440944881889764, \"rgb(155, 184, 205)\"], [0.7480314960629921, \"rgb(153, 183, 204)\"], [0.7519685039370079, \"rgb(152, 182, 204)\"], [0.7559055118110236, \"rgb(151, 181, 203)\"], [0.7598425196850394, \"rgb(149, 180, 202)\"], [0.7637795275590551, \"rgb(148, 179, 202)\"], [0.7677165354330708, \"rgb(146, 178, 201)\"], [0.7716535433070866, \"rgb(145, 177, 201)\"], [0.7755905511811023, \"rgb(144, 176, 200)\"], [0.7795275590551181, \"rgb(142, 175, 199)\"], [0.7834645669291338, \"rgb(141, 174, 199)\"], [0.7874015748031495, \"rgb(139, 173, 198)\"], [0.7913385826771654, \"rgb(138, 173, 198)\"], [0.7952755905511811, \"rgb(137, 172, 197)\"], [0.7992125984251969, \"rgb(135, 171, 197)\"], [0.8031496062992126, \"rgb(134, 170, 196)\"], [0.8070866141732284, \"rgb(133, 169, 195)\"], [0.8110236220472441, \"rgb(131, 168, 195)\"], [0.8149606299212598, \"rgb(130, 167, 194)\"], [0.8188976377952756, \"rgb(128, 166, 194)\"], [0.8228346456692913, \"rgb(127, 165, 193)\"], [0.8267716535433071, \"rgb(126, 164, 192)\"], [0.8307086614173228, \"rgb(124, 163, 192)\"], [0.8346456692913385, \"rgb(123, 162, 191)\"], [0.8385826771653543, \"rgb(121, 161, 191)\"], [0.84251968503937, \"rgb(120, 161, 190)\"], [0.8464566929133858, \"rgb(119, 160, 189)\"], [0.8503937007874016, \"rgb(117, 159, 189)\"], [0.8543307086614174, \"rgb(116, 158, 188)\"], [0.8582677165354331, \"rgb(114, 157, 188)\"], [0.8622047244094488, \"rgb(113, 156, 187)\"], [0.8661417322834646, \"rgb(112, 155, 187)\"], [0.8700787401574803, \"rgb(110, 154, 186)\"], [0.8740157480314961, \"rgb(109, 153, 185)\"], [0.8779527559055118, \"rgb(108, 152, 185)\"], [0.8818897637795275, \"rgb(106, 151, 184)\"], [0.8858267716535433, \"rgb(105, 150, 184)\"], [0.889763779527559, \"rgb(103, 149, 183)\"], [0.8937007874015748, \"rgb(102, 148, 182)\"], [0.8976377952755905, \"rgb(101, 148, 182)\"], [0.9015748031496063, \"rgb(99, 147, 181)\"], [0.905511811023622, \"rgb(98, 146, 181)\"], [0.9094488188976377, \"rgb(96, 145, 180)\"], [0.9133858267716535, \"rgb(95, 144, 179)\"], [0.9173228346456693, \"rgb(94, 143, 179)\"], [0.9212598425196851, \"rgb(92, 142, 178)\"], [0.9251968503937008, \"rgb(91, 141, 178)\"], [0.9291338582677166, \"rgb(89, 140, 177)\"], [0.9330708661417323, \"rgb(88, 139, 177)\"], [0.937007874015748, \"rgb(87, 138, 176)\"], [0.9409448818897638, \"rgb(85, 137, 175)\"], [0.9448818897637795, \"rgb(84, 136, 175)\"], [0.9488188976377953, \"rgb(83, 136, 174)\"], [0.952755905511811, \"rgb(81, 135, 174)\"], [0.9566929133858267, \"rgb(80, 134, 173)\"], [0.9606299212598425, \"rgb(78, 133, 172)\"], [0.9645669291338582, \"rgb(77, 132, 172)\"], [0.968503937007874, \"rgb(76, 131, 171)\"], [0.9724409448818897, \"rgb(74, 130, 171)\"], [0.9763779527559056, \"rgb(73, 129, 170)\"], [0.9803149606299213, \"rgb(71, 128, 169)\"], [0.984251968503937, \"rgb(70, 127, 169)\"], [0.9881889763779528, \"rgb(69, 126, 168)\"], [0.9921259842519685, \"rgb(67, 125, 168)\"], [0.9960629921259843, \"rgb(66, 124, 167)\"], [1.0, \"rgb(65, 124, 167)\"]], \"connectgaps\": false, \"type\": \"heatmap\", \"x\": [\"CRIM\", \"ZN\", \"INDUS\", \"CHAS\", \"NOX\", \"RM\", \"AGE\", \"DIS\", \"RAD\", \"TAX\", \"PTRATIO\", \"B\", \"LSTAT\", \"target\"], \"xgap\": 2, \"y\": [\"target\", \"LSTAT\", \"B\", \"PTRATIO\", \"TAX\", \"RAD\", \"DIS\", \"AGE\", \"RM\", \"NOX\", \"CHAS\", \"INDUS\", \"ZN\", \"CRIM\"], \"ygap\": 2, \"z\": [[0.26301673420901933, 0.36058036004339816, 0.483725160028373, 0.1752601771902975, 0.4273207723732817, 0.6953599470715389, 0.19948619436160797, 0.24992873408590394, 0.3816262306397776, 0.46853593356776646, 0.507786685537561, 0.33346081965706653, 0.7376627261740143, null], [0.45326273244549253, 0.41319525406862845, 0.6037997164766213, 0.05392929837569404, 0.5908789208808449, 0.6138082718663957, 0.3135126328967585, 0.4969958308636852, 0.4886763349750664, 0.543993412001569, 0.3740443167146754, 0.3660869016915971, null, null], [0.3512109336446147, 0.17534122571961053, 0.3569765351041929, 0.04878848495516622, 0.3800506377924003, 0.1280686350925431, 0.12452657926463752, 0.2915116731330401, 0.44441281557512574, 0.44180800672281384, 0.17738330230523142, null, null, null], [0.2535683632034179, 0.39120316218140827, 0.38324755642888675, 0.121515173658062, 0.18893267711276665, 0.3555014945590849, 0.1371727585788714, 0.23247054240825624, 0.46474117850305435, 0.4608530350656657, null, null, null, null], [0.6087412828611813, 0.3143380917377908, 0.7207601799515441, 0.03558651758591118, 0.6680232004030201, 0.29204783262321915, 0.21472821377013707, 0.5344315844084561, 0.9102281885331822, null, null, null, null, null], [0.619786249019655, 0.31171244646699464, 0.5951292746038486, 0.007368240886077726, 0.6114405634855754, 0.20984666776610877, 0.22345165088404528, 0.49458792967207543, null, null, null, null, null, null], [0.6163416418258281, 0.6638446841957253, 0.7080269887427683, 0.09917578017472706, 0.7692301132258261, 0.20524621293005516, 0.43710883345830687, null, null, null, null, null, null, null], [0.0, 0.42607555802798625, 0.29402808382378476, 0.05180138423148976, 0.37940904705482625, 0.1279083797202358, null, null, null, null, null, null, null, null], [0.1563717751228942, 0.31221813035696344, 0.39167585265684357, 0.09125122504345595, 0.3021881878495933, null, null, null, null, null, null, null, null, null], [0.7232347950332824, 0.5163097674725308, 0.7636514469209145, 0.09120280684249406, null, null, null, null, null, null, null, null, null, null], [0.0700967743894098, 0.04253337190728173, 0.0629380274896654, null, null, null, null, null, null, null, null, null, null, null], [0.6032601715706418, 0.5335828984741289, null, null, null, null, null, null, null, null, null, null, null, null], [0.4356940231909734, null, null, null, null, null, null, null, null, null, null, null, null, null], [null, null, null, null, null, null, null, null, null, null, null, null, null, null]]}],                        {\"autosize\": false, \"height\": 750, \"paper_bgcolor\": \"rgb(0,0,0,0)\", \"plot_bgcolor\": \"rgb(0,0,0,0)\", \"template\": {\"data\": {\"bar\": [{\"error_x\": {\"color\": \"#2a3f5f\"}, \"error_y\": {\"color\": \"#2a3f5f\"}, \"marker\": {\"line\": {\"color\": \"#E5ECF6\", \"width\": 0.5}}, \"type\": \"bar\"}], \"barpolar\": [{\"marker\": {\"line\": {\"color\": \"#E5ECF6\", \"width\": 0.5}}, \"type\": \"barpolar\"}], \"carpet\": [{\"aaxis\": {\"endlinecolor\": \"#2a3f5f\", \"gridcolor\": \"white\", \"linecolor\": \"white\", \"minorgridcolor\": \"white\", \"startlinecolor\": \"#2a3f5f\"}, \"baxis\": {\"endlinecolor\": \"#2a3f5f\", \"gridcolor\": \"white\", \"linecolor\": \"white\", \"minorgridcolor\": \"white\", \"startlinecolor\": \"#2a3f5f\"}, \"type\": \"carpet\"}], \"choropleth\": [{\"colorbar\": {\"outlinewidth\": 0, \"ticks\": \"\"}, \"type\": \"choropleth\"}], \"contour\": [{\"colorbar\": {\"outlinewidth\": 0, \"ticks\": \"\"}, \"colorscale\": [[0.0, \"#0d0887\"], [0.1111111111111111, \"#46039f\"], [0.2222222222222222, \"#7201a8\"], [0.3333333333333333, \"#9c179e\"], [0.4444444444444444, \"#bd3786\"], [0.5555555555555556, \"#d8576b\"], [0.6666666666666666, \"#ed7953\"], [0.7777777777777778, \"#fb9f3a\"], [0.8888888888888888, \"#fdca26\"], [1.0, \"#f0f921\"]], \"type\": \"contour\"}], \"contourcarpet\": [{\"colorbar\": {\"outlinewidth\": 0, \"ticks\": \"\"}, \"type\": \"contourcarpet\"}], \"heatmap\": [{\"colorbar\": {\"outlinewidth\": 0, \"ticks\": \"\"}, \"colorscale\": [[0.0, \"#0d0887\"], [0.1111111111111111, \"#46039f\"], [0.2222222222222222, \"#7201a8\"], [0.3333333333333333, \"#9c179e\"], [0.4444444444444444, \"#bd3786\"], [0.5555555555555556, \"#d8576b\"], [0.6666666666666666, \"#ed7953\"], [0.7777777777777778, \"#fb9f3a\"], [0.8888888888888888, \"#fdca26\"], [1.0, \"#f0f921\"]], \"type\": \"heatmap\"}], \"heatmapgl\": [{\"colorbar\": {\"outlinewidth\": 0, \"ticks\": \"\"}, \"colorscale\": [[0.0, \"#0d0887\"], [0.1111111111111111, \"#46039f\"], [0.2222222222222222, \"#7201a8\"], [0.3333333333333333, \"#9c179e\"], [0.4444444444444444, \"#bd3786\"], [0.5555555555555556, \"#d8576b\"], [0.6666666666666666, \"#ed7953\"], [0.7777777777777778, \"#fb9f3a\"], [0.8888888888888888, \"#fdca26\"], [1.0, \"#f0f921\"]], \"type\": \"heatmapgl\"}], \"histogram\": [{\"marker\": {\"colorbar\": {\"outlinewidth\": 0, \"ticks\": \"\"}}, \"type\": \"histogram\"}], \"histogram2d\": [{\"colorbar\": {\"outlinewidth\": 0, \"ticks\": \"\"}, \"colorscale\": [[0.0, \"#0d0887\"], [0.1111111111111111, \"#46039f\"], [0.2222222222222222, \"#7201a8\"], [0.3333333333333333, \"#9c179e\"], [0.4444444444444444, \"#bd3786\"], [0.5555555555555556, \"#d8576b\"], [0.6666666666666666, \"#ed7953\"], [0.7777777777777778, \"#fb9f3a\"], [0.8888888888888888, \"#fdca26\"], [1.0, \"#f0f921\"]], \"type\": \"histogram2d\"}], \"histogram2dcontour\": [{\"colorbar\": {\"outlinewidth\": 0, \"ticks\": \"\"}, \"colorscale\": [[0.0, \"#0d0887\"], [0.1111111111111111, \"#46039f\"], [0.2222222222222222, \"#7201a8\"], [0.3333333333333333, \"#9c179e\"], [0.4444444444444444, \"#bd3786\"], [0.5555555555555556, \"#d8576b\"], [0.6666666666666666, \"#ed7953\"], [0.7777777777777778, \"#fb9f3a\"], [0.8888888888888888, \"#fdca26\"], [1.0, \"#f0f921\"]], \"type\": \"histogram2dcontour\"}], \"mesh3d\": [{\"colorbar\": {\"outlinewidth\": 0, \"ticks\": \"\"}, \"type\": \"mesh3d\"}], \"parcoords\": [{\"line\": {\"colorbar\": {\"outlinewidth\": 0, \"ticks\": \"\"}}, \"type\": \"parcoords\"}], \"pie\": [{\"automargin\": true, \"type\": \"pie\"}], \"scatter\": [{\"marker\": {\"colorbar\": {\"outlinewidth\": 0, \"ticks\": \"\"}}, \"type\": \"scatter\"}], \"scatter3d\": [{\"line\": {\"colorbar\": {\"outlinewidth\": 0, \"ticks\": \"\"}}, \"marker\": {\"colorbar\": {\"outlinewidth\": 0, \"ticks\": \"\"}}, \"type\": \"scatter3d\"}], \"scattercarpet\": [{\"marker\": {\"colorbar\": {\"outlinewidth\": 0, \"ticks\": \"\"}}, \"type\": \"scattercarpet\"}], \"scattergeo\": [{\"marker\": {\"colorbar\": {\"outlinewidth\": 0, \"ticks\": \"\"}}, \"type\": \"scattergeo\"}], \"scattergl\": [{\"marker\": {\"colorbar\": {\"outlinewidth\": 0, \"ticks\": \"\"}}, \"type\": \"scattergl\"}], \"scattermapbox\": [{\"marker\": {\"colorbar\": {\"outlinewidth\": 0, \"ticks\": \"\"}}, \"type\": \"scattermapbox\"}], \"scatterpolar\": [{\"marker\": {\"colorbar\": {\"outlinewidth\": 0, \"ticks\": \"\"}}, \"type\": \"scatterpolar\"}], \"scatterpolargl\": [{\"marker\": {\"colorbar\": {\"outlinewidth\": 0, \"ticks\": \"\"}}, \"type\": \"scatterpolargl\"}], \"scatterternary\": [{\"marker\": {\"colorbar\": {\"outlinewidth\": 0, \"ticks\": \"\"}}, \"type\": \"scatterternary\"}], \"surface\": [{\"colorbar\": {\"outlinewidth\": 0, \"ticks\": \"\"}, \"colorscale\": [[0.0, \"#0d0887\"], [0.1111111111111111, \"#46039f\"], [0.2222222222222222, \"#7201a8\"], [0.3333333333333333, \"#9c179e\"], [0.4444444444444444, \"#bd3786\"], [0.5555555555555556, \"#d8576b\"], [0.6666666666666666, \"#ed7953\"], [0.7777777777777778, \"#fb9f3a\"], [0.8888888888888888, \"#fdca26\"], [1.0, \"#f0f921\"]], \"type\": \"surface\"}], \"table\": [{\"cells\": {\"fill\": {\"color\": \"#EBF0F8\"}, \"line\": {\"color\": \"white\"}}, \"header\": {\"fill\": {\"color\": \"#C8D4E3\"}, \"line\": {\"color\": \"white\"}}, \"type\": \"table\"}]}, \"layout\": {\"annotationdefaults\": {\"arrowcolor\": \"#2a3f5f\", \"arrowhead\": 0, \"arrowwidth\": 1}, \"coloraxis\": {\"colorbar\": {\"outlinewidth\": 0, \"ticks\": \"\"}}, \"colorscale\": {\"diverging\": [[0, \"#8e0152\"], [0.1, \"#c51b7d\"], [0.2, \"#de77ae\"], [0.3, \"#f1b6da\"], [0.4, \"#fde0ef\"], [0.5, \"#f7f7f7\"], [0.6, \"#e6f5d0\"], [0.7, \"#b8e186\"], [0.8, \"#7fbc41\"], [0.9, \"#4d9221\"], [1, \"#276419\"]], \"sequential\": [[0.0, \"#0d0887\"], [0.1111111111111111, \"#46039f\"], [0.2222222222222222, \"#7201a8\"], [0.3333333333333333, \"#9c179e\"], [0.4444444444444444, \"#bd3786\"], [0.5555555555555556, \"#d8576b\"], [0.6666666666666666, \"#ed7953\"], [0.7777777777777778, \"#fb9f3a\"], [0.8888888888888888, \"#fdca26\"], [1.0, \"#f0f921\"]], \"sequentialminus\": [[0.0, \"#0d0887\"], [0.1111111111111111, \"#46039f\"], [0.2222222222222222, \"#7201a8\"], [0.3333333333333333, \"#9c179e\"], [0.4444444444444444, \"#bd3786\"], [0.5555555555555556, \"#d8576b\"], [0.6666666666666666, \"#ed7953\"], [0.7777777777777778, \"#fb9f3a\"], [0.8888888888888888, \"#fdca26\"], [1.0, \"#f0f921\"]]}, \"colorway\": [\"#636efa\", \"#EF553B\", \"#00cc96\", \"#ab63fa\", \"#FFA15A\", \"#19d3f3\", \"#FF6692\", \"#B6E880\", \"#FF97FF\", \"#FECB52\"], \"font\": {\"color\": \"#2a3f5f\"}, \"geo\": {\"bgcolor\": \"white\", \"lakecolor\": \"white\", \"landcolor\": \"#E5ECF6\", \"showlakes\": true, \"showland\": true, \"subunitcolor\": \"white\"}, \"hoverlabel\": {\"align\": \"left\"}, \"hovermode\": \"closest\", \"mapbox\": {\"style\": \"light\"}, \"paper_bgcolor\": \"white\", \"plot_bgcolor\": \"#E5ECF6\", \"polar\": {\"angularaxis\": {\"gridcolor\": \"white\", \"linecolor\": \"white\", \"ticks\": \"\"}, \"bgcolor\": \"#E5ECF6\", \"radialaxis\": {\"gridcolor\": \"white\", \"linecolor\": \"white\", \"ticks\": \"\"}}, \"scene\": {\"xaxis\": {\"backgroundcolor\": \"#E5ECF6\", \"gridcolor\": \"white\", \"gridwidth\": 2, \"linecolor\": \"white\", \"showbackground\": true, \"ticks\": \"\", \"zerolinecolor\": \"white\"}, \"yaxis\": {\"backgroundcolor\": \"#E5ECF6\", \"gridcolor\": \"white\", \"gridwidth\": 2, \"linecolor\": \"white\", \"showbackground\": true, \"ticks\": \"\", \"zerolinecolor\": \"white\"}, \"zaxis\": {\"backgroundcolor\": \"#E5ECF6\", \"gridcolor\": \"white\", \"gridwidth\": 2, \"linecolor\": \"white\", \"showbackground\": true, \"ticks\": \"\", \"zerolinecolor\": \"white\"}}, \"shapedefaults\": {\"line\": {\"color\": \"#2a3f5f\"}}, \"ternary\": {\"aaxis\": {\"gridcolor\": \"white\", \"linecolor\": \"white\", \"ticks\": \"\"}, \"baxis\": {\"gridcolor\": \"white\", \"linecolor\": \"white\", \"ticks\": \"\"}, \"bgcolor\": \"#E5ECF6\", \"caxis\": {\"gridcolor\": \"white\", \"linecolor\": \"white\", \"ticks\": \"\"}}, \"title\": {\"x\": 0.05}, \"xaxis\": {\"automargin\": true, \"gridcolor\": \"white\", \"linecolor\": \"white\", \"ticks\": \"\", \"title\": {\"standoff\": 15}, \"zerolinecolor\": \"white\", \"zerolinewidth\": 2}, \"yaxis\": {\"automargin\": true, \"gridcolor\": \"white\", \"linecolor\": \"white\", \"ticks\": \"\", \"title\": {\"standoff\": 15}, \"zerolinecolor\": \"white\", \"zerolinewidth\": 2}}}, \"title\": {\"font\": {\"size\": 25}, \"text\": \"Correlation Matrix\"}, \"width\": 750, \"xaxis\": {\"automargin\": true, \"showgrid\": false, \"tickangle\": -90, \"ticks\": \"\"}, \"yaxis\": {\"automargin\": true, \"showgrid\": false, \"ticks\": \"\"}},                        {\"displayModeBar\": false, \"responsive\": true}                    ).then(function(){\n",
       "                            \n",
       "var gd = document.getElementById('4932e0d5-e9d6-43dd-9c3a-62c389b7669c');\n",
       "var x = new MutationObserver(function (mutations, observer) {{\n",
       "        var display = window.getComputedStyle(gd).display;\n",
       "        if (!display || display === 'none') {{\n",
       "            console.log([gd, 'removed!']);\n",
       "            Plotly.purge(gd);\n",
       "            observer.disconnect();\n",
       "        }}\n",
       "}});\n",
       "\n",
       "// Listen for the removal of the full notebook cells\n",
       "var notebookContainer = gd.closest('#notebook-container');\n",
       "if (notebookContainer) {{\n",
       "    x.observe(notebookContainer, {childList: true});\n",
       "}}\n",
       "\n",
       "// Listen for the clearing of the current output cell\n",
       "var outputEl = gd.closest('.output');\n",
       "if (outputEl) {{\n",
       "    x.observe(outputEl, {childList: true});\n",
       "}}\n",
       "\n",
       "                        })                };                });            </script>        </div>"
      ]
     },
     "metadata": {},
     "output_type": "display_data"
    },
    {
     "data": {
      "text/plain": [
       "None"
      ]
     },
     "metadata": {},
     "output_type": "display_data"
    },
    {
     "data": {
      "text/plain": [
       "<data_describe.core.correlation.CorrelationWidget at 0x1d7d5e2bf88>"
      ]
     },
     "execution_count": 6,
     "metadata": {},
     "output_type": "execute_result"
    }
   ],
   "source": [
    "dd.correlation_matrix(df, categorical=True, viz_backend=\"plotly\")"
   ]
  },
  {
   "cell_type": "markdown",
   "metadata": {
    "papermill": {
     "duration": 0.037056,
     "end_time": "2020-10-29T02:54:52.886031",
     "exception": false,
     "start_time": "2020-10-29T02:54:52.848975",
     "status": "completed"
    },
    "tags": []
   },
   "source": [
    "## Return values only"
   ]
  },
  {
   "cell_type": "code",
   "execution_count": 7,
   "metadata": {
    "execution": {
     "iopub.execute_input": "2020-10-29T02:54:52.964982Z",
     "iopub.status.busy": "2020-10-29T02:54:52.963983Z",
     "iopub.status.idle": "2020-10-29T02:54:52.990004Z",
     "shell.execute_reply": "2020-10-29T02:54:52.988982Z"
    },
    "papermill": {
     "duration": 0.068988,
     "end_time": "2020-10-29T02:54:52.990004",
     "exception": false,
     "start_time": "2020-10-29T02:54:52.921016",
     "status": "completed"
    },
    "tags": []
   },
   "outputs": [
    {
     "data": {
      "text/html": [
       "<div>\n",
       "<style scoped>\n",
       "    .dataframe tbody tr th:only-of-type {\n",
       "        vertical-align: middle;\n",
       "    }\n",
       "\n",
       "    .dataframe tbody tr th {\n",
       "        vertical-align: top;\n",
       "    }\n",
       "\n",
       "    .dataframe thead th {\n",
       "        text-align: right;\n",
       "    }\n",
       "</style>\n",
       "<table border=\"1\" class=\"dataframe\">\n",
       "  <thead>\n",
       "    <tr style=\"text-align: right;\">\n",
       "      <th></th>\n",
       "      <th>ZN</th>\n",
       "      <th>INDUS</th>\n",
       "      <th>CHAS</th>\n",
       "      <th>NOX</th>\n",
       "      <th>RM</th>\n",
       "      <th>DIS</th>\n",
       "      <th>RAD</th>\n",
       "      <th>TAX</th>\n",
       "      <th>PTRATIO</th>\n",
       "      <th>B</th>\n",
       "      <th>LSTAT</th>\n",
       "      <th>target</th>\n",
       "    </tr>\n",
       "  </thead>\n",
       "  <tbody>\n",
       "    <tr>\n",
       "      <th>ZN</th>\n",
       "      <td>1.000000</td>\n",
       "      <td>-0.533583</td>\n",
       "      <td>-0.042533</td>\n",
       "      <td>-0.516310</td>\n",
       "      <td>0.312218</td>\n",
       "      <td>0.663845</td>\n",
       "      <td>-0.311712</td>\n",
       "      <td>-0.314338</td>\n",
       "      <td>-0.391203</td>\n",
       "      <td>0.175341</td>\n",
       "      <td>-0.413195</td>\n",
       "      <td>0.360580</td>\n",
       "    </tr>\n",
       "    <tr>\n",
       "      <th>INDUS</th>\n",
       "      <td>-0.533583</td>\n",
       "      <td>1.000000</td>\n",
       "      <td>0.062938</td>\n",
       "      <td>0.763651</td>\n",
       "      <td>-0.391676</td>\n",
       "      <td>-0.708027</td>\n",
       "      <td>0.595129</td>\n",
       "      <td>0.720760</td>\n",
       "      <td>0.383248</td>\n",
       "      <td>-0.356977</td>\n",
       "      <td>0.603800</td>\n",
       "      <td>-0.483725</td>\n",
       "    </tr>\n",
       "    <tr>\n",
       "      <th>CHAS</th>\n",
       "      <td>-0.042533</td>\n",
       "      <td>0.062938</td>\n",
       "      <td>1.000000</td>\n",
       "      <td>0.091203</td>\n",
       "      <td>0.091251</td>\n",
       "      <td>-0.099176</td>\n",
       "      <td>-0.007368</td>\n",
       "      <td>-0.035587</td>\n",
       "      <td>-0.121515</td>\n",
       "      <td>0.048788</td>\n",
       "      <td>-0.053929</td>\n",
       "      <td>0.175260</td>\n",
       "    </tr>\n",
       "    <tr>\n",
       "      <th>NOX</th>\n",
       "      <td>-0.516310</td>\n",
       "      <td>0.763651</td>\n",
       "      <td>0.091203</td>\n",
       "      <td>1.000000</td>\n",
       "      <td>-0.302188</td>\n",
       "      <td>-0.769230</td>\n",
       "      <td>0.611441</td>\n",
       "      <td>0.668023</td>\n",
       "      <td>0.188933</td>\n",
       "      <td>-0.380051</td>\n",
       "      <td>0.590879</td>\n",
       "      <td>-0.427321</td>\n",
       "    </tr>\n",
       "    <tr>\n",
       "      <th>RM</th>\n",
       "      <td>0.312218</td>\n",
       "      <td>-0.391676</td>\n",
       "      <td>0.091251</td>\n",
       "      <td>-0.302188</td>\n",
       "      <td>1.000000</td>\n",
       "      <td>0.205246</td>\n",
       "      <td>-0.209847</td>\n",
       "      <td>-0.292048</td>\n",
       "      <td>-0.355501</td>\n",
       "      <td>0.128069</td>\n",
       "      <td>-0.613808</td>\n",
       "      <td>0.695360</td>\n",
       "    </tr>\n",
       "    <tr>\n",
       "      <th>DIS</th>\n",
       "      <td>0.663845</td>\n",
       "      <td>-0.708027</td>\n",
       "      <td>-0.099176</td>\n",
       "      <td>-0.769230</td>\n",
       "      <td>0.205246</td>\n",
       "      <td>1.000000</td>\n",
       "      <td>-0.494588</td>\n",
       "      <td>-0.534432</td>\n",
       "      <td>-0.232471</td>\n",
       "      <td>0.291512</td>\n",
       "      <td>-0.496996</td>\n",
       "      <td>0.249929</td>\n",
       "    </tr>\n",
       "    <tr>\n",
       "      <th>RAD</th>\n",
       "      <td>-0.311712</td>\n",
       "      <td>0.595129</td>\n",
       "      <td>-0.007368</td>\n",
       "      <td>0.611441</td>\n",
       "      <td>-0.209847</td>\n",
       "      <td>-0.494588</td>\n",
       "      <td>1.000000</td>\n",
       "      <td>0.910228</td>\n",
       "      <td>0.464741</td>\n",
       "      <td>-0.444413</td>\n",
       "      <td>0.488676</td>\n",
       "      <td>-0.381626</td>\n",
       "    </tr>\n",
       "    <tr>\n",
       "      <th>TAX</th>\n",
       "      <td>-0.314338</td>\n",
       "      <td>0.720760</td>\n",
       "      <td>-0.035587</td>\n",
       "      <td>0.668023</td>\n",
       "      <td>-0.292048</td>\n",
       "      <td>-0.534432</td>\n",
       "      <td>0.910228</td>\n",
       "      <td>1.000000</td>\n",
       "      <td>0.460853</td>\n",
       "      <td>-0.441808</td>\n",
       "      <td>0.543993</td>\n",
       "      <td>-0.468536</td>\n",
       "    </tr>\n",
       "    <tr>\n",
       "      <th>PTRATIO</th>\n",
       "      <td>-0.391203</td>\n",
       "      <td>0.383248</td>\n",
       "      <td>-0.121515</td>\n",
       "      <td>0.188933</td>\n",
       "      <td>-0.355501</td>\n",
       "      <td>-0.232471</td>\n",
       "      <td>0.464741</td>\n",
       "      <td>0.460853</td>\n",
       "      <td>1.000000</td>\n",
       "      <td>-0.177383</td>\n",
       "      <td>0.374044</td>\n",
       "      <td>-0.507787</td>\n",
       "    </tr>\n",
       "    <tr>\n",
       "      <th>B</th>\n",
       "      <td>0.175341</td>\n",
       "      <td>-0.356977</td>\n",
       "      <td>0.048788</td>\n",
       "      <td>-0.380051</td>\n",
       "      <td>0.128069</td>\n",
       "      <td>0.291512</td>\n",
       "      <td>-0.444413</td>\n",
       "      <td>-0.441808</td>\n",
       "      <td>-0.177383</td>\n",
       "      <td>1.000000</td>\n",
       "      <td>-0.366087</td>\n",
       "      <td>0.333461</td>\n",
       "    </tr>\n",
       "    <tr>\n",
       "      <th>LSTAT</th>\n",
       "      <td>-0.413195</td>\n",
       "      <td>0.603800</td>\n",
       "      <td>-0.053929</td>\n",
       "      <td>0.590879</td>\n",
       "      <td>-0.613808</td>\n",
       "      <td>-0.496996</td>\n",
       "      <td>0.488676</td>\n",
       "      <td>0.543993</td>\n",
       "      <td>0.374044</td>\n",
       "      <td>-0.366087</td>\n",
       "      <td>1.000000</td>\n",
       "      <td>-0.737663</td>\n",
       "    </tr>\n",
       "    <tr>\n",
       "      <th>target</th>\n",
       "      <td>0.360580</td>\n",
       "      <td>-0.483725</td>\n",
       "      <td>0.175260</td>\n",
       "      <td>-0.427321</td>\n",
       "      <td>0.695360</td>\n",
       "      <td>0.249929</td>\n",
       "      <td>-0.381626</td>\n",
       "      <td>-0.468536</td>\n",
       "      <td>-0.507787</td>\n",
       "      <td>0.333461</td>\n",
       "      <td>-0.737663</td>\n",
       "      <td>1.000000</td>\n",
       "    </tr>\n",
       "  </tbody>\n",
       "</table>\n",
       "</div>"
      ],
      "text/plain": [
       "               ZN     INDUS      CHAS       NOX        RM       DIS       RAD  \\\n",
       "ZN       1.000000 -0.533583 -0.042533 -0.516310  0.312218  0.663845 -0.311712   \n",
       "INDUS   -0.533583  1.000000  0.062938  0.763651 -0.391676 -0.708027  0.595129   \n",
       "CHAS    -0.042533  0.062938  1.000000  0.091203  0.091251 -0.099176 -0.007368   \n",
       "NOX     -0.516310  0.763651  0.091203  1.000000 -0.302188 -0.769230  0.611441   \n",
       "RM       0.312218 -0.391676  0.091251 -0.302188  1.000000  0.205246 -0.209847   \n",
       "DIS      0.663845 -0.708027 -0.099176 -0.769230  0.205246  1.000000 -0.494588   \n",
       "RAD     -0.311712  0.595129 -0.007368  0.611441 -0.209847 -0.494588  1.000000   \n",
       "TAX     -0.314338  0.720760 -0.035587  0.668023 -0.292048 -0.534432  0.910228   \n",
       "PTRATIO -0.391203  0.383248 -0.121515  0.188933 -0.355501 -0.232471  0.464741   \n",
       "B        0.175341 -0.356977  0.048788 -0.380051  0.128069  0.291512 -0.444413   \n",
       "LSTAT   -0.413195  0.603800 -0.053929  0.590879 -0.613808 -0.496996  0.488676   \n",
       "target   0.360580 -0.483725  0.175260 -0.427321  0.695360  0.249929 -0.381626   \n",
       "\n",
       "              TAX   PTRATIO         B     LSTAT    target  \n",
       "ZN      -0.314338 -0.391203  0.175341 -0.413195  0.360580  \n",
       "INDUS    0.720760  0.383248 -0.356977  0.603800 -0.483725  \n",
       "CHAS    -0.035587 -0.121515  0.048788 -0.053929  0.175260  \n",
       "NOX      0.668023  0.188933 -0.380051  0.590879 -0.427321  \n",
       "RM      -0.292048 -0.355501  0.128069 -0.613808  0.695360  \n",
       "DIS     -0.534432 -0.232471  0.291512 -0.496996  0.249929  \n",
       "RAD      0.910228  0.464741 -0.444413  0.488676 -0.381626  \n",
       "TAX      1.000000  0.460853 -0.441808  0.543993 -0.468536  \n",
       "PTRATIO  0.460853  1.000000 -0.177383  0.374044 -0.507787  \n",
       "B       -0.441808 -0.177383  1.000000 -0.366087  0.333461  \n",
       "LSTAT    0.543993  0.374044 -0.366087  1.000000 -0.737663  \n",
       "target  -0.468536 -0.507787  0.333461 -0.737663  1.000000  "
      ]
     },
     "execution_count": 7,
     "metadata": {},
     "output_type": "execute_result"
    }
   ],
   "source": [
    "correlation_widget = dd.correlation_matrix(df)\n",
    "correlation_widget.viz_data"
   ]
  }
 ],
 "metadata": {
  "kernelspec": {
   "display_name": "Python 3",
   "language": "python",
   "name": "python3"
  },
  "language_info": {
   "codemirror_mode": {
    "name": "ipython",
    "version": 3
   },
   "file_extension": ".py",
   "mimetype": "text/x-python",
   "name": "python",
   "nbconvert_exporter": "python",
   "pygments_lexer": "ipython3",
   "version": "3.7.9"
  },
  "papermill": {
   "duration": 10.038412,
   "end_time": "2020-10-29T02:54:53.536986",
   "environment_variables": {},
   "exception": null,
   "input_path": "C:\\workspace\\data-describe\\examples\\Correlation_Matrix.ipynb",
   "output_path": "C:\\workspace\\data-describe\\examples\\Correlation_Matrix.ipynb",
   "parameters": {},
   "start_time": "2020-10-29T02:54:43.498574",
   "version": "2.1.2"
  },
  "widgets": {
   "application/vnd.jupyter.widget-state+json": {
    "state": {},
    "version_major": 2,
    "version_minor": 0
   }
  }
 },
 "nbformat": 4,
 "nbformat_minor": 4
}
