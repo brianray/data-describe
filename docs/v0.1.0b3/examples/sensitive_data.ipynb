{
 "cells": [
  {
   "cell_type": "markdown",
   "metadata": {
    "papermill": {
     "duration": 0.009968,
     "end_time": "2020-10-29T02:59:28.250210",
     "exception": false,
     "start_time": "2020-10-29T02:59:28.240242",
     "status": "completed"
    },
    "tags": []
   },
   "source": [
    "# Sensitive Data"
   ]
  },
  {
   "cell_type": "code",
   "execution_count": 1,
   "metadata": {
    "execution": {
     "iopub.execute_input": "2020-10-29T02:59:28.278209Z",
     "iopub.status.busy": "2020-10-29T02:59:28.277210Z",
     "iopub.status.idle": "2020-10-29T02:59:30.696246Z",
     "shell.execute_reply": "2020-10-29T02:59:30.696246Z"
    },
    "papermill": {
     "duration": 2.437003,
     "end_time": "2020-10-29T02:59:30.697212",
     "exception": false,
     "start_time": "2020-10-29T02:59:28.260209",
     "status": "completed"
    },
    "tags": []
   },
   "outputs": [],
   "source": [
    "import datetime\n",
    "import pandas as pd\n",
    "\n",
    "from data_describe.privacy.detection import sensitive_data"
   ]
  },
  {
   "cell_type": "markdown",
   "metadata": {
    "papermill": {
     "duration": 0.010057,
     "end_time": "2020-10-29T02:59:30.717268",
     "exception": false,
     "start_time": "2020-10-29T02:59:30.707211",
     "status": "completed"
    },
    "tags": []
   },
   "source": [
    "## Create Sample Profile"
   ]
  },
  {
   "cell_type": "code",
   "execution_count": 2,
   "metadata": {
    "execution": {
     "iopub.execute_input": "2020-10-29T02:59:30.746243Z",
     "iopub.status.busy": "2020-10-29T02:59:30.745244Z",
     "iopub.status.idle": "2020-10-29T02:59:30.753209Z",
     "shell.execute_reply": "2020-10-29T02:59:30.752209Z"
    },
    "papermill": {
     "duration": 0.025949,
     "end_time": "2020-10-29T02:59:30.753209",
     "exception": false,
     "start_time": "2020-10-29T02:59:30.727260",
     "status": "completed"
    },
    "tags": []
   },
   "outputs": [],
   "source": [
    "sample_profile = {\n",
    "    \"company\": {\n",
    "        0: \"Fisher, Green and Dixon\",\n",
    "        1: \"Lawrence, Herring and Riley\",\n",
    "        2: \"Thompson-Ruiz\",\n",
    "        3: \"Sloan PLC\",\n",
    "        4: \"Smith LLC\",\n",
    "        5: \"Nolan, Meyers and Johnson\",\n",
    "    },\n",
    "    \"ssn\": {\n",
    "        0: \"415-39-7809\",\n",
    "        1: \"462-64-5856\",\n",
    "        2: \"420-73-8333\",\n",
    "        3: \"119-33-2186\",\n",
    "        4: \"532-38-7349\",\n",
    "        5: \"152-33-9873\",\n",
    "    },\n",
    "    \"residence\": {\n",
    "        0: \"24219 Archer Mountain Suite 924\\nNorth Melissaborough, LA 41945\",\n",
    "        1: \"5330 Wilson Fields Suite 560\\nEast Heiditown, VA 70519\",\n",
    "        2: \"PSC 5642, Box 8071\\nAPO AA 06490\",\n",
    "        3: \"1240 Jamie Forks Apt. 590\\nAlistad, NY 60619\",\n",
    "        4: \"PSC 9361, Box 5349\\nAPO AP 57022\",\n",
    "        5: \"7118 Williams Flat Apt. 075\\nOwenhaven, LA 50600\",\n",
    "    },\n",
    "    \"website\": {\n",
    "        0: [\n",
    "            \"http://sellers.com/\",\n",
    "            \"https://garrett.com/\",\n",
    "            \"https://stark.net/\",\n",
    "            \"http://kaiser.org/\",\n",
    "        ],\n",
    "        1: [\"https://wood-hooper.com/\", \"http://martinez.net/\"],\n",
    "        2: [\n",
    "            \"http://www.arroyo-schultz.biz/\",\n",
    "            \"https://www.curtis-smith.com/\",\n",
    "            \"http://www.gray-hutchinson.com/\",\n",
    "            \"http://www.barnes.com/\",\n",
    "        ],\n",
    "        3: [\"http://hernandez.info/\", \"https://www.williams-martin.org/\"],\n",
    "        4: [\"https://www.wilson.com/\"],\n",
    "        5: [\"https://mooney.com/\"],\n",
    "    },\n",
    "    \"username\": {\n",
    "        0: \"sandraharris\",\n",
    "        1: \"jeffreylucas\",\n",
    "        2: \"karla07\",\n",
    "        3: \"johnwilliams\",\n",
    "        4: \"amyhernandez\",\n",
    "        5: \"eprice\",\n",
    "    },\n",
    "    \"name\": {\n",
    "        0: \"Doris Martinez\",\n",
    "        1: \"Jeffery Garcia\",\n",
    "        2: \"Kelsey Freeman\",\n",
    "        3: \"Kimberly Carter\",\n",
    "        4: \"Charles Gonzalez\",\n",
    "        5: \"Roger Olson\",\n",
    "    },\n",
    "    \"address\": {\n",
    "        0: \"19659 Ivan Stravenue Apt. 471\\nLake Nancyside, VT 71358\",\n",
    "        1: \"0916 Michael Row\\nSellersville, WI 08109\",\n",
    "        2: \"63812 Morales Ranch Apt. 300\\nLowestad, NM 26520\",\n",
    "        3: \"65461 Regina Mall Suite 517\\nSouth Benjaminborough, DE 22331\",\n",
    "        4: \"Unit 7296 Box 6875\\nDPO AP 65859\",\n",
    "        5: \"0248 Cook Mews Apt. 466\\nBrownfurt, IN 44282\",\n",
    "    },\n",
    "    \"mail\": {\n",
    "        0: \"mary84@yahoo.com\",\n",
    "        1: \"imoore@yahoo.com\",\n",
    "        2: \"yramirez@gmail.com\",\n",
    "        3: \"nicholas11@hotmail.com\",\n",
    "        4: \"nancy89@hotmail.com\",\n",
    "        5: \"johnsonrobert@yahoo.com\",\n",
    "    },\n",
    "    \"birthdate\": {\n",
    "        0: datetime.date(1936, 7, 5),\n",
    "        1: datetime.date(1920, 5, 30),\n",
    "        2: datetime.date(1958, 6, 13),\n",
    "        3: datetime.date(1931, 5, 31),\n",
    "        4: datetime.date(1905, 10, 12),\n",
    "        5: datetime.date(1986, 5, 21),\n",
    "    }\n",
    "    \n",
    "}"
   ]
  },
  {
   "cell_type": "code",
   "execution_count": 3,
   "metadata": {
    "execution": {
     "iopub.execute_input": "2020-10-29T02:59:30.790245Z",
     "iopub.status.busy": "2020-10-29T02:59:30.789243Z",
     "iopub.status.idle": "2020-10-29T02:59:30.800244Z",
     "shell.execute_reply": "2020-10-29T02:59:30.801208Z"
    },
    "papermill": {
     "duration": 0.036999,
     "end_time": "2020-10-29T02:59:30.801208",
     "exception": false,
     "start_time": "2020-10-29T02:59:30.764209",
     "status": "completed"
    },
    "tags": []
   },
   "outputs": [
    {
     "data": {
      "text/html": [
       "<div>\n",
       "<style scoped>\n",
       "    .dataframe tbody tr th:only-of-type {\n",
       "        vertical-align: middle;\n",
       "    }\n",
       "\n",
       "    .dataframe tbody tr th {\n",
       "        vertical-align: top;\n",
       "    }\n",
       "\n",
       "    .dataframe thead th {\n",
       "        text-align: right;\n",
       "    }\n",
       "</style>\n",
       "<table border=\"1\" class=\"dataframe\">\n",
       "  <thead>\n",
       "    <tr style=\"text-align: right;\">\n",
       "      <th></th>\n",
       "      <th>company</th>\n",
       "      <th>ssn</th>\n",
       "      <th>residence</th>\n",
       "      <th>website</th>\n",
       "      <th>username</th>\n",
       "      <th>name</th>\n",
       "      <th>address</th>\n",
       "      <th>mail</th>\n",
       "      <th>birthdate</th>\n",
       "    </tr>\n",
       "  </thead>\n",
       "  <tbody>\n",
       "    <tr>\n",
       "      <th>0</th>\n",
       "      <td>Fisher, Green and Dixon</td>\n",
       "      <td>415-39-7809</td>\n",
       "      <td>24219 Archer Mountain Suite 924\\nNorth Melissa...</td>\n",
       "      <td>[http://sellers.com/, https://garrett.com/, ht...</td>\n",
       "      <td>sandraharris</td>\n",
       "      <td>Doris Martinez</td>\n",
       "      <td>19659 Ivan Stravenue Apt. 471\\nLake Nancyside,...</td>\n",
       "      <td>mary84@yahoo.com</td>\n",
       "      <td>1936-07-05</td>\n",
       "    </tr>\n",
       "    <tr>\n",
       "      <th>1</th>\n",
       "      <td>Lawrence, Herring and Riley</td>\n",
       "      <td>462-64-5856</td>\n",
       "      <td>5330 Wilson Fields Suite 560\\nEast Heiditown, ...</td>\n",
       "      <td>[https://wood-hooper.com/, http://martinez.net/]</td>\n",
       "      <td>jeffreylucas</td>\n",
       "      <td>Jeffery Garcia</td>\n",
       "      <td>0916 Michael Row\\nSellersville, WI 08109</td>\n",
       "      <td>imoore@yahoo.com</td>\n",
       "      <td>1920-05-30</td>\n",
       "    </tr>\n",
       "  </tbody>\n",
       "</table>\n",
       "</div>"
      ],
      "text/plain": [
       "                       company          ssn  \\\n",
       "0      Fisher, Green and Dixon  415-39-7809   \n",
       "1  Lawrence, Herring and Riley  462-64-5856   \n",
       "\n",
       "                                           residence  \\\n",
       "0  24219 Archer Mountain Suite 924\\nNorth Melissa...   \n",
       "1  5330 Wilson Fields Suite 560\\nEast Heiditown, ...   \n",
       "\n",
       "                                             website      username  \\\n",
       "0  [http://sellers.com/, https://garrett.com/, ht...  sandraharris   \n",
       "1   [https://wood-hooper.com/, http://martinez.net/]  jeffreylucas   \n",
       "\n",
       "             name                                            address  \\\n",
       "0  Doris Martinez  19659 Ivan Stravenue Apt. 471\\nLake Nancyside,...   \n",
       "1  Jeffery Garcia           0916 Michael Row\\nSellersville, WI 08109   \n",
       "\n",
       "               mail   birthdate  \n",
       "0  mary84@yahoo.com  1936-07-05  \n",
       "1  imoore@yahoo.com  1920-05-30  "
      ]
     },
     "execution_count": 3,
     "metadata": {},
     "output_type": "execute_result"
    }
   ],
   "source": [
    "df = pd.DataFrame(sample_profile)\n",
    "df.head(2)"
   ]
  },
  {
   "cell_type": "markdown",
   "metadata": {
    "papermill": {
     "duration": 0.010994,
     "end_time": "2020-10-29T02:59:30.824208",
     "exception": false,
     "start_time": "2020-10-29T02:59:30.813214",
     "status": "completed"
    },
    "tags": []
   },
   "source": [
    "## Redact sensitive data"
   ]
  },
  {
   "cell_type": "code",
   "execution_count": 4,
   "metadata": {
    "execution": {
     "iopub.execute_input": "2020-10-29T02:59:30.851419Z",
     "iopub.status.busy": "2020-10-29T02:59:30.850218Z",
     "iopub.status.idle": "2020-10-29T02:59:52.255112Z",
     "shell.execute_reply": "2020-10-29T02:59:52.254112Z"
    },
    "papermill": {
     "duration": 21.419901,
     "end_time": "2020-10-29T02:59:52.255112",
     "exception": false,
     "start_time": "2020-10-29T02:59:30.835211",
     "status": "completed"
    },
    "tags": []
   },
   "outputs": [
    {
     "name": "stderr",
     "output_type": "stream",
     "text": [
      "UserWarning: The Dask Engine for Modin is experimental.\n"
     ]
    },
    {
     "data": {
      "text/html": [
       "<div>\n",
       "<style scoped>\n",
       "    .dataframe tbody tr th:only-of-type {\n",
       "        vertical-align: middle;\n",
       "    }\n",
       "\n",
       "    .dataframe tbody tr th {\n",
       "        vertical-align: top;\n",
       "    }\n",
       "\n",
       "    .dataframe thead th {\n",
       "        text-align: right;\n",
       "    }\n",
       "</style>\n",
       "<table border=\"1\" class=\"dataframe\">\n",
       "  <thead>\n",
       "    <tr style=\"text-align: right;\">\n",
       "      <th></th>\n",
       "      <th>company</th>\n",
       "      <th>ssn</th>\n",
       "      <th>residence</th>\n",
       "      <th>website</th>\n",
       "      <th>username</th>\n",
       "      <th>name</th>\n",
       "      <th>address</th>\n",
       "      <th>mail</th>\n",
       "      <th>birthdate</th>\n",
       "    </tr>\n",
       "  </thead>\n",
       "  <tbody>\n",
       "    <tr>\n",
       "      <th>0</th>\n",
       "      <td>Fisher, Green and &lt;PERSON&gt;</td>\n",
       "      <td>&lt;US_SSN&gt;</td>\n",
       "      <td>24219 Archer Mountain Suite 924\\nNorth Melissa...</td>\n",
       "      <td>['http://&lt;DOMAIN_NAME&gt;/', 'https://&lt;DOMAIN_NAM...</td>\n",
       "      <td>&lt;PERSON&gt;</td>\n",
       "      <td>&lt;PERSON&gt;</td>\n",
       "      <td>&lt;DATE_TIME&gt; &lt;PERSON&gt; Apt. 471\\nLake Nancyside,...</td>\n",
       "      <td>&lt;EMAIL_ADDRESS&gt;</td>\n",
       "      <td>&lt;DATE_TIME&gt;</td>\n",
       "    </tr>\n",
       "    <tr>\n",
       "      <th>1</th>\n",
       "      <td>&lt;PERSON&gt;, &lt;PERSON&gt; and &lt;PERSON&gt;</td>\n",
       "      <td>&lt;US_SSN&gt;</td>\n",
       "      <td>5330 &lt;PERSON&gt; Fields Suite 560\\nEast Heiditown...</td>\n",
       "      <td>['https://&lt;DOMAIN_NAME&gt;/', 'http://&lt;DOMAIN_NAM...</td>\n",
       "      <td>&lt;PERSON&gt;</td>\n",
       "      <td>&lt;PERSON&gt;</td>\n",
       "      <td>0916 &lt;PERSON&gt; Row\\n&lt;US_DRIVER_LICENSE&gt;, &lt;LOCAT...</td>\n",
       "      <td>&lt;EMAIL_ADDRESS&gt;</td>\n",
       "      <td>&lt;DATE_TIME&gt;</td>\n",
       "    </tr>\n",
       "    <tr>\n",
       "      <th>2</th>\n",
       "      <td>&lt;PERSON&gt;</td>\n",
       "      <td>&lt;US_SSN&gt;</td>\n",
       "      <td>PSC 5642, Box &lt;DATE_TIME&gt;\\nAPO AA 06490</td>\n",
       "      <td>['http://&lt;DOMAIN_NAME&gt;/', 'https://&lt;DOMAIN_NAM...</td>\n",
       "      <td>karla07</td>\n",
       "      <td>&lt;PERSON&gt;</td>\n",
       "      <td>63812 &lt;PERSON&gt; Ranch Apt. 300\\nLowestad, NM &lt;D...</td>\n",
       "      <td>&lt;EMAIL_ADDRESS&gt;</td>\n",
       "      <td>&lt;DATE_TIME&gt;</td>\n",
       "    </tr>\n",
       "    <tr>\n",
       "      <th>3</th>\n",
       "      <td>Sloan PLC</td>\n",
       "      <td>&lt;US_SSN&gt;</td>\n",
       "      <td>&lt;PERSON&gt; Apt. 590\\nAlistad, &lt;LOCATION&gt; &lt;DATE_T...</td>\n",
       "      <td>['http://&lt;DOMAIN_NAME&gt;/', 'https://&lt;DOMAIN_NAM...</td>\n",
       "      <td>johnwilliams</td>\n",
       "      <td>&lt;PERSON&gt;</td>\n",
       "      <td>65461 Regina Mall Suite 517\\nSouth Benjaminbor...</td>\n",
       "      <td>&lt;EMAIL_ADDRESS&gt;</td>\n",
       "      <td>&lt;DATE_TIME&gt;</td>\n",
       "    </tr>\n",
       "    <tr>\n",
       "      <th>4</th>\n",
       "      <td>Smith LLC</td>\n",
       "      <td>&lt;US_SSN&gt;</td>\n",
       "      <td>PSC 9361, Box 5349\\nAPO AP 57022</td>\n",
       "      <td>['https://&lt;DOMAIN_NAME&gt;/']</td>\n",
       "      <td>&lt;PERSON&gt;</td>\n",
       "      <td>&lt;PERSON&gt;</td>\n",
       "      <td>Unit &lt;DATE_TIME&gt; Box 6875\\nDPO AP 65859</td>\n",
       "      <td>&lt;EMAIL_ADDRESS&gt;</td>\n",
       "      <td>&lt;DATE_TIME&gt;-12</td>\n",
       "    </tr>\n",
       "    <tr>\n",
       "      <th>5</th>\n",
       "      <td>&lt;PERSON&gt;, &lt;PERSON&gt; and Johnson</td>\n",
       "      <td>&lt;US_SSN&gt;</td>\n",
       "      <td>&lt;PERSON&gt;. 075\\nOwenhaven, &lt;LOCATION&gt; &lt;DATE_TIME&gt;</td>\n",
       "      <td>['https://&lt;DOMAIN_NAME&gt;/']</td>\n",
       "      <td>&lt;PERSON&gt;</td>\n",
       "      <td>&lt;PERSON&gt;</td>\n",
       "      <td>&lt;DATE_TIME&gt; Cook Mews Apt. 466\\nBrownfurt, IN ...</td>\n",
       "      <td>&lt;EMAIL_ADDRESS&gt;</td>\n",
       "      <td>&lt;DATE_TIME&gt;</td>\n",
       "    </tr>\n",
       "  </tbody>\n",
       "</table>\n",
       "</div>"
      ],
      "text/plain": [
       "                           company       ssn  \\\n",
       "0       Fisher, Green and <PERSON>  <US_SSN>   \n",
       "1  <PERSON>, <PERSON> and <PERSON>  <US_SSN>   \n",
       "2                         <PERSON>  <US_SSN>   \n",
       "3                        Sloan PLC  <US_SSN>   \n",
       "4                        Smith LLC  <US_SSN>   \n",
       "5   <PERSON>, <PERSON> and Johnson  <US_SSN>   \n",
       "\n",
       "                                           residence  \\\n",
       "0  24219 Archer Mountain Suite 924\\nNorth Melissa...   \n",
       "1  5330 <PERSON> Fields Suite 560\\nEast Heiditown...   \n",
       "2            PSC 5642, Box <DATE_TIME>\\nAPO AA 06490   \n",
       "3  <PERSON> Apt. 590\\nAlistad, <LOCATION> <DATE_T...   \n",
       "4                   PSC 9361, Box 5349\\nAPO AP 57022   \n",
       "5   <PERSON>. 075\\nOwenhaven, <LOCATION> <DATE_TIME>   \n",
       "\n",
       "                                             website      username      name  \\\n",
       "0  ['http://<DOMAIN_NAME>/', 'https://<DOMAIN_NAM...      <PERSON>  <PERSON>   \n",
       "1  ['https://<DOMAIN_NAME>/', 'http://<DOMAIN_NAM...      <PERSON>  <PERSON>   \n",
       "2  ['http://<DOMAIN_NAME>/', 'https://<DOMAIN_NAM...       karla07  <PERSON>   \n",
       "3  ['http://<DOMAIN_NAME>/', 'https://<DOMAIN_NAM...  johnwilliams  <PERSON>   \n",
       "4                         ['https://<DOMAIN_NAME>/']      <PERSON>  <PERSON>   \n",
       "5                         ['https://<DOMAIN_NAME>/']      <PERSON>  <PERSON>   \n",
       "\n",
       "                                             address             mail  \\\n",
       "0  <DATE_TIME> <PERSON> Apt. 471\\nLake Nancyside,...  <EMAIL_ADDRESS>   \n",
       "1  0916 <PERSON> Row\\n<US_DRIVER_LICENSE>, <LOCAT...  <EMAIL_ADDRESS>   \n",
       "2  63812 <PERSON> Ranch Apt. 300\\nLowestad, NM <D...  <EMAIL_ADDRESS>   \n",
       "3  65461 Regina Mall Suite 517\\nSouth Benjaminbor...  <EMAIL_ADDRESS>   \n",
       "4            Unit <DATE_TIME> Box 6875\\nDPO AP 65859  <EMAIL_ADDRESS>   \n",
       "5  <DATE_TIME> Cook Mews Apt. 466\\nBrownfurt, IN ...  <EMAIL_ADDRESS>   \n",
       "\n",
       "        birthdate  \n",
       "0     <DATE_TIME>  \n",
       "1     <DATE_TIME>  \n",
       "2     <DATE_TIME>  \n",
       "3     <DATE_TIME>  \n",
       "4  <DATE_TIME>-12  \n",
       "5     <DATE_TIME>  "
      ]
     },
     "metadata": {},
     "output_type": "display_data"
    },
    {
     "data": {
      "text/plain": [
       "<data_describe.privacy.detection.SensitiveDataWidget at 0x2a9bfb15308>"
      ]
     },
     "execution_count": 4,
     "metadata": {},
     "output_type": "execute_result"
    }
   ],
   "source": [
    "sensitive_data(df, mode='redact', sample_size=len(df))"
   ]
  },
  {
   "cell_type": "markdown",
   "metadata": {
    "papermill": {
     "duration": 0.014998,
     "end_time": "2020-10-29T02:59:52.285112",
     "exception": false,
     "start_time": "2020-10-29T02:59:52.270114",
     "status": "completed"
    },
    "tags": []
   },
   "source": [
    "## Redact sensitive data using selected columns"
   ]
  },
  {
   "cell_type": "code",
   "execution_count": 5,
   "metadata": {
    "execution": {
     "iopub.execute_input": "2020-10-29T02:59:52.324112Z",
     "iopub.status.busy": "2020-10-29T02:59:52.323113Z",
     "iopub.status.idle": "2020-10-29T03:00:12.741149Z",
     "shell.execute_reply": "2020-10-29T03:00:12.739150Z"
    },
    "papermill": {
     "duration": 20.441038,
     "end_time": "2020-10-29T03:00:12.741149",
     "exception": false,
     "start_time": "2020-10-29T02:59:52.300111",
     "status": "completed"
    },
    "tags": []
   },
   "outputs": [
    {
     "name": "stderr",
     "output_type": "stream",
     "text": [
      "INFO:presidio:nlp_engine not provided. Creating new SpacyNlpEngine instance\n"
     ]
    },
    {
     "name": "stderr",
     "output_type": "stream",
     "text": [
      "INFO:presidio:Loading NLP model: spaCy en_core_web_lg\n"
     ]
    },
    {
     "name": "stderr",
     "output_type": "stream",
     "text": [
      "INFO:presidio:\u001b[1m\n",
      "===================== Info about model 'en_core_web_lg' =====================\u001b[0m\n"
     ]
    },
    {
     "name": "stderr",
     "output_type": "stream",
     "text": [
      "INFO:presidio:\n",
      "lang             en                            \n",
      "name             core_web_lg                   \n",
      "license          MIT                           \n",
      "author           Explosion                     \n",
      "url              https://explosion.ai          \n",
      "email            contact@explosion.ai          \n",
      "description      English multi-task CNN trained on OntoNotes, with GloVe vectors trained on Common Crawl. Assigns word vectors, context-specific token vectors, POS tags, dependency parse and named entities.\n",
      "sources          [{'name': 'OntoNotes 5', 'url': 'https://catalog.ldc.upenn.edu/LDC2013T19', 'license': 'commercial (licensed by Explosion)'}, {'name': 'Common Crawl'}]\n",
      "pipeline         ['tagger', 'parser', 'ner']   \n",
      "version          2.2.0                         \n",
      "spacy_version    >=2.2.0                       \n",
      "parent_package   spacy                         \n",
      "labels           {'tagger': ['$', \"''\", ',', '-LRB-', '-RRB-', '.', ':', 'ADD', 'AFX', 'CC', 'CD', 'DT', 'EX', 'FW', 'HYPH', 'IN', 'JJ', 'JJR', 'JJS', 'LS', 'MD', 'NFP', 'NN', 'NNP', 'NNPS', 'NNS', 'PDT', 'POS', 'PRP', 'PRP$', 'RB', 'RBR', 'RBS', 'RP', 'SYM', 'TO', 'UH', 'VB', 'VBD', 'VBG', 'VBN', 'VBP', 'VBZ', 'WDT', 'WP', 'WP$', 'WRB', 'XX', '_SP', '``'], 'parser': ['ROOT', 'acl', 'acomp', 'advcl', 'advmod', 'agent', 'amod', 'appos', 'attr', 'aux', 'auxpass', 'case', 'cc', 'ccomp', 'compound', 'conj', 'csubj', 'csubjpass', 'dative', 'dep', 'det', 'dobj', 'expl', 'intj', 'mark', 'meta', 'neg', 'nmod', 'npadvmod', 'nsubj', 'nsubjpass', 'nummod', 'oprd', 'parataxis', 'pcomp', 'pobj', 'poss', 'preconj', 'predet', 'prep', 'prt', 'punct', 'quantmod', 'relcl', 'xcomp'], 'ner': ['CARDINAL', 'DATE', 'EVENT', 'FAC', 'GPE', 'LANGUAGE', 'LAW', 'LOC', 'MONEY', 'NORP', 'ORDINAL', 'ORG', 'PERCENT', 'PERSON', 'PRODUCT', 'QUANTITY', 'TIME', 'WORK_OF_ART']}\n",
      "vectors          {'width': 300, 'vectors': 684831, 'keys': 684830, 'name': 'en_core_web_lg.vectors'}\n",
      "source           C:\\Users\\David\\.conda\\envs\\test-env\\lib\\site-packages\\en_core_web_lg\n",
      "\n"
     ]
    },
    {
     "name": "stderr",
     "output_type": "stream",
     "text": [
      "INFO:presidio:Printing spaCy model and package details:\n",
      "\n",
      " {'lang': 'en', 'name': 'core_web_lg', 'license': 'MIT', 'author': 'Explosion', 'url': 'https://explosion.ai', 'email': 'contact@explosion.ai', 'description': 'English multi-task CNN trained on OntoNotes, with GloVe vectors trained on Common Crawl. Assigns word vectors, context-specific token vectors, POS tags, dependency parse and named entities.', 'sources': [{'name': 'OntoNotes 5', 'url': 'https://catalog.ldc.upenn.edu/LDC2013T19', 'license': 'commercial (licensed by Explosion)'}, {'name': 'Common Crawl'}], 'pipeline': ['tagger', 'parser', 'ner'], 'version': '2.2.0', 'spacy_version': '>=2.2.0', 'parent_package': 'spacy', 'accuracy': {'las': 90.1644260278, 'uas': 91.9835496082, 'token_acc': 99.7579930934, 'tags_acc': 97.2056522464, 'ents_f': 86.3045056111, 'ents_p': 86.217859334, 'ents_r': 86.391326217}, 'speed': {'cpu': 7127.1086034688, 'gpu': None, 'nwords': 291314}, 'labels': {'tagger': ['$', \"''\", ',', '-LRB-', '-RRB-', '.', ':', 'ADD', 'AFX', 'CC', 'CD', 'DT', 'EX', 'FW', 'HYPH', 'IN', 'JJ', 'JJR', 'JJS', 'LS', 'MD', 'NFP', 'NN', 'NNP', 'NNPS', 'NNS', 'PDT', 'POS', 'PRP', 'PRP$', 'RB', 'RBR', 'RBS', 'RP', 'SYM', 'TO', 'UH', 'VB', 'VBD', 'VBG', 'VBN', 'VBP', 'VBZ', 'WDT', 'WP', 'WP$', 'WRB', 'XX', '_SP', '``'], 'parser': ['ROOT', 'acl', 'acomp', 'advcl', 'advmod', 'agent', 'amod', 'appos', 'attr', 'aux', 'auxpass', 'case', 'cc', 'ccomp', 'compound', 'conj', 'csubj', 'csubjpass', 'dative', 'dep', 'det', 'dobj', 'expl', 'intj', 'mark', 'meta', 'neg', 'nmod', 'npadvmod', 'nsubj', 'nsubjpass', 'nummod', 'oprd', 'parataxis', 'pcomp', 'pobj', 'poss', 'preconj', 'predet', 'prep', 'prt', 'punct', 'quantmod', 'relcl', 'xcomp'], 'ner': ['CARDINAL', 'DATE', 'EVENT', 'FAC', 'GPE', 'LANGUAGE', 'LAW', 'LOC', 'MONEY', 'NORP', 'ORDINAL', 'ORG', 'PERCENT', 'PERSON', 'PRODUCT', 'QUANTITY', 'TIME', 'WORK_OF_ART']}, 'vectors': {'width': 300, 'vectors': 684831, 'keys': 684830, 'name': 'en_core_web_lg.vectors'}, 'source': 'C:\\\\Users\\\\David\\\\.conda\\\\envs\\\\test-env\\\\lib\\\\site-packages\\\\en_core_web_lg'}\n",
      "\n",
      "\n"
     ]
    },
    {
     "name": "stderr",
     "output_type": "stream",
     "text": [
      "INFO:presidio:Recognizer registry not provided. Creating default RecognizerRegistry instance\n"
     ]
    },
    {
     "name": "stderr",
     "output_type": "stream",
     "text": [
      "INFO:presidio:Loaded recognizer: CreditCardRecognizer\n"
     ]
    },
    {
     "name": "stderr",
     "output_type": "stream",
     "text": [
      "INFO:presidio:Loaded recognizer: CryptoRecognizer\n"
     ]
    },
    {
     "name": "stderr",
     "output_type": "stream",
     "text": [
      "INFO:presidio:Loaded recognizer: DomainRecognizer\n"
     ]
    },
    {
     "name": "stderr",
     "output_type": "stream",
     "text": [
      "INFO:presidio:Loaded recognizer: EmailRecognizer\n"
     ]
    },
    {
     "name": "stderr",
     "output_type": "stream",
     "text": [
      "INFO:presidio:Loaded recognizer: IbanRecognizer\n"
     ]
    },
    {
     "name": "stderr",
     "output_type": "stream",
     "text": [
      "INFO:presidio:Loaded recognizer: IpRecognizer\n"
     ]
    },
    {
     "name": "stderr",
     "output_type": "stream",
     "text": [
      "INFO:presidio:Loaded recognizer: NhsRecognizer\n"
     ]
    },
    {
     "name": "stderr",
     "output_type": "stream",
     "text": [
      "INFO:presidio:Loaded recognizer: UsBankRecognizer\n"
     ]
    },
    {
     "name": "stderr",
     "output_type": "stream",
     "text": [
      "INFO:presidio:Loaded recognizer: UsLicenseRecognizer\n"
     ]
    },
    {
     "name": "stderr",
     "output_type": "stream",
     "text": [
      "INFO:presidio:Loaded recognizer: UsItinRecognizer\n"
     ]
    },
    {
     "name": "stderr",
     "output_type": "stream",
     "text": [
      "INFO:presidio:Loaded recognizer: UsPassportRecognizer\n"
     ]
    },
    {
     "name": "stderr",
     "output_type": "stream",
     "text": [
      "INFO:presidio:Loaded recognizer: UsPhoneRecognizer\n"
     ]
    },
    {
     "name": "stderr",
     "output_type": "stream",
     "text": [
      "INFO:presidio:Loaded recognizer: UsSsnRecognizer\n"
     ]
    },
    {
     "name": "stderr",
     "output_type": "stream",
     "text": [
      "INFO:presidio:Loaded recognizer: SpacyRecognizer\n"
     ]
    },
    {
     "name": "stderr",
     "output_type": "stream",
     "text": [
      "INFO:presidio:Loaded recognizer: SgFinRecognizer\n"
     ]
    },
    {
     "data": {
      "text/html": [
       "<div>\n",
       "<style scoped>\n",
       "    .dataframe tbody tr th:only-of-type {\n",
       "        vertical-align: middle;\n",
       "    }\n",
       "\n",
       "    .dataframe tbody tr th {\n",
       "        vertical-align: top;\n",
       "    }\n",
       "\n",
       "    .dataframe thead th {\n",
       "        text-align: right;\n",
       "    }\n",
       "</style>\n",
       "<table border=\"1\" class=\"dataframe\">\n",
       "  <thead>\n",
       "    <tr style=\"text-align: right;\">\n",
       "      <th></th>\n",
       "      <th>birthdate</th>\n",
       "      <th>mail</th>\n",
       "      <th>ssn</th>\n",
       "    </tr>\n",
       "  </thead>\n",
       "  <tbody>\n",
       "    <tr>\n",
       "      <th>0</th>\n",
       "      <td>&lt;DATE_TIME&gt;</td>\n",
       "      <td>&lt;EMAIL_ADDRESS&gt;</td>\n",
       "      <td>&lt;US_SSN&gt;</td>\n",
       "    </tr>\n",
       "    <tr>\n",
       "      <th>1</th>\n",
       "      <td>&lt;DATE_TIME&gt;</td>\n",
       "      <td>&lt;EMAIL_ADDRESS&gt;</td>\n",
       "      <td>&lt;US_SSN&gt;</td>\n",
       "    </tr>\n",
       "    <tr>\n",
       "      <th>2</th>\n",
       "      <td>&lt;DATE_TIME&gt;</td>\n",
       "      <td>&lt;EMAIL_ADDRESS&gt;</td>\n",
       "      <td>&lt;US_SSN&gt;</td>\n",
       "    </tr>\n",
       "    <tr>\n",
       "      <th>3</th>\n",
       "      <td>&lt;DATE_TIME&gt;</td>\n",
       "      <td>&lt;EMAIL_ADDRESS&gt;</td>\n",
       "      <td>&lt;US_SSN&gt;</td>\n",
       "    </tr>\n",
       "    <tr>\n",
       "      <th>4</th>\n",
       "      <td>&lt;DATE_TIME&gt;-12</td>\n",
       "      <td>&lt;EMAIL_ADDRESS&gt;</td>\n",
       "      <td>&lt;US_SSN&gt;</td>\n",
       "    </tr>\n",
       "    <tr>\n",
       "      <th>5</th>\n",
       "      <td>&lt;DATE_TIME&gt;</td>\n",
       "      <td>&lt;EMAIL_ADDRESS&gt;</td>\n",
       "      <td>&lt;US_SSN&gt;</td>\n",
       "    </tr>\n",
       "  </tbody>\n",
       "</table>\n",
       "</div>"
      ],
      "text/plain": [
       "        birthdate             mail       ssn\n",
       "0     <DATE_TIME>  <EMAIL_ADDRESS>  <US_SSN>\n",
       "1     <DATE_TIME>  <EMAIL_ADDRESS>  <US_SSN>\n",
       "2     <DATE_TIME>  <EMAIL_ADDRESS>  <US_SSN>\n",
       "3     <DATE_TIME>  <EMAIL_ADDRESS>  <US_SSN>\n",
       "4  <DATE_TIME>-12  <EMAIL_ADDRESS>  <US_SSN>\n",
       "5     <DATE_TIME>  <EMAIL_ADDRESS>  <US_SSN>"
      ]
     },
     "metadata": {},
     "output_type": "display_data"
    },
    {
     "data": {
      "text/plain": [
       "<data_describe.privacy.detection.SensitiveDataWidget at 0x2aa0d48a5c8>"
      ]
     },
     "execution_count": 5,
     "metadata": {},
     "output_type": "execute_result"
    }
   ],
   "source": [
    "sensitive_data(df, mode=\"redact\", columns=[\"birthdate\", \"mail\", \"ssn\"], sample_size=len(df), detect_infotypes=True)"
   ]
  },
  {
   "cell_type": "markdown",
   "metadata": {
    "papermill": {
     "duration": 0.021977,
     "end_time": "2020-10-29T03:00:12.786122",
     "exception": false,
     "start_time": "2020-10-29T03:00:12.764145",
     "status": "completed"
    },
    "tags": []
   },
   "source": [
    "## Encrypt Data"
   ]
  },
  {
   "cell_type": "code",
   "execution_count": 6,
   "metadata": {
    "execution": {
     "iopub.execute_input": "2020-10-29T03:00:12.867155Z",
     "iopub.status.busy": "2020-10-29T03:00:12.863157Z",
     "iopub.status.idle": "2020-10-29T03:00:32.323328Z",
     "shell.execute_reply": "2020-10-29T03:00:32.323328Z"
    },
    "papermill": {
     "duration": 19.516197,
     "end_time": "2020-10-29T03:00:32.324321",
     "exception": false,
     "start_time": "2020-10-29T03:00:12.808124",
     "status": "completed"
    },
    "tags": []
   },
   "outputs": [
    {
     "name": "stderr",
     "output_type": "stream",
     "text": [
      "INFO:presidio:nlp_engine not provided. Creating new SpacyNlpEngine instance\n"
     ]
    },
    {
     "name": "stderr",
     "output_type": "stream",
     "text": [
      "INFO:presidio:Loading NLP model: spaCy en_core_web_lg\n"
     ]
    },
    {
     "name": "stderr",
     "output_type": "stream",
     "text": [
      "INFO:presidio:\u001b[1m\n",
      "===================== Info about model 'en_core_web_lg' =====================\u001b[0m\n"
     ]
    },
    {
     "name": "stderr",
     "output_type": "stream",
     "text": [
      "INFO:presidio:\n",
      "lang             en                            \n",
      "name             core_web_lg                   \n",
      "license          MIT                           \n",
      "author           Explosion                     \n",
      "url              https://explosion.ai          \n",
      "email            contact@explosion.ai          \n",
      "description      English multi-task CNN trained on OntoNotes, with GloVe vectors trained on Common Crawl. Assigns word vectors, context-specific token vectors, POS tags, dependency parse and named entities.\n",
      "sources          [{'name': 'OntoNotes 5', 'url': 'https://catalog.ldc.upenn.edu/LDC2013T19', 'license': 'commercial (licensed by Explosion)'}, {'name': 'Common Crawl'}]\n",
      "pipeline         ['tagger', 'parser', 'ner']   \n",
      "version          2.2.0                         \n",
      "spacy_version    >=2.2.0                       \n",
      "parent_package   spacy                         \n",
      "labels           {'tagger': ['$', \"''\", ',', '-LRB-', '-RRB-', '.', ':', 'ADD', 'AFX', 'CC', 'CD', 'DT', 'EX', 'FW', 'HYPH', 'IN', 'JJ', 'JJR', 'JJS', 'LS', 'MD', 'NFP', 'NN', 'NNP', 'NNPS', 'NNS', 'PDT', 'POS', 'PRP', 'PRP$', 'RB', 'RBR', 'RBS', 'RP', 'SYM', 'TO', 'UH', 'VB', 'VBD', 'VBG', 'VBN', 'VBP', 'VBZ', 'WDT', 'WP', 'WP$', 'WRB', 'XX', '_SP', '``'], 'parser': ['ROOT', 'acl', 'acomp', 'advcl', 'advmod', 'agent', 'amod', 'appos', 'attr', 'aux', 'auxpass', 'case', 'cc', 'ccomp', 'compound', 'conj', 'csubj', 'csubjpass', 'dative', 'dep', 'det', 'dobj', 'expl', 'intj', 'mark', 'meta', 'neg', 'nmod', 'npadvmod', 'nsubj', 'nsubjpass', 'nummod', 'oprd', 'parataxis', 'pcomp', 'pobj', 'poss', 'preconj', 'predet', 'prep', 'prt', 'punct', 'quantmod', 'relcl', 'xcomp'], 'ner': ['CARDINAL', 'DATE', 'EVENT', 'FAC', 'GPE', 'LANGUAGE', 'LAW', 'LOC', 'MONEY', 'NORP', 'ORDINAL', 'ORG', 'PERCENT', 'PERSON', 'PRODUCT', 'QUANTITY', 'TIME', 'WORK_OF_ART']}\n",
      "vectors          {'width': 300, 'vectors': 684831, 'keys': 684830, 'name': 'en_core_web_lg.vectors'}\n",
      "source           C:\\Users\\David\\.conda\\envs\\test-env\\lib\\site-packages\\en_core_web_lg\n",
      "\n"
     ]
    },
    {
     "name": "stderr",
     "output_type": "stream",
     "text": [
      "INFO:presidio:Printing spaCy model and package details:\n",
      "\n",
      " {'lang': 'en', 'name': 'core_web_lg', 'license': 'MIT', 'author': 'Explosion', 'url': 'https://explosion.ai', 'email': 'contact@explosion.ai', 'description': 'English multi-task CNN trained on OntoNotes, with GloVe vectors trained on Common Crawl. Assigns word vectors, context-specific token vectors, POS tags, dependency parse and named entities.', 'sources': [{'name': 'OntoNotes 5', 'url': 'https://catalog.ldc.upenn.edu/LDC2013T19', 'license': 'commercial (licensed by Explosion)'}, {'name': 'Common Crawl'}], 'pipeline': ['tagger', 'parser', 'ner'], 'version': '2.2.0', 'spacy_version': '>=2.2.0', 'parent_package': 'spacy', 'accuracy': {'las': 90.1644260278, 'uas': 91.9835496082, 'token_acc': 99.7579930934, 'tags_acc': 97.2056522464, 'ents_f': 86.3045056111, 'ents_p': 86.217859334, 'ents_r': 86.391326217}, 'speed': {'cpu': 7127.1086034688, 'gpu': None, 'nwords': 291314}, 'labels': {'tagger': ['$', \"''\", ',', '-LRB-', '-RRB-', '.', ':', 'ADD', 'AFX', 'CC', 'CD', 'DT', 'EX', 'FW', 'HYPH', 'IN', 'JJ', 'JJR', 'JJS', 'LS', 'MD', 'NFP', 'NN', 'NNP', 'NNPS', 'NNS', 'PDT', 'POS', 'PRP', 'PRP$', 'RB', 'RBR', 'RBS', 'RP', 'SYM', 'TO', 'UH', 'VB', 'VBD', 'VBG', 'VBN', 'VBP', 'VBZ', 'WDT', 'WP', 'WP$', 'WRB', 'XX', '_SP', '``'], 'parser': ['ROOT', 'acl', 'acomp', 'advcl', 'advmod', 'agent', 'amod', 'appos', 'attr', 'aux', 'auxpass', 'case', 'cc', 'ccomp', 'compound', 'conj', 'csubj', 'csubjpass', 'dative', 'dep', 'det', 'dobj', 'expl', 'intj', 'mark', 'meta', 'neg', 'nmod', 'npadvmod', 'nsubj', 'nsubjpass', 'nummod', 'oprd', 'parataxis', 'pcomp', 'pobj', 'poss', 'preconj', 'predet', 'prep', 'prt', 'punct', 'quantmod', 'relcl', 'xcomp'], 'ner': ['CARDINAL', 'DATE', 'EVENT', 'FAC', 'GPE', 'LANGUAGE', 'LAW', 'LOC', 'MONEY', 'NORP', 'ORDINAL', 'ORG', 'PERCENT', 'PERSON', 'PRODUCT', 'QUANTITY', 'TIME', 'WORK_OF_ART']}, 'vectors': {'width': 300, 'vectors': 684831, 'keys': 684830, 'name': 'en_core_web_lg.vectors'}, 'source': 'C:\\\\Users\\\\David\\\\.conda\\\\envs\\\\test-env\\\\lib\\\\site-packages\\\\en_core_web_lg'}\n",
      "\n",
      "\n"
     ]
    },
    {
     "name": "stderr",
     "output_type": "stream",
     "text": [
      "INFO:presidio:Recognizer registry not provided. Creating default RecognizerRegistry instance\n"
     ]
    },
    {
     "name": "stderr",
     "output_type": "stream",
     "text": [
      "INFO:presidio:Loaded recognizer: CreditCardRecognizer\n"
     ]
    },
    {
     "name": "stderr",
     "output_type": "stream",
     "text": [
      "INFO:presidio:Loaded recognizer: CryptoRecognizer\n"
     ]
    },
    {
     "name": "stderr",
     "output_type": "stream",
     "text": [
      "INFO:presidio:Loaded recognizer: DomainRecognizer\n"
     ]
    },
    {
     "name": "stderr",
     "output_type": "stream",
     "text": [
      "INFO:presidio:Loaded recognizer: EmailRecognizer\n"
     ]
    },
    {
     "name": "stderr",
     "output_type": "stream",
     "text": [
      "INFO:presidio:Loaded recognizer: IbanRecognizer\n"
     ]
    },
    {
     "name": "stderr",
     "output_type": "stream",
     "text": [
      "INFO:presidio:Loaded recognizer: IpRecognizer\n"
     ]
    },
    {
     "name": "stderr",
     "output_type": "stream",
     "text": [
      "INFO:presidio:Loaded recognizer: NhsRecognizer\n"
     ]
    },
    {
     "name": "stderr",
     "output_type": "stream",
     "text": [
      "INFO:presidio:Loaded recognizer: UsBankRecognizer\n"
     ]
    },
    {
     "name": "stderr",
     "output_type": "stream",
     "text": [
      "INFO:presidio:Loaded recognizer: UsLicenseRecognizer\n"
     ]
    },
    {
     "name": "stderr",
     "output_type": "stream",
     "text": [
      "INFO:presidio:Loaded recognizer: UsItinRecognizer\n"
     ]
    },
    {
     "name": "stderr",
     "output_type": "stream",
     "text": [
      "INFO:presidio:Loaded recognizer: UsPassportRecognizer\n"
     ]
    },
    {
     "name": "stderr",
     "output_type": "stream",
     "text": [
      "INFO:presidio:Loaded recognizer: UsPhoneRecognizer\n"
     ]
    },
    {
     "name": "stderr",
     "output_type": "stream",
     "text": [
      "INFO:presidio:Loaded recognizer: UsSsnRecognizer\n"
     ]
    },
    {
     "name": "stderr",
     "output_type": "stream",
     "text": [
      "INFO:presidio:Loaded recognizer: SpacyRecognizer\n"
     ]
    },
    {
     "name": "stderr",
     "output_type": "stream",
     "text": [
      "INFO:presidio:Loaded recognizer: SgFinRecognizer\n"
     ]
    },
    {
     "data": {
      "text/html": [
       "<div>\n",
       "<style scoped>\n",
       "    .dataframe tbody tr th:only-of-type {\n",
       "        vertical-align: middle;\n",
       "    }\n",
       "\n",
       "    .dataframe tbody tr th {\n",
       "        vertical-align: top;\n",
       "    }\n",
       "\n",
       "    .dataframe thead th {\n",
       "        text-align: right;\n",
       "    }\n",
       "</style>\n",
       "<table border=\"1\" class=\"dataframe\">\n",
       "  <thead>\n",
       "    <tr style=\"text-align: right;\">\n",
       "      <th></th>\n",
       "      <th>company</th>\n",
       "      <th>ssn</th>\n",
       "      <th>residence</th>\n",
       "      <th>website</th>\n",
       "      <th>username</th>\n",
       "      <th>name</th>\n",
       "      <th>address</th>\n",
       "      <th>mail</th>\n",
       "      <th>birthdate</th>\n",
       "    </tr>\n",
       "  </thead>\n",
       "  <tbody>\n",
       "    <tr>\n",
       "      <th>0</th>\n",
       "      <td>Fisher, Green and 7e0b7a468d5cbb313ac238ae4942...</td>\n",
       "      <td>9fc2a689acf5f89d888c7acb3d43add7c4ddb320ca0fe0...</td>\n",
       "      <td>24219 Archer Mountain Suite 924\\nNorth Melissa...</td>\n",
       "      <td>['http://7f6bcdcd8eb28186cd2bd93cdd66bf2abba0f...</td>\n",
       "      <td>83238faab748c22d8d84203bae0628716e31bd00891ecc...</td>\n",
       "      <td>779b878ad9f68899e5de5daac8322dd5b3a3991b10e3ed...</td>\n",
       "      <td>26f70e334556abc2841f5312a9984aa9a7f21b1924015d...</td>\n",
       "      <td>b43ca3c683dabab5b42fee6181836eeea80dad950c1428...</td>\n",
       "      <td>bd4b000796139f1fe01d62a9e6ccc8d50c8ca861fedd9c...</td>\n",
       "    </tr>\n",
       "    <tr>\n",
       "      <th>1</th>\n",
       "      <td>76364d81ab4c1832d9181572cc0d408f7bdd3900a61113...</td>\n",
       "      <td>567e4a168b80d74c435b22ec74bf56f52d1480372ee3db...</td>\n",
       "      <td>5330 fb7961d139e4da12af18c24571a166fb77c391a15...</td>\n",
       "      <td>['https://b5e885e576b91d7f332cecd36e1078e1c8ff...</td>\n",
       "      <td>cf7bfbcaf80510fb918e37ad52ff7e9b59e86308a7e9c5...</td>\n",
       "      <td>b79d0309ea6eb45b8e8dee995c996184641de208262b0b...</td>\n",
       "      <td>0916 f089eaef57aba315bc0e1455985c0c8e40c247f07...</td>\n",
       "      <td>42ea5e56df211dbed485dc611277fe0932bb3139c4815e...</td>\n",
       "      <td>7e7bebf19314f96de0b1231c7c89627c3a87dd110c2614...</td>\n",
       "    </tr>\n",
       "    <tr>\n",
       "      <th>2</th>\n",
       "      <td>4bf5f01b21094aceb8d03ea384cc90e0c163898704dc2b...</td>\n",
       "      <td>06f11d164b97a22cd2a3a2a1a1b6df50268a8a21ee8a97...</td>\n",
       "      <td>PSC 5642, Box e58bb6dcf3948e6c37eefaf185c769e0...</td>\n",
       "      <td>['http://7aad9afb51f77260b55915f74a5498b5850cc...</td>\n",
       "      <td>karla07</td>\n",
       "      <td>08471f7bf132fdfb2a1a9ad7529fca6942425dc9d32834...</td>\n",
       "      <td>63812 6f005a18689861aa2634b7a3155a148a56fcd272...</td>\n",
       "      <td>4ca073222470748ed4fb77ad0011402af414dd561cd645...</td>\n",
       "      <td>1b739ba212c2fec7848fbe6cffeffeb2f3737f40748542...</td>\n",
       "    </tr>\n",
       "    <tr>\n",
       "      <th>3</th>\n",
       "      <td>Sloan PLC</td>\n",
       "      <td>e7ed1ca0c627c7e1928f4a969225b761133dfb3d9f687f...</td>\n",
       "      <td>2ebf4a7fdd9a4209fd1b52d9b672bccbf65e196f62169f...</td>\n",
       "      <td>['http://587d2a51617478f91f145b2b261629d100768...</td>\n",
       "      <td>johnwilliams</td>\n",
       "      <td>29b8f8f54a0405dc20c84f25d2344ddb3fa644459453c1...</td>\n",
       "      <td>65461 Regina Mall Suite 517\\nSouth Benjaminbor...</td>\n",
       "      <td>14080d914340529a7af82567e749c5443108be5b9b945e...</td>\n",
       "      <td>8ce998bb9305cb1a1f92f8ce0b17261280cee95c3b4ec6...</td>\n",
       "    </tr>\n",
       "    <tr>\n",
       "      <th>4</th>\n",
       "      <td>Smith LLC</td>\n",
       "      <td>6c2264d952abb164d584bb7eba89cf41f94fbba413208c...</td>\n",
       "      <td>PSC 9361, Box 5349\\nAPO AP 57022</td>\n",
       "      <td>['https://68bd3a706676d6fbfffbde3da0c7da6164da...</td>\n",
       "      <td>66565c13d4869eda2a02c506c1b3d7e65c769ac209bd00...</td>\n",
       "      <td>070f7870e5befe421c6dd0e1fd941a34d877b6b4758b90...</td>\n",
       "      <td>Unit 63bfc4219c16f9ba618b6b76d81edef58b912ca65...</td>\n",
       "      <td>66d6d0dac0ba4a8f0e415c24d87448f6d100cb11083f18...</td>\n",
       "      <td>e80ef1d1d41d0b4b0bc14a77236ee6018cc31db6e9aa07...</td>\n",
       "    </tr>\n",
       "    <tr>\n",
       "      <th>5</th>\n",
       "      <td>71f90b7c03aad530eafa769b2ad97cb333ca6dd455fce1...</td>\n",
       "      <td>2d982e60214173e9d9dcace8376a3b33e224374465e289...</td>\n",
       "      <td>824d23478ea9d0d571699e83112a567183dbfde775f2f4...</td>\n",
       "      <td>['https://3328a0e4658c855acde71f8d85e98eac5d63...</td>\n",
       "      <td>eb0f1bd37f4ba7e4ecb33aeec2423538e088530eff1cea...</td>\n",
       "      <td>3b4cef0bb0914adbe31e209262f261589133e5a90f1788...</td>\n",
       "      <td>912b3255f7a8016fbf71bd4b2f7ffb646945200bb4b63c...</td>\n",
       "      <td>731feae7800d583626f6fe1ffda859e274ba4f7813c223...</td>\n",
       "      <td>a8f11f485ed632115deb5cccd3d251ec901c445c6896d7...</td>\n",
       "    </tr>\n",
       "  </tbody>\n",
       "</table>\n",
       "</div>"
      ],
      "text/plain": [
       "                                             company  \\\n",
       "0  Fisher, Green and 7e0b7a468d5cbb313ac238ae4942...   \n",
       "1  76364d81ab4c1832d9181572cc0d408f7bdd3900a61113...   \n",
       "2  4bf5f01b21094aceb8d03ea384cc90e0c163898704dc2b...   \n",
       "3                                          Sloan PLC   \n",
       "4                                          Smith LLC   \n",
       "5  71f90b7c03aad530eafa769b2ad97cb333ca6dd455fce1...   \n",
       "\n",
       "                                                 ssn  \\\n",
       "0  9fc2a689acf5f89d888c7acb3d43add7c4ddb320ca0fe0...   \n",
       "1  567e4a168b80d74c435b22ec74bf56f52d1480372ee3db...   \n",
       "2  06f11d164b97a22cd2a3a2a1a1b6df50268a8a21ee8a97...   \n",
       "3  e7ed1ca0c627c7e1928f4a969225b761133dfb3d9f687f...   \n",
       "4  6c2264d952abb164d584bb7eba89cf41f94fbba413208c...   \n",
       "5  2d982e60214173e9d9dcace8376a3b33e224374465e289...   \n",
       "\n",
       "                                           residence  \\\n",
       "0  24219 Archer Mountain Suite 924\\nNorth Melissa...   \n",
       "1  5330 fb7961d139e4da12af18c24571a166fb77c391a15...   \n",
       "2  PSC 5642, Box e58bb6dcf3948e6c37eefaf185c769e0...   \n",
       "3  2ebf4a7fdd9a4209fd1b52d9b672bccbf65e196f62169f...   \n",
       "4                   PSC 9361, Box 5349\\nAPO AP 57022   \n",
       "5  824d23478ea9d0d571699e83112a567183dbfde775f2f4...   \n",
       "\n",
       "                                             website  \\\n",
       "0  ['http://7f6bcdcd8eb28186cd2bd93cdd66bf2abba0f...   \n",
       "1  ['https://b5e885e576b91d7f332cecd36e1078e1c8ff...   \n",
       "2  ['http://7aad9afb51f77260b55915f74a5498b5850cc...   \n",
       "3  ['http://587d2a51617478f91f145b2b261629d100768...   \n",
       "4  ['https://68bd3a706676d6fbfffbde3da0c7da6164da...   \n",
       "5  ['https://3328a0e4658c855acde71f8d85e98eac5d63...   \n",
       "\n",
       "                                            username  \\\n",
       "0  83238faab748c22d8d84203bae0628716e31bd00891ecc...   \n",
       "1  cf7bfbcaf80510fb918e37ad52ff7e9b59e86308a7e9c5...   \n",
       "2                                            karla07   \n",
       "3                                       johnwilliams   \n",
       "4  66565c13d4869eda2a02c506c1b3d7e65c769ac209bd00...   \n",
       "5  eb0f1bd37f4ba7e4ecb33aeec2423538e088530eff1cea...   \n",
       "\n",
       "                                                name  \\\n",
       "0  779b878ad9f68899e5de5daac8322dd5b3a3991b10e3ed...   \n",
       "1  b79d0309ea6eb45b8e8dee995c996184641de208262b0b...   \n",
       "2  08471f7bf132fdfb2a1a9ad7529fca6942425dc9d32834...   \n",
       "3  29b8f8f54a0405dc20c84f25d2344ddb3fa644459453c1...   \n",
       "4  070f7870e5befe421c6dd0e1fd941a34d877b6b4758b90...   \n",
       "5  3b4cef0bb0914adbe31e209262f261589133e5a90f1788...   \n",
       "\n",
       "                                             address  \\\n",
       "0  26f70e334556abc2841f5312a9984aa9a7f21b1924015d...   \n",
       "1  0916 f089eaef57aba315bc0e1455985c0c8e40c247f07...   \n",
       "2  63812 6f005a18689861aa2634b7a3155a148a56fcd272...   \n",
       "3  65461 Regina Mall Suite 517\\nSouth Benjaminbor...   \n",
       "4  Unit 63bfc4219c16f9ba618b6b76d81edef58b912ca65...   \n",
       "5  912b3255f7a8016fbf71bd4b2f7ffb646945200bb4b63c...   \n",
       "\n",
       "                                                mail  \\\n",
       "0  b43ca3c683dabab5b42fee6181836eeea80dad950c1428...   \n",
       "1  42ea5e56df211dbed485dc611277fe0932bb3139c4815e...   \n",
       "2  4ca073222470748ed4fb77ad0011402af414dd561cd645...   \n",
       "3  14080d914340529a7af82567e749c5443108be5b9b945e...   \n",
       "4  66d6d0dac0ba4a8f0e415c24d87448f6d100cb11083f18...   \n",
       "5  731feae7800d583626f6fe1ffda859e274ba4f7813c223...   \n",
       "\n",
       "                                           birthdate  \n",
       "0  bd4b000796139f1fe01d62a9e6ccc8d50c8ca861fedd9c...  \n",
       "1  7e7bebf19314f96de0b1231c7c89627c3a87dd110c2614...  \n",
       "2  1b739ba212c2fec7848fbe6cffeffeb2f3737f40748542...  \n",
       "3  8ce998bb9305cb1a1f92f8ce0b17261280cee95c3b4ec6...  \n",
       "4  e80ef1d1d41d0b4b0bc14a77236ee6018cc31db6e9aa07...  \n",
       "5  a8f11f485ed632115deb5cccd3d251ec901c445c6896d7...  "
      ]
     },
     "metadata": {},
     "output_type": "display_data"
    },
    {
     "data": {
      "text/plain": [
       "<data_describe.privacy.detection.SensitiveDataWidget at 0x2aa6fb3a888>"
      ]
     },
     "execution_count": 6,
     "metadata": {},
     "output_type": "execute_result"
    }
   ],
   "source": [
    "# encrypt with SHA256\n",
    "sensitivewidget = sensitive_data(df, mode=\"encrypt\", sample_size=len(df))\n",
    "sensitivewidget"
   ]
  },
  {
   "cell_type": "markdown",
   "metadata": {
    "papermill": {
     "duration": 0.035001,
     "end_time": "2020-10-29T03:00:32.405293",
     "exception": false,
     "start_time": "2020-10-29T03:00:32.370292",
     "status": "completed"
    },
    "tags": []
   },
   "source": [
    "## Identify infotypes in each column"
   ]
  },
  {
   "cell_type": "code",
   "execution_count": 7,
   "metadata": {
    "execution": {
     "iopub.execute_input": "2020-10-29T03:00:32.490296Z",
     "iopub.status.busy": "2020-10-29T03:00:32.489305Z",
     "iopub.status.idle": "2020-10-29T03:00:32.495319Z",
     "shell.execute_reply": "2020-10-29T03:00:32.495319Z"
    },
    "papermill": {
     "duration": 0.052026,
     "end_time": "2020-10-29T03:00:32.496319",
     "exception": false,
     "start_time": "2020-10-29T03:00:32.444293",
     "status": "completed"
    },
    "tags": []
   },
   "outputs": [
    {
     "data": {
      "text/plain": [
       "{'company': ['PERSON'],\n",
       " 'ssn': ['US_SSN'],\n",
       " 'residence': ['DATE_TIME', 'LOCATION', 'PERSON'],\n",
       " 'website': ['DOMAIN_NAME', 'PERSON'],\n",
       " 'username': ['PERSON'],\n",
       " 'name': ['PERSON'],\n",
       " 'address': ['DATE_TIME', 'LOCATION', 'PERSON', 'US_DRIVER_LICENSE'],\n",
       " 'mail': ['DOMAIN_NAME', 'EMAIL_ADDRESS'],\n",
       " 'birthdate': ['DATE_TIME']}"
      ]
     },
     "execution_count": 7,
     "metadata": {},
     "output_type": "execute_result"
    }
   ],
   "source": [
    "sensitivewidget.infotypes"
   ]
  }
 ],
 "metadata": {
  "kernelspec": {
   "display_name": "Python 3",
   "language": "python",
   "name": "python3"
  },
  "language_info": {
   "codemirror_mode": {
    "name": "ipython",
    "version": 3
   },
   "file_extension": ".py",
   "mimetype": "text/x-python",
   "name": "python",
   "nbconvert_exporter": "python",
   "pygments_lexer": "ipython3",
   "version": "3.7.9"
  },
  "papermill": {
   "duration": 72.116237,
   "end_time": "2020-10-29T03:00:38.578100",
   "environment_variables": {},
   "exception": null,
   "input_path": "C:\\workspace\\data-describe\\examples\\Sensitive_Data.ipynb",
   "output_path": "C:\\workspace\\data-describe\\examples\\Sensitive_Data.ipynb",
   "parameters": {},
   "start_time": "2020-10-29T02:59:26.461863",
   "version": "2.1.2"
  }
 },
 "nbformat": 4,
 "nbformat_minor": 4
}
