{
 "cells": [
  {
   "cell_type": "markdown",
   "metadata": {},
   "source": [
    "# Contributing Guide\n",
    "\n",
    "## Python Developer Setup\n",
    "\n",
    "We recommend the following setup for Python development when contributing to data-describe:\n",
    "\n",
    "- [VS Code](https://code.visualstudio.com/)\n",
    "    - Extensions:\n",
    "        - ms-python.python\n",
    "        - njpwerner.autodocstring\n",
    "- Conda\n",
    "    - [Miniconda](https://docs.conda.io/en/latest/miniconda.html)\n",
    "\n",
    "To create a new conda environment for development, run:\n",
    "\n",
    "```\n",
    "conda create -n test-env\n",
    "conda env update -n test-env -f etc/test-environment.yml\n",
    "```\n",
    "\n",
    "### Pre-commit\n",
    "[Pre-commit](https://pre-commit.com/) is also recommended for running linting and style checks. To install pre-commit:\n",
    "```\n",
    "pip install pre-commit\n",
    "pre-commit install\n",
    "```\n",
    "\n",
    "The checks will now run on commit.\n",
    "\n"
   ]
  }
 ],
 "metadata": {
  "language_info": {
   "codemirror_mode": {
    "name": "ipython",
    "version": 3
   },
   "file_extension": ".py",
   "mimetype": "text/x-python",
   "name": "python",
   "nbconvert_exporter": "python",
   "pygments_lexer": "ipython3",
   "version": "3.7.7-final"
  },
  "orig_nbformat": 2,
  "kernelspec": {
   "name": "python37764bitpy37condae6d79ff826904d208465fd2826a58149",
   "display_name": "Python 3.7.7 64-bit ('py37': conda)"
  }
 },
 "nbformat": 4,
 "nbformat_minor": 2
}