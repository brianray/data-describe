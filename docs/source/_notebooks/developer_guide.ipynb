{
 "metadata": {
  "language_info": {
   "codemirror_mode": {
    "name": "ipython",
    "version": 3
   },
   "file_extension": ".py",
   "mimetype": "text/x-python",
   "name": "python",
   "nbconvert_exporter": "python",
   "pygments_lexer": "ipython3",
   "version": 3
  },
  "orig_nbformat": 2
 },
 "nbformat": 4,
 "nbformat_minor": 2,
 "cells": [
  {
   "source": [
    "# Developer Guide"
   ],
   "cell_type": "markdown",
   "metadata": {}
  },
  {
   "source": [
    "## Optional Dependencies\n",
    "data-describe may make use of optional dependencies such as `nltk` or `modin`. When adding or using these optional dependencies in data-describe modules, the following patterns should be used:\n",
    "\n",
    "### _requires` marks functionality that_requires a dependency\n",
    "Use the _requires` decorator on any object function or class that needs the optional dependency. Usage:\n",
    "```python\n",
    "from data_describe.compat import _requires\n",
    "\n",
    "@_requires(\"nltk\")\n",
    "def function_that_uses_nltk():\n",
    "    return\n",
    "```\n",
    "_requires` should generally take the top-level package name as its sole argument. See the section on *packages vs subpackages* for more information.\n",
    "\n",
    "### `_compat` is used to lazily import from dependencies\n",
    "Instead of having import statements at the top of the file, import and use the `_compat` object to use functionalities from the optional dependency:\n",
    "\n",
    "```python\n",
    "from data_describe.compat import _requires, _compat\n",
    "\n",
    "@_requires(\"nltk\")\n",
    "def function_that_uses_nltk_freqdist():\n",
    "    _compat[\"nltk\"].FreqDist()\n",
    "```\n",
    "`_compat` should generally take the sub-package as its key in a dictionary-style access. See the section on *packages vs subpackages* for more information.\n",
    "\n",
    "### packages vs subpackages\n",
    "Some packages do not export all of their subpackages. For example, `import statsmodels` does not provide access to `statsmodels.graphics.tsaplots`, as the `graphics` subpackage is not exported.\n",
    "\n",
    "As a result, _requires` generally takes the top-level package name, as this checks if the package itself is installed. In contrast, `_compat` takes the subpackage to enable imports.\n",
    "\n",
    "One exception to this are the google client libraries such as `google-cloud-storage` or `google-cloud-bigquery`. Each of these are installed individually, but they are organized as subpackages of the `google` namespace i.e. `google.cloud.storage`. In this case, _requires` should instead be the specific subpackage (i.e. _requires(\"google.cloud.storage\")`) since requiring only the `google` package is not specific enough. \n",
    "\n",
    "### Side imports\n",
    "Some packages require downloads of additional data or models to function. One example is the stopwords for `nltk`. Downloading of these resources is handled in `data_describe/compat/_dependency.py`. When adding a dependency that_requires this download, adhere to the following steps:\n",
    "\n",
    "1. Add a function that takes the module as its sole argument, checks for the existence of the resource (i.e if it was already downloaded), and executes the download if it doesn't exist. \n",
    "2. Add this function to the module-import mapping used to initialize `_compat`:\n",
    "```\n",
    "_compat = DependencyManager(\n",
    "    {\n",
    "        \"nltk\": nltk_download,\n",
    "        \"spacy\": spacy_download,\n",
    "        # \"new_package\": downloader_function,\n",
    "    }\n",
    ")\n",
    "```\n",
    "\n",
    "### Add to `extras_require` in setup.py\n",
    "The new dependency should be added to the `extras_require` in setup.py. If applicable, try to use existing tags over creating new ones. New tags should be alphabetical and short.\n",
    "\n",
    "### Add to conda environments\n",
    "The new dependency should be added to all conda environment definitions. These are located in two locations: `etc/*.yml` and `docker/*/*.yml`"
   ],
   "cell_type": "markdown",
   "metadata": {}
  }
 ]
}