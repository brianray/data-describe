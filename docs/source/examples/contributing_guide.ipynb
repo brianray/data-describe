{
 "cells": [
  {
   "cell_type": "markdown",
   "metadata": {},
   "source": [
    "# Environment\n",
    "\n",
    "Conda is recommended for setting up your test environment. To create a new test environment, run:\n",
    "```\n",
    "conda create -n test-env\n",
    "conda env update -n test-env -f etc/test-environment.yml\n",
    "```"
   ]
  },
  {
   "cell_type": "markdown",
   "metadata": {},
   "source": [
    "# Style Guide\n",
    "\n",
    "data describe uses:\n",
    "* `flake8` for linting\n",
    "* `black` for auto-formatting\n",
    "* `mypy` for static type checking\n",
    "\n",
    "`pre-commit` is used to run these checks before commit. To enable this in your local development environment:\n",
    "\n",
    "1. pip install pre-commit:\n",
    "`pip install pre-commit`\n",
    "\n",
    "2. Enable pre-commit:\n",
    "`pre-commit install`"
   ]
  },
  {
   "cell_type": "code",
   "execution_count": null,
   "metadata": {},
   "outputs": [],
   "source": []
  }
 ],
 "metadata": {
  "language_info": {
   "codemirror_mode": {
    "name": "ipython",
    "version": 3
   },
   "file_extension": ".py",
   "mimetype": "text/x-python",
   "name": "python",
   "nbconvert_exporter": "python",
   "pygments_lexer": "ipython3",
   "version": "3.7.7-final"
  },
  "orig_nbformat": 2,
  "kernelspec": {
   "name": "python37764bitpy37condae6d79ff826904d208465fd2826a58149",
   "display_name": "Python 3.7.7 64-bit ('py37': conda)"
  }
 },
 "nbformat": 4,
 "nbformat_minor": 2
}