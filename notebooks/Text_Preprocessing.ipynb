{
 "cells": [
  {
   "cell_type": "markdown",
   "metadata": {},
   "source": [
    "# Text Preprocessing"
   ]
  },
  {
   "cell_type": "code",
   "execution_count": 1,
   "metadata": {},
   "outputs": [],
   "source": [
    "%%capture\n",
    "\n",
    "import pandas as pd\n",
    "from data_describe.text.text_preprocessing import *\n",
    "from data_describe.utilities.load_data import load_data"
   ]
  },
  {
   "cell_type": "markdown",
   "metadata": {},
   "source": [
    "## Load Data"
   ]
  },
  {
   "cell_type": "code",
   "execution_count": 2,
   "metadata": {},
   "outputs": [],
   "source": [
    "from sklearn.datasets import fetch_20newsgroups\n",
    "categories = ['alt.atheism']\n",
    "newsgroups = fetch_20newsgroups(subset='train', categories=categories)['data']"
   ]
  },
  {
   "cell_type": "code",
   "execution_count": 3,
   "metadata": {},
   "outputs": [
    {
     "data": {
      "text/plain": [
       "'From: darice@yoyo.cc.monash.edu.au (Fred Rice)\\nSubject: Re: Islam & Dress Code for women\\nOrganizatio'"
      ]
     },
     "execution_count": 3,
     "metadata": {},
     "output_type": "execute_result"
    }
   ],
   "source": [
    "newsgroups[0][:100]"
   ]
  },
  {
   "cell_type": "markdown",
   "metadata": {},
   "source": [
    "## Tokenize"
   ]
  },
  {
   "cell_type": "code",
   "execution_count": 4,
   "metadata": {},
   "outputs": [],
   "source": [
    "newsgroups_tokens = tokenize(newsgroups)"
   ]
  },
  {
   "cell_type": "code",
   "execution_count": 5,
   "metadata": {},
   "outputs": [
    {
     "data": {
      "text/plain": [
       "['From',\n",
       " ':',\n",
       " 'darice',\n",
       " '@',\n",
       " 'yoyo.cc.monash.edu.au',\n",
       " '(',\n",
       " 'Fred',\n",
       " 'Rice',\n",
       " ')',\n",
       " 'Subject']"
      ]
     },
     "execution_count": 5,
     "metadata": {},
     "output_type": "execute_result"
    }
   ],
   "source": [
    "newsgroups_tokens[0][:10]"
   ]
  },
  {
   "cell_type": "markdown",
   "metadata": {},
   "source": [
    "## Change to all lowercase"
   ]
  },
  {
   "cell_type": "code",
   "execution_count": 6,
   "metadata": {},
   "outputs": [
    {
     "data": {
      "text/plain": [
       "['from',\n",
       " ':',\n",
       " 'darice',\n",
       " '@',\n",
       " 'yoyo.cc.monash.edu.au',\n",
       " '(',\n",
       " 'fred',\n",
       " 'rice',\n",
       " ')',\n",
       " 'subject']"
      ]
     },
     "execution_count": 6,
     "metadata": {},
     "output_type": "execute_result"
    }
   ],
   "source": [
    "newsgroups_lower = to_lower(newsgroups_tokens)\n",
    "newsgroups_lower[0][:10]"
   ]
  },
  {
   "cell_type": "markdown",
   "metadata": {},
   "source": [
    "## Remove punctuation"
   ]
  },
  {
   "cell_type": "code",
   "execution_count": 7,
   "metadata": {},
   "outputs": [
    {
     "data": {
      "text/plain": [
       "['from',\n",
       " 'darice',\n",
       " 'yoyo.cc.monash.edu.au',\n",
       " 'fred',\n",
       " 'rice',\n",
       " 'subject',\n",
       " 're',\n",
       " 'islam',\n",
       " 'dress',\n",
       " 'code']"
      ]
     },
     "execution_count": 7,
     "metadata": {},
     "output_type": "execute_result"
    }
   ],
   "source": [
    "newsgroups_no_punct = remove_punct(newsgroups_lower)\n",
    "newsgroups_no_punct[0][:10]"
   ]
  },
  {
   "cell_type": "markdown",
   "metadata": {},
   "source": [
    "## Remove digits"
   ]
  },
  {
   "cell_type": "code",
   "execution_count": 8,
   "metadata": {},
   "outputs": [
    {
     "data": {
      "text/plain": [
       "[['this', 'is', '', 'a', 'test', '', 'if', 'it', 'works']]"
      ]
     },
     "execution_count": 8,
     "metadata": {},
     "output_type": "execute_result"
    }
   ],
   "source": [
    "remove_digits([['this', 'is', '3', 'a', 'test', '2c', 'if', 'it', 'works']])"
   ]
  },
  {
   "cell_type": "markdown",
   "metadata": {},
   "source": [
    "## Remove single characters and spaces"
   ]
  },
  {
   "cell_type": "code",
   "execution_count": 9,
   "metadata": {},
   "outputs": [
    {
     "data": {
      "text/plain": [
       "[['this', 'is', 'test']]"
      ]
     },
     "execution_count": 9,
     "metadata": {},
     "output_type": "execute_result"
    }
   ],
   "source": [
    "remove_single_char_and_spaces([['this', 'is', '   ', 'a', 'test', '   ', 'b']])"
   ]
  },
  {
   "cell_type": "markdown",
   "metadata": {},
   "source": [
    "## Remove stopwords"
   ]
  },
  {
   "cell_type": "code",
   "execution_count": 10,
   "metadata": {},
   "outputs": [
    {
     "data": {
      "text/plain": [
       "['darice',\n",
       " 'yoyo.cc.monash.edu.au',\n",
       " 'fred',\n",
       " 'rice',\n",
       " 'subject',\n",
       " 'islam',\n",
       " 'dress',\n",
       " 'code',\n",
       " 'women',\n",
       " 'organization']"
      ]
     },
     "execution_count": 10,
     "metadata": {},
     "output_type": "execute_result"
    }
   ],
   "source": [
    "newsgroups_no_stop = remove_stopwords(newsgroups_no_punct)\n",
    "newsgroups_no_stop[0][:10]"
   ]
  },
  {
   "cell_type": "markdown",
   "metadata": {},
   "source": [
    "## Stem words"
   ]
  },
  {
   "cell_type": "code",
   "execution_count": 11,
   "metadata": {},
   "outputs": [
    {
     "data": {
      "text/plain": [
       "['dar',\n",
       " 'yoyo.cc.monash.edu.au',\n",
       " 'fred',\n",
       " 'ric',\n",
       " 'subject',\n",
       " 'islam',\n",
       " 'dress',\n",
       " 'cod',\n",
       " 'wom',\n",
       " 'org']"
      ]
     },
     "execution_count": 11,
     "metadata": {},
     "output_type": "execute_result"
    }
   ],
   "source": [
    "newsgroups_stemmed = stem(newsgroups_no_stop)\n",
    "newsgroups_stemmed[0][:10]"
   ]
  },
  {
   "cell_type": "markdown",
   "metadata": {},
   "source": [
    "## Lemmatize words"
   ]
  },
  {
   "cell_type": "code",
   "execution_count": 12,
   "metadata": {},
   "outputs": [
    {
     "data": {
      "text/plain": [
       "['darice',\n",
       " 'yoyo.cc.monash.edu.au',\n",
       " 'fred',\n",
       " 'rice',\n",
       " 'subject',\n",
       " 'islam',\n",
       " 'dress',\n",
       " 'code',\n",
       " 'woman',\n",
       " 'organization']"
      ]
     },
     "execution_count": 12,
     "metadata": {},
     "output_type": "execute_result"
    }
   ],
   "source": [
    "newsgroups_lemmatized = lemmatize(newsgroups_no_stop)\n",
    "newsgroups_lemmatized[0][:10]"
   ]
  },
  {
   "cell_type": "markdown",
   "metadata": {},
   "source": [
    "## Convert back to a single string"
   ]
  },
  {
   "cell_type": "code",
   "execution_count": 13,
   "metadata": {},
   "outputs": [
    {
     "data": {
      "text/plain": [
       "\"darice yoyo.cc.monash.edu.au fred rice subject islam dress code woman organization monash university melb australia line 120 16ba7103c3.i3150101 dbstu1.rz.tu-bs.de i3150101 dbstu1.rz.tu-bs.de benedikt rosenau writes article 1993apr5.091258.11830 monu6.cc.monash.edu.au darice yoyo.cc.monash.edu.au fred rice writes deletion course people say think religion exactly coming different people within religion nothing existing different perspective within religion perhaps one say tend converge truth point lot harm way meantime converge counterfactual religion appear split diverge even might true religion core layer determine happens practise quite inhumane usually post supposed answer n't see got say repeat religion harm people religion converge split giving disagree upon lot disagreement one tolerant one tolerant ideology also split giving disagree upon may also lead intolerance also oppose ideology n't think argument argument religion point weakness human nature big deletion 2 woman soul isla\""
      ]
     },
     "execution_count": 13,
     "metadata": {},
     "output_type": "execute_result"
    }
   ],
   "source": [
    "newsgroups_docs = bag_of_words_to_docs(newsgroups_lemmatized)\n",
    "newsgroups_docs_no_digits = bag_of_words_to_docs(remove_digits(newsgroups_lemmatized))\n",
    "newsgroups_docs[0][:1000]"
   ]
  },
  {
   "cell_type": "markdown",
   "metadata": {},
   "source": [
    "## Create a document-word frequency matrix"
   ]
  },
  {
   "cell_type": "code",
   "execution_count": 14,
   "metadata": {},
   "outputs": [
    {
     "data": {
      "text/html": [
       "<div>\n",
       "<style scoped>\n",
       "    .dataframe tbody tr th:only-of-type {\n",
       "        vertical-align: middle;\n",
       "    }\n",
       "\n",
       "    .dataframe tbody tr th {\n",
       "        vertical-align: top;\n",
       "    }\n",
       "\n",
       "    .dataframe thead th {\n",
       "        text-align: right;\n",
       "    }\n",
       "</style>\n",
       "<table border=\"1\" class=\"dataframe\">\n",
       "  <thead>\n",
       "    <tr style=\"text-align: right;\">\n",
       "      <th></th>\n",
       "      <th>00</th>\n",
       "      <th>000</th>\n",
       "      <th>000406</th>\n",
       "      <th>001125</th>\n",
       "      <th>01</th>\n",
       "      <th>0100</th>\n",
       "      <th>010116</th>\n",
       "      <th>011255</th>\n",
       "      <th>012536</th>\n",
       "      <th>013034</th>\n",
       "      <th>...</th>\n",
       "      <th>zlumber</th>\n",
       "      <th>zombie</th>\n",
       "      <th>zoo</th>\n",
       "      <th>zues</th>\n",
       "      <th>zumder</th>\n",
       "      <th>zur</th>\n",
       "      <th>zurlo</th>\n",
       "      <th>zus</th>\n",
       "      <th>zvonko</th>\n",
       "      <th>zyklon</th>\n",
       "    </tr>\n",
       "  </thead>\n",
       "  <tbody>\n",
       "    <tr>\n",
       "      <th>0</th>\n",
       "      <td>0</td>\n",
       "      <td>0</td>\n",
       "      <td>0</td>\n",
       "      <td>0</td>\n",
       "      <td>0</td>\n",
       "      <td>0</td>\n",
       "      <td>0</td>\n",
       "      <td>0</td>\n",
       "      <td>0</td>\n",
       "      <td>0</td>\n",
       "      <td>...</td>\n",
       "      <td>0</td>\n",
       "      <td>0</td>\n",
       "      <td>0</td>\n",
       "      <td>0</td>\n",
       "      <td>0</td>\n",
       "      <td>0</td>\n",
       "      <td>0</td>\n",
       "      <td>0</td>\n",
       "      <td>0</td>\n",
       "      <td>0</td>\n",
       "    </tr>\n",
       "    <tr>\n",
       "      <th>1</th>\n",
       "      <td>0</td>\n",
       "      <td>0</td>\n",
       "      <td>0</td>\n",
       "      <td>0</td>\n",
       "      <td>0</td>\n",
       "      <td>0</td>\n",
       "      <td>0</td>\n",
       "      <td>0</td>\n",
       "      <td>0</td>\n",
       "      <td>0</td>\n",
       "      <td>...</td>\n",
       "      <td>0</td>\n",
       "      <td>0</td>\n",
       "      <td>0</td>\n",
       "      <td>0</td>\n",
       "      <td>0</td>\n",
       "      <td>0</td>\n",
       "      <td>0</td>\n",
       "      <td>0</td>\n",
       "      <td>0</td>\n",
       "      <td>0</td>\n",
       "    </tr>\n",
       "    <tr>\n",
       "      <th>2</th>\n",
       "      <td>0</td>\n",
       "      <td>0</td>\n",
       "      <td>0</td>\n",
       "      <td>0</td>\n",
       "      <td>0</td>\n",
       "      <td>0</td>\n",
       "      <td>0</td>\n",
       "      <td>0</td>\n",
       "      <td>0</td>\n",
       "      <td>0</td>\n",
       "      <td>...</td>\n",
       "      <td>0</td>\n",
       "      <td>0</td>\n",
       "      <td>0</td>\n",
       "      <td>0</td>\n",
       "      <td>0</td>\n",
       "      <td>0</td>\n",
       "      <td>0</td>\n",
       "      <td>0</td>\n",
       "      <td>0</td>\n",
       "      <td>0</td>\n",
       "    </tr>\n",
       "    <tr>\n",
       "      <th>3</th>\n",
       "      <td>0</td>\n",
       "      <td>0</td>\n",
       "      <td>0</td>\n",
       "      <td>0</td>\n",
       "      <td>0</td>\n",
       "      <td>0</td>\n",
       "      <td>0</td>\n",
       "      <td>0</td>\n",
       "      <td>0</td>\n",
       "      <td>0</td>\n",
       "      <td>...</td>\n",
       "      <td>0</td>\n",
       "      <td>0</td>\n",
       "      <td>0</td>\n",
       "      <td>0</td>\n",
       "      <td>0</td>\n",
       "      <td>0</td>\n",
       "      <td>0</td>\n",
       "      <td>0</td>\n",
       "      <td>0</td>\n",
       "      <td>0</td>\n",
       "    </tr>\n",
       "    <tr>\n",
       "      <th>4</th>\n",
       "      <td>0</td>\n",
       "      <td>0</td>\n",
       "      <td>0</td>\n",
       "      <td>0</td>\n",
       "      <td>0</td>\n",
       "      <td>0</td>\n",
       "      <td>0</td>\n",
       "      <td>0</td>\n",
       "      <td>0</td>\n",
       "      <td>0</td>\n",
       "      <td>...</td>\n",
       "      <td>0</td>\n",
       "      <td>0</td>\n",
       "      <td>0</td>\n",
       "      <td>0</td>\n",
       "      <td>0</td>\n",
       "      <td>0</td>\n",
       "      <td>0</td>\n",
       "      <td>0</td>\n",
       "      <td>0</td>\n",
       "      <td>0</td>\n",
       "    </tr>\n",
       "  </tbody>\n",
       "</table>\n",
       "<p>5 rows × 10810 columns</p>\n",
       "</div>"
      ],
      "text/plain": [
       "   00  000  000406  001125  01  0100  010116  011255  012536  013034  ...  \\\n",
       "0   0    0       0       0   0     0       0       0       0       0  ...   \n",
       "1   0    0       0       0   0     0       0       0       0       0  ...   \n",
       "2   0    0       0       0   0     0       0       0       0       0  ...   \n",
       "3   0    0       0       0   0     0       0       0       0       0  ...   \n",
       "4   0    0       0       0   0     0       0       0       0       0  ...   \n",
       "\n",
       "   zlumber  zombie  zoo  zues  zumder  zur  zurlo  zus  zvonko  zyklon  \n",
       "0        0       0    0     0       0    0      0    0       0       0  \n",
       "1        0       0    0     0       0    0      0    0       0       0  \n",
       "2        0       0    0     0       0    0      0    0       0       0  \n",
       "3        0       0    0     0       0    0      0    0       0       0  \n",
       "4        0       0    0     0       0    0      0    0       0       0  \n",
       "\n",
       "[5 rows x 10810 columns]"
      ]
     },
     "execution_count": 14,
     "metadata": {},
     "output_type": "execute_result"
    }
   ],
   "source": [
    "create_doc_term_matrix(newsgroups_docs).head()"
   ]
  },
  {
   "cell_type": "markdown",
   "metadata": {},
   "source": [
    "## Create a TF-IDF matrix"
   ]
  },
  {
   "cell_type": "code",
   "execution_count": 15,
   "metadata": {},
   "outputs": [
    {
     "data": {
      "text/html": [
       "<div>\n",
       "<style scoped>\n",
       "    .dataframe tbody tr th:only-of-type {\n",
       "        vertical-align: middle;\n",
       "    }\n",
       "\n",
       "    .dataframe tbody tr th {\n",
       "        vertical-align: top;\n",
       "    }\n",
       "\n",
       "    .dataframe thead th {\n",
       "        text-align: right;\n",
       "    }\n",
       "</style>\n",
       "<table border=\"1\" class=\"dataframe\">\n",
       "  <thead>\n",
       "    <tr style=\"text-align: right;\">\n",
       "      <th></th>\n",
       "      <th>_o</th>\n",
       "      <th>aa</th>\n",
       "      <th>aaa</th>\n",
       "      <th>aah</th>\n",
       "      <th>aap</th>\n",
       "      <th>aario</th>\n",
       "      <th>aaron</th>\n",
       "      <th>abandoned</th>\n",
       "      <th>abberation</th>\n",
       "      <th>abc</th>\n",
       "      <th>...</th>\n",
       "      <th>zlumber</th>\n",
       "      <th>zombie</th>\n",
       "      <th>zoo</th>\n",
       "      <th>zues</th>\n",
       "      <th>zumder</th>\n",
       "      <th>zur</th>\n",
       "      <th>zurlo</th>\n",
       "      <th>zus</th>\n",
       "      <th>zvonko</th>\n",
       "      <th>zyklon</th>\n",
       "    </tr>\n",
       "  </thead>\n",
       "  <tbody>\n",
       "    <tr>\n",
       "      <th>0</th>\n",
       "      <td>0.0</td>\n",
       "      <td>0.0</td>\n",
       "      <td>0.0</td>\n",
       "      <td>0.0</td>\n",
       "      <td>0.0</td>\n",
       "      <td>0.0</td>\n",
       "      <td>0.0</td>\n",
       "      <td>0.0</td>\n",
       "      <td>0.0</td>\n",
       "      <td>0.0</td>\n",
       "      <td>...</td>\n",
       "      <td>0.0</td>\n",
       "      <td>0.0</td>\n",
       "      <td>0.0</td>\n",
       "      <td>0.0</td>\n",
       "      <td>0.0</td>\n",
       "      <td>0.0</td>\n",
       "      <td>0.0</td>\n",
       "      <td>0.0</td>\n",
       "      <td>0.0</td>\n",
       "      <td>0.0</td>\n",
       "    </tr>\n",
       "    <tr>\n",
       "      <th>1</th>\n",
       "      <td>0.0</td>\n",
       "      <td>0.0</td>\n",
       "      <td>0.0</td>\n",
       "      <td>0.0</td>\n",
       "      <td>0.0</td>\n",
       "      <td>0.0</td>\n",
       "      <td>0.0</td>\n",
       "      <td>0.0</td>\n",
       "      <td>0.0</td>\n",
       "      <td>0.0</td>\n",
       "      <td>...</td>\n",
       "      <td>0.0</td>\n",
       "      <td>0.0</td>\n",
       "      <td>0.0</td>\n",
       "      <td>0.0</td>\n",
       "      <td>0.0</td>\n",
       "      <td>0.0</td>\n",
       "      <td>0.0</td>\n",
       "      <td>0.0</td>\n",
       "      <td>0.0</td>\n",
       "      <td>0.0</td>\n",
       "    </tr>\n",
       "    <tr>\n",
       "      <th>2</th>\n",
       "      <td>0.0</td>\n",
       "      <td>0.0</td>\n",
       "      <td>0.0</td>\n",
       "      <td>0.0</td>\n",
       "      <td>0.0</td>\n",
       "      <td>0.0</td>\n",
       "      <td>0.0</td>\n",
       "      <td>0.0</td>\n",
       "      <td>0.0</td>\n",
       "      <td>0.0</td>\n",
       "      <td>...</td>\n",
       "      <td>0.0</td>\n",
       "      <td>0.0</td>\n",
       "      <td>0.0</td>\n",
       "      <td>0.0</td>\n",
       "      <td>0.0</td>\n",
       "      <td>0.0</td>\n",
       "      <td>0.0</td>\n",
       "      <td>0.0</td>\n",
       "      <td>0.0</td>\n",
       "      <td>0.0</td>\n",
       "    </tr>\n",
       "    <tr>\n",
       "      <th>3</th>\n",
       "      <td>0.0</td>\n",
       "      <td>0.0</td>\n",
       "      <td>0.0</td>\n",
       "      <td>0.0</td>\n",
       "      <td>0.0</td>\n",
       "      <td>0.0</td>\n",
       "      <td>0.0</td>\n",
       "      <td>0.0</td>\n",
       "      <td>0.0</td>\n",
       "      <td>0.0</td>\n",
       "      <td>...</td>\n",
       "      <td>0.0</td>\n",
       "      <td>0.0</td>\n",
       "      <td>0.0</td>\n",
       "      <td>0.0</td>\n",
       "      <td>0.0</td>\n",
       "      <td>0.0</td>\n",
       "      <td>0.0</td>\n",
       "      <td>0.0</td>\n",
       "      <td>0.0</td>\n",
       "      <td>0.0</td>\n",
       "    </tr>\n",
       "    <tr>\n",
       "      <th>4</th>\n",
       "      <td>0.0</td>\n",
       "      <td>0.0</td>\n",
       "      <td>0.0</td>\n",
       "      <td>0.0</td>\n",
       "      <td>0.0</td>\n",
       "      <td>0.0</td>\n",
       "      <td>0.0</td>\n",
       "      <td>0.0</td>\n",
       "      <td>0.0</td>\n",
       "      <td>0.0</td>\n",
       "      <td>...</td>\n",
       "      <td>0.0</td>\n",
       "      <td>0.0</td>\n",
       "      <td>0.0</td>\n",
       "      <td>0.0</td>\n",
       "      <td>0.0</td>\n",
       "      <td>0.0</td>\n",
       "      <td>0.0</td>\n",
       "      <td>0.0</td>\n",
       "      <td>0.0</td>\n",
       "      <td>0.0</td>\n",
       "    </tr>\n",
       "  </tbody>\n",
       "</table>\n",
       "<p>5 rows × 9764 columns</p>\n",
       "</div>"
      ],
      "text/plain": [
       "    _o   aa  aaa  aah  aap  aario  aaron  abandoned  abberation  abc  ...  \\\n",
       "0  0.0  0.0  0.0  0.0  0.0    0.0    0.0        0.0         0.0  0.0  ...   \n",
       "1  0.0  0.0  0.0  0.0  0.0    0.0    0.0        0.0         0.0  0.0  ...   \n",
       "2  0.0  0.0  0.0  0.0  0.0    0.0    0.0        0.0         0.0  0.0  ...   \n",
       "3  0.0  0.0  0.0  0.0  0.0    0.0    0.0        0.0         0.0  0.0  ...   \n",
       "4  0.0  0.0  0.0  0.0  0.0    0.0    0.0        0.0         0.0  0.0  ...   \n",
       "\n",
       "   zlumber  zombie  zoo  zues  zumder  zur  zurlo  zus  zvonko  zyklon  \n",
       "0      0.0     0.0  0.0   0.0     0.0  0.0    0.0  0.0     0.0     0.0  \n",
       "1      0.0     0.0  0.0   0.0     0.0  0.0    0.0  0.0     0.0     0.0  \n",
       "2      0.0     0.0  0.0   0.0     0.0  0.0    0.0  0.0     0.0     0.0  \n",
       "3      0.0     0.0  0.0   0.0     0.0  0.0    0.0  0.0     0.0     0.0  \n",
       "4      0.0     0.0  0.0   0.0     0.0  0.0    0.0  0.0     0.0     0.0  \n",
       "\n",
       "[5 rows x 9764 columns]"
      ]
     },
     "execution_count": 15,
     "metadata": {},
     "output_type": "execute_result"
    }
   ],
   "source": [
    "create_tfidf_matrix(newsgroups_docs_no_digits).head().iloc[:,10:]"
   ]
  },
  {
   "cell_type": "markdown",
   "metadata": {},
   "source": [
    "## Run a full preprocessing pipeline in one line"
   ]
  },
  {
   "cell_type": "code",
   "execution_count": 16,
   "metadata": {},
   "outputs": [
    {
     "data": {
      "text/plain": [
       "\"darice yoyo.cc.monash.edu.au fred rice subject islam dress code woman organization monash university melb australia line .rz.tu-bs.de .rz.tu-bs.de benedikt rosenau writes article .. .cc.monash.edu.au darice yoyo.cc.monash.edu.au fred rice writes deletion course people say think religion exactly coming different people within religion nothing existing different perspective within religion perhaps one say tend converge truth point lot harm way meantime converge counterfactual religion appear split diverge even might true religion core layer determine happens practise quite inhumane usually post supposed answer n't see got say repeat religion harm people religion converge split giving disagree upon lot disagreement one tolerant one tolerant ideology also split giving disagree upon may also lead intolerance also oppose ideology n't think argument argument religion point weakness human nature big deletion woman soul islam people said muslim say woman soul must admit never heard view held mu\""
      ]
     },
     "execution_count": 16,
     "metadata": {},
     "output_type": "execute_result"
    }
   ],
   "source": [
    "bag_of_words_to_docs(preprocess_texts(newsgroups, lem=True))[0][:1000]"
   ]
  },
  {
   "cell_type": "markdown",
   "metadata": {},
   "source": [
    "## Ngrams Frequency"
   ]
  },
  {
   "cell_type": "code",
   "execution_count": 17,
   "metadata": {},
   "outputs": [
    {
     "data": {
      "text/plain": [
       "FreqDist({('Subject', 'Re'): 455, ('In', 'article'): 372, ('Lines', 'In'): 201, ('Lines', 'In', 'article'): 182, ('article', '..'): 128, ('In', 'article', '..'): 128, ('writes', 'In'): 101, ('Lines', 'NNTP-Posting-Host'): 99, ('ca', \"n't\"): 90, ('keith', 'cco.caltech.edu'): 90, ...})"
      ]
     },
     "execution_count": 17,
     "metadata": {},
     "output_type": "execute_result"
    }
   ],
   "source": [
    "n_grams = ngram_freq(text_docs=newsgroups)\n",
    "n_grams"
   ]
  }
 ],
 "metadata": {
  "kernelspec": {
   "display_name": "Python 3",
   "language": "python",
   "name": "python3"
  },
  "language_info": {
   "codemirror_mode": {
    "name": "ipython",
    "version": 3
   },
   "file_extension": ".py",
   "mimetype": "text/x-python",
   "name": "python",
   "nbconvert_exporter": "python",
   "pygments_lexer": "ipython3",
   "version": "3.7.0"
  }
 },
 "nbformat": 4,
 "nbformat_minor": 4
}
