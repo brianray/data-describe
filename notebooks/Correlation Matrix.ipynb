{
 "cells": [
  {
   "cell_type": "markdown",
   "metadata": {},
   "source": [
    "# Correlation Matrix"
   ]
  },
  {
   "cell_type": "code",
   "execution_count": 1,
   "metadata": {},
   "outputs": [
    {
     "name": "stderr",
     "output_type": "stream",
     "text": [
      "C:\\tools\\Miniconda3\\envs\\mw-data_describe\\lib\\site-packages\\sklearn\\utils\\deprecation.py:144: FutureWarning:\n",
      "\n",
      "The sklearn.metrics.scorer module is  deprecated in version 0.22 and will be removed in version 0.24. The corresponding classes / functions should instead be imported from sklearn.metrics. Anything that cannot be imported from sklearn.metrics is now part of the private API.\n",
      "\n",
      "C:\\tools\\Miniconda3\\envs\\mw-data_describe\\lib\\site-packages\\sklearn\\utils\\deprecation.py:144: FutureWarning:\n",
      "\n",
      "The sklearn.feature_selection.base module is  deprecated in version 0.22 and will be removed in version 0.24. The corresponding classes / functions should instead be imported from sklearn.feature_selection. Anything that cannot be imported from sklearn.feature_selection is now part of the private API.\n",
      "\n"
     ]
    }
   ],
   "source": [
    "import pandas as pd\n",
    "from mwdata import correlation_matrix"
   ]
  },
  {
   "cell_type": "code",
   "execution_count": 2,
   "metadata": {},
   "outputs": [],
   "source": [
    "df = pd.read_csv(\"../data/weatherAUS.csv\")"
   ]
  },
  {
   "cell_type": "code",
   "execution_count": 3,
   "metadata": {},
   "outputs": [
    {
     "data": {
      "text/html": [
       "<div>\n",
       "<style scoped>\n",
       "    .dataframe tbody tr th:only-of-type {\n",
       "        vertical-align: middle;\n",
       "    }\n",
       "\n",
       "    .dataframe tbody tr th {\n",
       "        vertical-align: top;\n",
       "    }\n",
       "\n",
       "    .dataframe thead th {\n",
       "        text-align: right;\n",
       "    }\n",
       "</style>\n",
       "<table border=\"1\" class=\"dataframe\">\n",
       "  <thead>\n",
       "    <tr style=\"text-align: right;\">\n",
       "      <th></th>\n",
       "      <th>Date</th>\n",
       "      <th>Location</th>\n",
       "      <th>MinTemp</th>\n",
       "      <th>MaxTemp</th>\n",
       "      <th>Rainfall</th>\n",
       "      <th>Evaporation</th>\n",
       "      <th>Sunshine</th>\n",
       "      <th>WindGustDir</th>\n",
       "      <th>WindGustSpeed</th>\n",
       "      <th>WindDir9am</th>\n",
       "      <th>...</th>\n",
       "      <th>Humidity3pm</th>\n",
       "      <th>Pressure9am</th>\n",
       "      <th>Pressure3pm</th>\n",
       "      <th>Cloud9am</th>\n",
       "      <th>Cloud3pm</th>\n",
       "      <th>Temp9am</th>\n",
       "      <th>Temp3pm</th>\n",
       "      <th>RainToday</th>\n",
       "      <th>RISK_MM</th>\n",
       "      <th>RainTomorrow</th>\n",
       "    </tr>\n",
       "  </thead>\n",
       "  <tbody>\n",
       "    <tr>\n",
       "      <th>0</th>\n",
       "      <td>2008-12-01</td>\n",
       "      <td>Albury</td>\n",
       "      <td>13.4</td>\n",
       "      <td>22.9</td>\n",
       "      <td>0.6</td>\n",
       "      <td>NaN</td>\n",
       "      <td>NaN</td>\n",
       "      <td>W</td>\n",
       "      <td>44.0</td>\n",
       "      <td>W</td>\n",
       "      <td>...</td>\n",
       "      <td>22.0</td>\n",
       "      <td>1007.7</td>\n",
       "      <td>1007.1</td>\n",
       "      <td>8.0</td>\n",
       "      <td>NaN</td>\n",
       "      <td>16.9</td>\n",
       "      <td>21.8</td>\n",
       "      <td>No</td>\n",
       "      <td>0.0</td>\n",
       "      <td>No</td>\n",
       "    </tr>\n",
       "    <tr>\n",
       "      <th>1</th>\n",
       "      <td>2008-12-02</td>\n",
       "      <td>Albury</td>\n",
       "      <td>7.4</td>\n",
       "      <td>25.1</td>\n",
       "      <td>0.0</td>\n",
       "      <td>NaN</td>\n",
       "      <td>NaN</td>\n",
       "      <td>WNW</td>\n",
       "      <td>44.0</td>\n",
       "      <td>NNW</td>\n",
       "      <td>...</td>\n",
       "      <td>25.0</td>\n",
       "      <td>1010.6</td>\n",
       "      <td>1007.8</td>\n",
       "      <td>NaN</td>\n",
       "      <td>NaN</td>\n",
       "      <td>17.2</td>\n",
       "      <td>24.3</td>\n",
       "      <td>No</td>\n",
       "      <td>0.0</td>\n",
       "      <td>No</td>\n",
       "    </tr>\n",
       "    <tr>\n",
       "      <th>2</th>\n",
       "      <td>2008-12-03</td>\n",
       "      <td>Albury</td>\n",
       "      <td>12.9</td>\n",
       "      <td>25.7</td>\n",
       "      <td>0.0</td>\n",
       "      <td>NaN</td>\n",
       "      <td>NaN</td>\n",
       "      <td>WSW</td>\n",
       "      <td>46.0</td>\n",
       "      <td>W</td>\n",
       "      <td>...</td>\n",
       "      <td>30.0</td>\n",
       "      <td>1007.6</td>\n",
       "      <td>1008.7</td>\n",
       "      <td>NaN</td>\n",
       "      <td>2.0</td>\n",
       "      <td>21.0</td>\n",
       "      <td>23.2</td>\n",
       "      <td>No</td>\n",
       "      <td>0.0</td>\n",
       "      <td>No</td>\n",
       "    </tr>\n",
       "    <tr>\n",
       "      <th>3</th>\n",
       "      <td>2008-12-04</td>\n",
       "      <td>Albury</td>\n",
       "      <td>9.2</td>\n",
       "      <td>28.0</td>\n",
       "      <td>0.0</td>\n",
       "      <td>NaN</td>\n",
       "      <td>NaN</td>\n",
       "      <td>NE</td>\n",
       "      <td>24.0</td>\n",
       "      <td>SE</td>\n",
       "      <td>...</td>\n",
       "      <td>16.0</td>\n",
       "      <td>1017.6</td>\n",
       "      <td>1012.8</td>\n",
       "      <td>NaN</td>\n",
       "      <td>NaN</td>\n",
       "      <td>18.1</td>\n",
       "      <td>26.5</td>\n",
       "      <td>No</td>\n",
       "      <td>1.0</td>\n",
       "      <td>No</td>\n",
       "    </tr>\n",
       "    <tr>\n",
       "      <th>4</th>\n",
       "      <td>2008-12-05</td>\n",
       "      <td>Albury</td>\n",
       "      <td>17.5</td>\n",
       "      <td>32.3</td>\n",
       "      <td>1.0</td>\n",
       "      <td>NaN</td>\n",
       "      <td>NaN</td>\n",
       "      <td>W</td>\n",
       "      <td>41.0</td>\n",
       "      <td>ENE</td>\n",
       "      <td>...</td>\n",
       "      <td>33.0</td>\n",
       "      <td>1010.8</td>\n",
       "      <td>1006.0</td>\n",
       "      <td>7.0</td>\n",
       "      <td>8.0</td>\n",
       "      <td>17.8</td>\n",
       "      <td>29.7</td>\n",
       "      <td>No</td>\n",
       "      <td>0.2</td>\n",
       "      <td>No</td>\n",
       "    </tr>\n",
       "  </tbody>\n",
       "</table>\n",
       "<p>5 rows × 24 columns</p>\n",
       "</div>"
      ],
      "text/plain": [
       "         Date Location  MinTemp  MaxTemp  Rainfall  Evaporation  Sunshine  \\\n",
       "0  2008-12-01   Albury     13.4     22.9       0.6          NaN       NaN   \n",
       "1  2008-12-02   Albury      7.4     25.1       0.0          NaN       NaN   \n",
       "2  2008-12-03   Albury     12.9     25.7       0.0          NaN       NaN   \n",
       "3  2008-12-04   Albury      9.2     28.0       0.0          NaN       NaN   \n",
       "4  2008-12-05   Albury     17.5     32.3       1.0          NaN       NaN   \n",
       "\n",
       "  WindGustDir  WindGustSpeed WindDir9am  ... Humidity3pm  Pressure9am  \\\n",
       "0           W           44.0          W  ...        22.0       1007.7   \n",
       "1         WNW           44.0        NNW  ...        25.0       1010.6   \n",
       "2         WSW           46.0          W  ...        30.0       1007.6   \n",
       "3          NE           24.0         SE  ...        16.0       1017.6   \n",
       "4           W           41.0        ENE  ...        33.0       1010.8   \n",
       "\n",
       "   Pressure3pm  Cloud9am  Cloud3pm  Temp9am  Temp3pm  RainToday  RISK_MM  \\\n",
       "0       1007.1       8.0       NaN     16.9     21.8         No      0.0   \n",
       "1       1007.8       NaN       NaN     17.2     24.3         No      0.0   \n",
       "2       1008.7       NaN       2.0     21.0     23.2         No      0.0   \n",
       "3       1012.8       NaN       NaN     18.1     26.5         No      1.0   \n",
       "4       1006.0       7.0       8.0     17.8     29.7         No      0.2   \n",
       "\n",
       "   RainTomorrow  \n",
       "0            No  \n",
       "1            No  \n",
       "2            No  \n",
       "3            No  \n",
       "4            No  \n",
       "\n",
       "[5 rows x 24 columns]"
      ]
     },
     "execution_count": 3,
     "metadata": {},
     "output_type": "execute_result"
    }
   ],
   "source": [
    "df.head()"
   ]
  },
  {
   "cell_type": "markdown",
   "metadata": {},
   "source": [
    "## Default"
   ]
  },
  {
   "cell_type": "code",
   "execution_count": 4,
   "metadata": {},
   "outputs": [
    {
     "data": {
      "text/html": [
       "        <script type=\"text/javascript\">\n",
       "        window.PlotlyConfig = {MathJaxConfig: 'local'};\n",
       "        if (window.MathJax) {MathJax.Hub.Config({SVG: {font: \"STIX-Web\"}});}\n",
       "        if (typeof require !== 'undefined') {\n",
       "        require.undef(\"plotly\");\n",
       "        requirejs.config({\n",
       "            paths: {\n",
       "                'plotly': ['https://cdn.plot.ly/plotly-latest.min']\n",
       "            }\n",
       "        });\n",
       "        require(['plotly'], function(Plotly) {\n",
       "            window._Plotly = Plotly;\n",
       "        });\n",
       "        }\n",
       "        </script>\n",
       "        "
      ]
     },
     "metadata": {},
     "output_type": "display_data"
    },
    {
     "data": {
      "application/vnd.plotly.v1+json": {
       "config": {
        "displayModeBar": false,
        "linkText": "Export to plot.ly",
        "plotlyServerURL": "https://plot.ly",
        "showLink": false
       },
       "data": [
        {
         "colorbar": {
          "title": {
           "text": "Strength"
          }
         },
         "colorscale": [
          [
           0,
           "rgb(117.35616479986322, 158.90410986657548, 189.1848155931624)"
          ],
          [
           0.44852941176470584,
           "rgb(242, 242, 242)"
          ],
          [
           1,
           "rgb(217.3859497570792, 60.84059021210298, 72.65533432870495)"
          ]
         ],
         "connectgaps": false,
         "type": "heatmap",
         "x": [
          "MinTemp",
          "MaxTemp",
          "Rainfall",
          "Evaporation",
          "Sunshine",
          "WindGustSpeed",
          "WindSpeed9am",
          "WindSpeed3pm",
          "Humidity9am",
          "Humidity3pm",
          "Pressure9am",
          "Pressure3pm",
          "Cloud9am",
          "Cloud3pm",
          "Temp9am",
          "Temp3pm",
          "RISK_MM"
         ],
         "xgap": 2,
         "y": [
          "RISK_MM",
          "Temp3pm",
          "Temp9am",
          "Cloud3pm",
          "Cloud9am",
          "Pressure3pm",
          "Pressure9am",
          "Humidity3pm",
          "Humidity9am",
          "WindSpeed3pm",
          "WindSpeed9am",
          "WindGustSpeed",
          "Sunshine",
          "Evaporation",
          "Rainfall",
          "MaxTemp",
          "MinTemp"
         ],
         "ygap": 2,
         "z": [
          [
           0.12474346378522314,
           -0.044208471533470746,
           0.3085570581032797,
           -0.04349818641734212,
           -0.2949726094095004,
           0.16292314625063956,
           0.06940387578114439,
           0.049240197502462786,
           0.1724165643341461,
           0.3131833649023308,
           -0.1636730569860582,
           -0.16418408311431076,
           0.19809549497415063,
           0.23481398795780736,
           0.051232337442162094,
           -0.06681665127235371,
           null
          ],
          [
           0.7088648165457382,
           0.9845620097168316,
           -0.07917761749126048,
           0.5742748919916117,
           0.49017969482114,
           0.03296966882673219,
           0.005108148654731473,
           0.02856734856983232,
           -0.49977700210242787,
           -0.5579892227691395,
           -0.2873009957982802,
           -0.3898632793503618,
           -0.3025197977276223,
           -0.3182541550294256,
           0.8605743134381149,
           null,
           null
          ],
          [
           0.9018125915107229,
           0.8870202884016747,
           0.011477440932908454,
           0.5454971048646101,
           0.2911387864147758,
           0.15025769831961544,
           0.12929755482447355,
           0.16360111451752066,
           -0.4728257972907726,
           -0.22146729532522424,
           -0.4227734565820272,
           -0.470324599766752,
           -0.13784271732011266,
           -0.1278691991995886,
           null,
           null,
           null
          ],
          [
           0.02048877752607652,
           -0.27905320336913464,
           0.17199332586222732,
           -0.18428650024010437,
           -0.7042024587578349,
           0.10908779648440393,
           0.053584297175803465,
           0.02526863626712774,
           0.3580432069293772,
           0.523269554290334,
           -0.14813907239733012,
           -0.08496280423046489,
           0.6041178590619127,
           null,
           null,
           null,
           null
          ],
          [
           0.07762493808817288,
           -0.28986493565869076,
           0.19819467482957334,
           -0.18503212604940772,
           -0.675610344003193,
           0.07123548042485442,
           0.02428044832401747,
           0.05277964481744691,
           0.4521818580631971,
           0.5170373072869847,
           -0.13008137077835202,
           -0.061152442049474696,
           null,
           null,
           null,
           null,
           null
          ],
          [
           -0.4616229996151991,
           -0.4272793600675562,
           -0.1267283916289855,
           -0.29315960262636853,
           -0.02046374825107215,
           -0.412921762367688,
           -0.17491613486110816,
           -0.2549878271995628,
           0.186955332492246,
           0.05183974738730756,
           0.9613476612504572,
           null,
           null,
           null,
           null,
           null,
           null
          ],
          [
           -0.4512600426902873,
           -0.33229311113201154,
           -0.16808542770812934,
           -0.2699065003130992,
           0.04095892358478105,
           -0.4578914492122085,
           -0.22792308825078064,
           -0.29556663635738933,
           0.13951933928048893,
           -0.027449486873533827,
           null,
           null,
           null,
           null,
           null,
           null,
           null
          ],
          [
           0.005999028623322442,
           -0.5092697515070317,
           0.2553123968340489,
           -0.39278483694091276,
           -0.6291219862914834,
           -0.026662912453002487,
           -0.03160746301432176,
           0.015903196647724743,
           0.6673878396370059,
           null,
           null,
           null,
           null,
           null,
           null,
           null,
           null
          ],
          [
           -0.23421064127241803,
           -0.505431685993337,
           0.22372456623128353,
           -0.5058901656117897,
           -0.49160305455756786,
           -0.2154610102219303,
           -0.27080740270864767,
           -0.14594182345757525,
           null,
           null,
           null,
           null,
           null,
           null,
           null,
           null,
           null
          ],
          [
           0.17574929956650176,
           0.05079994916436689,
           0.05775898179444263,
           0.12889472862556464,
           0.056011721079331445,
           0.6864194943877783,
           0.5199712145558592,
           null,
           null,
           null,
           null,
           null,
           null,
           null,
           null,
           null,
           null
          ],
          [
           0.1760052721090854,
           0.014680433984675783,
           0.08681579007481013,
           0.19393622932833696,
           0.008039643345762888,
           0.6048371923680406,
           null,
           null,
           null,
           null,
           null,
           null,
           null,
           null,
           null,
           null,
           null
          ],
          [
           0.17728522362779076,
           0.06769007389516274,
           0.13349694066358989,
           0.20300060458663785,
           -0.03283091480731824,
           null,
           null,
           null,
           null,
           null,
           null,
           null,
           null,
           null,
           null,
           null,
           null
          ],
          [
           0.07296128076680021,
           0.4699674137236143,
           -0.2275247963738862,
           0.3666073747912891,
           null,
           null,
           null,
           null,
           null,
           null,
           null,
           null,
           null,
           null,
           null,
           null,
           null
          ],
          [
           0.4672614652907841,
           0.5889149209476179,
           -0.06454937805464708,
           null,
           null,
           null,
           null,
           null,
           null,
           null,
           null,
           null,
           null,
           null,
           null,
           null,
           null
          ],
          [
           0.10425481706111385,
           -0.07483898642003825,
           null,
           null,
           null,
           null,
           null,
           null,
           null,
           null,
           null,
           null,
           null,
           null,
           null,
           null,
           null
          ],
          [
           0.7362674127583685,
           null,
           null,
           null,
           null,
           null,
           null,
           null,
           null,
           null,
           null,
           null,
           null,
           null,
           null,
           null,
           null
          ],
          [
           null,
           null,
           null,
           null,
           null,
           null,
           null,
           null,
           null,
           null,
           null,
           null,
           null,
           null,
           null,
           null,
           null
          ]
         ]
        }
       ],
       "layout": {
        "autosize": false,
        "height": 700,
        "paper_bgcolor": "rgb(0,0,0,0)",
        "plot_bgcolor": "rgb(0,0,0,0)",
        "template": {
         "data": {
          "bar": [
           {
            "error_x": {
             "color": "#2a3f5f"
            },
            "error_y": {
             "color": "#2a3f5f"
            },
            "marker": {
             "line": {
              "color": "#E5ECF6",
              "width": 0.5
             }
            },
            "type": "bar"
           }
          ],
          "barpolar": [
           {
            "marker": {
             "line": {
              "color": "#E5ECF6",
              "width": 0.5
             }
            },
            "type": "barpolar"
           }
          ],
          "carpet": [
           {
            "aaxis": {
             "endlinecolor": "#2a3f5f",
             "gridcolor": "white",
             "linecolor": "white",
             "minorgridcolor": "white",
             "startlinecolor": "#2a3f5f"
            },
            "baxis": {
             "endlinecolor": "#2a3f5f",
             "gridcolor": "white",
             "linecolor": "white",
             "minorgridcolor": "white",
             "startlinecolor": "#2a3f5f"
            },
            "type": "carpet"
           }
          ],
          "choropleth": [
           {
            "colorbar": {
             "outlinewidth": 0,
             "ticks": ""
            },
            "type": "choropleth"
           }
          ],
          "contour": [
           {
            "colorbar": {
             "outlinewidth": 0,
             "ticks": ""
            },
            "colorscale": [
             [
              0,
              "#0d0887"
             ],
             [
              0.1111111111111111,
              "#46039f"
             ],
             [
              0.2222222222222222,
              "#7201a8"
             ],
             [
              0.3333333333333333,
              "#9c179e"
             ],
             [
              0.4444444444444444,
              "#bd3786"
             ],
             [
              0.5555555555555556,
              "#d8576b"
             ],
             [
              0.6666666666666666,
              "#ed7953"
             ],
             [
              0.7777777777777778,
              "#fb9f3a"
             ],
             [
              0.8888888888888888,
              "#fdca26"
             ],
             [
              1,
              "#f0f921"
             ]
            ],
            "type": "contour"
           }
          ],
          "contourcarpet": [
           {
            "colorbar": {
             "outlinewidth": 0,
             "ticks": ""
            },
            "type": "contourcarpet"
           }
          ],
          "heatmap": [
           {
            "colorbar": {
             "outlinewidth": 0,
             "ticks": ""
            },
            "colorscale": [
             [
              0,
              "#0d0887"
             ],
             [
              0.1111111111111111,
              "#46039f"
             ],
             [
              0.2222222222222222,
              "#7201a8"
             ],
             [
              0.3333333333333333,
              "#9c179e"
             ],
             [
              0.4444444444444444,
              "#bd3786"
             ],
             [
              0.5555555555555556,
              "#d8576b"
             ],
             [
              0.6666666666666666,
              "#ed7953"
             ],
             [
              0.7777777777777778,
              "#fb9f3a"
             ],
             [
              0.8888888888888888,
              "#fdca26"
             ],
             [
              1,
              "#f0f921"
             ]
            ],
            "type": "heatmap"
           }
          ],
          "heatmapgl": [
           {
            "colorbar": {
             "outlinewidth": 0,
             "ticks": ""
            },
            "colorscale": [
             [
              0,
              "#0d0887"
             ],
             [
              0.1111111111111111,
              "#46039f"
             ],
             [
              0.2222222222222222,
              "#7201a8"
             ],
             [
              0.3333333333333333,
              "#9c179e"
             ],
             [
              0.4444444444444444,
              "#bd3786"
             ],
             [
              0.5555555555555556,
              "#d8576b"
             ],
             [
              0.6666666666666666,
              "#ed7953"
             ],
             [
              0.7777777777777778,
              "#fb9f3a"
             ],
             [
              0.8888888888888888,
              "#fdca26"
             ],
             [
              1,
              "#f0f921"
             ]
            ],
            "type": "heatmapgl"
           }
          ],
          "histogram": [
           {
            "marker": {
             "colorbar": {
              "outlinewidth": 0,
              "ticks": ""
             }
            },
            "type": "histogram"
           }
          ],
          "histogram2d": [
           {
            "colorbar": {
             "outlinewidth": 0,
             "ticks": ""
            },
            "colorscale": [
             [
              0,
              "#0d0887"
             ],
             [
              0.1111111111111111,
              "#46039f"
             ],
             [
              0.2222222222222222,
              "#7201a8"
             ],
             [
              0.3333333333333333,
              "#9c179e"
             ],
             [
              0.4444444444444444,
              "#bd3786"
             ],
             [
              0.5555555555555556,
              "#d8576b"
             ],
             [
              0.6666666666666666,
              "#ed7953"
             ],
             [
              0.7777777777777778,
              "#fb9f3a"
             ],
             [
              0.8888888888888888,
              "#fdca26"
             ],
             [
              1,
              "#f0f921"
             ]
            ],
            "type": "histogram2d"
           }
          ],
          "histogram2dcontour": [
           {
            "colorbar": {
             "outlinewidth": 0,
             "ticks": ""
            },
            "colorscale": [
             [
              0,
              "#0d0887"
             ],
             [
              0.1111111111111111,
              "#46039f"
             ],
             [
              0.2222222222222222,
              "#7201a8"
             ],
             [
              0.3333333333333333,
              "#9c179e"
             ],
             [
              0.4444444444444444,
              "#bd3786"
             ],
             [
              0.5555555555555556,
              "#d8576b"
             ],
             [
              0.6666666666666666,
              "#ed7953"
             ],
             [
              0.7777777777777778,
              "#fb9f3a"
             ],
             [
              0.8888888888888888,
              "#fdca26"
             ],
             [
              1,
              "#f0f921"
             ]
            ],
            "type": "histogram2dcontour"
           }
          ],
          "mesh3d": [
           {
            "colorbar": {
             "outlinewidth": 0,
             "ticks": ""
            },
            "type": "mesh3d"
           }
          ],
          "parcoords": [
           {
            "line": {
             "colorbar": {
              "outlinewidth": 0,
              "ticks": ""
             }
            },
            "type": "parcoords"
           }
          ],
          "pie": [
           {
            "automargin": true,
            "type": "pie"
           }
          ],
          "scatter": [
           {
            "marker": {
             "colorbar": {
              "outlinewidth": 0,
              "ticks": ""
             }
            },
            "type": "scatter"
           }
          ],
          "scatter3d": [
           {
            "line": {
             "colorbar": {
              "outlinewidth": 0,
              "ticks": ""
             }
            },
            "marker": {
             "colorbar": {
              "outlinewidth": 0,
              "ticks": ""
             }
            },
            "type": "scatter3d"
           }
          ],
          "scattercarpet": [
           {
            "marker": {
             "colorbar": {
              "outlinewidth": 0,
              "ticks": ""
             }
            },
            "type": "scattercarpet"
           }
          ],
          "scattergeo": [
           {
            "marker": {
             "colorbar": {
              "outlinewidth": 0,
              "ticks": ""
             }
            },
            "type": "scattergeo"
           }
          ],
          "scattergl": [
           {
            "marker": {
             "colorbar": {
              "outlinewidth": 0,
              "ticks": ""
             }
            },
            "type": "scattergl"
           }
          ],
          "scattermapbox": [
           {
            "marker": {
             "colorbar": {
              "outlinewidth": 0,
              "ticks": ""
             }
            },
            "type": "scattermapbox"
           }
          ],
          "scatterpolar": [
           {
            "marker": {
             "colorbar": {
              "outlinewidth": 0,
              "ticks": ""
             }
            },
            "type": "scatterpolar"
           }
          ],
          "scatterpolargl": [
           {
            "marker": {
             "colorbar": {
              "outlinewidth": 0,
              "ticks": ""
             }
            },
            "type": "scatterpolargl"
           }
          ],
          "scatterternary": [
           {
            "marker": {
             "colorbar": {
              "outlinewidth": 0,
              "ticks": ""
             }
            },
            "type": "scatterternary"
           }
          ],
          "surface": [
           {
            "colorbar": {
             "outlinewidth": 0,
             "ticks": ""
            },
            "colorscale": [
             [
              0,
              "#0d0887"
             ],
             [
              0.1111111111111111,
              "#46039f"
             ],
             [
              0.2222222222222222,
              "#7201a8"
             ],
             [
              0.3333333333333333,
              "#9c179e"
             ],
             [
              0.4444444444444444,
              "#bd3786"
             ],
             [
              0.5555555555555556,
              "#d8576b"
             ],
             [
              0.6666666666666666,
              "#ed7953"
             ],
             [
              0.7777777777777778,
              "#fb9f3a"
             ],
             [
              0.8888888888888888,
              "#fdca26"
             ],
             [
              1,
              "#f0f921"
             ]
            ],
            "type": "surface"
           }
          ],
          "table": [
           {
            "cells": {
             "fill": {
              "color": "#EBF0F8"
             },
             "line": {
              "color": "white"
             }
            },
            "header": {
             "fill": {
              "color": "#C8D4E3"
             },
             "line": {
              "color": "white"
             }
            },
            "type": "table"
           }
          ]
         },
         "layout": {
          "annotationdefaults": {
           "arrowcolor": "#2a3f5f",
           "arrowhead": 0,
           "arrowwidth": 1
          },
          "coloraxis": {
           "colorbar": {
            "outlinewidth": 0,
            "ticks": ""
           }
          },
          "colorscale": {
           "diverging": [
            [
             0,
             "#8e0152"
            ],
            [
             0.1,
             "#c51b7d"
            ],
            [
             0.2,
             "#de77ae"
            ],
            [
             0.3,
             "#f1b6da"
            ],
            [
             0.4,
             "#fde0ef"
            ],
            [
             0.5,
             "#f7f7f7"
            ],
            [
             0.6,
             "#e6f5d0"
            ],
            [
             0.7,
             "#b8e186"
            ],
            [
             0.8,
             "#7fbc41"
            ],
            [
             0.9,
             "#4d9221"
            ],
            [
             1,
             "#276419"
            ]
           ],
           "sequential": [
            [
             0,
             "#0d0887"
            ],
            [
             0.1111111111111111,
             "#46039f"
            ],
            [
             0.2222222222222222,
             "#7201a8"
            ],
            [
             0.3333333333333333,
             "#9c179e"
            ],
            [
             0.4444444444444444,
             "#bd3786"
            ],
            [
             0.5555555555555556,
             "#d8576b"
            ],
            [
             0.6666666666666666,
             "#ed7953"
            ],
            [
             0.7777777777777778,
             "#fb9f3a"
            ],
            [
             0.8888888888888888,
             "#fdca26"
            ],
            [
             1,
             "#f0f921"
            ]
           ],
           "sequentialminus": [
            [
             0,
             "#0d0887"
            ],
            [
             0.1111111111111111,
             "#46039f"
            ],
            [
             0.2222222222222222,
             "#7201a8"
            ],
            [
             0.3333333333333333,
             "#9c179e"
            ],
            [
             0.4444444444444444,
             "#bd3786"
            ],
            [
             0.5555555555555556,
             "#d8576b"
            ],
            [
             0.6666666666666666,
             "#ed7953"
            ],
            [
             0.7777777777777778,
             "#fb9f3a"
            ],
            [
             0.8888888888888888,
             "#fdca26"
            ],
            [
             1,
             "#f0f921"
            ]
           ]
          },
          "colorway": [
           "#636efa",
           "#EF553B",
           "#00cc96",
           "#ab63fa",
           "#FFA15A",
           "#19d3f3",
           "#FF6692",
           "#B6E880",
           "#FF97FF",
           "#FECB52"
          ],
          "font": {
           "color": "#2a3f5f"
          },
          "geo": {
           "bgcolor": "white",
           "lakecolor": "white",
           "landcolor": "#E5ECF6",
           "showlakes": true,
           "showland": true,
           "subunitcolor": "white"
          },
          "hoverlabel": {
           "align": "left"
          },
          "hovermode": "closest",
          "mapbox": {
           "style": "light"
          },
          "paper_bgcolor": "white",
          "plot_bgcolor": "#E5ECF6",
          "polar": {
           "angularaxis": {
            "gridcolor": "white",
            "linecolor": "white",
            "ticks": ""
           },
           "bgcolor": "#E5ECF6",
           "radialaxis": {
            "gridcolor": "white",
            "linecolor": "white",
            "ticks": ""
           }
          },
          "scene": {
           "xaxis": {
            "backgroundcolor": "#E5ECF6",
            "gridcolor": "white",
            "gridwidth": 2,
            "linecolor": "white",
            "showbackground": true,
            "ticks": "",
            "zerolinecolor": "white"
           },
           "yaxis": {
            "backgroundcolor": "#E5ECF6",
            "gridcolor": "white",
            "gridwidth": 2,
            "linecolor": "white",
            "showbackground": true,
            "ticks": "",
            "zerolinecolor": "white"
           },
           "zaxis": {
            "backgroundcolor": "#E5ECF6",
            "gridcolor": "white",
            "gridwidth": 2,
            "linecolor": "white",
            "showbackground": true,
            "ticks": "",
            "zerolinecolor": "white"
           }
          },
          "shapedefaults": {
           "line": {
            "color": "#2a3f5f"
           }
          },
          "ternary": {
           "aaxis": {
            "gridcolor": "white",
            "linecolor": "white",
            "ticks": ""
           },
           "baxis": {
            "gridcolor": "white",
            "linecolor": "white",
            "ticks": ""
           },
           "bgcolor": "#E5ECF6",
           "caxis": {
            "gridcolor": "white",
            "linecolor": "white",
            "ticks": ""
           }
          },
          "title": {
           "x": 0.05
          },
          "xaxis": {
           "automargin": true,
           "gridcolor": "white",
           "linecolor": "white",
           "ticks": "",
           "title": {
            "standoff": 15
           },
           "zerolinecolor": "white",
           "zerolinewidth": 2
          },
          "yaxis": {
           "automargin": true,
           "gridcolor": "white",
           "linecolor": "white",
           "ticks": "",
           "title": {
            "standoff": 15
           },
           "zerolinecolor": "white",
           "zerolinewidth": 2
          }
         }
        },
        "title": {
         "font": {
          "size": 25
         },
         "text": "Correlation Matrix"
        },
        "width": 700,
        "xaxis": {
         "automargin": true,
         "autorange": true,
         "range": [
          -0.5,
          16.5
         ],
         "showgrid": false,
         "tickangle": -90,
         "ticks": "",
         "type": "category"
        },
        "yaxis": {
         "automargin": true,
         "autorange": true,
         "range": [
          -0.5,
          16.5
         ],
         "showgrid": false,
         "ticks": "",
         "type": "category"
        }
       }
      },
      "text/html": [
       "<div>\n",
       "        \n",
       "        \n",
       "            <div id=\"9e213009-6154-47cc-aa0f-fca2ea9ee276\" class=\"plotly-graph-div\" style=\"height:700px; width:700px;\"></div>\n",
       "            <script type=\"text/javascript\">\n",
       "                require([\"plotly\"], function(Plotly) {\n",
       "                    window.PLOTLYENV=window.PLOTLYENV || {};\n",
       "                    \n",
       "                if (document.getElementById(\"9e213009-6154-47cc-aa0f-fca2ea9ee276\")) {\n",
       "                    Plotly.newPlot(\n",
       "                        '9e213009-6154-47cc-aa0f-fca2ea9ee276',\n",
       "                        [{\"colorbar\": {\"title\": {\"text\": \"Strength\"}}, \"colorscale\": [[0, \"rgb(117.35616479986322, 158.90410986657548, 189.1848155931624)\"], [0.44852941176470584, \"rgb(242, 242, 242)\"], [1.0, \"rgb(217.3859497570792, 60.84059021210298, 72.65533432870495)\"]], \"connectgaps\": false, \"type\": \"heatmap\", \"x\": [\"MinTemp\", \"MaxTemp\", \"Rainfall\", \"Evaporation\", \"Sunshine\", \"WindGustSpeed\", \"WindSpeed9am\", \"WindSpeed3pm\", \"Humidity9am\", \"Humidity3pm\", \"Pressure9am\", \"Pressure3pm\", \"Cloud9am\", \"Cloud3pm\", \"Temp9am\", \"Temp3pm\", \"RISK_MM\"], \"xgap\": 2, \"y\": [\"RISK_MM\", \"Temp3pm\", \"Temp9am\", \"Cloud3pm\", \"Cloud9am\", \"Pressure3pm\", \"Pressure9am\", \"Humidity3pm\", \"Humidity9am\", \"WindSpeed3pm\", \"WindSpeed9am\", \"WindGustSpeed\", \"Sunshine\", \"Evaporation\", \"Rainfall\", \"MaxTemp\", \"MinTemp\"], \"ygap\": 2, \"z\": [[0.12474346378522314, -0.044208471533470746, 0.3085570581032797, -0.04349818641734212, -0.2949726094095004, 0.16292314625063956, 0.06940387578114439, 0.049240197502462786, 0.1724165643341461, 0.3131833649023308, -0.1636730569860582, -0.16418408311431076, 0.19809549497415063, 0.23481398795780736, 0.051232337442162094, -0.06681665127235371, null], [0.7088648165457382, 0.9845620097168316, -0.07917761749126048, 0.5742748919916117, 0.49017969482114, 0.03296966882673219, 0.005108148654731473, 0.02856734856983232, -0.49977700210242787, -0.5579892227691395, -0.2873009957982802, -0.3898632793503618, -0.3025197977276223, -0.3182541550294256, 0.8605743134381149, null, null], [0.9018125915107229, 0.8870202884016747, 0.011477440932908454, 0.5454971048646101, 0.2911387864147758, 0.15025769831961544, 0.12929755482447355, 0.16360111451752066, -0.4728257972907726, -0.22146729532522424, -0.4227734565820272, -0.470324599766752, -0.13784271732011266, -0.1278691991995886, null, null, null], [0.02048877752607652, -0.27905320336913464, 0.17199332586222732, -0.18428650024010437, -0.7042024587578349, 0.10908779648440393, 0.053584297175803465, 0.02526863626712774, 0.3580432069293772, 0.523269554290334, -0.14813907239733012, -0.08496280423046489, 0.6041178590619127, null, null, null, null], [0.07762493808817288, -0.28986493565869076, 0.19819467482957334, -0.18503212604940772, -0.675610344003193, 0.07123548042485442, 0.02428044832401747, 0.05277964481744691, 0.4521818580631971, 0.5170373072869847, -0.13008137077835202, -0.061152442049474696, null, null, null, null, null], [-0.4616229996151991, -0.4272793600675562, -0.1267283916289855, -0.29315960262636853, -0.02046374825107215, -0.412921762367688, -0.17491613486110816, -0.2549878271995628, 0.186955332492246, 0.05183974738730756, 0.9613476612504572, null, null, null, null, null, null], [-0.4512600426902873, -0.33229311113201154, -0.16808542770812934, -0.2699065003130992, 0.04095892358478105, -0.4578914492122085, -0.22792308825078064, -0.29556663635738933, 0.13951933928048893, -0.027449486873533827, null, null, null, null, null, null, null], [0.005999028623322442, -0.5092697515070317, 0.2553123968340489, -0.39278483694091276, -0.6291219862914834, -0.026662912453002487, -0.03160746301432176, 0.015903196647724743, 0.6673878396370059, null, null, null, null, null, null, null, null], [-0.23421064127241803, -0.505431685993337, 0.22372456623128353, -0.5058901656117897, -0.49160305455756786, -0.2154610102219303, -0.27080740270864767, -0.14594182345757525, null, null, null, null, null, null, null, null, null], [0.17574929956650176, 0.05079994916436689, 0.05775898179444263, 0.12889472862556464, 0.056011721079331445, 0.6864194943877783, 0.5199712145558592, null, null, null, null, null, null, null, null, null, null], [0.1760052721090854, 0.014680433984675783, 0.08681579007481013, 0.19393622932833696, 0.008039643345762888, 0.6048371923680406, null, null, null, null, null, null, null, null, null, null, null], [0.17728522362779076, 0.06769007389516274, 0.13349694066358989, 0.20300060458663785, -0.03283091480731824, null, null, null, null, null, null, null, null, null, null, null, null], [0.07296128076680021, 0.4699674137236143, -0.2275247963738862, 0.3666073747912891, null, null, null, null, null, null, null, null, null, null, null, null, null], [0.4672614652907841, 0.5889149209476179, -0.06454937805464708, null, null, null, null, null, null, null, null, null, null, null, null, null, null], [0.10425481706111385, -0.07483898642003825, null, null, null, null, null, null, null, null, null, null, null, null, null, null, null], [0.7362674127583685, null, null, null, null, null, null, null, null, null, null, null, null, null, null, null, null], [null, null, null, null, null, null, null, null, null, null, null, null, null, null, null, null, null]]}],\n",
       "                        {\"autosize\": false, \"height\": 700, \"paper_bgcolor\": \"rgb(0,0,0,0)\", \"plot_bgcolor\": \"rgb(0,0,0,0)\", \"template\": {\"data\": {\"bar\": [{\"error_x\": {\"color\": \"#2a3f5f\"}, \"error_y\": {\"color\": \"#2a3f5f\"}, \"marker\": {\"line\": {\"color\": \"#E5ECF6\", \"width\": 0.5}}, \"type\": \"bar\"}], \"barpolar\": [{\"marker\": {\"line\": {\"color\": \"#E5ECF6\", \"width\": 0.5}}, \"type\": \"barpolar\"}], \"carpet\": [{\"aaxis\": {\"endlinecolor\": \"#2a3f5f\", \"gridcolor\": \"white\", \"linecolor\": \"white\", \"minorgridcolor\": \"white\", \"startlinecolor\": \"#2a3f5f\"}, \"baxis\": {\"endlinecolor\": \"#2a3f5f\", \"gridcolor\": \"white\", \"linecolor\": \"white\", \"minorgridcolor\": \"white\", \"startlinecolor\": \"#2a3f5f\"}, \"type\": \"carpet\"}], \"choropleth\": [{\"colorbar\": {\"outlinewidth\": 0, \"ticks\": \"\"}, \"type\": \"choropleth\"}], \"contour\": [{\"colorbar\": {\"outlinewidth\": 0, \"ticks\": \"\"}, \"colorscale\": [[0.0, \"#0d0887\"], [0.1111111111111111, \"#46039f\"], [0.2222222222222222, \"#7201a8\"], [0.3333333333333333, \"#9c179e\"], [0.4444444444444444, \"#bd3786\"], [0.5555555555555556, \"#d8576b\"], [0.6666666666666666, \"#ed7953\"], [0.7777777777777778, \"#fb9f3a\"], [0.8888888888888888, \"#fdca26\"], [1.0, \"#f0f921\"]], \"type\": \"contour\"}], \"contourcarpet\": [{\"colorbar\": {\"outlinewidth\": 0, \"ticks\": \"\"}, \"type\": \"contourcarpet\"}], \"heatmap\": [{\"colorbar\": {\"outlinewidth\": 0, \"ticks\": \"\"}, \"colorscale\": [[0.0, \"#0d0887\"], [0.1111111111111111, \"#46039f\"], [0.2222222222222222, \"#7201a8\"], [0.3333333333333333, \"#9c179e\"], [0.4444444444444444, \"#bd3786\"], [0.5555555555555556, \"#d8576b\"], [0.6666666666666666, \"#ed7953\"], [0.7777777777777778, \"#fb9f3a\"], [0.8888888888888888, \"#fdca26\"], [1.0, \"#f0f921\"]], \"type\": \"heatmap\"}], \"heatmapgl\": [{\"colorbar\": {\"outlinewidth\": 0, \"ticks\": \"\"}, \"colorscale\": [[0.0, \"#0d0887\"], [0.1111111111111111, \"#46039f\"], [0.2222222222222222, \"#7201a8\"], [0.3333333333333333, \"#9c179e\"], [0.4444444444444444, \"#bd3786\"], [0.5555555555555556, \"#d8576b\"], [0.6666666666666666, \"#ed7953\"], [0.7777777777777778, \"#fb9f3a\"], [0.8888888888888888, \"#fdca26\"], [1.0, \"#f0f921\"]], \"type\": \"heatmapgl\"}], \"histogram\": [{\"marker\": {\"colorbar\": {\"outlinewidth\": 0, \"ticks\": \"\"}}, \"type\": \"histogram\"}], \"histogram2d\": [{\"colorbar\": {\"outlinewidth\": 0, \"ticks\": \"\"}, \"colorscale\": [[0.0, \"#0d0887\"], [0.1111111111111111, \"#46039f\"], [0.2222222222222222, \"#7201a8\"], [0.3333333333333333, \"#9c179e\"], [0.4444444444444444, \"#bd3786\"], [0.5555555555555556, \"#d8576b\"], [0.6666666666666666, \"#ed7953\"], [0.7777777777777778, \"#fb9f3a\"], [0.8888888888888888, \"#fdca26\"], [1.0, \"#f0f921\"]], \"type\": \"histogram2d\"}], \"histogram2dcontour\": [{\"colorbar\": {\"outlinewidth\": 0, \"ticks\": \"\"}, \"colorscale\": [[0.0, \"#0d0887\"], [0.1111111111111111, \"#46039f\"], [0.2222222222222222, \"#7201a8\"], [0.3333333333333333, \"#9c179e\"], [0.4444444444444444, \"#bd3786\"], [0.5555555555555556, \"#d8576b\"], [0.6666666666666666, \"#ed7953\"], [0.7777777777777778, \"#fb9f3a\"], [0.8888888888888888, \"#fdca26\"], [1.0, \"#f0f921\"]], \"type\": \"histogram2dcontour\"}], \"mesh3d\": [{\"colorbar\": {\"outlinewidth\": 0, \"ticks\": \"\"}, \"type\": \"mesh3d\"}], \"parcoords\": [{\"line\": {\"colorbar\": {\"outlinewidth\": 0, \"ticks\": \"\"}}, \"type\": \"parcoords\"}], \"pie\": [{\"automargin\": true, \"type\": \"pie\"}], \"scatter\": [{\"marker\": {\"colorbar\": {\"outlinewidth\": 0, \"ticks\": \"\"}}, \"type\": \"scatter\"}], \"scatter3d\": [{\"line\": {\"colorbar\": {\"outlinewidth\": 0, \"ticks\": \"\"}}, \"marker\": {\"colorbar\": {\"outlinewidth\": 0, \"ticks\": \"\"}}, \"type\": \"scatter3d\"}], \"scattercarpet\": [{\"marker\": {\"colorbar\": {\"outlinewidth\": 0, \"ticks\": \"\"}}, \"type\": \"scattercarpet\"}], \"scattergeo\": [{\"marker\": {\"colorbar\": {\"outlinewidth\": 0, \"ticks\": \"\"}}, \"type\": \"scattergeo\"}], \"scattergl\": [{\"marker\": {\"colorbar\": {\"outlinewidth\": 0, \"ticks\": \"\"}}, \"type\": \"scattergl\"}], \"scattermapbox\": [{\"marker\": {\"colorbar\": {\"outlinewidth\": 0, \"ticks\": \"\"}}, \"type\": \"scattermapbox\"}], \"scatterpolar\": [{\"marker\": {\"colorbar\": {\"outlinewidth\": 0, \"ticks\": \"\"}}, \"type\": \"scatterpolar\"}], \"scatterpolargl\": [{\"marker\": {\"colorbar\": {\"outlinewidth\": 0, \"ticks\": \"\"}}, \"type\": \"scatterpolargl\"}], \"scatterternary\": [{\"marker\": {\"colorbar\": {\"outlinewidth\": 0, \"ticks\": \"\"}}, \"type\": \"scatterternary\"}], \"surface\": [{\"colorbar\": {\"outlinewidth\": 0, \"ticks\": \"\"}, \"colorscale\": [[0.0, \"#0d0887\"], [0.1111111111111111, \"#46039f\"], [0.2222222222222222, \"#7201a8\"], [0.3333333333333333, \"#9c179e\"], [0.4444444444444444, \"#bd3786\"], [0.5555555555555556, \"#d8576b\"], [0.6666666666666666, \"#ed7953\"], [0.7777777777777778, \"#fb9f3a\"], [0.8888888888888888, \"#fdca26\"], [1.0, \"#f0f921\"]], \"type\": \"surface\"}], \"table\": [{\"cells\": {\"fill\": {\"color\": \"#EBF0F8\"}, \"line\": {\"color\": \"white\"}}, \"header\": {\"fill\": {\"color\": \"#C8D4E3\"}, \"line\": {\"color\": \"white\"}}, \"type\": \"table\"}]}, \"layout\": {\"annotationdefaults\": {\"arrowcolor\": \"#2a3f5f\", \"arrowhead\": 0, \"arrowwidth\": 1}, \"coloraxis\": {\"colorbar\": {\"outlinewidth\": 0, \"ticks\": \"\"}}, \"colorscale\": {\"diverging\": [[0, \"#8e0152\"], [0.1, \"#c51b7d\"], [0.2, \"#de77ae\"], [0.3, \"#f1b6da\"], [0.4, \"#fde0ef\"], [0.5, \"#f7f7f7\"], [0.6, \"#e6f5d0\"], [0.7, \"#b8e186\"], [0.8, \"#7fbc41\"], [0.9, \"#4d9221\"], [1, \"#276419\"]], \"sequential\": [[0.0, \"#0d0887\"], [0.1111111111111111, \"#46039f\"], [0.2222222222222222, \"#7201a8\"], [0.3333333333333333, \"#9c179e\"], [0.4444444444444444, \"#bd3786\"], [0.5555555555555556, \"#d8576b\"], [0.6666666666666666, \"#ed7953\"], [0.7777777777777778, \"#fb9f3a\"], [0.8888888888888888, \"#fdca26\"], [1.0, \"#f0f921\"]], \"sequentialminus\": [[0.0, \"#0d0887\"], [0.1111111111111111, \"#46039f\"], [0.2222222222222222, \"#7201a8\"], [0.3333333333333333, \"#9c179e\"], [0.4444444444444444, \"#bd3786\"], [0.5555555555555556, \"#d8576b\"], [0.6666666666666666, \"#ed7953\"], [0.7777777777777778, \"#fb9f3a\"], [0.8888888888888888, \"#fdca26\"], [1.0, \"#f0f921\"]]}, \"colorway\": [\"#636efa\", \"#EF553B\", \"#00cc96\", \"#ab63fa\", \"#FFA15A\", \"#19d3f3\", \"#FF6692\", \"#B6E880\", \"#FF97FF\", \"#FECB52\"], \"font\": {\"color\": \"#2a3f5f\"}, \"geo\": {\"bgcolor\": \"white\", \"lakecolor\": \"white\", \"landcolor\": \"#E5ECF6\", \"showlakes\": true, \"showland\": true, \"subunitcolor\": \"white\"}, \"hoverlabel\": {\"align\": \"left\"}, \"hovermode\": \"closest\", \"mapbox\": {\"style\": \"light\"}, \"paper_bgcolor\": \"white\", \"plot_bgcolor\": \"#E5ECF6\", \"polar\": {\"angularaxis\": {\"gridcolor\": \"white\", \"linecolor\": \"white\", \"ticks\": \"\"}, \"bgcolor\": \"#E5ECF6\", \"radialaxis\": {\"gridcolor\": \"white\", \"linecolor\": \"white\", \"ticks\": \"\"}}, \"scene\": {\"xaxis\": {\"backgroundcolor\": \"#E5ECF6\", \"gridcolor\": \"white\", \"gridwidth\": 2, \"linecolor\": \"white\", \"showbackground\": true, \"ticks\": \"\", \"zerolinecolor\": \"white\"}, \"yaxis\": {\"backgroundcolor\": \"#E5ECF6\", \"gridcolor\": \"white\", \"gridwidth\": 2, \"linecolor\": \"white\", \"showbackground\": true, \"ticks\": \"\", \"zerolinecolor\": \"white\"}, \"zaxis\": {\"backgroundcolor\": \"#E5ECF6\", \"gridcolor\": \"white\", \"gridwidth\": 2, \"linecolor\": \"white\", \"showbackground\": true, \"ticks\": \"\", \"zerolinecolor\": \"white\"}}, \"shapedefaults\": {\"line\": {\"color\": \"#2a3f5f\"}}, \"ternary\": {\"aaxis\": {\"gridcolor\": \"white\", \"linecolor\": \"white\", \"ticks\": \"\"}, \"baxis\": {\"gridcolor\": \"white\", \"linecolor\": \"white\", \"ticks\": \"\"}, \"bgcolor\": \"#E5ECF6\", \"caxis\": {\"gridcolor\": \"white\", \"linecolor\": \"white\", \"ticks\": \"\"}}, \"title\": {\"x\": 0.05}, \"xaxis\": {\"automargin\": true, \"gridcolor\": \"white\", \"linecolor\": \"white\", \"ticks\": \"\", \"title\": {\"standoff\": 15}, \"zerolinecolor\": \"white\", \"zerolinewidth\": 2}, \"yaxis\": {\"automargin\": true, \"gridcolor\": \"white\", \"linecolor\": \"white\", \"ticks\": \"\", \"title\": {\"standoff\": 15}, \"zerolinecolor\": \"white\", \"zerolinewidth\": 2}}}, \"title\": {\"font\": {\"size\": 25}, \"text\": \"Correlation Matrix\"}, \"width\": 700, \"xaxis\": {\"automargin\": true, \"showgrid\": false, \"tickangle\": -90, \"ticks\": \"\"}, \"yaxis\": {\"automargin\": true, \"showgrid\": false, \"ticks\": \"\"}},\n",
       "                        {\"displayModeBar\": false, \"responsive\": true}\n",
       "                    ).then(function(){\n",
       "                            \n",
       "var gd = document.getElementById('9e213009-6154-47cc-aa0f-fca2ea9ee276');\n",
       "var x = new MutationObserver(function (mutations, observer) {{\n",
       "        var display = window.getComputedStyle(gd).display;\n",
       "        if (!display || display === 'none') {{\n",
       "            console.log([gd, 'removed!']);\n",
       "            Plotly.purge(gd);\n",
       "            observer.disconnect();\n",
       "        }}\n",
       "}});\n",
       "\n",
       "// Listen for the removal of the full notebook cells\n",
       "var notebookContainer = gd.closest('#notebook-container');\n",
       "if (notebookContainer) {{\n",
       "    x.observe(notebookContainer, {childList: true});\n",
       "}}\n",
       "\n",
       "// Listen for the clearing of the current output cell\n",
       "var outputEl = gd.closest('.output');\n",
       "if (outputEl) {{\n",
       "    x.observe(outputEl, {childList: true});\n",
       "}}\n",
       "\n",
       "                        })\n",
       "                };\n",
       "                });\n",
       "            </script>\n",
       "        </div>"
      ]
     },
     "metadata": {},
     "output_type": "display_data"
    }
   ],
   "source": [
    "correlation_matrix(df)"
   ]
  },
  {
   "cell_type": "markdown",
   "metadata": {},
   "source": [
    "## Enable clustering"
   ]
  },
  {
   "cell_type": "code",
   "execution_count": 5,
   "metadata": {},
   "outputs": [
    {
     "data": {
      "text/html": [
       "        <script type=\"text/javascript\">\n",
       "        window.PlotlyConfig = {MathJaxConfig: 'local'};\n",
       "        if (window.MathJax) {MathJax.Hub.Config({SVG: {font: \"STIX-Web\"}});}\n",
       "        if (typeof require !== 'undefined') {\n",
       "        require.undef(\"plotly\");\n",
       "        requirejs.config({\n",
       "            paths: {\n",
       "                'plotly': ['https://cdn.plot.ly/plotly-latest.min']\n",
       "            }\n",
       "        });\n",
       "        require(['plotly'], function(Plotly) {\n",
       "            window._Plotly = Plotly;\n",
       "        });\n",
       "        }\n",
       "        </script>\n",
       "        "
      ]
     },
     "metadata": {},
     "output_type": "display_data"
    },
    {
     "data": {
      "application/vnd.plotly.v1+json": {
       "config": {
        "displayModeBar": false,
        "linkText": "Export to plot.ly",
        "plotlyServerURL": "https://plot.ly",
        "showLink": false
       },
       "data": [
        {
         "colorbar": {
          "title": {
           "text": "Strength"
          }
         },
         "colorscale": [
          [
           0,
           "rgb(117.35616479986322, 158.90410986657548, 189.1848155931624)"
          ],
          [
           0.44852941176470584,
           "rgb(242, 242, 242)"
          ],
          [
           1,
           "rgb(217.3859497570792, 60.84059021210298, 72.65533432870495)"
          ]
         ],
         "connectgaps": false,
         "type": "heatmap",
         "x": [
          "WindSpeed9am",
          "WindGustSpeed",
          "WindSpeed3pm",
          "Sunshine",
          "Evaporation",
          "MaxTemp",
          "Temp3pm",
          "MinTemp",
          "Temp9am",
          "Pressure9am",
          "Pressure3pm",
          "Rainfall",
          "RISK_MM",
          "Humidity9am",
          "Humidity3pm",
          "Cloud9am",
          "Cloud3pm"
         ],
         "xgap": 2,
         "y": [
          "Cloud3pm",
          "Cloud9am",
          "Humidity3pm",
          "Humidity9am",
          "RISK_MM",
          "Rainfall",
          "Pressure3pm",
          "Pressure9am",
          "Temp9am",
          "MinTemp",
          "Temp3pm",
          "MaxTemp",
          "Evaporation",
          "Sunshine",
          "WindSpeed3pm",
          "WindGustSpeed",
          "WindSpeed9am"
         ],
         "ygap": 2,
         "z": [
          [
           0.053584297175803465,
           0.10908779648440393,
           0.02526863626712774,
           -0.7042024587578349,
           -0.18428650024010437,
           -0.27905320336913464,
           -0.3182541550294256,
           0.02048877752607652,
           -0.1278691991995886,
           -0.14813907239733012,
           -0.08496280423046489,
           0.17199332586222732,
           0.23481398795780736,
           0.3580432069293772,
           0.523269554290334,
           0.6041178590619127,
           null
          ],
          [
           0.02428044832401747,
           0.07123548042485442,
           0.05277964481744691,
           -0.675610344003193,
           -0.18503212604940772,
           -0.28986493565869076,
           -0.3025197977276223,
           0.07762493808817288,
           -0.13784271732011266,
           -0.13008137077835202,
           -0.061152442049474696,
           0.19819467482957334,
           0.19809549497415063,
           0.4521818580631971,
           0.5170373072869847,
           null,
           null
          ],
          [
           -0.03160746301432176,
           -0.026662912453002487,
           0.015903196647724743,
           -0.6291219862914834,
           -0.39278483694091276,
           -0.5092697515070317,
           -0.5579892227691395,
           0.005999028623322442,
           -0.22146729532522424,
           -0.027449486873533827,
           0.05183974738730756,
           0.2553123968340489,
           0.3131833649023308,
           0.6673878396370059,
           null,
           null,
           null
          ],
          [
           -0.27080740270864767,
           -0.2154610102219303,
           -0.14594182345757525,
           -0.49160305455756786,
           -0.5058901656117897,
           -0.505431685993337,
           -0.49977700210242787,
           -0.23421064127241803,
           -0.4728257972907726,
           0.13951933928048893,
           0.186955332492246,
           0.22372456623128353,
           0.1724165643341461,
           null,
           null,
           null,
           null
          ],
          [
           0.06940387578114439,
           0.16292314625063956,
           0.049240197502462786,
           -0.2949726094095004,
           -0.04349818641734212,
           -0.044208471533470746,
           -0.06681665127235371,
           0.12474346378522314,
           0.051232337442162094,
           -0.1636730569860582,
           -0.16418408311431076,
           0.3085570581032797,
           null,
           null,
           null,
           null,
           null
          ],
          [
           0.08681579007481013,
           0.13349694066358989,
           0.05775898179444263,
           -0.2275247963738862,
           -0.06454937805464708,
           -0.07483898642003825,
           -0.07917761749126048,
           0.10425481706111385,
           0.011477440932908454,
           -0.16808542770812934,
           -0.1267283916289855,
           null,
           null,
           null,
           null,
           null,
           null
          ],
          [
           -0.17491613486110816,
           -0.412921762367688,
           -0.2549878271995628,
           -0.02046374825107215,
           -0.29315960262636853,
           -0.4272793600675562,
           -0.3898632793503618,
           -0.4616229996151991,
           -0.470324599766752,
           0.9613476612504572,
           null,
           null,
           null,
           null,
           null,
           null,
           null
          ],
          [
           -0.22792308825078064,
           -0.4578914492122085,
           -0.29556663635738933,
           0.04095892358478105,
           -0.2699065003130992,
           -0.33229311113201154,
           -0.2873009957982802,
           -0.4512600426902873,
           -0.4227734565820272,
           null,
           null,
           null,
           null,
           null,
           null,
           null,
           null
          ],
          [
           0.12929755482447355,
           0.15025769831961544,
           0.16360111451752066,
           0.2911387864147758,
           0.5454971048646101,
           0.8870202884016747,
           0.8605743134381149,
           0.9018125915107229,
           null,
           null,
           null,
           null,
           null,
           null,
           null,
           null,
           null
          ],
          [
           0.1760052721090854,
           0.17728522362779076,
           0.17574929956650176,
           0.07296128076680021,
           0.4672614652907841,
           0.7362674127583685,
           0.7088648165457382,
           null,
           null,
           null,
           null,
           null,
           null,
           null,
           null,
           null,
           null
          ],
          [
           0.005108148654731473,
           0.03296966882673219,
           0.02856734856983232,
           0.49017969482114,
           0.5742748919916117,
           0.9845620097168316,
           null,
           null,
           null,
           null,
           null,
           null,
           null,
           null,
           null,
           null,
           null
          ],
          [
           0.014680433984675783,
           0.06769007389516274,
           0.05079994916436689,
           0.4699674137236143,
           0.5889149209476179,
           null,
           null,
           null,
           null,
           null,
           null,
           null,
           null,
           null,
           null,
           null,
           null
          ],
          [
           0.19393622932833696,
           0.20300060458663785,
           0.12889472862556464,
           0.3666073747912891,
           null,
           null,
           null,
           null,
           null,
           null,
           null,
           null,
           null,
           null,
           null,
           null,
           null
          ],
          [
           0.008039643345762888,
           -0.03283091480731824,
           0.056011721079331445,
           null,
           null,
           null,
           null,
           null,
           null,
           null,
           null,
           null,
           null,
           null,
           null,
           null,
           null
          ],
          [
           0.5199712145558592,
           0.6864194943877783,
           null,
           null,
           null,
           null,
           null,
           null,
           null,
           null,
           null,
           null,
           null,
           null,
           null,
           null,
           null
          ],
          [
           0.6048371923680406,
           null,
           null,
           null,
           null,
           null,
           null,
           null,
           null,
           null,
           null,
           null,
           null,
           null,
           null,
           null,
           null
          ],
          [
           null,
           null,
           null,
           null,
           null,
           null,
           null,
           null,
           null,
           null,
           null,
           null,
           null,
           null,
           null,
           null,
           null
          ]
         ]
        }
       ],
       "layout": {
        "autosize": false,
        "height": 700,
        "paper_bgcolor": "rgb(0,0,0,0)",
        "plot_bgcolor": "rgb(0,0,0,0)",
        "template": {
         "data": {
          "bar": [
           {
            "error_x": {
             "color": "#2a3f5f"
            },
            "error_y": {
             "color": "#2a3f5f"
            },
            "marker": {
             "line": {
              "color": "#E5ECF6",
              "width": 0.5
             }
            },
            "type": "bar"
           }
          ],
          "barpolar": [
           {
            "marker": {
             "line": {
              "color": "#E5ECF6",
              "width": 0.5
             }
            },
            "type": "barpolar"
           }
          ],
          "carpet": [
           {
            "aaxis": {
             "endlinecolor": "#2a3f5f",
             "gridcolor": "white",
             "linecolor": "white",
             "minorgridcolor": "white",
             "startlinecolor": "#2a3f5f"
            },
            "baxis": {
             "endlinecolor": "#2a3f5f",
             "gridcolor": "white",
             "linecolor": "white",
             "minorgridcolor": "white",
             "startlinecolor": "#2a3f5f"
            },
            "type": "carpet"
           }
          ],
          "choropleth": [
           {
            "colorbar": {
             "outlinewidth": 0,
             "ticks": ""
            },
            "type": "choropleth"
           }
          ],
          "contour": [
           {
            "colorbar": {
             "outlinewidth": 0,
             "ticks": ""
            },
            "colorscale": [
             [
              0,
              "#0d0887"
             ],
             [
              0.1111111111111111,
              "#46039f"
             ],
             [
              0.2222222222222222,
              "#7201a8"
             ],
             [
              0.3333333333333333,
              "#9c179e"
             ],
             [
              0.4444444444444444,
              "#bd3786"
             ],
             [
              0.5555555555555556,
              "#d8576b"
             ],
             [
              0.6666666666666666,
              "#ed7953"
             ],
             [
              0.7777777777777778,
              "#fb9f3a"
             ],
             [
              0.8888888888888888,
              "#fdca26"
             ],
             [
              1,
              "#f0f921"
             ]
            ],
            "type": "contour"
           }
          ],
          "contourcarpet": [
           {
            "colorbar": {
             "outlinewidth": 0,
             "ticks": ""
            },
            "type": "contourcarpet"
           }
          ],
          "heatmap": [
           {
            "colorbar": {
             "outlinewidth": 0,
             "ticks": ""
            },
            "colorscale": [
             [
              0,
              "#0d0887"
             ],
             [
              0.1111111111111111,
              "#46039f"
             ],
             [
              0.2222222222222222,
              "#7201a8"
             ],
             [
              0.3333333333333333,
              "#9c179e"
             ],
             [
              0.4444444444444444,
              "#bd3786"
             ],
             [
              0.5555555555555556,
              "#d8576b"
             ],
             [
              0.6666666666666666,
              "#ed7953"
             ],
             [
              0.7777777777777778,
              "#fb9f3a"
             ],
             [
              0.8888888888888888,
              "#fdca26"
             ],
             [
              1,
              "#f0f921"
             ]
            ],
            "type": "heatmap"
           }
          ],
          "heatmapgl": [
           {
            "colorbar": {
             "outlinewidth": 0,
             "ticks": ""
            },
            "colorscale": [
             [
              0,
              "#0d0887"
             ],
             [
              0.1111111111111111,
              "#46039f"
             ],
             [
              0.2222222222222222,
              "#7201a8"
             ],
             [
              0.3333333333333333,
              "#9c179e"
             ],
             [
              0.4444444444444444,
              "#bd3786"
             ],
             [
              0.5555555555555556,
              "#d8576b"
             ],
             [
              0.6666666666666666,
              "#ed7953"
             ],
             [
              0.7777777777777778,
              "#fb9f3a"
             ],
             [
              0.8888888888888888,
              "#fdca26"
             ],
             [
              1,
              "#f0f921"
             ]
            ],
            "type": "heatmapgl"
           }
          ],
          "histogram": [
           {
            "marker": {
             "colorbar": {
              "outlinewidth": 0,
              "ticks": ""
             }
            },
            "type": "histogram"
           }
          ],
          "histogram2d": [
           {
            "colorbar": {
             "outlinewidth": 0,
             "ticks": ""
            },
            "colorscale": [
             [
              0,
              "#0d0887"
             ],
             [
              0.1111111111111111,
              "#46039f"
             ],
             [
              0.2222222222222222,
              "#7201a8"
             ],
             [
              0.3333333333333333,
              "#9c179e"
             ],
             [
              0.4444444444444444,
              "#bd3786"
             ],
             [
              0.5555555555555556,
              "#d8576b"
             ],
             [
              0.6666666666666666,
              "#ed7953"
             ],
             [
              0.7777777777777778,
              "#fb9f3a"
             ],
             [
              0.8888888888888888,
              "#fdca26"
             ],
             [
              1,
              "#f0f921"
             ]
            ],
            "type": "histogram2d"
           }
          ],
          "histogram2dcontour": [
           {
            "colorbar": {
             "outlinewidth": 0,
             "ticks": ""
            },
            "colorscale": [
             [
              0,
              "#0d0887"
             ],
             [
              0.1111111111111111,
              "#46039f"
             ],
             [
              0.2222222222222222,
              "#7201a8"
             ],
             [
              0.3333333333333333,
              "#9c179e"
             ],
             [
              0.4444444444444444,
              "#bd3786"
             ],
             [
              0.5555555555555556,
              "#d8576b"
             ],
             [
              0.6666666666666666,
              "#ed7953"
             ],
             [
              0.7777777777777778,
              "#fb9f3a"
             ],
             [
              0.8888888888888888,
              "#fdca26"
             ],
             [
              1,
              "#f0f921"
             ]
            ],
            "type": "histogram2dcontour"
           }
          ],
          "mesh3d": [
           {
            "colorbar": {
             "outlinewidth": 0,
             "ticks": ""
            },
            "type": "mesh3d"
           }
          ],
          "parcoords": [
           {
            "line": {
             "colorbar": {
              "outlinewidth": 0,
              "ticks": ""
             }
            },
            "type": "parcoords"
           }
          ],
          "pie": [
           {
            "automargin": true,
            "type": "pie"
           }
          ],
          "scatter": [
           {
            "marker": {
             "colorbar": {
              "outlinewidth": 0,
              "ticks": ""
             }
            },
            "type": "scatter"
           }
          ],
          "scatter3d": [
           {
            "line": {
             "colorbar": {
              "outlinewidth": 0,
              "ticks": ""
             }
            },
            "marker": {
             "colorbar": {
              "outlinewidth": 0,
              "ticks": ""
             }
            },
            "type": "scatter3d"
           }
          ],
          "scattercarpet": [
           {
            "marker": {
             "colorbar": {
              "outlinewidth": 0,
              "ticks": ""
             }
            },
            "type": "scattercarpet"
           }
          ],
          "scattergeo": [
           {
            "marker": {
             "colorbar": {
              "outlinewidth": 0,
              "ticks": ""
             }
            },
            "type": "scattergeo"
           }
          ],
          "scattergl": [
           {
            "marker": {
             "colorbar": {
              "outlinewidth": 0,
              "ticks": ""
             }
            },
            "type": "scattergl"
           }
          ],
          "scattermapbox": [
           {
            "marker": {
             "colorbar": {
              "outlinewidth": 0,
              "ticks": ""
             }
            },
            "type": "scattermapbox"
           }
          ],
          "scatterpolar": [
           {
            "marker": {
             "colorbar": {
              "outlinewidth": 0,
              "ticks": ""
             }
            },
            "type": "scatterpolar"
           }
          ],
          "scatterpolargl": [
           {
            "marker": {
             "colorbar": {
              "outlinewidth": 0,
              "ticks": ""
             }
            },
            "type": "scatterpolargl"
           }
          ],
          "scatterternary": [
           {
            "marker": {
             "colorbar": {
              "outlinewidth": 0,
              "ticks": ""
             }
            },
            "type": "scatterternary"
           }
          ],
          "surface": [
           {
            "colorbar": {
             "outlinewidth": 0,
             "ticks": ""
            },
            "colorscale": [
             [
              0,
              "#0d0887"
             ],
             [
              0.1111111111111111,
              "#46039f"
             ],
             [
              0.2222222222222222,
              "#7201a8"
             ],
             [
              0.3333333333333333,
              "#9c179e"
             ],
             [
              0.4444444444444444,
              "#bd3786"
             ],
             [
              0.5555555555555556,
              "#d8576b"
             ],
             [
              0.6666666666666666,
              "#ed7953"
             ],
             [
              0.7777777777777778,
              "#fb9f3a"
             ],
             [
              0.8888888888888888,
              "#fdca26"
             ],
             [
              1,
              "#f0f921"
             ]
            ],
            "type": "surface"
           }
          ],
          "table": [
           {
            "cells": {
             "fill": {
              "color": "#EBF0F8"
             },
             "line": {
              "color": "white"
             }
            },
            "header": {
             "fill": {
              "color": "#C8D4E3"
             },
             "line": {
              "color": "white"
             }
            },
            "type": "table"
           }
          ]
         },
         "layout": {
          "annotationdefaults": {
           "arrowcolor": "#2a3f5f",
           "arrowhead": 0,
           "arrowwidth": 1
          },
          "coloraxis": {
           "colorbar": {
            "outlinewidth": 0,
            "ticks": ""
           }
          },
          "colorscale": {
           "diverging": [
            [
             0,
             "#8e0152"
            ],
            [
             0.1,
             "#c51b7d"
            ],
            [
             0.2,
             "#de77ae"
            ],
            [
             0.3,
             "#f1b6da"
            ],
            [
             0.4,
             "#fde0ef"
            ],
            [
             0.5,
             "#f7f7f7"
            ],
            [
             0.6,
             "#e6f5d0"
            ],
            [
             0.7,
             "#b8e186"
            ],
            [
             0.8,
             "#7fbc41"
            ],
            [
             0.9,
             "#4d9221"
            ],
            [
             1,
             "#276419"
            ]
           ],
           "sequential": [
            [
             0,
             "#0d0887"
            ],
            [
             0.1111111111111111,
             "#46039f"
            ],
            [
             0.2222222222222222,
             "#7201a8"
            ],
            [
             0.3333333333333333,
             "#9c179e"
            ],
            [
             0.4444444444444444,
             "#bd3786"
            ],
            [
             0.5555555555555556,
             "#d8576b"
            ],
            [
             0.6666666666666666,
             "#ed7953"
            ],
            [
             0.7777777777777778,
             "#fb9f3a"
            ],
            [
             0.8888888888888888,
             "#fdca26"
            ],
            [
             1,
             "#f0f921"
            ]
           ],
           "sequentialminus": [
            [
             0,
             "#0d0887"
            ],
            [
             0.1111111111111111,
             "#46039f"
            ],
            [
             0.2222222222222222,
             "#7201a8"
            ],
            [
             0.3333333333333333,
             "#9c179e"
            ],
            [
             0.4444444444444444,
             "#bd3786"
            ],
            [
             0.5555555555555556,
             "#d8576b"
            ],
            [
             0.6666666666666666,
             "#ed7953"
            ],
            [
             0.7777777777777778,
             "#fb9f3a"
            ],
            [
             0.8888888888888888,
             "#fdca26"
            ],
            [
             1,
             "#f0f921"
            ]
           ]
          },
          "colorway": [
           "#636efa",
           "#EF553B",
           "#00cc96",
           "#ab63fa",
           "#FFA15A",
           "#19d3f3",
           "#FF6692",
           "#B6E880",
           "#FF97FF",
           "#FECB52"
          ],
          "font": {
           "color": "#2a3f5f"
          },
          "geo": {
           "bgcolor": "white",
           "lakecolor": "white",
           "landcolor": "#E5ECF6",
           "showlakes": true,
           "showland": true,
           "subunitcolor": "white"
          },
          "hoverlabel": {
           "align": "left"
          },
          "hovermode": "closest",
          "mapbox": {
           "style": "light"
          },
          "paper_bgcolor": "white",
          "plot_bgcolor": "#E5ECF6",
          "polar": {
           "angularaxis": {
            "gridcolor": "white",
            "linecolor": "white",
            "ticks": ""
           },
           "bgcolor": "#E5ECF6",
           "radialaxis": {
            "gridcolor": "white",
            "linecolor": "white",
            "ticks": ""
           }
          },
          "scene": {
           "xaxis": {
            "backgroundcolor": "#E5ECF6",
            "gridcolor": "white",
            "gridwidth": 2,
            "linecolor": "white",
            "showbackground": true,
            "ticks": "",
            "zerolinecolor": "white"
           },
           "yaxis": {
            "backgroundcolor": "#E5ECF6",
            "gridcolor": "white",
            "gridwidth": 2,
            "linecolor": "white",
            "showbackground": true,
            "ticks": "",
            "zerolinecolor": "white"
           },
           "zaxis": {
            "backgroundcolor": "#E5ECF6",
            "gridcolor": "white",
            "gridwidth": 2,
            "linecolor": "white",
            "showbackground": true,
            "ticks": "",
            "zerolinecolor": "white"
           }
          },
          "shapedefaults": {
           "line": {
            "color": "#2a3f5f"
           }
          },
          "ternary": {
           "aaxis": {
            "gridcolor": "white",
            "linecolor": "white",
            "ticks": ""
           },
           "baxis": {
            "gridcolor": "white",
            "linecolor": "white",
            "ticks": ""
           },
           "bgcolor": "#E5ECF6",
           "caxis": {
            "gridcolor": "white",
            "linecolor": "white",
            "ticks": ""
           }
          },
          "title": {
           "x": 0.05
          },
          "xaxis": {
           "automargin": true,
           "gridcolor": "white",
           "linecolor": "white",
           "ticks": "",
           "title": {
            "standoff": 15
           },
           "zerolinecolor": "white",
           "zerolinewidth": 2
          },
          "yaxis": {
           "automargin": true,
           "gridcolor": "white",
           "linecolor": "white",
           "ticks": "",
           "title": {
            "standoff": 15
           },
           "zerolinecolor": "white",
           "zerolinewidth": 2
          }
         }
        },
        "title": {
         "font": {
          "size": 25
         },
         "text": "Correlation Matrix"
        },
        "width": 700,
        "xaxis": {
         "automargin": true,
         "autorange": true,
         "range": [
          -0.5,
          16.5
         ],
         "showgrid": false,
         "tickangle": -90,
         "ticks": "",
         "type": "category"
        },
        "yaxis": {
         "automargin": true,
         "autorange": true,
         "range": [
          -0.5,
          16.5
         ],
         "showgrid": false,
         "ticks": "",
         "type": "category"
        }
       }
      },
      "text/html": [
       "<div>\n",
       "        \n",
       "        \n",
       "            <div id=\"fa50a5b0-a494-40a2-9efc-4f020b2f64ac\" class=\"plotly-graph-div\" style=\"height:700px; width:700px;\"></div>\n",
       "            <script type=\"text/javascript\">\n",
       "                require([\"plotly\"], function(Plotly) {\n",
       "                    window.PLOTLYENV=window.PLOTLYENV || {};\n",
       "                    \n",
       "                if (document.getElementById(\"fa50a5b0-a494-40a2-9efc-4f020b2f64ac\")) {\n",
       "                    Plotly.newPlot(\n",
       "                        'fa50a5b0-a494-40a2-9efc-4f020b2f64ac',\n",
       "                        [{\"colorbar\": {\"title\": {\"text\": \"Strength\"}}, \"colorscale\": [[0, \"rgb(117.35616479986322, 158.90410986657548, 189.1848155931624)\"], [0.44852941176470584, \"rgb(242, 242, 242)\"], [1.0, \"rgb(217.3859497570792, 60.84059021210298, 72.65533432870495)\"]], \"connectgaps\": false, \"type\": \"heatmap\", \"x\": [\"WindSpeed9am\", \"WindGustSpeed\", \"WindSpeed3pm\", \"Sunshine\", \"Evaporation\", \"MaxTemp\", \"Temp3pm\", \"MinTemp\", \"Temp9am\", \"Pressure9am\", \"Pressure3pm\", \"Rainfall\", \"RISK_MM\", \"Humidity9am\", \"Humidity3pm\", \"Cloud9am\", \"Cloud3pm\"], \"xgap\": 2, \"y\": [\"Cloud3pm\", \"Cloud9am\", \"Humidity3pm\", \"Humidity9am\", \"RISK_MM\", \"Rainfall\", \"Pressure3pm\", \"Pressure9am\", \"Temp9am\", \"MinTemp\", \"Temp3pm\", \"MaxTemp\", \"Evaporation\", \"Sunshine\", \"WindSpeed3pm\", \"WindGustSpeed\", \"WindSpeed9am\"], \"ygap\": 2, \"z\": [[0.053584297175803465, 0.10908779648440393, 0.02526863626712774, -0.7042024587578349, -0.18428650024010437, -0.27905320336913464, -0.3182541550294256, 0.02048877752607652, -0.1278691991995886, -0.14813907239733012, -0.08496280423046489, 0.17199332586222732, 0.23481398795780736, 0.3580432069293772, 0.523269554290334, 0.6041178590619127, null], [0.02428044832401747, 0.07123548042485442, 0.05277964481744691, -0.675610344003193, -0.18503212604940772, -0.28986493565869076, -0.3025197977276223, 0.07762493808817288, -0.13784271732011266, -0.13008137077835202, -0.061152442049474696, 0.19819467482957334, 0.19809549497415063, 0.4521818580631971, 0.5170373072869847, null, null], [-0.03160746301432176, -0.026662912453002487, 0.015903196647724743, -0.6291219862914834, -0.39278483694091276, -0.5092697515070317, -0.5579892227691395, 0.005999028623322442, -0.22146729532522424, -0.027449486873533827, 0.05183974738730756, 0.2553123968340489, 0.3131833649023308, 0.6673878396370059, null, null, null], [-0.27080740270864767, -0.2154610102219303, -0.14594182345757525, -0.49160305455756786, -0.5058901656117897, -0.505431685993337, -0.49977700210242787, -0.23421064127241803, -0.4728257972907726, 0.13951933928048893, 0.186955332492246, 0.22372456623128353, 0.1724165643341461, null, null, null, null], [0.06940387578114439, 0.16292314625063956, 0.049240197502462786, -0.2949726094095004, -0.04349818641734212, -0.044208471533470746, -0.06681665127235371, 0.12474346378522314, 0.051232337442162094, -0.1636730569860582, -0.16418408311431076, 0.3085570581032797, null, null, null, null, null], [0.08681579007481013, 0.13349694066358989, 0.05775898179444263, -0.2275247963738862, -0.06454937805464708, -0.07483898642003825, -0.07917761749126048, 0.10425481706111385, 0.011477440932908454, -0.16808542770812934, -0.1267283916289855, null, null, null, null, null, null], [-0.17491613486110816, -0.412921762367688, -0.2549878271995628, -0.02046374825107215, -0.29315960262636853, -0.4272793600675562, -0.3898632793503618, -0.4616229996151991, -0.470324599766752, 0.9613476612504572, null, null, null, null, null, null, null], [-0.22792308825078064, -0.4578914492122085, -0.29556663635738933, 0.04095892358478105, -0.2699065003130992, -0.33229311113201154, -0.2873009957982802, -0.4512600426902873, -0.4227734565820272, null, null, null, null, null, null, null, null], [0.12929755482447355, 0.15025769831961544, 0.16360111451752066, 0.2911387864147758, 0.5454971048646101, 0.8870202884016747, 0.8605743134381149, 0.9018125915107229, null, null, null, null, null, null, null, null, null], [0.1760052721090854, 0.17728522362779076, 0.17574929956650176, 0.07296128076680021, 0.4672614652907841, 0.7362674127583685, 0.7088648165457382, null, null, null, null, null, null, null, null, null, null], [0.005108148654731473, 0.03296966882673219, 0.02856734856983232, 0.49017969482114, 0.5742748919916117, 0.9845620097168316, null, null, null, null, null, null, null, null, null, null, null], [0.014680433984675783, 0.06769007389516274, 0.05079994916436689, 0.4699674137236143, 0.5889149209476179, null, null, null, null, null, null, null, null, null, null, null, null], [0.19393622932833696, 0.20300060458663785, 0.12889472862556464, 0.3666073747912891, null, null, null, null, null, null, null, null, null, null, null, null, null], [0.008039643345762888, -0.03283091480731824, 0.056011721079331445, null, null, null, null, null, null, null, null, null, null, null, null, null, null], [0.5199712145558592, 0.6864194943877783, null, null, null, null, null, null, null, null, null, null, null, null, null, null, null], [0.6048371923680406, null, null, null, null, null, null, null, null, null, null, null, null, null, null, null, null], [null, null, null, null, null, null, null, null, null, null, null, null, null, null, null, null, null]]}],\n",
       "                        {\"autosize\": false, \"height\": 700, \"paper_bgcolor\": \"rgb(0,0,0,0)\", \"plot_bgcolor\": \"rgb(0,0,0,0)\", \"template\": {\"data\": {\"bar\": [{\"error_x\": {\"color\": \"#2a3f5f\"}, \"error_y\": {\"color\": \"#2a3f5f\"}, \"marker\": {\"line\": {\"color\": \"#E5ECF6\", \"width\": 0.5}}, \"type\": \"bar\"}], \"barpolar\": [{\"marker\": {\"line\": {\"color\": \"#E5ECF6\", \"width\": 0.5}}, \"type\": \"barpolar\"}], \"carpet\": [{\"aaxis\": {\"endlinecolor\": \"#2a3f5f\", \"gridcolor\": \"white\", \"linecolor\": \"white\", \"minorgridcolor\": \"white\", \"startlinecolor\": \"#2a3f5f\"}, \"baxis\": {\"endlinecolor\": \"#2a3f5f\", \"gridcolor\": \"white\", \"linecolor\": \"white\", \"minorgridcolor\": \"white\", \"startlinecolor\": \"#2a3f5f\"}, \"type\": \"carpet\"}], \"choropleth\": [{\"colorbar\": {\"outlinewidth\": 0, \"ticks\": \"\"}, \"type\": \"choropleth\"}], \"contour\": [{\"colorbar\": {\"outlinewidth\": 0, \"ticks\": \"\"}, \"colorscale\": [[0.0, \"#0d0887\"], [0.1111111111111111, \"#46039f\"], [0.2222222222222222, \"#7201a8\"], [0.3333333333333333, \"#9c179e\"], [0.4444444444444444, \"#bd3786\"], [0.5555555555555556, \"#d8576b\"], [0.6666666666666666, \"#ed7953\"], [0.7777777777777778, \"#fb9f3a\"], [0.8888888888888888, \"#fdca26\"], [1.0, \"#f0f921\"]], \"type\": \"contour\"}], \"contourcarpet\": [{\"colorbar\": {\"outlinewidth\": 0, \"ticks\": \"\"}, \"type\": \"contourcarpet\"}], \"heatmap\": [{\"colorbar\": {\"outlinewidth\": 0, \"ticks\": \"\"}, \"colorscale\": [[0.0, \"#0d0887\"], [0.1111111111111111, \"#46039f\"], [0.2222222222222222, \"#7201a8\"], [0.3333333333333333, \"#9c179e\"], [0.4444444444444444, \"#bd3786\"], [0.5555555555555556, \"#d8576b\"], [0.6666666666666666, \"#ed7953\"], [0.7777777777777778, \"#fb9f3a\"], [0.8888888888888888, \"#fdca26\"], [1.0, \"#f0f921\"]], \"type\": \"heatmap\"}], \"heatmapgl\": [{\"colorbar\": {\"outlinewidth\": 0, \"ticks\": \"\"}, \"colorscale\": [[0.0, \"#0d0887\"], [0.1111111111111111, \"#46039f\"], [0.2222222222222222, \"#7201a8\"], [0.3333333333333333, \"#9c179e\"], [0.4444444444444444, \"#bd3786\"], [0.5555555555555556, \"#d8576b\"], [0.6666666666666666, \"#ed7953\"], [0.7777777777777778, \"#fb9f3a\"], [0.8888888888888888, \"#fdca26\"], [1.0, \"#f0f921\"]], \"type\": \"heatmapgl\"}], \"histogram\": [{\"marker\": {\"colorbar\": {\"outlinewidth\": 0, \"ticks\": \"\"}}, \"type\": \"histogram\"}], \"histogram2d\": [{\"colorbar\": {\"outlinewidth\": 0, \"ticks\": \"\"}, \"colorscale\": [[0.0, \"#0d0887\"], [0.1111111111111111, \"#46039f\"], [0.2222222222222222, \"#7201a8\"], [0.3333333333333333, \"#9c179e\"], [0.4444444444444444, \"#bd3786\"], [0.5555555555555556, \"#d8576b\"], [0.6666666666666666, \"#ed7953\"], [0.7777777777777778, \"#fb9f3a\"], [0.8888888888888888, \"#fdca26\"], [1.0, \"#f0f921\"]], \"type\": \"histogram2d\"}], \"histogram2dcontour\": [{\"colorbar\": {\"outlinewidth\": 0, \"ticks\": \"\"}, \"colorscale\": [[0.0, \"#0d0887\"], [0.1111111111111111, \"#46039f\"], [0.2222222222222222, \"#7201a8\"], [0.3333333333333333, \"#9c179e\"], [0.4444444444444444, \"#bd3786\"], [0.5555555555555556, \"#d8576b\"], [0.6666666666666666, \"#ed7953\"], [0.7777777777777778, \"#fb9f3a\"], [0.8888888888888888, \"#fdca26\"], [1.0, \"#f0f921\"]], \"type\": \"histogram2dcontour\"}], \"mesh3d\": [{\"colorbar\": {\"outlinewidth\": 0, \"ticks\": \"\"}, \"type\": \"mesh3d\"}], \"parcoords\": [{\"line\": {\"colorbar\": {\"outlinewidth\": 0, \"ticks\": \"\"}}, \"type\": \"parcoords\"}], \"pie\": [{\"automargin\": true, \"type\": \"pie\"}], \"scatter\": [{\"marker\": {\"colorbar\": {\"outlinewidth\": 0, \"ticks\": \"\"}}, \"type\": \"scatter\"}], \"scatter3d\": [{\"line\": {\"colorbar\": {\"outlinewidth\": 0, \"ticks\": \"\"}}, \"marker\": {\"colorbar\": {\"outlinewidth\": 0, \"ticks\": \"\"}}, \"type\": \"scatter3d\"}], \"scattercarpet\": [{\"marker\": {\"colorbar\": {\"outlinewidth\": 0, \"ticks\": \"\"}}, \"type\": \"scattercarpet\"}], \"scattergeo\": [{\"marker\": {\"colorbar\": {\"outlinewidth\": 0, \"ticks\": \"\"}}, \"type\": \"scattergeo\"}], \"scattergl\": [{\"marker\": {\"colorbar\": {\"outlinewidth\": 0, \"ticks\": \"\"}}, \"type\": \"scattergl\"}], \"scattermapbox\": [{\"marker\": {\"colorbar\": {\"outlinewidth\": 0, \"ticks\": \"\"}}, \"type\": \"scattermapbox\"}], \"scatterpolar\": [{\"marker\": {\"colorbar\": {\"outlinewidth\": 0, \"ticks\": \"\"}}, \"type\": \"scatterpolar\"}], \"scatterpolargl\": [{\"marker\": {\"colorbar\": {\"outlinewidth\": 0, \"ticks\": \"\"}}, \"type\": \"scatterpolargl\"}], \"scatterternary\": [{\"marker\": {\"colorbar\": {\"outlinewidth\": 0, \"ticks\": \"\"}}, \"type\": \"scatterternary\"}], \"surface\": [{\"colorbar\": {\"outlinewidth\": 0, \"ticks\": \"\"}, \"colorscale\": [[0.0, \"#0d0887\"], [0.1111111111111111, \"#46039f\"], [0.2222222222222222, \"#7201a8\"], [0.3333333333333333, \"#9c179e\"], [0.4444444444444444, \"#bd3786\"], [0.5555555555555556, \"#d8576b\"], [0.6666666666666666, \"#ed7953\"], [0.7777777777777778, \"#fb9f3a\"], [0.8888888888888888, \"#fdca26\"], [1.0, \"#f0f921\"]], \"type\": \"surface\"}], \"table\": [{\"cells\": {\"fill\": {\"color\": \"#EBF0F8\"}, \"line\": {\"color\": \"white\"}}, \"header\": {\"fill\": {\"color\": \"#C8D4E3\"}, \"line\": {\"color\": \"white\"}}, \"type\": \"table\"}]}, \"layout\": {\"annotationdefaults\": {\"arrowcolor\": \"#2a3f5f\", \"arrowhead\": 0, \"arrowwidth\": 1}, \"coloraxis\": {\"colorbar\": {\"outlinewidth\": 0, \"ticks\": \"\"}}, \"colorscale\": {\"diverging\": [[0, \"#8e0152\"], [0.1, \"#c51b7d\"], [0.2, \"#de77ae\"], [0.3, \"#f1b6da\"], [0.4, \"#fde0ef\"], [0.5, \"#f7f7f7\"], [0.6, \"#e6f5d0\"], [0.7, \"#b8e186\"], [0.8, \"#7fbc41\"], [0.9, \"#4d9221\"], [1, \"#276419\"]], \"sequential\": [[0.0, \"#0d0887\"], [0.1111111111111111, \"#46039f\"], [0.2222222222222222, \"#7201a8\"], [0.3333333333333333, \"#9c179e\"], [0.4444444444444444, \"#bd3786\"], [0.5555555555555556, \"#d8576b\"], [0.6666666666666666, \"#ed7953\"], [0.7777777777777778, \"#fb9f3a\"], [0.8888888888888888, \"#fdca26\"], [1.0, \"#f0f921\"]], \"sequentialminus\": [[0.0, \"#0d0887\"], [0.1111111111111111, \"#46039f\"], [0.2222222222222222, \"#7201a8\"], [0.3333333333333333, \"#9c179e\"], [0.4444444444444444, \"#bd3786\"], [0.5555555555555556, \"#d8576b\"], [0.6666666666666666, \"#ed7953\"], [0.7777777777777778, \"#fb9f3a\"], [0.8888888888888888, \"#fdca26\"], [1.0, \"#f0f921\"]]}, \"colorway\": [\"#636efa\", \"#EF553B\", \"#00cc96\", \"#ab63fa\", \"#FFA15A\", \"#19d3f3\", \"#FF6692\", \"#B6E880\", \"#FF97FF\", \"#FECB52\"], \"font\": {\"color\": \"#2a3f5f\"}, \"geo\": {\"bgcolor\": \"white\", \"lakecolor\": \"white\", \"landcolor\": \"#E5ECF6\", \"showlakes\": true, \"showland\": true, \"subunitcolor\": \"white\"}, \"hoverlabel\": {\"align\": \"left\"}, \"hovermode\": \"closest\", \"mapbox\": {\"style\": \"light\"}, \"paper_bgcolor\": \"white\", \"plot_bgcolor\": \"#E5ECF6\", \"polar\": {\"angularaxis\": {\"gridcolor\": \"white\", \"linecolor\": \"white\", \"ticks\": \"\"}, \"bgcolor\": \"#E5ECF6\", \"radialaxis\": {\"gridcolor\": \"white\", \"linecolor\": \"white\", \"ticks\": \"\"}}, \"scene\": {\"xaxis\": {\"backgroundcolor\": \"#E5ECF6\", \"gridcolor\": \"white\", \"gridwidth\": 2, \"linecolor\": \"white\", \"showbackground\": true, \"ticks\": \"\", \"zerolinecolor\": \"white\"}, \"yaxis\": {\"backgroundcolor\": \"#E5ECF6\", \"gridcolor\": \"white\", \"gridwidth\": 2, \"linecolor\": \"white\", \"showbackground\": true, \"ticks\": \"\", \"zerolinecolor\": \"white\"}, \"zaxis\": {\"backgroundcolor\": \"#E5ECF6\", \"gridcolor\": \"white\", \"gridwidth\": 2, \"linecolor\": \"white\", \"showbackground\": true, \"ticks\": \"\", \"zerolinecolor\": \"white\"}}, \"shapedefaults\": {\"line\": {\"color\": \"#2a3f5f\"}}, \"ternary\": {\"aaxis\": {\"gridcolor\": \"white\", \"linecolor\": \"white\", \"ticks\": \"\"}, \"baxis\": {\"gridcolor\": \"white\", \"linecolor\": \"white\", \"ticks\": \"\"}, \"bgcolor\": \"#E5ECF6\", \"caxis\": {\"gridcolor\": \"white\", \"linecolor\": \"white\", \"ticks\": \"\"}}, \"title\": {\"x\": 0.05}, \"xaxis\": {\"automargin\": true, \"gridcolor\": \"white\", \"linecolor\": \"white\", \"ticks\": \"\", \"title\": {\"standoff\": 15}, \"zerolinecolor\": \"white\", \"zerolinewidth\": 2}, \"yaxis\": {\"automargin\": true, \"gridcolor\": \"white\", \"linecolor\": \"white\", \"ticks\": \"\", \"title\": {\"standoff\": 15}, \"zerolinecolor\": \"white\", \"zerolinewidth\": 2}}}, \"title\": {\"font\": {\"size\": 25}, \"text\": \"Correlation Matrix\"}, \"width\": 700, \"xaxis\": {\"automargin\": true, \"showgrid\": false, \"tickangle\": -90, \"ticks\": \"\"}, \"yaxis\": {\"automargin\": true, \"showgrid\": false, \"ticks\": \"\"}},\n",
       "                        {\"displayModeBar\": false, \"responsive\": true}\n",
       "                    ).then(function(){\n",
       "                            \n",
       "var gd = document.getElementById('fa50a5b0-a494-40a2-9efc-4f020b2f64ac');\n",
       "var x = new MutationObserver(function (mutations, observer) {{\n",
       "        var display = window.getComputedStyle(gd).display;\n",
       "        if (!display || display === 'none') {{\n",
       "            console.log([gd, 'removed!']);\n",
       "            Plotly.purge(gd);\n",
       "            observer.disconnect();\n",
       "        }}\n",
       "}});\n",
       "\n",
       "// Listen for the removal of the full notebook cells\n",
       "var notebookContainer = gd.closest('#notebook-container');\n",
       "if (notebookContainer) {{\n",
       "    x.observe(notebookContainer, {childList: true});\n",
       "}}\n",
       "\n",
       "// Listen for the clearing of the current output cell\n",
       "var outputEl = gd.closest('.output');\n",
       "if (outputEl) {{\n",
       "    x.observe(outputEl, {childList: true});\n",
       "}}\n",
       "\n",
       "                        })\n",
       "                };\n",
       "                });\n",
       "            </script>\n",
       "        </div>"
      ]
     },
     "metadata": {},
     "output_type": "display_data"
    }
   ],
   "source": [
    "correlation_matrix(df, cluster=True)"
   ]
  },
  {
   "cell_type": "markdown",
   "metadata": {},
   "source": [
    "## Show categorical features\n",
    "**WARNING**: When using categorical features, the matrix represents strength of association (i.e. in the scale [0, 1]). This is because it is hard to define the meaning of a *negative association* involving a categorical feature."
   ]
  },
  {
   "cell_type": "code",
   "execution_count": 6,
   "metadata": {},
   "outputs": [
    {
     "data": {
      "text/html": [
       "        <script type=\"text/javascript\">\n",
       "        window.PlotlyConfig = {MathJaxConfig: 'local'};\n",
       "        if (window.MathJax) {MathJax.Hub.Config({SVG: {font: \"STIX-Web\"}});}\n",
       "        if (typeof require !== 'undefined') {\n",
       "        require.undef(\"plotly\");\n",
       "        requirejs.config({\n",
       "            paths: {\n",
       "                'plotly': ['https://cdn.plot.ly/plotly-latest.min']\n",
       "            }\n",
       "        });\n",
       "        require(['plotly'], function(Plotly) {\n",
       "            window._Plotly = Plotly;\n",
       "        });\n",
       "        }\n",
       "        </script>\n",
       "        "
      ]
     },
     "metadata": {},
     "output_type": "display_data"
    },
    {
     "data": {
      "application/vnd.plotly.v1+json": {
       "config": {
        "displayModeBar": false,
        "linkText": "Export to plot.ly",
        "plotlyServerURL": "https://plot.ly",
        "showLink": false
       },
       "data": [
        {
         "colorbar": {
          "title": {
           "text": "Strength"
          }
         },
         "colorscale": [
          [
           0,
           "rgb(242.0, 242.0, 242.0)"
          ],
          [
           0.0036231884057971015,
           "rgb(242, 242, 242)"
          ],
          [
           1,
           "rgb(217.3859497570792, 60.84059021210298, 72.65533432870495)"
          ]
         ],
         "connectgaps": false,
         "type": "heatmap",
         "x": [
          "Date",
          "Location",
          "MinTemp",
          "MaxTemp",
          "Rainfall",
          "Evaporation",
          "Sunshine",
          "WindGustDir",
          "WindGustSpeed",
          "WindDir9am",
          "WindDir3pm",
          "WindSpeed9am",
          "WindSpeed3pm",
          "Humidity9am",
          "Humidity3pm",
          "Pressure9am",
          "Pressure3pm",
          "Cloud9am",
          "Cloud3pm",
          "Temp9am",
          "Temp3pm",
          "RainToday",
          "RISK_MM",
          "RainTomorrow"
         ],
         "xgap": 2,
         "y": [
          "RainTomorrow",
          "RISK_MM",
          "RainToday",
          "Temp3pm",
          "Temp9am",
          "Cloud3pm",
          "Cloud9am",
          "Pressure3pm",
          "Pressure9am",
          "Humidity3pm",
          "Humidity9am",
          "WindSpeed3pm",
          "WindSpeed9am",
          "WindDir3pm",
          "WindDir9am",
          "WindGustSpeed",
          "WindGustDir",
          "Sunshine",
          "Evaporation",
          "Rainfall",
          "MaxTemp",
          "MinTemp",
          "Location",
          "Date"
         ],
         "ygap": 2,
         "z": [
          [
           0.30642555998267507,
           0.15681845999773006,
           0.0839358135015742,
           0.15923666414933102,
           0.23903180145062297,
           0.11928469674514404,
           0.45076806310612694,
           0.1064274339734799,
           0.23400972551743993,
           0.12900750750402376,
           0.0956472670480383,
           0.09099465016310765,
           0.08781739865081262,
           0.2571611603438018,
           0.4461603787913106,
           0.246371146260094,
           0.22603114552600895,
           0.3173798297063475,
           0.38187041104700387,
           0.02569082260459401,
           0.1924240867011429,
           0.3071792466146619,
           0.5014847556081539,
           null
          ],
          [
           0.30126237019885005,
           0.13285056077035012,
           0.12474346378522314,
           0.044208471533470746,
           0.3085570581032797,
           0.04349818641734212,
           0.2949726094095004,
           0.033960668025778,
           0.16292314625063956,
           0.030566598397780895,
           0.03556779844632658,
           0.06940387578114439,
           0.049240197502462786,
           0.1724165643341461,
           0.3131833649023308,
           0.1636730569860582,
           0.16418408311431076,
           0.19809549497415063,
           0.23481398795780736,
           0.051232337442162094,
           0.06681665127235371,
           0.21833719359454049,
           null,
           null
          ],
          [
           0.30573237723814234,
           0.15681215990761502,
           0.05594511018004348,
           0.22766267437849308,
           0.5009972485013551,
           0.18770548814151009,
           0.3297766573203579,
           0.1465866766797704,
           0.15464536907771137,
           0.19378874463495613,
           0.1422482593257591,
           0.10178820194861171,
           0.07965405045047604,
           0.3521384566778504,
           0.37716564250670065,
           0.18894525489306657,
           0.10578309970570982,
           0.3052651450502693,
           0.27141534504553405,
           0.09624364706228887,
           0.23383257899398802,
           null,
           null,
           null
          ],
          [
           0.6612216961641679,
           0.5433124412024255,
           0.7088648165457382,
           0.9845620097168316,
           0.07917761749126048,
           0.5742748919916117,
           0.49017969482114,
           0.26844580868952556,
           0.03296966882673219,
           0.3151855027588441,
           0.2291501111240982,
           0.005108148654731473,
           0.02856734856983232,
           0.49977700210242787,
           0.5579892227691395,
           0.2873009957982802,
           0.3898632793503618,
           0.3025197977276223,
           0.3182541550294256,
           0.8605743134381149,
           null,
           null,
           null,
           null
          ],
          [
           0.6597077530791491,
           0.6146845751141552,
           0.9018125915107229,
           0.8870202884016747,
           0.011477440932908454,
           0.5454971048646101,
           0.2911387864147758,
           0.2614618560142783,
           0.15025769831961544,
           0.23140779724342028,
           0.2479864189357098,
           0.12929755482447355,
           0.16360111451752066,
           0.4728257972907726,
           0.22146729532522424,
           0.4227734565820272,
           0.470324599766752,
           0.13784271732011266,
           0.1278691991995886,
           null,
           null,
           null,
           null,
           null
          ],
          [
           0.34540003558924975,
           0.28973638463990736,
           0.02048877752607652,
           0.27905320336913464,
           0.17199332586222732,
           0.18428650024010437,
           0.7042024587578349,
           0.13970485148681952,
           0.10908779648440393,
           0.14328912541322514,
           0.11428938417176501,
           0.053584297175803465,
           0.02526863626712774,
           0.3580432069293772,
           0.523269554290334,
           0.14813907239733012,
           0.08496280423046489,
           0.6041178590619127,
           null,
           null,
           null,
           null,
           null,
           null
          ],
          [
           0.33469130635494193,
           0.33792596183059886,
           0.07762493808817288,
           0.28986493565869076,
           0.19819467482957334,
           0.18503212604940772,
           0.675610344003193,
           0.11607014564709742,
           0.07123548042485442,
           0.1489501399306249,
           0.08504214103903279,
           0.02428044832401747,
           0.05277964481744691,
           0.4521818580631971,
           0.5170373072869847,
           0.13008137077835202,
           0.061152442049474696,
           null,
           null,
           null,
           null,
           null,
           null,
           null
          ],
          [
           0.7268565464852254,
           0.2599783471852462,
           0.4616229996151991,
           0.4272793600675562,
           0.1267283916289855,
           0.29315960262636853,
           0.02046374825107215,
           0.21377428156358794,
           0.412921762367688,
           0.19432876620644737,
           0.25845960397598694,
           0.17491613486110816,
           0.2549878271995628,
           0.186955332492246,
           0.05183974738730756,
           0.9613476612504572,
           null,
           null,
           null,
           null,
           null,
           null,
           null,
           null
          ],
          [
           0.7354206010971194,
           0.21103006519921536,
           0.4512600426902873,
           0.33229311113201154,
           0.16808542770812934,
           0.2699065003130992,
           0.04095892358478105,
           0.21732229418168847,
           0.4578914492122085,
           0.17041918726038757,
           0.24151088839239826,
           0.22792308825078064,
           0.29556663635738933,
           0.13951933928048893,
           0.027449486873533827,
           null,
           null,
           null,
           null,
           null,
           null,
           null,
           null,
           null
          ],
          [
           0.3795687272513496,
           0.5216178429799372,
           0.005999028623322442,
           0.5092697515070317,
           0.2553123968340489,
           0.39278483694091276,
           0.6291219862914834,
           0.103752141073857,
           0.026662912453002487,
           0.1993569349676946,
           0.1024642662864002,
           0.03160746301432176,
           0.015903196647724743,
           0.6673878396370059,
           null,
           null,
           null,
           null,
           null,
           null,
           null,
           null,
           null,
           null
          ],
          [
           0.4395042427571342,
           0.4526480441631497,
           0.23421064127241803,
           0.505431685993337,
           0.22372456623128353,
           0.5058901656117897,
           0.49160305455756786,
           0.0912075557486926,
           0.2154610102219303,
           0.17085010665195466,
           0.0697209733337057,
           0.27080740270864767,
           0.14594182345757525,
           null,
           null,
           null,
           null,
           null,
           null,
           null,
           null,
           null,
           null,
           null
          ],
          [
           0.3825086835687702,
           0.40976271542836573,
           0.17574929956650176,
           0.05079994916436689,
           0.05775898179444263,
           0.12889472862556464,
           0.056011721079331445,
           0.1278855184850128,
           0.6864194943877783,
           0.16236917768501236,
           0.11514685856379933,
           0.5199712145558592,
           null,
           null,
           null,
           null,
           null,
           null,
           null,
           null,
           null,
           null,
           null,
           null
          ],
          [
           0.3323501374131694,
           0.4481955832107108,
           0.1760052721090854,
           0.014680433984675783,
           0.08681579007481013,
           0.19393622932833696,
           0.008039643345762888,
           0.10450292733775265,
           0.6048371923680406,
           0.13692381075898655,
           0.12198861286977593,
           null,
           null,
           null,
           null,
           null,
           null,
           null,
           null,
           null,
           null,
           null,
           null,
           null
          ],
          [
           0.15946519946681117,
           0.19979833473923045,
           0.2439969334188952,
           0.21589617860855265,
           0.063322734710293,
           0.11055957801794163,
           0.11911513984302342,
           0.34667360889992593,
           0.1910078644785254,
           0.2020356922818563,
           null,
           null,
           null,
           null,
           null,
           null,
           null,
           null,
           null,
           null,
           null,
           null,
           null,
           null
          ],
          [
           0.14138736255809395,
           0.20756018429235634,
           0.18401940572032194,
           0.3019698293295917,
           0.09513674148722144,
           0.19071879285887605,
           0.1853673094260042,
           0.24269873528309796,
           0.18535681447094476,
           null,
           null,
           null,
           null,
           null,
           null,
           null,
           null,
           null,
           null,
           null,
           null,
           null,
           null,
           null
          ],
          [
           0.47816499218832365,
           0.3160430041968503,
           0.17728522362779076,
           0.06769007389516274,
           0.13349694066358989,
           0.20300060458663785,
           0.03283091480731824,
           0.20162799106056156,
           null,
           null,
           null,
           null,
           null,
           null,
           null,
           null,
           null,
           null,
           null,
           null,
           null,
           null,
           null,
           null
          ],
          [
           0.16709531815600934,
           0.19762469474578295,
           0.2429194373650839,
           0.2556017657905782,
           0.059967147201082295,
           0.15054065024507868,
           0.15793290733602097,
           null,
           null,
           null,
           null,
           null,
           null,
           null,
           null,
           null,
           null,
           null,
           null,
           null,
           null,
           null,
           null,
           null
          ],
          [
           0.4662798807580136,
           0.25874652872992376,
           0.07296128076680021,
           0.4699674137236143,
           0.2275247963738862,
           0.3666073747912891,
           null,
           null,
           null,
           null,
           null,
           null,
           null,
           null,
           null,
           null,
           null,
           null,
           null,
           null,
           null,
           null,
           null,
           null
          ],
          [
           0.5825661237669276,
           0.37435031647161376,
           0.4672614652907841,
           0.5889149209476179,
           0.06454937805464708,
           null,
           null,
           null,
           null,
           null,
           null,
           null,
           null,
           null,
           null,
           null,
           null,
           null,
           null,
           null,
           null,
           null,
           null,
           null
          ],
          [
           0.30043756496409774,
           0.13326762029648134,
           0.10425481706111385,
           0.07483898642003825,
           null,
           null,
           null,
           null,
           null,
           null,
           null,
           null,
           null,
           null,
           null,
           null,
           null,
           null,
           null,
           null,
           null,
           null,
           null,
           null
          ],
          [
           0.6771968308637504,
           0.5392202136414888,
           0.7362674127583685,
           null,
           null,
           null,
           null,
           null,
           null,
           null,
           null,
           null,
           null,
           null,
           null,
           null,
           null,
           null,
           null,
           null,
           null,
           null,
           null,
           null
          ],
          [
           0.6433065048164344,
           0.6076090636650955,
           null,
           null,
           null,
           null,
           null,
           null,
           null,
           null,
           null,
           null,
           null,
           null,
           null,
           null,
           null,
           null,
           null,
           null,
           null,
           null,
           null,
           null
          ],
          [
           0,
           null,
           null,
           null,
           null,
           null,
           null,
           null,
           null,
           null,
           null,
           null,
           null,
           null,
           null,
           null,
           null,
           null,
           null,
           null,
           null,
           null,
           null,
           null
          ],
          [
           null,
           null,
           null,
           null,
           null,
           null,
           null,
           null,
           null,
           null,
           null,
           null,
           null,
           null,
           null,
           null,
           null,
           null,
           null,
           null,
           null,
           null,
           null,
           null
          ]
         ]
        }
       ],
       "layout": {
        "autosize": false,
        "height": 700,
        "paper_bgcolor": "rgb(0,0,0,0)",
        "plot_bgcolor": "rgb(0,0,0,0)",
        "template": {
         "data": {
          "bar": [
           {
            "error_x": {
             "color": "#2a3f5f"
            },
            "error_y": {
             "color": "#2a3f5f"
            },
            "marker": {
             "line": {
              "color": "#E5ECF6",
              "width": 0.5
             }
            },
            "type": "bar"
           }
          ],
          "barpolar": [
           {
            "marker": {
             "line": {
              "color": "#E5ECF6",
              "width": 0.5
             }
            },
            "type": "barpolar"
           }
          ],
          "carpet": [
           {
            "aaxis": {
             "endlinecolor": "#2a3f5f",
             "gridcolor": "white",
             "linecolor": "white",
             "minorgridcolor": "white",
             "startlinecolor": "#2a3f5f"
            },
            "baxis": {
             "endlinecolor": "#2a3f5f",
             "gridcolor": "white",
             "linecolor": "white",
             "minorgridcolor": "white",
             "startlinecolor": "#2a3f5f"
            },
            "type": "carpet"
           }
          ],
          "choropleth": [
           {
            "colorbar": {
             "outlinewidth": 0,
             "ticks": ""
            },
            "type": "choropleth"
           }
          ],
          "contour": [
           {
            "colorbar": {
             "outlinewidth": 0,
             "ticks": ""
            },
            "colorscale": [
             [
              0,
              "#0d0887"
             ],
             [
              0.1111111111111111,
              "#46039f"
             ],
             [
              0.2222222222222222,
              "#7201a8"
             ],
             [
              0.3333333333333333,
              "#9c179e"
             ],
             [
              0.4444444444444444,
              "#bd3786"
             ],
             [
              0.5555555555555556,
              "#d8576b"
             ],
             [
              0.6666666666666666,
              "#ed7953"
             ],
             [
              0.7777777777777778,
              "#fb9f3a"
             ],
             [
              0.8888888888888888,
              "#fdca26"
             ],
             [
              1,
              "#f0f921"
             ]
            ],
            "type": "contour"
           }
          ],
          "contourcarpet": [
           {
            "colorbar": {
             "outlinewidth": 0,
             "ticks": ""
            },
            "type": "contourcarpet"
           }
          ],
          "heatmap": [
           {
            "colorbar": {
             "outlinewidth": 0,
             "ticks": ""
            },
            "colorscale": [
             [
              0,
              "#0d0887"
             ],
             [
              0.1111111111111111,
              "#46039f"
             ],
             [
              0.2222222222222222,
              "#7201a8"
             ],
             [
              0.3333333333333333,
              "#9c179e"
             ],
             [
              0.4444444444444444,
              "#bd3786"
             ],
             [
              0.5555555555555556,
              "#d8576b"
             ],
             [
              0.6666666666666666,
              "#ed7953"
             ],
             [
              0.7777777777777778,
              "#fb9f3a"
             ],
             [
              0.8888888888888888,
              "#fdca26"
             ],
             [
              1,
              "#f0f921"
             ]
            ],
            "type": "heatmap"
           }
          ],
          "heatmapgl": [
           {
            "colorbar": {
             "outlinewidth": 0,
             "ticks": ""
            },
            "colorscale": [
             [
              0,
              "#0d0887"
             ],
             [
              0.1111111111111111,
              "#46039f"
             ],
             [
              0.2222222222222222,
              "#7201a8"
             ],
             [
              0.3333333333333333,
              "#9c179e"
             ],
             [
              0.4444444444444444,
              "#bd3786"
             ],
             [
              0.5555555555555556,
              "#d8576b"
             ],
             [
              0.6666666666666666,
              "#ed7953"
             ],
             [
              0.7777777777777778,
              "#fb9f3a"
             ],
             [
              0.8888888888888888,
              "#fdca26"
             ],
             [
              1,
              "#f0f921"
             ]
            ],
            "type": "heatmapgl"
           }
          ],
          "histogram": [
           {
            "marker": {
             "colorbar": {
              "outlinewidth": 0,
              "ticks": ""
             }
            },
            "type": "histogram"
           }
          ],
          "histogram2d": [
           {
            "colorbar": {
             "outlinewidth": 0,
             "ticks": ""
            },
            "colorscale": [
             [
              0,
              "#0d0887"
             ],
             [
              0.1111111111111111,
              "#46039f"
             ],
             [
              0.2222222222222222,
              "#7201a8"
             ],
             [
              0.3333333333333333,
              "#9c179e"
             ],
             [
              0.4444444444444444,
              "#bd3786"
             ],
             [
              0.5555555555555556,
              "#d8576b"
             ],
             [
              0.6666666666666666,
              "#ed7953"
             ],
             [
              0.7777777777777778,
              "#fb9f3a"
             ],
             [
              0.8888888888888888,
              "#fdca26"
             ],
             [
              1,
              "#f0f921"
             ]
            ],
            "type": "histogram2d"
           }
          ],
          "histogram2dcontour": [
           {
            "colorbar": {
             "outlinewidth": 0,
             "ticks": ""
            },
            "colorscale": [
             [
              0,
              "#0d0887"
             ],
             [
              0.1111111111111111,
              "#46039f"
             ],
             [
              0.2222222222222222,
              "#7201a8"
             ],
             [
              0.3333333333333333,
              "#9c179e"
             ],
             [
              0.4444444444444444,
              "#bd3786"
             ],
             [
              0.5555555555555556,
              "#d8576b"
             ],
             [
              0.6666666666666666,
              "#ed7953"
             ],
             [
              0.7777777777777778,
              "#fb9f3a"
             ],
             [
              0.8888888888888888,
              "#fdca26"
             ],
             [
              1,
              "#f0f921"
             ]
            ],
            "type": "histogram2dcontour"
           }
          ],
          "mesh3d": [
           {
            "colorbar": {
             "outlinewidth": 0,
             "ticks": ""
            },
            "type": "mesh3d"
           }
          ],
          "parcoords": [
           {
            "line": {
             "colorbar": {
              "outlinewidth": 0,
              "ticks": ""
             }
            },
            "type": "parcoords"
           }
          ],
          "pie": [
           {
            "automargin": true,
            "type": "pie"
           }
          ],
          "scatter": [
           {
            "marker": {
             "colorbar": {
              "outlinewidth": 0,
              "ticks": ""
             }
            },
            "type": "scatter"
           }
          ],
          "scatter3d": [
           {
            "line": {
             "colorbar": {
              "outlinewidth": 0,
              "ticks": ""
             }
            },
            "marker": {
             "colorbar": {
              "outlinewidth": 0,
              "ticks": ""
             }
            },
            "type": "scatter3d"
           }
          ],
          "scattercarpet": [
           {
            "marker": {
             "colorbar": {
              "outlinewidth": 0,
              "ticks": ""
             }
            },
            "type": "scattercarpet"
           }
          ],
          "scattergeo": [
           {
            "marker": {
             "colorbar": {
              "outlinewidth": 0,
              "ticks": ""
             }
            },
            "type": "scattergeo"
           }
          ],
          "scattergl": [
           {
            "marker": {
             "colorbar": {
              "outlinewidth": 0,
              "ticks": ""
             }
            },
            "type": "scattergl"
           }
          ],
          "scattermapbox": [
           {
            "marker": {
             "colorbar": {
              "outlinewidth": 0,
              "ticks": ""
             }
            },
            "type": "scattermapbox"
           }
          ],
          "scatterpolar": [
           {
            "marker": {
             "colorbar": {
              "outlinewidth": 0,
              "ticks": ""
             }
            },
            "type": "scatterpolar"
           }
          ],
          "scatterpolargl": [
           {
            "marker": {
             "colorbar": {
              "outlinewidth": 0,
              "ticks": ""
             }
            },
            "type": "scatterpolargl"
           }
          ],
          "scatterternary": [
           {
            "marker": {
             "colorbar": {
              "outlinewidth": 0,
              "ticks": ""
             }
            },
            "type": "scatterternary"
           }
          ],
          "surface": [
           {
            "colorbar": {
             "outlinewidth": 0,
             "ticks": ""
            },
            "colorscale": [
             [
              0,
              "#0d0887"
             ],
             [
              0.1111111111111111,
              "#46039f"
             ],
             [
              0.2222222222222222,
              "#7201a8"
             ],
             [
              0.3333333333333333,
              "#9c179e"
             ],
             [
              0.4444444444444444,
              "#bd3786"
             ],
             [
              0.5555555555555556,
              "#d8576b"
             ],
             [
              0.6666666666666666,
              "#ed7953"
             ],
             [
              0.7777777777777778,
              "#fb9f3a"
             ],
             [
              0.8888888888888888,
              "#fdca26"
             ],
             [
              1,
              "#f0f921"
             ]
            ],
            "type": "surface"
           }
          ],
          "table": [
           {
            "cells": {
             "fill": {
              "color": "#EBF0F8"
             },
             "line": {
              "color": "white"
             }
            },
            "header": {
             "fill": {
              "color": "#C8D4E3"
             },
             "line": {
              "color": "white"
             }
            },
            "type": "table"
           }
          ]
         },
         "layout": {
          "annotationdefaults": {
           "arrowcolor": "#2a3f5f",
           "arrowhead": 0,
           "arrowwidth": 1
          },
          "coloraxis": {
           "colorbar": {
            "outlinewidth": 0,
            "ticks": ""
           }
          },
          "colorscale": {
           "diverging": [
            [
             0,
             "#8e0152"
            ],
            [
             0.1,
             "#c51b7d"
            ],
            [
             0.2,
             "#de77ae"
            ],
            [
             0.3,
             "#f1b6da"
            ],
            [
             0.4,
             "#fde0ef"
            ],
            [
             0.5,
             "#f7f7f7"
            ],
            [
             0.6,
             "#e6f5d0"
            ],
            [
             0.7,
             "#b8e186"
            ],
            [
             0.8,
             "#7fbc41"
            ],
            [
             0.9,
             "#4d9221"
            ],
            [
             1,
             "#276419"
            ]
           ],
           "sequential": [
            [
             0,
             "#0d0887"
            ],
            [
             0.1111111111111111,
             "#46039f"
            ],
            [
             0.2222222222222222,
             "#7201a8"
            ],
            [
             0.3333333333333333,
             "#9c179e"
            ],
            [
             0.4444444444444444,
             "#bd3786"
            ],
            [
             0.5555555555555556,
             "#d8576b"
            ],
            [
             0.6666666666666666,
             "#ed7953"
            ],
            [
             0.7777777777777778,
             "#fb9f3a"
            ],
            [
             0.8888888888888888,
             "#fdca26"
            ],
            [
             1,
             "#f0f921"
            ]
           ],
           "sequentialminus": [
            [
             0,
             "#0d0887"
            ],
            [
             0.1111111111111111,
             "#46039f"
            ],
            [
             0.2222222222222222,
             "#7201a8"
            ],
            [
             0.3333333333333333,
             "#9c179e"
            ],
            [
             0.4444444444444444,
             "#bd3786"
            ],
            [
             0.5555555555555556,
             "#d8576b"
            ],
            [
             0.6666666666666666,
             "#ed7953"
            ],
            [
             0.7777777777777778,
             "#fb9f3a"
            ],
            [
             0.8888888888888888,
             "#fdca26"
            ],
            [
             1,
             "#f0f921"
            ]
           ]
          },
          "colorway": [
           "#636efa",
           "#EF553B",
           "#00cc96",
           "#ab63fa",
           "#FFA15A",
           "#19d3f3",
           "#FF6692",
           "#B6E880",
           "#FF97FF",
           "#FECB52"
          ],
          "font": {
           "color": "#2a3f5f"
          },
          "geo": {
           "bgcolor": "white",
           "lakecolor": "white",
           "landcolor": "#E5ECF6",
           "showlakes": true,
           "showland": true,
           "subunitcolor": "white"
          },
          "hoverlabel": {
           "align": "left"
          },
          "hovermode": "closest",
          "mapbox": {
           "style": "light"
          },
          "paper_bgcolor": "white",
          "plot_bgcolor": "#E5ECF6",
          "polar": {
           "angularaxis": {
            "gridcolor": "white",
            "linecolor": "white",
            "ticks": ""
           },
           "bgcolor": "#E5ECF6",
           "radialaxis": {
            "gridcolor": "white",
            "linecolor": "white",
            "ticks": ""
           }
          },
          "scene": {
           "xaxis": {
            "backgroundcolor": "#E5ECF6",
            "gridcolor": "white",
            "gridwidth": 2,
            "linecolor": "white",
            "showbackground": true,
            "ticks": "",
            "zerolinecolor": "white"
           },
           "yaxis": {
            "backgroundcolor": "#E5ECF6",
            "gridcolor": "white",
            "gridwidth": 2,
            "linecolor": "white",
            "showbackground": true,
            "ticks": "",
            "zerolinecolor": "white"
           },
           "zaxis": {
            "backgroundcolor": "#E5ECF6",
            "gridcolor": "white",
            "gridwidth": 2,
            "linecolor": "white",
            "showbackground": true,
            "ticks": "",
            "zerolinecolor": "white"
           }
          },
          "shapedefaults": {
           "line": {
            "color": "#2a3f5f"
           }
          },
          "ternary": {
           "aaxis": {
            "gridcolor": "white",
            "linecolor": "white",
            "ticks": ""
           },
           "baxis": {
            "gridcolor": "white",
            "linecolor": "white",
            "ticks": ""
           },
           "bgcolor": "#E5ECF6",
           "caxis": {
            "gridcolor": "white",
            "linecolor": "white",
            "ticks": ""
           }
          },
          "title": {
           "x": 0.05
          },
          "xaxis": {
           "automargin": true,
           "gridcolor": "white",
           "linecolor": "white",
           "ticks": "",
           "title": {
            "standoff": 15
           },
           "zerolinecolor": "white",
           "zerolinewidth": 2
          },
          "yaxis": {
           "automargin": true,
           "gridcolor": "white",
           "linecolor": "white",
           "ticks": "",
           "title": {
            "standoff": 15
           },
           "zerolinecolor": "white",
           "zerolinewidth": 2
          }
         }
        },
        "title": {
         "font": {
          "size": 25
         },
         "text": "Correlation Matrix"
        },
        "width": 700,
        "xaxis": {
         "automargin": true,
         "autorange": true,
         "range": [
          -0.5,
          23.5
         ],
         "showgrid": false,
         "tickangle": -90,
         "ticks": "",
         "type": "category"
        },
        "yaxis": {
         "automargin": true,
         "autorange": true,
         "range": [
          -0.5,
          23.5
         ],
         "showgrid": false,
         "ticks": "",
         "type": "category"
        }
       }
      },
      "text/html": [
       "<div>\n",
       "        \n",
       "        \n",
       "            <div id=\"4c359b1f-d361-4fbf-9c8d-e7de0469ecd6\" class=\"plotly-graph-div\" style=\"height:700px; width:700px;\"></div>\n",
       "            <script type=\"text/javascript\">\n",
       "                require([\"plotly\"], function(Plotly) {\n",
       "                    window.PLOTLYENV=window.PLOTLYENV || {};\n",
       "                    \n",
       "                if (document.getElementById(\"4c359b1f-d361-4fbf-9c8d-e7de0469ecd6\")) {\n",
       "                    Plotly.newPlot(\n",
       "                        '4c359b1f-d361-4fbf-9c8d-e7de0469ecd6',\n",
       "                        [{\"colorbar\": {\"title\": {\"text\": \"Strength\"}}, \"colorscale\": [[0, \"rgb(242.0, 242.0, 242.0)\"], [0.0036231884057971015, \"rgb(242, 242, 242)\"], [1.0, \"rgb(217.3859497570792, 60.84059021210298, 72.65533432870495)\"]], \"connectgaps\": false, \"type\": \"heatmap\", \"x\": [\"Date\", \"Location\", \"MinTemp\", \"MaxTemp\", \"Rainfall\", \"Evaporation\", \"Sunshine\", \"WindGustDir\", \"WindGustSpeed\", \"WindDir9am\", \"WindDir3pm\", \"WindSpeed9am\", \"WindSpeed3pm\", \"Humidity9am\", \"Humidity3pm\", \"Pressure9am\", \"Pressure3pm\", \"Cloud9am\", \"Cloud3pm\", \"Temp9am\", \"Temp3pm\", \"RainToday\", \"RISK_MM\", \"RainTomorrow\"], \"xgap\": 2, \"y\": [\"RainTomorrow\", \"RISK_MM\", \"RainToday\", \"Temp3pm\", \"Temp9am\", \"Cloud3pm\", \"Cloud9am\", \"Pressure3pm\", \"Pressure9am\", \"Humidity3pm\", \"Humidity9am\", \"WindSpeed3pm\", \"WindSpeed9am\", \"WindDir3pm\", \"WindDir9am\", \"WindGustSpeed\", \"WindGustDir\", \"Sunshine\", \"Evaporation\", \"Rainfall\", \"MaxTemp\", \"MinTemp\", \"Location\", \"Date\"], \"ygap\": 2, \"z\": [[0.30642555998267507, 0.15681845999773006, 0.0839358135015742, 0.15923666414933102, 0.23903180145062297, 0.11928469674514404, 0.45076806310612694, 0.1064274339734799, 0.23400972551743993, 0.12900750750402376, 0.0956472670480383, 0.09099465016310765, 0.08781739865081262, 0.2571611603438018, 0.4461603787913106, 0.246371146260094, 0.22603114552600895, 0.3173798297063475, 0.38187041104700387, 0.02569082260459401, 0.1924240867011429, 0.3071792466146619, 0.5014847556081539, null], [0.30126237019885005, 0.13285056077035012, 0.12474346378522314, 0.044208471533470746, 0.3085570581032797, 0.04349818641734212, 0.2949726094095004, 0.033960668025778, 0.16292314625063956, 0.030566598397780895, 0.03556779844632658, 0.06940387578114439, 0.049240197502462786, 0.1724165643341461, 0.3131833649023308, 0.1636730569860582, 0.16418408311431076, 0.19809549497415063, 0.23481398795780736, 0.051232337442162094, 0.06681665127235371, 0.21833719359454049, null, null], [0.30573237723814234, 0.15681215990761502, 0.05594511018004348, 0.22766267437849308, 0.5009972485013551, 0.18770548814151009, 0.3297766573203579, 0.1465866766797704, 0.15464536907771137, 0.19378874463495613, 0.1422482593257591, 0.10178820194861171, 0.07965405045047604, 0.3521384566778504, 0.37716564250670065, 0.18894525489306657, 0.10578309970570982, 0.3052651450502693, 0.27141534504553405, 0.09624364706228887, 0.23383257899398802, null, null, null], [0.6612216961641679, 0.5433124412024255, 0.7088648165457382, 0.9845620097168316, 0.07917761749126048, 0.5742748919916117, 0.49017969482114, 0.26844580868952556, 0.03296966882673219, 0.3151855027588441, 0.2291501111240982, 0.005108148654731473, 0.02856734856983232, 0.49977700210242787, 0.5579892227691395, 0.2873009957982802, 0.3898632793503618, 0.3025197977276223, 0.3182541550294256, 0.8605743134381149, null, null, null, null], [0.6597077530791491, 0.6146845751141552, 0.9018125915107229, 0.8870202884016747, 0.011477440932908454, 0.5454971048646101, 0.2911387864147758, 0.2614618560142783, 0.15025769831961544, 0.23140779724342028, 0.2479864189357098, 0.12929755482447355, 0.16360111451752066, 0.4728257972907726, 0.22146729532522424, 0.4227734565820272, 0.470324599766752, 0.13784271732011266, 0.1278691991995886, null, null, null, null, null], [0.34540003558924975, 0.28973638463990736, 0.02048877752607652, 0.27905320336913464, 0.17199332586222732, 0.18428650024010437, 0.7042024587578349, 0.13970485148681952, 0.10908779648440393, 0.14328912541322514, 0.11428938417176501, 0.053584297175803465, 0.02526863626712774, 0.3580432069293772, 0.523269554290334, 0.14813907239733012, 0.08496280423046489, 0.6041178590619127, null, null, null, null, null, null], [0.33469130635494193, 0.33792596183059886, 0.07762493808817288, 0.28986493565869076, 0.19819467482957334, 0.18503212604940772, 0.675610344003193, 0.11607014564709742, 0.07123548042485442, 0.1489501399306249, 0.08504214103903279, 0.02428044832401747, 0.05277964481744691, 0.4521818580631971, 0.5170373072869847, 0.13008137077835202, 0.061152442049474696, null, null, null, null, null, null, null], [0.7268565464852254, 0.2599783471852462, 0.4616229996151991, 0.4272793600675562, 0.1267283916289855, 0.29315960262636853, 0.02046374825107215, 0.21377428156358794, 0.412921762367688, 0.19432876620644737, 0.25845960397598694, 0.17491613486110816, 0.2549878271995628, 0.186955332492246, 0.05183974738730756, 0.9613476612504572, null, null, null, null, null, null, null, null], [0.7354206010971194, 0.21103006519921536, 0.4512600426902873, 0.33229311113201154, 0.16808542770812934, 0.2699065003130992, 0.04095892358478105, 0.21732229418168847, 0.4578914492122085, 0.17041918726038757, 0.24151088839239826, 0.22792308825078064, 0.29556663635738933, 0.13951933928048893, 0.027449486873533827, null, null, null, null, null, null, null, null, null], [0.3795687272513496, 0.5216178429799372, 0.005999028623322442, 0.5092697515070317, 0.2553123968340489, 0.39278483694091276, 0.6291219862914834, 0.103752141073857, 0.026662912453002487, 0.1993569349676946, 0.1024642662864002, 0.03160746301432176, 0.015903196647724743, 0.6673878396370059, null, null, null, null, null, null, null, null, null, null], [0.4395042427571342, 0.4526480441631497, 0.23421064127241803, 0.505431685993337, 0.22372456623128353, 0.5058901656117897, 0.49160305455756786, 0.0912075557486926, 0.2154610102219303, 0.17085010665195466, 0.0697209733337057, 0.27080740270864767, 0.14594182345757525, null, null, null, null, null, null, null, null, null, null, null], [0.3825086835687702, 0.40976271542836573, 0.17574929956650176, 0.05079994916436689, 0.05775898179444263, 0.12889472862556464, 0.056011721079331445, 0.1278855184850128, 0.6864194943877783, 0.16236917768501236, 0.11514685856379933, 0.5199712145558592, null, null, null, null, null, null, null, null, null, null, null, null], [0.3323501374131694, 0.4481955832107108, 0.1760052721090854, 0.014680433984675783, 0.08681579007481013, 0.19393622932833696, 0.008039643345762888, 0.10450292733775265, 0.6048371923680406, 0.13692381075898655, 0.12198861286977593, null, null, null, null, null, null, null, null, null, null, null, null, null], [0.15946519946681117, 0.19979833473923045, 0.2439969334188952, 0.21589617860855265, 0.063322734710293, 0.11055957801794163, 0.11911513984302342, 0.34667360889992593, 0.1910078644785254, 0.2020356922818563, null, null, null, null, null, null, null, null, null, null, null, null, null, null], [0.14138736255809395, 0.20756018429235634, 0.18401940572032194, 0.3019698293295917, 0.09513674148722144, 0.19071879285887605, 0.1853673094260042, 0.24269873528309796, 0.18535681447094476, null, null, null, null, null, null, null, null, null, null, null, null, null, null, null], [0.47816499218832365, 0.3160430041968503, 0.17728522362779076, 0.06769007389516274, 0.13349694066358989, 0.20300060458663785, 0.03283091480731824, 0.20162799106056156, null, null, null, null, null, null, null, null, null, null, null, null, null, null, null, null], [0.16709531815600934, 0.19762469474578295, 0.2429194373650839, 0.2556017657905782, 0.059967147201082295, 0.15054065024507868, 0.15793290733602097, null, null, null, null, null, null, null, null, null, null, null, null, null, null, null, null, null], [0.4662798807580136, 0.25874652872992376, 0.07296128076680021, 0.4699674137236143, 0.2275247963738862, 0.3666073747912891, null, null, null, null, null, null, null, null, null, null, null, null, null, null, null, null, null, null], [0.5825661237669276, 0.37435031647161376, 0.4672614652907841, 0.5889149209476179, 0.06454937805464708, null, null, null, null, null, null, null, null, null, null, null, null, null, null, null, null, null, null, null], [0.30043756496409774, 0.13326762029648134, 0.10425481706111385, 0.07483898642003825, null, null, null, null, null, null, null, null, null, null, null, null, null, null, null, null, null, null, null, null], [0.6771968308637504, 0.5392202136414888, 0.7362674127583685, null, null, null, null, null, null, null, null, null, null, null, null, null, null, null, null, null, null, null, null, null], [0.6433065048164344, 0.6076090636650955, null, null, null, null, null, null, null, null, null, null, null, null, null, null, null, null, null, null, null, null, null, null], [0.0, null, null, null, null, null, null, null, null, null, null, null, null, null, null, null, null, null, null, null, null, null, null, null], [null, null, null, null, null, null, null, null, null, null, null, null, null, null, null, null, null, null, null, null, null, null, null, null]]}],\n",
       "                        {\"autosize\": false, \"height\": 700, \"paper_bgcolor\": \"rgb(0,0,0,0)\", \"plot_bgcolor\": \"rgb(0,0,0,0)\", \"template\": {\"data\": {\"bar\": [{\"error_x\": {\"color\": \"#2a3f5f\"}, \"error_y\": {\"color\": \"#2a3f5f\"}, \"marker\": {\"line\": {\"color\": \"#E5ECF6\", \"width\": 0.5}}, \"type\": \"bar\"}], \"barpolar\": [{\"marker\": {\"line\": {\"color\": \"#E5ECF6\", \"width\": 0.5}}, \"type\": \"barpolar\"}], \"carpet\": [{\"aaxis\": {\"endlinecolor\": \"#2a3f5f\", \"gridcolor\": \"white\", \"linecolor\": \"white\", \"minorgridcolor\": \"white\", \"startlinecolor\": \"#2a3f5f\"}, \"baxis\": {\"endlinecolor\": \"#2a3f5f\", \"gridcolor\": \"white\", \"linecolor\": \"white\", \"minorgridcolor\": \"white\", \"startlinecolor\": \"#2a3f5f\"}, \"type\": \"carpet\"}], \"choropleth\": [{\"colorbar\": {\"outlinewidth\": 0, \"ticks\": \"\"}, \"type\": \"choropleth\"}], \"contour\": [{\"colorbar\": {\"outlinewidth\": 0, \"ticks\": \"\"}, \"colorscale\": [[0.0, \"#0d0887\"], [0.1111111111111111, \"#46039f\"], [0.2222222222222222, \"#7201a8\"], [0.3333333333333333, \"#9c179e\"], [0.4444444444444444, \"#bd3786\"], [0.5555555555555556, \"#d8576b\"], [0.6666666666666666, \"#ed7953\"], [0.7777777777777778, \"#fb9f3a\"], [0.8888888888888888, \"#fdca26\"], [1.0, \"#f0f921\"]], \"type\": \"contour\"}], \"contourcarpet\": [{\"colorbar\": {\"outlinewidth\": 0, \"ticks\": \"\"}, \"type\": \"contourcarpet\"}], \"heatmap\": [{\"colorbar\": {\"outlinewidth\": 0, \"ticks\": \"\"}, \"colorscale\": [[0.0, \"#0d0887\"], [0.1111111111111111, \"#46039f\"], [0.2222222222222222, \"#7201a8\"], [0.3333333333333333, \"#9c179e\"], [0.4444444444444444, \"#bd3786\"], [0.5555555555555556, \"#d8576b\"], [0.6666666666666666, \"#ed7953\"], [0.7777777777777778, \"#fb9f3a\"], [0.8888888888888888, \"#fdca26\"], [1.0, \"#f0f921\"]], \"type\": \"heatmap\"}], \"heatmapgl\": [{\"colorbar\": {\"outlinewidth\": 0, \"ticks\": \"\"}, \"colorscale\": [[0.0, \"#0d0887\"], [0.1111111111111111, \"#46039f\"], [0.2222222222222222, \"#7201a8\"], [0.3333333333333333, \"#9c179e\"], [0.4444444444444444, \"#bd3786\"], [0.5555555555555556, \"#d8576b\"], [0.6666666666666666, \"#ed7953\"], [0.7777777777777778, \"#fb9f3a\"], [0.8888888888888888, \"#fdca26\"], [1.0, \"#f0f921\"]], \"type\": \"heatmapgl\"}], \"histogram\": [{\"marker\": {\"colorbar\": {\"outlinewidth\": 0, \"ticks\": \"\"}}, \"type\": \"histogram\"}], \"histogram2d\": [{\"colorbar\": {\"outlinewidth\": 0, \"ticks\": \"\"}, \"colorscale\": [[0.0, \"#0d0887\"], [0.1111111111111111, \"#46039f\"], [0.2222222222222222, \"#7201a8\"], [0.3333333333333333, \"#9c179e\"], [0.4444444444444444, \"#bd3786\"], [0.5555555555555556, \"#d8576b\"], [0.6666666666666666, \"#ed7953\"], [0.7777777777777778, \"#fb9f3a\"], [0.8888888888888888, \"#fdca26\"], [1.0, \"#f0f921\"]], \"type\": \"histogram2d\"}], \"histogram2dcontour\": [{\"colorbar\": {\"outlinewidth\": 0, \"ticks\": \"\"}, \"colorscale\": [[0.0, \"#0d0887\"], [0.1111111111111111, \"#46039f\"], [0.2222222222222222, \"#7201a8\"], [0.3333333333333333, \"#9c179e\"], [0.4444444444444444, \"#bd3786\"], [0.5555555555555556, \"#d8576b\"], [0.6666666666666666, \"#ed7953\"], [0.7777777777777778, \"#fb9f3a\"], [0.8888888888888888, \"#fdca26\"], [1.0, \"#f0f921\"]], \"type\": \"histogram2dcontour\"}], \"mesh3d\": [{\"colorbar\": {\"outlinewidth\": 0, \"ticks\": \"\"}, \"type\": \"mesh3d\"}], \"parcoords\": [{\"line\": {\"colorbar\": {\"outlinewidth\": 0, \"ticks\": \"\"}}, \"type\": \"parcoords\"}], \"pie\": [{\"automargin\": true, \"type\": \"pie\"}], \"scatter\": [{\"marker\": {\"colorbar\": {\"outlinewidth\": 0, \"ticks\": \"\"}}, \"type\": \"scatter\"}], \"scatter3d\": [{\"line\": {\"colorbar\": {\"outlinewidth\": 0, \"ticks\": \"\"}}, \"marker\": {\"colorbar\": {\"outlinewidth\": 0, \"ticks\": \"\"}}, \"type\": \"scatter3d\"}], \"scattercarpet\": [{\"marker\": {\"colorbar\": {\"outlinewidth\": 0, \"ticks\": \"\"}}, \"type\": \"scattercarpet\"}], \"scattergeo\": [{\"marker\": {\"colorbar\": {\"outlinewidth\": 0, \"ticks\": \"\"}}, \"type\": \"scattergeo\"}], \"scattergl\": [{\"marker\": {\"colorbar\": {\"outlinewidth\": 0, \"ticks\": \"\"}}, \"type\": \"scattergl\"}], \"scattermapbox\": [{\"marker\": {\"colorbar\": {\"outlinewidth\": 0, \"ticks\": \"\"}}, \"type\": \"scattermapbox\"}], \"scatterpolar\": [{\"marker\": {\"colorbar\": {\"outlinewidth\": 0, \"ticks\": \"\"}}, \"type\": \"scatterpolar\"}], \"scatterpolargl\": [{\"marker\": {\"colorbar\": {\"outlinewidth\": 0, \"ticks\": \"\"}}, \"type\": \"scatterpolargl\"}], \"scatterternary\": [{\"marker\": {\"colorbar\": {\"outlinewidth\": 0, \"ticks\": \"\"}}, \"type\": \"scatterternary\"}], \"surface\": [{\"colorbar\": {\"outlinewidth\": 0, \"ticks\": \"\"}, \"colorscale\": [[0.0, \"#0d0887\"], [0.1111111111111111, \"#46039f\"], [0.2222222222222222, \"#7201a8\"], [0.3333333333333333, \"#9c179e\"], [0.4444444444444444, \"#bd3786\"], [0.5555555555555556, \"#d8576b\"], [0.6666666666666666, \"#ed7953\"], [0.7777777777777778, \"#fb9f3a\"], [0.8888888888888888, \"#fdca26\"], [1.0, \"#f0f921\"]], \"type\": \"surface\"}], \"table\": [{\"cells\": {\"fill\": {\"color\": \"#EBF0F8\"}, \"line\": {\"color\": \"white\"}}, \"header\": {\"fill\": {\"color\": \"#C8D4E3\"}, \"line\": {\"color\": \"white\"}}, \"type\": \"table\"}]}, \"layout\": {\"annotationdefaults\": {\"arrowcolor\": \"#2a3f5f\", \"arrowhead\": 0, \"arrowwidth\": 1}, \"coloraxis\": {\"colorbar\": {\"outlinewidth\": 0, \"ticks\": \"\"}}, \"colorscale\": {\"diverging\": [[0, \"#8e0152\"], [0.1, \"#c51b7d\"], [0.2, \"#de77ae\"], [0.3, \"#f1b6da\"], [0.4, \"#fde0ef\"], [0.5, \"#f7f7f7\"], [0.6, \"#e6f5d0\"], [0.7, \"#b8e186\"], [0.8, \"#7fbc41\"], [0.9, \"#4d9221\"], [1, \"#276419\"]], \"sequential\": [[0.0, \"#0d0887\"], [0.1111111111111111, \"#46039f\"], [0.2222222222222222, \"#7201a8\"], [0.3333333333333333, \"#9c179e\"], [0.4444444444444444, \"#bd3786\"], [0.5555555555555556, \"#d8576b\"], [0.6666666666666666, \"#ed7953\"], [0.7777777777777778, \"#fb9f3a\"], [0.8888888888888888, \"#fdca26\"], [1.0, \"#f0f921\"]], \"sequentialminus\": [[0.0, \"#0d0887\"], [0.1111111111111111, \"#46039f\"], [0.2222222222222222, \"#7201a8\"], [0.3333333333333333, \"#9c179e\"], [0.4444444444444444, \"#bd3786\"], [0.5555555555555556, \"#d8576b\"], [0.6666666666666666, \"#ed7953\"], [0.7777777777777778, \"#fb9f3a\"], [0.8888888888888888, \"#fdca26\"], [1.0, \"#f0f921\"]]}, \"colorway\": [\"#636efa\", \"#EF553B\", \"#00cc96\", \"#ab63fa\", \"#FFA15A\", \"#19d3f3\", \"#FF6692\", \"#B6E880\", \"#FF97FF\", \"#FECB52\"], \"font\": {\"color\": \"#2a3f5f\"}, \"geo\": {\"bgcolor\": \"white\", \"lakecolor\": \"white\", \"landcolor\": \"#E5ECF6\", \"showlakes\": true, \"showland\": true, \"subunitcolor\": \"white\"}, \"hoverlabel\": {\"align\": \"left\"}, \"hovermode\": \"closest\", \"mapbox\": {\"style\": \"light\"}, \"paper_bgcolor\": \"white\", \"plot_bgcolor\": \"#E5ECF6\", \"polar\": {\"angularaxis\": {\"gridcolor\": \"white\", \"linecolor\": \"white\", \"ticks\": \"\"}, \"bgcolor\": \"#E5ECF6\", \"radialaxis\": {\"gridcolor\": \"white\", \"linecolor\": \"white\", \"ticks\": \"\"}}, \"scene\": {\"xaxis\": {\"backgroundcolor\": \"#E5ECF6\", \"gridcolor\": \"white\", \"gridwidth\": 2, \"linecolor\": \"white\", \"showbackground\": true, \"ticks\": \"\", \"zerolinecolor\": \"white\"}, \"yaxis\": {\"backgroundcolor\": \"#E5ECF6\", \"gridcolor\": \"white\", \"gridwidth\": 2, \"linecolor\": \"white\", \"showbackground\": true, \"ticks\": \"\", \"zerolinecolor\": \"white\"}, \"zaxis\": {\"backgroundcolor\": \"#E5ECF6\", \"gridcolor\": \"white\", \"gridwidth\": 2, \"linecolor\": \"white\", \"showbackground\": true, \"ticks\": \"\", \"zerolinecolor\": \"white\"}}, \"shapedefaults\": {\"line\": {\"color\": \"#2a3f5f\"}}, \"ternary\": {\"aaxis\": {\"gridcolor\": \"white\", \"linecolor\": \"white\", \"ticks\": \"\"}, \"baxis\": {\"gridcolor\": \"white\", \"linecolor\": \"white\", \"ticks\": \"\"}, \"bgcolor\": \"#E5ECF6\", \"caxis\": {\"gridcolor\": \"white\", \"linecolor\": \"white\", \"ticks\": \"\"}}, \"title\": {\"x\": 0.05}, \"xaxis\": {\"automargin\": true, \"gridcolor\": \"white\", \"linecolor\": \"white\", \"ticks\": \"\", \"title\": {\"standoff\": 15}, \"zerolinecolor\": \"white\", \"zerolinewidth\": 2}, \"yaxis\": {\"automargin\": true, \"gridcolor\": \"white\", \"linecolor\": \"white\", \"ticks\": \"\", \"title\": {\"standoff\": 15}, \"zerolinecolor\": \"white\", \"zerolinewidth\": 2}}}, \"title\": {\"font\": {\"size\": 25}, \"text\": \"Correlation Matrix\"}, \"width\": 700, \"xaxis\": {\"automargin\": true, \"showgrid\": false, \"tickangle\": -90, \"ticks\": \"\"}, \"yaxis\": {\"automargin\": true, \"showgrid\": false, \"ticks\": \"\"}},\n",
       "                        {\"displayModeBar\": false, \"responsive\": true}\n",
       "                    ).then(function(){\n",
       "                            \n",
       "var gd = document.getElementById('4c359b1f-d361-4fbf-9c8d-e7de0469ecd6');\n",
       "var x = new MutationObserver(function (mutations, observer) {{\n",
       "        var display = window.getComputedStyle(gd).display;\n",
       "        if (!display || display === 'none') {{\n",
       "            console.log([gd, 'removed!']);\n",
       "            Plotly.purge(gd);\n",
       "            observer.disconnect();\n",
       "        }}\n",
       "}});\n",
       "\n",
       "// Listen for the removal of the full notebook cells\n",
       "var notebookContainer = gd.closest('#notebook-container');\n",
       "if (notebookContainer) {{\n",
       "    x.observe(notebookContainer, {childList: true});\n",
       "}}\n",
       "\n",
       "// Listen for the clearing of the current output cell\n",
       "var outputEl = gd.closest('.output');\n",
       "if (outputEl) {{\n",
       "    x.observe(outputEl, {childList: true});\n",
       "}}\n",
       "\n",
       "                        })\n",
       "                };\n",
       "                });\n",
       "            </script>\n",
       "        </div>"
      ]
     },
     "metadata": {},
     "output_type": "display_data"
    }
   ],
   "source": [
    "correlation_matrix(df, categorical=True)"
   ]
  },
  {
   "cell_type": "markdown",
   "metadata": {},
   "source": [
    "## Return values only"
   ]
  },
  {
   "cell_type": "code",
   "execution_count": 7,
   "metadata": {},
   "outputs": [
    {
     "data": {
      "text/html": [
       "<div>\n",
       "<style scoped>\n",
       "    .dataframe tbody tr th:only-of-type {\n",
       "        vertical-align: middle;\n",
       "    }\n",
       "\n",
       "    .dataframe tbody tr th {\n",
       "        vertical-align: top;\n",
       "    }\n",
       "\n",
       "    .dataframe thead th {\n",
       "        text-align: right;\n",
       "    }\n",
       "</style>\n",
       "<table border=\"1\" class=\"dataframe\">\n",
       "  <thead>\n",
       "    <tr style=\"text-align: right;\">\n",
       "      <th></th>\n",
       "      <th>WindGustDir</th>\n",
       "      <th>WindDir3pm</th>\n",
       "      <th>WindDir9am</th>\n",
       "      <th>Rainfall</th>\n",
       "      <th>RainToday</th>\n",
       "      <th>...</th>\n",
       "      <th>MinTemp</th>\n",
       "      <th>Temp9am</th>\n",
       "      <th>Date</th>\n",
       "      <th>Pressure9am</th>\n",
       "      <th>Pressure3pm</th>\n",
       "    </tr>\n",
       "  </thead>\n",
       "  <tbody>\n",
       "    <tr>\n",
       "      <th>WindGustDir</th>\n",
       "      <td>1.000000</td>\n",
       "      <td>0.346674</td>\n",
       "      <td>0.242699</td>\n",
       "      <td>0.059967</td>\n",
       "      <td>0.146587</td>\n",
       "      <td>...</td>\n",
       "      <td>0.242919</td>\n",
       "      <td>0.261462</td>\n",
       "      <td>0.167095</td>\n",
       "      <td>0.217322</td>\n",
       "      <td>0.213774</td>\n",
       "    </tr>\n",
       "    <tr>\n",
       "      <th>WindDir3pm</th>\n",
       "      <td>0.346674</td>\n",
       "      <td>1.000000</td>\n",
       "      <td>0.202036</td>\n",
       "      <td>0.063323</td>\n",
       "      <td>0.142248</td>\n",
       "      <td>...</td>\n",
       "      <td>0.243997</td>\n",
       "      <td>0.247986</td>\n",
       "      <td>0.159465</td>\n",
       "      <td>0.241511</td>\n",
       "      <td>0.258460</td>\n",
       "    </tr>\n",
       "    <tr>\n",
       "      <th>WindDir9am</th>\n",
       "      <td>0.242699</td>\n",
       "      <td>0.202036</td>\n",
       "      <td>1.000000</td>\n",
       "      <td>0.095137</td>\n",
       "      <td>0.193789</td>\n",
       "      <td>...</td>\n",
       "      <td>0.184019</td>\n",
       "      <td>0.231408</td>\n",
       "      <td>0.141387</td>\n",
       "      <td>0.170419</td>\n",
       "      <td>0.194329</td>\n",
       "    </tr>\n",
       "    <tr>\n",
       "      <th>Rainfall</th>\n",
       "      <td>0.059967</td>\n",
       "      <td>0.063323</td>\n",
       "      <td>0.095137</td>\n",
       "      <td>1.000000</td>\n",
       "      <td>0.500997</td>\n",
       "      <td>...</td>\n",
       "      <td>0.104255</td>\n",
       "      <td>0.011477</td>\n",
       "      <td>0.300438</td>\n",
       "      <td>0.168085</td>\n",
       "      <td>0.126728</td>\n",
       "    </tr>\n",
       "    <tr>\n",
       "      <th>RainToday</th>\n",
       "      <td>0.146587</td>\n",
       "      <td>0.142248</td>\n",
       "      <td>0.193789</td>\n",
       "      <td>0.500997</td>\n",
       "      <td>1.000000</td>\n",
       "      <td>...</td>\n",
       "      <td>0.055945</td>\n",
       "      <td>0.096244</td>\n",
       "      <td>0.305732</td>\n",
       "      <td>0.188945</td>\n",
       "      <td>0.105783</td>\n",
       "    </tr>\n",
       "    <tr>\n",
       "      <th>...</th>\n",
       "      <td>...</td>\n",
       "      <td>...</td>\n",
       "      <td>...</td>\n",
       "      <td>...</td>\n",
       "      <td>...</td>\n",
       "      <td>...</td>\n",
       "      <td>...</td>\n",
       "      <td>...</td>\n",
       "      <td>...</td>\n",
       "      <td>...</td>\n",
       "      <td>...</td>\n",
       "    </tr>\n",
       "    <tr>\n",
       "      <th>MinTemp</th>\n",
       "      <td>0.242919</td>\n",
       "      <td>0.243997</td>\n",
       "      <td>0.184019</td>\n",
       "      <td>0.104255</td>\n",
       "      <td>0.055945</td>\n",
       "      <td>...</td>\n",
       "      <td>1.000000</td>\n",
       "      <td>0.901813</td>\n",
       "      <td>0.643307</td>\n",
       "      <td>0.451260</td>\n",
       "      <td>0.461623</td>\n",
       "    </tr>\n",
       "    <tr>\n",
       "      <th>Temp9am</th>\n",
       "      <td>0.261462</td>\n",
       "      <td>0.247986</td>\n",
       "      <td>0.231408</td>\n",
       "      <td>0.011477</td>\n",
       "      <td>0.096244</td>\n",
       "      <td>...</td>\n",
       "      <td>0.901813</td>\n",
       "      <td>1.000000</td>\n",
       "      <td>0.659708</td>\n",
       "      <td>0.422773</td>\n",
       "      <td>0.470325</td>\n",
       "    </tr>\n",
       "    <tr>\n",
       "      <th>Date</th>\n",
       "      <td>0.167095</td>\n",
       "      <td>0.159465</td>\n",
       "      <td>0.141387</td>\n",
       "      <td>0.300438</td>\n",
       "      <td>0.305732</td>\n",
       "      <td>...</td>\n",
       "      <td>0.643307</td>\n",
       "      <td>0.659708</td>\n",
       "      <td>1.000000</td>\n",
       "      <td>0.735421</td>\n",
       "      <td>0.726857</td>\n",
       "    </tr>\n",
       "    <tr>\n",
       "      <th>Pressure9am</th>\n",
       "      <td>0.217322</td>\n",
       "      <td>0.241511</td>\n",
       "      <td>0.170419</td>\n",
       "      <td>0.168085</td>\n",
       "      <td>0.188945</td>\n",
       "      <td>...</td>\n",
       "      <td>0.451260</td>\n",
       "      <td>0.422773</td>\n",
       "      <td>0.735421</td>\n",
       "      <td>1.000000</td>\n",
       "      <td>0.961348</td>\n",
       "    </tr>\n",
       "    <tr>\n",
       "      <th>Pressure3pm</th>\n",
       "      <td>0.213774</td>\n",
       "      <td>0.258460</td>\n",
       "      <td>0.194329</td>\n",
       "      <td>0.126728</td>\n",
       "      <td>0.105783</td>\n",
       "      <td>...</td>\n",
       "      <td>0.461623</td>\n",
       "      <td>0.470325</td>\n",
       "      <td>0.726857</td>\n",
       "      <td>0.961348</td>\n",
       "      <td>1.000000</td>\n",
       "    </tr>\n",
       "  </tbody>\n",
       "</table>\n",
       "<p>24 rows × 24 columns</p>\n",
       "</div>"
      ],
      "text/plain": [
       "             WindGustDir  WindDir3pm  WindDir9am  Rainfall  RainToday  ...  \\\n",
       "WindGustDir     1.000000    0.346674    0.242699  0.059967   0.146587  ...   \n",
       "WindDir3pm      0.346674    1.000000    0.202036  0.063323   0.142248  ...   \n",
       "WindDir9am      0.242699    0.202036    1.000000  0.095137   0.193789  ...   \n",
       "Rainfall        0.059967    0.063323    0.095137  1.000000   0.500997  ...   \n",
       "RainToday       0.146587    0.142248    0.193789  0.500997   1.000000  ...   \n",
       "...                  ...         ...         ...       ...        ...  ...   \n",
       "MinTemp         0.242919    0.243997    0.184019  0.104255   0.055945  ...   \n",
       "Temp9am         0.261462    0.247986    0.231408  0.011477   0.096244  ...   \n",
       "Date            0.167095    0.159465    0.141387  0.300438   0.305732  ...   \n",
       "Pressure9am     0.217322    0.241511    0.170419  0.168085   0.188945  ...   \n",
       "Pressure3pm     0.213774    0.258460    0.194329  0.126728   0.105783  ...   \n",
       "\n",
       "              MinTemp   Temp9am      Date  Pressure9am  Pressure3pm  \n",
       "WindGustDir  0.242919  0.261462  0.167095     0.217322     0.213774  \n",
       "WindDir3pm   0.243997  0.247986  0.159465     0.241511     0.258460  \n",
       "WindDir9am   0.184019  0.231408  0.141387     0.170419     0.194329  \n",
       "Rainfall     0.104255  0.011477  0.300438     0.168085     0.126728  \n",
       "RainToday    0.055945  0.096244  0.305732     0.188945     0.105783  \n",
       "...               ...       ...       ...          ...          ...  \n",
       "MinTemp      1.000000  0.901813  0.643307     0.451260     0.461623  \n",
       "Temp9am      0.901813  1.000000  0.659708     0.422773     0.470325  \n",
       "Date         0.643307  0.659708  1.000000     0.735421     0.726857  \n",
       "Pressure9am  0.451260  0.422773  0.735421     1.000000     0.961348  \n",
       "Pressure3pm  0.461623  0.470325  0.726857     0.961348     1.000000  \n",
       "\n",
       "[24 rows x 24 columns]"
      ]
     },
     "execution_count": 7,
     "metadata": {},
     "output_type": "execute_result"
    }
   ],
   "source": [
    "pd.set_option('display.max_rows', 10)\n",
    "pd.set_option('display.max_columns', 10)\n",
    "correlation_matrix(df, cluster=True, categorical=True, return_values=True)"
   ]
  }
 ],
 "metadata": {
  "kernelspec": {
   "display_name": "Python 3",
   "language": "python",
   "name": "python3"
  },
  "language_info": {
   "codemirror_mode": {
    "name": "ipython",
    "version": 3
   },
   "file_extension": ".py",
   "mimetype": "text/x-python",
   "name": "python",
   "nbconvert_exporter": "python",
   "pygments_lexer": "ipython3",
   "version": "3.7.6"
  }
 },
 "nbformat": 4,
 "nbformat_minor": 4
}
