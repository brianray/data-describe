{
 "cells": [
  {
   "cell_type": "markdown",
   "metadata": {},
   "source": [
    "# Cluster Analysis"
   ]
  },
  {
   "cell_type": "code",
   "execution_count": 1,
   "metadata": {},
   "outputs": [],
   "source": [
    "import pandas as pd\n",
    "from mwdata.core.cluster import cluster\n",
    "import plotly.graph_objs as go\n",
    "from plotly.offline import init_notebook_mode, iplot"
   ]
  },
  {
   "cell_type": "markdown",
   "metadata": {},
   "source": [
    "## Load sklearn dataset"
   ]
  },
  {
   "cell_type": "code",
   "execution_count": 2,
   "metadata": {},
   "outputs": [],
   "source": [
    "from sklearn.datasets import load_wine\n",
    "data = load_wine()\n",
    "df = pd.DataFrame(data=data.data, columns=data.feature_names)\n",
    "df = pd.concat([pd.Series(data.target), df], axis=1)\n",
    "df = df.rename({0:'Target'}, axis=1)"
   ]
  },
  {
   "cell_type": "markdown",
   "metadata": {},
   "source": [
    "## Default Cluster Analysis"
   ]
  },
  {
   "cell_type": "code",
   "execution_count": 3,
   "metadata": {},
   "outputs": [
    {
     "data": {
      "text/html": [
       "        <script type=\"text/javascript\">\n",
       "        window.PlotlyConfig = {MathJaxConfig: 'local'};\n",
       "        if (window.MathJax) {MathJax.Hub.Config({SVG: {font: \"STIX-Web\"}});}\n",
       "        if (typeof require !== 'undefined') {\n",
       "        require.undef(\"plotly\");\n",
       "        requirejs.config({\n",
       "            paths: {\n",
       "                'plotly': ['https://cdn.plot.ly/plotly-latest.min']\n",
       "            }\n",
       "        });\n",
       "        require(['plotly'], function(Plotly) {\n",
       "            window._Plotly = Plotly;\n",
       "        });\n",
       "        }\n",
       "        </script>\n",
       "        "
      ]
     },
     "metadata": {},
     "output_type": "display_data"
    },
    {
     "data": {
      "application/vnd.plotly.v1+json": {
       "config": {
        "linkText": "Export to plot.ly",
        "plotlyServerURL": "https://plot.ly",
        "showLink": false
       },
       "data": [
        {
         "marker": {
          "colorscale": [
           [
            0,
            "rgb(161, 105, 40)"
           ],
           [
            0.16666666666666666,
            "rgb(189, 146, 90)"
           ],
           [
            0.3333333333333333,
            "rgb(214, 189, 141)"
           ],
           [
            0.5,
            "rgb(237, 234, 194)"
           ],
           [
            0.6666666666666666,
            "rgb(181, 200, 184)"
           ],
           [
            0.8333333333333334,
            "rgb(121, 167, 172)"
           ],
           [
            1,
            "rgb(40, 135, 161)"
           ]
          ],
          "line": {
           "width": 1
          },
          "size": 10
         },
         "mode": "markers",
         "name": "Cluster 2",
         "type": "scatter",
         "x": [
          3.316750812214776,
          2.209464916918848,
          2.5167401466103794,
          3.7570656097732025,
          1.008908493795713,
          3.0502539224180767,
          2.4490896695962303,
          2.0594368714379123,
          2.510874297398989,
          2.7536281876339075,
          3.4797366827312093,
          1.7547529012945884,
          2.1134623403150945,
          3.4581568193367214,
          4.312783906765558,
          2.305188200827969,
          2.17195527374151,
          1.898971176562759,
          3.541985081943465,
          2.084522204730311,
          3.1244025351671993,
          1.086570068332239,
          2.5352240799037142,
          1.6449883412544688,
          1.7615758722693005,
          0.9900791016088537,
          1.7752776281133669,
          1.2354239643099048,
          2.1884063344519604,
          2.2561089812837074,
          2.5002200257894223,
          2.677411047444011,
          1.6285791164309182,
          1.9026908622381455,
          1.4103885265954055,
          1.9038262321944854,
          1.384862230374838,
          1.1222074104413093,
          1.5021945006181914,
          2.529801092371809,
          2.5880954258544007,
          0.6684819937541869,
          3.070806990412006,
          0.4622091375160074,
          2.101351930538014,
          1.1361661775610175,
          2.7266009636408026,
          2.821339274192247,
          2.009850850912358,
          2.707491304266391,
          3.2149174747738205,
          2.858959826717292,
          3.5056043559232193,
          2.224791380532171,
          2.146987823563865,
          2.469329483797785,
          2.7415179142774506,
          2.173740920965304,
          3.139380151828992,
          2.5622271731703568,
          2.5438651841995488
         ],
         "y": [
          -1.4434626343180104,
          0.3333928870803012,
          -1.0311512962743201,
          -2.7563719137107134,
          -0.8698308214172069,
          -2.1224011146341915,
          -1.1748501316494742,
          -1.6089630683635083,
          -0.9180709573337763,
          -0.7894376738336062,
          -1.3023332371235952,
          -0.6119772287456308,
          -0.6757063391426186,
          -1.1306298761729372,
          -2.0959755753412623,
          -1.6625517299890575,
          -2.327305336191421,
          -1.631368878642839,
          -2.5183436693066463,
          -1.061137993583861,
          -0.7868971056508953,
          -0.24174355133284073,
          0.09184062072088066,
          0.5162789300672347,
          0.3171489326843803,
          -0.9406673381906375,
          -0.6861751342850241,
          0.0898070413606409,
          -0.6895696206616252,
          -0.1914619368866646,
          -1.2408338348969443,
          -1.4718736461032493,
          -0.05270445057532362,
          -1.6330604347699855,
          -0.6979343246113576,
          -0.17671095109545668,
          -0.65863985366115,
          -0.11410976029688852,
          0.7694320064310096,
          -1.8030019760618292,
          -0.779616304192508,
          -0.16996094061987443,
          -1.1559189566098835,
          -0.33074213219227483,
          0.07100892095406704,
          -1.7771073929776378,
          -1.1913346919571832,
          -0.6462585991417032,
          -1.247029460678761,
          -1.7519674072063378,
          -0.1669919949967895,
          -0.7452788039895889,
          -1.6127338560350115,
          -1.8751679995630257,
          -1.0167515377576601,
          -1.3290083106496233,
          -1.4365487835125148,
          -1.2121998406977952,
          -1.7315791159925131,
          -0.26019855065459924,
          -0.1692740227997427
         ]
        },
        {
         "marker": {
          "colorscale": [
           [
            0,
            "rgb(161, 105, 40)"
           ],
           [
            0.16666666666666666,
            "rgb(189, 146, 90)"
           ],
           [
            0.3333333333333333,
            "rgb(214, 189, 141)"
           ],
           [
            0.5,
            "rgb(237, 234, 194)"
           ],
           [
            0.6666666666666666,
            "rgb(181, 200, 184)"
           ],
           [
            0.8333333333333334,
            "rgb(121, 167, 172)"
           ],
           [
            1,
            "rgb(40, 135, 161)"
           ]
          ],
          "line": {
           "width": 1
          },
          "size": 10
         },
         "mode": "markers",
         "name": "Cluster 1",
         "type": "scatter",
         "x": [
          -0.9285819689218516,
          -1.542480137896879,
          0.030606834086683007,
          2.050261607576316,
          -0.6096808271776207,
          0.9002278387071426,
          2.248507190798395,
          0.18338402668475726,
          -0.8128050273520699,
          1.9756204987985526,
          -1.5722162196262999,
          1.6576818088332907,
          -0.7253723880353532,
          1.832567570049545,
          -0.8679929031954109,
          0.37001440429478516,
          -1.4573770449061378,
          1.2629308497284955,
          0.3761503719342408,
          0.7620639041096005,
          1.0345779671651876,
          -0.494876755680326,
          0.8353201453942963,
          0.7879046149897106,
          -0.8068321559655369,
          -0.5580426248756822,
          -1.1151110419194465,
          -0.5557228299516997,
          -1.3492852824437287,
          -1.5644826057199046,
          -1.9325556106314612,
          0.746665941988451,
          0.9574553638036397,
          -0.5439525887762305,
          1.0310497503881495,
          2.251909422148122,
          1.4102160153374603,
          0.7977197926930418,
          -0.5495317266494619,
          -0.16117373994854525,
          -0.6597949416843591,
          0.3923544081850838,
          -1.7724990779600323,
          -0.3662673573520631,
          -1.6206725727874767,
          0.08253578349332848,
          1.5782750709323794,
          1.4205692478240137,
          -0.278702753648853,
          -1.3031449662482808,
          -0.4570718656526248,
          -0.49418584704437424,
          0.48207440977309346,
          -0.2528888776531987,
          -0.10722763772912264,
          -0.5510895391746493,
          0.7396219285682196,
          1.3363217334183255,
          -1.177086996247772,
          -0.4623350080196777,
          0.9784740793566471,
          -0.09680972631598514,
          0.0384871459490252,
          -1.597158501207472,
          -0.47956491608312435,
          -1.792833473031143
         ],
         "y": [
          3.0734861631889325,
          1.3814435080942291,
          1.262786144211404,
          1.9250326046501012,
          1.9080588050851868,
          0.7639114736096088,
          1.8845924845501347,
          2.4271461147035724,
          0.22051398690226987,
          1.4032832253096144,
          0.8849831369082221,
          0.9567121974591483,
          1.063645400706095,
          1.2878781978605247,
          2.444101185580865,
          2.15390697515699,
          1.3833517690762596,
          0.770849529970117,
          1.0270434033558216,
          3.375053809963535,
          1.4507097382440923,
          2.381243526767369,
          1.4736705514008661,
          2.026626522462477,
          2.233830390843911,
          2.3729854288494536,
          1.8022471916654537,
          2.6575400353922927,
          2.1180014697848186,
          1.85221452176555,
          1.5594954568986226,
          2.3129317092207407,
          2.2235284346674593,
          0.36892654587731466,
          2.5655693487335243,
          1.4327413803542557,
          2.166191769370384,
          2.3769488030818624,
          2.293128643245628,
          1.1644833215600154,
          2.679961185989636,
          2.0987317087655377,
          1.7172884693761419,
          2.1693532978292835,
          1.3555833880259576,
          2.306234587748325,
          1.4620342902048145,
          1.4182066376337499,
          1.930568088670468,
          0.76317231365779,
          2.2694156075896745,
          1.9390450494868308,
          3.8717838484072375,
          2.821492374701593,
          1.9289220425669578,
          2.2221615507766224,
          1.4089566673657112,
          -0.25333693116830996,
          0.6639668398015696,
          0.6182881794850426,
          1.4455704988958267,
          2.1099979931352255,
          1.2667621091578847,
          1.2081435741284834,
          1.9388406603940471,
          1.1502881044421052
         ]
        },
        {
         "marker": {
          "colorscale": [
           [
            0,
            "rgb(161, 105, 40)"
           ],
           [
            0.16666666666666666,
            "rgb(189, 146, 90)"
           ],
           [
            0.3333333333333333,
            "rgb(214, 189, 141)"
           ],
           [
            0.5,
            "rgb(237, 234, 194)"
           ],
           [
            0.6666666666666666,
            "rgb(181, 200, 184)"
           ],
           [
            0.8333333333333334,
            "rgb(121, 167, 172)"
           ],
           [
            1,
            "rgb(40, 135, 161)"
           ]
          ],
          "line": {
           "width": 1
          },
          "size": 10
         },
         "mode": "markers",
         "name": "Cluster 0",
         "type": "scatter",
         "x": [
          -1.836249763466938,
          -2.538977084295118,
          -2.4330126025502143,
          -1.3271016561416014,
          -2.3845008347435286,
          -2.936940102146611,
          -2.146811133816063,
          -2.369869488333041,
          -3.0638415687203535,
          -3.9157537837118883,
          -3.936463390715962,
          -3.094276117762272,
          -2.3744716280069214,
          -2.7788129476325123,
          -2.286561284738468,
          -2.985633487449463,
          -2.3751946982271064,
          -2.209865525595873,
          -2.6256210046927193,
          -4.280638778751082,
          -3.582641372001103,
          -2.807063720081658,
          -2.8996593330239118,
          -2.3207369765492043,
          -2.5498309472261376,
          -1.8125412848422993,
          -2.76014464192395,
          -2.7371505006679904,
          -3.6048688681834236,
          -2.889825996873506,
          -3.3921560768357226,
          -1.0481818968536791,
          -1.609912282847937,
          -3.1431309667439744,
          -2.240156896269541,
          -2.847673776119519,
          -2.597497056648763,
          -2.949299373134843,
          -3.5300322663493082,
          -2.4061105404785526,
          -2.929084726967455,
          -2.1814127788126205,
          -2.38092778713564,
          -3.2116172150412465,
          -3.6779187209738144,
          -2.465555798040448,
          -3.370524145442859,
          -2.601955851224737,
          -2.6778394608645035,
          -2.3870170912797204,
          -3.208758164198021
         ],
         "y": [
          0.8299841230557193,
          0.08744335730498277,
          1.2571410404943952,
          -0.17038923204902817,
          -0.3745826055246932,
          -0.2638618300683803,
          -0.36825495188646096,
          0.45963480923116734,
          -0.3534128354584017,
          -0.15458251944173187,
          -0.6596872334097821,
          -0.3488427592737944,
          -0.29198035155999463,
          -0.28680487288217477,
          -0.37250784468529796,
          -0.4892179083470127,
          -0.4823337172448764,
          -1.1600525041576426,
          -0.5631607642108337,
          -0.6496709640237048,
          -1.2727027497273002,
          -1.5705337870411966,
          -2.0410570079384636,
          -2.356366075556675,
          -2.045283091019523,
          -1.5276459462687528,
          -2.13893234764261,
          -0.4098862708817896,
          -1.8023842175839655,
          -1.9252186131303413,
          -1.3118763884735967,
          -3.5150896912197314,
          -2.406638159574328,
          -0.7381610441757966,
          -1.1754652881188639,
          -0.5560439658826741,
          -0.6979655372009188,
          -1.5553089642839821,
          -0.8825267962042348,
          -2.592356175042398,
          -1.2744469479044807,
          -2.077537312734516,
          -2.5886674324185908,
          0.25124910442559195,
          -0.8477478441497615,
          -2.1937983036540927,
          -2.216289139861135,
          -1.7572293509792742,
          -2.7608991316745453,
          -2.297346679712818,
          -2.7689195660475754
         ]
        }
       ],
       "layout": {
        "autosize": false,
        "height": 700,
        "template": {
         "data": {
          "bar": [
           {
            "error_x": {
             "color": "#2a3f5f"
            },
            "error_y": {
             "color": "#2a3f5f"
            },
            "marker": {
             "line": {
              "color": "#E5ECF6",
              "width": 0.5
             }
            },
            "type": "bar"
           }
          ],
          "barpolar": [
           {
            "marker": {
             "line": {
              "color": "#E5ECF6",
              "width": 0.5
             }
            },
            "type": "barpolar"
           }
          ],
          "carpet": [
           {
            "aaxis": {
             "endlinecolor": "#2a3f5f",
             "gridcolor": "white",
             "linecolor": "white",
             "minorgridcolor": "white",
             "startlinecolor": "#2a3f5f"
            },
            "baxis": {
             "endlinecolor": "#2a3f5f",
             "gridcolor": "white",
             "linecolor": "white",
             "minorgridcolor": "white",
             "startlinecolor": "#2a3f5f"
            },
            "type": "carpet"
           }
          ],
          "choropleth": [
           {
            "colorbar": {
             "outlinewidth": 0,
             "ticks": ""
            },
            "type": "choropleth"
           }
          ],
          "contour": [
           {
            "colorbar": {
             "outlinewidth": 0,
             "ticks": ""
            },
            "colorscale": [
             [
              0,
              "#0d0887"
             ],
             [
              0.1111111111111111,
              "#46039f"
             ],
             [
              0.2222222222222222,
              "#7201a8"
             ],
             [
              0.3333333333333333,
              "#9c179e"
             ],
             [
              0.4444444444444444,
              "#bd3786"
             ],
             [
              0.5555555555555556,
              "#d8576b"
             ],
             [
              0.6666666666666666,
              "#ed7953"
             ],
             [
              0.7777777777777778,
              "#fb9f3a"
             ],
             [
              0.8888888888888888,
              "#fdca26"
             ],
             [
              1,
              "#f0f921"
             ]
            ],
            "type": "contour"
           }
          ],
          "contourcarpet": [
           {
            "colorbar": {
             "outlinewidth": 0,
             "ticks": ""
            },
            "type": "contourcarpet"
           }
          ],
          "heatmap": [
           {
            "colorbar": {
             "outlinewidth": 0,
             "ticks": ""
            },
            "colorscale": [
             [
              0,
              "#0d0887"
             ],
             [
              0.1111111111111111,
              "#46039f"
             ],
             [
              0.2222222222222222,
              "#7201a8"
             ],
             [
              0.3333333333333333,
              "#9c179e"
             ],
             [
              0.4444444444444444,
              "#bd3786"
             ],
             [
              0.5555555555555556,
              "#d8576b"
             ],
             [
              0.6666666666666666,
              "#ed7953"
             ],
             [
              0.7777777777777778,
              "#fb9f3a"
             ],
             [
              0.8888888888888888,
              "#fdca26"
             ],
             [
              1,
              "#f0f921"
             ]
            ],
            "type": "heatmap"
           }
          ],
          "heatmapgl": [
           {
            "colorbar": {
             "outlinewidth": 0,
             "ticks": ""
            },
            "colorscale": [
             [
              0,
              "#0d0887"
             ],
             [
              0.1111111111111111,
              "#46039f"
             ],
             [
              0.2222222222222222,
              "#7201a8"
             ],
             [
              0.3333333333333333,
              "#9c179e"
             ],
             [
              0.4444444444444444,
              "#bd3786"
             ],
             [
              0.5555555555555556,
              "#d8576b"
             ],
             [
              0.6666666666666666,
              "#ed7953"
             ],
             [
              0.7777777777777778,
              "#fb9f3a"
             ],
             [
              0.8888888888888888,
              "#fdca26"
             ],
             [
              1,
              "#f0f921"
             ]
            ],
            "type": "heatmapgl"
           }
          ],
          "histogram": [
           {
            "marker": {
             "colorbar": {
              "outlinewidth": 0,
              "ticks": ""
             }
            },
            "type": "histogram"
           }
          ],
          "histogram2d": [
           {
            "colorbar": {
             "outlinewidth": 0,
             "ticks": ""
            },
            "colorscale": [
             [
              0,
              "#0d0887"
             ],
             [
              0.1111111111111111,
              "#46039f"
             ],
             [
              0.2222222222222222,
              "#7201a8"
             ],
             [
              0.3333333333333333,
              "#9c179e"
             ],
             [
              0.4444444444444444,
              "#bd3786"
             ],
             [
              0.5555555555555556,
              "#d8576b"
             ],
             [
              0.6666666666666666,
              "#ed7953"
             ],
             [
              0.7777777777777778,
              "#fb9f3a"
             ],
             [
              0.8888888888888888,
              "#fdca26"
             ],
             [
              1,
              "#f0f921"
             ]
            ],
            "type": "histogram2d"
           }
          ],
          "histogram2dcontour": [
           {
            "colorbar": {
             "outlinewidth": 0,
             "ticks": ""
            },
            "colorscale": [
             [
              0,
              "#0d0887"
             ],
             [
              0.1111111111111111,
              "#46039f"
             ],
             [
              0.2222222222222222,
              "#7201a8"
             ],
             [
              0.3333333333333333,
              "#9c179e"
             ],
             [
              0.4444444444444444,
              "#bd3786"
             ],
             [
              0.5555555555555556,
              "#d8576b"
             ],
             [
              0.6666666666666666,
              "#ed7953"
             ],
             [
              0.7777777777777778,
              "#fb9f3a"
             ],
             [
              0.8888888888888888,
              "#fdca26"
             ],
             [
              1,
              "#f0f921"
             ]
            ],
            "type": "histogram2dcontour"
           }
          ],
          "mesh3d": [
           {
            "colorbar": {
             "outlinewidth": 0,
             "ticks": ""
            },
            "type": "mesh3d"
           }
          ],
          "parcoords": [
           {
            "line": {
             "colorbar": {
              "outlinewidth": 0,
              "ticks": ""
             }
            },
            "type": "parcoords"
           }
          ],
          "scatter": [
           {
            "marker": {
             "colorbar": {
              "outlinewidth": 0,
              "ticks": ""
             }
            },
            "type": "scatter"
           }
          ],
          "scatter3d": [
           {
            "line": {
             "colorbar": {
              "outlinewidth": 0,
              "ticks": ""
             }
            },
            "marker": {
             "colorbar": {
              "outlinewidth": 0,
              "ticks": ""
             }
            },
            "type": "scatter3d"
           }
          ],
          "scattercarpet": [
           {
            "marker": {
             "colorbar": {
              "outlinewidth": 0,
              "ticks": ""
             }
            },
            "type": "scattercarpet"
           }
          ],
          "scattergeo": [
           {
            "marker": {
             "colorbar": {
              "outlinewidth": 0,
              "ticks": ""
             }
            },
            "type": "scattergeo"
           }
          ],
          "scattergl": [
           {
            "marker": {
             "colorbar": {
              "outlinewidth": 0,
              "ticks": ""
             }
            },
            "type": "scattergl"
           }
          ],
          "scattermapbox": [
           {
            "marker": {
             "colorbar": {
              "outlinewidth": 0,
              "ticks": ""
             }
            },
            "type": "scattermapbox"
           }
          ],
          "scatterpolar": [
           {
            "marker": {
             "colorbar": {
              "outlinewidth": 0,
              "ticks": ""
             }
            },
            "type": "scatterpolar"
           }
          ],
          "scatterpolargl": [
           {
            "marker": {
             "colorbar": {
              "outlinewidth": 0,
              "ticks": ""
             }
            },
            "type": "scatterpolargl"
           }
          ],
          "scatterternary": [
           {
            "marker": {
             "colorbar": {
              "outlinewidth": 0,
              "ticks": ""
             }
            },
            "type": "scatterternary"
           }
          ],
          "surface": [
           {
            "colorbar": {
             "outlinewidth": 0,
             "ticks": ""
            },
            "colorscale": [
             [
              0,
              "#0d0887"
             ],
             [
              0.1111111111111111,
              "#46039f"
             ],
             [
              0.2222222222222222,
              "#7201a8"
             ],
             [
              0.3333333333333333,
              "#9c179e"
             ],
             [
              0.4444444444444444,
              "#bd3786"
             ],
             [
              0.5555555555555556,
              "#d8576b"
             ],
             [
              0.6666666666666666,
              "#ed7953"
             ],
             [
              0.7777777777777778,
              "#fb9f3a"
             ],
             [
              0.8888888888888888,
              "#fdca26"
             ],
             [
              1,
              "#f0f921"
             ]
            ],
            "type": "surface"
           }
          ],
          "table": [
           {
            "cells": {
             "fill": {
              "color": "#EBF0F8"
             },
             "line": {
              "color": "white"
             }
            },
            "header": {
             "fill": {
              "color": "#C8D4E3"
             },
             "line": {
              "color": "white"
             }
            },
            "type": "table"
           }
          ]
         },
         "layout": {
          "annotationdefaults": {
           "arrowcolor": "#2a3f5f",
           "arrowhead": 0,
           "arrowwidth": 1
          },
          "colorscale": {
           "diverging": [
            [
             0,
             "#8e0152"
            ],
            [
             0.1,
             "#c51b7d"
            ],
            [
             0.2,
             "#de77ae"
            ],
            [
             0.3,
             "#f1b6da"
            ],
            [
             0.4,
             "#fde0ef"
            ],
            [
             0.5,
             "#f7f7f7"
            ],
            [
             0.6,
             "#e6f5d0"
            ],
            [
             0.7,
             "#b8e186"
            ],
            [
             0.8,
             "#7fbc41"
            ],
            [
             0.9,
             "#4d9221"
            ],
            [
             1,
             "#276419"
            ]
           ],
           "sequential": [
            [
             0,
             "#0d0887"
            ],
            [
             0.1111111111111111,
             "#46039f"
            ],
            [
             0.2222222222222222,
             "#7201a8"
            ],
            [
             0.3333333333333333,
             "#9c179e"
            ],
            [
             0.4444444444444444,
             "#bd3786"
            ],
            [
             0.5555555555555556,
             "#d8576b"
            ],
            [
             0.6666666666666666,
             "#ed7953"
            ],
            [
             0.7777777777777778,
             "#fb9f3a"
            ],
            [
             0.8888888888888888,
             "#fdca26"
            ],
            [
             1,
             "#f0f921"
            ]
           ],
           "sequentialminus": [
            [
             0,
             "#0d0887"
            ],
            [
             0.1111111111111111,
             "#46039f"
            ],
            [
             0.2222222222222222,
             "#7201a8"
            ],
            [
             0.3333333333333333,
             "#9c179e"
            ],
            [
             0.4444444444444444,
             "#bd3786"
            ],
            [
             0.5555555555555556,
             "#d8576b"
            ],
            [
             0.6666666666666666,
             "#ed7953"
            ],
            [
             0.7777777777777778,
             "#fb9f3a"
            ],
            [
             0.8888888888888888,
             "#fdca26"
            ],
            [
             1,
             "#f0f921"
            ]
           ]
          },
          "colorway": [
           "#636efa",
           "#EF553B",
           "#00cc96",
           "#ab63fa",
           "#FFA15A",
           "#19d3f3",
           "#FF6692",
           "#B6E880",
           "#FF97FF",
           "#FECB52"
          ],
          "font": {
           "color": "#2a3f5f"
          },
          "geo": {
           "bgcolor": "white",
           "lakecolor": "white",
           "landcolor": "#E5ECF6",
           "showlakes": true,
           "showland": true,
           "subunitcolor": "white"
          },
          "hoverlabel": {
           "align": "left"
          },
          "hovermode": "closest",
          "mapbox": {
           "style": "light"
          },
          "paper_bgcolor": "white",
          "plot_bgcolor": "#E5ECF6",
          "polar": {
           "angularaxis": {
            "gridcolor": "white",
            "linecolor": "white",
            "ticks": ""
           },
           "bgcolor": "#E5ECF6",
           "radialaxis": {
            "gridcolor": "white",
            "linecolor": "white",
            "ticks": ""
           }
          },
          "scene": {
           "xaxis": {
            "backgroundcolor": "#E5ECF6",
            "gridcolor": "white",
            "gridwidth": 2,
            "linecolor": "white",
            "showbackground": true,
            "ticks": "",
            "zerolinecolor": "white"
           },
           "yaxis": {
            "backgroundcolor": "#E5ECF6",
            "gridcolor": "white",
            "gridwidth": 2,
            "linecolor": "white",
            "showbackground": true,
            "ticks": "",
            "zerolinecolor": "white"
           },
           "zaxis": {
            "backgroundcolor": "#E5ECF6",
            "gridcolor": "white",
            "gridwidth": 2,
            "linecolor": "white",
            "showbackground": true,
            "ticks": "",
            "zerolinecolor": "white"
           }
          },
          "shapedefaults": {
           "line": {
            "color": "#2a3f5f"
           }
          },
          "ternary": {
           "aaxis": {
            "gridcolor": "white",
            "linecolor": "white",
            "ticks": ""
           },
           "baxis": {
            "gridcolor": "white",
            "linecolor": "white",
            "ticks": ""
           },
           "bgcolor": "#E5ECF6",
           "caxis": {
            "gridcolor": "white",
            "linecolor": "white",
            "ticks": ""
           }
          },
          "title": {
           "x": 0.05
          },
          "xaxis": {
           "automargin": true,
           "gridcolor": "white",
           "linecolor": "white",
           "ticks": "",
           "zerolinecolor": "white",
           "zerolinewidth": 2
          },
          "yaxis": {
           "automargin": true,
           "gridcolor": "white",
           "linecolor": "white",
           "ticks": "",
           "zerolinecolor": "white",
           "zerolinewidth": 2
          }
         }
        },
        "title": {
         "font": {
          "size": 25
         },
         "text": "KMeans Cluster"
        },
        "width": 700,
        "xaxis": {
         "autorange": true,
         "range": [
          -4.895018206462451,
          4.927163334476926
         ],
         "title": {
          "text": "component_1 (36.2% variance explained)"
         },
         "type": "linear",
         "zeroline": false
        },
        "yaxis": {
         "autorange": true,
         "range": [
          -4.03809006806489,
          4.394784225252396
         ],
         "title": {
          "text": "component_2 (19.21% variance explained)"
         },
         "type": "linear",
         "zeroline": false
        }
       }
      },
      "image/png": "[encoded data removed]",
      "text/html": [
       "<div>\n",
       "        \n",
       "        \n",
       "            <div id=\"4e64ad42-387f-417b-a5ac-a4c6f3976118\" class=\"plotly-graph-div\" style=\"height:700px; width:700px;\"></div>\n",
       "            <script type=\"text/javascript\">\n",
       "                require([\"plotly\"], function(Plotly) {\n",
       "                    window.PLOTLYENV=window.PLOTLYENV || {};\n",
       "                    \n",
       "                if (document.getElementById(\"4e64ad42-387f-417b-a5ac-a4c6f3976118\")) {\n",
       "                    Plotly.newPlot(\n",
       "                        '4e64ad42-387f-417b-a5ac-a4c6f3976118',\n",
       "                        [{\"marker\": {\"colorscale\": [[0.0, \"rgb(161, 105, 40)\"], [0.16666666666666666, \"rgb(189, 146, 90)\"], [0.3333333333333333, \"rgb(214, 189, 141)\"], [0.5, \"rgb(237, 234, 194)\"], [0.6666666666666666, \"rgb(181, 200, 184)\"], [0.8333333333333334, \"rgb(121, 167, 172)\"], [1.0, \"rgb(40, 135, 161)\"]], \"line\": {\"width\": 1}, \"size\": 10}, \"mode\": \"markers\", \"name\": \"Cluster 2\", \"type\": \"scatter\", \"x\": [3.316750812214776, 2.209464916918848, 2.5167401466103794, 3.7570656097732025, 1.008908493795713, 3.0502539224180767, 2.4490896695962303, 2.0594368714379123, 2.510874297398989, 2.7536281876339075, 3.4797366827312093, 1.7547529012945884, 2.1134623403150945, 3.4581568193367214, 4.312783906765558, 2.305188200827969, 2.17195527374151, 1.898971176562759, 3.541985081943465, 2.084522204730311, 3.1244025351671993, 1.086570068332239, 2.5352240799037142, 1.6449883412544688, 1.7615758722693005, 0.9900791016088537, 1.7752776281133669, 1.2354239643099048, 2.1884063344519604, 2.2561089812837074, 2.5002200257894223, 2.677411047444011, 1.6285791164309182, 1.9026908622381455, 1.4103885265954055, 1.9038262321944854, 1.384862230374838, 1.1222074104413093, 1.5021945006181914, 2.529801092371809, 2.5880954258544007, 0.6684819937541869, 3.070806990412006, 0.4622091375160074, 2.101351930538014, 1.1361661775610175, 2.7266009636408026, 2.821339274192247, 2.009850850912358, 2.707491304266391, 3.2149174747738205, 2.858959826717292, 3.5056043559232193, 2.224791380532171, 2.146987823563865, 2.469329483797785, 2.7415179142774506, 2.173740920965304, 3.139380151828992, 2.5622271731703568, 2.5438651841995488], \"y\": [-1.4434626343180104, 0.3333928870803012, -1.0311512962743201, -2.7563719137107134, -0.8698308214172069, -2.1224011146341915, -1.1748501316494742, -1.6089630683635083, -0.9180709573337763, -0.7894376738336062, -1.3023332371235952, -0.6119772287456308, -0.6757063391426186, -1.1306298761729372, -2.0959755753412623, -1.6625517299890575, -2.327305336191421, -1.631368878642839, -2.5183436693066463, -1.061137993583861, -0.7868971056508953, -0.24174355133284073, 0.09184062072088066, 0.5162789300672347, 0.3171489326843803, -0.9406673381906375, -0.6861751342850241, 0.0898070413606409, -0.6895696206616252, -0.1914619368866646, -1.2408338348969443, -1.4718736461032493, -0.05270445057532362, -1.6330604347699855, -0.6979343246113576, -0.17671095109545668, -0.65863985366115, -0.11410976029688852, 0.7694320064310096, -1.8030019760618292, -0.779616304192508, -0.16996094061987443, -1.1559189566098835, -0.33074213219227483, 0.07100892095406704, -1.7771073929776378, -1.1913346919571832, -0.6462585991417032, -1.247029460678761, -1.7519674072063378, -0.1669919949967895, -0.7452788039895889, -1.6127338560350115, -1.8751679995630257, -1.0167515377576601, -1.3290083106496233, -1.4365487835125148, -1.2121998406977952, -1.7315791159925131, -0.26019855065459924, -0.1692740227997427]}, {\"marker\": {\"colorscale\": [[0.0, \"rgb(161, 105, 40)\"], [0.16666666666666666, \"rgb(189, 146, 90)\"], [0.3333333333333333, \"rgb(214, 189, 141)\"], [0.5, \"rgb(237, 234, 194)\"], [0.6666666666666666, \"rgb(181, 200, 184)\"], [0.8333333333333334, \"rgb(121, 167, 172)\"], [1.0, \"rgb(40, 135, 161)\"]], \"line\": {\"width\": 1}, \"size\": 10}, \"mode\": \"markers\", \"name\": \"Cluster 1\", \"type\": \"scatter\", \"x\": [-0.9285819689218516, -1.542480137896879, 0.030606834086683007, 2.050261607576316, -0.6096808271776207, 0.9002278387071426, 2.248507190798395, 0.18338402668475726, -0.8128050273520699, 1.9756204987985526, -1.5722162196262999, 1.6576818088332907, -0.7253723880353532, 1.832567570049545, -0.8679929031954109, 0.37001440429478516, -1.4573770449061378, 1.2629308497284955, 0.3761503719342408, 0.7620639041096005, 1.0345779671651876, -0.494876755680326, 0.8353201453942963, 0.7879046149897106, -0.8068321559655369, -0.5580426248756822, -1.1151110419194465, -0.5557228299516997, -1.3492852824437287, -1.5644826057199046, -1.9325556106314612, 0.746665941988451, 0.9574553638036397, -0.5439525887762305, 1.0310497503881495, 2.251909422148122, 1.4102160153374603, 0.7977197926930418, -0.5495317266494619, -0.16117373994854525, -0.6597949416843591, 0.3923544081850838, -1.7724990779600323, -0.3662673573520631, -1.6206725727874767, 0.08253578349332848, 1.5782750709323794, 1.4205692478240137, -0.278702753648853, -1.3031449662482808, -0.4570718656526248, -0.49418584704437424, 0.48207440977309346, -0.2528888776531987, -0.10722763772912264, -0.5510895391746493, 0.7396219285682196, 1.3363217334183255, -1.177086996247772, -0.4623350080196777, 0.9784740793566471, -0.09680972631598514, 0.0384871459490252, -1.597158501207472, -0.47956491608312435, -1.792833473031143], \"y\": [3.0734861631889325, 1.3814435080942291, 1.262786144211404, 1.9250326046501012, 1.9080588050851868, 0.7639114736096088, 1.8845924845501347, 2.4271461147035724, 0.22051398690226987, 1.4032832253096144, 0.8849831369082221, 0.9567121974591483, 1.063645400706095, 1.2878781978605247, 2.444101185580865, 2.15390697515699, 1.3833517690762596, 0.770849529970117, 1.0270434033558216, 3.375053809963535, 1.4507097382440923, 2.381243526767369, 1.4736705514008661, 2.026626522462477, 2.233830390843911, 2.3729854288494536, 1.8022471916654537, 2.6575400353922927, 2.1180014697848186, 1.85221452176555, 1.5594954568986226, 2.3129317092207407, 2.2235284346674593, 0.36892654587731466, 2.5655693487335243, 1.4327413803542557, 2.166191769370384, 2.3769488030818624, 2.293128643245628, 1.1644833215600154, 2.679961185989636, 2.0987317087655377, 1.7172884693761419, 2.1693532978292835, 1.3555833880259576, 2.306234587748325, 1.4620342902048145, 1.4182066376337499, 1.930568088670468, 0.76317231365779, 2.2694156075896745, 1.9390450494868308, 3.8717838484072375, 2.821492374701593, 1.9289220425669578, 2.2221615507766224, 1.4089566673657112, -0.25333693116830996, 0.6639668398015696, 0.6182881794850426, 1.4455704988958267, 2.1099979931352255, 1.2667621091578847, 1.2081435741284834, 1.9388406603940471, 1.1502881044421052]}, {\"marker\": {\"colorscale\": [[0.0, \"rgb(161, 105, 40)\"], [0.16666666666666666, \"rgb(189, 146, 90)\"], [0.3333333333333333, \"rgb(214, 189, 141)\"], [0.5, \"rgb(237, 234, 194)\"], [0.6666666666666666, \"rgb(181, 200, 184)\"], [0.8333333333333334, \"rgb(121, 167, 172)\"], [1.0, \"rgb(40, 135, 161)\"]], \"line\": {\"width\": 1}, \"size\": 10}, \"mode\": \"markers\", \"name\": \"Cluster 0\", \"type\": \"scatter\", \"x\": [-1.836249763466938, -2.538977084295118, -2.4330126025502143, -1.3271016561416014, -2.3845008347435286, -2.936940102146611, -2.146811133816063, -2.369869488333041, -3.0638415687203535, -3.9157537837118883, -3.936463390715962, -3.094276117762272, -2.3744716280069214, -2.7788129476325123, -2.286561284738468, -2.985633487449463, -2.3751946982271064, -2.209865525595873, -2.6256210046927193, -4.280638778751082, -3.582641372001103, -2.807063720081658, -2.8996593330239118, -2.3207369765492043, -2.5498309472261376, -1.8125412848422993, -2.76014464192395, -2.7371505006679904, -3.6048688681834236, -2.889825996873506, -3.3921560768357226, -1.0481818968536791, -1.609912282847937, -3.1431309667439744, -2.240156896269541, -2.847673776119519, -2.597497056648763, -2.949299373134843, -3.5300322663493082, -2.4061105404785526, -2.929084726967455, -2.1814127788126205, -2.38092778713564, -3.2116172150412465, -3.6779187209738144, -2.465555798040448, -3.370524145442859, -2.601955851224737, -2.6778394608645035, -2.3870170912797204, -3.208758164198021], \"y\": [0.8299841230557193, 0.08744335730498277, 1.2571410404943952, -0.17038923204902817, -0.3745826055246932, -0.2638618300683803, -0.36825495188646096, 0.45963480923116734, -0.3534128354584017, -0.15458251944173187, -0.6596872334097821, -0.3488427592737944, -0.29198035155999463, -0.28680487288217477, -0.37250784468529796, -0.4892179083470127, -0.4823337172448764, -1.1600525041576426, -0.5631607642108337, -0.6496709640237048, -1.2727027497273002, -1.5705337870411966, -2.0410570079384636, -2.356366075556675, -2.045283091019523, -1.5276459462687528, -2.13893234764261, -0.4098862708817896, -1.8023842175839655, -1.9252186131303413, -1.3118763884735967, -3.5150896912197314, -2.406638159574328, -0.7381610441757966, -1.1754652881188639, -0.5560439658826741, -0.6979655372009188, -1.5553089642839821, -0.8825267962042348, -2.592356175042398, -1.2744469479044807, -2.077537312734516, -2.5886674324185908, 0.25124910442559195, -0.8477478441497615, -2.1937983036540927, -2.216289139861135, -1.7572293509792742, -2.7608991316745453, -2.297346679712818, -2.7689195660475754]}],\n",
       "                        {\"autosize\": false, \"height\": 700, \"template\": {\"data\": {\"bar\": [{\"error_x\": {\"color\": \"#2a3f5f\"}, \"error_y\": {\"color\": \"#2a3f5f\"}, \"marker\": {\"line\": {\"color\": \"#E5ECF6\", \"width\": 0.5}}, \"type\": \"bar\"}], \"barpolar\": [{\"marker\": {\"line\": {\"color\": \"#E5ECF6\", \"width\": 0.5}}, \"type\": \"barpolar\"}], \"carpet\": [{\"aaxis\": {\"endlinecolor\": \"#2a3f5f\", \"gridcolor\": \"white\", \"linecolor\": \"white\", \"minorgridcolor\": \"white\", \"startlinecolor\": \"#2a3f5f\"}, \"baxis\": {\"endlinecolor\": \"#2a3f5f\", \"gridcolor\": \"white\", \"linecolor\": \"white\", \"minorgridcolor\": \"white\", \"startlinecolor\": \"#2a3f5f\"}, \"type\": \"carpet\"}], \"choropleth\": [{\"colorbar\": {\"outlinewidth\": 0, \"ticks\": \"\"}, \"type\": \"choropleth\"}], \"contour\": [{\"colorbar\": {\"outlinewidth\": 0, \"ticks\": \"\"}, \"colorscale\": [[0.0, \"#0d0887\"], [0.1111111111111111, \"#46039f\"], [0.2222222222222222, \"#7201a8\"], [0.3333333333333333, \"#9c179e\"], [0.4444444444444444, \"#bd3786\"], [0.5555555555555556, \"#d8576b\"], [0.6666666666666666, \"#ed7953\"], [0.7777777777777778, \"#fb9f3a\"], [0.8888888888888888, \"#fdca26\"], [1.0, \"#f0f921\"]], \"type\": \"contour\"}], \"contourcarpet\": [{\"colorbar\": {\"outlinewidth\": 0, \"ticks\": \"\"}, \"type\": \"contourcarpet\"}], \"heatmap\": [{\"colorbar\": {\"outlinewidth\": 0, \"ticks\": \"\"}, \"colorscale\": [[0.0, \"#0d0887\"], [0.1111111111111111, \"#46039f\"], [0.2222222222222222, \"#7201a8\"], [0.3333333333333333, \"#9c179e\"], [0.4444444444444444, \"#bd3786\"], [0.5555555555555556, \"#d8576b\"], [0.6666666666666666, \"#ed7953\"], [0.7777777777777778, \"#fb9f3a\"], [0.8888888888888888, \"#fdca26\"], [1.0, \"#f0f921\"]], \"type\": \"heatmap\"}], \"heatmapgl\": [{\"colorbar\": {\"outlinewidth\": 0, \"ticks\": \"\"}, \"colorscale\": [[0.0, \"#0d0887\"], [0.1111111111111111, \"#46039f\"], [0.2222222222222222, \"#7201a8\"], [0.3333333333333333, \"#9c179e\"], [0.4444444444444444, \"#bd3786\"], [0.5555555555555556, \"#d8576b\"], [0.6666666666666666, \"#ed7953\"], [0.7777777777777778, \"#fb9f3a\"], [0.8888888888888888, \"#fdca26\"], [1.0, \"#f0f921\"]], \"type\": \"heatmapgl\"}], \"histogram\": [{\"marker\": {\"colorbar\": {\"outlinewidth\": 0, \"ticks\": \"\"}}, \"type\": \"histogram\"}], \"histogram2d\": [{\"colorbar\": {\"outlinewidth\": 0, \"ticks\": \"\"}, \"colorscale\": [[0.0, \"#0d0887\"], [0.1111111111111111, \"#46039f\"], [0.2222222222222222, \"#7201a8\"], [0.3333333333333333, \"#9c179e\"], [0.4444444444444444, \"#bd3786\"], [0.5555555555555556, \"#d8576b\"], [0.6666666666666666, \"#ed7953\"], [0.7777777777777778, \"#fb9f3a\"], [0.8888888888888888, \"#fdca26\"], [1.0, \"#f0f921\"]], \"type\": \"histogram2d\"}], \"histogram2dcontour\": [{\"colorbar\": {\"outlinewidth\": 0, \"ticks\": \"\"}, \"colorscale\": [[0.0, \"#0d0887\"], [0.1111111111111111, \"#46039f\"], [0.2222222222222222, \"#7201a8\"], [0.3333333333333333, \"#9c179e\"], [0.4444444444444444, \"#bd3786\"], [0.5555555555555556, \"#d8576b\"], [0.6666666666666666, \"#ed7953\"], [0.7777777777777778, \"#fb9f3a\"], [0.8888888888888888, \"#fdca26\"], [1.0, \"#f0f921\"]], \"type\": \"histogram2dcontour\"}], \"mesh3d\": [{\"colorbar\": {\"outlinewidth\": 0, \"ticks\": \"\"}, \"type\": \"mesh3d\"}], \"parcoords\": [{\"line\": {\"colorbar\": {\"outlinewidth\": 0, \"ticks\": \"\"}}, \"type\": \"parcoords\"}], \"scatter\": [{\"marker\": {\"colorbar\": {\"outlinewidth\": 0, \"ticks\": \"\"}}, \"type\": \"scatter\"}], \"scatter3d\": [{\"line\": {\"colorbar\": {\"outlinewidth\": 0, \"ticks\": \"\"}}, \"marker\": {\"colorbar\": {\"outlinewidth\": 0, \"ticks\": \"\"}}, \"type\": \"scatter3d\"}], \"scattercarpet\": [{\"marker\": {\"colorbar\": {\"outlinewidth\": 0, \"ticks\": \"\"}}, \"type\": \"scattercarpet\"}], \"scattergeo\": [{\"marker\": {\"colorbar\": {\"outlinewidth\": 0, \"ticks\": \"\"}}, \"type\": \"scattergeo\"}], \"scattergl\": [{\"marker\": {\"colorbar\": {\"outlinewidth\": 0, \"ticks\": \"\"}}, \"type\": \"scattergl\"}], \"scattermapbox\": [{\"marker\": {\"colorbar\": {\"outlinewidth\": 0, \"ticks\": \"\"}}, \"type\": \"scattermapbox\"}], \"scatterpolar\": [{\"marker\": {\"colorbar\": {\"outlinewidth\": 0, \"ticks\": \"\"}}, \"type\": \"scatterpolar\"}], \"scatterpolargl\": [{\"marker\": {\"colorbar\": {\"outlinewidth\": 0, \"ticks\": \"\"}}, \"type\": \"scatterpolargl\"}], \"scatterternary\": [{\"marker\": {\"colorbar\": {\"outlinewidth\": 0, \"ticks\": \"\"}}, \"type\": \"scatterternary\"}], \"surface\": [{\"colorbar\": {\"outlinewidth\": 0, \"ticks\": \"\"}, \"colorscale\": [[0.0, \"#0d0887\"], [0.1111111111111111, \"#46039f\"], [0.2222222222222222, \"#7201a8\"], [0.3333333333333333, \"#9c179e\"], [0.4444444444444444, \"#bd3786\"], [0.5555555555555556, \"#d8576b\"], [0.6666666666666666, \"#ed7953\"], [0.7777777777777778, \"#fb9f3a\"], [0.8888888888888888, \"#fdca26\"], [1.0, \"#f0f921\"]], \"type\": \"surface\"}], \"table\": [{\"cells\": {\"fill\": {\"color\": \"#EBF0F8\"}, \"line\": {\"color\": \"white\"}}, \"header\": {\"fill\": {\"color\": \"#C8D4E3\"}, \"line\": {\"color\": \"white\"}}, \"type\": \"table\"}]}, \"layout\": {\"annotationdefaults\": {\"arrowcolor\": \"#2a3f5f\", \"arrowhead\": 0, \"arrowwidth\": 1}, \"colorscale\": {\"diverging\": [[0, \"#8e0152\"], [0.1, \"#c51b7d\"], [0.2, \"#de77ae\"], [0.3, \"#f1b6da\"], [0.4, \"#fde0ef\"], [0.5, \"#f7f7f7\"], [0.6, \"#e6f5d0\"], [0.7, \"#b8e186\"], [0.8, \"#7fbc41\"], [0.9, \"#4d9221\"], [1, \"#276419\"]], \"sequential\": [[0.0, \"#0d0887\"], [0.1111111111111111, \"#46039f\"], [0.2222222222222222, \"#7201a8\"], [0.3333333333333333, \"#9c179e\"], [0.4444444444444444, \"#bd3786\"], [0.5555555555555556, \"#d8576b\"], [0.6666666666666666, \"#ed7953\"], [0.7777777777777778, \"#fb9f3a\"], [0.8888888888888888, \"#fdca26\"], [1.0, \"#f0f921\"]], \"sequentialminus\": [[0.0, \"#0d0887\"], [0.1111111111111111, \"#46039f\"], [0.2222222222222222, \"#7201a8\"], [0.3333333333333333, \"#9c179e\"], [0.4444444444444444, \"#bd3786\"], [0.5555555555555556, \"#d8576b\"], [0.6666666666666666, \"#ed7953\"], [0.7777777777777778, \"#fb9f3a\"], [0.8888888888888888, \"#fdca26\"], [1.0, \"#f0f921\"]]}, \"colorway\": [\"#636efa\", \"#EF553B\", \"#00cc96\", \"#ab63fa\", \"#FFA15A\", \"#19d3f3\", \"#FF6692\", \"#B6E880\", \"#FF97FF\", \"#FECB52\"], \"font\": {\"color\": \"#2a3f5f\"}, \"geo\": {\"bgcolor\": \"white\", \"lakecolor\": \"white\", \"landcolor\": \"#E5ECF6\", \"showlakes\": true, \"showland\": true, \"subunitcolor\": \"white\"}, \"hoverlabel\": {\"align\": \"left\"}, \"hovermode\": \"closest\", \"mapbox\": {\"style\": \"light\"}, \"paper_bgcolor\": \"white\", \"plot_bgcolor\": \"#E5ECF6\", \"polar\": {\"angularaxis\": {\"gridcolor\": \"white\", \"linecolor\": \"white\", \"ticks\": \"\"}, \"bgcolor\": \"#E5ECF6\", \"radialaxis\": {\"gridcolor\": \"white\", \"linecolor\": \"white\", \"ticks\": \"\"}}, \"scene\": {\"xaxis\": {\"backgroundcolor\": \"#E5ECF6\", \"gridcolor\": \"white\", \"gridwidth\": 2, \"linecolor\": \"white\", \"showbackground\": true, \"ticks\": \"\", \"zerolinecolor\": \"white\"}, \"yaxis\": {\"backgroundcolor\": \"#E5ECF6\", \"gridcolor\": \"white\", \"gridwidth\": 2, \"linecolor\": \"white\", \"showbackground\": true, \"ticks\": \"\", \"zerolinecolor\": \"white\"}, \"zaxis\": {\"backgroundcolor\": \"#E5ECF6\", \"gridcolor\": \"white\", \"gridwidth\": 2, \"linecolor\": \"white\", \"showbackground\": true, \"ticks\": \"\", \"zerolinecolor\": \"white\"}}, \"shapedefaults\": {\"line\": {\"color\": \"#2a3f5f\"}}, \"ternary\": {\"aaxis\": {\"gridcolor\": \"white\", \"linecolor\": \"white\", \"ticks\": \"\"}, \"baxis\": {\"gridcolor\": \"white\", \"linecolor\": \"white\", \"ticks\": \"\"}, \"bgcolor\": \"#E5ECF6\", \"caxis\": {\"gridcolor\": \"white\", \"linecolor\": \"white\", \"ticks\": \"\"}}, \"title\": {\"x\": 0.05}, \"xaxis\": {\"automargin\": true, \"gridcolor\": \"white\", \"linecolor\": \"white\", \"ticks\": \"\", \"zerolinecolor\": \"white\", \"zerolinewidth\": 2}, \"yaxis\": {\"automargin\": true, \"gridcolor\": \"white\", \"linecolor\": \"white\", \"ticks\": \"\", \"zerolinecolor\": \"white\", \"zerolinewidth\": 2}}}, \"title\": {\"font\": {\"size\": 25}, \"text\": \"KMeans Cluster\"}, \"width\": 700, \"xaxis\": {\"title\": {\"text\": \"component_1 (36.2% variance explained)\"}, \"zeroline\": false}, \"yaxis\": {\"title\": {\"text\": \"component_2 (19.21% variance explained)\"}, \"zeroline\": false}},\n",
       "                        {\"responsive\": true}\n",
       "                    ).then(function(){\n",
       "                            \n",
       "var gd = document.getElementById('4e64ad42-387f-417b-a5ac-a4c6f3976118');\n",
       "var x = new MutationObserver(function (mutations, observer) {{\n",
       "        var display = window.getComputedStyle(gd).display;\n",
       "        if (!display || display === 'none') {{\n",
       "            console.log([gd, 'removed!']);\n",
       "            Plotly.purge(gd);\n",
       "            observer.disconnect();\n",
       "        }}\n",
       "}});\n",
       "\n",
       "// Listen for the removal of the full notebook cells\n",
       "var notebookContainer = gd.closest('#notebook-container');\n",
       "if (notebookContainer) {{\n",
       "    x.observe(notebookContainer, {childList: true});\n",
       "}}\n",
       "\n",
       "// Listen for the clearing of the current output cell\n",
       "var outputEl = gd.closest('.output');\n",
       "if (outputEl) {{\n",
       "    x.observe(outputEl, {childList: true});\n",
       "}}\n",
       "\n",
       "                        })\n",
       "                };\n",
       "                });\n",
       "            </script>\n",
       "        </div>"
      ]
     },
     "metadata": {},
     "output_type": "display_data"
    }
   ],
   "source": [
    "cluster(df, target='Target')"
   ]
  },
  {
   "cell_type": "markdown",
   "metadata": {},
   "source": [
    "## Return Elbow Plot for K-Means"
   ]
  },
  {
   "cell_type": "code",
   "execution_count": 4,
   "metadata": {},
   "outputs": [
    {
     "data": {
      "image/png": "[encoded data removed]",
      "text/plain": [
       "<Figure size 792x648 with 1 Axes>"
      ]
     },
     "metadata": {
      "needs_background": "light"
     },
     "output_type": "display_data"
    },
    {
     "data": {
      "text/html": [
       "        <script type=\"text/javascript\">\n",
       "        window.PlotlyConfig = {MathJaxConfig: 'local'};\n",
       "        if (window.MathJax) {MathJax.Hub.Config({SVG: {font: \"STIX-Web\"}});}\n",
       "        if (typeof require !== 'undefined') {\n",
       "        require.undef(\"plotly\");\n",
       "        requirejs.config({\n",
       "            paths: {\n",
       "                'plotly': ['https://cdn.plot.ly/plotly-latest.min']\n",
       "            }\n",
       "        });\n",
       "        require(['plotly'], function(Plotly) {\n",
       "            window._Plotly = Plotly;\n",
       "        });\n",
       "        }\n",
       "        </script>\n",
       "        "
      ]
     },
     "metadata": {},
     "output_type": "display_data"
    },
    {
     "data": {
      "application/vnd.plotly.v1+json": {
       "config": {
        "linkText": "Export to plot.ly",
        "plotlyServerURL": "https://plot.ly",
        "showLink": false
       },
       "data": [
        {
         "marker": {
          "colorscale": [
           [
            0,
            "rgb(161, 105, 40)"
           ],
           [
            0.16666666666666666,
            "rgb(189, 146, 90)"
           ],
           [
            0.3333333333333333,
            "rgb(214, 189, 141)"
           ],
           [
            0.5,
            "rgb(237, 234, 194)"
           ],
           [
            0.6666666666666666,
            "rgb(181, 200, 184)"
           ],
           [
            0.8333333333333334,
            "rgb(121, 167, 172)"
           ],
           [
            1,
            "rgb(40, 135, 161)"
           ]
          ],
          "line": {
           "width": 1
          },
          "size": 10
         },
         "mode": "markers",
         "name": "Cluster 1",
         "type": "scatter",
         "x": [
          -3.522933903081799,
          -2.5288580618463676,
          -2.785028984152026,
          -3.9225884077761357,
          -1.4075111119787518,
          -3.2881298147971303,
          -2.750577541367634,
          -2.3928665198696404,
          -2.7952563305466724,
          -3.0055966640025824,
          -3.678688554546913,
          -2.10963476717679,
          -2.438456361644709,
          -3.673494531851869,
          -4.441575750799967,
          -2.6089238700112487,
          -2.4754284592737488,
          -2.2262324346386526,
          -3.742269291543672,
          -2.394411499831793,
          -3.3365689534243885,
          -1.4814039908115557,
          -2.8280686727862183,
          -2.0077140461407574,
          -2.114636036069498,
          -1.397537507042347,
          -2.1334880279339403,
          -1.6297038265623096,
          -2.507607527611562,
          -2.5594831788057886,
          -2.7724445249572107,
          -2.9351337410654272,
          -1.9912484163578494,
          -2.2457098662822714,
          -1.7869862772732896,
          -2.2276386659731733,
          -1.7680284715998271,
          -1.5231779814686115,
          -1.872364942222543,
          -2.7971143437092594,
          -2.840935693150025,
          -1.1055721019048326,
          -3.3068948240619678,
          -0.9047984234222434,
          -2.3968356897732583,
          -1.5378123476239947,
          -2.9912164379372066,
          -3.0593163136602577,
          -2.318771457130337,
          -2.9594722867527725,
          -3.4121813013449414,
          -3.1163782669834204,
          -3.700211134938519,
          -2.5375482759877697,
          -2.4447892385945242,
          -2.7228145085222053,
          -2.985316773607038,
          -2.488146899219528,
          -3.3512866509434027,
          -2.2994571572085873,
          -2.2606073235493964
         ],
         "y": [
          -1.4530984395358313,
          0.3300192515214172,
          -1.0369359525889614,
          -2.7682102618438513,
          -0.8677730872653789,
          -2.1301751291512474,
          -1.1791699854279976,
          -1.6112823206534348,
          -0.923179516915517,
          -0.7962841694225432,
          -1.3125234207675547,
          -0.6129819864028357,
          -0.6785233100295273,
          -1.1401213551662461,
          -2.110319170328112,
          -1.6664180107095554,
          -2.3308967167384727,
          -1.6335901618386255,
          -2.5284052661988223,
          -1.0645294568044428,
          -0.7960127940285896,
          -0.24008547418839174,
          0.08685755238892393,
          0.5156164866057928,
          0.3159205692449821,
          -0.9382152852892928,
          -0.6871020460371776,
          0.09118403034427189,
          -0.6927498334195374,
          -0.19547289969892145,
          -1.2463527918093678,
          -1.478278833733573,
          -0.05325201449517684,
          -1.6346691048708584,
          -0.6974803860124373,
          -0.17928891851084133,
          -0.6578723083726185,
          -0.11222505343923461,
          0.7693057594963643,
          -1.8088088734120098,
          -0.7861615668759242,
          -0.16588492491652107,
          -1.1639554686140792,
          -0.32607243245927875,
          0.06690594469848699,
          -1.775077650427629,
          -1.197622547408979,
          -0.6538219576136092,
          -1.250236680698259,
          -1.7586036491081598,
          -0.17691580638574386,
          -0.752108734024334,
          -1.6230918691251957,
          -1.8785279338760252,
          -1.0207151556133724,
          -1.3352436903312164,
          -1.4436375861800772,
          -1.2154925032589663,
          -1.740602830376459,
          -0.2743585068741994,
          -0.18428636996603537
         ]
        },
        {
         "marker": {
          "colorscale": [
           [
            0,
            "rgb(161, 105, 40)"
           ],
           [
            0.16666666666666666,
            "rgb(189, 146, 90)"
           ],
           [
            0.3333333333333333,
            "rgb(214, 189, 141)"
           ],
           [
            0.5,
            "rgb(237, 234, 194)"
           ],
           [
            0.6666666666666666,
            "rgb(181, 200, 184)"
           ],
           [
            0.8333333333333334,
            "rgb(121, 167, 172)"
           ],
           [
            1,
            "rgb(40, 135, 161)"
           ]
          ],
          "line": {
           "width": 1
          },
          "size": 10
         },
         "mode": "markers",
         "name": "Cluster 0",
         "type": "scatter",
         "x": [
          0.8749250405094329,
          1.4146607583905995,
          1.713879155572143,
          -0.012296860656527731,
          -1.833101223331489,
          0.5745359492118625,
          -0.7914711563862606,
          -2.0200314753595596,
          -0.14328097986623092,
          0.7515076649843823,
          -1.7403257308074211,
          1.4763004083985483,
          -1.4919777857723635,
          0.6939668586318597,
          -1.6341313770491812,
          0.8289993211530101,
          -0.3004317546738373,
          1.3611781956286613,
          -1.0960485224074596,
          -0.31921973891355415,
          -0.6712575723174746,
          -0.9241109081104658,
          0.467492043591586,
          -0.7182232497559667,
          -0.6982960422675997,
          0.7645743933746579,
          0.5282492286427201,
          1.0378550746488293,
          0.5214242504129987,
          1.2533585938573952,
          1.4607092605337524,
          1.7912462937913707,
          -0.653304281588105,
          -0.836145100430653,
          0.5554728283313044,
          -0.9149965048608719,
          -2.020983470996343,
          -1.2654267654096187,
          -0.7014322859995967,
          0.530869785363804,
          0.17615671827810653,
          0.6427419694693173,
          -0.33770614321128356,
          1.637211545576051,
          0.3587726420408903,
          1.513118742703069,
          -0.030096257014854206,
          -1.4094023621799234,
          -1.2182444358066,
          0.2883146193551384,
          1.1960976186198664,
          0.45161818890488603,
          0.47183885648253954,
          -0.42339908963770134,
          0.26437652725350275,
          0.13745846640962917,
          2.2504766336669078,
          0.5307449841402215,
          -0.6412873530902893,
          -1.184366906108585,
          1.1069419459472478,
          0.45864794388365027,
          -0.8461072232725755,
          0.11653671785625787,
          0.007086700003462101,
          1.4953086293777886,
          0.47860169415181397,
          1.664144618858878
         ],
         "y": [
          3.077723829224201,
          1.389954204190396,
          0.8388560750501495,
          1.2626958918547169,
          1.9133860842519297,
          1.911150968483691,
          0.7587255185080987,
          1.8721314194480623,
          2.4257569107612893,
          0.22520901675075117,
          1.3910081469602869,
          0.8922485862943265,
          0.9479270814536005,
          1.0668633193304047,
          1.2773898037548916,
          2.447705788988847,
          2.151064561246474,
          1.3903462660428068,
          0.7626428212465014,
          1.0247704280518082,
          3.3705249648867923,
          1.445106615399053,
          2.38376557318115,
          1.4681139435689523,
          2.022234166391512,
          2.2375041407905196,
          2.375697233503445,
          1.8078679876637689,
          2.6603838596853446,
          2.124756386790702,
          1.859699404636751,
          1.5691632317562545,
          2.308392965319508,
          2.217548879563101,
          0.370127326784992,
          2.5596393442213867,
          1.4202204126787707,
          2.1584825070923324,
          2.37221591540541,
          2.2953550504699622,
          1.164790027595615,
          2.6822895258703667,
          2.096396676639342,
          1.7263642466768507,
          2.170818617348031,
          1.3633562761628033,
          2.304507740267409,
          1.4531115823371166,
          1.4081928230478125,
          1.931226411450629,
          0.7704426230116235,
          2.271007055838517,
          1.9413811889855515,
          3.86899360737887,
          2.821916083203686,
          1.9284535272304588,
          1.2693252939053872,
          2.224416799064716,
          1.404312716870386,
          -0.2609573971328153,
          0.6694970022937149,
          0.6198884845142795,
          1.4391087987312334,
          2.109903553709018,
          1.2655111176102596,
          1.215679449517407,
          1.9402783474077896,
          1.159191468922369
         ]
        },
        {
         "marker": {
          "colorscale": [
           [
            0,
            "rgb(161, 105, 40)"
           ],
           [
            0.16666666666666666,
            "rgb(189, 146, 90)"
           ],
           [
            0.3333333333333333,
            "rgb(214, 189, 141)"
           ],
           [
            0.5,
            "rgb(237, 234, 194)"
           ],
           [
            0.6666666666666666,
            "rgb(181, 200, 184)"
           ],
           [
            0.8333333333333334,
            "rgb(121, 167, 172)"
           ],
           [
            1,
            "rgb(40, 135, 161)"
           ]
          ],
          "line": {
           "width": 1
          },
          "size": 10
         },
         "mode": "markers",
         "name": "Cluster 2",
         "type": "scatter",
         "x": [
          2.3524167496170074,
          1.7789455429241248,
          2.741918921568584,
          3.254296966691013,
          2.530366352884851,
          2.7130243739203346,
          3.3489885805820854,
          4.117166964930116,
          4.14412844273494,
          3.3659255049316106,
          2.7126767802176612,
          3.0716452299668484,
          2.626145460795557,
          3.2603967160285197,
          2.704046991504905,
          2.5908477457733885,
          2.9540110968353703,
          4.459950064090986,
          3.8292495694565183,
          3.133650013321478,
          3.234714102084362,
          2.712564719484427,
          2.930940444500839,
          2.250574247691139,
          3.0975203328081173,
          3.077055667943965,
          3.8561582374743386,
          3.2083884241573255,
          3.6584941723647373,
          1.5529818269996651,
          2.058283892280504,
          3.4385493392723627,
          2.5844881469164136,
          3.1444572161466993,
          2.9252939819963206,
          3.2618267746097214,
          3.777587166366859,
          2.774639251547308,
          3.2426161773412163,
          2.5637437530436005,
          2.748729476307859,
          3.4911961964238096,
          3.929134404844403,
          2.815295465726684,
          3.6279962016789087,
          2.942729215100099,
          3.0272724323442417,
          2.7552216641236638,
          3.496335654070921
         ],
         "y": [
          0.10013996331769744,
          -0.17231476210599186,
          -0.37085724501241146,
          -0.2575634586273769,
          -0.3659886569795257,
          0.46387413536386357,
          -0.34556215869472984,
          -0.14197307905455173,
          -0.6472132363130769,
          -0.34041064434853835,
          -0.28746438214717895,
          -0.279805941404602,
          -0.36823287065160437,
          -0.4810908035436468,
          -0.4774598475326834,
          -1.15749986630474,
          -0.5578514991369735,
          -0.6354790078086747,
          -1.2623296179738255,
          -1.5646461381567784,
          -2.035324428431752,
          -2.3538795989707246,
          -2.041983528991168,
          -1.5279561439356462,
          -2.133481760037992,
          -0.4047909747456703,
          -1.792089432191089,
          -1.9188278825537115,
          -1.3025808161988144,
          -3.5190931117062796,
          -2.4075461028315113,
          -0.730543243393914,
          -1.1713283863620987,
          -0.5490358406118702,
          -0.6926568440345016,
          -1.548590567736051,
          -0.8723115459283634,
          -2.588704645216148,
          -1.2678478947047227,
          -2.074909270078241,
          -2.585082043781415,
          0.25946020079651716,
          -0.8373860282192255,
          -2.189336141261734,
          -2.2066170140009986,
          -1.752263201863882,
          -2.756040238792643,
          -2.293784082205697,
          -2.7606079900958647
         ]
        }
       ],
       "layout": {
        "autosize": false,
        "height": 700,
        "template": {
         "data": {
          "bar": [
           {
            "error_x": {
             "color": "#2a3f5f"
            },
            "error_y": {
             "color": "#2a3f5f"
            },
            "marker": {
             "line": {
              "color": "#E5ECF6",
              "width": 0.5
             }
            },
            "type": "bar"
           }
          ],
          "barpolar": [
           {
            "marker": {
             "line": {
              "color": "#E5ECF6",
              "width": 0.5
             }
            },
            "type": "barpolar"
           }
          ],
          "carpet": [
           {
            "aaxis": {
             "endlinecolor": "#2a3f5f",
             "gridcolor": "white",
             "linecolor": "white",
             "minorgridcolor": "white",
             "startlinecolor": "#2a3f5f"
            },
            "baxis": {
             "endlinecolor": "#2a3f5f",
             "gridcolor": "white",
             "linecolor": "white",
             "minorgridcolor": "white",
             "startlinecolor": "#2a3f5f"
            },
            "type": "carpet"
           }
          ],
          "choropleth": [
           {
            "colorbar": {
             "outlinewidth": 0,
             "ticks": ""
            },
            "type": "choropleth"
           }
          ],
          "contour": [
           {
            "colorbar": {
             "outlinewidth": 0,
             "ticks": ""
            },
            "colorscale": [
             [
              0,
              "#0d0887"
             ],
             [
              0.1111111111111111,
              "#46039f"
             ],
             [
              0.2222222222222222,
              "#7201a8"
             ],
             [
              0.3333333333333333,
              "#9c179e"
             ],
             [
              0.4444444444444444,
              "#bd3786"
             ],
             [
              0.5555555555555556,
              "#d8576b"
             ],
             [
              0.6666666666666666,
              "#ed7953"
             ],
             [
              0.7777777777777778,
              "#fb9f3a"
             ],
             [
              0.8888888888888888,
              "#fdca26"
             ],
             [
              1,
              "#f0f921"
             ]
            ],
            "type": "contour"
           }
          ],
          "contourcarpet": [
           {
            "colorbar": {
             "outlinewidth": 0,
             "ticks": ""
            },
            "type": "contourcarpet"
           }
          ],
          "heatmap": [
           {
            "colorbar": {
             "outlinewidth": 0,
             "ticks": ""
            },
            "colorscale": [
             [
              0,
              "#0d0887"
             ],
             [
              0.1111111111111111,
              "#46039f"
             ],
             [
              0.2222222222222222,
              "#7201a8"
             ],
             [
              0.3333333333333333,
              "#9c179e"
             ],
             [
              0.4444444444444444,
              "#bd3786"
             ],
             [
              0.5555555555555556,
              "#d8576b"
             ],
             [
              0.6666666666666666,
              "#ed7953"
             ],
             [
              0.7777777777777778,
              "#fb9f3a"
             ],
             [
              0.8888888888888888,
              "#fdca26"
             ],
             [
              1,
              "#f0f921"
             ]
            ],
            "type": "heatmap"
           }
          ],
          "heatmapgl": [
           {
            "colorbar": {
             "outlinewidth": 0,
             "ticks": ""
            },
            "colorscale": [
             [
              0,
              "#0d0887"
             ],
             [
              0.1111111111111111,
              "#46039f"
             ],
             [
              0.2222222222222222,
              "#7201a8"
             ],
             [
              0.3333333333333333,
              "#9c179e"
             ],
             [
              0.4444444444444444,
              "#bd3786"
             ],
             [
              0.5555555555555556,
              "#d8576b"
             ],
             [
              0.6666666666666666,
              "#ed7953"
             ],
             [
              0.7777777777777778,
              "#fb9f3a"
             ],
             [
              0.8888888888888888,
              "#fdca26"
             ],
             [
              1,
              "#f0f921"
             ]
            ],
            "type": "heatmapgl"
           }
          ],
          "histogram": [
           {
            "marker": {
             "colorbar": {
              "outlinewidth": 0,
              "ticks": ""
             }
            },
            "type": "histogram"
           }
          ],
          "histogram2d": [
           {
            "colorbar": {
             "outlinewidth": 0,
             "ticks": ""
            },
            "colorscale": [
             [
              0,
              "#0d0887"
             ],
             [
              0.1111111111111111,
              "#46039f"
             ],
             [
              0.2222222222222222,
              "#7201a8"
             ],
             [
              0.3333333333333333,
              "#9c179e"
             ],
             [
              0.4444444444444444,
              "#bd3786"
             ],
             [
              0.5555555555555556,
              "#d8576b"
             ],
             [
              0.6666666666666666,
              "#ed7953"
             ],
             [
              0.7777777777777778,
              "#fb9f3a"
             ],
             [
              0.8888888888888888,
              "#fdca26"
             ],
             [
              1,
              "#f0f921"
             ]
            ],
            "type": "histogram2d"
           }
          ],
          "histogram2dcontour": [
           {
            "colorbar": {
             "outlinewidth": 0,
             "ticks": ""
            },
            "colorscale": [
             [
              0,
              "#0d0887"
             ],
             [
              0.1111111111111111,
              "#46039f"
             ],
             [
              0.2222222222222222,
              "#7201a8"
             ],
             [
              0.3333333333333333,
              "#9c179e"
             ],
             [
              0.4444444444444444,
              "#bd3786"
             ],
             [
              0.5555555555555556,
              "#d8576b"
             ],
             [
              0.6666666666666666,
              "#ed7953"
             ],
             [
              0.7777777777777778,
              "#fb9f3a"
             ],
             [
              0.8888888888888888,
              "#fdca26"
             ],
             [
              1,
              "#f0f921"
             ]
            ],
            "type": "histogram2dcontour"
           }
          ],
          "mesh3d": [
           {
            "colorbar": {
             "outlinewidth": 0,
             "ticks": ""
            },
            "type": "mesh3d"
           }
          ],
          "parcoords": [
           {
            "line": {
             "colorbar": {
              "outlinewidth": 0,
              "ticks": ""
             }
            },
            "type": "parcoords"
           }
          ],
          "scatter": [
           {
            "marker": {
             "colorbar": {
              "outlinewidth": 0,
              "ticks": ""
             }
            },
            "type": "scatter"
           }
          ],
          "scatter3d": [
           {
            "line": {
             "colorbar": {
              "outlinewidth": 0,
              "ticks": ""
             }
            },
            "marker": {
             "colorbar": {
              "outlinewidth": 0,
              "ticks": ""
             }
            },
            "type": "scatter3d"
           }
          ],
          "scattercarpet": [
           {
            "marker": {
             "colorbar": {
              "outlinewidth": 0,
              "ticks": ""
             }
            },
            "type": "scattercarpet"
           }
          ],
          "scattergeo": [
           {
            "marker": {
             "colorbar": {
              "outlinewidth": 0,
              "ticks": ""
             }
            },
            "type": "scattergeo"
           }
          ],
          "scattergl": [
           {
            "marker": {
             "colorbar": {
              "outlinewidth": 0,
              "ticks": ""
             }
            },
            "type": "scattergl"
           }
          ],
          "scattermapbox": [
           {
            "marker": {
             "colorbar": {
              "outlinewidth": 0,
              "ticks": ""
             }
            },
            "type": "scattermapbox"
           }
          ],
          "scatterpolar": [
           {
            "marker": {
             "colorbar": {
              "outlinewidth": 0,
              "ticks": ""
             }
            },
            "type": "scatterpolar"
           }
          ],
          "scatterpolargl": [
           {
            "marker": {
             "colorbar": {
              "outlinewidth": 0,
              "ticks": ""
             }
            },
            "type": "scatterpolargl"
           }
          ],
          "scatterternary": [
           {
            "marker": {
             "colorbar": {
              "outlinewidth": 0,
              "ticks": ""
             }
            },
            "type": "scatterternary"
           }
          ],
          "surface": [
           {
            "colorbar": {
             "outlinewidth": 0,
             "ticks": ""
            },
            "colorscale": [
             [
              0,
              "#0d0887"
             ],
             [
              0.1111111111111111,
              "#46039f"
             ],
             [
              0.2222222222222222,
              "#7201a8"
             ],
             [
              0.3333333333333333,
              "#9c179e"
             ],
             [
              0.4444444444444444,
              "#bd3786"
             ],
             [
              0.5555555555555556,
              "#d8576b"
             ],
             [
              0.6666666666666666,
              "#ed7953"
             ],
             [
              0.7777777777777778,
              "#fb9f3a"
             ],
             [
              0.8888888888888888,
              "#fdca26"
             ],
             [
              1,
              "#f0f921"
             ]
            ],
            "type": "surface"
           }
          ],
          "table": [
           {
            "cells": {
             "fill": {
              "color": "#EBF0F8"
             },
             "line": {
              "color": "white"
             }
            },
            "header": {
             "fill": {
              "color": "#C8D4E3"
             },
             "line": {
              "color": "white"
             }
            },
            "type": "table"
           }
          ]
         },
         "layout": {
          "annotationdefaults": {
           "arrowcolor": "#2a3f5f",
           "arrowhead": 0,
           "arrowwidth": 1
          },
          "colorscale": {
           "diverging": [
            [
             0,
             "#8e0152"
            ],
            [
             0.1,
             "#c51b7d"
            ],
            [
             0.2,
             "#de77ae"
            ],
            [
             0.3,
             "#f1b6da"
            ],
            [
             0.4,
             "#fde0ef"
            ],
            [
             0.5,
             "#f7f7f7"
            ],
            [
             0.6,
             "#e6f5d0"
            ],
            [
             0.7,
             "#b8e186"
            ],
            [
             0.8,
             "#7fbc41"
            ],
            [
             0.9,
             "#4d9221"
            ],
            [
             1,
             "#276419"
            ]
           ],
           "sequential": [
            [
             0,
             "#0d0887"
            ],
            [
             0.1111111111111111,
             "#46039f"
            ],
            [
             0.2222222222222222,
             "#7201a8"
            ],
            [
             0.3333333333333333,
             "#9c179e"
            ],
            [
             0.4444444444444444,
             "#bd3786"
            ],
            [
             0.5555555555555556,
             "#d8576b"
            ],
            [
             0.6666666666666666,
             "#ed7953"
            ],
            [
             0.7777777777777778,
             "#fb9f3a"
            ],
            [
             0.8888888888888888,
             "#fdca26"
            ],
            [
             1,
             "#f0f921"
            ]
           ],
           "sequentialminus": [
            [
             0,
             "#0d0887"
            ],
            [
             0.1111111111111111,
             "#46039f"
            ],
            [
             0.2222222222222222,
             "#7201a8"
            ],
            [
             0.3333333333333333,
             "#9c179e"
            ],
            [
             0.4444444444444444,
             "#bd3786"
            ],
            [
             0.5555555555555556,
             "#d8576b"
            ],
            [
             0.6666666666666666,
             "#ed7953"
            ],
            [
             0.7777777777777778,
             "#fb9f3a"
            ],
            [
             0.8888888888888888,
             "#fdca26"
            ],
            [
             1,
             "#f0f921"
            ]
           ]
          },
          "colorway": [
           "#636efa",
           "#EF553B",
           "#00cc96",
           "#ab63fa",
           "#FFA15A",
           "#19d3f3",
           "#FF6692",
           "#B6E880",
           "#FF97FF",
           "#FECB52"
          ],
          "font": {
           "color": "#2a3f5f"
          },
          "geo": {
           "bgcolor": "white",
           "lakecolor": "white",
           "landcolor": "#E5ECF6",
           "showlakes": true,
           "showland": true,
           "subunitcolor": "white"
          },
          "hoverlabel": {
           "align": "left"
          },
          "hovermode": "closest",
          "mapbox": {
           "style": "light"
          },
          "paper_bgcolor": "white",
          "plot_bgcolor": "#E5ECF6",
          "polar": {
           "angularaxis": {
            "gridcolor": "white",
            "linecolor": "white",
            "ticks": ""
           },
           "bgcolor": "#E5ECF6",
           "radialaxis": {
            "gridcolor": "white",
            "linecolor": "white",
            "ticks": ""
           }
          },
          "scene": {
           "xaxis": {
            "backgroundcolor": "#E5ECF6",
            "gridcolor": "white",
            "gridwidth": 2,
            "linecolor": "white",
            "showbackground": true,
            "ticks": "",
            "zerolinecolor": "white"
           },
           "yaxis": {
            "backgroundcolor": "#E5ECF6",
            "gridcolor": "white",
            "gridwidth": 2,
            "linecolor": "white",
            "showbackground": true,
            "ticks": "",
            "zerolinecolor": "white"
           },
           "zaxis": {
            "backgroundcolor": "#E5ECF6",
            "gridcolor": "white",
            "gridwidth": 2,
            "linecolor": "white",
            "showbackground": true,
            "ticks": "",
            "zerolinecolor": "white"
           }
          },
          "shapedefaults": {
           "line": {
            "color": "#2a3f5f"
           }
          },
          "ternary": {
           "aaxis": {
            "gridcolor": "white",
            "linecolor": "white",
            "ticks": ""
           },
           "baxis": {
            "gridcolor": "white",
            "linecolor": "white",
            "ticks": ""
           },
           "bgcolor": "#E5ECF6",
           "caxis": {
            "gridcolor": "white",
            "linecolor": "white",
            "ticks": ""
           }
          },
          "title": {
           "x": 0.05
          },
          "xaxis": {
           "automargin": true,
           "gridcolor": "white",
           "linecolor": "white",
           "ticks": "",
           "zerolinecolor": "white",
           "zerolinewidth": 2
          },
          "yaxis": {
           "automargin": true,
           "gridcolor": "white",
           "linecolor": "white",
           "ticks": "",
           "zerolinecolor": "white",
           "zerolinewidth": 2
          }
         }
        },
        "title": {
         "font": {
          "size": 25
         },
         "text": "KMeans Cluster"
        },
        "width": 700,
        "xaxis": {
         "autorange": true,
         "range": [
          -5.0779827490415395,
          5.096357062332558
         ],
         "title": {
          "text": "component_1 (39.54% variance explained)"
         },
         "type": "linear",
         "zeroline": false
        },
        "yaxis": {
         "autorange": true,
         "range": [
          -4.042179383255118,
          4.392079878927709
         ],
         "title": {
          "text": "component_2 (17.84% variance explained)"
         },
         "type": "linear",
         "zeroline": false
        }
       }
      },
      "image/png": "[encoded data removed]",
      "text/html": [
       "<div>\n",
       "        \n",
       "        \n",
       "            <div id=\"dfc77c40-4f95-47d0-8dc3-ecb55fae56ec\" class=\"plotly-graph-div\" style=\"height:700px; width:700px;\"></div>\n",
       "            <script type=\"text/javascript\">\n",
       "                require([\"plotly\"], function(Plotly) {\n",
       "                    window.PLOTLYENV=window.PLOTLYENV || {};\n",
       "                    \n",
       "                if (document.getElementById(\"dfc77c40-4f95-47d0-8dc3-ecb55fae56ec\")) {\n",
       "                    Plotly.newPlot(\n",
       "                        'dfc77c40-4f95-47d0-8dc3-ecb55fae56ec',\n",
       "                        [{\"marker\": {\"colorscale\": [[0.0, \"rgb(161, 105, 40)\"], [0.16666666666666666, \"rgb(189, 146, 90)\"], [0.3333333333333333, \"rgb(214, 189, 141)\"], [0.5, \"rgb(237, 234, 194)\"], [0.6666666666666666, \"rgb(181, 200, 184)\"], [0.8333333333333334, \"rgb(121, 167, 172)\"], [1.0, \"rgb(40, 135, 161)\"]], \"line\": {\"width\": 1}, \"size\": 10}, \"mode\": \"markers\", \"name\": \"Cluster 1\", \"type\": \"scatter\", \"x\": [-3.522933903081799, -2.5288580618463676, -2.785028984152026, -3.9225884077761357, -1.4075111119787518, -3.2881298147971303, -2.750577541367634, -2.3928665198696404, -2.7952563305466724, -3.0055966640025824, -3.678688554546913, -2.10963476717679, -2.438456361644709, -3.673494531851869, -4.441575750799967, -2.6089238700112487, -2.4754284592737488, -2.2262324346386526, -3.742269291543672, -2.394411499831793, -3.3365689534243885, -1.4814039908115557, -2.8280686727862183, -2.0077140461407574, -2.114636036069498, -1.397537507042347, -2.1334880279339403, -1.6297038265623096, -2.507607527611562, -2.5594831788057886, -2.7724445249572107, -2.9351337410654272, -1.9912484163578494, -2.2457098662822714, -1.7869862772732896, -2.2276386659731733, -1.7680284715998271, -1.5231779814686115, -1.872364942222543, -2.7971143437092594, -2.840935693150025, -1.1055721019048326, -3.3068948240619678, -0.9047984234222434, -2.3968356897732583, -1.5378123476239947, -2.9912164379372066, -3.0593163136602577, -2.318771457130337, -2.9594722867527725, -3.4121813013449414, -3.1163782669834204, -3.700211134938519, -2.5375482759877697, -2.4447892385945242, -2.7228145085222053, -2.985316773607038, -2.488146899219528, -3.3512866509434027, -2.2994571572085873, -2.2606073235493964], \"y\": [-1.4530984395358313, 0.3300192515214172, -1.0369359525889614, -2.7682102618438513, -0.8677730872653789, -2.1301751291512474, -1.1791699854279976, -1.6112823206534348, -0.923179516915517, -0.7962841694225432, -1.3125234207675547, -0.6129819864028357, -0.6785233100295273, -1.1401213551662461, -2.110319170328112, -1.6664180107095554, -2.3308967167384727, -1.6335901618386255, -2.5284052661988223, -1.0645294568044428, -0.7960127940285896, -0.24008547418839174, 0.08685755238892393, 0.5156164866057928, 0.3159205692449821, -0.9382152852892928, -0.6871020460371776, 0.09118403034427189, -0.6927498334195374, -0.19547289969892145, -1.2463527918093678, -1.478278833733573, -0.05325201449517684, -1.6346691048708584, -0.6974803860124373, -0.17928891851084133, -0.6578723083726185, -0.11222505343923461, 0.7693057594963643, -1.8088088734120098, -0.7861615668759242, -0.16588492491652107, -1.1639554686140792, -0.32607243245927875, 0.06690594469848699, -1.775077650427629, -1.197622547408979, -0.6538219576136092, -1.250236680698259, -1.7586036491081598, -0.17691580638574386, -0.752108734024334, -1.6230918691251957, -1.8785279338760252, -1.0207151556133724, -1.3352436903312164, -1.4436375861800772, -1.2154925032589663, -1.740602830376459, -0.2743585068741994, -0.18428636996603537]}, {\"marker\": {\"colorscale\": [[0.0, \"rgb(161, 105, 40)\"], [0.16666666666666666, \"rgb(189, 146, 90)\"], [0.3333333333333333, \"rgb(214, 189, 141)\"], [0.5, \"rgb(237, 234, 194)\"], [0.6666666666666666, \"rgb(181, 200, 184)\"], [0.8333333333333334, \"rgb(121, 167, 172)\"], [1.0, \"rgb(40, 135, 161)\"]], \"line\": {\"width\": 1}, \"size\": 10}, \"mode\": \"markers\", \"name\": \"Cluster 0\", \"type\": \"scatter\", \"x\": [0.8749250405094329, 1.4146607583905995, 1.713879155572143, -0.012296860656527731, -1.833101223331489, 0.5745359492118625, -0.7914711563862606, -2.0200314753595596, -0.14328097986623092, 0.7515076649843823, -1.7403257308074211, 1.4763004083985483, -1.4919777857723635, 0.6939668586318597, -1.6341313770491812, 0.8289993211530101, -0.3004317546738373, 1.3611781956286613, -1.0960485224074596, -0.31921973891355415, -0.6712575723174746, -0.9241109081104658, 0.467492043591586, -0.7182232497559667, -0.6982960422675997, 0.7645743933746579, 0.5282492286427201, 1.0378550746488293, 0.5214242504129987, 1.2533585938573952, 1.4607092605337524, 1.7912462937913707, -0.653304281588105, -0.836145100430653, 0.5554728283313044, -0.9149965048608719, -2.020983470996343, -1.2654267654096187, -0.7014322859995967, 0.530869785363804, 0.17615671827810653, 0.6427419694693173, -0.33770614321128356, 1.637211545576051, 0.3587726420408903, 1.513118742703069, -0.030096257014854206, -1.4094023621799234, -1.2182444358066, 0.2883146193551384, 1.1960976186198664, 0.45161818890488603, 0.47183885648253954, -0.42339908963770134, 0.26437652725350275, 0.13745846640962917, 2.2504766336669078, 0.5307449841402215, -0.6412873530902893, -1.184366906108585, 1.1069419459472478, 0.45864794388365027, -0.8461072232725755, 0.11653671785625787, 0.007086700003462101, 1.4953086293777886, 0.47860169415181397, 1.664144618858878], \"y\": [3.077723829224201, 1.389954204190396, 0.8388560750501495, 1.2626958918547169, 1.9133860842519297, 1.911150968483691, 0.7587255185080987, 1.8721314194480623, 2.4257569107612893, 0.22520901675075117, 1.3910081469602869, 0.8922485862943265, 0.9479270814536005, 1.0668633193304047, 1.2773898037548916, 2.447705788988847, 2.151064561246474, 1.3903462660428068, 0.7626428212465014, 1.0247704280518082, 3.3705249648867923, 1.445106615399053, 2.38376557318115, 1.4681139435689523, 2.022234166391512, 2.2375041407905196, 2.375697233503445, 1.8078679876637689, 2.6603838596853446, 2.124756386790702, 1.859699404636751, 1.5691632317562545, 2.308392965319508, 2.217548879563101, 0.370127326784992, 2.5596393442213867, 1.4202204126787707, 2.1584825070923324, 2.37221591540541, 2.2953550504699622, 1.164790027595615, 2.6822895258703667, 2.096396676639342, 1.7263642466768507, 2.170818617348031, 1.3633562761628033, 2.304507740267409, 1.4531115823371166, 1.4081928230478125, 1.931226411450629, 0.7704426230116235, 2.271007055838517, 1.9413811889855515, 3.86899360737887, 2.821916083203686, 1.9284535272304588, 1.2693252939053872, 2.224416799064716, 1.404312716870386, -0.2609573971328153, 0.6694970022937149, 0.6198884845142795, 1.4391087987312334, 2.109903553709018, 1.2655111176102596, 1.215679449517407, 1.9402783474077896, 1.159191468922369]}, {\"marker\": {\"colorscale\": [[0.0, \"rgb(161, 105, 40)\"], [0.16666666666666666, \"rgb(189, 146, 90)\"], [0.3333333333333333, \"rgb(214, 189, 141)\"], [0.5, \"rgb(237, 234, 194)\"], [0.6666666666666666, \"rgb(181, 200, 184)\"], [0.8333333333333334, \"rgb(121, 167, 172)\"], [1.0, \"rgb(40, 135, 161)\"]], \"line\": {\"width\": 1}, \"size\": 10}, \"mode\": \"markers\", \"name\": \"Cluster 2\", \"type\": \"scatter\", \"x\": [2.3524167496170074, 1.7789455429241248, 2.741918921568584, 3.254296966691013, 2.530366352884851, 2.7130243739203346, 3.3489885805820854, 4.117166964930116, 4.14412844273494, 3.3659255049316106, 2.7126767802176612, 3.0716452299668484, 2.626145460795557, 3.2603967160285197, 2.704046991504905, 2.5908477457733885, 2.9540110968353703, 4.459950064090986, 3.8292495694565183, 3.133650013321478, 3.234714102084362, 2.712564719484427, 2.930940444500839, 2.250574247691139, 3.0975203328081173, 3.077055667943965, 3.8561582374743386, 3.2083884241573255, 3.6584941723647373, 1.5529818269996651, 2.058283892280504, 3.4385493392723627, 2.5844881469164136, 3.1444572161466993, 2.9252939819963206, 3.2618267746097214, 3.777587166366859, 2.774639251547308, 3.2426161773412163, 2.5637437530436005, 2.748729476307859, 3.4911961964238096, 3.929134404844403, 2.815295465726684, 3.6279962016789087, 2.942729215100099, 3.0272724323442417, 2.7552216641236638, 3.496335654070921], \"y\": [0.10013996331769744, -0.17231476210599186, -0.37085724501241146, -0.2575634586273769, -0.3659886569795257, 0.46387413536386357, -0.34556215869472984, -0.14197307905455173, -0.6472132363130769, -0.34041064434853835, -0.28746438214717895, -0.279805941404602, -0.36823287065160437, -0.4810908035436468, -0.4774598475326834, -1.15749986630474, -0.5578514991369735, -0.6354790078086747, -1.2623296179738255, -1.5646461381567784, -2.035324428431752, -2.3538795989707246, -2.041983528991168, -1.5279561439356462, -2.133481760037992, -0.4047909747456703, -1.792089432191089, -1.9188278825537115, -1.3025808161988144, -3.5190931117062796, -2.4075461028315113, -0.730543243393914, -1.1713283863620987, -0.5490358406118702, -0.6926568440345016, -1.548590567736051, -0.8723115459283634, -2.588704645216148, -1.2678478947047227, -2.074909270078241, -2.585082043781415, 0.25946020079651716, -0.8373860282192255, -2.189336141261734, -2.2066170140009986, -1.752263201863882, -2.756040238792643, -2.293784082205697, -2.7606079900958647]}],\n",
       "                        {\"autosize\": false, \"height\": 700, \"template\": {\"data\": {\"bar\": [{\"error_x\": {\"color\": \"#2a3f5f\"}, \"error_y\": {\"color\": \"#2a3f5f\"}, \"marker\": {\"line\": {\"color\": \"#E5ECF6\", \"width\": 0.5}}, \"type\": \"bar\"}], \"barpolar\": [{\"marker\": {\"line\": {\"color\": \"#E5ECF6\", \"width\": 0.5}}, \"type\": \"barpolar\"}], \"carpet\": [{\"aaxis\": {\"endlinecolor\": \"#2a3f5f\", \"gridcolor\": \"white\", \"linecolor\": \"white\", \"minorgridcolor\": \"white\", \"startlinecolor\": \"#2a3f5f\"}, \"baxis\": {\"endlinecolor\": \"#2a3f5f\", \"gridcolor\": \"white\", \"linecolor\": \"white\", \"minorgridcolor\": \"white\", \"startlinecolor\": \"#2a3f5f\"}, \"type\": \"carpet\"}], \"choropleth\": [{\"colorbar\": {\"outlinewidth\": 0, \"ticks\": \"\"}, \"type\": \"choropleth\"}], \"contour\": [{\"colorbar\": {\"outlinewidth\": 0, \"ticks\": \"\"}, \"colorscale\": [[0.0, \"#0d0887\"], [0.1111111111111111, \"#46039f\"], [0.2222222222222222, \"#7201a8\"], [0.3333333333333333, \"#9c179e\"], [0.4444444444444444, \"#bd3786\"], [0.5555555555555556, \"#d8576b\"], [0.6666666666666666, \"#ed7953\"], [0.7777777777777778, \"#fb9f3a\"], [0.8888888888888888, \"#fdca26\"], [1.0, \"#f0f921\"]], \"type\": \"contour\"}], \"contourcarpet\": [{\"colorbar\": {\"outlinewidth\": 0, \"ticks\": \"\"}, \"type\": \"contourcarpet\"}], \"heatmap\": [{\"colorbar\": {\"outlinewidth\": 0, \"ticks\": \"\"}, \"colorscale\": [[0.0, \"#0d0887\"], [0.1111111111111111, \"#46039f\"], [0.2222222222222222, \"#7201a8\"], [0.3333333333333333, \"#9c179e\"], [0.4444444444444444, \"#bd3786\"], [0.5555555555555556, \"#d8576b\"], [0.6666666666666666, \"#ed7953\"], [0.7777777777777778, \"#fb9f3a\"], [0.8888888888888888, \"#fdca26\"], [1.0, \"#f0f921\"]], \"type\": \"heatmap\"}], \"heatmapgl\": [{\"colorbar\": {\"outlinewidth\": 0, \"ticks\": \"\"}, \"colorscale\": [[0.0, \"#0d0887\"], [0.1111111111111111, \"#46039f\"], [0.2222222222222222, \"#7201a8\"], [0.3333333333333333, \"#9c179e\"], [0.4444444444444444, \"#bd3786\"], [0.5555555555555556, \"#d8576b\"], [0.6666666666666666, \"#ed7953\"], [0.7777777777777778, \"#fb9f3a\"], [0.8888888888888888, \"#fdca26\"], [1.0, \"#f0f921\"]], \"type\": \"heatmapgl\"}], \"histogram\": [{\"marker\": {\"colorbar\": {\"outlinewidth\": 0, \"ticks\": \"\"}}, \"type\": \"histogram\"}], \"histogram2d\": [{\"colorbar\": {\"outlinewidth\": 0, \"ticks\": \"\"}, \"colorscale\": [[0.0, \"#0d0887\"], [0.1111111111111111, \"#46039f\"], [0.2222222222222222, \"#7201a8\"], [0.3333333333333333, \"#9c179e\"], [0.4444444444444444, \"#bd3786\"], [0.5555555555555556, \"#d8576b\"], [0.6666666666666666, \"#ed7953\"], [0.7777777777777778, \"#fb9f3a\"], [0.8888888888888888, \"#fdca26\"], [1.0, \"#f0f921\"]], \"type\": \"histogram2d\"}], \"histogram2dcontour\": [{\"colorbar\": {\"outlinewidth\": 0, \"ticks\": \"\"}, \"colorscale\": [[0.0, \"#0d0887\"], [0.1111111111111111, \"#46039f\"], [0.2222222222222222, \"#7201a8\"], [0.3333333333333333, \"#9c179e\"], [0.4444444444444444, \"#bd3786\"], [0.5555555555555556, \"#d8576b\"], [0.6666666666666666, \"#ed7953\"], [0.7777777777777778, \"#fb9f3a\"], [0.8888888888888888, \"#fdca26\"], [1.0, \"#f0f921\"]], \"type\": \"histogram2dcontour\"}], \"mesh3d\": [{\"colorbar\": {\"outlinewidth\": 0, \"ticks\": \"\"}, \"type\": \"mesh3d\"}], \"parcoords\": [{\"line\": {\"colorbar\": {\"outlinewidth\": 0, \"ticks\": \"\"}}, \"type\": \"parcoords\"}], \"scatter\": [{\"marker\": {\"colorbar\": {\"outlinewidth\": 0, \"ticks\": \"\"}}, \"type\": \"scatter\"}], \"scatter3d\": [{\"line\": {\"colorbar\": {\"outlinewidth\": 0, \"ticks\": \"\"}}, \"marker\": {\"colorbar\": {\"outlinewidth\": 0, \"ticks\": \"\"}}, \"type\": \"scatter3d\"}], \"scattercarpet\": [{\"marker\": {\"colorbar\": {\"outlinewidth\": 0, \"ticks\": \"\"}}, \"type\": \"scattercarpet\"}], \"scattergeo\": [{\"marker\": {\"colorbar\": {\"outlinewidth\": 0, \"ticks\": \"\"}}, \"type\": \"scattergeo\"}], \"scattergl\": [{\"marker\": {\"colorbar\": {\"outlinewidth\": 0, \"ticks\": \"\"}}, \"type\": \"scattergl\"}], \"scattermapbox\": [{\"marker\": {\"colorbar\": {\"outlinewidth\": 0, \"ticks\": \"\"}}, \"type\": \"scattermapbox\"}], \"scatterpolar\": [{\"marker\": {\"colorbar\": {\"outlinewidth\": 0, \"ticks\": \"\"}}, \"type\": \"scatterpolar\"}], \"scatterpolargl\": [{\"marker\": {\"colorbar\": {\"outlinewidth\": 0, \"ticks\": \"\"}}, \"type\": \"scatterpolargl\"}], \"scatterternary\": [{\"marker\": {\"colorbar\": {\"outlinewidth\": 0, \"ticks\": \"\"}}, \"type\": \"scatterternary\"}], \"surface\": [{\"colorbar\": {\"outlinewidth\": 0, \"ticks\": \"\"}, \"colorscale\": [[0.0, \"#0d0887\"], [0.1111111111111111, \"#46039f\"], [0.2222222222222222, \"#7201a8\"], [0.3333333333333333, \"#9c179e\"], [0.4444444444444444, \"#bd3786\"], [0.5555555555555556, \"#d8576b\"], [0.6666666666666666, \"#ed7953\"], [0.7777777777777778, \"#fb9f3a\"], [0.8888888888888888, \"#fdca26\"], [1.0, \"#f0f921\"]], \"type\": \"surface\"}], \"table\": [{\"cells\": {\"fill\": {\"color\": \"#EBF0F8\"}, \"line\": {\"color\": \"white\"}}, \"header\": {\"fill\": {\"color\": \"#C8D4E3\"}, \"line\": {\"color\": \"white\"}}, \"type\": \"table\"}]}, \"layout\": {\"annotationdefaults\": {\"arrowcolor\": \"#2a3f5f\", \"arrowhead\": 0, \"arrowwidth\": 1}, \"colorscale\": {\"diverging\": [[0, \"#8e0152\"], [0.1, \"#c51b7d\"], [0.2, \"#de77ae\"], [0.3, \"#f1b6da\"], [0.4, \"#fde0ef\"], [0.5, \"#f7f7f7\"], [0.6, \"#e6f5d0\"], [0.7, \"#b8e186\"], [0.8, \"#7fbc41\"], [0.9, \"#4d9221\"], [1, \"#276419\"]], \"sequential\": [[0.0, \"#0d0887\"], [0.1111111111111111, \"#46039f\"], [0.2222222222222222, \"#7201a8\"], [0.3333333333333333, \"#9c179e\"], [0.4444444444444444, \"#bd3786\"], [0.5555555555555556, \"#d8576b\"], [0.6666666666666666, \"#ed7953\"], [0.7777777777777778, \"#fb9f3a\"], [0.8888888888888888, \"#fdca26\"], [1.0, \"#f0f921\"]], \"sequentialminus\": [[0.0, \"#0d0887\"], [0.1111111111111111, \"#46039f\"], [0.2222222222222222, \"#7201a8\"], [0.3333333333333333, \"#9c179e\"], [0.4444444444444444, \"#bd3786\"], [0.5555555555555556, \"#d8576b\"], [0.6666666666666666, \"#ed7953\"], [0.7777777777777778, \"#fb9f3a\"], [0.8888888888888888, \"#fdca26\"], [1.0, \"#f0f921\"]]}, \"colorway\": [\"#636efa\", \"#EF553B\", \"#00cc96\", \"#ab63fa\", \"#FFA15A\", \"#19d3f3\", \"#FF6692\", \"#B6E880\", \"#FF97FF\", \"#FECB52\"], \"font\": {\"color\": \"#2a3f5f\"}, \"geo\": {\"bgcolor\": \"white\", \"lakecolor\": \"white\", \"landcolor\": \"#E5ECF6\", \"showlakes\": true, \"showland\": true, \"subunitcolor\": \"white\"}, \"hoverlabel\": {\"align\": \"left\"}, \"hovermode\": \"closest\", \"mapbox\": {\"style\": \"light\"}, \"paper_bgcolor\": \"white\", \"plot_bgcolor\": \"#E5ECF6\", \"polar\": {\"angularaxis\": {\"gridcolor\": \"white\", \"linecolor\": \"white\", \"ticks\": \"\"}, \"bgcolor\": \"#E5ECF6\", \"radialaxis\": {\"gridcolor\": \"white\", \"linecolor\": \"white\", \"ticks\": \"\"}}, \"scene\": {\"xaxis\": {\"backgroundcolor\": \"#E5ECF6\", \"gridcolor\": \"white\", \"gridwidth\": 2, \"linecolor\": \"white\", \"showbackground\": true, \"ticks\": \"\", \"zerolinecolor\": \"white\"}, \"yaxis\": {\"backgroundcolor\": \"#E5ECF6\", \"gridcolor\": \"white\", \"gridwidth\": 2, \"linecolor\": \"white\", \"showbackground\": true, \"ticks\": \"\", \"zerolinecolor\": \"white\"}, \"zaxis\": {\"backgroundcolor\": \"#E5ECF6\", \"gridcolor\": \"white\", \"gridwidth\": 2, \"linecolor\": \"white\", \"showbackground\": true, \"ticks\": \"\", \"zerolinecolor\": \"white\"}}, \"shapedefaults\": {\"line\": {\"color\": \"#2a3f5f\"}}, \"ternary\": {\"aaxis\": {\"gridcolor\": \"white\", \"linecolor\": \"white\", \"ticks\": \"\"}, \"baxis\": {\"gridcolor\": \"white\", \"linecolor\": \"white\", \"ticks\": \"\"}, \"bgcolor\": \"#E5ECF6\", \"caxis\": {\"gridcolor\": \"white\", \"linecolor\": \"white\", \"ticks\": \"\"}}, \"title\": {\"x\": 0.05}, \"xaxis\": {\"automargin\": true, \"gridcolor\": \"white\", \"linecolor\": \"white\", \"ticks\": \"\", \"zerolinecolor\": \"white\", \"zerolinewidth\": 2}, \"yaxis\": {\"automargin\": true, \"gridcolor\": \"white\", \"linecolor\": \"white\", \"ticks\": \"\", \"zerolinecolor\": \"white\", \"zerolinewidth\": 2}}}, \"title\": {\"font\": {\"size\": 25}, \"text\": \"KMeans Cluster\"}, \"width\": 700, \"xaxis\": {\"title\": {\"text\": \"component_1 (39.54% variance explained)\"}, \"zeroline\": false}, \"yaxis\": {\"title\": {\"text\": \"component_2 (17.84% variance explained)\"}, \"zeroline\": false}},\n",
       "                        {\"responsive\": true}\n",
       "                    ).then(function(){\n",
       "                            \n",
       "var gd = document.getElementById('dfc77c40-4f95-47d0-8dc3-ecb55fae56ec');\n",
       "var x = new MutationObserver(function (mutations, observer) {{\n",
       "        var display = window.getComputedStyle(gd).display;\n",
       "        if (!display || display === 'none') {{\n",
       "            console.log([gd, 'removed!']);\n",
       "            Plotly.purge(gd);\n",
       "            observer.disconnect();\n",
       "        }}\n",
       "}});\n",
       "\n",
       "// Listen for the removal of the full notebook cells\n",
       "var notebookContainer = gd.closest('#notebook-container');\n",
       "if (notebookContainer) {{\n",
       "    x.observe(notebookContainer, {childList: true});\n",
       "}}\n",
       "\n",
       "// Listen for the clearing of the current output cell\n",
       "var outputEl = gd.closest('.output');\n",
       "if (outputEl) {{\n",
       "    x.observe(outputEl, {childList: true});\n",
       "}}\n",
       "\n",
       "                        })\n",
       "                };\n",
       "                });\n",
       "            </script>\n",
       "        </div>"
      ]
     },
     "metadata": {},
     "output_type": "display_data"
    }
   ],
   "source": [
    "cluster(df, elbow=True)"
   ]
  },
  {
   "cell_type": "markdown",
   "metadata": {},
   "source": [
    "## Return Reduced Data with Cluster Labels"
   ]
  },
  {
   "cell_type": "code",
   "execution_count": 5,
   "metadata": {},
   "outputs": [
    {
     "data": {
      "text/html": [
       "        <script type=\"text/javascript\">\n",
       "        window.PlotlyConfig = {MathJaxConfig: 'local'};\n",
       "        if (window.MathJax) {MathJax.Hub.Config({SVG: {font: \"STIX-Web\"}});}\n",
       "        if (typeof require !== 'undefined') {\n",
       "        require.undef(\"plotly\");\n",
       "        requirejs.config({\n",
       "            paths: {\n",
       "                'plotly': ['https://cdn.plot.ly/plotly-latest.min']\n",
       "            }\n",
       "        });\n",
       "        require(['plotly'], function(Plotly) {\n",
       "            window._Plotly = Plotly;\n",
       "        });\n",
       "        }\n",
       "        </script>\n",
       "        "
      ]
     },
     "metadata": {},
     "output_type": "display_data"
    },
    {
     "data": {
      "text/html": [
       "<div>\n",
       "<style scoped>\n",
       "    .dataframe tbody tr th:only-of-type {\n",
       "        vertical-align: middle;\n",
       "    }\n",
       "\n",
       "    .dataframe tbody tr th {\n",
       "        vertical-align: top;\n",
       "    }\n",
       "\n",
       "    .dataframe thead th {\n",
       "        text-align: right;\n",
       "    }\n",
       "</style>\n",
       "<table border=\"1\" class=\"dataframe\">\n",
       "  <thead>\n",
       "    <tr style=\"text-align: right;\">\n",
       "      <th></th>\n",
       "      <th>component_1</th>\n",
       "      <th>component_2</th>\n",
       "      <th>cluster</th>\n",
       "    </tr>\n",
       "  </thead>\n",
       "  <tbody>\n",
       "    <tr>\n",
       "      <th>0</th>\n",
       "      <td>-3.522934</td>\n",
       "      <td>-1.453098</td>\n",
       "      <td>1</td>\n",
       "    </tr>\n",
       "    <tr>\n",
       "      <th>1</th>\n",
       "      <td>-2.528858</td>\n",
       "      <td>0.330019</td>\n",
       "      <td>1</td>\n",
       "    </tr>\n",
       "    <tr>\n",
       "      <th>2</th>\n",
       "      <td>-2.785029</td>\n",
       "      <td>-1.036936</td>\n",
       "      <td>1</td>\n",
       "    </tr>\n",
       "    <tr>\n",
       "      <th>3</th>\n",
       "      <td>-3.922588</td>\n",
       "      <td>-2.768210</td>\n",
       "      <td>1</td>\n",
       "    </tr>\n",
       "    <tr>\n",
       "      <th>4</th>\n",
       "      <td>-1.407511</td>\n",
       "      <td>-0.867773</td>\n",
       "      <td>1</td>\n",
       "    </tr>\n",
       "  </tbody>\n",
       "</table>\n",
       "</div>"
      ],
      "text/plain": [
       "   component_1  component_2 cluster\n",
       "0    -3.522934    -1.453098       1\n",
       "1    -2.528858     0.330019       1\n",
       "2    -2.785029    -1.036936       1\n",
       "3    -3.922588    -2.768210       1\n",
       "4    -1.407511    -0.867773       1"
      ]
     },
     "execution_count": 5,
     "metadata": {},
     "output_type": "execute_result"
    }
   ],
   "source": [
    "cluster(df, return_value='reduc').head()"
   ]
  },
  {
   "cell_type": "markdown",
   "metadata": {},
   "source": [
    "## Return Data with Cluster Labels"
   ]
  },
  {
   "cell_type": "code",
   "execution_count": 6,
   "metadata": {},
   "outputs": [
    {
     "data": {
      "text/html": [
       "        <script type=\"text/javascript\">\n",
       "        window.PlotlyConfig = {MathJaxConfig: 'local'};\n",
       "        if (window.MathJax) {MathJax.Hub.Config({SVG: {font: \"STIX-Web\"}});}\n",
       "        if (typeof require !== 'undefined') {\n",
       "        require.undef(\"plotly\");\n",
       "        requirejs.config({\n",
       "            paths: {\n",
       "                'plotly': ['https://cdn.plot.ly/plotly-latest.min']\n",
       "            }\n",
       "        });\n",
       "        require(['plotly'], function(Plotly) {\n",
       "            window._Plotly = Plotly;\n",
       "        });\n",
       "        }\n",
       "        </script>\n",
       "        "
      ]
     },
     "metadata": {},
     "output_type": "display_data"
    },
    {
     "data": {
      "text/html": [
       "<div>\n",
       "<style scoped>\n",
       "    .dataframe tbody tr th:only-of-type {\n",
       "        vertical-align: middle;\n",
       "    }\n",
       "\n",
       "    .dataframe tbody tr th {\n",
       "        vertical-align: top;\n",
       "    }\n",
       "\n",
       "    .dataframe thead th {\n",
       "        text-align: right;\n",
       "    }\n",
       "</style>\n",
       "<table border=\"1\" class=\"dataframe\">\n",
       "  <thead>\n",
       "    <tr style=\"text-align: right;\">\n",
       "      <th></th>\n",
       "      <th>Target</th>\n",
       "      <th>alcohol</th>\n",
       "      <th>malic_acid</th>\n",
       "      <th>ash</th>\n",
       "      <th>alcalinity_of_ash</th>\n",
       "      <th>magnesium</th>\n",
       "      <th>total_phenols</th>\n",
       "      <th>flavanoids</th>\n",
       "      <th>nonflavanoid_phenols</th>\n",
       "      <th>proanthocyanins</th>\n",
       "      <th>color_intensity</th>\n",
       "      <th>hue</th>\n",
       "      <th>od280/od315_of_diluted_wines</th>\n",
       "      <th>proline</th>\n",
       "      <th>cluster</th>\n",
       "    </tr>\n",
       "  </thead>\n",
       "  <tbody>\n",
       "    <tr>\n",
       "      <th>0</th>\n",
       "      <td>0</td>\n",
       "      <td>14.23</td>\n",
       "      <td>1.71</td>\n",
       "      <td>2.43</td>\n",
       "      <td>15.6</td>\n",
       "      <td>127.0</td>\n",
       "      <td>2.80</td>\n",
       "      <td>3.06</td>\n",
       "      <td>0.28</td>\n",
       "      <td>2.29</td>\n",
       "      <td>5.64</td>\n",
       "      <td>1.04</td>\n",
       "      <td>3.92</td>\n",
       "      <td>1065.0</td>\n",
       "      <td>1</td>\n",
       "    </tr>\n",
       "    <tr>\n",
       "      <th>1</th>\n",
       "      <td>0</td>\n",
       "      <td>13.20</td>\n",
       "      <td>1.78</td>\n",
       "      <td>2.14</td>\n",
       "      <td>11.2</td>\n",
       "      <td>100.0</td>\n",
       "      <td>2.65</td>\n",
       "      <td>2.76</td>\n",
       "      <td>0.26</td>\n",
       "      <td>1.28</td>\n",
       "      <td>4.38</td>\n",
       "      <td>1.05</td>\n",
       "      <td>3.40</td>\n",
       "      <td>1050.0</td>\n",
       "      <td>1</td>\n",
       "    </tr>\n",
       "    <tr>\n",
       "      <th>2</th>\n",
       "      <td>0</td>\n",
       "      <td>13.16</td>\n",
       "      <td>2.36</td>\n",
       "      <td>2.67</td>\n",
       "      <td>18.6</td>\n",
       "      <td>101.0</td>\n",
       "      <td>2.80</td>\n",
       "      <td>3.24</td>\n",
       "      <td>0.30</td>\n",
       "      <td>2.81</td>\n",
       "      <td>5.68</td>\n",
       "      <td>1.03</td>\n",
       "      <td>3.17</td>\n",
       "      <td>1185.0</td>\n",
       "      <td>1</td>\n",
       "    </tr>\n",
       "    <tr>\n",
       "      <th>3</th>\n",
       "      <td>0</td>\n",
       "      <td>14.37</td>\n",
       "      <td>1.95</td>\n",
       "      <td>2.50</td>\n",
       "      <td>16.8</td>\n",
       "      <td>113.0</td>\n",
       "      <td>3.85</td>\n",
       "      <td>3.49</td>\n",
       "      <td>0.24</td>\n",
       "      <td>2.18</td>\n",
       "      <td>7.80</td>\n",
       "      <td>0.86</td>\n",
       "      <td>3.45</td>\n",
       "      <td>1480.0</td>\n",
       "      <td>1</td>\n",
       "    </tr>\n",
       "    <tr>\n",
       "      <th>4</th>\n",
       "      <td>0</td>\n",
       "      <td>13.24</td>\n",
       "      <td>2.59</td>\n",
       "      <td>2.87</td>\n",
       "      <td>21.0</td>\n",
       "      <td>118.0</td>\n",
       "      <td>2.80</td>\n",
       "      <td>2.69</td>\n",
       "      <td>0.39</td>\n",
       "      <td>1.82</td>\n",
       "      <td>4.32</td>\n",
       "      <td>1.04</td>\n",
       "      <td>2.93</td>\n",
       "      <td>735.0</td>\n",
       "      <td>1</td>\n",
       "    </tr>\n",
       "  </tbody>\n",
       "</table>\n",
       "</div>"
      ],
      "text/plain": [
       "   Target  alcohol  malic_acid   ash  alcalinity_of_ash  magnesium  \\\n",
       "0       0    14.23        1.71  2.43               15.6      127.0   \n",
       "1       0    13.20        1.78  2.14               11.2      100.0   \n",
       "2       0    13.16        2.36  2.67               18.6      101.0   \n",
       "3       0    14.37        1.95  2.50               16.8      113.0   \n",
       "4       0    13.24        2.59  2.87               21.0      118.0   \n",
       "\n",
       "   total_phenols  flavanoids  nonflavanoid_phenols  proanthocyanins  \\\n",
       "0           2.80        3.06                  0.28             2.29   \n",
       "1           2.65        2.76                  0.26             1.28   \n",
       "2           2.80        3.24                  0.30             2.81   \n",
       "3           3.85        3.49                  0.24             2.18   \n",
       "4           2.80        2.69                  0.39             1.82   \n",
       "\n",
       "   color_intensity   hue  od280/od315_of_diluted_wines  proline cluster  \n",
       "0             5.64  1.04                          3.92   1065.0       1  \n",
       "1             4.38  1.05                          3.40   1050.0       1  \n",
       "2             5.68  1.03                          3.17   1185.0       1  \n",
       "3             7.80  0.86                          3.45   1480.0       1  \n",
       "4             4.32  1.04                          2.93    735.0       1  "
      ]
     },
     "execution_count": 6,
     "metadata": {},
     "output_type": "execute_result"
    }
   ],
   "source": [
    "cluster(df, return_value='data').head()"
   ]
  },
  {
   "cell_type": "markdown",
   "metadata": {},
   "source": [
    "## Return Plotly object"
   ]
  },
  {
   "cell_type": "code",
   "execution_count": 7,
   "metadata": {},
   "outputs": [
    {
     "data": {
      "text/html": [
       "        <script type=\"text/javascript\">\n",
       "        window.PlotlyConfig = {MathJaxConfig: 'local'};\n",
       "        if (window.MathJax) {MathJax.Hub.Config({SVG: {font: \"STIX-Web\"}});}\n",
       "        if (typeof require !== 'undefined') {\n",
       "        require.undef(\"plotly\");\n",
       "        requirejs.config({\n",
       "            paths: {\n",
       "                'plotly': ['https://cdn.plot.ly/plotly-latest.min']\n",
       "            }\n",
       "        });\n",
       "        require(['plotly'], function(Plotly) {\n",
       "            window._Plotly = Plotly;\n",
       "        });\n",
       "        }\n",
       "        </script>\n",
       "        "
      ]
     },
     "metadata": {},
     "output_type": "display_data"
    }
   ],
   "source": [
    "plotly_object = cluster(df, return_value='plot')"
   ]
  },
  {
   "cell_type": "code",
   "execution_count": 8,
   "metadata": {},
   "outputs": [
    {
     "data": {
      "application/vnd.plotly.v1+json": {
       "config": {
        "linkText": "Export to plot.ly",
        "plotlyServerURL": "https://plot.ly",
        "showLink": false
       },
       "data": [
        {
         "marker": {
          "colorscale": [
           [
            0,
            "rgb(161, 105, 40)"
           ],
           [
            0.16666666666666666,
            "rgb(189, 146, 90)"
           ],
           [
            0.3333333333333333,
            "rgb(214, 189, 141)"
           ],
           [
            0.5,
            "rgb(237, 234, 194)"
           ],
           [
            0.6666666666666666,
            "rgb(181, 200, 184)"
           ],
           [
            0.8333333333333334,
            "rgb(121, 167, 172)"
           ],
           [
            1,
            "rgb(40, 135, 161)"
           ]
          ],
          "line": {
           "width": 1
          },
          "size": 10
         },
         "mode": "markers",
         "name": "Cluster 1",
         "type": "scatter",
         "x": [
          -3.522933903081799,
          -2.5288580618463676,
          -2.785028984152026,
          -3.9225884077761357,
          -1.4075111119787518,
          -3.2881298147971303,
          -2.750577541367634,
          -2.3928665198696404,
          -2.7952563305466724,
          -3.0055966640025824,
          -3.678688554546913,
          -2.10963476717679,
          -2.438456361644709,
          -3.673494531851869,
          -4.441575750799967,
          -2.6089238700112487,
          -2.4754284592737488,
          -2.2262324346386526,
          -3.742269291543672,
          -2.394411499831793,
          -3.3365689534243885,
          -1.4814039908115557,
          -2.8280686727862183,
          -2.0077140461407574,
          -2.114636036069498,
          -1.397537507042347,
          -2.1334880279339403,
          -1.6297038265623096,
          -2.507607527611562,
          -2.5594831788057886,
          -2.7724445249572107,
          -2.9351337410654272,
          -1.9912484163578494,
          -2.2457098662822714,
          -1.7869862772732896,
          -2.2276386659731733,
          -1.7680284715998271,
          -1.5231779814686115,
          -1.872364942222543,
          -2.7971143437092594,
          -2.840935693150025,
          -1.1055721019048326,
          -3.3068948240619678,
          -0.9047984234222434,
          -2.3968356897732583,
          -1.5378123476239947,
          -2.9912164379372066,
          -3.0593163136602577,
          -2.318771457130337,
          -2.9594722867527725,
          -3.4121813013449414,
          -3.1163782669834204,
          -3.700211134938519,
          -2.5375482759877697,
          -2.4447892385945242,
          -2.7228145085222053,
          -2.985316773607038,
          -2.488146899219528,
          -3.3512866509434027,
          -2.2994571572085873,
          -2.2606073235493964
         ],
         "y": [
          -1.4530984395358313,
          0.3300192515214172,
          -1.0369359525889614,
          -2.7682102618438513,
          -0.8677730872653789,
          -2.1301751291512474,
          -1.1791699854279976,
          -1.6112823206534348,
          -0.923179516915517,
          -0.7962841694225432,
          -1.3125234207675547,
          -0.6129819864028357,
          -0.6785233100295273,
          -1.1401213551662461,
          -2.110319170328112,
          -1.6664180107095554,
          -2.3308967167384727,
          -1.6335901618386255,
          -2.5284052661988223,
          -1.0645294568044428,
          -0.7960127940285896,
          -0.24008547418839174,
          0.08685755238892393,
          0.5156164866057928,
          0.3159205692449821,
          -0.9382152852892928,
          -0.6871020460371776,
          0.09118403034427189,
          -0.6927498334195374,
          -0.19547289969892145,
          -1.2463527918093678,
          -1.478278833733573,
          -0.05325201449517684,
          -1.6346691048708584,
          -0.6974803860124373,
          -0.17928891851084133,
          -0.6578723083726185,
          -0.11222505343923461,
          0.7693057594963643,
          -1.8088088734120098,
          -0.7861615668759242,
          -0.16588492491652107,
          -1.1639554686140792,
          -0.32607243245927875,
          0.06690594469848699,
          -1.775077650427629,
          -1.197622547408979,
          -0.6538219576136092,
          -1.250236680698259,
          -1.7586036491081598,
          -0.17691580638574386,
          -0.752108734024334,
          -1.6230918691251957,
          -1.8785279338760252,
          -1.0207151556133724,
          -1.3352436903312164,
          -1.4436375861800772,
          -1.2154925032589663,
          -1.740602830376459,
          -0.2743585068741994,
          -0.18428636996603537
         ]
        },
        {
         "marker": {
          "colorscale": [
           [
            0,
            "rgb(161, 105, 40)"
           ],
           [
            0.16666666666666666,
            "rgb(189, 146, 90)"
           ],
           [
            0.3333333333333333,
            "rgb(214, 189, 141)"
           ],
           [
            0.5,
            "rgb(237, 234, 194)"
           ],
           [
            0.6666666666666666,
            "rgb(181, 200, 184)"
           ],
           [
            0.8333333333333334,
            "rgb(121, 167, 172)"
           ],
           [
            1,
            "rgb(40, 135, 161)"
           ]
          ],
          "line": {
           "width": 1
          },
          "size": 10
         },
         "mode": "markers",
         "name": "Cluster 0",
         "type": "scatter",
         "x": [
          0.8749250405094329,
          1.4146607583905995,
          1.713879155572143,
          -0.012296860656527731,
          -1.833101223331489,
          0.5745359492118625,
          -0.7914711563862606,
          -2.0200314753595596,
          -0.14328097986623092,
          0.7515076649843823,
          -1.7403257308074211,
          1.4763004083985483,
          -1.4919777857723635,
          0.6939668586318597,
          -1.6341313770491812,
          0.8289993211530101,
          -0.3004317546738373,
          1.3611781956286613,
          -1.0960485224074596,
          -0.31921973891355415,
          -0.6712575723174746,
          -0.9241109081104658,
          0.467492043591586,
          -0.7182232497559667,
          -0.6982960422675997,
          0.7645743933746579,
          0.5282492286427201,
          1.0378550746488293,
          0.5214242504129987,
          1.2533585938573952,
          1.4607092605337524,
          1.7912462937913707,
          -0.653304281588105,
          -0.836145100430653,
          0.5554728283313044,
          -0.9149965048608719,
          -2.020983470996343,
          -1.2654267654096187,
          -0.7014322859995967,
          0.530869785363804,
          0.17615671827810653,
          0.6427419694693173,
          -0.33770614321128356,
          1.637211545576051,
          0.3587726420408903,
          1.513118742703069,
          -0.030096257014854206,
          -1.4094023621799234,
          -1.2182444358066,
          0.2883146193551384,
          1.1960976186198664,
          0.45161818890488603,
          0.47183885648253954,
          -0.42339908963770134,
          0.26437652725350275,
          0.13745846640962917,
          2.2504766336669078,
          0.5307449841402215,
          -0.6412873530902893,
          -1.184366906108585,
          1.1069419459472478,
          0.45864794388365027,
          -0.8461072232725755,
          0.11653671785625787,
          0.007086700003462101,
          1.4953086293777886,
          0.47860169415181397,
          1.664144618858878
         ],
         "y": [
          3.077723829224201,
          1.389954204190396,
          0.8388560750501495,
          1.2626958918547169,
          1.9133860842519297,
          1.911150968483691,
          0.7587255185080987,
          1.8721314194480623,
          2.4257569107612893,
          0.22520901675075117,
          1.3910081469602869,
          0.8922485862943265,
          0.9479270814536005,
          1.0668633193304047,
          1.2773898037548916,
          2.447705788988847,
          2.151064561246474,
          1.3903462660428068,
          0.7626428212465014,
          1.0247704280518082,
          3.3705249648867923,
          1.445106615399053,
          2.38376557318115,
          1.4681139435689523,
          2.022234166391512,
          2.2375041407905196,
          2.375697233503445,
          1.8078679876637689,
          2.6603838596853446,
          2.124756386790702,
          1.859699404636751,
          1.5691632317562545,
          2.308392965319508,
          2.217548879563101,
          0.370127326784992,
          2.5596393442213867,
          1.4202204126787707,
          2.1584825070923324,
          2.37221591540541,
          2.2953550504699622,
          1.164790027595615,
          2.6822895258703667,
          2.096396676639342,
          1.7263642466768507,
          2.170818617348031,
          1.3633562761628033,
          2.304507740267409,
          1.4531115823371166,
          1.4081928230478125,
          1.931226411450629,
          0.7704426230116235,
          2.271007055838517,
          1.9413811889855515,
          3.86899360737887,
          2.821916083203686,
          1.9284535272304588,
          1.2693252939053872,
          2.224416799064716,
          1.404312716870386,
          -0.2609573971328153,
          0.6694970022937149,
          0.6198884845142795,
          1.4391087987312334,
          2.109903553709018,
          1.2655111176102596,
          1.215679449517407,
          1.9402783474077896,
          1.159191468922369
         ]
        },
        {
         "marker": {
          "colorscale": [
           [
            0,
            "rgb(161, 105, 40)"
           ],
           [
            0.16666666666666666,
            "rgb(189, 146, 90)"
           ],
           [
            0.3333333333333333,
            "rgb(214, 189, 141)"
           ],
           [
            0.5,
            "rgb(237, 234, 194)"
           ],
           [
            0.6666666666666666,
            "rgb(181, 200, 184)"
           ],
           [
            0.8333333333333334,
            "rgb(121, 167, 172)"
           ],
           [
            1,
            "rgb(40, 135, 161)"
           ]
          ],
          "line": {
           "width": 1
          },
          "size": 10
         },
         "mode": "markers",
         "name": "Cluster 2",
         "type": "scatter",
         "x": [
          2.3524167496170074,
          1.7789455429241248,
          2.741918921568584,
          3.254296966691013,
          2.530366352884851,
          2.7130243739203346,
          3.3489885805820854,
          4.117166964930116,
          4.14412844273494,
          3.3659255049316106,
          2.7126767802176612,
          3.0716452299668484,
          2.626145460795557,
          3.2603967160285197,
          2.704046991504905,
          2.5908477457733885,
          2.9540110968353703,
          4.459950064090986,
          3.8292495694565183,
          3.133650013321478,
          3.234714102084362,
          2.712564719484427,
          2.930940444500839,
          2.250574247691139,
          3.0975203328081173,
          3.077055667943965,
          3.8561582374743386,
          3.2083884241573255,
          3.6584941723647373,
          1.5529818269996651,
          2.058283892280504,
          3.4385493392723627,
          2.5844881469164136,
          3.1444572161466993,
          2.9252939819963206,
          3.2618267746097214,
          3.777587166366859,
          2.774639251547308,
          3.2426161773412163,
          2.5637437530436005,
          2.748729476307859,
          3.4911961964238096,
          3.929134404844403,
          2.815295465726684,
          3.6279962016789087,
          2.942729215100099,
          3.0272724323442417,
          2.7552216641236638,
          3.496335654070921
         ],
         "y": [
          0.10013996331769744,
          -0.17231476210599186,
          -0.37085724501241146,
          -0.2575634586273769,
          -0.3659886569795257,
          0.46387413536386357,
          -0.34556215869472984,
          -0.14197307905455173,
          -0.6472132363130769,
          -0.34041064434853835,
          -0.28746438214717895,
          -0.279805941404602,
          -0.36823287065160437,
          -0.4810908035436468,
          -0.4774598475326834,
          -1.15749986630474,
          -0.5578514991369735,
          -0.6354790078086747,
          -1.2623296179738255,
          -1.5646461381567784,
          -2.035324428431752,
          -2.3538795989707246,
          -2.041983528991168,
          -1.5279561439356462,
          -2.133481760037992,
          -0.4047909747456703,
          -1.792089432191089,
          -1.9188278825537115,
          -1.3025808161988144,
          -3.5190931117062796,
          -2.4075461028315113,
          -0.730543243393914,
          -1.1713283863620987,
          -0.5490358406118702,
          -0.6926568440345016,
          -1.548590567736051,
          -0.8723115459283634,
          -2.588704645216148,
          -1.2678478947047227,
          -2.074909270078241,
          -2.585082043781415,
          0.25946020079651716,
          -0.8373860282192255,
          -2.189336141261734,
          -2.2066170140009986,
          -1.752263201863882,
          -2.756040238792643,
          -2.293784082205697,
          -2.7606079900958647
         ]
        }
       ],
       "layout": {
        "autosize": false,
        "height": 700,
        "template": {
         "data": {
          "bar": [
           {
            "error_x": {
             "color": "#2a3f5f"
            },
            "error_y": {
             "color": "#2a3f5f"
            },
            "marker": {
             "line": {
              "color": "#E5ECF6",
              "width": 0.5
             }
            },
            "type": "bar"
           }
          ],
          "barpolar": [
           {
            "marker": {
             "line": {
              "color": "#E5ECF6",
              "width": 0.5
             }
            },
            "type": "barpolar"
           }
          ],
          "carpet": [
           {
            "aaxis": {
             "endlinecolor": "#2a3f5f",
             "gridcolor": "white",
             "linecolor": "white",
             "minorgridcolor": "white",
             "startlinecolor": "#2a3f5f"
            },
            "baxis": {
             "endlinecolor": "#2a3f5f",
             "gridcolor": "white",
             "linecolor": "white",
             "minorgridcolor": "white",
             "startlinecolor": "#2a3f5f"
            },
            "type": "carpet"
           }
          ],
          "choropleth": [
           {
            "colorbar": {
             "outlinewidth": 0,
             "ticks": ""
            },
            "type": "choropleth"
           }
          ],
          "contour": [
           {
            "colorbar": {
             "outlinewidth": 0,
             "ticks": ""
            },
            "colorscale": [
             [
              0,
              "#0d0887"
             ],
             [
              0.1111111111111111,
              "#46039f"
             ],
             [
              0.2222222222222222,
              "#7201a8"
             ],
             [
              0.3333333333333333,
              "#9c179e"
             ],
             [
              0.4444444444444444,
              "#bd3786"
             ],
             [
              0.5555555555555556,
              "#d8576b"
             ],
             [
              0.6666666666666666,
              "#ed7953"
             ],
             [
              0.7777777777777778,
              "#fb9f3a"
             ],
             [
              0.8888888888888888,
              "#fdca26"
             ],
             [
              1,
              "#f0f921"
             ]
            ],
            "type": "contour"
           }
          ],
          "contourcarpet": [
           {
            "colorbar": {
             "outlinewidth": 0,
             "ticks": ""
            },
            "type": "contourcarpet"
           }
          ],
          "heatmap": [
           {
            "colorbar": {
             "outlinewidth": 0,
             "ticks": ""
            },
            "colorscale": [
             [
              0,
              "#0d0887"
             ],
             [
              0.1111111111111111,
              "#46039f"
             ],
             [
              0.2222222222222222,
              "#7201a8"
             ],
             [
              0.3333333333333333,
              "#9c179e"
             ],
             [
              0.4444444444444444,
              "#bd3786"
             ],
             [
              0.5555555555555556,
              "#d8576b"
             ],
             [
              0.6666666666666666,
              "#ed7953"
             ],
             [
              0.7777777777777778,
              "#fb9f3a"
             ],
             [
              0.8888888888888888,
              "#fdca26"
             ],
             [
              1,
              "#f0f921"
             ]
            ],
            "type": "heatmap"
           }
          ],
          "heatmapgl": [
           {
            "colorbar": {
             "outlinewidth": 0,
             "ticks": ""
            },
            "colorscale": [
             [
              0,
              "#0d0887"
             ],
             [
              0.1111111111111111,
              "#46039f"
             ],
             [
              0.2222222222222222,
              "#7201a8"
             ],
             [
              0.3333333333333333,
              "#9c179e"
             ],
             [
              0.4444444444444444,
              "#bd3786"
             ],
             [
              0.5555555555555556,
              "#d8576b"
             ],
             [
              0.6666666666666666,
              "#ed7953"
             ],
             [
              0.7777777777777778,
              "#fb9f3a"
             ],
             [
              0.8888888888888888,
              "#fdca26"
             ],
             [
              1,
              "#f0f921"
             ]
            ],
            "type": "heatmapgl"
           }
          ],
          "histogram": [
           {
            "marker": {
             "colorbar": {
              "outlinewidth": 0,
              "ticks": ""
             }
            },
            "type": "histogram"
           }
          ],
          "histogram2d": [
           {
            "colorbar": {
             "outlinewidth": 0,
             "ticks": ""
            },
            "colorscale": [
             [
              0,
              "#0d0887"
             ],
             [
              0.1111111111111111,
              "#46039f"
             ],
             [
              0.2222222222222222,
              "#7201a8"
             ],
             [
              0.3333333333333333,
              "#9c179e"
             ],
             [
              0.4444444444444444,
              "#bd3786"
             ],
             [
              0.5555555555555556,
              "#d8576b"
             ],
             [
              0.6666666666666666,
              "#ed7953"
             ],
             [
              0.7777777777777778,
              "#fb9f3a"
             ],
             [
              0.8888888888888888,
              "#fdca26"
             ],
             [
              1,
              "#f0f921"
             ]
            ],
            "type": "histogram2d"
           }
          ],
          "histogram2dcontour": [
           {
            "colorbar": {
             "outlinewidth": 0,
             "ticks": ""
            },
            "colorscale": [
             [
              0,
              "#0d0887"
             ],
             [
              0.1111111111111111,
              "#46039f"
             ],
             [
              0.2222222222222222,
              "#7201a8"
             ],
             [
              0.3333333333333333,
              "#9c179e"
             ],
             [
              0.4444444444444444,
              "#bd3786"
             ],
             [
              0.5555555555555556,
              "#d8576b"
             ],
             [
              0.6666666666666666,
              "#ed7953"
             ],
             [
              0.7777777777777778,
              "#fb9f3a"
             ],
             [
              0.8888888888888888,
              "#fdca26"
             ],
             [
              1,
              "#f0f921"
             ]
            ],
            "type": "histogram2dcontour"
           }
          ],
          "mesh3d": [
           {
            "colorbar": {
             "outlinewidth": 0,
             "ticks": ""
            },
            "type": "mesh3d"
           }
          ],
          "parcoords": [
           {
            "line": {
             "colorbar": {
              "outlinewidth": 0,
              "ticks": ""
             }
            },
            "type": "parcoords"
           }
          ],
          "scatter": [
           {
            "marker": {
             "colorbar": {
              "outlinewidth": 0,
              "ticks": ""
             }
            },
            "type": "scatter"
           }
          ],
          "scatter3d": [
           {
            "line": {
             "colorbar": {
              "outlinewidth": 0,
              "ticks": ""
             }
            },
            "marker": {
             "colorbar": {
              "outlinewidth": 0,
              "ticks": ""
             }
            },
            "type": "scatter3d"
           }
          ],
          "scattercarpet": [
           {
            "marker": {
             "colorbar": {
              "outlinewidth": 0,
              "ticks": ""
             }
            },
            "type": "scattercarpet"
           }
          ],
          "scattergeo": [
           {
            "marker": {
             "colorbar": {
              "outlinewidth": 0,
              "ticks": ""
             }
            },
            "type": "scattergeo"
           }
          ],
          "scattergl": [
           {
            "marker": {
             "colorbar": {
              "outlinewidth": 0,
              "ticks": ""
             }
            },
            "type": "scattergl"
           }
          ],
          "scattermapbox": [
           {
            "marker": {
             "colorbar": {
              "outlinewidth": 0,
              "ticks": ""
             }
            },
            "type": "scattermapbox"
           }
          ],
          "scatterpolar": [
           {
            "marker": {
             "colorbar": {
              "outlinewidth": 0,
              "ticks": ""
             }
            },
            "type": "scatterpolar"
           }
          ],
          "scatterpolargl": [
           {
            "marker": {
             "colorbar": {
              "outlinewidth": 0,
              "ticks": ""
             }
            },
            "type": "scatterpolargl"
           }
          ],
          "scatterternary": [
           {
            "marker": {
             "colorbar": {
              "outlinewidth": 0,
              "ticks": ""
             }
            },
            "type": "scatterternary"
           }
          ],
          "surface": [
           {
            "colorbar": {
             "outlinewidth": 0,
             "ticks": ""
            },
            "colorscale": [
             [
              0,
              "#0d0887"
             ],
             [
              0.1111111111111111,
              "#46039f"
             ],
             [
              0.2222222222222222,
              "#7201a8"
             ],
             [
              0.3333333333333333,
              "#9c179e"
             ],
             [
              0.4444444444444444,
              "#bd3786"
             ],
             [
              0.5555555555555556,
              "#d8576b"
             ],
             [
              0.6666666666666666,
              "#ed7953"
             ],
             [
              0.7777777777777778,
              "#fb9f3a"
             ],
             [
              0.8888888888888888,
              "#fdca26"
             ],
             [
              1,
              "#f0f921"
             ]
            ],
            "type": "surface"
           }
          ],
          "table": [
           {
            "cells": {
             "fill": {
              "color": "#EBF0F8"
             },
             "line": {
              "color": "white"
             }
            },
            "header": {
             "fill": {
              "color": "#C8D4E3"
             },
             "line": {
              "color": "white"
             }
            },
            "type": "table"
           }
          ]
         },
         "layout": {
          "annotationdefaults": {
           "arrowcolor": "#2a3f5f",
           "arrowhead": 0,
           "arrowwidth": 1
          },
          "colorscale": {
           "diverging": [
            [
             0,
             "#8e0152"
            ],
            [
             0.1,
             "#c51b7d"
            ],
            [
             0.2,
             "#de77ae"
            ],
            [
             0.3,
             "#f1b6da"
            ],
            [
             0.4,
             "#fde0ef"
            ],
            [
             0.5,
             "#f7f7f7"
            ],
            [
             0.6,
             "#e6f5d0"
            ],
            [
             0.7,
             "#b8e186"
            ],
            [
             0.8,
             "#7fbc41"
            ],
            [
             0.9,
             "#4d9221"
            ],
            [
             1,
             "#276419"
            ]
           ],
           "sequential": [
            [
             0,
             "#0d0887"
            ],
            [
             0.1111111111111111,
             "#46039f"
            ],
            [
             0.2222222222222222,
             "#7201a8"
            ],
            [
             0.3333333333333333,
             "#9c179e"
            ],
            [
             0.4444444444444444,
             "#bd3786"
            ],
            [
             0.5555555555555556,
             "#d8576b"
            ],
            [
             0.6666666666666666,
             "#ed7953"
            ],
            [
             0.7777777777777778,
             "#fb9f3a"
            ],
            [
             0.8888888888888888,
             "#fdca26"
            ],
            [
             1,
             "#f0f921"
            ]
           ],
           "sequentialminus": [
            [
             0,
             "#0d0887"
            ],
            [
             0.1111111111111111,
             "#46039f"
            ],
            [
             0.2222222222222222,
             "#7201a8"
            ],
            [
             0.3333333333333333,
             "#9c179e"
            ],
            [
             0.4444444444444444,
             "#bd3786"
            ],
            [
             0.5555555555555556,
             "#d8576b"
            ],
            [
             0.6666666666666666,
             "#ed7953"
            ],
            [
             0.7777777777777778,
             "#fb9f3a"
            ],
            [
             0.8888888888888888,
             "#fdca26"
            ],
            [
             1,
             "#f0f921"
            ]
           ]
          },
          "colorway": [
           "#636efa",
           "#EF553B",
           "#00cc96",
           "#ab63fa",
           "#FFA15A",
           "#19d3f3",
           "#FF6692",
           "#B6E880",
           "#FF97FF",
           "#FECB52"
          ],
          "font": {
           "color": "#2a3f5f"
          },
          "geo": {
           "bgcolor": "white",
           "lakecolor": "white",
           "landcolor": "#E5ECF6",
           "showlakes": true,
           "showland": true,
           "subunitcolor": "white"
          },
          "hoverlabel": {
           "align": "left"
          },
          "hovermode": "closest",
          "mapbox": {
           "style": "light"
          },
          "paper_bgcolor": "white",
          "plot_bgcolor": "#E5ECF6",
          "polar": {
           "angularaxis": {
            "gridcolor": "white",
            "linecolor": "white",
            "ticks": ""
           },
           "bgcolor": "#E5ECF6",
           "radialaxis": {
            "gridcolor": "white",
            "linecolor": "white",
            "ticks": ""
           }
          },
          "scene": {
           "xaxis": {
            "backgroundcolor": "#E5ECF6",
            "gridcolor": "white",
            "gridwidth": 2,
            "linecolor": "white",
            "showbackground": true,
            "ticks": "",
            "zerolinecolor": "white"
           },
           "yaxis": {
            "backgroundcolor": "#E5ECF6",
            "gridcolor": "white",
            "gridwidth": 2,
            "linecolor": "white",
            "showbackground": true,
            "ticks": "",
            "zerolinecolor": "white"
           },
           "zaxis": {
            "backgroundcolor": "#E5ECF6",
            "gridcolor": "white",
            "gridwidth": 2,
            "linecolor": "white",
            "showbackground": true,
            "ticks": "",
            "zerolinecolor": "white"
           }
          },
          "shapedefaults": {
           "line": {
            "color": "#2a3f5f"
           }
          },
          "ternary": {
           "aaxis": {
            "gridcolor": "white",
            "linecolor": "white",
            "ticks": ""
           },
           "baxis": {
            "gridcolor": "white",
            "linecolor": "white",
            "ticks": ""
           },
           "bgcolor": "#E5ECF6",
           "caxis": {
            "gridcolor": "white",
            "linecolor": "white",
            "ticks": ""
           }
          },
          "title": {
           "x": 0.05
          },
          "xaxis": {
           "automargin": true,
           "gridcolor": "white",
           "linecolor": "white",
           "ticks": "",
           "zerolinecolor": "white",
           "zerolinewidth": 2
          },
          "yaxis": {
           "automargin": true,
           "gridcolor": "white",
           "linecolor": "white",
           "ticks": "",
           "zerolinecolor": "white",
           "zerolinewidth": 2
          }
         }
        },
        "title": {
         "font": {
          "size": 25
         },
         "text": "KMeans Cluster"
        },
        "width": 700,
        "xaxis": {
         "autorange": true,
         "range": [
          -5.0779827490415395,
          5.096357062332558
         ],
         "title": {
          "text": "component_1 (39.54% variance explained)"
         },
         "type": "linear",
         "zeroline": false
        },
        "yaxis": {
         "autorange": true,
         "range": [
          -4.042179383255118,
          4.392079878927709
         ],
         "title": {
          "text": "component_2 (17.84% variance explained)"
         },
         "type": "linear",
         "zeroline": false
        }
       }
      },
      "image/png": "[encoded data removed]",
      "text/html": [
       "<div>\n",
       "        \n",
       "        \n",
       "            <div id=\"92877b67-c4fc-4452-9dcf-ecd3d3753930\" class=\"plotly-graph-div\" style=\"height:700px; width:700px;\"></div>\n",
       "            <script type=\"text/javascript\">\n",
       "                require([\"plotly\"], function(Plotly) {\n",
       "                    window.PLOTLYENV=window.PLOTLYENV || {};\n",
       "                    \n",
       "                if (document.getElementById(\"92877b67-c4fc-4452-9dcf-ecd3d3753930\")) {\n",
       "                    Plotly.newPlot(\n",
       "                        '92877b67-c4fc-4452-9dcf-ecd3d3753930',\n",
       "                        [{\"marker\": {\"colorscale\": [[0.0, \"rgb(161, 105, 40)\"], [0.16666666666666666, \"rgb(189, 146, 90)\"], [0.3333333333333333, \"rgb(214, 189, 141)\"], [0.5, \"rgb(237, 234, 194)\"], [0.6666666666666666, \"rgb(181, 200, 184)\"], [0.8333333333333334, \"rgb(121, 167, 172)\"], [1.0, \"rgb(40, 135, 161)\"]], \"line\": {\"width\": 1}, \"size\": 10}, \"mode\": \"markers\", \"name\": \"Cluster 1\", \"type\": \"scatter\", \"x\": [-3.522933903081799, -2.5288580618463676, -2.785028984152026, -3.9225884077761357, -1.4075111119787518, -3.2881298147971303, -2.750577541367634, -2.3928665198696404, -2.7952563305466724, -3.0055966640025824, -3.678688554546913, -2.10963476717679, -2.438456361644709, -3.673494531851869, -4.441575750799967, -2.6089238700112487, -2.4754284592737488, -2.2262324346386526, -3.742269291543672, -2.394411499831793, -3.3365689534243885, -1.4814039908115557, -2.8280686727862183, -2.0077140461407574, -2.114636036069498, -1.397537507042347, -2.1334880279339403, -1.6297038265623096, -2.507607527611562, -2.5594831788057886, -2.7724445249572107, -2.9351337410654272, -1.9912484163578494, -2.2457098662822714, -1.7869862772732896, -2.2276386659731733, -1.7680284715998271, -1.5231779814686115, -1.872364942222543, -2.7971143437092594, -2.840935693150025, -1.1055721019048326, -3.3068948240619678, -0.9047984234222434, -2.3968356897732583, -1.5378123476239947, -2.9912164379372066, -3.0593163136602577, -2.318771457130337, -2.9594722867527725, -3.4121813013449414, -3.1163782669834204, -3.700211134938519, -2.5375482759877697, -2.4447892385945242, -2.7228145085222053, -2.985316773607038, -2.488146899219528, -3.3512866509434027, -2.2994571572085873, -2.2606073235493964], \"y\": [-1.4530984395358313, 0.3300192515214172, -1.0369359525889614, -2.7682102618438513, -0.8677730872653789, -2.1301751291512474, -1.1791699854279976, -1.6112823206534348, -0.923179516915517, -0.7962841694225432, -1.3125234207675547, -0.6129819864028357, -0.6785233100295273, -1.1401213551662461, -2.110319170328112, -1.6664180107095554, -2.3308967167384727, -1.6335901618386255, -2.5284052661988223, -1.0645294568044428, -0.7960127940285896, -0.24008547418839174, 0.08685755238892393, 0.5156164866057928, 0.3159205692449821, -0.9382152852892928, -0.6871020460371776, 0.09118403034427189, -0.6927498334195374, -0.19547289969892145, -1.2463527918093678, -1.478278833733573, -0.05325201449517684, -1.6346691048708584, -0.6974803860124373, -0.17928891851084133, -0.6578723083726185, -0.11222505343923461, 0.7693057594963643, -1.8088088734120098, -0.7861615668759242, -0.16588492491652107, -1.1639554686140792, -0.32607243245927875, 0.06690594469848699, -1.775077650427629, -1.197622547408979, -0.6538219576136092, -1.250236680698259, -1.7586036491081598, -0.17691580638574386, -0.752108734024334, -1.6230918691251957, -1.8785279338760252, -1.0207151556133724, -1.3352436903312164, -1.4436375861800772, -1.2154925032589663, -1.740602830376459, -0.2743585068741994, -0.18428636996603537]}, {\"marker\": {\"colorscale\": [[0.0, \"rgb(161, 105, 40)\"], [0.16666666666666666, \"rgb(189, 146, 90)\"], [0.3333333333333333, \"rgb(214, 189, 141)\"], [0.5, \"rgb(237, 234, 194)\"], [0.6666666666666666, \"rgb(181, 200, 184)\"], [0.8333333333333334, \"rgb(121, 167, 172)\"], [1.0, \"rgb(40, 135, 161)\"]], \"line\": {\"width\": 1}, \"size\": 10}, \"mode\": \"markers\", \"name\": \"Cluster 0\", \"type\": \"scatter\", \"x\": [0.8749250405094329, 1.4146607583905995, 1.713879155572143, -0.012296860656527731, -1.833101223331489, 0.5745359492118625, -0.7914711563862606, -2.0200314753595596, -0.14328097986623092, 0.7515076649843823, -1.7403257308074211, 1.4763004083985483, -1.4919777857723635, 0.6939668586318597, -1.6341313770491812, 0.8289993211530101, -0.3004317546738373, 1.3611781956286613, -1.0960485224074596, -0.31921973891355415, -0.6712575723174746, -0.9241109081104658, 0.467492043591586, -0.7182232497559667, -0.6982960422675997, 0.7645743933746579, 0.5282492286427201, 1.0378550746488293, 0.5214242504129987, 1.2533585938573952, 1.4607092605337524, 1.7912462937913707, -0.653304281588105, -0.836145100430653, 0.5554728283313044, -0.9149965048608719, -2.020983470996343, -1.2654267654096187, -0.7014322859995967, 0.530869785363804, 0.17615671827810653, 0.6427419694693173, -0.33770614321128356, 1.637211545576051, 0.3587726420408903, 1.513118742703069, -0.030096257014854206, -1.4094023621799234, -1.2182444358066, 0.2883146193551384, 1.1960976186198664, 0.45161818890488603, 0.47183885648253954, -0.42339908963770134, 0.26437652725350275, 0.13745846640962917, 2.2504766336669078, 0.5307449841402215, -0.6412873530902893, -1.184366906108585, 1.1069419459472478, 0.45864794388365027, -0.8461072232725755, 0.11653671785625787, 0.007086700003462101, 1.4953086293777886, 0.47860169415181397, 1.664144618858878], \"y\": [3.077723829224201, 1.389954204190396, 0.8388560750501495, 1.2626958918547169, 1.9133860842519297, 1.911150968483691, 0.7587255185080987, 1.8721314194480623, 2.4257569107612893, 0.22520901675075117, 1.3910081469602869, 0.8922485862943265, 0.9479270814536005, 1.0668633193304047, 1.2773898037548916, 2.447705788988847, 2.151064561246474, 1.3903462660428068, 0.7626428212465014, 1.0247704280518082, 3.3705249648867923, 1.445106615399053, 2.38376557318115, 1.4681139435689523, 2.022234166391512, 2.2375041407905196, 2.375697233503445, 1.8078679876637689, 2.6603838596853446, 2.124756386790702, 1.859699404636751, 1.5691632317562545, 2.308392965319508, 2.217548879563101, 0.370127326784992, 2.5596393442213867, 1.4202204126787707, 2.1584825070923324, 2.37221591540541, 2.2953550504699622, 1.164790027595615, 2.6822895258703667, 2.096396676639342, 1.7263642466768507, 2.170818617348031, 1.3633562761628033, 2.304507740267409, 1.4531115823371166, 1.4081928230478125, 1.931226411450629, 0.7704426230116235, 2.271007055838517, 1.9413811889855515, 3.86899360737887, 2.821916083203686, 1.9284535272304588, 1.2693252939053872, 2.224416799064716, 1.404312716870386, -0.2609573971328153, 0.6694970022937149, 0.6198884845142795, 1.4391087987312334, 2.109903553709018, 1.2655111176102596, 1.215679449517407, 1.9402783474077896, 1.159191468922369]}, {\"marker\": {\"colorscale\": [[0.0, \"rgb(161, 105, 40)\"], [0.16666666666666666, \"rgb(189, 146, 90)\"], [0.3333333333333333, \"rgb(214, 189, 141)\"], [0.5, \"rgb(237, 234, 194)\"], [0.6666666666666666, \"rgb(181, 200, 184)\"], [0.8333333333333334, \"rgb(121, 167, 172)\"], [1.0, \"rgb(40, 135, 161)\"]], \"line\": {\"width\": 1}, \"size\": 10}, \"mode\": \"markers\", \"name\": \"Cluster 2\", \"type\": \"scatter\", \"x\": [2.3524167496170074, 1.7789455429241248, 2.741918921568584, 3.254296966691013, 2.530366352884851, 2.7130243739203346, 3.3489885805820854, 4.117166964930116, 4.14412844273494, 3.3659255049316106, 2.7126767802176612, 3.0716452299668484, 2.626145460795557, 3.2603967160285197, 2.704046991504905, 2.5908477457733885, 2.9540110968353703, 4.459950064090986, 3.8292495694565183, 3.133650013321478, 3.234714102084362, 2.712564719484427, 2.930940444500839, 2.250574247691139, 3.0975203328081173, 3.077055667943965, 3.8561582374743386, 3.2083884241573255, 3.6584941723647373, 1.5529818269996651, 2.058283892280504, 3.4385493392723627, 2.5844881469164136, 3.1444572161466993, 2.9252939819963206, 3.2618267746097214, 3.777587166366859, 2.774639251547308, 3.2426161773412163, 2.5637437530436005, 2.748729476307859, 3.4911961964238096, 3.929134404844403, 2.815295465726684, 3.6279962016789087, 2.942729215100099, 3.0272724323442417, 2.7552216641236638, 3.496335654070921], \"y\": [0.10013996331769744, -0.17231476210599186, -0.37085724501241146, -0.2575634586273769, -0.3659886569795257, 0.46387413536386357, -0.34556215869472984, -0.14197307905455173, -0.6472132363130769, -0.34041064434853835, -0.28746438214717895, -0.279805941404602, -0.36823287065160437, -0.4810908035436468, -0.4774598475326834, -1.15749986630474, -0.5578514991369735, -0.6354790078086747, -1.2623296179738255, -1.5646461381567784, -2.035324428431752, -2.3538795989707246, -2.041983528991168, -1.5279561439356462, -2.133481760037992, -0.4047909747456703, -1.792089432191089, -1.9188278825537115, -1.3025808161988144, -3.5190931117062796, -2.4075461028315113, -0.730543243393914, -1.1713283863620987, -0.5490358406118702, -0.6926568440345016, -1.548590567736051, -0.8723115459283634, -2.588704645216148, -1.2678478947047227, -2.074909270078241, -2.585082043781415, 0.25946020079651716, -0.8373860282192255, -2.189336141261734, -2.2066170140009986, -1.752263201863882, -2.756040238792643, -2.293784082205697, -2.7606079900958647]}],\n",
       "                        {\"autosize\": false, \"height\": 700, \"template\": {\"data\": {\"bar\": [{\"error_x\": {\"color\": \"#2a3f5f\"}, \"error_y\": {\"color\": \"#2a3f5f\"}, \"marker\": {\"line\": {\"color\": \"#E5ECF6\", \"width\": 0.5}}, \"type\": \"bar\"}], \"barpolar\": [{\"marker\": {\"line\": {\"color\": \"#E5ECF6\", \"width\": 0.5}}, \"type\": \"barpolar\"}], \"carpet\": [{\"aaxis\": {\"endlinecolor\": \"#2a3f5f\", \"gridcolor\": \"white\", \"linecolor\": \"white\", \"minorgridcolor\": \"white\", \"startlinecolor\": \"#2a3f5f\"}, \"baxis\": {\"endlinecolor\": \"#2a3f5f\", \"gridcolor\": \"white\", \"linecolor\": \"white\", \"minorgridcolor\": \"white\", \"startlinecolor\": \"#2a3f5f\"}, \"type\": \"carpet\"}], \"choropleth\": [{\"colorbar\": {\"outlinewidth\": 0, \"ticks\": \"\"}, \"type\": \"choropleth\"}], \"contour\": [{\"colorbar\": {\"outlinewidth\": 0, \"ticks\": \"\"}, \"colorscale\": [[0.0, \"#0d0887\"], [0.1111111111111111, \"#46039f\"], [0.2222222222222222, \"#7201a8\"], [0.3333333333333333, \"#9c179e\"], [0.4444444444444444, \"#bd3786\"], [0.5555555555555556, \"#d8576b\"], [0.6666666666666666, \"#ed7953\"], [0.7777777777777778, \"#fb9f3a\"], [0.8888888888888888, \"#fdca26\"], [1.0, \"#f0f921\"]], \"type\": \"contour\"}], \"contourcarpet\": [{\"colorbar\": {\"outlinewidth\": 0, \"ticks\": \"\"}, \"type\": \"contourcarpet\"}], \"heatmap\": [{\"colorbar\": {\"outlinewidth\": 0, \"ticks\": \"\"}, \"colorscale\": [[0.0, \"#0d0887\"], [0.1111111111111111, \"#46039f\"], [0.2222222222222222, \"#7201a8\"], [0.3333333333333333, \"#9c179e\"], [0.4444444444444444, \"#bd3786\"], [0.5555555555555556, \"#d8576b\"], [0.6666666666666666, \"#ed7953\"], [0.7777777777777778, \"#fb9f3a\"], [0.8888888888888888, \"#fdca26\"], [1.0, \"#f0f921\"]], \"type\": \"heatmap\"}], \"heatmapgl\": [{\"colorbar\": {\"outlinewidth\": 0, \"ticks\": \"\"}, \"colorscale\": [[0.0, \"#0d0887\"], [0.1111111111111111, \"#46039f\"], [0.2222222222222222, \"#7201a8\"], [0.3333333333333333, \"#9c179e\"], [0.4444444444444444, \"#bd3786\"], [0.5555555555555556, \"#d8576b\"], [0.6666666666666666, \"#ed7953\"], [0.7777777777777778, \"#fb9f3a\"], [0.8888888888888888, \"#fdca26\"], [1.0, \"#f0f921\"]], \"type\": \"heatmapgl\"}], \"histogram\": [{\"marker\": {\"colorbar\": {\"outlinewidth\": 0, \"ticks\": \"\"}}, \"type\": \"histogram\"}], \"histogram2d\": [{\"colorbar\": {\"outlinewidth\": 0, \"ticks\": \"\"}, \"colorscale\": [[0.0, \"#0d0887\"], [0.1111111111111111, \"#46039f\"], [0.2222222222222222, \"#7201a8\"], [0.3333333333333333, \"#9c179e\"], [0.4444444444444444, \"#bd3786\"], [0.5555555555555556, \"#d8576b\"], [0.6666666666666666, \"#ed7953\"], [0.7777777777777778, \"#fb9f3a\"], [0.8888888888888888, \"#fdca26\"], [1.0, \"#f0f921\"]], \"type\": \"histogram2d\"}], \"histogram2dcontour\": [{\"colorbar\": {\"outlinewidth\": 0, \"ticks\": \"\"}, \"colorscale\": [[0.0, \"#0d0887\"], [0.1111111111111111, \"#46039f\"], [0.2222222222222222, \"#7201a8\"], [0.3333333333333333, \"#9c179e\"], [0.4444444444444444, \"#bd3786\"], [0.5555555555555556, \"#d8576b\"], [0.6666666666666666, \"#ed7953\"], [0.7777777777777778, \"#fb9f3a\"], [0.8888888888888888, \"#fdca26\"], [1.0, \"#f0f921\"]], \"type\": \"histogram2dcontour\"}], \"mesh3d\": [{\"colorbar\": {\"outlinewidth\": 0, \"ticks\": \"\"}, \"type\": \"mesh3d\"}], \"parcoords\": [{\"line\": {\"colorbar\": {\"outlinewidth\": 0, \"ticks\": \"\"}}, \"type\": \"parcoords\"}], \"scatter\": [{\"marker\": {\"colorbar\": {\"outlinewidth\": 0, \"ticks\": \"\"}}, \"type\": \"scatter\"}], \"scatter3d\": [{\"line\": {\"colorbar\": {\"outlinewidth\": 0, \"ticks\": \"\"}}, \"marker\": {\"colorbar\": {\"outlinewidth\": 0, \"ticks\": \"\"}}, \"type\": \"scatter3d\"}], \"scattercarpet\": [{\"marker\": {\"colorbar\": {\"outlinewidth\": 0, \"ticks\": \"\"}}, \"type\": \"scattercarpet\"}], \"scattergeo\": [{\"marker\": {\"colorbar\": {\"outlinewidth\": 0, \"ticks\": \"\"}}, \"type\": \"scattergeo\"}], \"scattergl\": [{\"marker\": {\"colorbar\": {\"outlinewidth\": 0, \"ticks\": \"\"}}, \"type\": \"scattergl\"}], \"scattermapbox\": [{\"marker\": {\"colorbar\": {\"outlinewidth\": 0, \"ticks\": \"\"}}, \"type\": \"scattermapbox\"}], \"scatterpolar\": [{\"marker\": {\"colorbar\": {\"outlinewidth\": 0, \"ticks\": \"\"}}, \"type\": \"scatterpolar\"}], \"scatterpolargl\": [{\"marker\": {\"colorbar\": {\"outlinewidth\": 0, \"ticks\": \"\"}}, \"type\": \"scatterpolargl\"}], \"scatterternary\": [{\"marker\": {\"colorbar\": {\"outlinewidth\": 0, \"ticks\": \"\"}}, \"type\": \"scatterternary\"}], \"surface\": [{\"colorbar\": {\"outlinewidth\": 0, \"ticks\": \"\"}, \"colorscale\": [[0.0, \"#0d0887\"], [0.1111111111111111, \"#46039f\"], [0.2222222222222222, \"#7201a8\"], [0.3333333333333333, \"#9c179e\"], [0.4444444444444444, \"#bd3786\"], [0.5555555555555556, \"#d8576b\"], [0.6666666666666666, \"#ed7953\"], [0.7777777777777778, \"#fb9f3a\"], [0.8888888888888888, \"#fdca26\"], [1.0, \"#f0f921\"]], \"type\": \"surface\"}], \"table\": [{\"cells\": {\"fill\": {\"color\": \"#EBF0F8\"}, \"line\": {\"color\": \"white\"}}, \"header\": {\"fill\": {\"color\": \"#C8D4E3\"}, \"line\": {\"color\": \"white\"}}, \"type\": \"table\"}]}, \"layout\": {\"annotationdefaults\": {\"arrowcolor\": \"#2a3f5f\", \"arrowhead\": 0, \"arrowwidth\": 1}, \"colorscale\": {\"diverging\": [[0, \"#8e0152\"], [0.1, \"#c51b7d\"], [0.2, \"#de77ae\"], [0.3, \"#f1b6da\"], [0.4, \"#fde0ef\"], [0.5, \"#f7f7f7\"], [0.6, \"#e6f5d0\"], [0.7, \"#b8e186\"], [0.8, \"#7fbc41\"], [0.9, \"#4d9221\"], [1, \"#276419\"]], \"sequential\": [[0.0, \"#0d0887\"], [0.1111111111111111, \"#46039f\"], [0.2222222222222222, \"#7201a8\"], [0.3333333333333333, \"#9c179e\"], [0.4444444444444444, \"#bd3786\"], [0.5555555555555556, \"#d8576b\"], [0.6666666666666666, \"#ed7953\"], [0.7777777777777778, \"#fb9f3a\"], [0.8888888888888888, \"#fdca26\"], [1.0, \"#f0f921\"]], \"sequentialminus\": [[0.0, \"#0d0887\"], [0.1111111111111111, \"#46039f\"], [0.2222222222222222, \"#7201a8\"], [0.3333333333333333, \"#9c179e\"], [0.4444444444444444, \"#bd3786\"], [0.5555555555555556, \"#d8576b\"], [0.6666666666666666, \"#ed7953\"], [0.7777777777777778, \"#fb9f3a\"], [0.8888888888888888, \"#fdca26\"], [1.0, \"#f0f921\"]]}, \"colorway\": [\"#636efa\", \"#EF553B\", \"#00cc96\", \"#ab63fa\", \"#FFA15A\", \"#19d3f3\", \"#FF6692\", \"#B6E880\", \"#FF97FF\", \"#FECB52\"], \"font\": {\"color\": \"#2a3f5f\"}, \"geo\": {\"bgcolor\": \"white\", \"lakecolor\": \"white\", \"landcolor\": \"#E5ECF6\", \"showlakes\": true, \"showland\": true, \"subunitcolor\": \"white\"}, \"hoverlabel\": {\"align\": \"left\"}, \"hovermode\": \"closest\", \"mapbox\": {\"style\": \"light\"}, \"paper_bgcolor\": \"white\", \"plot_bgcolor\": \"#E5ECF6\", \"polar\": {\"angularaxis\": {\"gridcolor\": \"white\", \"linecolor\": \"white\", \"ticks\": \"\"}, \"bgcolor\": \"#E5ECF6\", \"radialaxis\": {\"gridcolor\": \"white\", \"linecolor\": \"white\", \"ticks\": \"\"}}, \"scene\": {\"xaxis\": {\"backgroundcolor\": \"#E5ECF6\", \"gridcolor\": \"white\", \"gridwidth\": 2, \"linecolor\": \"white\", \"showbackground\": true, \"ticks\": \"\", \"zerolinecolor\": \"white\"}, \"yaxis\": {\"backgroundcolor\": \"#E5ECF6\", \"gridcolor\": \"white\", \"gridwidth\": 2, \"linecolor\": \"white\", \"showbackground\": true, \"ticks\": \"\", \"zerolinecolor\": \"white\"}, \"zaxis\": {\"backgroundcolor\": \"#E5ECF6\", \"gridcolor\": \"white\", \"gridwidth\": 2, \"linecolor\": \"white\", \"showbackground\": true, \"ticks\": \"\", \"zerolinecolor\": \"white\"}}, \"shapedefaults\": {\"line\": {\"color\": \"#2a3f5f\"}}, \"ternary\": {\"aaxis\": {\"gridcolor\": \"white\", \"linecolor\": \"white\", \"ticks\": \"\"}, \"baxis\": {\"gridcolor\": \"white\", \"linecolor\": \"white\", \"ticks\": \"\"}, \"bgcolor\": \"#E5ECF6\", \"caxis\": {\"gridcolor\": \"white\", \"linecolor\": \"white\", \"ticks\": \"\"}}, \"title\": {\"x\": 0.05}, \"xaxis\": {\"automargin\": true, \"gridcolor\": \"white\", \"linecolor\": \"white\", \"ticks\": \"\", \"zerolinecolor\": \"white\", \"zerolinewidth\": 2}, \"yaxis\": {\"automargin\": true, \"gridcolor\": \"white\", \"linecolor\": \"white\", \"ticks\": \"\", \"zerolinecolor\": \"white\", \"zerolinewidth\": 2}}}, \"title\": {\"font\": {\"size\": 25}, \"text\": \"KMeans Cluster\"}, \"width\": 700, \"xaxis\": {\"title\": {\"text\": \"component_1 (39.54% variance explained)\"}, \"zeroline\": false}, \"yaxis\": {\"title\": {\"text\": \"component_2 (17.84% variance explained)\"}, \"zeroline\": false}},\n",
       "                        {\"responsive\": true}\n",
       "                    ).then(function(){\n",
       "                            \n",
       "var gd = document.getElementById('92877b67-c4fc-4452-9dcf-ecd3d3753930');\n",
       "var x = new MutationObserver(function (mutations, observer) {{\n",
       "        var display = window.getComputedStyle(gd).display;\n",
       "        if (!display || display === 'none') {{\n",
       "            console.log([gd, 'removed!']);\n",
       "            Plotly.purge(gd);\n",
       "            observer.disconnect();\n",
       "        }}\n",
       "}});\n",
       "\n",
       "// Listen for the removal of the full notebook cells\n",
       "var notebookContainer = gd.closest('#notebook-container');\n",
       "if (notebookContainer) {{\n",
       "    x.observe(notebookContainer, {childList: true});\n",
       "}}\n",
       "\n",
       "// Listen for the clearing of the current output cell\n",
       "var outputEl = gd.closest('.output');\n",
       "if (outputEl) {{\n",
       "    x.observe(outputEl, {childList: true});\n",
       "}}\n",
       "\n",
       "                        })\n",
       "                };\n",
       "                });\n",
       "            </script>\n",
       "        </div>"
      ]
     },
     "metadata": {},
     "output_type": "display_data"
    }
   ],
   "source": [
    "iplot(plotly_object)"
   ]
  },
  {
   "cell_type": "markdown",
   "metadata": {},
   "source": [
    "## KMeans - Selecting number of clusters"
   ]
  },
  {
   "cell_type": "code",
   "execution_count": 9,
   "metadata": {},
   "outputs": [
    {
     "data": {
      "text/html": [
       "        <script type=\"text/javascript\">\n",
       "        window.PlotlyConfig = {MathJaxConfig: 'local'};\n",
       "        if (window.MathJax) {MathJax.Hub.Config({SVG: {font: \"STIX-Web\"}});}\n",
       "        if (typeof require !== 'undefined') {\n",
       "        require.undef(\"plotly\");\n",
       "        requirejs.config({\n",
       "            paths: {\n",
       "                'plotly': ['https://cdn.plot.ly/plotly-latest.min']\n",
       "            }\n",
       "        });\n",
       "        require(['plotly'], function(Plotly) {\n",
       "            window._Plotly = Plotly;\n",
       "        });\n",
       "        }\n",
       "        </script>\n",
       "        "
      ]
     },
     "metadata": {},
     "output_type": "display_data"
    },
    {
     "data": {
      "application/vnd.plotly.v1+json": {
       "config": {
        "linkText": "Export to plot.ly",
        "plotlyServerURL": "https://plot.ly",
        "showLink": false
       },
       "data": [
        {
         "marker": {
          "colorscale": [
           [
            0,
            "rgb(161, 105, 40)"
           ],
           [
            0.16666666666666666,
            "rgb(189, 146, 90)"
           ],
           [
            0.3333333333333333,
            "rgb(214, 189, 141)"
           ],
           [
            0.5,
            "rgb(237, 234, 194)"
           ],
           [
            0.6666666666666666,
            "rgb(181, 200, 184)"
           ],
           [
            0.8333333333333334,
            "rgb(121, 167, 172)"
           ],
           [
            1,
            "rgb(40, 135, 161)"
           ]
          ],
          "line": {
           "width": 1
          },
          "size": 10
         },
         "mode": "markers",
         "name": "Cluster 1",
         "type": "scatter",
         "x": [
          -3.522933903081799,
          -2.5288580618463676,
          -2.785028984152026,
          -3.9225884077761357,
          -1.4075111119787518,
          -3.2881298147971303,
          -2.750577541367634,
          -2.3928665198696404,
          -2.7952563305466724,
          -3.0055966640025824,
          -3.678688554546913,
          -2.10963476717679,
          -2.438456361644709,
          -3.673494531851869,
          -4.441575750799967,
          -2.6089238700112487,
          -2.4754284592737488,
          -2.2262324346386526,
          -3.742269291543672,
          -2.394411499831793,
          -3.3365689534243885,
          -1.4814039908115557,
          -2.8280686727862183,
          -2.0077140461407574,
          -2.114636036069498,
          -1.397537507042347,
          -2.1334880279339403,
          -1.6297038265623096,
          -2.507607527611562,
          -2.5594831788057886,
          -2.7724445249572107,
          -2.9351337410654272,
          -1.9912484163578494,
          -2.2457098662822714,
          -1.7869862772732896,
          -2.2276386659731733,
          -1.7680284715998271,
          -1.5231779814686115,
          -1.872364942222543,
          -2.7971143437092594,
          -2.840935693150025,
          -1.1055721019048326,
          -3.3068948240619678,
          -0.9047984234222434,
          -2.3968356897732583,
          -1.5378123476239947,
          -2.9912164379372066,
          -3.0593163136602577,
          -2.318771457130337,
          -2.9594722867527725,
          -3.4121813013449414,
          -3.1163782669834204,
          -3.700211134938519,
          -2.5375482759877697,
          -2.4447892385945242,
          -2.7228145085222053,
          -2.985316773607038,
          -2.488146899219528,
          -3.3512866509434027,
          0.8749250405094329,
          -0.012296860656527731,
          -1.833101223331489,
          0.5745359492118625,
          -0.7914711563862606,
          -2.0200314753595596,
          -0.14328097986623092,
          -1.7403257308074211,
          -1.4919777857723635,
          0.6939668586318597,
          -2.2994571572085873,
          -1.6341313770491812,
          0.8289993211530101,
          -0.3004317546738373,
          -1.0960485224074596,
          -0.31921973891355415,
          -0.6712575723174746,
          -0.9241109081104658,
          0.467492043591586,
          -0.7182232497559667,
          -0.6982960422675997,
          0.7645743933746579,
          0.5282492286427201,
          0.5214242504129987,
          -0.653304281588105,
          -0.836145100430653,
          -2.2606073235493964,
          0.5554728283313044,
          -0.9149965048608719,
          -2.020983470996343,
          -1.2654267654096187,
          -0.7014322859995967,
          0.530869785363804,
          0.17615671827810653,
          0.6427419694693173,
          -0.33770614321128356,
          0.3587726420408903,
          -0.030096257014854206,
          -1.4094023621799234,
          -1.2182444358066,
          0.2883146193551384,
          0.45161818890488603,
          0.47183885648253954,
          -0.42339908963770134,
          0.26437652725350275,
          0.13745846640962917,
          0.5307449841402215,
          -0.6412873530902893,
          -1.184366906108585,
          0.45864794388365027,
          -0.8461072232725755,
          0.11653671785625787,
          0.007086700003462101,
          0.47860169415181397
         ],
         "y": [
          -1.4530984395358313,
          0.3300192515214172,
          -1.0369359525889614,
          -2.7682102618438513,
          -0.8677730872653789,
          -2.1301751291512474,
          -1.1791699854279976,
          -1.6112823206534348,
          -0.923179516915517,
          -0.7962841694225432,
          -1.3125234207675547,
          -0.6129819864028357,
          -0.6785233100295273,
          -1.1401213551662461,
          -2.110319170328112,
          -1.6664180107095554,
          -2.3308967167384727,
          -1.6335901618386255,
          -2.5284052661988223,
          -1.0645294568044428,
          -0.7960127940285896,
          -0.24008547418839174,
          0.08685755238892393,
          0.5156164866057928,
          0.3159205692449821,
          -0.9382152852892928,
          -0.6871020460371776,
          0.09118403034427189,
          -0.6927498334195374,
          -0.19547289969892145,
          -1.2463527918093678,
          -1.478278833733573,
          -0.05325201449517684,
          -1.6346691048708584,
          -0.6974803860124373,
          -0.17928891851084133,
          -0.6578723083726185,
          -0.11222505343923461,
          0.7693057594963643,
          -1.8088088734120098,
          -0.7861615668759242,
          -0.16588492491652107,
          -1.1639554686140792,
          -0.32607243245927875,
          0.06690594469848699,
          -1.775077650427629,
          -1.197622547408979,
          -0.6538219576136092,
          -1.250236680698259,
          -1.7586036491081598,
          -0.17691580638574386,
          -0.752108734024334,
          -1.6230918691251957,
          -1.8785279338760252,
          -1.0207151556133724,
          -1.3352436903312164,
          -1.4436375861800772,
          -1.2154925032589663,
          -1.740602830376459,
          3.077723829224201,
          1.2626958918547169,
          1.9133860842519297,
          1.911150968483691,
          0.7587255185080987,
          1.8721314194480623,
          2.4257569107612893,
          1.3910081469602869,
          0.9479270814536005,
          1.0668633193304047,
          -0.2743585068741994,
          1.2773898037548916,
          2.447705788988847,
          2.151064561246474,
          0.7626428212465014,
          1.0247704280518082,
          3.3705249648867923,
          1.445106615399053,
          2.38376557318115,
          1.4681139435689523,
          2.022234166391512,
          2.2375041407905196,
          2.375697233503445,
          2.6603838596853446,
          2.308392965319508,
          2.217548879563101,
          -0.18428636996603537,
          0.370127326784992,
          2.5596393442213867,
          1.4202204126787707,
          2.1584825070923324,
          2.37221591540541,
          2.2953550504699622,
          1.164790027595615,
          2.6822895258703667,
          2.096396676639342,
          2.170818617348031,
          2.304507740267409,
          1.4531115823371166,
          1.4081928230478125,
          1.931226411450629,
          2.271007055838517,
          1.9413811889855515,
          3.86899360737887,
          2.821916083203686,
          1.9284535272304588,
          2.224416799064716,
          1.404312716870386,
          -0.2609573971328153,
          0.6198884845142795,
          1.4391087987312334,
          2.109903553709018,
          1.2655111176102596,
          1.9402783474077896
         ]
        },
        {
         "marker": {
          "colorscale": [
           [
            0,
            "rgb(161, 105, 40)"
           ],
           [
            0.16666666666666666,
            "rgb(189, 146, 90)"
           ],
           [
            0.3333333333333333,
            "rgb(214, 189, 141)"
           ],
           [
            0.5,
            "rgb(237, 234, 194)"
           ],
           [
            0.6666666666666666,
            "rgb(181, 200, 184)"
           ],
           [
            0.8333333333333334,
            "rgb(121, 167, 172)"
           ],
           [
            1,
            "rgb(40, 135, 161)"
           ]
          ],
          "line": {
           "width": 1
          },
          "size": 10
         },
         "mode": "markers",
         "name": "Cluster 0",
         "type": "scatter",
         "x": [
          1.4146607583905995,
          1.713879155572143,
          0.7515076649843823,
          1.4763004083985483,
          1.3611781956286613,
          2.3524167496170074,
          1.0378550746488293,
          1.2533585938573952,
          1.4607092605337524,
          1.7912462937913707,
          1.637211545576051,
          1.513118742703069,
          1.1960976186198664,
          2.2504766336669078,
          1.1069419459472478,
          1.4953086293777886,
          1.664144618858878,
          1.7789455429241248,
          2.741918921568584,
          3.254296966691013,
          2.530366352884851,
          2.7130243739203346,
          3.3489885805820854,
          4.117166964930116,
          4.14412844273494,
          3.3659255049316106,
          2.7126767802176612,
          3.0716452299668484,
          2.626145460795557,
          3.2603967160285197,
          2.704046991504905,
          2.5908477457733885,
          2.9540110968353703,
          4.459950064090986,
          3.8292495694565183,
          3.133650013321478,
          3.234714102084362,
          2.712564719484427,
          2.930940444500839,
          2.250574247691139,
          3.0975203328081173,
          3.077055667943965,
          3.8561582374743386,
          3.2083884241573255,
          3.6584941723647373,
          1.5529818269996651,
          2.058283892280504,
          3.4385493392723627,
          2.5844881469164136,
          3.1444572161466993,
          2.9252939819963206,
          3.2618267746097214,
          3.777587166366859,
          2.774639251547308,
          3.2426161773412163,
          2.5637437530436005,
          2.748729476307859,
          3.4911961964238096,
          3.929134404844403,
          2.815295465726684,
          3.6279962016789087,
          2.942729215100099,
          3.0272724323442417,
          2.7552216641236638,
          3.496335654070921
         ],
         "y": [
          1.389954204190396,
          0.8388560750501495,
          0.22520901675075117,
          0.8922485862943265,
          1.3903462660428068,
          0.10013996331769744,
          1.8078679876637689,
          2.124756386790702,
          1.859699404636751,
          1.5691632317562545,
          1.7263642466768507,
          1.3633562761628033,
          0.7704426230116235,
          1.2693252939053872,
          0.6694970022937149,
          1.215679449517407,
          1.159191468922369,
          -0.17231476210599186,
          -0.37085724501241146,
          -0.2575634586273769,
          -0.3659886569795257,
          0.46387413536386357,
          -0.34556215869472984,
          -0.14197307905455173,
          -0.6472132363130769,
          -0.34041064434853835,
          -0.28746438214717895,
          -0.279805941404602,
          -0.36823287065160437,
          -0.4810908035436468,
          -0.4774598475326834,
          -1.15749986630474,
          -0.5578514991369735,
          -0.6354790078086747,
          -1.2623296179738255,
          -1.5646461381567784,
          -2.035324428431752,
          -2.3538795989707246,
          -2.041983528991168,
          -1.5279561439356462,
          -2.133481760037992,
          -0.4047909747456703,
          -1.792089432191089,
          -1.9188278825537115,
          -1.3025808161988144,
          -3.5190931117062796,
          -2.4075461028315113,
          -0.730543243393914,
          -1.1713283863620987,
          -0.5490358406118702,
          -0.6926568440345016,
          -1.548590567736051,
          -0.8723115459283634,
          -2.588704645216148,
          -1.2678478947047227,
          -2.074909270078241,
          -2.585082043781415,
          0.25946020079651716,
          -0.8373860282192255,
          -2.189336141261734,
          -2.2066170140009986,
          -1.752263201863882,
          -2.756040238792643,
          -2.293784082205697,
          -2.7606079900958647
         ]
        }
       ],
       "layout": {
        "autosize": false,
        "height": 700,
        "template": {
         "data": {
          "bar": [
           {
            "error_x": {
             "color": "#2a3f5f"
            },
            "error_y": {
             "color": "#2a3f5f"
            },
            "marker": {
             "line": {
              "color": "#E5ECF6",
              "width": 0.5
             }
            },
            "type": "bar"
           }
          ],
          "barpolar": [
           {
            "marker": {
             "line": {
              "color": "#E5ECF6",
              "width": 0.5
             }
            },
            "type": "barpolar"
           }
          ],
          "carpet": [
           {
            "aaxis": {
             "endlinecolor": "#2a3f5f",
             "gridcolor": "white",
             "linecolor": "white",
             "minorgridcolor": "white",
             "startlinecolor": "#2a3f5f"
            },
            "baxis": {
             "endlinecolor": "#2a3f5f",
             "gridcolor": "white",
             "linecolor": "white",
             "minorgridcolor": "white",
             "startlinecolor": "#2a3f5f"
            },
            "type": "carpet"
           }
          ],
          "choropleth": [
           {
            "colorbar": {
             "outlinewidth": 0,
             "ticks": ""
            },
            "type": "choropleth"
           }
          ],
          "contour": [
           {
            "colorbar": {
             "outlinewidth": 0,
             "ticks": ""
            },
            "colorscale": [
             [
              0,
              "#0d0887"
             ],
             [
              0.1111111111111111,
              "#46039f"
             ],
             [
              0.2222222222222222,
              "#7201a8"
             ],
             [
              0.3333333333333333,
              "#9c179e"
             ],
             [
              0.4444444444444444,
              "#bd3786"
             ],
             [
              0.5555555555555556,
              "#d8576b"
             ],
             [
              0.6666666666666666,
              "#ed7953"
             ],
             [
              0.7777777777777778,
              "#fb9f3a"
             ],
             [
              0.8888888888888888,
              "#fdca26"
             ],
             [
              1,
              "#f0f921"
             ]
            ],
            "type": "contour"
           }
          ],
          "contourcarpet": [
           {
            "colorbar": {
             "outlinewidth": 0,
             "ticks": ""
            },
            "type": "contourcarpet"
           }
          ],
          "heatmap": [
           {
            "colorbar": {
             "outlinewidth": 0,
             "ticks": ""
            },
            "colorscale": [
             [
              0,
              "#0d0887"
             ],
             [
              0.1111111111111111,
              "#46039f"
             ],
             [
              0.2222222222222222,
              "#7201a8"
             ],
             [
              0.3333333333333333,
              "#9c179e"
             ],
             [
              0.4444444444444444,
              "#bd3786"
             ],
             [
              0.5555555555555556,
              "#d8576b"
             ],
             [
              0.6666666666666666,
              "#ed7953"
             ],
             [
              0.7777777777777778,
              "#fb9f3a"
             ],
             [
              0.8888888888888888,
              "#fdca26"
             ],
             [
              1,
              "#f0f921"
             ]
            ],
            "type": "heatmap"
           }
          ],
          "heatmapgl": [
           {
            "colorbar": {
             "outlinewidth": 0,
             "ticks": ""
            },
            "colorscale": [
             [
              0,
              "#0d0887"
             ],
             [
              0.1111111111111111,
              "#46039f"
             ],
             [
              0.2222222222222222,
              "#7201a8"
             ],
             [
              0.3333333333333333,
              "#9c179e"
             ],
             [
              0.4444444444444444,
              "#bd3786"
             ],
             [
              0.5555555555555556,
              "#d8576b"
             ],
             [
              0.6666666666666666,
              "#ed7953"
             ],
             [
              0.7777777777777778,
              "#fb9f3a"
             ],
             [
              0.8888888888888888,
              "#fdca26"
             ],
             [
              1,
              "#f0f921"
             ]
            ],
            "type": "heatmapgl"
           }
          ],
          "histogram": [
           {
            "marker": {
             "colorbar": {
              "outlinewidth": 0,
              "ticks": ""
             }
            },
            "type": "histogram"
           }
          ],
          "histogram2d": [
           {
            "colorbar": {
             "outlinewidth": 0,
             "ticks": ""
            },
            "colorscale": [
             [
              0,
              "#0d0887"
             ],
             [
              0.1111111111111111,
              "#46039f"
             ],
             [
              0.2222222222222222,
              "#7201a8"
             ],
             [
              0.3333333333333333,
              "#9c179e"
             ],
             [
              0.4444444444444444,
              "#bd3786"
             ],
             [
              0.5555555555555556,
              "#d8576b"
             ],
             [
              0.6666666666666666,
              "#ed7953"
             ],
             [
              0.7777777777777778,
              "#fb9f3a"
             ],
             [
              0.8888888888888888,
              "#fdca26"
             ],
             [
              1,
              "#f0f921"
             ]
            ],
            "type": "histogram2d"
           }
          ],
          "histogram2dcontour": [
           {
            "colorbar": {
             "outlinewidth": 0,
             "ticks": ""
            },
            "colorscale": [
             [
              0,
              "#0d0887"
             ],
             [
              0.1111111111111111,
              "#46039f"
             ],
             [
              0.2222222222222222,
              "#7201a8"
             ],
             [
              0.3333333333333333,
              "#9c179e"
             ],
             [
              0.4444444444444444,
              "#bd3786"
             ],
             [
              0.5555555555555556,
              "#d8576b"
             ],
             [
              0.6666666666666666,
              "#ed7953"
             ],
             [
              0.7777777777777778,
              "#fb9f3a"
             ],
             [
              0.8888888888888888,
              "#fdca26"
             ],
             [
              1,
              "#f0f921"
             ]
            ],
            "type": "histogram2dcontour"
           }
          ],
          "mesh3d": [
           {
            "colorbar": {
             "outlinewidth": 0,
             "ticks": ""
            },
            "type": "mesh3d"
           }
          ],
          "parcoords": [
           {
            "line": {
             "colorbar": {
              "outlinewidth": 0,
              "ticks": ""
             }
            },
            "type": "parcoords"
           }
          ],
          "scatter": [
           {
            "marker": {
             "colorbar": {
              "outlinewidth": 0,
              "ticks": ""
             }
            },
            "type": "scatter"
           }
          ],
          "scatter3d": [
           {
            "line": {
             "colorbar": {
              "outlinewidth": 0,
              "ticks": ""
             }
            },
            "marker": {
             "colorbar": {
              "outlinewidth": 0,
              "ticks": ""
             }
            },
            "type": "scatter3d"
           }
          ],
          "scattercarpet": [
           {
            "marker": {
             "colorbar": {
              "outlinewidth": 0,
              "ticks": ""
             }
            },
            "type": "scattercarpet"
           }
          ],
          "scattergeo": [
           {
            "marker": {
             "colorbar": {
              "outlinewidth": 0,
              "ticks": ""
             }
            },
            "type": "scattergeo"
           }
          ],
          "scattergl": [
           {
            "marker": {
             "colorbar": {
              "outlinewidth": 0,
              "ticks": ""
             }
            },
            "type": "scattergl"
           }
          ],
          "scattermapbox": [
           {
            "marker": {
             "colorbar": {
              "outlinewidth": 0,
              "ticks": ""
             }
            },
            "type": "scattermapbox"
           }
          ],
          "scatterpolar": [
           {
            "marker": {
             "colorbar": {
              "outlinewidth": 0,
              "ticks": ""
             }
            },
            "type": "scatterpolar"
           }
          ],
          "scatterpolargl": [
           {
            "marker": {
             "colorbar": {
              "outlinewidth": 0,
              "ticks": ""
             }
            },
            "type": "scatterpolargl"
           }
          ],
          "scatterternary": [
           {
            "marker": {
             "colorbar": {
              "outlinewidth": 0,
              "ticks": ""
             }
            },
            "type": "scatterternary"
           }
          ],
          "surface": [
           {
            "colorbar": {
             "outlinewidth": 0,
             "ticks": ""
            },
            "colorscale": [
             [
              0,
              "#0d0887"
             ],
             [
              0.1111111111111111,
              "#46039f"
             ],
             [
              0.2222222222222222,
              "#7201a8"
             ],
             [
              0.3333333333333333,
              "#9c179e"
             ],
             [
              0.4444444444444444,
              "#bd3786"
             ],
             [
              0.5555555555555556,
              "#d8576b"
             ],
             [
              0.6666666666666666,
              "#ed7953"
             ],
             [
              0.7777777777777778,
              "#fb9f3a"
             ],
             [
              0.8888888888888888,
              "#fdca26"
             ],
             [
              1,
              "#f0f921"
             ]
            ],
            "type": "surface"
           }
          ],
          "table": [
           {
            "cells": {
             "fill": {
              "color": "#EBF0F8"
             },
             "line": {
              "color": "white"
             }
            },
            "header": {
             "fill": {
              "color": "#C8D4E3"
             },
             "line": {
              "color": "white"
             }
            },
            "type": "table"
           }
          ]
         },
         "layout": {
          "annotationdefaults": {
           "arrowcolor": "#2a3f5f",
           "arrowhead": 0,
           "arrowwidth": 1
          },
          "colorscale": {
           "diverging": [
            [
             0,
             "#8e0152"
            ],
            [
             0.1,
             "#c51b7d"
            ],
            [
             0.2,
             "#de77ae"
            ],
            [
             0.3,
             "#f1b6da"
            ],
            [
             0.4,
             "#fde0ef"
            ],
            [
             0.5,
             "#f7f7f7"
            ],
            [
             0.6,
             "#e6f5d0"
            ],
            [
             0.7,
             "#b8e186"
            ],
            [
             0.8,
             "#7fbc41"
            ],
            [
             0.9,
             "#4d9221"
            ],
            [
             1,
             "#276419"
            ]
           ],
           "sequential": [
            [
             0,
             "#0d0887"
            ],
            [
             0.1111111111111111,
             "#46039f"
            ],
            [
             0.2222222222222222,
             "#7201a8"
            ],
            [
             0.3333333333333333,
             "#9c179e"
            ],
            [
             0.4444444444444444,
             "#bd3786"
            ],
            [
             0.5555555555555556,
             "#d8576b"
            ],
            [
             0.6666666666666666,
             "#ed7953"
            ],
            [
             0.7777777777777778,
             "#fb9f3a"
            ],
            [
             0.8888888888888888,
             "#fdca26"
            ],
            [
             1,
             "#f0f921"
            ]
           ],
           "sequentialminus": [
            [
             0,
             "#0d0887"
            ],
            [
             0.1111111111111111,
             "#46039f"
            ],
            [
             0.2222222222222222,
             "#7201a8"
            ],
            [
             0.3333333333333333,
             "#9c179e"
            ],
            [
             0.4444444444444444,
             "#bd3786"
            ],
            [
             0.5555555555555556,
             "#d8576b"
            ],
            [
             0.6666666666666666,
             "#ed7953"
            ],
            [
             0.7777777777777778,
             "#fb9f3a"
            ],
            [
             0.8888888888888888,
             "#fdca26"
            ],
            [
             1,
             "#f0f921"
            ]
           ]
          },
          "colorway": [
           "#636efa",
           "#EF553B",
           "#00cc96",
           "#ab63fa",
           "#FFA15A",
           "#19d3f3",
           "#FF6692",
           "#B6E880",
           "#FF97FF",
           "#FECB52"
          ],
          "font": {
           "color": "#2a3f5f"
          },
          "geo": {
           "bgcolor": "white",
           "lakecolor": "white",
           "landcolor": "#E5ECF6",
           "showlakes": true,
           "showland": true,
           "subunitcolor": "white"
          },
          "hoverlabel": {
           "align": "left"
          },
          "hovermode": "closest",
          "mapbox": {
           "style": "light"
          },
          "paper_bgcolor": "white",
          "plot_bgcolor": "#E5ECF6",
          "polar": {
           "angularaxis": {
            "gridcolor": "white",
            "linecolor": "white",
            "ticks": ""
           },
           "bgcolor": "#E5ECF6",
           "radialaxis": {
            "gridcolor": "white",
            "linecolor": "white",
            "ticks": ""
           }
          },
          "scene": {
           "xaxis": {
            "backgroundcolor": "#E5ECF6",
            "gridcolor": "white",
            "gridwidth": 2,
            "linecolor": "white",
            "showbackground": true,
            "ticks": "",
            "zerolinecolor": "white"
           },
           "yaxis": {
            "backgroundcolor": "#E5ECF6",
            "gridcolor": "white",
            "gridwidth": 2,
            "linecolor": "white",
            "showbackground": true,
            "ticks": "",
            "zerolinecolor": "white"
           },
           "zaxis": {
            "backgroundcolor": "#E5ECF6",
            "gridcolor": "white",
            "gridwidth": 2,
            "linecolor": "white",
            "showbackground": true,
            "ticks": "",
            "zerolinecolor": "white"
           }
          },
          "shapedefaults": {
           "line": {
            "color": "#2a3f5f"
           }
          },
          "ternary": {
           "aaxis": {
            "gridcolor": "white",
            "linecolor": "white",
            "ticks": ""
           },
           "baxis": {
            "gridcolor": "white",
            "linecolor": "white",
            "ticks": ""
           },
           "bgcolor": "#E5ECF6",
           "caxis": {
            "gridcolor": "white",
            "linecolor": "white",
            "ticks": ""
           }
          },
          "title": {
           "x": 0.05
          },
          "xaxis": {
           "automargin": true,
           "gridcolor": "white",
           "linecolor": "white",
           "ticks": "",
           "zerolinecolor": "white",
           "zerolinewidth": 2
          },
          "yaxis": {
           "automargin": true,
           "gridcolor": "white",
           "linecolor": "white",
           "ticks": "",
           "zerolinecolor": "white",
           "zerolinewidth": 2
          }
         }
        },
        "title": {
         "font": {
          "size": 25
         },
         "text": "KMeans Cluster"
        },
        "width": 700,
        "xaxis": {
         "autorange": true,
         "range": [
          -5.0779827490415395,
          5.096357062332558
         ],
         "title": {
          "text": "component_1 (39.54% variance explained)"
         },
         "type": "linear",
         "zeroline": false
        },
        "yaxis": {
         "autorange": true,
         "range": [
          -4.042179383255118,
          4.392079878927709
         ],
         "title": {
          "text": "component_2 (17.84% variance explained)"
         },
         "type": "linear",
         "zeroline": false
        }
       }
      },
      "image/png": "[encoded data removed]",
      "text/html": [
       "<div>\n",
       "        \n",
       "        \n",
       "            <div id=\"b18b1928-185b-4e27-9569-4371bcd75f2b\" class=\"plotly-graph-div\" style=\"height:700px; width:700px;\"></div>\n",
       "            <script type=\"text/javascript\">\n",
       "                require([\"plotly\"], function(Plotly) {\n",
       "                    window.PLOTLYENV=window.PLOTLYENV || {};\n",
       "                    \n",
       "                if (document.getElementById(\"b18b1928-185b-4e27-9569-4371bcd75f2b\")) {\n",
       "                    Plotly.newPlot(\n",
       "                        'b18b1928-185b-4e27-9569-4371bcd75f2b',\n",
       "                        [{\"marker\": {\"colorscale\": [[0.0, \"rgb(161, 105, 40)\"], [0.16666666666666666, \"rgb(189, 146, 90)\"], [0.3333333333333333, \"rgb(214, 189, 141)\"], [0.5, \"rgb(237, 234, 194)\"], [0.6666666666666666, \"rgb(181, 200, 184)\"], [0.8333333333333334, \"rgb(121, 167, 172)\"], [1.0, \"rgb(40, 135, 161)\"]], \"line\": {\"width\": 1}, \"size\": 10}, \"mode\": \"markers\", \"name\": \"Cluster 1\", \"type\": \"scatter\", \"x\": [-3.522933903081799, -2.5288580618463676, -2.785028984152026, -3.9225884077761357, -1.4075111119787518, -3.2881298147971303, -2.750577541367634, -2.3928665198696404, -2.7952563305466724, -3.0055966640025824, -3.678688554546913, -2.10963476717679, -2.438456361644709, -3.673494531851869, -4.441575750799967, -2.6089238700112487, -2.4754284592737488, -2.2262324346386526, -3.742269291543672, -2.394411499831793, -3.3365689534243885, -1.4814039908115557, -2.8280686727862183, -2.0077140461407574, -2.114636036069498, -1.397537507042347, -2.1334880279339403, -1.6297038265623096, -2.507607527611562, -2.5594831788057886, -2.7724445249572107, -2.9351337410654272, -1.9912484163578494, -2.2457098662822714, -1.7869862772732896, -2.2276386659731733, -1.7680284715998271, -1.5231779814686115, -1.872364942222543, -2.7971143437092594, -2.840935693150025, -1.1055721019048326, -3.3068948240619678, -0.9047984234222434, -2.3968356897732583, -1.5378123476239947, -2.9912164379372066, -3.0593163136602577, -2.318771457130337, -2.9594722867527725, -3.4121813013449414, -3.1163782669834204, -3.700211134938519, -2.5375482759877697, -2.4447892385945242, -2.7228145085222053, -2.985316773607038, -2.488146899219528, -3.3512866509434027, 0.8749250405094329, -0.012296860656527731, -1.833101223331489, 0.5745359492118625, -0.7914711563862606, -2.0200314753595596, -0.14328097986623092, -1.7403257308074211, -1.4919777857723635, 0.6939668586318597, -2.2994571572085873, -1.6341313770491812, 0.8289993211530101, -0.3004317546738373, -1.0960485224074596, -0.31921973891355415, -0.6712575723174746, -0.9241109081104658, 0.467492043591586, -0.7182232497559667, -0.6982960422675997, 0.7645743933746579, 0.5282492286427201, 0.5214242504129987, -0.653304281588105, -0.836145100430653, -2.2606073235493964, 0.5554728283313044, -0.9149965048608719, -2.020983470996343, -1.2654267654096187, -0.7014322859995967, 0.530869785363804, 0.17615671827810653, 0.6427419694693173, -0.33770614321128356, 0.3587726420408903, -0.030096257014854206, -1.4094023621799234, -1.2182444358066, 0.2883146193551384, 0.45161818890488603, 0.47183885648253954, -0.42339908963770134, 0.26437652725350275, 0.13745846640962917, 0.5307449841402215, -0.6412873530902893, -1.184366906108585, 0.45864794388365027, -0.8461072232725755, 0.11653671785625787, 0.007086700003462101, 0.47860169415181397], \"y\": [-1.4530984395358313, 0.3300192515214172, -1.0369359525889614, -2.7682102618438513, -0.8677730872653789, -2.1301751291512474, -1.1791699854279976, -1.6112823206534348, -0.923179516915517, -0.7962841694225432, -1.3125234207675547, -0.6129819864028357, -0.6785233100295273, -1.1401213551662461, -2.110319170328112, -1.6664180107095554, -2.3308967167384727, -1.6335901618386255, -2.5284052661988223, -1.0645294568044428, -0.7960127940285896, -0.24008547418839174, 0.08685755238892393, 0.5156164866057928, 0.3159205692449821, -0.9382152852892928, -0.6871020460371776, 0.09118403034427189, -0.6927498334195374, -0.19547289969892145, -1.2463527918093678, -1.478278833733573, -0.05325201449517684, -1.6346691048708584, -0.6974803860124373, -0.17928891851084133, -0.6578723083726185, -0.11222505343923461, 0.7693057594963643, -1.8088088734120098, -0.7861615668759242, -0.16588492491652107, -1.1639554686140792, -0.32607243245927875, 0.06690594469848699, -1.775077650427629, -1.197622547408979, -0.6538219576136092, -1.250236680698259, -1.7586036491081598, -0.17691580638574386, -0.752108734024334, -1.6230918691251957, -1.8785279338760252, -1.0207151556133724, -1.3352436903312164, -1.4436375861800772, -1.2154925032589663, -1.740602830376459, 3.077723829224201, 1.2626958918547169, 1.9133860842519297, 1.911150968483691, 0.7587255185080987, 1.8721314194480623, 2.4257569107612893, 1.3910081469602869, 0.9479270814536005, 1.0668633193304047, -0.2743585068741994, 1.2773898037548916, 2.447705788988847, 2.151064561246474, 0.7626428212465014, 1.0247704280518082, 3.3705249648867923, 1.445106615399053, 2.38376557318115, 1.4681139435689523, 2.022234166391512, 2.2375041407905196, 2.375697233503445, 2.6603838596853446, 2.308392965319508, 2.217548879563101, -0.18428636996603537, 0.370127326784992, 2.5596393442213867, 1.4202204126787707, 2.1584825070923324, 2.37221591540541, 2.2953550504699622, 1.164790027595615, 2.6822895258703667, 2.096396676639342, 2.170818617348031, 2.304507740267409, 1.4531115823371166, 1.4081928230478125, 1.931226411450629, 2.271007055838517, 1.9413811889855515, 3.86899360737887, 2.821916083203686, 1.9284535272304588, 2.224416799064716, 1.404312716870386, -0.2609573971328153, 0.6198884845142795, 1.4391087987312334, 2.109903553709018, 1.2655111176102596, 1.9402783474077896]}, {\"marker\": {\"colorscale\": [[0.0, \"rgb(161, 105, 40)\"], [0.16666666666666666, \"rgb(189, 146, 90)\"], [0.3333333333333333, \"rgb(214, 189, 141)\"], [0.5, \"rgb(237, 234, 194)\"], [0.6666666666666666, \"rgb(181, 200, 184)\"], [0.8333333333333334, \"rgb(121, 167, 172)\"], [1.0, \"rgb(40, 135, 161)\"]], \"line\": {\"width\": 1}, \"size\": 10}, \"mode\": \"markers\", \"name\": \"Cluster 0\", \"type\": \"scatter\", \"x\": [1.4146607583905995, 1.713879155572143, 0.7515076649843823, 1.4763004083985483, 1.3611781956286613, 2.3524167496170074, 1.0378550746488293, 1.2533585938573952, 1.4607092605337524, 1.7912462937913707, 1.637211545576051, 1.513118742703069, 1.1960976186198664, 2.2504766336669078, 1.1069419459472478, 1.4953086293777886, 1.664144618858878, 1.7789455429241248, 2.741918921568584, 3.254296966691013, 2.530366352884851, 2.7130243739203346, 3.3489885805820854, 4.117166964930116, 4.14412844273494, 3.3659255049316106, 2.7126767802176612, 3.0716452299668484, 2.626145460795557, 3.2603967160285197, 2.704046991504905, 2.5908477457733885, 2.9540110968353703, 4.459950064090986, 3.8292495694565183, 3.133650013321478, 3.234714102084362, 2.712564719484427, 2.930940444500839, 2.250574247691139, 3.0975203328081173, 3.077055667943965, 3.8561582374743386, 3.2083884241573255, 3.6584941723647373, 1.5529818269996651, 2.058283892280504, 3.4385493392723627, 2.5844881469164136, 3.1444572161466993, 2.9252939819963206, 3.2618267746097214, 3.777587166366859, 2.774639251547308, 3.2426161773412163, 2.5637437530436005, 2.748729476307859, 3.4911961964238096, 3.929134404844403, 2.815295465726684, 3.6279962016789087, 2.942729215100099, 3.0272724323442417, 2.7552216641236638, 3.496335654070921], \"y\": [1.389954204190396, 0.8388560750501495, 0.22520901675075117, 0.8922485862943265, 1.3903462660428068, 0.10013996331769744, 1.8078679876637689, 2.124756386790702, 1.859699404636751, 1.5691632317562545, 1.7263642466768507, 1.3633562761628033, 0.7704426230116235, 1.2693252939053872, 0.6694970022937149, 1.215679449517407, 1.159191468922369, -0.17231476210599186, -0.37085724501241146, -0.2575634586273769, -0.3659886569795257, 0.46387413536386357, -0.34556215869472984, -0.14197307905455173, -0.6472132363130769, -0.34041064434853835, -0.28746438214717895, -0.279805941404602, -0.36823287065160437, -0.4810908035436468, -0.4774598475326834, -1.15749986630474, -0.5578514991369735, -0.6354790078086747, -1.2623296179738255, -1.5646461381567784, -2.035324428431752, -2.3538795989707246, -2.041983528991168, -1.5279561439356462, -2.133481760037992, -0.4047909747456703, -1.792089432191089, -1.9188278825537115, -1.3025808161988144, -3.5190931117062796, -2.4075461028315113, -0.730543243393914, -1.1713283863620987, -0.5490358406118702, -0.6926568440345016, -1.548590567736051, -0.8723115459283634, -2.588704645216148, -1.2678478947047227, -2.074909270078241, -2.585082043781415, 0.25946020079651716, -0.8373860282192255, -2.189336141261734, -2.2066170140009986, -1.752263201863882, -2.756040238792643, -2.293784082205697, -2.7606079900958647]}],\n",
       "                        {\"autosize\": false, \"height\": 700, \"template\": {\"data\": {\"bar\": [{\"error_x\": {\"color\": \"#2a3f5f\"}, \"error_y\": {\"color\": \"#2a3f5f\"}, \"marker\": {\"line\": {\"color\": \"#E5ECF6\", \"width\": 0.5}}, \"type\": \"bar\"}], \"barpolar\": [{\"marker\": {\"line\": {\"color\": \"#E5ECF6\", \"width\": 0.5}}, \"type\": \"barpolar\"}], \"carpet\": [{\"aaxis\": {\"endlinecolor\": \"#2a3f5f\", \"gridcolor\": \"white\", \"linecolor\": \"white\", \"minorgridcolor\": \"white\", \"startlinecolor\": \"#2a3f5f\"}, \"baxis\": {\"endlinecolor\": \"#2a3f5f\", \"gridcolor\": \"white\", \"linecolor\": \"white\", \"minorgridcolor\": \"white\", \"startlinecolor\": \"#2a3f5f\"}, \"type\": \"carpet\"}], \"choropleth\": [{\"colorbar\": {\"outlinewidth\": 0, \"ticks\": \"\"}, \"type\": \"choropleth\"}], \"contour\": [{\"colorbar\": {\"outlinewidth\": 0, \"ticks\": \"\"}, \"colorscale\": [[0.0, \"#0d0887\"], [0.1111111111111111, \"#46039f\"], [0.2222222222222222, \"#7201a8\"], [0.3333333333333333, \"#9c179e\"], [0.4444444444444444, \"#bd3786\"], [0.5555555555555556, \"#d8576b\"], [0.6666666666666666, \"#ed7953\"], [0.7777777777777778, \"#fb9f3a\"], [0.8888888888888888, \"#fdca26\"], [1.0, \"#f0f921\"]], \"type\": \"contour\"}], \"contourcarpet\": [{\"colorbar\": {\"outlinewidth\": 0, \"ticks\": \"\"}, \"type\": \"contourcarpet\"}], \"heatmap\": [{\"colorbar\": {\"outlinewidth\": 0, \"ticks\": \"\"}, \"colorscale\": [[0.0, \"#0d0887\"], [0.1111111111111111, \"#46039f\"], [0.2222222222222222, \"#7201a8\"], [0.3333333333333333, \"#9c179e\"], [0.4444444444444444, \"#bd3786\"], [0.5555555555555556, \"#d8576b\"], [0.6666666666666666, \"#ed7953\"], [0.7777777777777778, \"#fb9f3a\"], [0.8888888888888888, \"#fdca26\"], [1.0, \"#f0f921\"]], \"type\": \"heatmap\"}], \"heatmapgl\": [{\"colorbar\": {\"outlinewidth\": 0, \"ticks\": \"\"}, \"colorscale\": [[0.0, \"#0d0887\"], [0.1111111111111111, \"#46039f\"], [0.2222222222222222, \"#7201a8\"], [0.3333333333333333, \"#9c179e\"], [0.4444444444444444, \"#bd3786\"], [0.5555555555555556, \"#d8576b\"], [0.6666666666666666, \"#ed7953\"], [0.7777777777777778, \"#fb9f3a\"], [0.8888888888888888, \"#fdca26\"], [1.0, \"#f0f921\"]], \"type\": \"heatmapgl\"}], \"histogram\": [{\"marker\": {\"colorbar\": {\"outlinewidth\": 0, \"ticks\": \"\"}}, \"type\": \"histogram\"}], \"histogram2d\": [{\"colorbar\": {\"outlinewidth\": 0, \"ticks\": \"\"}, \"colorscale\": [[0.0, \"#0d0887\"], [0.1111111111111111, \"#46039f\"], [0.2222222222222222, \"#7201a8\"], [0.3333333333333333, \"#9c179e\"], [0.4444444444444444, \"#bd3786\"], [0.5555555555555556, \"#d8576b\"], [0.6666666666666666, \"#ed7953\"], [0.7777777777777778, \"#fb9f3a\"], [0.8888888888888888, \"#fdca26\"], [1.0, \"#f0f921\"]], \"type\": \"histogram2d\"}], \"histogram2dcontour\": [{\"colorbar\": {\"outlinewidth\": 0, \"ticks\": \"\"}, \"colorscale\": [[0.0, \"#0d0887\"], [0.1111111111111111, \"#46039f\"], [0.2222222222222222, \"#7201a8\"], [0.3333333333333333, \"#9c179e\"], [0.4444444444444444, \"#bd3786\"], [0.5555555555555556, \"#d8576b\"], [0.6666666666666666, \"#ed7953\"], [0.7777777777777778, \"#fb9f3a\"], [0.8888888888888888, \"#fdca26\"], [1.0, \"#f0f921\"]], \"type\": \"histogram2dcontour\"}], \"mesh3d\": [{\"colorbar\": {\"outlinewidth\": 0, \"ticks\": \"\"}, \"type\": \"mesh3d\"}], \"parcoords\": [{\"line\": {\"colorbar\": {\"outlinewidth\": 0, \"ticks\": \"\"}}, \"type\": \"parcoords\"}], \"scatter\": [{\"marker\": {\"colorbar\": {\"outlinewidth\": 0, \"ticks\": \"\"}}, \"type\": \"scatter\"}], \"scatter3d\": [{\"line\": {\"colorbar\": {\"outlinewidth\": 0, \"ticks\": \"\"}}, \"marker\": {\"colorbar\": {\"outlinewidth\": 0, \"ticks\": \"\"}}, \"type\": \"scatter3d\"}], \"scattercarpet\": [{\"marker\": {\"colorbar\": {\"outlinewidth\": 0, \"ticks\": \"\"}}, \"type\": \"scattercarpet\"}], \"scattergeo\": [{\"marker\": {\"colorbar\": {\"outlinewidth\": 0, \"ticks\": \"\"}}, \"type\": \"scattergeo\"}], \"scattergl\": [{\"marker\": {\"colorbar\": {\"outlinewidth\": 0, \"ticks\": \"\"}}, \"type\": \"scattergl\"}], \"scattermapbox\": [{\"marker\": {\"colorbar\": {\"outlinewidth\": 0, \"ticks\": \"\"}}, \"type\": \"scattermapbox\"}], \"scatterpolar\": [{\"marker\": {\"colorbar\": {\"outlinewidth\": 0, \"ticks\": \"\"}}, \"type\": \"scatterpolar\"}], \"scatterpolargl\": [{\"marker\": {\"colorbar\": {\"outlinewidth\": 0, \"ticks\": \"\"}}, \"type\": \"scatterpolargl\"}], \"scatterternary\": [{\"marker\": {\"colorbar\": {\"outlinewidth\": 0, \"ticks\": \"\"}}, \"type\": \"scatterternary\"}], \"surface\": [{\"colorbar\": {\"outlinewidth\": 0, \"ticks\": \"\"}, \"colorscale\": [[0.0, \"#0d0887\"], [0.1111111111111111, \"#46039f\"], [0.2222222222222222, \"#7201a8\"], [0.3333333333333333, \"#9c179e\"], [0.4444444444444444, \"#bd3786\"], [0.5555555555555556, \"#d8576b\"], [0.6666666666666666, \"#ed7953\"], [0.7777777777777778, \"#fb9f3a\"], [0.8888888888888888, \"#fdca26\"], [1.0, \"#f0f921\"]], \"type\": \"surface\"}], \"table\": [{\"cells\": {\"fill\": {\"color\": \"#EBF0F8\"}, \"line\": {\"color\": \"white\"}}, \"header\": {\"fill\": {\"color\": \"#C8D4E3\"}, \"line\": {\"color\": \"white\"}}, \"type\": \"table\"}]}, \"layout\": {\"annotationdefaults\": {\"arrowcolor\": \"#2a3f5f\", \"arrowhead\": 0, \"arrowwidth\": 1}, \"colorscale\": {\"diverging\": [[0, \"#8e0152\"], [0.1, \"#c51b7d\"], [0.2, \"#de77ae\"], [0.3, \"#f1b6da\"], [0.4, \"#fde0ef\"], [0.5, \"#f7f7f7\"], [0.6, \"#e6f5d0\"], [0.7, \"#b8e186\"], [0.8, \"#7fbc41\"], [0.9, \"#4d9221\"], [1, \"#276419\"]], \"sequential\": [[0.0, \"#0d0887\"], [0.1111111111111111, \"#46039f\"], [0.2222222222222222, \"#7201a8\"], [0.3333333333333333, \"#9c179e\"], [0.4444444444444444, \"#bd3786\"], [0.5555555555555556, \"#d8576b\"], [0.6666666666666666, \"#ed7953\"], [0.7777777777777778, \"#fb9f3a\"], [0.8888888888888888, \"#fdca26\"], [1.0, \"#f0f921\"]], \"sequentialminus\": [[0.0, \"#0d0887\"], [0.1111111111111111, \"#46039f\"], [0.2222222222222222, \"#7201a8\"], [0.3333333333333333, \"#9c179e\"], [0.4444444444444444, \"#bd3786\"], [0.5555555555555556, \"#d8576b\"], [0.6666666666666666, \"#ed7953\"], [0.7777777777777778, \"#fb9f3a\"], [0.8888888888888888, \"#fdca26\"], [1.0, \"#f0f921\"]]}, \"colorway\": [\"#636efa\", \"#EF553B\", \"#00cc96\", \"#ab63fa\", \"#FFA15A\", \"#19d3f3\", \"#FF6692\", \"#B6E880\", \"#FF97FF\", \"#FECB52\"], \"font\": {\"color\": \"#2a3f5f\"}, \"geo\": {\"bgcolor\": \"white\", \"lakecolor\": \"white\", \"landcolor\": \"#E5ECF6\", \"showlakes\": true, \"showland\": true, \"subunitcolor\": \"white\"}, \"hoverlabel\": {\"align\": \"left\"}, \"hovermode\": \"closest\", \"mapbox\": {\"style\": \"light\"}, \"paper_bgcolor\": \"white\", \"plot_bgcolor\": \"#E5ECF6\", \"polar\": {\"angularaxis\": {\"gridcolor\": \"white\", \"linecolor\": \"white\", \"ticks\": \"\"}, \"bgcolor\": \"#E5ECF6\", \"radialaxis\": {\"gridcolor\": \"white\", \"linecolor\": \"white\", \"ticks\": \"\"}}, \"scene\": {\"xaxis\": {\"backgroundcolor\": \"#E5ECF6\", \"gridcolor\": \"white\", \"gridwidth\": 2, \"linecolor\": \"white\", \"showbackground\": true, \"ticks\": \"\", \"zerolinecolor\": \"white\"}, \"yaxis\": {\"backgroundcolor\": \"#E5ECF6\", \"gridcolor\": \"white\", \"gridwidth\": 2, \"linecolor\": \"white\", \"showbackground\": true, \"ticks\": \"\", \"zerolinecolor\": \"white\"}, \"zaxis\": {\"backgroundcolor\": \"#E5ECF6\", \"gridcolor\": \"white\", \"gridwidth\": 2, \"linecolor\": \"white\", \"showbackground\": true, \"ticks\": \"\", \"zerolinecolor\": \"white\"}}, \"shapedefaults\": {\"line\": {\"color\": \"#2a3f5f\"}}, \"ternary\": {\"aaxis\": {\"gridcolor\": \"white\", \"linecolor\": \"white\", \"ticks\": \"\"}, \"baxis\": {\"gridcolor\": \"white\", \"linecolor\": \"white\", \"ticks\": \"\"}, \"bgcolor\": \"#E5ECF6\", \"caxis\": {\"gridcolor\": \"white\", \"linecolor\": \"white\", \"ticks\": \"\"}}, \"title\": {\"x\": 0.05}, \"xaxis\": {\"automargin\": true, \"gridcolor\": \"white\", \"linecolor\": \"white\", \"ticks\": \"\", \"zerolinecolor\": \"white\", \"zerolinewidth\": 2}, \"yaxis\": {\"automargin\": true, \"gridcolor\": \"white\", \"linecolor\": \"white\", \"ticks\": \"\", \"zerolinecolor\": \"white\", \"zerolinewidth\": 2}}}, \"title\": {\"font\": {\"size\": 25}, \"text\": \"KMeans Cluster\"}, \"width\": 700, \"xaxis\": {\"title\": {\"text\": \"component_1 (39.54% variance explained)\"}, \"zeroline\": false}, \"yaxis\": {\"title\": {\"text\": \"component_2 (17.84% variance explained)\"}, \"zeroline\": false}},\n",
       "                        {\"responsive\": true}\n",
       "                    ).then(function(){\n",
       "                            \n",
       "var gd = document.getElementById('b18b1928-185b-4e27-9569-4371bcd75f2b');\n",
       "var x = new MutationObserver(function (mutations, observer) {{\n",
       "        var display = window.getComputedStyle(gd).display;\n",
       "        if (!display || display === 'none') {{\n",
       "            console.log([gd, 'removed!']);\n",
       "            Plotly.purge(gd);\n",
       "            observer.disconnect();\n",
       "        }}\n",
       "}});\n",
       "\n",
       "// Listen for the removal of the full notebook cells\n",
       "var notebookContainer = gd.closest('#notebook-container');\n",
       "if (notebookContainer) {{\n",
       "    x.observe(notebookContainer, {childList: true});\n",
       "}}\n",
       "\n",
       "// Listen for the clearing of the current output cell\n",
       "var outputEl = gd.closest('.output');\n",
       "if (outputEl) {{\n",
       "    x.observe(outputEl, {childList: true});\n",
       "}}\n",
       "\n",
       "                        })\n",
       "                };\n",
       "                });\n",
       "            </script>\n",
       "        </div>"
      ]
     },
     "metadata": {},
     "output_type": "display_data"
    }
   ],
   "source": [
    "cluster(df, kwargs={'n_clusters':2})"
   ]
  },
  {
   "cell_type": "markdown",
   "metadata": {},
   "source": [
    "## KMeans static plot using a different metric for optimal clusters"
   ]
  },
  {
   "cell_type": "code",
   "execution_count": 10,
   "metadata": {},
   "outputs": [
    {
     "data": {
      "image/png": "[encoded data removed]",
      "text/plain": [
       "<Figure size 792x648 with 1 Axes>"
      ]
     },
     "metadata": {
      "needs_background": "light"
     },
     "output_type": "display_data"
    },
    {
     "data": {
      "text/plain": [
       "<seaborn.axisgrid.FacetGrid at 0x12d5ebe3ba8>"
      ]
     },
     "execution_count": 10,
     "metadata": {},
     "output_type": "execute_result"
    },
    {
     "data": {
      "image/png": "[encoded data removed]",
      "text/plain": [
       "<Figure size 792x648 with 1 Axes>"
      ]
     },
     "metadata": {
      "needs_background": "light"
     },
     "output_type": "display_data"
    }
   ],
   "source": [
    "cluster(df, target='Target', interactive=False, elbow=True, analysis='adjusted_rand_score')"
   ]
  },
  {
   "cell_type": "markdown",
   "metadata": {},
   "source": [
    "## HDBSCAN with t-SNE selected\n"
   ]
  },
  {
   "cell_type": "code",
   "execution_count": 11,
   "metadata": {},
   "outputs": [
    {
     "data": {
      "text/html": [
       "        <script type=\"text/javascript\">\n",
       "        window.PlotlyConfig = {MathJaxConfig: 'local'};\n",
       "        if (window.MathJax) {MathJax.Hub.Config({SVG: {font: \"STIX-Web\"}});}\n",
       "        if (typeof require !== 'undefined') {\n",
       "        require.undef(\"plotly\");\n",
       "        requirejs.config({\n",
       "            paths: {\n",
       "                'plotly': ['https://cdn.plot.ly/plotly-latest.min']\n",
       "            }\n",
       "        });\n",
       "        require(['plotly'], function(Plotly) {\n",
       "            window._Plotly = Plotly;\n",
       "        });\n",
       "        }\n",
       "        </script>\n",
       "        "
      ]
     },
     "metadata": {},
     "output_type": "display_data"
    },
    {
     "data": {
      "application/vnd.plotly.v1+json": {
       "config": {
        "linkText": "Export to plot.ly",
        "plotlyServerURL": "https://plot.ly",
        "showLink": false
       },
       "data": [
        {
         "marker": {
          "colorscale": [
           [
            0,
            "rgb(161, 105, 40)"
           ],
           [
            0.16666666666666666,
            "rgb(189, 146, 90)"
           ],
           [
            0.3333333333333333,
            "rgb(214, 189, 141)"
           ],
           [
            0.5,
            "rgb(237, 234, 194)"
           ],
           [
            0.6666666666666666,
            "rgb(181, 200, 184)"
           ],
           [
            0.8333333333333334,
            "rgb(121, 167, 172)"
           ],
           [
            1,
            "rgb(40, 135, 161)"
           ]
          ],
          "line": {
           "width": 1
          },
          "size": 10
         },
         "mode": "markers",
         "name": "Cluster 1",
         "type": "scatter",
         "x": [
          13.362082481384277,
          7.614982604980469,
          10.785046577453613,
          13.646588325500488,
          6.982819080352783,
          12.933856010437012,
          10.286088943481445,
          8.714098930358887,
          10.905324935913086,
          11.627729415893555,
          11.972405433654785,
          9.20927619934082,
          9.689129829406738,
          9.485979080200195,
          10.001043319702148,
          9.619839668273926,
          12.872049331665039,
          11.771188735961914,
          13.068999290466309,
          9.163907051086426,
          9.740407943725586,
          8.629447937011719,
          8.886247634887695,
          9.113778114318848,
          7.747613430023193,
          7.855149269104004,
          10.318921089172363,
          10.790640830993652,
          11.772259712219238,
          8.41787052154541,
          8.222189903259277,
          9.417417526245117,
          7.7882585525512695,
          7.9995317459106445,
          7.453903675079346,
          12.739086151123047,
          9.573746681213379,
          12.45710277557373,
          11.408597946166992,
          10.5432767868042,
          11.217999458312988,
          11.700284004211426,
          11.047511100769043,
          12.360393524169922,
          10.296833038330078,
          13.447157859802246,
          9.477158546447754,
          11.984321594238281,
          11.401195526123047,
          12.61053466796875,
          9.554483413696289,
          12.733500480651855,
          2.6149158477783203,
          -1.8990010023117065,
          -2.4481914043426514,
          -3.6758930683135986,
          -1.1124489307403564,
          -0.3045814335346222,
          -0.8351393938064575,
          -5.597565174102783,
          -0.7724780440330505,
          -1.3851277828216553,
          -1.7032912969589233,
          -1.0847197771072388,
          -2.646918773651123,
          -2.295698404312134,
          0.4501335024833679,
          0.746434211730957,
          -0.7470614314079285,
          -1.9969518184661865,
          -2.637723922729492,
          0.9780566692352295,
          -1.0740312337875366,
          -1.3655081987380981,
          -1.8414608240127563,
          -3.050764799118042,
          -0.5517162680625916,
          0.06041370704770088,
          -0.5248439311981201,
          0.04782560095191002,
          -1.3839012384414673,
          -0.7182743549346924,
          -1.4991198778152466,
          1.9864219427108765,
          0.29525279998779297,
          0.8998734354972839,
          -0.0677717924118042
         ],
         "y": [
          -5.018673419952393,
          -4.656936168670654,
          -8.396347045898438,
          -7.541902542114258,
          -9.254277229309082,
          -8.236839294433594,
          -6.363892078399658,
          -8.880708694458008,
          -6.13906192779541,
          -6.141429424285889,
          -8.802481651306152,
          -6.4380621910095215,
          -6.835408687591553,
          -9.019400596618652,
          -9.775956153869629,
          -9.769218444824219,
          -9.135428428649902,
          -3.468538999557495,
          -4.840365886688232,
          -3.3096091747283936,
          -5.27998161315918,
          -5.3680739402771,
          -5.014182090759277,
          -7.333204746246338,
          -5.64448356628418,
          -8.837835311889648,
          -5.611133098602295,
          -9.383339881896973,
          -8.61948013305664,
          -6.651951313018799,
          -7.692803382873535,
          -5.2414727210998535,
          -8.027254104614258,
          -6.870157241821289,
          -5.374894142150879,
          -5.2446675300598145,
          -2.5714190006256104,
          -6.48170804977417,
          -5.008896827697754,
          -2.894038438796997,
          -4.177412033081055,
          -5.698575496673584,
          -7.697801113128662,
          -8.144749641418457,
          -7.3796539306640625,
          -7.141371250152588,
          -9.203821182250977,
          -5.084079265594482,
          -7.875553607940674,
          -5.542451858520508,
          -8.216864585876465,
          -7.26603364944458,
          -0.9863563776016235,
          -0.5851513147354126,
          1.597610592842102,
          0.16823838651180267,
          -1.3058441877365112,
          -0.8057435750961304,
          4.146648406982422,
          6.506547451019287,
          -0.7892060279846191,
          4.276737213134766,
          3.6223816871643066,
          3.0606963634490967,
          3.5133767127990723,
          3.771113872528076,
          -0.36605316400527954,
          -1.5096060037612915,
          -1.5456668138504028,
          -1.5255573987960815,
          -0.01151697151362896,
          1.775022029876709,
          0.6805165410041809,
          -0.05549275502562523,
          0.6404581665992737,
          3.4375128746032715,
          0.5544038414955139,
          1.037682294845581,
          3.529071092605591,
          2.78279185295105,
          0.5063352584838867,
          1.6667405366897583,
          1.304308533668518,
          0.9452768564224243,
          1.3601694107055664,
          1.5207910537719727,
          2.2264862060546875
         ]
        },
        {
         "marker": {
          "color": "grey",
          "line": {
           "width": 1
          },
          "size": 10
         },
         "mode": "markers",
         "name": "Noise",
         "type": "scatter",
         "x": [
          14.46403694152832,
          14.02259349822998,
          6.466616153717041,
          8.689159393310547,
          12.310799598693848,
          9.649811744689941,
          6.040633201599121,
          -4.339219093322754,
          -6.507691383361816,
          -6.628371715545654,
          -3.1955230236053467,
          0.8409923315048218,
          -1.6283657550811768,
          -0.32283443212509155,
          -6.617549896240234,
          2.0051538944244385,
          -4.423395156860352,
          4.616490840911865,
          6.72540283203125,
          1.7425260543823242,
          -2.737977981567383,
          -4.399978160858154,
          2.028628349304199,
          2.2292628288269043,
          2.6644434928894043,
          -0.48313215374946594,
          -3.248506546020508,
          2.1277291774749756,
          -10.524925231933594,
          0.9042184948921204,
          1.4275321960449219,
          -3.237166166305542,
          2.7054715156555176,
          4.276139259338379,
          -1.8184397220611572,
          -0.01969783753156662,
          -6.4473876953125,
          5.450639247894287,
          2.0862269401550293,
          3.876228094100952,
          3.9195001125335693,
          0.8044532537460327,
          -3.8014190196990967,
          -11.302680969238281,
          -11.803930282592773,
          -8.550358772277832,
          -8.604331970214844,
          -12.105142593383789,
          -10.014394760131836,
          -14.088099479675293,
          -14.55918025970459,
          -9.37287425994873,
          -7.7858147621154785,
          -14.45683479309082,
          -14.333626747131348,
          -14.508360862731934
         ],
         "y": [
          -9.065109252929688,
          -8.958748817443848,
          -9.673542022705078,
          -10.18210506439209,
          -3.2856967449188232,
          -2.62666392326355,
          -6.224334239959717,
          -1.079155445098877,
          2.5645461082458496,
          2.8144946098327637,
          -1.1305842399597168,
          -2.558175563812256,
          5.208273410797119,
          -3.0649149417877197,
          2.50209641456604,
          -6.644205570220947,
          2.712059736251831,
          -3.059943675994873,
          -10.64286994934082,
          -2.2023730278015137,
          -1.4183738231658936,
          1.918793797492981,
          -6.650356769561768,
          2.8502347469329834,
          0.13200660049915314,
          4.495760440826416,
          3.6669983863830566,
          -6.741326808929443,
          2.5458483695983887,
          -2.7508249282836914,
          -0.3512443006038666,
          4.437405109405518,
          0.12544052302837372,
          1.2135539054870605,
          5.836266040802002,
          5.538041591644287,
          4.777966022491455,
          -9.714339256286621,
          3.4679813385009766,
          2.4611966609954834,
          1.6211776733398438,
          4.384305477142334,
          5.412291049957275,
          4.00361967086792,
          4.875810146331787,
          5.484608173370361,
          9.981123924255371,
          6.2486796379089355,
          10.383208274841309,
          6.299454212188721,
          6.206662654876709,
          5.572048187255859,
          9.268494606018066,
          10.142504692077637,
          10.089570999145508,
          7.354357719421387
         ]
        },
        {
         "marker": {
          "colorscale": [
           [
            0,
            "rgb(161, 105, 40)"
           ],
           [
            0.16666666666666666,
            "rgb(189, 146, 90)"
           ],
           [
            0.3333333333333333,
            "rgb(214, 189, 141)"
           ],
           [
            0.5,
            "rgb(237, 234, 194)"
           ],
           [
            0.6666666666666666,
            "rgb(181, 200, 184)"
           ],
           [
            0.8333333333333334,
            "rgb(121, 167, 172)"
           ],
           [
            1,
            "rgb(40, 135, 161)"
           ]
          ],
          "line": {
           "width": 1
          },
          "size": 10
         },
         "mode": "markers",
         "name": "Cluster 0",
         "type": "scatter",
         "x": [
          -11.533808708190918,
          -11.728903770446777,
          -9.015324592590332,
          -9.01800537109375,
          -9.732438087463379,
          -7.9946746826171875,
          -8.412667274475098,
          -9.930705070495605,
          -8.290858268737793,
          -9.486440658569336,
          -10.459782600402832,
          -10.842437744140625,
          -11.75734806060791,
          -13.07785415649414,
          -13.588577270507812,
          -12.482367515563965,
          -11.18931770324707,
          -11.919548034667969,
          -10.903739929199219,
          -9.046895980834961,
          -8.41773509979248,
          -10.662007331848145,
          -11.921116828918457,
          -10.154864311218262,
          -13.570934295654297,
          -11.562623977661133,
          -13.732617378234863,
          -10.456704139709473,
          -11.176947593688965,
          -12.50575065612793,
          -10.84970760345459,
          -12.342716217041016,
          -12.916757583618164,
          -12.942214012145996,
          -13.084068298339844
         ],
         "y": [
          5.129134178161621,
          5.2527031898498535,
          6.089006423950195,
          9.674675941467285,
          8.192306518554688,
          8.208234786987305,
          7.711029052734375,
          6.884697914123535,
          7.937587261199951,
          8.954115867614746,
          6.8272624015808105,
          9.038566589355469,
          8.519097328186035,
          6.662467002868652,
          6.188584327697754,
          9.83770751953125,
          9.981598854064941,
          9.3152437210083,
          8.632513999938965,
          7.839845657348633,
          8.172718048095703,
          6.431013584136963,
          7.989654064178467,
          9.151287078857422,
          8.11805248260498,
          7.663715362548828,
          8.093992233276367,
          6.1292724609375,
          7.5269775390625,
          8.69914436340332,
          9.846749305725098,
          8.352023124694824,
          7.216577053070068,
          7.5945234298706055,
          9.405322074890137
         ]
        }
       ],
       "layout": {
        "autosize": false,
        "height": 700,
        "template": {
         "data": {
          "bar": [
           {
            "error_x": {
             "color": "#2a3f5f"
            },
            "error_y": {
             "color": "#2a3f5f"
            },
            "marker": {
             "line": {
              "color": "#E5ECF6",
              "width": 0.5
             }
            },
            "type": "bar"
           }
          ],
          "barpolar": [
           {
            "marker": {
             "line": {
              "color": "#E5ECF6",
              "width": 0.5
             }
            },
            "type": "barpolar"
           }
          ],
          "carpet": [
           {
            "aaxis": {
             "endlinecolor": "#2a3f5f",
             "gridcolor": "white",
             "linecolor": "white",
             "minorgridcolor": "white",
             "startlinecolor": "#2a3f5f"
            },
            "baxis": {
             "endlinecolor": "#2a3f5f",
             "gridcolor": "white",
             "linecolor": "white",
             "minorgridcolor": "white",
             "startlinecolor": "#2a3f5f"
            },
            "type": "carpet"
           }
          ],
          "choropleth": [
           {
            "colorbar": {
             "outlinewidth": 0,
             "ticks": ""
            },
            "type": "choropleth"
           }
          ],
          "contour": [
           {
            "colorbar": {
             "outlinewidth": 0,
             "ticks": ""
            },
            "colorscale": [
             [
              0,
              "#0d0887"
             ],
             [
              0.1111111111111111,
              "#46039f"
             ],
             [
              0.2222222222222222,
              "#7201a8"
             ],
             [
              0.3333333333333333,
              "#9c179e"
             ],
             [
              0.4444444444444444,
              "#bd3786"
             ],
             [
              0.5555555555555556,
              "#d8576b"
             ],
             [
              0.6666666666666666,
              "#ed7953"
             ],
             [
              0.7777777777777778,
              "#fb9f3a"
             ],
             [
              0.8888888888888888,
              "#fdca26"
             ],
             [
              1,
              "#f0f921"
             ]
            ],
            "type": "contour"
           }
          ],
          "contourcarpet": [
           {
            "colorbar": {
             "outlinewidth": 0,
             "ticks": ""
            },
            "type": "contourcarpet"
           }
          ],
          "heatmap": [
           {
            "colorbar": {
             "outlinewidth": 0,
             "ticks": ""
            },
            "colorscale": [
             [
              0,
              "#0d0887"
             ],
             [
              0.1111111111111111,
              "#46039f"
             ],
             [
              0.2222222222222222,
              "#7201a8"
             ],
             [
              0.3333333333333333,
              "#9c179e"
             ],
             [
              0.4444444444444444,
              "#bd3786"
             ],
             [
              0.5555555555555556,
              "#d8576b"
             ],
             [
              0.6666666666666666,
              "#ed7953"
             ],
             [
              0.7777777777777778,
              "#fb9f3a"
             ],
             [
              0.8888888888888888,
              "#fdca26"
             ],
             [
              1,
              "#f0f921"
             ]
            ],
            "type": "heatmap"
           }
          ],
          "heatmapgl": [
           {
            "colorbar": {
             "outlinewidth": 0,
             "ticks": ""
            },
            "colorscale": [
             [
              0,
              "#0d0887"
             ],
             [
              0.1111111111111111,
              "#46039f"
             ],
             [
              0.2222222222222222,
              "#7201a8"
             ],
             [
              0.3333333333333333,
              "#9c179e"
             ],
             [
              0.4444444444444444,
              "#bd3786"
             ],
             [
              0.5555555555555556,
              "#d8576b"
             ],
             [
              0.6666666666666666,
              "#ed7953"
             ],
             [
              0.7777777777777778,
              "#fb9f3a"
             ],
             [
              0.8888888888888888,
              "#fdca26"
             ],
             [
              1,
              "#f0f921"
             ]
            ],
            "type": "heatmapgl"
           }
          ],
          "histogram": [
           {
            "marker": {
             "colorbar": {
              "outlinewidth": 0,
              "ticks": ""
             }
            },
            "type": "histogram"
           }
          ],
          "histogram2d": [
           {
            "colorbar": {
             "outlinewidth": 0,
             "ticks": ""
            },
            "colorscale": [
             [
              0,
              "#0d0887"
             ],
             [
              0.1111111111111111,
              "#46039f"
             ],
             [
              0.2222222222222222,
              "#7201a8"
             ],
             [
              0.3333333333333333,
              "#9c179e"
             ],
             [
              0.4444444444444444,
              "#bd3786"
             ],
             [
              0.5555555555555556,
              "#d8576b"
             ],
             [
              0.6666666666666666,
              "#ed7953"
             ],
             [
              0.7777777777777778,
              "#fb9f3a"
             ],
             [
              0.8888888888888888,
              "#fdca26"
             ],
             [
              1,
              "#f0f921"
             ]
            ],
            "type": "histogram2d"
           }
          ],
          "histogram2dcontour": [
           {
            "colorbar": {
             "outlinewidth": 0,
             "ticks": ""
            },
            "colorscale": [
             [
              0,
              "#0d0887"
             ],
             [
              0.1111111111111111,
              "#46039f"
             ],
             [
              0.2222222222222222,
              "#7201a8"
             ],
             [
              0.3333333333333333,
              "#9c179e"
             ],
             [
              0.4444444444444444,
              "#bd3786"
             ],
             [
              0.5555555555555556,
              "#d8576b"
             ],
             [
              0.6666666666666666,
              "#ed7953"
             ],
             [
              0.7777777777777778,
              "#fb9f3a"
             ],
             [
              0.8888888888888888,
              "#fdca26"
             ],
             [
              1,
              "#f0f921"
             ]
            ],
            "type": "histogram2dcontour"
           }
          ],
          "mesh3d": [
           {
            "colorbar": {
             "outlinewidth": 0,
             "ticks": ""
            },
            "type": "mesh3d"
           }
          ],
          "parcoords": [
           {
            "line": {
             "colorbar": {
              "outlinewidth": 0,
              "ticks": ""
             }
            },
            "type": "parcoords"
           }
          ],
          "scatter": [
           {
            "marker": {
             "colorbar": {
              "outlinewidth": 0,
              "ticks": ""
             }
            },
            "type": "scatter"
           }
          ],
          "scatter3d": [
           {
            "line": {
             "colorbar": {
              "outlinewidth": 0,
              "ticks": ""
             }
            },
            "marker": {
             "colorbar": {
              "outlinewidth": 0,
              "ticks": ""
             }
            },
            "type": "scatter3d"
           }
          ],
          "scattercarpet": [
           {
            "marker": {
             "colorbar": {
              "outlinewidth": 0,
              "ticks": ""
             }
            },
            "type": "scattercarpet"
           }
          ],
          "scattergeo": [
           {
            "marker": {
             "colorbar": {
              "outlinewidth": 0,
              "ticks": ""
             }
            },
            "type": "scattergeo"
           }
          ],
          "scattergl": [
           {
            "marker": {
             "colorbar": {
              "outlinewidth": 0,
              "ticks": ""
             }
            },
            "type": "scattergl"
           }
          ],
          "scattermapbox": [
           {
            "marker": {
             "colorbar": {
              "outlinewidth": 0,
              "ticks": ""
             }
            },
            "type": "scattermapbox"
           }
          ],
          "scatterpolar": [
           {
            "marker": {
             "colorbar": {
              "outlinewidth": 0,
              "ticks": ""
             }
            },
            "type": "scatterpolar"
           }
          ],
          "scatterpolargl": [
           {
            "marker": {
             "colorbar": {
              "outlinewidth": 0,
              "ticks": ""
             }
            },
            "type": "scatterpolargl"
           }
          ],
          "scatterternary": [
           {
            "marker": {
             "colorbar": {
              "outlinewidth": 0,
              "ticks": ""
             }
            },
            "type": "scatterternary"
           }
          ],
          "surface": [
           {
            "colorbar": {
             "outlinewidth": 0,
             "ticks": ""
            },
            "colorscale": [
             [
              0,
              "#0d0887"
             ],
             [
              0.1111111111111111,
              "#46039f"
             ],
             [
              0.2222222222222222,
              "#7201a8"
             ],
             [
              0.3333333333333333,
              "#9c179e"
             ],
             [
              0.4444444444444444,
              "#bd3786"
             ],
             [
              0.5555555555555556,
              "#d8576b"
             ],
             [
              0.6666666666666666,
              "#ed7953"
             ],
             [
              0.7777777777777778,
              "#fb9f3a"
             ],
             [
              0.8888888888888888,
              "#fdca26"
             ],
             [
              1,
              "#f0f921"
             ]
            ],
            "type": "surface"
           }
          ],
          "table": [
           {
            "cells": {
             "fill": {
              "color": "#EBF0F8"
             },
             "line": {
              "color": "white"
             }
            },
            "header": {
             "fill": {
              "color": "#C8D4E3"
             },
             "line": {
              "color": "white"
             }
            },
            "type": "table"
           }
          ]
         },
         "layout": {
          "annotationdefaults": {
           "arrowcolor": "#2a3f5f",
           "arrowhead": 0,
           "arrowwidth": 1
          },
          "colorscale": {
           "diverging": [
            [
             0,
             "#8e0152"
            ],
            [
             0.1,
             "#c51b7d"
            ],
            [
             0.2,
             "#de77ae"
            ],
            [
             0.3,
             "#f1b6da"
            ],
            [
             0.4,
             "#fde0ef"
            ],
            [
             0.5,
             "#f7f7f7"
            ],
            [
             0.6,
             "#e6f5d0"
            ],
            [
             0.7,
             "#b8e186"
            ],
            [
             0.8,
             "#7fbc41"
            ],
            [
             0.9,
             "#4d9221"
            ],
            [
             1,
             "#276419"
            ]
           ],
           "sequential": [
            [
             0,
             "#0d0887"
            ],
            [
             0.1111111111111111,
             "#46039f"
            ],
            [
             0.2222222222222222,
             "#7201a8"
            ],
            [
             0.3333333333333333,
             "#9c179e"
            ],
            [
             0.4444444444444444,
             "#bd3786"
            ],
            [
             0.5555555555555556,
             "#d8576b"
            ],
            [
             0.6666666666666666,
             "#ed7953"
            ],
            [
             0.7777777777777778,
             "#fb9f3a"
            ],
            [
             0.8888888888888888,
             "#fdca26"
            ],
            [
             1,
             "#f0f921"
            ]
           ],
           "sequentialminus": [
            [
             0,
             "#0d0887"
            ],
            [
             0.1111111111111111,
             "#46039f"
            ],
            [
             0.2222222222222222,
             "#7201a8"
            ],
            [
             0.3333333333333333,
             "#9c179e"
            ],
            [
             0.4444444444444444,
             "#bd3786"
            ],
            [
             0.5555555555555556,
             "#d8576b"
            ],
            [
             0.6666666666666666,
             "#ed7953"
            ],
            [
             0.7777777777777778,
             "#fb9f3a"
            ],
            [
             0.8888888888888888,
             "#fdca26"
            ],
            [
             1,
             "#f0f921"
            ]
           ]
          },
          "colorway": [
           "#636efa",
           "#EF553B",
           "#00cc96",
           "#ab63fa",
           "#FFA15A",
           "#19d3f3",
           "#FF6692",
           "#B6E880",
           "#FF97FF",
           "#FECB52"
          ],
          "font": {
           "color": "#2a3f5f"
          },
          "geo": {
           "bgcolor": "white",
           "lakecolor": "white",
           "landcolor": "#E5ECF6",
           "showlakes": true,
           "showland": true,
           "subunitcolor": "white"
          },
          "hoverlabel": {
           "align": "left"
          },
          "hovermode": "closest",
          "mapbox": {
           "style": "light"
          },
          "paper_bgcolor": "white",
          "plot_bgcolor": "#E5ECF6",
          "polar": {
           "angularaxis": {
            "gridcolor": "white",
            "linecolor": "white",
            "ticks": ""
           },
           "bgcolor": "#E5ECF6",
           "radialaxis": {
            "gridcolor": "white",
            "linecolor": "white",
            "ticks": ""
           }
          },
          "scene": {
           "xaxis": {
            "backgroundcolor": "#E5ECF6",
            "gridcolor": "white",
            "gridwidth": 2,
            "linecolor": "white",
            "showbackground": true,
            "ticks": "",
            "zerolinecolor": "white"
           },
           "yaxis": {
            "backgroundcolor": "#E5ECF6",
            "gridcolor": "white",
            "gridwidth": 2,
            "linecolor": "white",
            "showbackground": true,
            "ticks": "",
            "zerolinecolor": "white"
           },
           "zaxis": {
            "backgroundcolor": "#E5ECF6",
            "gridcolor": "white",
            "gridwidth": 2,
            "linecolor": "white",
            "showbackground": true,
            "ticks": "",
            "zerolinecolor": "white"
           }
          },
          "shapedefaults": {
           "line": {
            "color": "#2a3f5f"
           }
          },
          "ternary": {
           "aaxis": {
            "gridcolor": "white",
            "linecolor": "white",
            "ticks": ""
           },
           "baxis": {
            "gridcolor": "white",
            "linecolor": "white",
            "ticks": ""
           },
           "bgcolor": "#E5ECF6",
           "caxis": {
            "gridcolor": "white",
            "linecolor": "white",
            "ticks": ""
           }
          },
          "title": {
           "x": 0.05
          },
          "xaxis": {
           "automargin": true,
           "gridcolor": "white",
           "linecolor": "white",
           "ticks": "",
           "zerolinecolor": "white",
           "zerolinewidth": 2
          },
          "yaxis": {
           "automargin": true,
           "gridcolor": "white",
           "linecolor": "white",
           "ticks": "",
           "zerolinecolor": "white",
           "zerolinewidth": 2
          }
         }
        },
        "title": {
         "font": {
          "size": 25
         },
         "text": "HDBSCAN Cluster"
        },
        "width": 700,
        "xaxis": {
         "autorange": true,
         "range": [
          -16.634170426834277,
          16.539027108658008
         ],
         "title": {
          "text": "ts1"
         },
         "type": "linear",
         "zeroline": false
        },
        "yaxis": {
         "autorange": true,
         "range": [
          -12.131543983874023,
          11.871882309374511
         ],
         "title": {
          "text": "ts2"
         },
         "type": "linear",
         "zeroline": false
        }
       }
      },
      "image/png": "[encoded data removed]",
      "text/html": [
       "<div>\n",
       "        \n",
       "        \n",
       "            <div id=\"cdafe09c-fdea-4df0-bea2-e0626cc1bd3c\" class=\"plotly-graph-div\" style=\"height:700px; width:700px;\"></div>\n",
       "            <script type=\"text/javascript\">\n",
       "                require([\"plotly\"], function(Plotly) {\n",
       "                    window.PLOTLYENV=window.PLOTLYENV || {};\n",
       "                    \n",
       "                if (document.getElementById(\"cdafe09c-fdea-4df0-bea2-e0626cc1bd3c\")) {\n",
       "                    Plotly.newPlot(\n",
       "                        'cdafe09c-fdea-4df0-bea2-e0626cc1bd3c',\n",
       "                        [{\"marker\": {\"colorscale\": [[0.0, \"rgb(161, 105, 40)\"], [0.16666666666666666, \"rgb(189, 146, 90)\"], [0.3333333333333333, \"rgb(214, 189, 141)\"], [0.5, \"rgb(237, 234, 194)\"], [0.6666666666666666, \"rgb(181, 200, 184)\"], [0.8333333333333334, \"rgb(121, 167, 172)\"], [1.0, \"rgb(40, 135, 161)\"]], \"line\": {\"width\": 1}, \"size\": 10}, \"mode\": \"markers\", \"name\": \"Cluster 1\", \"type\": \"scatter\", \"x\": [13.362082481384277, 7.614982604980469, 10.785046577453613, 13.646588325500488, 6.982819080352783, 12.933856010437012, 10.286088943481445, 8.714098930358887, 10.905324935913086, 11.627729415893555, 11.972405433654785, 9.20927619934082, 9.689129829406738, 9.485979080200195, 10.001043319702148, 9.619839668273926, 12.872049331665039, 11.771188735961914, 13.068999290466309, 9.163907051086426, 9.740407943725586, 8.629447937011719, 8.886247634887695, 9.113778114318848, 7.747613430023193, 7.855149269104004, 10.318921089172363, 10.790640830993652, 11.772259712219238, 8.41787052154541, 8.222189903259277, 9.417417526245117, 7.7882585525512695, 7.9995317459106445, 7.453903675079346, 12.739086151123047, 9.573746681213379, 12.45710277557373, 11.408597946166992, 10.5432767868042, 11.217999458312988, 11.700284004211426, 11.047511100769043, 12.360393524169922, 10.296833038330078, 13.447157859802246, 9.477158546447754, 11.984321594238281, 11.401195526123047, 12.61053466796875, 9.554483413696289, 12.733500480651855, 2.6149158477783203, -1.8990010023117065, -2.4481914043426514, -3.6758930683135986, -1.1124489307403564, -0.3045814335346222, -0.8351393938064575, -5.597565174102783, -0.7724780440330505, -1.3851277828216553, -1.7032912969589233, -1.0847197771072388, -2.646918773651123, -2.295698404312134, 0.4501335024833679, 0.746434211730957, -0.7470614314079285, -1.9969518184661865, -2.637723922729492, 0.9780566692352295, -1.0740312337875366, -1.3655081987380981, -1.8414608240127563, -3.050764799118042, -0.5517162680625916, 0.06041370704770088, -0.5248439311981201, 0.04782560095191002, -1.3839012384414673, -0.7182743549346924, -1.4991198778152466, 1.9864219427108765, 0.29525279998779297, 0.8998734354972839, -0.0677717924118042], \"y\": [-5.018673419952393, -4.656936168670654, -8.396347045898438, -7.541902542114258, -9.254277229309082, -8.236839294433594, -6.363892078399658, -8.880708694458008, -6.13906192779541, -6.141429424285889, -8.802481651306152, -6.4380621910095215, -6.835408687591553, -9.019400596618652, -9.775956153869629, -9.769218444824219, -9.135428428649902, -3.468538999557495, -4.840365886688232, -3.3096091747283936, -5.27998161315918, -5.3680739402771, -5.014182090759277, -7.333204746246338, -5.64448356628418, -8.837835311889648, -5.611133098602295, -9.383339881896973, -8.61948013305664, -6.651951313018799, -7.692803382873535, -5.2414727210998535, -8.027254104614258, -6.870157241821289, -5.374894142150879, -5.2446675300598145, -2.5714190006256104, -6.48170804977417, -5.008896827697754, -2.894038438796997, -4.177412033081055, -5.698575496673584, -7.697801113128662, -8.144749641418457, -7.3796539306640625, -7.141371250152588, -9.203821182250977, -5.084079265594482, -7.875553607940674, -5.542451858520508, -8.216864585876465, -7.26603364944458, -0.9863563776016235, -0.5851513147354126, 1.597610592842102, 0.16823838651180267, -1.3058441877365112, -0.8057435750961304, 4.146648406982422, 6.506547451019287, -0.7892060279846191, 4.276737213134766, 3.6223816871643066, 3.0606963634490967, 3.5133767127990723, 3.771113872528076, -0.36605316400527954, -1.5096060037612915, -1.5456668138504028, -1.5255573987960815, -0.01151697151362896, 1.775022029876709, 0.6805165410041809, -0.05549275502562523, 0.6404581665992737, 3.4375128746032715, 0.5544038414955139, 1.037682294845581, 3.529071092605591, 2.78279185295105, 0.5063352584838867, 1.6667405366897583, 1.304308533668518, 0.9452768564224243, 1.3601694107055664, 1.5207910537719727, 2.2264862060546875]}, {\"marker\": {\"color\": \"grey\", \"line\": {\"width\": 1}, \"size\": 10}, \"mode\": \"markers\", \"name\": \"Noise\", \"type\": \"scatter\", \"x\": [14.46403694152832, 14.02259349822998, 6.466616153717041, 8.689159393310547, 12.310799598693848, 9.649811744689941, 6.040633201599121, -4.339219093322754, -6.507691383361816, -6.628371715545654, -3.1955230236053467, 0.8409923315048218, -1.6283657550811768, -0.32283443212509155, -6.617549896240234, 2.0051538944244385, -4.423395156860352, 4.616490840911865, 6.72540283203125, 1.7425260543823242, -2.737977981567383, -4.399978160858154, 2.028628349304199, 2.2292628288269043, 2.6644434928894043, -0.48313215374946594, -3.248506546020508, 2.1277291774749756, -10.524925231933594, 0.9042184948921204, 1.4275321960449219, -3.237166166305542, 2.7054715156555176, 4.276139259338379, -1.8184397220611572, -0.01969783753156662, -6.4473876953125, 5.450639247894287, 2.0862269401550293, 3.876228094100952, 3.9195001125335693, 0.8044532537460327, -3.8014190196990967, -11.302680969238281, -11.803930282592773, -8.550358772277832, -8.604331970214844, -12.105142593383789, -10.014394760131836, -14.088099479675293, -14.55918025970459, -9.37287425994873, -7.7858147621154785, -14.45683479309082, -14.333626747131348, -14.508360862731934], \"y\": [-9.065109252929688, -8.958748817443848, -9.673542022705078, -10.18210506439209, -3.2856967449188232, -2.62666392326355, -6.224334239959717, -1.079155445098877, 2.5645461082458496, 2.8144946098327637, -1.1305842399597168, -2.558175563812256, 5.208273410797119, -3.0649149417877197, 2.50209641456604, -6.644205570220947, 2.712059736251831, -3.059943675994873, -10.64286994934082, -2.2023730278015137, -1.4183738231658936, 1.918793797492981, -6.650356769561768, 2.8502347469329834, 0.13200660049915314, 4.495760440826416, 3.6669983863830566, -6.741326808929443, 2.5458483695983887, -2.7508249282836914, -0.3512443006038666, 4.437405109405518, 0.12544052302837372, 1.2135539054870605, 5.836266040802002, 5.538041591644287, 4.777966022491455, -9.714339256286621, 3.4679813385009766, 2.4611966609954834, 1.6211776733398438, 4.384305477142334, 5.412291049957275, 4.00361967086792, 4.875810146331787, 5.484608173370361, 9.981123924255371, 6.2486796379089355, 10.383208274841309, 6.299454212188721, 6.206662654876709, 5.572048187255859, 9.268494606018066, 10.142504692077637, 10.089570999145508, 7.354357719421387]}, {\"marker\": {\"colorscale\": [[0.0, \"rgb(161, 105, 40)\"], [0.16666666666666666, \"rgb(189, 146, 90)\"], [0.3333333333333333, \"rgb(214, 189, 141)\"], [0.5, \"rgb(237, 234, 194)\"], [0.6666666666666666, \"rgb(181, 200, 184)\"], [0.8333333333333334, \"rgb(121, 167, 172)\"], [1.0, \"rgb(40, 135, 161)\"]], \"line\": {\"width\": 1}, \"size\": 10}, \"mode\": \"markers\", \"name\": \"Cluster 0\", \"type\": \"scatter\", \"x\": [-11.533808708190918, -11.728903770446777, -9.015324592590332, -9.01800537109375, -9.732438087463379, -7.9946746826171875, -8.412667274475098, -9.930705070495605, -8.290858268737793, -9.486440658569336, -10.459782600402832, -10.842437744140625, -11.75734806060791, -13.07785415649414, -13.588577270507812, -12.482367515563965, -11.18931770324707, -11.919548034667969, -10.903739929199219, -9.046895980834961, -8.41773509979248, -10.662007331848145, -11.921116828918457, -10.154864311218262, -13.570934295654297, -11.562623977661133, -13.732617378234863, -10.456704139709473, -11.176947593688965, -12.50575065612793, -10.84970760345459, -12.342716217041016, -12.916757583618164, -12.942214012145996, -13.084068298339844], \"y\": [5.129134178161621, 5.2527031898498535, 6.089006423950195, 9.674675941467285, 8.192306518554688, 8.208234786987305, 7.711029052734375, 6.884697914123535, 7.937587261199951, 8.954115867614746, 6.8272624015808105, 9.038566589355469, 8.519097328186035, 6.662467002868652, 6.188584327697754, 9.83770751953125, 9.981598854064941, 9.3152437210083, 8.632513999938965, 7.839845657348633, 8.172718048095703, 6.431013584136963, 7.989654064178467, 9.151287078857422, 8.11805248260498, 7.663715362548828, 8.093992233276367, 6.1292724609375, 7.5269775390625, 8.69914436340332, 9.846749305725098, 8.352023124694824, 7.216577053070068, 7.5945234298706055, 9.405322074890137]}],\n",
       "                        {\"autosize\": false, \"height\": 700, \"template\": {\"data\": {\"bar\": [{\"error_x\": {\"color\": \"#2a3f5f\"}, \"error_y\": {\"color\": \"#2a3f5f\"}, \"marker\": {\"line\": {\"color\": \"#E5ECF6\", \"width\": 0.5}}, \"type\": \"bar\"}], \"barpolar\": [{\"marker\": {\"line\": {\"color\": \"#E5ECF6\", \"width\": 0.5}}, \"type\": \"barpolar\"}], \"carpet\": [{\"aaxis\": {\"endlinecolor\": \"#2a3f5f\", \"gridcolor\": \"white\", \"linecolor\": \"white\", \"minorgridcolor\": \"white\", \"startlinecolor\": \"#2a3f5f\"}, \"baxis\": {\"endlinecolor\": \"#2a3f5f\", \"gridcolor\": \"white\", \"linecolor\": \"white\", \"minorgridcolor\": \"white\", \"startlinecolor\": \"#2a3f5f\"}, \"type\": \"carpet\"}], \"choropleth\": [{\"colorbar\": {\"outlinewidth\": 0, \"ticks\": \"\"}, \"type\": \"choropleth\"}], \"contour\": [{\"colorbar\": {\"outlinewidth\": 0, \"ticks\": \"\"}, \"colorscale\": [[0.0, \"#0d0887\"], [0.1111111111111111, \"#46039f\"], [0.2222222222222222, \"#7201a8\"], [0.3333333333333333, \"#9c179e\"], [0.4444444444444444, \"#bd3786\"], [0.5555555555555556, \"#d8576b\"], [0.6666666666666666, \"#ed7953\"], [0.7777777777777778, \"#fb9f3a\"], [0.8888888888888888, \"#fdca26\"], [1.0, \"#f0f921\"]], \"type\": \"contour\"}], \"contourcarpet\": [{\"colorbar\": {\"outlinewidth\": 0, \"ticks\": \"\"}, \"type\": \"contourcarpet\"}], \"heatmap\": [{\"colorbar\": {\"outlinewidth\": 0, \"ticks\": \"\"}, \"colorscale\": [[0.0, \"#0d0887\"], [0.1111111111111111, \"#46039f\"], [0.2222222222222222, \"#7201a8\"], [0.3333333333333333, \"#9c179e\"], [0.4444444444444444, \"#bd3786\"], [0.5555555555555556, \"#d8576b\"], [0.6666666666666666, \"#ed7953\"], [0.7777777777777778, \"#fb9f3a\"], [0.8888888888888888, \"#fdca26\"], [1.0, \"#f0f921\"]], \"type\": \"heatmap\"}], \"heatmapgl\": [{\"colorbar\": {\"outlinewidth\": 0, \"ticks\": \"\"}, \"colorscale\": [[0.0, \"#0d0887\"], [0.1111111111111111, \"#46039f\"], [0.2222222222222222, \"#7201a8\"], [0.3333333333333333, \"#9c179e\"], [0.4444444444444444, \"#bd3786\"], [0.5555555555555556, \"#d8576b\"], [0.6666666666666666, \"#ed7953\"], [0.7777777777777778, \"#fb9f3a\"], [0.8888888888888888, \"#fdca26\"], [1.0, \"#f0f921\"]], \"type\": \"heatmapgl\"}], \"histogram\": [{\"marker\": {\"colorbar\": {\"outlinewidth\": 0, \"ticks\": \"\"}}, \"type\": \"histogram\"}], \"histogram2d\": [{\"colorbar\": {\"outlinewidth\": 0, \"ticks\": \"\"}, \"colorscale\": [[0.0, \"#0d0887\"], [0.1111111111111111, \"#46039f\"], [0.2222222222222222, \"#7201a8\"], [0.3333333333333333, \"#9c179e\"], [0.4444444444444444, \"#bd3786\"], [0.5555555555555556, \"#d8576b\"], [0.6666666666666666, \"#ed7953\"], [0.7777777777777778, \"#fb9f3a\"], [0.8888888888888888, \"#fdca26\"], [1.0, \"#f0f921\"]], \"type\": \"histogram2d\"}], \"histogram2dcontour\": [{\"colorbar\": {\"outlinewidth\": 0, \"ticks\": \"\"}, \"colorscale\": [[0.0, \"#0d0887\"], [0.1111111111111111, \"#46039f\"], [0.2222222222222222, \"#7201a8\"], [0.3333333333333333, \"#9c179e\"], [0.4444444444444444, \"#bd3786\"], [0.5555555555555556, \"#d8576b\"], [0.6666666666666666, \"#ed7953\"], [0.7777777777777778, \"#fb9f3a\"], [0.8888888888888888, \"#fdca26\"], [1.0, \"#f0f921\"]], \"type\": \"histogram2dcontour\"}], \"mesh3d\": [{\"colorbar\": {\"outlinewidth\": 0, \"ticks\": \"\"}, \"type\": \"mesh3d\"}], \"parcoords\": [{\"line\": {\"colorbar\": {\"outlinewidth\": 0, \"ticks\": \"\"}}, \"type\": \"parcoords\"}], \"scatter\": [{\"marker\": {\"colorbar\": {\"outlinewidth\": 0, \"ticks\": \"\"}}, \"type\": \"scatter\"}], \"scatter3d\": [{\"line\": {\"colorbar\": {\"outlinewidth\": 0, \"ticks\": \"\"}}, \"marker\": {\"colorbar\": {\"outlinewidth\": 0, \"ticks\": \"\"}}, \"type\": \"scatter3d\"}], \"scattercarpet\": [{\"marker\": {\"colorbar\": {\"outlinewidth\": 0, \"ticks\": \"\"}}, \"type\": \"scattercarpet\"}], \"scattergeo\": [{\"marker\": {\"colorbar\": {\"outlinewidth\": 0, \"ticks\": \"\"}}, \"type\": \"scattergeo\"}], \"scattergl\": [{\"marker\": {\"colorbar\": {\"outlinewidth\": 0, \"ticks\": \"\"}}, \"type\": \"scattergl\"}], \"scattermapbox\": [{\"marker\": {\"colorbar\": {\"outlinewidth\": 0, \"ticks\": \"\"}}, \"type\": \"scattermapbox\"}], \"scatterpolar\": [{\"marker\": {\"colorbar\": {\"outlinewidth\": 0, \"ticks\": \"\"}}, \"type\": \"scatterpolar\"}], \"scatterpolargl\": [{\"marker\": {\"colorbar\": {\"outlinewidth\": 0, \"ticks\": \"\"}}, \"type\": \"scatterpolargl\"}], \"scatterternary\": [{\"marker\": {\"colorbar\": {\"outlinewidth\": 0, \"ticks\": \"\"}}, \"type\": \"scatterternary\"}], \"surface\": [{\"colorbar\": {\"outlinewidth\": 0, \"ticks\": \"\"}, \"colorscale\": [[0.0, \"#0d0887\"], [0.1111111111111111, \"#46039f\"], [0.2222222222222222, \"#7201a8\"], [0.3333333333333333, \"#9c179e\"], [0.4444444444444444, \"#bd3786\"], [0.5555555555555556, \"#d8576b\"], [0.6666666666666666, \"#ed7953\"], [0.7777777777777778, \"#fb9f3a\"], [0.8888888888888888, \"#fdca26\"], [1.0, \"#f0f921\"]], \"type\": \"surface\"}], \"table\": [{\"cells\": {\"fill\": {\"color\": \"#EBF0F8\"}, \"line\": {\"color\": \"white\"}}, \"header\": {\"fill\": {\"color\": \"#C8D4E3\"}, \"line\": {\"color\": \"white\"}}, \"type\": \"table\"}]}, \"layout\": {\"annotationdefaults\": {\"arrowcolor\": \"#2a3f5f\", \"arrowhead\": 0, \"arrowwidth\": 1}, \"colorscale\": {\"diverging\": [[0, \"#8e0152\"], [0.1, \"#c51b7d\"], [0.2, \"#de77ae\"], [0.3, \"#f1b6da\"], [0.4, \"#fde0ef\"], [0.5, \"#f7f7f7\"], [0.6, \"#e6f5d0\"], [0.7, \"#b8e186\"], [0.8, \"#7fbc41\"], [0.9, \"#4d9221\"], [1, \"#276419\"]], \"sequential\": [[0.0, \"#0d0887\"], [0.1111111111111111, \"#46039f\"], [0.2222222222222222, \"#7201a8\"], [0.3333333333333333, \"#9c179e\"], [0.4444444444444444, \"#bd3786\"], [0.5555555555555556, \"#d8576b\"], [0.6666666666666666, \"#ed7953\"], [0.7777777777777778, \"#fb9f3a\"], [0.8888888888888888, \"#fdca26\"], [1.0, \"#f0f921\"]], \"sequentialminus\": [[0.0, \"#0d0887\"], [0.1111111111111111, \"#46039f\"], [0.2222222222222222, \"#7201a8\"], [0.3333333333333333, \"#9c179e\"], [0.4444444444444444, \"#bd3786\"], [0.5555555555555556, \"#d8576b\"], [0.6666666666666666, \"#ed7953\"], [0.7777777777777778, \"#fb9f3a\"], [0.8888888888888888, \"#fdca26\"], [1.0, \"#f0f921\"]]}, \"colorway\": [\"#636efa\", \"#EF553B\", \"#00cc96\", \"#ab63fa\", \"#FFA15A\", \"#19d3f3\", \"#FF6692\", \"#B6E880\", \"#FF97FF\", \"#FECB52\"], \"font\": {\"color\": \"#2a3f5f\"}, \"geo\": {\"bgcolor\": \"white\", \"lakecolor\": \"white\", \"landcolor\": \"#E5ECF6\", \"showlakes\": true, \"showland\": true, \"subunitcolor\": \"white\"}, \"hoverlabel\": {\"align\": \"left\"}, \"hovermode\": \"closest\", \"mapbox\": {\"style\": \"light\"}, \"paper_bgcolor\": \"white\", \"plot_bgcolor\": \"#E5ECF6\", \"polar\": {\"angularaxis\": {\"gridcolor\": \"white\", \"linecolor\": \"white\", \"ticks\": \"\"}, \"bgcolor\": \"#E5ECF6\", \"radialaxis\": {\"gridcolor\": \"white\", \"linecolor\": \"white\", \"ticks\": \"\"}}, \"scene\": {\"xaxis\": {\"backgroundcolor\": \"#E5ECF6\", \"gridcolor\": \"white\", \"gridwidth\": 2, \"linecolor\": \"white\", \"showbackground\": true, \"ticks\": \"\", \"zerolinecolor\": \"white\"}, \"yaxis\": {\"backgroundcolor\": \"#E5ECF6\", \"gridcolor\": \"white\", \"gridwidth\": 2, \"linecolor\": \"white\", \"showbackground\": true, \"ticks\": \"\", \"zerolinecolor\": \"white\"}, \"zaxis\": {\"backgroundcolor\": \"#E5ECF6\", \"gridcolor\": \"white\", \"gridwidth\": 2, \"linecolor\": \"white\", \"showbackground\": true, \"ticks\": \"\", \"zerolinecolor\": \"white\"}}, \"shapedefaults\": {\"line\": {\"color\": \"#2a3f5f\"}}, \"ternary\": {\"aaxis\": {\"gridcolor\": \"white\", \"linecolor\": \"white\", \"ticks\": \"\"}, \"baxis\": {\"gridcolor\": \"white\", \"linecolor\": \"white\", \"ticks\": \"\"}, \"bgcolor\": \"#E5ECF6\", \"caxis\": {\"gridcolor\": \"white\", \"linecolor\": \"white\", \"ticks\": \"\"}}, \"title\": {\"x\": 0.05}, \"xaxis\": {\"automargin\": true, \"gridcolor\": \"white\", \"linecolor\": \"white\", \"ticks\": \"\", \"zerolinecolor\": \"white\", \"zerolinewidth\": 2}, \"yaxis\": {\"automargin\": true, \"gridcolor\": \"white\", \"linecolor\": \"white\", \"ticks\": \"\", \"zerolinecolor\": \"white\", \"zerolinewidth\": 2}}}, \"title\": {\"font\": {\"size\": 25}, \"text\": \"HDBSCAN Cluster\"}, \"width\": 700, \"xaxis\": {\"title\": {\"text\": \"ts1\"}, \"zeroline\": false}, \"yaxis\": {\"title\": {\"text\": \"ts2\"}, \"zeroline\": false}},\n",
       "                        {\"responsive\": true}\n",
       "                    ).then(function(){\n",
       "                            \n",
       "var gd = document.getElementById('cdafe09c-fdea-4df0-bea2-e0626cc1bd3c');\n",
       "var x = new MutationObserver(function (mutations, observer) {{\n",
       "        var display = window.getComputedStyle(gd).display;\n",
       "        if (!display || display === 'none') {{\n",
       "            console.log([gd, 'removed!']);\n",
       "            Plotly.purge(gd);\n",
       "            observer.disconnect();\n",
       "        }}\n",
       "}});\n",
       "\n",
       "// Listen for the removal of the full notebook cells\n",
       "var notebookContainer = gd.closest('#notebook-container');\n",
       "if (notebookContainer) {{\n",
       "    x.observe(notebookContainer, {childList: true});\n",
       "}}\n",
       "\n",
       "// Listen for the clearing of the current output cell\n",
       "var outputEl = gd.closest('.output');\n",
       "if (outputEl) {{\n",
       "    x.observe(outputEl, {childList: true});\n",
       "}}\n",
       "\n",
       "                        })\n",
       "                };\n",
       "                });\n",
       "            </script>\n",
       "        </div>"
      ]
     },
     "metadata": {},
     "output_type": "display_data"
    }
   ],
   "source": [
    "cluster(df, method='HDBSCAN', dim_method='tsne')"
   ]
  }
 ],
 "metadata": {
  "kernelspec": {
   "display_name": "Python 3",
   "language": "python",
   "name": "python3"
  },
  "language_info": {
   "codemirror_mode": {
    "name": "ipython",
    "version": 3
   },
   "file_extension": ".py",
   "mimetype": "text/x-python",
   "name": "python",
   "nbconvert_exporter": "python",
   "pygments_lexer": "ipython3",
   "version": "3.7.6"
  }
 },
 "nbformat": 4,
 "nbformat_minor": 4
}
